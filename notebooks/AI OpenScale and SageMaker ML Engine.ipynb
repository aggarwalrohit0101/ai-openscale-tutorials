{
 "cells": [
  {
   "cell_type": "markdown",
   "metadata": {},
   "source": [
    "<img src=\"https://github.com/pmservice/ai-openscale-tutorials/raw/master/notebooks/images/banner.png\" align=\"left\" alt=\"banner\">"
   ]
  },
  {
   "cell_type": "markdown",
   "metadata": {},
   "source": [
    "# Working with SageMaker Machine Learning engine"
   ]
  },
  {
   "cell_type": "markdown",
   "metadata": {},
   "source": [
    "This notebook shows how to log the payload for the model deployed on custom model serving engine using Watson OpenScale python sdk."
   ]
  },
  {
   "cell_type": "markdown",
   "metadata": {},
   "source": [
    "Contents\n",
    "1. Setup\n",
    "2. Binding machine learning engine\n",
    "3. Subscriptions\n",
    "4. Performance monitor, scoring and payload logging\n",
    "5. Quality monitor and feedback logging\n",
    "6. Fairness monitoring and explanations\n",
    "8. Payload analytics"
   ]
  },
  {
   "cell_type": "markdown",
   "metadata": {},
   "source": [
    "<a id=\"setup\"></a>\n",
    "## 1. Setup"
   ]
  },
  {
   "cell_type": "markdown",
   "metadata": {},
   "source": [
    "### Requirements installation"
   ]
  },
  {
   "cell_type": "code",
   "execution_count": 1,
   "metadata": {},
   "outputs": [
    {
     "name": "stdout",
     "output_type": "stream",
     "text": [
      "Requirement not upgraded as not directly required: docutils>=0.10 in /opt/conda/envs/DSX-Python35/lib/python3.5/site-packages (from ibm-cos-sdk-core==2.*,>=2.0.0->ibm-cos-sdk->watson-machine-learning-client->ibm-ai-openscale)\r\n"
     ]
    }
   ],
   "source": [
    "!pip install --upgrade ibm-ai-openscale --no-cache | tail -n 1"
   ]
  },
  {
   "cell_type": "code",
   "execution_count": 2,
   "metadata": {},
   "outputs": [
    {
     "name": "stdout",
     "output_type": "stream",
     "text": [
      "Requirement not upgraded as not directly required: pycparser in /opt/conda/envs/DSX-Python35/lib/python3.5/site-packages (from cffi>=1.7->cryptography>=1.5->paramiko>=2.4.2; extra == \"ssh\"->docker[ssh]<4.0,>=3.7.0->docker-compose>=1.23.0->sagemaker)\n",
      "Requirement not upgraded as not directly required: jmespath<1.0.0,>=0.7.1 in /opt/conda/envs/DSX-Python35/lib/python3.5/site-packages (from ibm-cos-sdk-core==2.*,>=2.0.0->ibm-cos-sdk->watson-machine-learning-client->ibm-ai-openscale)\n",
      "Requirement not upgraded as not directly required: six>=1.5 in /opt/conda/envs/DSX-Python35/lib/python3.5/site-packages (from python-dateutil<3.0.0,>=2.1; python_version >= \"2.7\"->botocore<1.13.0,>=1.12.130->boto3)\n",
      "Requirement not upgraded as not directly required: six>=1.5 in /opt/conda/envs/DSX-Python35/lib/python3.5/site-packages (from python-dateutil>=2.5.0->pandas)\n"
     ]
    }
   ],
   "source": [
    "!pip install sagemaker --no-cache | tail -n 1\n",
    "!pip install --upgrade ibm-ai-openscale --no-cache | tail -n 1\n",
    "!pip install --upgrade boto3 --no-cache | tail -n 1\n",
    "!pip install --upgrade pandas --no-cache | tail -n 1"
   ]
  },
  {
   "cell_type": "code",
   "execution_count": 3,
   "metadata": {},
   "outputs": [
    {
     "name": "stdout",
     "output_type": "stream",
     "text": [
      "Requirement not upgraded as not directly required: py4j==0.10.7 in /opt/conda/envs/DSX-Python35/lib/python3.5/site-packages (from pyspark)\n",
      "Requirement not upgraded as not directly required: olefile in /opt/conda/envs/DSX-Python35/lib/python3.5/site-packages (from pillow>=2.1.0->scikit-image>=0.12->lime)\n",
      "Requirement not upgraded as not directly required: six<2.0,>=1.6.1 in /opt/conda/envs/DSX-Python35/lib/python3.5/site-packages (from astunparse->pixiedust)\n"
     ]
    }
   ],
   "source": [
    "!pip install pyspark | tail -n 1\n",
    "!pip install lime | tail -n 1\n",
    "!pip install pixiedust | tail -n 1"
   ]
  },
  {
   "cell_type": "markdown",
   "metadata": {},
   "source": [
    "**Action:** Restart the kernel."
   ]
  },
  {
   "cell_type": "markdown",
   "metadata": {},
   "source": [
    "### Sample model creation using [Amazon SageMaker](https://aws.amazon.com/sagemaker/)"
   ]
  },
  {
   "cell_type": "markdown",
   "metadata": {},
   "source": [
    "- Download this [notebook](https://github.com/pmservice/ai-openscale-tutorials/blob/master/notebooks/Credit%20%20model%20with%20SageMaker%20linear-learner%20.ipynb) to create SageMaker model\n",
    "- Run the notebook to train a SageMaker model and create deployment endpoint for online inference"
   ]
  },
  {
   "cell_type": "markdown",
   "metadata": {},
   "source": [
    "### 1.2 Authentication"
   ]
  },
  {
   "cell_type": "markdown",
   "metadata": {},
   "source": [
    "Import and initiate."
   ]
  },
  {
   "cell_type": "code",
   "execution_count": 4,
   "metadata": {},
   "outputs": [
    {
     "name": "stderr",
     "output_type": "stream",
     "text": [
      "/opt/conda/envs/DSX-Python35/lib/python3.5/site-packages/sklearn/cross_validation.py:41: DeprecationWarning: This module was deprecated in version 0.18 in favor of the model_selection module into which all the refactored classes and functions are moved. Also note that the interface of the new CV iterators are different from that of this module. This module will be removed in 0.20.\n",
      "  \"This module will be removed in 0.20.\", DeprecationWarning)\n"
     ]
    }
   ],
   "source": [
    "from ibm_ai_openscale import APIClient\n",
    "from ibm_ai_openscale.supporting_classes import PayloadRecord\n",
    "from ibm_ai_openscale.supporting_classes.enums import InputDataType, ProblemType\n",
    "from ibm_ai_openscale.engines import *\n",
    "from ibm_ai_openscale.utils import *"
   ]
  },
  {
   "cell_type": "markdown",
   "metadata": {},
   "source": [
    "#### ACTION: Get OpenScale `instance_guid` and `apikey`\n",
    "\n",
    "How to install IBM Cloud (bluemix) console: [instruction](https://console.bluemix.net/docs/cli/reference/ibmcloud/download_cli.html#install_use)\n",
    "\n",
    "How to get api key using bluemix console:\n",
    "```bash\n",
    "ibmcloud login --sso\n",
    "ibmcloud iam api-key-create 'my_key'\n",
    "```\n",
    "\n",
    "How to get your OpenScale instance GUID\n",
    "\n",
    "- if your resource group is different than `default` switch to resource group containing OpenScale instance\n",
    "```bash\n",
    "ibmcloud target -g <myResourceGroup>\n",
    "```\n",
    "- get details of the instance\n",
    "```bash\n",
    "ibmcloud resource service-instance 'AI-OpenScale-instance_name'\n",
    "```"
   ]
  },
  {
   "cell_type": "markdown",
   "metadata": {},
   "source": [
    "#### Let's define some constants required to set up data mart:\n",
    "\n",
    "- AIOS_CREDENTIALS\n",
    "- POSTGRES_CREDENTIALS\n",
    "- SCHEMA_NAME"
   ]
  },
  {
   "cell_type": "code",
   "execution_count": 5,
   "metadata": {},
   "outputs": [],
   "source": [
    "AIOS_CREDENTIALS = {\n",
    "  \"url\": \"https://api.aiopenscale.cloud.ibm.com\",\n",
    "  \"instance_guid\": \"***\",\n",
    "  \"apikey\": \"***\"\n",
    "}"
   ]
  },
  {
   "cell_type": "code",
   "execution_count": 6,
   "metadata": {},
   "outputs": [],
   "source": [
    "# The code was removed by Watson Studio for sharing."
   ]
  },
  {
   "cell_type": "code",
   "execution_count": 7,
   "metadata": {},
   "outputs": [],
   "source": [
    "POSTGRES_CREDENTIALS = {\n",
    "    \"db_type\": \"postgresql\",\n",
    "    \"uri_cli_1\": \"xxx\",\n",
    "    \"maps\": [],\n",
    "    \"instance_administration_api\": {\n",
    "        \"instance_id\": \"xxx\",\n",
    "        \"root\": \"xxx\",\n",
    "        \"deployment_id\": \"xxx\"\n",
    "    },\n",
    "    \"name\": \"xxx\",\n",
    "    \"uri_cli\": \"xxx\",\n",
    "    \"uri_direct_1\": \"xxx\",\n",
    "    \"ca_certificate_base64\": \"xxx\",\n",
    "    \"deployment_id\": \"xxx\",\n",
    "    \"uri\": \"xxx\"\n",
    "}"
   ]
  },
  {
   "cell_type": "code",
   "execution_count": 8,
   "metadata": {},
   "outputs": [],
   "source": [
    "# The code was removed by Watson Studio for sharing."
   ]
  },
  {
   "cell_type": "code",
   "execution_count": 9,
   "metadata": {},
   "outputs": [],
   "source": [
    "SCHEMA_NAME = 'data_mart_for_aws_sagemaker'"
   ]
  },
  {
   "cell_type": "markdown",
   "metadata": {},
   "source": [
    "Create schema for data mart."
   ]
  },
  {
   "cell_type": "code",
   "execution_count": 10,
   "metadata": {},
   "outputs": [],
   "source": [
    "create_postgres_schema(postgres_credentials=POSTGRES_CREDENTIALS, schema_name=SCHEMA_NAME)"
   ]
  },
  {
   "cell_type": "code",
   "execution_count": 11,
   "metadata": {},
   "outputs": [],
   "source": [
    "client = APIClient(AIOS_CREDENTIALS)"
   ]
  },
  {
   "cell_type": "code",
   "execution_count": 12,
   "metadata": {},
   "outputs": [
    {
     "data": {
      "text/plain": [
       "'2.1.4'"
      ]
     },
     "execution_count": 12,
     "metadata": {},
     "output_type": "execute_result"
    }
   ],
   "source": [
    "client.version"
   ]
  },
  {
   "cell_type": "markdown",
   "metadata": {},
   "source": [
    "### DataMart setup"
   ]
  },
  {
   "cell_type": "code",
   "execution_count": 14,
   "metadata": {},
   "outputs": [],
   "source": [
    "client.data_mart.setup(db_credentials=POSTGRES_CREDENTIALS, schema=SCHEMA_NAME)"
   ]
  },
  {
   "cell_type": "code",
   "execution_count": 15,
   "metadata": {},
   "outputs": [],
   "source": [
    "data_mart_details = client.data_mart.get_details()"
   ]
  },
  {
   "cell_type": "markdown",
   "metadata": {},
   "source": [
    "<a id=\"binding\"></a>\n",
    "## 2. Bind machine learning engines"
   ]
  },
  {
   "cell_type": "markdown",
   "metadata": {},
   "source": [
    "### Bind  `SageMaker` machine learning engine\n",
    "\n",
    "Provide credentials using following fields:\n",
    "- `access_key_id`\n",
    "- `secret_access_key`\n",
    "- `region`"
   ]
  },
  {
   "cell_type": "code",
   "execution_count": 16,
   "metadata": {},
   "outputs": [],
   "source": [
    "SAGEMAKER_ENGINE_CREDENTIALS = {\n",
    "        \"access_key_id\": \"***\",\n",
    "        \"secret_access_key\": \"***\",\n",
    "        \"region\": \"***\"\n",
    "}"
   ]
  },
  {
   "cell_type": "code",
   "execution_count": 17,
   "metadata": {},
   "outputs": [],
   "source": [
    "# The code was removed by Watson Studio for sharing."
   ]
  },
  {
   "cell_type": "code",
   "execution_count": 18,
   "metadata": {},
   "outputs": [],
   "source": [
    "binding_uid = client.data_mart.bindings.add('My SageMaker engine', SageMakerMachineLearningInstance(SAGEMAKER_ENGINE_CREDENTIALS))"
   ]
  },
  {
   "cell_type": "code",
   "execution_count": 19,
   "metadata": {},
   "outputs": [],
   "source": [
    "bindings_details = client.data_mart.bindings.get_details()"
   ]
  },
  {
   "cell_type": "code",
   "execution_count": 20,
   "metadata": {},
   "outputs": [
    {
     "data": {
      "text/html": [
       "<HTML>\n",
       "        <body>\n",
       "            <h3>Service bindings</h3>\n",
       "            <table style='border: 1px solid #dddddd; font-family: Courier'>\n",
       "                <th style='border: 1px solid #dddddd'>uid</th><th style='border: 1px solid #dddddd'>name</th><th style='border: 1px solid #dddddd'>service_type</th><th style='border: 1px solid #dddddd'>created</th>\n",
       "                <tr><td style='border: 1px solid #dddddd'>3f392dbe-8f93-4965-98d2-cf930a0b32cc</td><td style='border: 1px solid #dddddd'>My SageMaker engine</td><td style='border: 1px solid #dddddd'>amazon_sagemaker</td><td style='border: 1px solid #dddddd'>2019-04-08T08:09:19.902Z</td></tr>\n",
       "            </table>\n",
       "        </body>\n",
       "        </HTML>"
      ],
      "text/plain": [
       "<IPython.core.display.HTML object>"
      ]
     },
     "metadata": {},
     "output_type": "display_data"
    }
   ],
   "source": [
    "client.data_mart.bindings.list()"
   ]
  },
  {
   "cell_type": "markdown",
   "metadata": {},
   "source": [
    "<a id=\"subsciption\"></a>\n",
    "## 3. Subscriptions"
   ]
  },
  {
   "cell_type": "markdown",
   "metadata": {},
   "source": [
    "### Add subscriptions"
   ]
  },
  {
   "cell_type": "markdown",
   "metadata": {},
   "source": [
    "List available deployments.\n",
    "\n",
    "**Note:** Depending on number of assets it may take some time."
   ]
  },
  {
   "cell_type": "code",
   "execution_count": 21,
   "metadata": {},
   "outputs": [
    {
     "data": {
      "text/html": [
       "<HTML>\n",
       "        <body>\n",
       "            <h3>Available assets</h3>\n",
       "            <table style='border: 1px solid #dddddd; font-family: Courier'>\n",
       "                <th style='border: 1px solid #dddddd'>source_uid</th><th style='border: 1px solid #dddddd'>name</th><th style='border: 1px solid #dddddd'>created</th><th style='border: 1px solid #dddddd'>type</th><th style='border: 1px solid #dddddd'>frameworks</th><th style='border: 1px solid #dddddd'>binding_uid</th><th style='border: 1px solid #dddddd'>is_subscribed</th>\n",
       "                <tr><td style='border: 1px solid #dddddd'>253a3eb8d068b34b9d3e79bffcfcdbb8</td><td style='border: 1px solid #dddddd'>Credit-risk-linear-learner-2019-03-29-12-47</td><td style='border: 1px solid #dddddd'>2019-03-29T12:54:16.319Z</td><td style='border: 1px solid #dddddd'>model</td><td style='border: 1px solid #dddddd'></td><td style='border: 1px solid #dddddd'>3f392dbe-8f93-4965-98d2-cf930a0b32cc</td><td style='border: 1px solid #dddddd'>False</td></tr><tr><td style='border: 1px solid #dddddd'>feccf68ea88cbbb4b09003c31c4ea946</td><td style='border: 1px solid #dddddd'>Sklearn-hand-written-digits-1</td><td style='border: 1px solid #dddddd'>2019-02-21T05:42:49.304Z</td><td style='border: 1px solid #dddddd'>model</td><td style='border: 1px solid #dddddd'></td><td style='border: 1px solid #dddddd'>3f392dbe-8f93-4965-98d2-cf930a0b32cc</td><td style='border: 1px solid #dddddd'>False</td></tr><tr><td style='border: 1px solid #dddddd'>84a9175980d4a0b306c9c79df5086db4</td><td style='border: 1px solid #dddddd'>Sklearn-Iris-1</td><td style='border: 1px solid #dddddd'>2019-02-21T05:31:43.085Z</td><td style='border: 1px solid #dddddd'>model</td><td style='border: 1px solid #dddddd'></td><td style='border: 1px solid #dddddd'>3f392dbe-8f93-4965-98d2-cf930a0b32cc</td><td style='border: 1px solid #dddddd'>False</td></tr><tr><td style='border: 1px solid #dddddd'>56bdbf19ea21a9df15435cc01719051e</td><td style='border: 1px solid #dddddd'>Tensorflow-MNIST-1</td><td style='border: 1px solid #dddddd'>2019-02-21T05:03:52.351Z</td><td style='border: 1px solid #dddddd'>model</td><td style='border: 1px solid #dddddd'></td><td style='border: 1px solid #dddddd'>3f392dbe-8f93-4965-98d2-cf930a0b32cc</td><td style='border: 1px solid #dddddd'>False</td></tr><tr><td style='border: 1px solid #dddddd'>d129c1bddeb1626ae976052587b7fb59</td><td style='border: 1px solid #dddddd'>Tensorflow-Iris-2</td><td style='border: 1px solid #dddddd'>2019-02-21T04:46:37.062Z</td><td style='border: 1px solid #dddddd'>model</td><td style='border: 1px solid #dddddd'></td><td style='border: 1px solid #dddddd'>3f392dbe-8f93-4965-98d2-cf930a0b32cc</td><td style='border: 1px solid #dddddd'>False</td></tr><tr><td style='border: 1px solid #dddddd'>8c23f3df9ec0016fe39694c2b116e25d</td><td style='border: 1px solid #dddddd'>Credit-risk-linear-learner-2019-02-14-15-20</td><td style='border: 1px solid #dddddd'>2019-02-14T15:24:31.653Z</td><td style='border: 1px solid #dddddd'>model</td><td style='border: 1px solid #dddddd'></td><td style='border: 1px solid #dddddd'>3f392dbe-8f93-4965-98d2-cf930a0b32cc</td><td style='border: 1px solid #dddddd'>False</td></tr><tr><td style='border: 1px solid #dddddd'>57d1b9ccf254e8f05fdcb0ac05744e94</td><td style='border: 1px solid #dddddd'>Credit-risk-linear-learner-2019-02-14-14-05</td><td style='border: 1px solid #dddddd'>2019-02-14T14:11:25.761Z</td><td style='border: 1px solid #dddddd'>model</td><td style='border: 1px solid #dddddd'></td><td style='border: 1px solid #dddddd'>3f392dbe-8f93-4965-98d2-cf930a0b32cc</td><td style='border: 1px solid #dddddd'>False</td></tr><tr><td style='border: 1px solid #dddddd'>e23cada2cc488830e5dfc26172bdf58d</td><td style='border: 1px solid #dddddd'>Credit-risk-linear-learner-2019-02-14-13-28</td><td style='border: 1px solid #dddddd'>2019-02-14T13:37:28.847Z</td><td style='border: 1px solid #dddddd'>model</td><td style='border: 1px solid #dddddd'></td><td style='border: 1px solid #dddddd'>3f392dbe-8f93-4965-98d2-cf930a0b32cc</td><td style='border: 1px solid #dddddd'>False</td></tr><tr><td style='border: 1px solid #dddddd'>d38ee50a0044287128baed4999310045</td><td style='border: 1px solid #dddddd'>Credit-risk-xgboost-2019-02-04-11-01</td><td style='border: 1px solid #dddddd'>2019-02-04T11:06:44.414Z</td><td style='border: 1px solid #dddddd'>model</td><td style='border: 1px solid #dddddd'></td><td style='border: 1px solid #dddddd'>3f392dbe-8f93-4965-98d2-cf930a0b32cc</td><td style='border: 1px solid #dddddd'>False</td></tr><tr><td style='border: 1px solid #dddddd'>f2f0634d275a1fa8e2fbf83aec3f67d1</td><td style='border: 1px solid #dddddd'>linear-learner-2019-01-30-09-29-48-997</td><td style='border: 1px solid #dddddd'>2019-01-30T09:29:49.165Z</td><td style='border: 1px solid #dddddd'>model</td><td style='border: 1px solid #dddddd'></td><td style='border: 1px solid #dddddd'>3f392dbe-8f93-4965-98d2-cf930a0b32cc</td><td style='border: 1px solid #dddddd'>False</td></tr><tr><td style='border: 1px solid #dddddd'>d21922c42afc955283658215a7c3b456</td><td style='border: 1px solid #dddddd'>Credit-risk-linear-learner-2019-01-10-14-54</td><td style='border: 1px solid #dddddd'>2019-01-10T14:58:53.836Z</td><td style='border: 1px solid #dddddd'>model</td><td style='border: 1px solid #dddddd'></td><td style='border: 1px solid #dddddd'>3f392dbe-8f93-4965-98d2-cf930a0b32cc</td><td style='border: 1px solid #dddddd'>False</td></tr><tr><td style='border: 1px solid #dddddd'>9f695408aae0fd7a0c39d097267dfb07</td><td style='border: 1px solid #dddddd'>Breast-cancer-linear-learner-2018-12-20-13-38</td><td style='border: 1px solid #dddddd'>2018-12-20T13:44:36.304Z</td><td style='border: 1px solid #dddddd'>model</td><td style='border: 1px solid #dddddd'></td><td style='border: 1px solid #dddddd'>3f392dbe-8f93-4965-98d2-cf930a0b32cc</td><td style='border: 1px solid #dddddd'>False</td></tr><tr><td style='border: 1px solid #dddddd'>b43f50a20656d2c886e0d2410dc57323</td><td style='border: 1px solid #dddddd'>factorization-machines-2018-10-18-12-58-24-328</td><td style='border: 1px solid #dddddd'>2018-10-18T12:58:24.456Z</td><td style='border: 1px solid #dddddd'>model</td><td style='border: 1px solid #dddddd'></td><td style='border: 1px solid #dddddd'>3f392dbe-8f93-4965-98d2-cf930a0b32cc</td><td style='border: 1px solid #dddddd'>False</td></tr><tr><td style='border: 1px solid #dddddd'>0530ab0cd4f4dd5486b19c08df8b6914</td><td style='border: 1px solid #dddddd'>DEMO-multi-classification-2018-10-10-14-26-26</td><td style='border: 1px solid #dddddd'>2018-10-10T14:31:44.348Z</td><td style='border: 1px solid #dddddd'>model</td><td style='border: 1px solid #dddddd'></td><td style='border: 1px solid #dddddd'>3f392dbe-8f93-4965-98d2-cf930a0b32cc</td><td style='border: 1px solid #dddddd'>False</td></tr><tr><td style='border: 1px solid #dddddd'>85aba02937c71f90ae3db6d98214766d</td><td style='border: 1px solid #dddddd'>DEMO-classification-2018-10-10-13-24-25</td><td style='border: 1px solid #dddddd'>2018-10-10T13:29:38.548Z</td><td style='border: 1px solid #dddddd'>model</td><td style='border: 1px solid #dddddd'></td><td style='border: 1px solid #dddddd'>3f392dbe-8f93-4965-98d2-cf930a0b32cc</td><td style='border: 1px solid #dddddd'>False</td></tr>\n",
       "            </table>\n",
       "        </body>\n",
       "        </HTML>"
      ],
      "text/plain": [
       "<IPython.core.display.HTML object>"
      ]
     },
     "metadata": {},
     "output_type": "display_data"
    }
   ],
   "source": [
    "client.data_mart.bindings.list_assets()"
   ]
  },
  {
   "cell_type": "markdown",
   "metadata": {},
   "source": [
    "**Action:** Assign your source_uid to `source_uid` variable below."
   ]
  },
  {
   "cell_type": "code",
   "execution_count": 22,
   "metadata": {},
   "outputs": [],
   "source": [
    "source_uid = '253a3eb8d068b34b9d3e79bffcfcdbb8'"
   ]
  },
  {
   "cell_type": "code",
   "execution_count": 23,
   "metadata": {},
   "outputs": [],
   "source": [
    "feature_columns = ['CheckingStatus_0_to_200', 'CheckingStatus_greater_200', 'CheckingStatus_less_0', 'CheckingStatus_no_checking', 'CreditHistory_all_credits_paid_back', 'CreditHistory_credits_paid_to_date', 'CreditHistory_no_credits', 'CreditHistory_outstanding_credit', 'CreditHistory_prior_payments_delayed', 'LoanPurpose_appliances', 'LoanPurpose_business', 'LoanPurpose_car_new', 'LoanPurpose_car_used', 'LoanPurpose_education', 'LoanPurpose_furniture', 'LoanPurpose_other', 'LoanPurpose_radio_tv', 'LoanPurpose_repairs', 'LoanPurpose_retraining', 'LoanPurpose_vacation', 'ExistingSavings_100_to_500', 'ExistingSavings_500_to_1000', 'ExistingSavings_greater_1000', 'ExistingSavings_less_100', 'ExistingSavings_unknown', 'EmploymentDuration_1_to_4', 'EmploymentDuration_4_to_7', 'EmploymentDuration_greater_7', 'EmploymentDuration_less_1', 'EmploymentDuration_unemployed', 'Sex_female', 'Sex_male', 'OthersOnLoan_co-applicant', 'OthersOnLoan_guarantor', 'OthersOnLoan_none', 'OwnsProperty_car_other', 'OwnsProperty_real_estate', 'OwnsProperty_savings_insurance', 'OwnsProperty_unknown', 'InstallmentPlans_bank', 'InstallmentPlans_none', 'InstallmentPlans_stores', 'Housing_free', 'Housing_own', 'Housing_rent', 'Job_management_self-employed', 'Job_skilled', 'Job_unemployed', 'Job_unskilled', 'Telephone_none', 'Telephone_yes', 'ForeignWorker_no', 'ForeignWorker_yes', 'LoanDuration', 'LoanAmount', 'InstallmentPercent', 'CurrentResidenceDuration', 'Age', 'ExistingCreditsCount', 'Dependents']\n",
    "categorical_columns = ['CheckingStatus_0_to_200', 'CheckingStatus_greater_200', 'CheckingStatus_less_0', 'CheckingStatus_no_checking', 'CreditHistory_all_credits_paid_back', 'CreditHistory_credits_paid_to_date', 'CreditHistory_no_credits', 'CreditHistory_outstanding_credit', 'CreditHistory_prior_payments_delayed', 'LoanPurpose_appliances', 'LoanPurpose_business', 'LoanPurpose_car_new', 'LoanPurpose_car_used', 'LoanPurpose_education', 'LoanPurpose_furniture', 'LoanPurpose_other', 'LoanPurpose_radio_tv', 'LoanPurpose_repairs', 'LoanPurpose_retraining', 'LoanPurpose_vacation', 'ExistingSavings_100_to_500', 'ExistingSavings_500_to_1000', 'ExistingSavings_greater_1000', 'ExistingSavings_less_100', 'ExistingSavings_unknown', 'EmploymentDuration_1_to_4', 'EmploymentDuration_4_to_7', 'EmploymentDuration_greater_7', 'EmploymentDuration_less_1', 'EmploymentDuration_unemployed', 'Sex_female', 'Sex_male', 'OthersOnLoan_co-applicant', 'OthersOnLoan_guarantor', 'OthersOnLoan_none', 'OwnsProperty_car_other', 'OwnsProperty_real_estate', 'OwnsProperty_savings_insurance', 'OwnsProperty_unknown', 'InstallmentPlans_bank', 'InstallmentPlans_none', 'InstallmentPlans_stores', 'Housing_free', 'Housing_own', 'Housing_rent', 'Job_management_self-employed', 'Job_skilled', 'Job_unemployed', 'Job_unskilled', 'Telephone_none', 'Telephone_yes', 'ForeignWorker_no', 'ForeignWorker_yes']"
   ]
  },
  {
   "cell_type": "code",
   "execution_count": 25,
   "metadata": {},
   "outputs": [],
   "source": [
    "subscription = client.data_mart.subscriptions.add(\n",
    "    SageMakerMachineLearningAsset(\n",
    "                source_uid=source_uid,\n",
    "                binding_uid=binding_uid,\n",
    "                input_data_type=InputDataType.STRUCTURED,\n",
    "                problem_type=ProblemType.BINARY_CLASSIFICATION,\n",
    "                label_column='Risk',\n",
    "                feature_columns=feature_columns.copy(),\n",
    "                categorical_columns=categorical_columns.copy(),\n",
    "                probability_column='score',\n",
    "                prediction_column='predicted_label'))"
   ]
  },
  {
   "cell_type": "markdown",
   "metadata": {},
   "source": [
    "#### List subscriptions"
   ]
  },
  {
   "cell_type": "code",
   "execution_count": 26,
   "metadata": {},
   "outputs": [
    {
     "data": {
      "text/html": [
       "<HTML>\n",
       "        <body>\n",
       "            <h3>Subscriptions</h3>\n",
       "            <table style='border: 1px solid #dddddd; font-family: Courier'>\n",
       "                <th style='border: 1px solid #dddddd'>uid</th><th style='border: 1px solid #dddddd'>name</th><th style='border: 1px solid #dddddd'>type</th><th style='border: 1px solid #dddddd'>binding_uid</th><th style='border: 1px solid #dddddd'>created</th>\n",
       "                <tr><td style='border: 1px solid #dddddd'>253a3eb8d068b34b9d3e79bffcfcdbb8</td><td style='border: 1px solid #dddddd'>Credit-risk-linear-learner-2019-03-29-12-47</td><td style='border: 1px solid #dddddd'>model</td><td style='border: 1px solid #dddddd'>3f392dbe-8f93-4965-98d2-cf930a0b32cc</td><td style='border: 1px solid #dddddd'>2019-04-08T08:21:14.661Z</td></tr>\n",
       "            </table>\n",
       "        </body>\n",
       "        </HTML>"
      ],
      "text/plain": [
       "<IPython.core.display.HTML object>"
      ]
     },
     "metadata": {},
     "output_type": "display_data"
    }
   ],
   "source": [
    "client.data_mart.subscriptions.list()"
   ]
  },
  {
   "cell_type": "markdown",
   "metadata": {},
   "source": [
    "<a id=\"scoring\"></a>\n",
    "## 4. Performance metrics, scoring and payload logging"
   ]
  },
  {
   "cell_type": "markdown",
   "metadata": {},
   "source": [
    "### Score the credit risk model and measure response time"
   ]
  },
  {
   "cell_type": "code",
   "execution_count": 27,
   "metadata": {},
   "outputs": [],
   "source": [
    "import requests\n",
    "import time\n",
    "import json\n",
    "import boto3"
   ]
  },
  {
   "cell_type": "code",
   "execution_count": 28,
   "metadata": {},
   "outputs": [],
   "source": [
    "subscription_details = subscription.get_details()\n",
    "endpoint_name = subscription_details['entity']['deployments'][0]['name']"
   ]
  },
  {
   "cell_type": "code",
   "execution_count": 29,
   "metadata": {},
   "outputs": [],
   "source": [
    "binding_details = client.data_mart.bindings.get_details(binding_uid=binding_uid)\n",
    "access_id = binding_details['entity']['credentials']['access_key_id']\n",
    "access_key = binding_details['entity']['credentials']['secret_access_key']\n",
    "region = binding_details['entity']['credentials']['region']\n",
    "\n",
    "subscription_details = subscription.get_details()\n",
    "endpoint_name = subscription_details['entity']['deployments'][0]['name']\n",
    "\n",
    "payload = \"0,0,1,0,1,0,0,0,0,0,0,1,0,0,0,0,0,0,0,0,0,0,0,1,0,1,0,0,0,0,0,1,0,0,1,0,0,1,0,0,1,0,0,1,0,0,1,0,0,1,0,0,1,12,4152,2,3,29,2,1\""
   ]
  },
  {
   "cell_type": "code",
   "execution_count": 30,
   "metadata": {},
   "outputs": [
    {
     "name": "stdout",
     "output_type": "stream",
     "text": [
      "{\n",
      "  \"predictions\": [\n",
      "    {\n",
      "      \"predicted_label\": 0.0,\n",
      "      \"score\": 0.20244570076465607\n",
      "    }\n",
      "  ]\n",
      "}\n"
     ]
    }
   ],
   "source": [
    "runtime = boto3.client('sagemaker-runtime', region_name=region, aws_access_key_id=access_id, aws_secret_access_key=access_key)\n",
    "\n",
    "start_time = time.time()\n",
    "response = runtime.invoke_endpoint(EndpointName=endpoint_name, ContentType='text/csv', Body=payload)\n",
    "response_time = int((time.time() - start_time)*1000)\n",
    "result = json.loads(response['Body'].read().decode())\n",
    "\n",
    "print(json.dumps(result, indent=2))"
   ]
  },
  {
   "cell_type": "markdown",
   "metadata": {},
   "source": [
    "### Store the request and response in payload logging table"
   ]
  },
  {
   "cell_type": "markdown",
   "metadata": {},
   "source": [
    "#### Transform the model's input and output to the format compatible with OpenScale standard."
   ]
  },
  {
   "cell_type": "code",
   "execution_count": 31,
   "metadata": {},
   "outputs": [],
   "source": [
    "values = [float(s) for s in payload.split(',')]\n",
    "\n",
    "request_data = {'fields': feature_columns, \n",
    "                'values': values}\n",
    "\n",
    "response_data = {'fields': list(result['predictions'][0]),\n",
    "                 'values': [list(x.values()) for x in result['predictions']]}"
   ]
  },
  {
   "cell_type": "markdown",
   "metadata": {},
   "source": [
    "#### Store the payload using Python SDK"
   ]
  },
  {
   "cell_type": "markdown",
   "metadata": {},
   "source": [
    "**Hint:** You can embed payload logging code into your custom deployment so it is logged automatically each time you score the model."
   ]
  },
  {
   "cell_type": "code",
   "execution_count": 35,
   "metadata": {},
   "outputs": [],
   "source": [
    "records_list = []\n",
    "\n",
    "for i in range(0, 10):\n",
    "    records_list.append(PayloadRecord(request=request_data, response=response_data, response_time=response_time))\n",
    "\n",
    "subscription.payload_logging.store(records=records_list)"
   ]
  },
  {
   "cell_type": "code",
   "execution_count": 38,
   "metadata": {},
   "outputs": [
    {
     "data": {
      "text/html": [
       "<HTML>\n",
       "        <body>\n",
       "            <h3>Payload_253a3eb8d068b34b9d3e79bffcfcdbb8 (binding_id=3f392dbe-8f93-4965-98d2-cf930a0b32cc, subscription_id=253a3eb8d068b34b9d3e79bffcfcdbb8)</h3>\n",
       "            <table style='border: 1px solid #dddddd; font-family: Courier'>\n",
       "                <th style='border: 1px solid #dddddd'>scoring_id</th><th style='border: 1px solid #dddddd'>scoring_timestamp</th><th style='border: 1px solid #dddddd'>deployment_id</th><th style='border: 1px solid #dddddd'>asset_revision</th><th style='border: 1px solid #dddddd'>CheckingStatus_0_to_200</th><th style='border: 1px solid #dddddd'>CheckingStatus_greater_200</th><th style='border: 1px solid #dddddd'>CheckingStatus_less_0</th><th style='border: 1px solid #dddddd'>CheckingStatus_no_checking</th><th style='border: 1px solid #dddddd'>CreditHistory_all_credits_paid_back</th><th style='border: 1px solid #dddddd'>CreditHistory_credits_paid_to_date</th><th style='border: 1px solid #dddddd'>CreditHistory_no_credits</th><th style='border: 1px solid #dddddd'>CreditHistory_outstanding_credit</th><th style='border: 1px solid #dddddd'>CreditHistory_prior_payments_delayed</th><th style='border: 1px solid #dddddd'>LoanPurpose_appliances</th><th style='border: 1px solid #dddddd'>LoanPurpose_business</th><th style='border: 1px solid #dddddd'>LoanPurpose_car_new</th><th style='border: 1px solid #dddddd'>LoanPurpose_car_used</th><th style='border: 1px solid #dddddd'>LoanPurpose_education</th><th style='border: 1px solid #dddddd'>LoanPurpose_furniture</th><th style='border: 1px solid #dddddd'>LoanPurpose_other</th><th style='border: 1px solid #dddddd'>LoanPurpose_radio_tv</th><th style='border: 1px solid #dddddd'>LoanPurpose_repairs</th><th style='border: 1px solid #dddddd'>LoanPurpose_retraining</th><th style='border: 1px solid #dddddd'>LoanPurpose_vacation</th><th style='border: 1px solid #dddddd'>ExistingSavings_100_to_500</th><th style='border: 1px solid #dddddd'>ExistingSavings_500_to_1000</th><th style='border: 1px solid #dddddd'>ExistingSavings_greater_1000</th><th style='border: 1px solid #dddddd'>ExistingSavings_less_100</th><th style='border: 1px solid #dddddd'>ExistingSavings_unknown</th><th style='border: 1px solid #dddddd'>EmploymentDuration_1_to_4</th><th style='border: 1px solid #dddddd'>EmploymentDuration_4_to_7</th><th style='border: 1px solid #dddddd'>EmploymentDuration_greater_7</th><th style='border: 1px solid #dddddd'>EmploymentDuration_less_1</th><th style='border: 1px solid #dddddd'>EmploymentDuration_unemployed</th><th style='border: 1px solid #dddddd'>Sex_female</th><th style='border: 1px solid #dddddd'>Sex_male</th><th style='border: 1px solid #dddddd'>OthersOnLoan_co-applicant</th><th style='border: 1px solid #dddddd'>OthersOnLoan_guarantor</th><th style='border: 1px solid #dddddd'>OthersOnLoan_none</th><th style='border: 1px solid #dddddd'>OwnsProperty_car_other</th><th style='border: 1px solid #dddddd'>OwnsProperty_real_estate</th><th style='border: 1px solid #dddddd'>OwnsProperty_savings_insurance</th><th style='border: 1px solid #dddddd'>OwnsProperty_unknown</th><th style='border: 1px solid #dddddd'>InstallmentPlans_bank</th><th style='border: 1px solid #dddddd'>InstallmentPlans_none</th><th style='border: 1px solid #dddddd'>InstallmentPlans_stores</th><th style='border: 1px solid #dddddd'>Housing_free</th><th style='border: 1px solid #dddddd'>Housing_own</th><th style='border: 1px solid #dddddd'>Housing_rent</th><th style='border: 1px solid #dddddd'>Job_management_self-employed</th><th style='border: 1px solid #dddddd'>Job_skilled</th><th style='border: 1px solid #dddddd'>Job_unemployed</th><th style='border: 1px solid #dddddd'>Job_unskilled</th><th style='border: 1px solid #dddddd'>Telephone_none</th><th style='border: 1px solid #dddddd'>Telephone_yes</th><th style='border: 1px solid #dddddd'>ForeignWorker_no</th><th style='border: 1px solid #dddddd'>ForeignWorker_yes</th><th style='border: 1px solid #dddddd'>LoanDuration</th><th style='border: 1px solid #dddddd'>LoanAmount</th><th style='border: 1px solid #dddddd'>InstallmentPercent</th><th style='border: 1px solid #dddddd'>CurrentResidenceDuration</th><th style='border: 1px solid #dddddd'>Age</th><th style='border: 1px solid #dddddd'>ExistingCreditsCount</th><th style='border: 1px solid #dddddd'>Dependents</th><th style='border: 1px solid #dddddd'>predicted_label</th><th style='border: 1px solid #dddddd'>score</th><th style='border: 1px solid #dddddd'>prediction_probability</th><th style='border: 1px solid #dddddd'>debiased_prediction</th><th style='border: 1px solid #dddddd'>debiased_probability</th>\n",
       "                <tr><td style='border: 1px solid #dddddd'>ea3cd968-c127-42fc-9ee4-2205d6788659-1</td><td style='border: 1px solid #dddddd'>2019-04-08 08:22:55.470000+00:00</td><td style='border: 1px solid #dddddd'>a3e4abd3429870983b100b4b609d469a</td><td style='border: 1px solid #dddddd'>None</td><td style='border: 1px solid #dddddd'>0.0</td><td style='border: 1px solid #dddddd'>0.0</td><td style='border: 1px solid #dddddd'>1.0</td><td style='border: 1px solid #dddddd'>0.0</td><td style='border: 1px solid #dddddd'>1.0</td><td style='border: 1px solid #dddddd'>0.0</td><td style='border: 1px solid #dddddd'>0.0</td><td style='border: 1px solid #dddddd'>0.0</td><td style='border: 1px solid #dddddd'>0.0</td><td style='border: 1px solid #dddddd'>0.0</td><td style='border: 1px solid #dddddd'>0.0</td><td style='border: 1px solid #dddddd'>1.0</td><td style='border: 1px solid #dddddd'>0.0</td><td style='border: 1px solid #dddddd'>0.0</td><td style='border: 1px solid #dddddd'>0.0</td><td style='border: 1px solid #dddddd'>0.0</td><td style='border: 1px solid #dddddd'>0.0</td><td style='border: 1px solid #dddddd'>0.0</td><td style='border: 1px solid #dddddd'>0.0</td><td style='border: 1px solid #dddddd'>0.0</td><td style='border: 1px solid #dddddd'>0.0</td><td style='border: 1px solid #dddddd'>0.0</td><td style='border: 1px solid #dddddd'>0.0</td><td style='border: 1px solid #dddddd'>1.0</td><td style='border: 1px solid #dddddd'>0.0</td><td style='border: 1px solid #dddddd'>1.0</td><td style='border: 1px solid #dddddd'>0.0</td><td style='border: 1px solid #dddddd'>0.0</td><td style='border: 1px solid #dddddd'>0.0</td><td style='border: 1px solid #dddddd'>0.0</td><td style='border: 1px solid #dddddd'>0.0</td><td style='border: 1px solid #dddddd'>1.0</td><td style='border: 1px solid #dddddd'>0.0</td><td style='border: 1px solid #dddddd'>0.0</td><td style='border: 1px solid #dddddd'>1.0</td><td style='border: 1px solid #dddddd'>0.0</td><td style='border: 1px solid #dddddd'>0.0</td><td style='border: 1px solid #dddddd'>1.0</td><td style='border: 1px solid #dddddd'>0.0</td><td style='border: 1px solid #dddddd'>0.0</td><td style='border: 1px solid #dddddd'>1.0</td><td style='border: 1px solid #dddddd'>0.0</td><td style='border: 1px solid #dddddd'>0.0</td><td style='border: 1px solid #dddddd'>1.0</td><td style='border: 1px solid #dddddd'>0.0</td><td style='border: 1px solid #dddddd'>0.0</td><td style='border: 1px solid #dddddd'>1.0</td><td style='border: 1px solid #dddddd'>0.0</td><td style='border: 1px solid #dddddd'>0.0</td><td style='border: 1px solid #dddddd'>1.0</td><td style='border: 1px solid #dddddd'>0.0</td><td style='border: 1px solid #dddddd'>0.0</td><td style='border: 1px solid #dddddd'>1.0</td><td style='border: 1px solid #dddddd'>12.0</td><td style='border: 1px solid #dddddd'>4152.0</td><td style='border: 1px solid #dddddd'>2.0</td><td style='border: 1px solid #dddddd'>3.0</td><td style='border: 1px solid #dddddd'>29.0</td><td style='border: 1px solid #dddddd'>2.0</td><td style='border: 1px solid #dddddd'>1.0</td><td style='border: 1px solid #dddddd'>0.0</td><td style='border: 1px solid #dddddd'>0.20244570076465607</td><td style='border: 1px solid #dddddd'>0.7975542992353439</td><td style='border: 1px solid #dddddd'>None</td><td style='border: 1px solid #dddddd'>None</td></tr><tr><td style='border: 1px solid #dddddd'>28a7fee5-4856-4de0-a6ca-678b7557e911-1</td><td style='border: 1px solid #dddddd'>2019-04-08 08:22:55.469000+00:00</td><td style='border: 1px solid #dddddd'>a3e4abd3429870983b100b4b609d469a</td><td style='border: 1px solid #dddddd'>None</td><td style='border: 1px solid #dddddd'>0.0</td><td style='border: 1px solid #dddddd'>0.0</td><td style='border: 1px solid #dddddd'>1.0</td><td style='border: 1px solid #dddddd'>0.0</td><td style='border: 1px solid #dddddd'>1.0</td><td style='border: 1px solid #dddddd'>0.0</td><td style='border: 1px solid #dddddd'>0.0</td><td style='border: 1px solid #dddddd'>0.0</td><td style='border: 1px solid #dddddd'>0.0</td><td style='border: 1px solid #dddddd'>0.0</td><td style='border: 1px solid #dddddd'>0.0</td><td style='border: 1px solid #dddddd'>1.0</td><td style='border: 1px solid #dddddd'>0.0</td><td style='border: 1px solid #dddddd'>0.0</td><td style='border: 1px solid #dddddd'>0.0</td><td style='border: 1px solid #dddddd'>0.0</td><td style='border: 1px solid #dddddd'>0.0</td><td style='border: 1px solid #dddddd'>0.0</td><td style='border: 1px solid #dddddd'>0.0</td><td style='border: 1px solid #dddddd'>0.0</td><td style='border: 1px solid #dddddd'>0.0</td><td style='border: 1px solid #dddddd'>0.0</td><td style='border: 1px solid #dddddd'>0.0</td><td style='border: 1px solid #dddddd'>1.0</td><td style='border: 1px solid #dddddd'>0.0</td><td style='border: 1px solid #dddddd'>1.0</td><td style='border: 1px solid #dddddd'>0.0</td><td style='border: 1px solid #dddddd'>0.0</td><td style='border: 1px solid #dddddd'>0.0</td><td style='border: 1px solid #dddddd'>0.0</td><td style='border: 1px solid #dddddd'>0.0</td><td style='border: 1px solid #dddddd'>1.0</td><td style='border: 1px solid #dddddd'>0.0</td><td style='border: 1px solid #dddddd'>0.0</td><td style='border: 1px solid #dddddd'>1.0</td><td style='border: 1px solid #dddddd'>0.0</td><td style='border: 1px solid #dddddd'>0.0</td><td style='border: 1px solid #dddddd'>1.0</td><td style='border: 1px solid #dddddd'>0.0</td><td style='border: 1px solid #dddddd'>0.0</td><td style='border: 1px solid #dddddd'>1.0</td><td style='border: 1px solid #dddddd'>0.0</td><td style='border: 1px solid #dddddd'>0.0</td><td style='border: 1px solid #dddddd'>1.0</td><td style='border: 1px solid #dddddd'>0.0</td><td style='border: 1px solid #dddddd'>0.0</td><td style='border: 1px solid #dddddd'>1.0</td><td style='border: 1px solid #dddddd'>0.0</td><td style='border: 1px solid #dddddd'>0.0</td><td style='border: 1px solid #dddddd'>1.0</td><td style='border: 1px solid #dddddd'>0.0</td><td style='border: 1px solid #dddddd'>0.0</td><td style='border: 1px solid #dddddd'>1.0</td><td style='border: 1px solid #dddddd'>12.0</td><td style='border: 1px solid #dddddd'>4152.0</td><td style='border: 1px solid #dddddd'>2.0</td><td style='border: 1px solid #dddddd'>3.0</td><td style='border: 1px solid #dddddd'>29.0</td><td style='border: 1px solid #dddddd'>2.0</td><td style='border: 1px solid #dddddd'>1.0</td><td style='border: 1px solid #dddddd'>0.0</td><td style='border: 1px solid #dddddd'>0.20244570076465607</td><td style='border: 1px solid #dddddd'>0.7975542992353439</td><td style='border: 1px solid #dddddd'>None</td><td style='border: 1px solid #dddddd'>None</td></tr><tr><td style='border: 1px solid #dddddd'>3f618053-0224-4d1a-a9b9-c32e97ac4b4c-1</td><td style='border: 1px solid #dddddd'>2019-04-08 08:22:55.469000+00:00</td><td style='border: 1px solid #dddddd'>a3e4abd3429870983b100b4b609d469a</td><td style='border: 1px solid #dddddd'>None</td><td style='border: 1px solid #dddddd'>0.0</td><td style='border: 1px solid #dddddd'>0.0</td><td style='border: 1px solid #dddddd'>1.0</td><td style='border: 1px solid #dddddd'>0.0</td><td style='border: 1px solid #dddddd'>1.0</td><td style='border: 1px solid #dddddd'>0.0</td><td style='border: 1px solid #dddddd'>0.0</td><td style='border: 1px solid #dddddd'>0.0</td><td style='border: 1px solid #dddddd'>0.0</td><td style='border: 1px solid #dddddd'>0.0</td><td style='border: 1px solid #dddddd'>0.0</td><td style='border: 1px solid #dddddd'>1.0</td><td style='border: 1px solid #dddddd'>0.0</td><td style='border: 1px solid #dddddd'>0.0</td><td style='border: 1px solid #dddddd'>0.0</td><td style='border: 1px solid #dddddd'>0.0</td><td style='border: 1px solid #dddddd'>0.0</td><td style='border: 1px solid #dddddd'>0.0</td><td style='border: 1px solid #dddddd'>0.0</td><td style='border: 1px solid #dddddd'>0.0</td><td style='border: 1px solid #dddddd'>0.0</td><td style='border: 1px solid #dddddd'>0.0</td><td style='border: 1px solid #dddddd'>0.0</td><td style='border: 1px solid #dddddd'>1.0</td><td style='border: 1px solid #dddddd'>0.0</td><td style='border: 1px solid #dddddd'>1.0</td><td style='border: 1px solid #dddddd'>0.0</td><td style='border: 1px solid #dddddd'>0.0</td><td style='border: 1px solid #dddddd'>0.0</td><td style='border: 1px solid #dddddd'>0.0</td><td style='border: 1px solid #dddddd'>0.0</td><td style='border: 1px solid #dddddd'>1.0</td><td style='border: 1px solid #dddddd'>0.0</td><td style='border: 1px solid #dddddd'>0.0</td><td style='border: 1px solid #dddddd'>1.0</td><td style='border: 1px solid #dddddd'>0.0</td><td style='border: 1px solid #dddddd'>0.0</td><td style='border: 1px solid #dddddd'>1.0</td><td style='border: 1px solid #dddddd'>0.0</td><td style='border: 1px solid #dddddd'>0.0</td><td style='border: 1px solid #dddddd'>1.0</td><td style='border: 1px solid #dddddd'>0.0</td><td style='border: 1px solid #dddddd'>0.0</td><td style='border: 1px solid #dddddd'>1.0</td><td style='border: 1px solid #dddddd'>0.0</td><td style='border: 1px solid #dddddd'>0.0</td><td style='border: 1px solid #dddddd'>1.0</td><td style='border: 1px solid #dddddd'>0.0</td><td style='border: 1px solid #dddddd'>0.0</td><td style='border: 1px solid #dddddd'>1.0</td><td style='border: 1px solid #dddddd'>0.0</td><td style='border: 1px solid #dddddd'>0.0</td><td style='border: 1px solid #dddddd'>1.0</td><td style='border: 1px solid #dddddd'>12.0</td><td style='border: 1px solid #dddddd'>4152.0</td><td style='border: 1px solid #dddddd'>2.0</td><td style='border: 1px solid #dddddd'>3.0</td><td style='border: 1px solid #dddddd'>29.0</td><td style='border: 1px solid #dddddd'>2.0</td><td style='border: 1px solid #dddddd'>1.0</td><td style='border: 1px solid #dddddd'>0.0</td><td style='border: 1px solid #dddddd'>0.20244570076465607</td><td style='border: 1px solid #dddddd'>0.7975542992353439</td><td style='border: 1px solid #dddddd'>None</td><td style='border: 1px solid #dddddd'>None</td></tr>\n",
       "            </table>\n",
       "        </body>\n",
       "        </HTML>"
      ],
      "text/plain": [
       "<IPython.core.display.HTML object>"
      ]
     },
     "metadata": {},
     "output_type": "display_data"
    }
   ],
   "source": [
    "import time\n",
    "\n",
    "time.sleep(3)\n",
    "subscription.payload_logging.show_table(limit=3)"
   ]
  },
  {
   "cell_type": "code",
   "execution_count": 39,
   "metadata": {},
   "outputs": [
    {
     "data": {
      "text/plain": [
       "{'enabled': True,\n",
       " 'parameters': {'dynamic_schema_update': True,\n",
       "  'output_data_schema': {'fields': [{'metadata': {'measure': 'discrete',\n",
       "      'modeling_role': 'feature'},\n",
       "     'name': 'CheckingStatus_0_to_200',\n",
       "     'nullable': True,\n",
       "     'type': 'double'},\n",
       "    {'metadata': {'measure': 'discrete', 'modeling_role': 'feature'},\n",
       "     'name': 'CheckingStatus_greater_200',\n",
       "     'nullable': True,\n",
       "     'type': 'double'},\n",
       "    {'metadata': {'measure': 'discrete', 'modeling_role': 'feature'},\n",
       "     'name': 'CheckingStatus_less_0',\n",
       "     'nullable': True,\n",
       "     'type': 'double'},\n",
       "    {'metadata': {'measure': 'discrete', 'modeling_role': 'feature'},\n",
       "     'name': 'CheckingStatus_no_checking',\n",
       "     'nullable': True,\n",
       "     'type': 'double'},\n",
       "    {'metadata': {'measure': 'discrete', 'modeling_role': 'feature'},\n",
       "     'name': 'CreditHistory_all_credits_paid_back',\n",
       "     'nullable': True,\n",
       "     'type': 'double'},\n",
       "    {'metadata': {'measure': 'discrete', 'modeling_role': 'feature'},\n",
       "     'name': 'CreditHistory_credits_paid_to_date',\n",
       "     'nullable': True,\n",
       "     'type': 'double'},\n",
       "    {'metadata': {'measure': 'discrete', 'modeling_role': 'feature'},\n",
       "     'name': 'CreditHistory_no_credits',\n",
       "     'nullable': True,\n",
       "     'type': 'double'},\n",
       "    {'metadata': {'measure': 'discrete', 'modeling_role': 'feature'},\n",
       "     'name': 'CreditHistory_outstanding_credit',\n",
       "     'nullable': True,\n",
       "     'type': 'double'},\n",
       "    {'metadata': {'measure': 'discrete', 'modeling_role': 'feature'},\n",
       "     'name': 'CreditHistory_prior_payments_delayed',\n",
       "     'nullable': True,\n",
       "     'type': 'double'},\n",
       "    {'metadata': {'measure': 'discrete', 'modeling_role': 'feature'},\n",
       "     'name': 'LoanPurpose_appliances',\n",
       "     'nullable': True,\n",
       "     'type': 'double'},\n",
       "    {'metadata': {'measure': 'discrete', 'modeling_role': 'feature'},\n",
       "     'name': 'LoanPurpose_business',\n",
       "     'nullable': True,\n",
       "     'type': 'double'},\n",
       "    {'metadata': {'measure': 'discrete', 'modeling_role': 'feature'},\n",
       "     'name': 'LoanPurpose_car_new',\n",
       "     'nullable': True,\n",
       "     'type': 'double'},\n",
       "    {'metadata': {'measure': 'discrete', 'modeling_role': 'feature'},\n",
       "     'name': 'LoanPurpose_car_used',\n",
       "     'nullable': True,\n",
       "     'type': 'double'},\n",
       "    {'metadata': {'measure': 'discrete', 'modeling_role': 'feature'},\n",
       "     'name': 'LoanPurpose_education',\n",
       "     'nullable': True,\n",
       "     'type': 'double'},\n",
       "    {'metadata': {'measure': 'discrete', 'modeling_role': 'feature'},\n",
       "     'name': 'LoanPurpose_furniture',\n",
       "     'nullable': True,\n",
       "     'type': 'double'},\n",
       "    {'metadata': {'measure': 'discrete', 'modeling_role': 'feature'},\n",
       "     'name': 'LoanPurpose_other',\n",
       "     'nullable': True,\n",
       "     'type': 'double'},\n",
       "    {'metadata': {'measure': 'discrete', 'modeling_role': 'feature'},\n",
       "     'name': 'LoanPurpose_radio_tv',\n",
       "     'nullable': True,\n",
       "     'type': 'double'},\n",
       "    {'metadata': {'measure': 'discrete', 'modeling_role': 'feature'},\n",
       "     'name': 'LoanPurpose_repairs',\n",
       "     'nullable': True,\n",
       "     'type': 'double'},\n",
       "    {'metadata': {'measure': 'discrete', 'modeling_role': 'feature'},\n",
       "     'name': 'LoanPurpose_retraining',\n",
       "     'nullable': True,\n",
       "     'type': 'double'},\n",
       "    {'metadata': {'measure': 'discrete', 'modeling_role': 'feature'},\n",
       "     'name': 'LoanPurpose_vacation',\n",
       "     'nullable': True,\n",
       "     'type': 'double'},\n",
       "    {'metadata': {'measure': 'discrete', 'modeling_role': 'feature'},\n",
       "     'name': 'ExistingSavings_100_to_500',\n",
       "     'nullable': True,\n",
       "     'type': 'double'},\n",
       "    {'metadata': {'measure': 'discrete', 'modeling_role': 'feature'},\n",
       "     'name': 'ExistingSavings_500_to_1000',\n",
       "     'nullable': True,\n",
       "     'type': 'double'},\n",
       "    {'metadata': {'measure': 'discrete', 'modeling_role': 'feature'},\n",
       "     'name': 'ExistingSavings_greater_1000',\n",
       "     'nullable': True,\n",
       "     'type': 'double'},\n",
       "    {'metadata': {'measure': 'discrete', 'modeling_role': 'feature'},\n",
       "     'name': 'ExistingSavings_less_100',\n",
       "     'nullable': True,\n",
       "     'type': 'double'},\n",
       "    {'metadata': {'measure': 'discrete', 'modeling_role': 'feature'},\n",
       "     'name': 'ExistingSavings_unknown',\n",
       "     'nullable': True,\n",
       "     'type': 'double'},\n",
       "    {'metadata': {'measure': 'discrete', 'modeling_role': 'feature'},\n",
       "     'name': 'EmploymentDuration_1_to_4',\n",
       "     'nullable': True,\n",
       "     'type': 'double'},\n",
       "    {'metadata': {'measure': 'discrete', 'modeling_role': 'feature'},\n",
       "     'name': 'EmploymentDuration_4_to_7',\n",
       "     'nullable': True,\n",
       "     'type': 'double'},\n",
       "    {'metadata': {'measure': 'discrete', 'modeling_role': 'feature'},\n",
       "     'name': 'EmploymentDuration_greater_7',\n",
       "     'nullable': True,\n",
       "     'type': 'double'},\n",
       "    {'metadata': {'measure': 'discrete', 'modeling_role': 'feature'},\n",
       "     'name': 'EmploymentDuration_less_1',\n",
       "     'nullable': True,\n",
       "     'type': 'double'},\n",
       "    {'metadata': {'measure': 'discrete', 'modeling_role': 'feature'},\n",
       "     'name': 'EmploymentDuration_unemployed',\n",
       "     'nullable': True,\n",
       "     'type': 'double'},\n",
       "    {'metadata': {'measure': 'discrete', 'modeling_role': 'feature'},\n",
       "     'name': 'Sex_female',\n",
       "     'nullable': True,\n",
       "     'type': 'double'},\n",
       "    {'metadata': {'measure': 'discrete', 'modeling_role': 'feature'},\n",
       "     'name': 'Sex_male',\n",
       "     'nullable': True,\n",
       "     'type': 'double'},\n",
       "    {'metadata': {'measure': 'discrete', 'modeling_role': 'feature'},\n",
       "     'name': 'OthersOnLoan_co-applicant',\n",
       "     'nullable': True,\n",
       "     'type': 'double'},\n",
       "    {'metadata': {'measure': 'discrete', 'modeling_role': 'feature'},\n",
       "     'name': 'OthersOnLoan_guarantor',\n",
       "     'nullable': True,\n",
       "     'type': 'double'},\n",
       "    {'metadata': {'measure': 'discrete', 'modeling_role': 'feature'},\n",
       "     'name': 'OthersOnLoan_none',\n",
       "     'nullable': True,\n",
       "     'type': 'double'},\n",
       "    {'metadata': {'measure': 'discrete', 'modeling_role': 'feature'},\n",
       "     'name': 'OwnsProperty_car_other',\n",
       "     'nullable': True,\n",
       "     'type': 'double'},\n",
       "    {'metadata': {'measure': 'discrete', 'modeling_role': 'feature'},\n",
       "     'name': 'OwnsProperty_real_estate',\n",
       "     'nullable': True,\n",
       "     'type': 'double'},\n",
       "    {'metadata': {'measure': 'discrete', 'modeling_role': 'feature'},\n",
       "     'name': 'OwnsProperty_savings_insurance',\n",
       "     'nullable': True,\n",
       "     'type': 'double'},\n",
       "    {'metadata': {'measure': 'discrete', 'modeling_role': 'feature'},\n",
       "     'name': 'OwnsProperty_unknown',\n",
       "     'nullable': True,\n",
       "     'type': 'double'},\n",
       "    {'metadata': {'measure': 'discrete', 'modeling_role': 'feature'},\n",
       "     'name': 'InstallmentPlans_bank',\n",
       "     'nullable': True,\n",
       "     'type': 'double'},\n",
       "    {'metadata': {'measure': 'discrete', 'modeling_role': 'feature'},\n",
       "     'name': 'InstallmentPlans_none',\n",
       "     'nullable': True,\n",
       "     'type': 'double'},\n",
       "    {'metadata': {'measure': 'discrete', 'modeling_role': 'feature'},\n",
       "     'name': 'InstallmentPlans_stores',\n",
       "     'nullable': True,\n",
       "     'type': 'double'},\n",
       "    {'metadata': {'measure': 'discrete', 'modeling_role': 'feature'},\n",
       "     'name': 'Housing_free',\n",
       "     'nullable': True,\n",
       "     'type': 'double'},\n",
       "    {'metadata': {'measure': 'discrete', 'modeling_role': 'feature'},\n",
       "     'name': 'Housing_own',\n",
       "     'nullable': True,\n",
       "     'type': 'double'},\n",
       "    {'metadata': {'measure': 'discrete', 'modeling_role': 'feature'},\n",
       "     'name': 'Housing_rent',\n",
       "     'nullable': True,\n",
       "     'type': 'double'},\n",
       "    {'metadata': {'measure': 'discrete', 'modeling_role': 'feature'},\n",
       "     'name': 'Job_management_self-employed',\n",
       "     'nullable': True,\n",
       "     'type': 'double'},\n",
       "    {'metadata': {'measure': 'discrete', 'modeling_role': 'feature'},\n",
       "     'name': 'Job_skilled',\n",
       "     'nullable': True,\n",
       "     'type': 'double'},\n",
       "    {'metadata': {'measure': 'discrete', 'modeling_role': 'feature'},\n",
       "     'name': 'Job_unemployed',\n",
       "     'nullable': True,\n",
       "     'type': 'double'},\n",
       "    {'metadata': {'measure': 'discrete', 'modeling_role': 'feature'},\n",
       "     'name': 'Job_unskilled',\n",
       "     'nullable': True,\n",
       "     'type': 'double'},\n",
       "    {'metadata': {'measure': 'discrete', 'modeling_role': 'feature'},\n",
       "     'name': 'Telephone_none',\n",
       "     'nullable': True,\n",
       "     'type': 'double'},\n",
       "    {'metadata': {'measure': 'discrete', 'modeling_role': 'feature'},\n",
       "     'name': 'Telephone_yes',\n",
       "     'nullable': True,\n",
       "     'type': 'double'},\n",
       "    {'metadata': {'measure': 'discrete', 'modeling_role': 'feature'},\n",
       "     'name': 'ForeignWorker_no',\n",
       "     'nullable': True,\n",
       "     'type': 'double'},\n",
       "    {'metadata': {'measure': 'discrete', 'modeling_role': 'feature'},\n",
       "     'name': 'ForeignWorker_yes',\n",
       "     'nullable': True,\n",
       "     'type': 'double'},\n",
       "    {'metadata': {'modeling_role': 'feature'},\n",
       "     'name': 'LoanDuration',\n",
       "     'nullable': True,\n",
       "     'type': 'double'},\n",
       "    {'metadata': {'modeling_role': 'feature'},\n",
       "     'name': 'LoanAmount',\n",
       "     'nullable': True,\n",
       "     'type': 'double'},\n",
       "    {'metadata': {'modeling_role': 'feature'},\n",
       "     'name': 'InstallmentPercent',\n",
       "     'nullable': True,\n",
       "     'type': 'double'},\n",
       "    {'metadata': {'modeling_role': 'feature'},\n",
       "     'name': 'CurrentResidenceDuration',\n",
       "     'nullable': True,\n",
       "     'type': 'double'},\n",
       "    {'metadata': {'modeling_role': 'feature'},\n",
       "     'name': 'Age',\n",
       "     'nullable': True,\n",
       "     'type': 'double'},\n",
       "    {'metadata': {'modeling_role': 'feature'},\n",
       "     'name': 'ExistingCreditsCount',\n",
       "     'nullable': True,\n",
       "     'type': 'double'},\n",
       "    {'metadata': {'modeling_role': 'feature'},\n",
       "     'name': 'Dependents',\n",
       "     'nullable': True,\n",
       "     'type': 'double'},\n",
       "    {'metadata': {'modeling_role': 'prediction'},\n",
       "     'name': 'predicted_label',\n",
       "     'nullable': True,\n",
       "     'type': 'double'},\n",
       "    {'metadata': {'modeling_role': 'probability'},\n",
       "     'name': 'score',\n",
       "     'nullable': True,\n",
       "     'type': 'double'},\n",
       "    {'metadata': {'modeling_role': 'prediction-probability'},\n",
       "     'name': 'prediction_probability',\n",
       "     'nullable': True,\n",
       "     'type': 'double'},\n",
       "    {'metadata': {'modeling_role': 'debiased-prediction'},\n",
       "     'name': 'debiased_prediction',\n",
       "     'nullable': True,\n",
       "     'type': 'double'},\n",
       "    {'metadata': {'modeling_role': 'debiased-probability'},\n",
       "     'name': 'debiased_probability',\n",
       "     'nullable': True,\n",
       "     'type': {'containsNull': False,\n",
       "      'elementType': 'double',\n",
       "      'type': 'array'}}],\n",
       "   'type': 'struct'},\n",
       "  'table_name': 'data_mart_for_aws_sagemaker.Payload_253a3eb8d068b34b9d3e79bffcfcdbb8'}}"
      ]
     },
     "execution_count": 39,
     "metadata": {},
     "output_type": "execute_result"
    }
   ],
   "source": [
    "subscription.payload_logging.get_details()"
   ]
  },
  {
   "cell_type": "markdown",
   "metadata": {},
   "source": [
    "#### Store the payload using REST API"
   ]
  },
  {
   "cell_type": "markdown",
   "metadata": {},
   "source": [
    "Get the token first."
   ]
  },
  {
   "cell_type": "code",
   "execution_count": 40,
   "metadata": {},
   "outputs": [],
   "source": [
    "token_endpoint = \"https://iam.bluemix.net/identity/token\"\n",
    "headers = {\n",
    "    \"Content-Type\": \"application/x-www-form-urlencoded\",\n",
    "    \"Accept\": \"application/json\"\n",
    "}\n",
    "\n",
    "data = {\n",
    "    \"grant_type\": \"urn:ibm:params:oauth:grant-type:apikey\",\n",
    "    \"apikey\": AIOS_CREDENTIALS[\"apikey\"]\n",
    "}\n",
    "\n",
    "req = requests.post(token_endpoint, data=data, headers=headers)\n",
    "token = req.json()['access_token']"
   ]
  },
  {
   "cell_type": "markdown",
   "metadata": {},
   "source": [
    "Store the payload."
   ]
  },
  {
   "cell_type": "code",
   "execution_count": 41,
   "metadata": {},
   "outputs": [
    {
     "name": "stdout",
     "output_type": "stream",
     "text": [
      "Request OK: True\n"
     ]
    }
   ],
   "source": [
    "import requests, uuid\n",
    "\n",
    "PAYLOAD_STORING_HREF_PATTERN = '{}/v1/data_marts/{}/scoring_payloads'\n",
    "endpoint = PAYLOAD_STORING_HREF_PATTERN.format(AIOS_CREDENTIALS['url'], AIOS_CREDENTIALS['data_mart_id'])\n",
    "\n",
    "payload = [{\n",
    "    'binding_id': binding_uid, \n",
    "    'deployment_id': subscription.get_details()['entity']['deployments'][0]['deployment_id'], \n",
    "    'subscription_id': subscription.uid, \n",
    "    'scoring_id': str(uuid.uuid4()), \n",
    "    'response': response_data,\n",
    "    'request': request_data\n",
    "}]\n",
    "\n",
    "headers = {\"Authorization\": \"Bearer \" + token}\n",
    "      \n",
    "req_response = requests.post(endpoint, json=payload, headers = headers)\n",
    "\n",
    "print(\"Request OK: \" + str(req_response.ok))"
   ]
  },
  {
   "cell_type": "markdown",
   "metadata": {},
   "source": [
    "### Performance metrics of scoring requests"
   ]
  },
  {
   "cell_type": "code",
   "execution_count": 42,
   "metadata": {},
   "outputs": [
    {
     "data": {
      "text/html": [
       "<HTML>\n",
       "        <body>\n",
       "            <h3>PerformanceMetrics (binding_id=3f392dbe-8f93-4965-98d2-cf930a0b32cc, subscription_id=253a3eb8d068b34b9d3e79bffcfcdbb8)</h3>\n",
       "            <table style='border: 1px solid #dddddd; font-family: Courier'>\n",
       "                <th style='border: 1px solid #dddddd'>ts</th><th style='border: 1px solid #dddddd'>scoring_time</th><th style='border: 1px solid #dddddd'>scoring_records</th><th style='border: 1px solid #dddddd'>binding_id</th><th style='border: 1px solid #dddddd'>subscription_id</th><th style='border: 1px solid #dddddd'>deployment_id</th><th style='border: 1px solid #dddddd'>process</th><th style='border: 1px solid #dddddd'>asset_revision</th>\n",
       "                <tr><td style='border: 1px solid #dddddd'>2019-04-08 08:21:38.369000+00:00</td><td style='border: 1px solid #dddddd'>337.0</td><td style='border: 1px solid #dddddd'>1</td><td style='border: 1px solid #dddddd'>3f392dbe-8f93-4965-98d2-cf930a0b32cc</td><td style='border: 1px solid #dddddd'>253a3eb8d068b34b9d3e79bffcfcdbb8</td><td style='border: 1px solid #dddddd'>a3e4abd3429870983b100b4b609d469a</td><td style='border: 1px solid #dddddd'></td><td style='border: 1px solid #dddddd'></td></tr><tr><td style='border: 1px solid #dddddd'>2019-04-08 08:22:55.469000+00:00</td><td style='border: 1px solid #dddddd'>337.0</td><td style='border: 1px solid #dddddd'>1</td><td style='border: 1px solid #dddddd'>3f392dbe-8f93-4965-98d2-cf930a0b32cc</td><td style='border: 1px solid #dddddd'>253a3eb8d068b34b9d3e79bffcfcdbb8</td><td style='border: 1px solid #dddddd'>a3e4abd3429870983b100b4b609d469a</td><td style='border: 1px solid #dddddd'></td><td style='border: 1px solid #dddddd'></td></tr><tr><td style='border: 1px solid #dddddd'>2019-04-08 08:22:55.469000+00:00</td><td style='border: 1px solid #dddddd'>337.0</td><td style='border: 1px solid #dddddd'>1</td><td style='border: 1px solid #dddddd'>3f392dbe-8f93-4965-98d2-cf930a0b32cc</td><td style='border: 1px solid #dddddd'>253a3eb8d068b34b9d3e79bffcfcdbb8</td><td style='border: 1px solid #dddddd'>a3e4abd3429870983b100b4b609d469a</td><td style='border: 1px solid #dddddd'></td><td style='border: 1px solid #dddddd'></td></tr><tr><td style='border: 1px solid #dddddd'>2019-04-08 08:22:55.469000+00:00</td><td style='border: 1px solid #dddddd'>337.0</td><td style='border: 1px solid #dddddd'>1</td><td style='border: 1px solid #dddddd'>3f392dbe-8f93-4965-98d2-cf930a0b32cc</td><td style='border: 1px solid #dddddd'>253a3eb8d068b34b9d3e79bffcfcdbb8</td><td style='border: 1px solid #dddddd'>a3e4abd3429870983b100b4b609d469a</td><td style='border: 1px solid #dddddd'></td><td style='border: 1px solid #dddddd'></td></tr><tr><td style='border: 1px solid #dddddd'>2019-04-08 08:22:55.469000+00:00</td><td style='border: 1px solid #dddddd'>337.0</td><td style='border: 1px solid #dddddd'>1</td><td style='border: 1px solid #dddddd'>3f392dbe-8f93-4965-98d2-cf930a0b32cc</td><td style='border: 1px solid #dddddd'>253a3eb8d068b34b9d3e79bffcfcdbb8</td><td style='border: 1px solid #dddddd'>a3e4abd3429870983b100b4b609d469a</td><td style='border: 1px solid #dddddd'></td><td style='border: 1px solid #dddddd'></td></tr><tr><td style='border: 1px solid #dddddd'>2019-04-08 08:22:55.469000+00:00</td><td style='border: 1px solid #dddddd'>337.0</td><td style='border: 1px solid #dddddd'>1</td><td style='border: 1px solid #dddddd'>3f392dbe-8f93-4965-98d2-cf930a0b32cc</td><td style='border: 1px solid #dddddd'>253a3eb8d068b34b9d3e79bffcfcdbb8</td><td style='border: 1px solid #dddddd'>a3e4abd3429870983b100b4b609d469a</td><td style='border: 1px solid #dddddd'></td><td style='border: 1px solid #dddddd'></td></tr><tr><td style='border: 1px solid #dddddd'>2019-04-08 08:22:55.469000+00:00</td><td style='border: 1px solid #dddddd'>337.0</td><td style='border: 1px solid #dddddd'>1</td><td style='border: 1px solid #dddddd'>3f392dbe-8f93-4965-98d2-cf930a0b32cc</td><td style='border: 1px solid #dddddd'>253a3eb8d068b34b9d3e79bffcfcdbb8</td><td style='border: 1px solid #dddddd'>a3e4abd3429870983b100b4b609d469a</td><td style='border: 1px solid #dddddd'></td><td style='border: 1px solid #dddddd'></td></tr><tr><td style='border: 1px solid #dddddd'>2019-04-08 08:22:55.470000+00:00</td><td style='border: 1px solid #dddddd'>337.0</td><td style='border: 1px solid #dddddd'>1</td><td style='border: 1px solid #dddddd'>3f392dbe-8f93-4965-98d2-cf930a0b32cc</td><td style='border: 1px solid #dddddd'>253a3eb8d068b34b9d3e79bffcfcdbb8</td><td style='border: 1px solid #dddddd'>a3e4abd3429870983b100b4b609d469a</td><td style='border: 1px solid #dddddd'></td><td style='border: 1px solid #dddddd'></td></tr><tr><td style='border: 1px solid #dddddd'>2019-04-08 08:22:55.469000+00:00</td><td style='border: 1px solid #dddddd'>337.0</td><td style='border: 1px solid #dddddd'>1</td><td style='border: 1px solid #dddddd'>3f392dbe-8f93-4965-98d2-cf930a0b32cc</td><td style='border: 1px solid #dddddd'>253a3eb8d068b34b9d3e79bffcfcdbb8</td><td style='border: 1px solid #dddddd'>a3e4abd3429870983b100b4b609d469a</td><td style='border: 1px solid #dddddd'></td><td style='border: 1px solid #dddddd'></td></tr><tr><td style='border: 1px solid #dddddd'>2019-04-08 08:22:55.469000+00:00</td><td style='border: 1px solid #dddddd'>337.0</td><td style='border: 1px solid #dddddd'>1</td><td style='border: 1px solid #dddddd'>3f392dbe-8f93-4965-98d2-cf930a0b32cc</td><td style='border: 1px solid #dddddd'>253a3eb8d068b34b9d3e79bffcfcdbb8</td><td style='border: 1px solid #dddddd'>a3e4abd3429870983b100b4b609d469a</td><td style='border: 1px solid #dddddd'></td><td style='border: 1px solid #dddddd'></td></tr>\n",
       "            </table>\n",
       "        </body>\n",
       "        </HTML>"
      ],
      "text/plain": [
       "<IPython.core.display.HTML object>"
      ]
     },
     "metadata": {},
     "output_type": "display_data"
    }
   ],
   "source": [
    "subscription.performance_monitoring.show_table(limit=10)"
   ]
  },
  {
   "cell_type": "markdown",
   "metadata": {},
   "source": [
    "<a id=\"feedback\"></a>\n",
    "## 5. Feedback logging & quality (accuracy) monitoring"
   ]
  },
  {
   "cell_type": "markdown",
   "metadata": {},
   "source": [
    "### Enable quality monitoring"
   ]
  },
  {
   "cell_type": "markdown",
   "metadata": {},
   "source": [
    "You need to provide the monitoring `threshold` and `min_records` (minimal number of feedback records)."
   ]
  },
  {
   "cell_type": "code",
   "execution_count": 43,
   "metadata": {},
   "outputs": [],
   "source": [
    "subscription.quality_monitoring.enable(threshold=0.7, min_records=5)"
   ]
  },
  {
   "cell_type": "markdown",
   "metadata": {},
   "source": [
    "### Feedback records logging"
   ]
  },
  {
   "cell_type": "markdown",
   "metadata": {},
   "source": [
    "Feedback records are used to evaluate your model. The predicted values are compared to real values (feedback records)."
   ]
  },
  {
   "cell_type": "markdown",
   "metadata": {},
   "source": [
    "You can check the schema of feedback table using below method."
   ]
  },
  {
   "cell_type": "code",
   "execution_count": 44,
   "metadata": {},
   "outputs": [
    {
     "data": {
      "text/html": [
       "<HTML>\n",
       "        <body>\n",
       "            <h3>Schema of Feedback_253a3eb8d068b34b9d3e79bffcfcdbb8</h3>\n",
       "            <table style='border: 1px solid #dddddd; font-family: Courier'>\n",
       "                <th style='border: 1px solid #dddddd'>name</th><th style='border: 1px solid #dddddd'>type</th><th style='border: 1px solid #dddddd'>nullable</th>\n",
       "                <tr><td style='border: 1px solid #dddddd'>CheckingStatus_0_to_200</td><td style='border: 1px solid #dddddd'>double</td><td style='border: 1px solid #dddddd'>True</td></tr><tr><td style='border: 1px solid #dddddd'>CheckingStatus_greater_200</td><td style='border: 1px solid #dddddd'>double</td><td style='border: 1px solid #dddddd'>True</td></tr><tr><td style='border: 1px solid #dddddd'>CheckingStatus_less_0</td><td style='border: 1px solid #dddddd'>double</td><td style='border: 1px solid #dddddd'>True</td></tr><tr><td style='border: 1px solid #dddddd'>CheckingStatus_no_checking</td><td style='border: 1px solid #dddddd'>double</td><td style='border: 1px solid #dddddd'>True</td></tr><tr><td style='border: 1px solid #dddddd'>CreditHistory_all_credits_paid_back</td><td style='border: 1px solid #dddddd'>double</td><td style='border: 1px solid #dddddd'>True</td></tr><tr><td style='border: 1px solid #dddddd'>CreditHistory_credits_paid_to_date</td><td style='border: 1px solid #dddddd'>double</td><td style='border: 1px solid #dddddd'>True</td></tr><tr><td style='border: 1px solid #dddddd'>CreditHistory_no_credits</td><td style='border: 1px solid #dddddd'>double</td><td style='border: 1px solid #dddddd'>True</td></tr><tr><td style='border: 1px solid #dddddd'>CreditHistory_outstanding_credit</td><td style='border: 1px solid #dddddd'>double</td><td style='border: 1px solid #dddddd'>True</td></tr><tr><td style='border: 1px solid #dddddd'>CreditHistory_prior_payments_delayed</td><td style='border: 1px solid #dddddd'>double</td><td style='border: 1px solid #dddddd'>True</td></tr><tr><td style='border: 1px solid #dddddd'>LoanPurpose_appliances</td><td style='border: 1px solid #dddddd'>double</td><td style='border: 1px solid #dddddd'>True</td></tr><tr><td style='border: 1px solid #dddddd'>LoanPurpose_business</td><td style='border: 1px solid #dddddd'>double</td><td style='border: 1px solid #dddddd'>True</td></tr><tr><td style='border: 1px solid #dddddd'>LoanPurpose_car_new</td><td style='border: 1px solid #dddddd'>double</td><td style='border: 1px solid #dddddd'>True</td></tr><tr><td style='border: 1px solid #dddddd'>LoanPurpose_car_used</td><td style='border: 1px solid #dddddd'>double</td><td style='border: 1px solid #dddddd'>True</td></tr><tr><td style='border: 1px solid #dddddd'>LoanPurpose_education</td><td style='border: 1px solid #dddddd'>double</td><td style='border: 1px solid #dddddd'>True</td></tr><tr><td style='border: 1px solid #dddddd'>LoanPurpose_furniture</td><td style='border: 1px solid #dddddd'>double</td><td style='border: 1px solid #dddddd'>True</td></tr><tr><td style='border: 1px solid #dddddd'>LoanPurpose_other</td><td style='border: 1px solid #dddddd'>double</td><td style='border: 1px solid #dddddd'>True</td></tr><tr><td style='border: 1px solid #dddddd'>LoanPurpose_radio_tv</td><td style='border: 1px solid #dddddd'>double</td><td style='border: 1px solid #dddddd'>True</td></tr><tr><td style='border: 1px solid #dddddd'>LoanPurpose_repairs</td><td style='border: 1px solid #dddddd'>double</td><td style='border: 1px solid #dddddd'>True</td></tr><tr><td style='border: 1px solid #dddddd'>LoanPurpose_retraining</td><td style='border: 1px solid #dddddd'>double</td><td style='border: 1px solid #dddddd'>True</td></tr><tr><td style='border: 1px solid #dddddd'>LoanPurpose_vacation</td><td style='border: 1px solid #dddddd'>double</td><td style='border: 1px solid #dddddd'>True</td></tr><tr><td style='border: 1px solid #dddddd'>ExistingSavings_100_to_500</td><td style='border: 1px solid #dddddd'>double</td><td style='border: 1px solid #dddddd'>True</td></tr><tr><td style='border: 1px solid #dddddd'>ExistingSavings_500_to_1000</td><td style='border: 1px solid #dddddd'>double</td><td style='border: 1px solid #dddddd'>True</td></tr><tr><td style='border: 1px solid #dddddd'>ExistingSavings_greater_1000</td><td style='border: 1px solid #dddddd'>double</td><td style='border: 1px solid #dddddd'>True</td></tr><tr><td style='border: 1px solid #dddddd'>ExistingSavings_less_100</td><td style='border: 1px solid #dddddd'>double</td><td style='border: 1px solid #dddddd'>True</td></tr><tr><td style='border: 1px solid #dddddd'>ExistingSavings_unknown</td><td style='border: 1px solid #dddddd'>double</td><td style='border: 1px solid #dddddd'>True</td></tr><tr><td style='border: 1px solid #dddddd'>EmploymentDuration_1_to_4</td><td style='border: 1px solid #dddddd'>double</td><td style='border: 1px solid #dddddd'>True</td></tr><tr><td style='border: 1px solid #dddddd'>EmploymentDuration_4_to_7</td><td style='border: 1px solid #dddddd'>double</td><td style='border: 1px solid #dddddd'>True</td></tr><tr><td style='border: 1px solid #dddddd'>EmploymentDuration_greater_7</td><td style='border: 1px solid #dddddd'>double</td><td style='border: 1px solid #dddddd'>True</td></tr><tr><td style='border: 1px solid #dddddd'>EmploymentDuration_less_1</td><td style='border: 1px solid #dddddd'>double</td><td style='border: 1px solid #dddddd'>True</td></tr><tr><td style='border: 1px solid #dddddd'>EmploymentDuration_unemployed</td><td style='border: 1px solid #dddddd'>double</td><td style='border: 1px solid #dddddd'>True</td></tr><tr><td style='border: 1px solid #dddddd'>Sex_female</td><td style='border: 1px solid #dddddd'>double</td><td style='border: 1px solid #dddddd'>True</td></tr><tr><td style='border: 1px solid #dddddd'>Sex_male</td><td style='border: 1px solid #dddddd'>double</td><td style='border: 1px solid #dddddd'>True</td></tr><tr><td style='border: 1px solid #dddddd'>OthersOnLoan_co-applicant</td><td style='border: 1px solid #dddddd'>double</td><td style='border: 1px solid #dddddd'>True</td></tr><tr><td style='border: 1px solid #dddddd'>OthersOnLoan_guarantor</td><td style='border: 1px solid #dddddd'>double</td><td style='border: 1px solid #dddddd'>True</td></tr><tr><td style='border: 1px solid #dddddd'>OthersOnLoan_none</td><td style='border: 1px solid #dddddd'>double</td><td style='border: 1px solid #dddddd'>True</td></tr><tr><td style='border: 1px solid #dddddd'>OwnsProperty_car_other</td><td style='border: 1px solid #dddddd'>double</td><td style='border: 1px solid #dddddd'>True</td></tr><tr><td style='border: 1px solid #dddddd'>OwnsProperty_real_estate</td><td style='border: 1px solid #dddddd'>double</td><td style='border: 1px solid #dddddd'>True</td></tr><tr><td style='border: 1px solid #dddddd'>OwnsProperty_savings_insurance</td><td style='border: 1px solid #dddddd'>double</td><td style='border: 1px solid #dddddd'>True</td></tr><tr><td style='border: 1px solid #dddddd'>OwnsProperty_unknown</td><td style='border: 1px solid #dddddd'>double</td><td style='border: 1px solid #dddddd'>True</td></tr><tr><td style='border: 1px solid #dddddd'>InstallmentPlans_bank</td><td style='border: 1px solid #dddddd'>double</td><td style='border: 1px solid #dddddd'>True</td></tr><tr><td style='border: 1px solid #dddddd'>InstallmentPlans_none</td><td style='border: 1px solid #dddddd'>double</td><td style='border: 1px solid #dddddd'>True</td></tr><tr><td style='border: 1px solid #dddddd'>InstallmentPlans_stores</td><td style='border: 1px solid #dddddd'>double</td><td style='border: 1px solid #dddddd'>True</td></tr><tr><td style='border: 1px solid #dddddd'>Housing_free</td><td style='border: 1px solid #dddddd'>double</td><td style='border: 1px solid #dddddd'>True</td></tr><tr><td style='border: 1px solid #dddddd'>Housing_own</td><td style='border: 1px solid #dddddd'>double</td><td style='border: 1px solid #dddddd'>True</td></tr><tr><td style='border: 1px solid #dddddd'>Housing_rent</td><td style='border: 1px solid #dddddd'>double</td><td style='border: 1px solid #dddddd'>True</td></tr><tr><td style='border: 1px solid #dddddd'>Job_management_self-employed</td><td style='border: 1px solid #dddddd'>double</td><td style='border: 1px solid #dddddd'>True</td></tr><tr><td style='border: 1px solid #dddddd'>Job_skilled</td><td style='border: 1px solid #dddddd'>double</td><td style='border: 1px solid #dddddd'>True</td></tr><tr><td style='border: 1px solid #dddddd'>Job_unemployed</td><td style='border: 1px solid #dddddd'>double</td><td style='border: 1px solid #dddddd'>True</td></tr><tr><td style='border: 1px solid #dddddd'>Job_unskilled</td><td style='border: 1px solid #dddddd'>double</td><td style='border: 1px solid #dddddd'>True</td></tr><tr><td style='border: 1px solid #dddddd'>Telephone_none</td><td style='border: 1px solid #dddddd'>double</td><td style='border: 1px solid #dddddd'>True</td></tr><tr><td style='border: 1px solid #dddddd'>Telephone_yes</td><td style='border: 1px solid #dddddd'>double</td><td style='border: 1px solid #dddddd'>True</td></tr><tr><td style='border: 1px solid #dddddd'>ForeignWorker_no</td><td style='border: 1px solid #dddddd'>double</td><td style='border: 1px solid #dddddd'>True</td></tr><tr><td style='border: 1px solid #dddddd'>ForeignWorker_yes</td><td style='border: 1px solid #dddddd'>double</td><td style='border: 1px solid #dddddd'>True</td></tr><tr><td style='border: 1px solid #dddddd'>LoanDuration</td><td style='border: 1px solid #dddddd'>double</td><td style='border: 1px solid #dddddd'>True</td></tr><tr><td style='border: 1px solid #dddddd'>LoanAmount</td><td style='border: 1px solid #dddddd'>double</td><td style='border: 1px solid #dddddd'>True</td></tr><tr><td style='border: 1px solid #dddddd'>InstallmentPercent</td><td style='border: 1px solid #dddddd'>double</td><td style='border: 1px solid #dddddd'>True</td></tr><tr><td style='border: 1px solid #dddddd'>CurrentResidenceDuration</td><td style='border: 1px solid #dddddd'>double</td><td style='border: 1px solid #dddddd'>True</td></tr><tr><td style='border: 1px solid #dddddd'>Age</td><td style='border: 1px solid #dddddd'>double</td><td style='border: 1px solid #dddddd'>True</td></tr><tr><td style='border: 1px solid #dddddd'>ExistingCreditsCount</td><td style='border: 1px solid #dddddd'>double</td><td style='border: 1px solid #dddddd'>True</td></tr><tr><td style='border: 1px solid #dddddd'>Dependents</td><td style='border: 1px solid #dddddd'>double</td><td style='border: 1px solid #dddddd'>True</td></tr><tr><td style='border: 1px solid #dddddd'>Risk</td><td style='border: 1px solid #dddddd'>double</td><td style='border: 1px solid #dddddd'>True</td></tr><tr><td style='border: 1px solid #dddddd'>_training</td><td style='border: 1px solid #dddddd'>timestamp</td><td style='border: 1px solid #dddddd'>False</td></tr>\n",
       "            </table>\n",
       "        </body>\n",
       "        </HTML>"
      ],
      "text/plain": [
       "<IPython.core.display.HTML object>"
      ]
     },
     "metadata": {},
     "output_type": "display_data"
    }
   ],
   "source": [
    "subscription.feedback_logging.print_table_schema()"
   ]
  },
  {
   "cell_type": "markdown",
   "metadata": {},
   "source": [
    "The feedback records can be send to feedback table using below code."
   ]
  },
  {
   "cell_type": "code",
   "execution_count": 45,
   "metadata": {},
   "outputs": [],
   "source": [
    "import requests\n",
    "\n",
    "data = requests.get('https://raw.githubusercontent.com/pmservice/ai-openscale-tutorials/master/notebooks/data/credit_risk_feedback_recoded.csv').text.split('\\n')\n",
    "feedback_columns = data[0].split(',')\n",
    "feedback_records = data[1:][:-1]\n",
    "\n",
    "feedback_records_list = [feedback_records[i].split(',') for i in range(len(feedback_records))]\n",
    "\n",
    "subscription.feedback_logging.store(feedback_data=feedback_records_list, fields=feedback_columns, feedback_format='wml')"
   ]
  },
  {
   "cell_type": "markdown",
   "metadata": {},
   "source": [
    "### Run quality monitoring on demand"
   ]
  },
  {
   "cell_type": "markdown",
   "metadata": {},
   "source": [
    "By default, quality monitoring is run on hourly schedule. You can also trigger it on demand using below code."
   ]
  },
  {
   "cell_type": "code",
   "execution_count": 46,
   "metadata": {},
   "outputs": [],
   "source": [
    "run_details = subscription.quality_monitoring.run(background_mode=True)"
   ]
  },
  {
   "cell_type": "markdown",
   "metadata": {},
   "source": [
    "Since the monitoring runs in the background you can use below method to check the status of the job."
   ]
  },
  {
   "cell_type": "code",
   "execution_count": 47,
   "metadata": {},
   "outputs": [
    {
     "name": "stdout",
     "output_type": "stream",
     "text": [
      "Run status: initializing\n",
      "Run status: completed\n"
     ]
    }
   ],
   "source": [
    "status = run_details['status']\n",
    "run_id = run_details['id']\n",
    "\n",
    "print(\"Run status: {}\".format(status))\n",
    "\n",
    "start_time = time.time()\n",
    "elapsed_time = 0\n",
    "\n",
    "while status != 'completed' and elapsed_time < 60:\n",
    "    time.sleep(10)\n",
    "    run_details = subscription.quality_monitoring.get_run_details(run_uid=run_id)\n",
    "    status = run_details['status']\n",
    "    elapsed_time = time.time() - start_time\n",
    "    print(\"Run status: {}\".format(status))"
   ]
  },
  {
   "cell_type": "markdown",
   "metadata": {},
   "source": [
    "### Show the quality metrics"
   ]
  },
  {
   "cell_type": "code",
   "execution_count": 48,
   "metadata": {},
   "outputs": [
    {
     "data": {
      "text/html": [
       "<HTML>\n",
       "        <body>\n",
       "            <h3>QualityMetrics (binding_id=3f392dbe-8f93-4965-98d2-cf930a0b32cc, subscription_id=253a3eb8d068b34b9d3e79bffcfcdbb8)</h3>\n",
       "            <table style='border: 1px solid #dddddd; font-family: Courier'>\n",
       "                <th style='border: 1px solid #dddddd'>ts</th><th style='border: 1px solid #dddddd'>id</th><th style='border: 1px solid #dddddd'>value</th><th style='border: 1px solid #dddddd'>lower limit</th><th style='border: 1px solid #dddddd'>upper limit</th><th style='border: 1px solid #dddddd'>tags</th><th style='border: 1px solid #dddddd'>binding_id</th><th style='border: 1px solid #dddddd'>subscription_id</th><th style='border: 1px solid #dddddd'>deployment_id</th>\n",
       "                <tr><td style='border: 1px solid #dddddd'>2019-04-08 08:25:20.518000+00:00</td><td style='border: 1px solid #dddddd'>area_under_roc</td><td style='border: 1px solid #dddddd'>0.0</td><td style='border: 1px solid #dddddd'>0.7</td><td style='border: 1px solid #dddddd'></td><td style='border: 1px solid #dddddd'></td><td style='border: 1px solid #dddddd'>3f392dbe-8f93-4965-98d2-cf930a0b32cc</td><td style='border: 1px solid #dddddd'>253a3eb8d068b34b9d3e79bffcfcdbb8</td><td style='border: 1px solid #dddddd'>a3e4abd3429870983b100b4b609d469a</td></tr><tr><td style='border: 1px solid #dddddd'>2019-04-08 08:25:20.518000+00:00</td><td style='border: 1px solid #dddddd'>accuracy</td><td style='border: 1px solid #dddddd'>0.0</td><td style='border: 1px solid #dddddd'></td><td style='border: 1px solid #dddddd'></td><td style='border: 1px solid #dddddd'></td><td style='border: 1px solid #dddddd'>3f392dbe-8f93-4965-98d2-cf930a0b32cc</td><td style='border: 1px solid #dddddd'>253a3eb8d068b34b9d3e79bffcfcdbb8</td><td style='border: 1px solid #dddddd'>a3e4abd3429870983b100b4b609d469a</td></tr><tr><td style='border: 1px solid #dddddd'>2019-04-08 08:25:20.518000+00:00</td><td style='border: 1px solid #dddddd'>area_under_pr</td><td style='border: 1px solid #dddddd'>0.0</td><td style='border: 1px solid #dddddd'></td><td style='border: 1px solid #dddddd'></td><td style='border: 1px solid #dddddd'></td><td style='border: 1px solid #dddddd'>3f392dbe-8f93-4965-98d2-cf930a0b32cc</td><td style='border: 1px solid #dddddd'>253a3eb8d068b34b9d3e79bffcfcdbb8</td><td style='border: 1px solid #dddddd'>a3e4abd3429870983b100b4b609d469a</td></tr>\n",
       "            </table>\n",
       "        </body>\n",
       "        </HTML>"
      ],
      "text/plain": [
       "<IPython.core.display.HTML object>"
      ]
     },
     "metadata": {},
     "output_type": "display_data"
    }
   ],
   "source": [
    "subscription.quality_monitoring.show_table()"
   ]
  },
  {
   "cell_type": "markdown",
   "metadata": {},
   "source": [
    "Get all calculated metrics."
   ]
  },
  {
   "cell_type": "code",
   "execution_count": 49,
   "metadata": {},
   "outputs": [],
   "source": [
    "[deployment_uid, *_] = subscription.get_deployment_uids()"
   ]
  },
  {
   "cell_type": "code",
   "execution_count": 50,
   "metadata": {},
   "outputs": [
    {
     "data": {
      "text/plain": [
       "[{'binding_id': '3f392dbe-8f93-4965-98d2-cf930a0b32cc',\n",
       "  'metrics': [{'id': 'area_under_roc', 'lower_limit': 0.7, 'value': 0.0},\n",
       "   {'id': 'accuracy', 'value': 0.0},\n",
       "   {'id': 'area_under_pr', 'value': 0.0}],\n",
       "  'monitor_definition_id': 'quality',\n",
       "  'subscription_id': '253a3eb8d068b34b9d3e79bffcfcdbb8',\n",
       "  'tags': [],\n",
       "  'ts': '2019-04-08T08:25:20.518Z'}]"
      ]
     },
     "execution_count": 50,
     "metadata": {},
     "output_type": "execute_result"
    }
   ],
   "source": [
    "subscription.quality_monitoring.get_metrics(deployment_uid=deployment_uid)"
   ]
  },
  {
   "cell_type": "markdown",
   "metadata": {},
   "source": [
    "<a id=\"datamart\"></a>\n",
    "## 6. Get the logged data"
   ]
  },
  {
   "cell_type": "markdown",
   "metadata": {},
   "source": [
    "### Payload logging"
   ]
  },
  {
   "cell_type": "markdown",
   "metadata": {},
   "source": [
    "#### Print schema of payload_logging table"
   ]
  },
  {
   "cell_type": "code",
   "execution_count": 51,
   "metadata": {},
   "outputs": [
    {
     "data": {
      "text/html": [
       "<HTML>\n",
       "        <body>\n",
       "            <h3>Schema of Payload_253a3eb8d068b34b9d3e79bffcfcdbb8</h3>\n",
       "            <table style='border: 1px solid #dddddd; font-family: Courier'>\n",
       "                <th style='border: 1px solid #dddddd'>name</th><th style='border: 1px solid #dddddd'>type</th><th style='border: 1px solid #dddddd'>nullable</th>\n",
       "                <tr><td style='border: 1px solid #dddddd'>scoring_id</td><td style='border: 1px solid #dddddd'>string</td><td style='border: 1px solid #dddddd'>False</td></tr><tr><td style='border: 1px solid #dddddd'>scoring_timestamp</td><td style='border: 1px solid #dddddd'>timestamp</td><td style='border: 1px solid #dddddd'>False</td></tr><tr><td style='border: 1px solid #dddddd'>deployment_id</td><td style='border: 1px solid #dddddd'>string</td><td style='border: 1px solid #dddddd'>False</td></tr><tr><td style='border: 1px solid #dddddd'>asset_revision</td><td style='border: 1px solid #dddddd'>string</td><td style='border: 1px solid #dddddd'>True</td></tr><tr><td style='border: 1px solid #dddddd'>CheckingStatus_0_to_200</td><td style='border: 1px solid #dddddd'>double</td><td style='border: 1px solid #dddddd'>True</td></tr><tr><td style='border: 1px solid #dddddd'>CheckingStatus_greater_200</td><td style='border: 1px solid #dddddd'>double</td><td style='border: 1px solid #dddddd'>True</td></tr><tr><td style='border: 1px solid #dddddd'>CheckingStatus_less_0</td><td style='border: 1px solid #dddddd'>double</td><td style='border: 1px solid #dddddd'>True</td></tr><tr><td style='border: 1px solid #dddddd'>CheckingStatus_no_checking</td><td style='border: 1px solid #dddddd'>double</td><td style='border: 1px solid #dddddd'>True</td></tr><tr><td style='border: 1px solid #dddddd'>CreditHistory_all_credits_paid_back</td><td style='border: 1px solid #dddddd'>double</td><td style='border: 1px solid #dddddd'>True</td></tr><tr><td style='border: 1px solid #dddddd'>CreditHistory_credits_paid_to_date</td><td style='border: 1px solid #dddddd'>double</td><td style='border: 1px solid #dddddd'>True</td></tr><tr><td style='border: 1px solid #dddddd'>CreditHistory_no_credits</td><td style='border: 1px solid #dddddd'>double</td><td style='border: 1px solid #dddddd'>True</td></tr><tr><td style='border: 1px solid #dddddd'>CreditHistory_outstanding_credit</td><td style='border: 1px solid #dddddd'>double</td><td style='border: 1px solid #dddddd'>True</td></tr><tr><td style='border: 1px solid #dddddd'>CreditHistory_prior_payments_delayed</td><td style='border: 1px solid #dddddd'>double</td><td style='border: 1px solid #dddddd'>True</td></tr><tr><td style='border: 1px solid #dddddd'>LoanPurpose_appliances</td><td style='border: 1px solid #dddddd'>double</td><td style='border: 1px solid #dddddd'>True</td></tr><tr><td style='border: 1px solid #dddddd'>LoanPurpose_business</td><td style='border: 1px solid #dddddd'>double</td><td style='border: 1px solid #dddddd'>True</td></tr><tr><td style='border: 1px solid #dddddd'>LoanPurpose_car_new</td><td style='border: 1px solid #dddddd'>double</td><td style='border: 1px solid #dddddd'>True</td></tr><tr><td style='border: 1px solid #dddddd'>LoanPurpose_car_used</td><td style='border: 1px solid #dddddd'>double</td><td style='border: 1px solid #dddddd'>True</td></tr><tr><td style='border: 1px solid #dddddd'>LoanPurpose_education</td><td style='border: 1px solid #dddddd'>double</td><td style='border: 1px solid #dddddd'>True</td></tr><tr><td style='border: 1px solid #dddddd'>LoanPurpose_furniture</td><td style='border: 1px solid #dddddd'>double</td><td style='border: 1px solid #dddddd'>True</td></tr><tr><td style='border: 1px solid #dddddd'>LoanPurpose_other</td><td style='border: 1px solid #dddddd'>double</td><td style='border: 1px solid #dddddd'>True</td></tr><tr><td style='border: 1px solid #dddddd'>LoanPurpose_radio_tv</td><td style='border: 1px solid #dddddd'>double</td><td style='border: 1px solid #dddddd'>True</td></tr><tr><td style='border: 1px solid #dddddd'>LoanPurpose_repairs</td><td style='border: 1px solid #dddddd'>double</td><td style='border: 1px solid #dddddd'>True</td></tr><tr><td style='border: 1px solid #dddddd'>LoanPurpose_retraining</td><td style='border: 1px solid #dddddd'>double</td><td style='border: 1px solid #dddddd'>True</td></tr><tr><td style='border: 1px solid #dddddd'>LoanPurpose_vacation</td><td style='border: 1px solid #dddddd'>double</td><td style='border: 1px solid #dddddd'>True</td></tr><tr><td style='border: 1px solid #dddddd'>ExistingSavings_100_to_500</td><td style='border: 1px solid #dddddd'>double</td><td style='border: 1px solid #dddddd'>True</td></tr><tr><td style='border: 1px solid #dddddd'>ExistingSavings_500_to_1000</td><td style='border: 1px solid #dddddd'>double</td><td style='border: 1px solid #dddddd'>True</td></tr><tr><td style='border: 1px solid #dddddd'>ExistingSavings_greater_1000</td><td style='border: 1px solid #dddddd'>double</td><td style='border: 1px solid #dddddd'>True</td></tr><tr><td style='border: 1px solid #dddddd'>ExistingSavings_less_100</td><td style='border: 1px solid #dddddd'>double</td><td style='border: 1px solid #dddddd'>True</td></tr><tr><td style='border: 1px solid #dddddd'>ExistingSavings_unknown</td><td style='border: 1px solid #dddddd'>double</td><td style='border: 1px solid #dddddd'>True</td></tr><tr><td style='border: 1px solid #dddddd'>EmploymentDuration_1_to_4</td><td style='border: 1px solid #dddddd'>double</td><td style='border: 1px solid #dddddd'>True</td></tr><tr><td style='border: 1px solid #dddddd'>EmploymentDuration_4_to_7</td><td style='border: 1px solid #dddddd'>double</td><td style='border: 1px solid #dddddd'>True</td></tr><tr><td style='border: 1px solid #dddddd'>EmploymentDuration_greater_7</td><td style='border: 1px solid #dddddd'>double</td><td style='border: 1px solid #dddddd'>True</td></tr><tr><td style='border: 1px solid #dddddd'>EmploymentDuration_less_1</td><td style='border: 1px solid #dddddd'>double</td><td style='border: 1px solid #dddddd'>True</td></tr><tr><td style='border: 1px solid #dddddd'>EmploymentDuration_unemployed</td><td style='border: 1px solid #dddddd'>double</td><td style='border: 1px solid #dddddd'>True</td></tr><tr><td style='border: 1px solid #dddddd'>Sex_female</td><td style='border: 1px solid #dddddd'>double</td><td style='border: 1px solid #dddddd'>True</td></tr><tr><td style='border: 1px solid #dddddd'>Sex_male</td><td style='border: 1px solid #dddddd'>double</td><td style='border: 1px solid #dddddd'>True</td></tr><tr><td style='border: 1px solid #dddddd'>OthersOnLoan_co-applicant</td><td style='border: 1px solid #dddddd'>double</td><td style='border: 1px solid #dddddd'>True</td></tr><tr><td style='border: 1px solid #dddddd'>OthersOnLoan_guarantor</td><td style='border: 1px solid #dddddd'>double</td><td style='border: 1px solid #dddddd'>True</td></tr><tr><td style='border: 1px solid #dddddd'>OthersOnLoan_none</td><td style='border: 1px solid #dddddd'>double</td><td style='border: 1px solid #dddddd'>True</td></tr><tr><td style='border: 1px solid #dddddd'>OwnsProperty_car_other</td><td style='border: 1px solid #dddddd'>double</td><td style='border: 1px solid #dddddd'>True</td></tr><tr><td style='border: 1px solid #dddddd'>OwnsProperty_real_estate</td><td style='border: 1px solid #dddddd'>double</td><td style='border: 1px solid #dddddd'>True</td></tr><tr><td style='border: 1px solid #dddddd'>OwnsProperty_savings_insurance</td><td style='border: 1px solid #dddddd'>double</td><td style='border: 1px solid #dddddd'>True</td></tr><tr><td style='border: 1px solid #dddddd'>OwnsProperty_unknown</td><td style='border: 1px solid #dddddd'>double</td><td style='border: 1px solid #dddddd'>True</td></tr><tr><td style='border: 1px solid #dddddd'>InstallmentPlans_bank</td><td style='border: 1px solid #dddddd'>double</td><td style='border: 1px solid #dddddd'>True</td></tr><tr><td style='border: 1px solid #dddddd'>InstallmentPlans_none</td><td style='border: 1px solid #dddddd'>double</td><td style='border: 1px solid #dddddd'>True</td></tr><tr><td style='border: 1px solid #dddddd'>InstallmentPlans_stores</td><td style='border: 1px solid #dddddd'>double</td><td style='border: 1px solid #dddddd'>True</td></tr><tr><td style='border: 1px solid #dddddd'>Housing_free</td><td style='border: 1px solid #dddddd'>double</td><td style='border: 1px solid #dddddd'>True</td></tr><tr><td style='border: 1px solid #dddddd'>Housing_own</td><td style='border: 1px solid #dddddd'>double</td><td style='border: 1px solid #dddddd'>True</td></tr><tr><td style='border: 1px solid #dddddd'>Housing_rent</td><td style='border: 1px solid #dddddd'>double</td><td style='border: 1px solid #dddddd'>True</td></tr><tr><td style='border: 1px solid #dddddd'>Job_management_self-employed</td><td style='border: 1px solid #dddddd'>double</td><td style='border: 1px solid #dddddd'>True</td></tr><tr><td style='border: 1px solid #dddddd'>Job_skilled</td><td style='border: 1px solid #dddddd'>double</td><td style='border: 1px solid #dddddd'>True</td></tr><tr><td style='border: 1px solid #dddddd'>Job_unemployed</td><td style='border: 1px solid #dddddd'>double</td><td style='border: 1px solid #dddddd'>True</td></tr><tr><td style='border: 1px solid #dddddd'>Job_unskilled</td><td style='border: 1px solid #dddddd'>double</td><td style='border: 1px solid #dddddd'>True</td></tr><tr><td style='border: 1px solid #dddddd'>Telephone_none</td><td style='border: 1px solid #dddddd'>double</td><td style='border: 1px solid #dddddd'>True</td></tr><tr><td style='border: 1px solid #dddddd'>Telephone_yes</td><td style='border: 1px solid #dddddd'>double</td><td style='border: 1px solid #dddddd'>True</td></tr><tr><td style='border: 1px solid #dddddd'>ForeignWorker_no</td><td style='border: 1px solid #dddddd'>double</td><td style='border: 1px solid #dddddd'>True</td></tr><tr><td style='border: 1px solid #dddddd'>ForeignWorker_yes</td><td style='border: 1px solid #dddddd'>double</td><td style='border: 1px solid #dddddd'>True</td></tr><tr><td style='border: 1px solid #dddddd'>LoanDuration</td><td style='border: 1px solid #dddddd'>double</td><td style='border: 1px solid #dddddd'>True</td></tr><tr><td style='border: 1px solid #dddddd'>LoanAmount</td><td style='border: 1px solid #dddddd'>double</td><td style='border: 1px solid #dddddd'>True</td></tr><tr><td style='border: 1px solid #dddddd'>InstallmentPercent</td><td style='border: 1px solid #dddddd'>double</td><td style='border: 1px solid #dddddd'>True</td></tr><tr><td style='border: 1px solid #dddddd'>CurrentResidenceDuration</td><td style='border: 1px solid #dddddd'>double</td><td style='border: 1px solid #dddddd'>True</td></tr><tr><td style='border: 1px solid #dddddd'>Age</td><td style='border: 1px solid #dddddd'>double</td><td style='border: 1px solid #dddddd'>True</td></tr><tr><td style='border: 1px solid #dddddd'>ExistingCreditsCount</td><td style='border: 1px solid #dddddd'>double</td><td style='border: 1px solid #dddddd'>True</td></tr><tr><td style='border: 1px solid #dddddd'>Dependents</td><td style='border: 1px solid #dddddd'>double</td><td style='border: 1px solid #dddddd'>True</td></tr><tr><td style='border: 1px solid #dddddd'>predicted_label</td><td style='border: 1px solid #dddddd'>double</td><td style='border: 1px solid #dddddd'>True</td></tr><tr><td style='border: 1px solid #dddddd'>score</td><td style='border: 1px solid #dddddd'>double</td><td style='border: 1px solid #dddddd'>True</td></tr><tr><td style='border: 1px solid #dddddd'>prediction_probability</td><td style='border: 1px solid #dddddd'>double</td><td style='border: 1px solid #dddddd'>True</td></tr><tr><td style='border: 1px solid #dddddd'>debiased_prediction</td><td style='border: 1px solid #dddddd'>double</td><td style='border: 1px solid #dddddd'>True</td></tr><tr><td style='border: 1px solid #dddddd'>debiased_probability</td><td style='border: 1px solid #dddddd'>{'elementType': 'double', 'containsNull': False, 'type': 'array'}</td><td style='border: 1px solid #dddddd'>True</td></tr>\n",
       "            </table>\n",
       "        </body>\n",
       "        </HTML>"
      ],
      "text/plain": [
       "<IPython.core.display.HTML object>"
      ]
     },
     "metadata": {},
     "output_type": "display_data"
    }
   ],
   "source": [
    "subscription.payload_logging.print_table_schema()"
   ]
  },
  {
   "cell_type": "markdown",
   "metadata": {},
   "source": [
    "#### Show (preview) the table"
   ]
  },
  {
   "cell_type": "code",
   "execution_count": 52,
   "metadata": {},
   "outputs": [
    {
     "name": "stdout",
     "output_type": "stream",
     "text": [
      "       CheckingStatus_0_to_200  CheckingStatus_greater_200  \\\n",
      "count                     12.0                        12.0   \n",
      "mean                       0.0                         0.0   \n",
      "std                        0.0                         0.0   \n",
      "min                        0.0                         0.0   \n",
      "25%                        0.0                         0.0   \n",
      "50%                        0.0                         0.0   \n",
      "75%                        0.0                         0.0   \n",
      "max                        0.0                         0.0   \n",
      "\n",
      "       CheckingStatus_less_0  CheckingStatus_no_checking  \\\n",
      "count                   12.0                        12.0   \n",
      "mean                     1.0                         0.0   \n",
      "std                      0.0                         0.0   \n",
      "min                      1.0                         0.0   \n",
      "25%                      1.0                         0.0   \n",
      "50%                      1.0                         0.0   \n",
      "75%                      1.0                         0.0   \n",
      "max                      1.0                         0.0   \n",
      "\n",
      "       CreditHistory_all_credits_paid_back  \\\n",
      "count                                 12.0   \n",
      "mean                                   1.0   \n",
      "std                                    0.0   \n",
      "min                                    1.0   \n",
      "25%                                    1.0   \n",
      "50%                                    1.0   \n",
      "75%                                    1.0   \n",
      "max                                    1.0   \n",
      "\n",
      "       CreditHistory_credits_paid_to_date  CreditHistory_no_credits  \\\n",
      "count                                12.0                      12.0   \n",
      "mean                                  0.0                       0.0   \n",
      "std                                   0.0                       0.0   \n",
      "min                                   0.0                       0.0   \n",
      "25%                                   0.0                       0.0   \n",
      "50%                                   0.0                       0.0   \n",
      "75%                                   0.0                       0.0   \n",
      "max                                   0.0                       0.0   \n",
      "\n",
      "       CreditHistory_outstanding_credit  CreditHistory_prior_payments_delayed  \\\n",
      "count                              12.0                                  12.0   \n",
      "mean                                0.0                                   0.0   \n",
      "std                                 0.0                                   0.0   \n",
      "min                                 0.0                                   0.0   \n",
      "25%                                 0.0                                   0.0   \n",
      "50%                                 0.0                                   0.0   \n",
      "75%                                 0.0                                   0.0   \n",
      "max                                 0.0                                   0.0   \n",
      "\n",
      "       LoanPurpose_appliances  ...  LoanDuration  LoanAmount  \\\n",
      "count                    12.0  ...          12.0        12.0   \n",
      "mean                      0.0  ...          12.0      4152.0   \n",
      "std                       0.0  ...           0.0         0.0   \n",
      "min                       0.0  ...          12.0      4152.0   \n",
      "25%                       0.0  ...          12.0      4152.0   \n",
      "50%                       0.0  ...          12.0      4152.0   \n",
      "75%                       0.0  ...          12.0      4152.0   \n",
      "max                       0.0  ...          12.0      4152.0   \n",
      "\n",
      "       InstallmentPercent  CurrentResidenceDuration   Age  \\\n",
      "count                12.0                      12.0  12.0   \n",
      "mean                  2.0                       3.0  29.0   \n",
      "std                   0.0                       0.0   0.0   \n",
      "min                   2.0                       3.0  29.0   \n",
      "25%                   2.0                       3.0  29.0   \n",
      "50%                   2.0                       3.0  29.0   \n",
      "75%                   2.0                       3.0  29.0   \n",
      "max                   2.0                       3.0  29.0   \n",
      "\n",
      "       ExistingCreditsCount  Dependents  predicted_label      score  \\\n",
      "count                  12.0        12.0             12.0  12.000000   \n",
      "mean                    2.0         1.0              0.0   0.202446   \n",
      "std                     0.0         0.0              0.0   0.000000   \n",
      "min                     2.0         1.0              0.0   0.202446   \n",
      "25%                     2.0         1.0              0.0   0.202446   \n",
      "50%                     2.0         1.0              0.0   0.202446   \n",
      "75%                     2.0         1.0              0.0   0.202446   \n",
      "max                     2.0         1.0              0.0   0.202446   \n",
      "\n",
      "       prediction_probability  \n",
      "count               11.000000  \n",
      "mean                 0.797554  \n",
      "std                  0.000000  \n",
      "min                  0.797554  \n",
      "25%                  0.797554  \n",
      "50%                  0.797554  \n",
      "75%                  0.797554  \n",
      "max                  0.797554  \n",
      "\n",
      "[8 rows x 63 columns]\n"
     ]
    }
   ],
   "source": [
    "subscription.payload_logging.describe_table()"
   ]
  },
  {
   "cell_type": "markdown",
   "metadata": {},
   "source": [
    "#### Return the table content as pandas dataframe"
   ]
  },
  {
   "cell_type": "code",
   "execution_count": 53,
   "metadata": {},
   "outputs": [],
   "source": [
    "pandas_df = subscription.payload_logging.get_table_content(format='pandas')"
   ]
  },
  {
   "cell_type": "code",
   "execution_count": 54,
   "metadata": {},
   "outputs": [
    {
     "data": {
      "text/html": [
       "<div>\n",
       "<style scoped>\n",
       "    .dataframe tbody tr th:only-of-type {\n",
       "        vertical-align: middle;\n",
       "    }\n",
       "\n",
       "    .dataframe tbody tr th {\n",
       "        vertical-align: top;\n",
       "    }\n",
       "\n",
       "    .dataframe thead th {\n",
       "        text-align: right;\n",
       "    }\n",
       "</style>\n",
       "<table border=\"1\" class=\"dataframe\">\n",
       "  <thead>\n",
       "    <tr style=\"text-align: right;\">\n",
       "      <th></th>\n",
       "      <th>scoring_id</th>\n",
       "      <th>scoring_timestamp</th>\n",
       "      <th>deployment_id</th>\n",
       "      <th>asset_revision</th>\n",
       "      <th>CheckingStatus_0_to_200</th>\n",
       "      <th>CheckingStatus_greater_200</th>\n",
       "      <th>CheckingStatus_less_0</th>\n",
       "      <th>CheckingStatus_no_checking</th>\n",
       "      <th>CreditHistory_all_credits_paid_back</th>\n",
       "      <th>CreditHistory_credits_paid_to_date</th>\n",
       "      <th>...</th>\n",
       "      <th>InstallmentPercent</th>\n",
       "      <th>CurrentResidenceDuration</th>\n",
       "      <th>Age</th>\n",
       "      <th>ExistingCreditsCount</th>\n",
       "      <th>Dependents</th>\n",
       "      <th>predicted_label</th>\n",
       "      <th>score</th>\n",
       "      <th>prediction_probability</th>\n",
       "      <th>debiased_prediction</th>\n",
       "      <th>debiased_probability</th>\n",
       "    </tr>\n",
       "  </thead>\n",
       "  <tbody>\n",
       "    <tr>\n",
       "      <th>0</th>\n",
       "      <td>0fe55f83-e3e0-4015-a721-11aeb2e940af-1</td>\n",
       "      <td>2019-04-08 08:24:31.353000+00:00</td>\n",
       "      <td>a3e4abd3429870983b100b4b609d469a</td>\n",
       "      <td>None</td>\n",
       "      <td>0.0</td>\n",
       "      <td>0.0</td>\n",
       "      <td>1.0</td>\n",
       "      <td>0.0</td>\n",
       "      <td>1.0</td>\n",
       "      <td>0.0</td>\n",
       "      <td>...</td>\n",
       "      <td>2.0</td>\n",
       "      <td>3.0</td>\n",
       "      <td>29.0</td>\n",
       "      <td>2.0</td>\n",
       "      <td>1.0</td>\n",
       "      <td>0.0</td>\n",
       "      <td>0.202446</td>\n",
       "      <td>0.797554</td>\n",
       "      <td>None</td>\n",
       "      <td>None</td>\n",
       "    </tr>\n",
       "    <tr>\n",
       "      <th>1</th>\n",
       "      <td>ea3cd968-c127-42fc-9ee4-2205d6788659-1</td>\n",
       "      <td>2019-04-08 08:22:55.470000+00:00</td>\n",
       "      <td>a3e4abd3429870983b100b4b609d469a</td>\n",
       "      <td>None</td>\n",
       "      <td>0.0</td>\n",
       "      <td>0.0</td>\n",
       "      <td>1.0</td>\n",
       "      <td>0.0</td>\n",
       "      <td>1.0</td>\n",
       "      <td>0.0</td>\n",
       "      <td>...</td>\n",
       "      <td>2.0</td>\n",
       "      <td>3.0</td>\n",
       "      <td>29.0</td>\n",
       "      <td>2.0</td>\n",
       "      <td>1.0</td>\n",
       "      <td>0.0</td>\n",
       "      <td>0.202446</td>\n",
       "      <td>0.797554</td>\n",
       "      <td>None</td>\n",
       "      <td>None</td>\n",
       "    </tr>\n",
       "    <tr>\n",
       "      <th>2</th>\n",
       "      <td>28a7fee5-4856-4de0-a6ca-678b7557e911-1</td>\n",
       "      <td>2019-04-08 08:22:55.469000+00:00</td>\n",
       "      <td>a3e4abd3429870983b100b4b609d469a</td>\n",
       "      <td>None</td>\n",
       "      <td>0.0</td>\n",
       "      <td>0.0</td>\n",
       "      <td>1.0</td>\n",
       "      <td>0.0</td>\n",
       "      <td>1.0</td>\n",
       "      <td>0.0</td>\n",
       "      <td>...</td>\n",
       "      <td>2.0</td>\n",
       "      <td>3.0</td>\n",
       "      <td>29.0</td>\n",
       "      <td>2.0</td>\n",
       "      <td>1.0</td>\n",
       "      <td>0.0</td>\n",
       "      <td>0.202446</td>\n",
       "      <td>0.797554</td>\n",
       "      <td>None</td>\n",
       "      <td>None</td>\n",
       "    </tr>\n",
       "    <tr>\n",
       "      <th>3</th>\n",
       "      <td>3f618053-0224-4d1a-a9b9-c32e97ac4b4c-1</td>\n",
       "      <td>2019-04-08 08:22:55.469000+00:00</td>\n",
       "      <td>a3e4abd3429870983b100b4b609d469a</td>\n",
       "      <td>None</td>\n",
       "      <td>0.0</td>\n",
       "      <td>0.0</td>\n",
       "      <td>1.0</td>\n",
       "      <td>0.0</td>\n",
       "      <td>1.0</td>\n",
       "      <td>0.0</td>\n",
       "      <td>...</td>\n",
       "      <td>2.0</td>\n",
       "      <td>3.0</td>\n",
       "      <td>29.0</td>\n",
       "      <td>2.0</td>\n",
       "      <td>1.0</td>\n",
       "      <td>0.0</td>\n",
       "      <td>0.202446</td>\n",
       "      <td>0.797554</td>\n",
       "      <td>None</td>\n",
       "      <td>None</td>\n",
       "    </tr>\n",
       "    <tr>\n",
       "      <th>4</th>\n",
       "      <td>41c946c6-f4d8-47da-b5ec-218194fcd8d3-1</td>\n",
       "      <td>2019-04-08 08:22:55.469000+00:00</td>\n",
       "      <td>a3e4abd3429870983b100b4b609d469a</td>\n",
       "      <td>None</td>\n",
       "      <td>0.0</td>\n",
       "      <td>0.0</td>\n",
       "      <td>1.0</td>\n",
       "      <td>0.0</td>\n",
       "      <td>1.0</td>\n",
       "      <td>0.0</td>\n",
       "      <td>...</td>\n",
       "      <td>2.0</td>\n",
       "      <td>3.0</td>\n",
       "      <td>29.0</td>\n",
       "      <td>2.0</td>\n",
       "      <td>1.0</td>\n",
       "      <td>0.0</td>\n",
       "      <td>0.202446</td>\n",
       "      <td>0.797554</td>\n",
       "      <td>None</td>\n",
       "      <td>None</td>\n",
       "    </tr>\n",
       "    <tr>\n",
       "      <th>5</th>\n",
       "      <td>5f7349a6-da12-431e-9c6d-fd7d0425a0e0-1</td>\n",
       "      <td>2019-04-08 08:22:55.469000+00:00</td>\n",
       "      <td>a3e4abd3429870983b100b4b609d469a</td>\n",
       "      <td>None</td>\n",
       "      <td>0.0</td>\n",
       "      <td>0.0</td>\n",
       "      <td>1.0</td>\n",
       "      <td>0.0</td>\n",
       "      <td>1.0</td>\n",
       "      <td>0.0</td>\n",
       "      <td>...</td>\n",
       "      <td>2.0</td>\n",
       "      <td>3.0</td>\n",
       "      <td>29.0</td>\n",
       "      <td>2.0</td>\n",
       "      <td>1.0</td>\n",
       "      <td>0.0</td>\n",
       "      <td>0.202446</td>\n",
       "      <td>0.797554</td>\n",
       "      <td>None</td>\n",
       "      <td>None</td>\n",
       "    </tr>\n",
       "    <tr>\n",
       "      <th>6</th>\n",
       "      <td>6fcbd34a-9d71-4504-a53d-d2185500f591-1</td>\n",
       "      <td>2019-04-08 08:22:55.469000+00:00</td>\n",
       "      <td>a3e4abd3429870983b100b4b609d469a</td>\n",
       "      <td>None</td>\n",
       "      <td>0.0</td>\n",
       "      <td>0.0</td>\n",
       "      <td>1.0</td>\n",
       "      <td>0.0</td>\n",
       "      <td>1.0</td>\n",
       "      <td>0.0</td>\n",
       "      <td>...</td>\n",
       "      <td>2.0</td>\n",
       "      <td>3.0</td>\n",
       "      <td>29.0</td>\n",
       "      <td>2.0</td>\n",
       "      <td>1.0</td>\n",
       "      <td>0.0</td>\n",
       "      <td>0.202446</td>\n",
       "      <td>0.797554</td>\n",
       "      <td>None</td>\n",
       "      <td>None</td>\n",
       "    </tr>\n",
       "    <tr>\n",
       "      <th>7</th>\n",
       "      <td>c96977d6-54e2-46d0-9bdd-331db40844ad-1</td>\n",
       "      <td>2019-04-08 08:22:55.469000+00:00</td>\n",
       "      <td>a3e4abd3429870983b100b4b609d469a</td>\n",
       "      <td>None</td>\n",
       "      <td>0.0</td>\n",
       "      <td>0.0</td>\n",
       "      <td>1.0</td>\n",
       "      <td>0.0</td>\n",
       "      <td>1.0</td>\n",
       "      <td>0.0</td>\n",
       "      <td>...</td>\n",
       "      <td>2.0</td>\n",
       "      <td>3.0</td>\n",
       "      <td>29.0</td>\n",
       "      <td>2.0</td>\n",
       "      <td>1.0</td>\n",
       "      <td>0.0</td>\n",
       "      <td>0.202446</td>\n",
       "      <td>0.797554</td>\n",
       "      <td>None</td>\n",
       "      <td>None</td>\n",
       "    </tr>\n",
       "    <tr>\n",
       "      <th>8</th>\n",
       "      <td>d719cb45-f09b-448b-b982-e04cddcf5e9b-1</td>\n",
       "      <td>2019-04-08 08:22:55.469000+00:00</td>\n",
       "      <td>a3e4abd3429870983b100b4b609d469a</td>\n",
       "      <td>None</td>\n",
       "      <td>0.0</td>\n",
       "      <td>0.0</td>\n",
       "      <td>1.0</td>\n",
       "      <td>0.0</td>\n",
       "      <td>1.0</td>\n",
       "      <td>0.0</td>\n",
       "      <td>...</td>\n",
       "      <td>2.0</td>\n",
       "      <td>3.0</td>\n",
       "      <td>29.0</td>\n",
       "      <td>2.0</td>\n",
       "      <td>1.0</td>\n",
       "      <td>0.0</td>\n",
       "      <td>0.202446</td>\n",
       "      <td>0.797554</td>\n",
       "      <td>None</td>\n",
       "      <td>None</td>\n",
       "    </tr>\n",
       "    <tr>\n",
       "      <th>9</th>\n",
       "      <td>f8e2432c-413d-4c34-abeb-befe80ec8e86-1</td>\n",
       "      <td>2019-04-08 08:22:55.469000+00:00</td>\n",
       "      <td>a3e4abd3429870983b100b4b609d469a</td>\n",
       "      <td>None</td>\n",
       "      <td>0.0</td>\n",
       "      <td>0.0</td>\n",
       "      <td>1.0</td>\n",
       "      <td>0.0</td>\n",
       "      <td>1.0</td>\n",
       "      <td>0.0</td>\n",
       "      <td>...</td>\n",
       "      <td>2.0</td>\n",
       "      <td>3.0</td>\n",
       "      <td>29.0</td>\n",
       "      <td>2.0</td>\n",
       "      <td>1.0</td>\n",
       "      <td>0.0</td>\n",
       "      <td>0.202446</td>\n",
       "      <td>0.797554</td>\n",
       "      <td>None</td>\n",
       "      <td>None</td>\n",
       "    </tr>\n",
       "    <tr>\n",
       "      <th>10</th>\n",
       "      <td>111153b0-0050-44b1-8cd6-d5556b054575-1</td>\n",
       "      <td>2019-04-08 08:22:55.469000+00:00</td>\n",
       "      <td>a3e4abd3429870983b100b4b609d469a</td>\n",
       "      <td>None</td>\n",
       "      <td>0.0</td>\n",
       "      <td>0.0</td>\n",
       "      <td>1.0</td>\n",
       "      <td>0.0</td>\n",
       "      <td>1.0</td>\n",
       "      <td>0.0</td>\n",
       "      <td>...</td>\n",
       "      <td>2.0</td>\n",
       "      <td>3.0</td>\n",
       "      <td>29.0</td>\n",
       "      <td>2.0</td>\n",
       "      <td>1.0</td>\n",
       "      <td>0.0</td>\n",
       "      <td>0.202446</td>\n",
       "      <td>0.797554</td>\n",
       "      <td>None</td>\n",
       "      <td>None</td>\n",
       "    </tr>\n",
       "    <tr>\n",
       "      <th>11</th>\n",
       "      <td>f3309586-9826-4d14-97bd-f4bd358797fd-1</td>\n",
       "      <td>2019-04-08 08:21:38.369000+00:00</td>\n",
       "      <td>a3e4abd3429870983b100b4b609d469a</td>\n",
       "      <td>None</td>\n",
       "      <td>0.0</td>\n",
       "      <td>0.0</td>\n",
       "      <td>1.0</td>\n",
       "      <td>0.0</td>\n",
       "      <td>1.0</td>\n",
       "      <td>0.0</td>\n",
       "      <td>...</td>\n",
       "      <td>2.0</td>\n",
       "      <td>3.0</td>\n",
       "      <td>29.0</td>\n",
       "      <td>2.0</td>\n",
       "      <td>1.0</td>\n",
       "      <td>0.0</td>\n",
       "      <td>0.202446</td>\n",
       "      <td>NaN</td>\n",
       "      <td>None</td>\n",
       "      <td>None</td>\n",
       "    </tr>\n",
       "  </tbody>\n",
       "</table>\n",
       "<p>12 rows × 69 columns</p>\n",
       "</div>"
      ],
      "text/plain": [
       "                                scoring_id                scoring_timestamp  \\\n",
       "0   0fe55f83-e3e0-4015-a721-11aeb2e940af-1 2019-04-08 08:24:31.353000+00:00   \n",
       "1   ea3cd968-c127-42fc-9ee4-2205d6788659-1 2019-04-08 08:22:55.470000+00:00   \n",
       "2   28a7fee5-4856-4de0-a6ca-678b7557e911-1 2019-04-08 08:22:55.469000+00:00   \n",
       "3   3f618053-0224-4d1a-a9b9-c32e97ac4b4c-1 2019-04-08 08:22:55.469000+00:00   \n",
       "4   41c946c6-f4d8-47da-b5ec-218194fcd8d3-1 2019-04-08 08:22:55.469000+00:00   \n",
       "5   5f7349a6-da12-431e-9c6d-fd7d0425a0e0-1 2019-04-08 08:22:55.469000+00:00   \n",
       "6   6fcbd34a-9d71-4504-a53d-d2185500f591-1 2019-04-08 08:22:55.469000+00:00   \n",
       "7   c96977d6-54e2-46d0-9bdd-331db40844ad-1 2019-04-08 08:22:55.469000+00:00   \n",
       "8   d719cb45-f09b-448b-b982-e04cddcf5e9b-1 2019-04-08 08:22:55.469000+00:00   \n",
       "9   f8e2432c-413d-4c34-abeb-befe80ec8e86-1 2019-04-08 08:22:55.469000+00:00   \n",
       "10  111153b0-0050-44b1-8cd6-d5556b054575-1 2019-04-08 08:22:55.469000+00:00   \n",
       "11  f3309586-9826-4d14-97bd-f4bd358797fd-1 2019-04-08 08:21:38.369000+00:00   \n",
       "\n",
       "                       deployment_id asset_revision  CheckingStatus_0_to_200  \\\n",
       "0   a3e4abd3429870983b100b4b609d469a           None                      0.0   \n",
       "1   a3e4abd3429870983b100b4b609d469a           None                      0.0   \n",
       "2   a3e4abd3429870983b100b4b609d469a           None                      0.0   \n",
       "3   a3e4abd3429870983b100b4b609d469a           None                      0.0   \n",
       "4   a3e4abd3429870983b100b4b609d469a           None                      0.0   \n",
       "5   a3e4abd3429870983b100b4b609d469a           None                      0.0   \n",
       "6   a3e4abd3429870983b100b4b609d469a           None                      0.0   \n",
       "7   a3e4abd3429870983b100b4b609d469a           None                      0.0   \n",
       "8   a3e4abd3429870983b100b4b609d469a           None                      0.0   \n",
       "9   a3e4abd3429870983b100b4b609d469a           None                      0.0   \n",
       "10  a3e4abd3429870983b100b4b609d469a           None                      0.0   \n",
       "11  a3e4abd3429870983b100b4b609d469a           None                      0.0   \n",
       "\n",
       "    CheckingStatus_greater_200  CheckingStatus_less_0  \\\n",
       "0                          0.0                    1.0   \n",
       "1                          0.0                    1.0   \n",
       "2                          0.0                    1.0   \n",
       "3                          0.0                    1.0   \n",
       "4                          0.0                    1.0   \n",
       "5                          0.0                    1.0   \n",
       "6                          0.0                    1.0   \n",
       "7                          0.0                    1.0   \n",
       "8                          0.0                    1.0   \n",
       "9                          0.0                    1.0   \n",
       "10                         0.0                    1.0   \n",
       "11                         0.0                    1.0   \n",
       "\n",
       "    CheckingStatus_no_checking  CreditHistory_all_credits_paid_back  \\\n",
       "0                          0.0                                  1.0   \n",
       "1                          0.0                                  1.0   \n",
       "2                          0.0                                  1.0   \n",
       "3                          0.0                                  1.0   \n",
       "4                          0.0                                  1.0   \n",
       "5                          0.0                                  1.0   \n",
       "6                          0.0                                  1.0   \n",
       "7                          0.0                                  1.0   \n",
       "8                          0.0                                  1.0   \n",
       "9                          0.0                                  1.0   \n",
       "10                         0.0                                  1.0   \n",
       "11                         0.0                                  1.0   \n",
       "\n",
       "    CreditHistory_credits_paid_to_date  ...  InstallmentPercent  \\\n",
       "0                                  0.0  ...                 2.0   \n",
       "1                                  0.0  ...                 2.0   \n",
       "2                                  0.0  ...                 2.0   \n",
       "3                                  0.0  ...                 2.0   \n",
       "4                                  0.0  ...                 2.0   \n",
       "5                                  0.0  ...                 2.0   \n",
       "6                                  0.0  ...                 2.0   \n",
       "7                                  0.0  ...                 2.0   \n",
       "8                                  0.0  ...                 2.0   \n",
       "9                                  0.0  ...                 2.0   \n",
       "10                                 0.0  ...                 2.0   \n",
       "11                                 0.0  ...                 2.0   \n",
       "\n",
       "    CurrentResidenceDuration   Age  ExistingCreditsCount  Dependents  \\\n",
       "0                        3.0  29.0                   2.0         1.0   \n",
       "1                        3.0  29.0                   2.0         1.0   \n",
       "2                        3.0  29.0                   2.0         1.0   \n",
       "3                        3.0  29.0                   2.0         1.0   \n",
       "4                        3.0  29.0                   2.0         1.0   \n",
       "5                        3.0  29.0                   2.0         1.0   \n",
       "6                        3.0  29.0                   2.0         1.0   \n",
       "7                        3.0  29.0                   2.0         1.0   \n",
       "8                        3.0  29.0                   2.0         1.0   \n",
       "9                        3.0  29.0                   2.0         1.0   \n",
       "10                       3.0  29.0                   2.0         1.0   \n",
       "11                       3.0  29.0                   2.0         1.0   \n",
       "\n",
       "    predicted_label     score  prediction_probability  debiased_prediction  \\\n",
       "0               0.0  0.202446                0.797554                 None   \n",
       "1               0.0  0.202446                0.797554                 None   \n",
       "2               0.0  0.202446                0.797554                 None   \n",
       "3               0.0  0.202446                0.797554                 None   \n",
       "4               0.0  0.202446                0.797554                 None   \n",
       "5               0.0  0.202446                0.797554                 None   \n",
       "6               0.0  0.202446                0.797554                 None   \n",
       "7               0.0  0.202446                0.797554                 None   \n",
       "8               0.0  0.202446                0.797554                 None   \n",
       "9               0.0  0.202446                0.797554                 None   \n",
       "10              0.0  0.202446                0.797554                 None   \n",
       "11              0.0  0.202446                     NaN                 None   \n",
       "\n",
       "    debiased_probability  \n",
       "0                   None  \n",
       "1                   None  \n",
       "2                   None  \n",
       "3                   None  \n",
       "4                   None  \n",
       "5                   None  \n",
       "6                   None  \n",
       "7                   None  \n",
       "8                   None  \n",
       "9                   None  \n",
       "10                  None  \n",
       "11                  None  \n",
       "\n",
       "[12 rows x 69 columns]"
      ]
     },
     "execution_count": 54,
     "metadata": {},
     "output_type": "execute_result"
    }
   ],
   "source": [
    "pandas_df"
   ]
  },
  {
   "cell_type": "markdown",
   "metadata": {},
   "source": [
    "### Feddback logging"
   ]
  },
  {
   "cell_type": "markdown",
   "metadata": {},
   "source": [
    "Check the schema of table."
   ]
  },
  {
   "cell_type": "code",
   "execution_count": 55,
   "metadata": {},
   "outputs": [
    {
     "data": {
      "text/html": [
       "<HTML>\n",
       "        <body>\n",
       "            <h3>Schema of Feedback_253a3eb8d068b34b9d3e79bffcfcdbb8</h3>\n",
       "            <table style='border: 1px solid #dddddd; font-family: Courier'>\n",
       "                <th style='border: 1px solid #dddddd'>name</th><th style='border: 1px solid #dddddd'>type</th><th style='border: 1px solid #dddddd'>nullable</th>\n",
       "                <tr><td style='border: 1px solid #dddddd'>CheckingStatus_0_to_200</td><td style='border: 1px solid #dddddd'>double</td><td style='border: 1px solid #dddddd'>True</td></tr><tr><td style='border: 1px solid #dddddd'>CheckingStatus_greater_200</td><td style='border: 1px solid #dddddd'>double</td><td style='border: 1px solid #dddddd'>True</td></tr><tr><td style='border: 1px solid #dddddd'>CheckingStatus_less_0</td><td style='border: 1px solid #dddddd'>double</td><td style='border: 1px solid #dddddd'>True</td></tr><tr><td style='border: 1px solid #dddddd'>CheckingStatus_no_checking</td><td style='border: 1px solid #dddddd'>double</td><td style='border: 1px solid #dddddd'>True</td></tr><tr><td style='border: 1px solid #dddddd'>CreditHistory_all_credits_paid_back</td><td style='border: 1px solid #dddddd'>double</td><td style='border: 1px solid #dddddd'>True</td></tr><tr><td style='border: 1px solid #dddddd'>CreditHistory_credits_paid_to_date</td><td style='border: 1px solid #dddddd'>double</td><td style='border: 1px solid #dddddd'>True</td></tr><tr><td style='border: 1px solid #dddddd'>CreditHistory_no_credits</td><td style='border: 1px solid #dddddd'>double</td><td style='border: 1px solid #dddddd'>True</td></tr><tr><td style='border: 1px solid #dddddd'>CreditHistory_outstanding_credit</td><td style='border: 1px solid #dddddd'>double</td><td style='border: 1px solid #dddddd'>True</td></tr><tr><td style='border: 1px solid #dddddd'>CreditHistory_prior_payments_delayed</td><td style='border: 1px solid #dddddd'>double</td><td style='border: 1px solid #dddddd'>True</td></tr><tr><td style='border: 1px solid #dddddd'>LoanPurpose_appliances</td><td style='border: 1px solid #dddddd'>double</td><td style='border: 1px solid #dddddd'>True</td></tr><tr><td style='border: 1px solid #dddddd'>LoanPurpose_business</td><td style='border: 1px solid #dddddd'>double</td><td style='border: 1px solid #dddddd'>True</td></tr><tr><td style='border: 1px solid #dddddd'>LoanPurpose_car_new</td><td style='border: 1px solid #dddddd'>double</td><td style='border: 1px solid #dddddd'>True</td></tr><tr><td style='border: 1px solid #dddddd'>LoanPurpose_car_used</td><td style='border: 1px solid #dddddd'>double</td><td style='border: 1px solid #dddddd'>True</td></tr><tr><td style='border: 1px solid #dddddd'>LoanPurpose_education</td><td style='border: 1px solid #dddddd'>double</td><td style='border: 1px solid #dddddd'>True</td></tr><tr><td style='border: 1px solid #dddddd'>LoanPurpose_furniture</td><td style='border: 1px solid #dddddd'>double</td><td style='border: 1px solid #dddddd'>True</td></tr><tr><td style='border: 1px solid #dddddd'>LoanPurpose_other</td><td style='border: 1px solid #dddddd'>double</td><td style='border: 1px solid #dddddd'>True</td></tr><tr><td style='border: 1px solid #dddddd'>LoanPurpose_radio_tv</td><td style='border: 1px solid #dddddd'>double</td><td style='border: 1px solid #dddddd'>True</td></tr><tr><td style='border: 1px solid #dddddd'>LoanPurpose_repairs</td><td style='border: 1px solid #dddddd'>double</td><td style='border: 1px solid #dddddd'>True</td></tr><tr><td style='border: 1px solid #dddddd'>LoanPurpose_retraining</td><td style='border: 1px solid #dddddd'>double</td><td style='border: 1px solid #dddddd'>True</td></tr><tr><td style='border: 1px solid #dddddd'>LoanPurpose_vacation</td><td style='border: 1px solid #dddddd'>double</td><td style='border: 1px solid #dddddd'>True</td></tr><tr><td style='border: 1px solid #dddddd'>ExistingSavings_100_to_500</td><td style='border: 1px solid #dddddd'>double</td><td style='border: 1px solid #dddddd'>True</td></tr><tr><td style='border: 1px solid #dddddd'>ExistingSavings_500_to_1000</td><td style='border: 1px solid #dddddd'>double</td><td style='border: 1px solid #dddddd'>True</td></tr><tr><td style='border: 1px solid #dddddd'>ExistingSavings_greater_1000</td><td style='border: 1px solid #dddddd'>double</td><td style='border: 1px solid #dddddd'>True</td></tr><tr><td style='border: 1px solid #dddddd'>ExistingSavings_less_100</td><td style='border: 1px solid #dddddd'>double</td><td style='border: 1px solid #dddddd'>True</td></tr><tr><td style='border: 1px solid #dddddd'>ExistingSavings_unknown</td><td style='border: 1px solid #dddddd'>double</td><td style='border: 1px solid #dddddd'>True</td></tr><tr><td style='border: 1px solid #dddddd'>EmploymentDuration_1_to_4</td><td style='border: 1px solid #dddddd'>double</td><td style='border: 1px solid #dddddd'>True</td></tr><tr><td style='border: 1px solid #dddddd'>EmploymentDuration_4_to_7</td><td style='border: 1px solid #dddddd'>double</td><td style='border: 1px solid #dddddd'>True</td></tr><tr><td style='border: 1px solid #dddddd'>EmploymentDuration_greater_7</td><td style='border: 1px solid #dddddd'>double</td><td style='border: 1px solid #dddddd'>True</td></tr><tr><td style='border: 1px solid #dddddd'>EmploymentDuration_less_1</td><td style='border: 1px solid #dddddd'>double</td><td style='border: 1px solid #dddddd'>True</td></tr><tr><td style='border: 1px solid #dddddd'>EmploymentDuration_unemployed</td><td style='border: 1px solid #dddddd'>double</td><td style='border: 1px solid #dddddd'>True</td></tr><tr><td style='border: 1px solid #dddddd'>Sex_female</td><td style='border: 1px solid #dddddd'>double</td><td style='border: 1px solid #dddddd'>True</td></tr><tr><td style='border: 1px solid #dddddd'>Sex_male</td><td style='border: 1px solid #dddddd'>double</td><td style='border: 1px solid #dddddd'>True</td></tr><tr><td style='border: 1px solid #dddddd'>OthersOnLoan_co-applicant</td><td style='border: 1px solid #dddddd'>double</td><td style='border: 1px solid #dddddd'>True</td></tr><tr><td style='border: 1px solid #dddddd'>OthersOnLoan_guarantor</td><td style='border: 1px solid #dddddd'>double</td><td style='border: 1px solid #dddddd'>True</td></tr><tr><td style='border: 1px solid #dddddd'>OthersOnLoan_none</td><td style='border: 1px solid #dddddd'>double</td><td style='border: 1px solid #dddddd'>True</td></tr><tr><td style='border: 1px solid #dddddd'>OwnsProperty_car_other</td><td style='border: 1px solid #dddddd'>double</td><td style='border: 1px solid #dddddd'>True</td></tr><tr><td style='border: 1px solid #dddddd'>OwnsProperty_real_estate</td><td style='border: 1px solid #dddddd'>double</td><td style='border: 1px solid #dddddd'>True</td></tr><tr><td style='border: 1px solid #dddddd'>OwnsProperty_savings_insurance</td><td style='border: 1px solid #dddddd'>double</td><td style='border: 1px solid #dddddd'>True</td></tr><tr><td style='border: 1px solid #dddddd'>OwnsProperty_unknown</td><td style='border: 1px solid #dddddd'>double</td><td style='border: 1px solid #dddddd'>True</td></tr><tr><td style='border: 1px solid #dddddd'>InstallmentPlans_bank</td><td style='border: 1px solid #dddddd'>double</td><td style='border: 1px solid #dddddd'>True</td></tr><tr><td style='border: 1px solid #dddddd'>InstallmentPlans_none</td><td style='border: 1px solid #dddddd'>double</td><td style='border: 1px solid #dddddd'>True</td></tr><tr><td style='border: 1px solid #dddddd'>InstallmentPlans_stores</td><td style='border: 1px solid #dddddd'>double</td><td style='border: 1px solid #dddddd'>True</td></tr><tr><td style='border: 1px solid #dddddd'>Housing_free</td><td style='border: 1px solid #dddddd'>double</td><td style='border: 1px solid #dddddd'>True</td></tr><tr><td style='border: 1px solid #dddddd'>Housing_own</td><td style='border: 1px solid #dddddd'>double</td><td style='border: 1px solid #dddddd'>True</td></tr><tr><td style='border: 1px solid #dddddd'>Housing_rent</td><td style='border: 1px solid #dddddd'>double</td><td style='border: 1px solid #dddddd'>True</td></tr><tr><td style='border: 1px solid #dddddd'>Job_management_self-employed</td><td style='border: 1px solid #dddddd'>double</td><td style='border: 1px solid #dddddd'>True</td></tr><tr><td style='border: 1px solid #dddddd'>Job_skilled</td><td style='border: 1px solid #dddddd'>double</td><td style='border: 1px solid #dddddd'>True</td></tr><tr><td style='border: 1px solid #dddddd'>Job_unemployed</td><td style='border: 1px solid #dddddd'>double</td><td style='border: 1px solid #dddddd'>True</td></tr><tr><td style='border: 1px solid #dddddd'>Job_unskilled</td><td style='border: 1px solid #dddddd'>double</td><td style='border: 1px solid #dddddd'>True</td></tr><tr><td style='border: 1px solid #dddddd'>Telephone_none</td><td style='border: 1px solid #dddddd'>double</td><td style='border: 1px solid #dddddd'>True</td></tr><tr><td style='border: 1px solid #dddddd'>Telephone_yes</td><td style='border: 1px solid #dddddd'>double</td><td style='border: 1px solid #dddddd'>True</td></tr><tr><td style='border: 1px solid #dddddd'>ForeignWorker_no</td><td style='border: 1px solid #dddddd'>double</td><td style='border: 1px solid #dddddd'>True</td></tr><tr><td style='border: 1px solid #dddddd'>ForeignWorker_yes</td><td style='border: 1px solid #dddddd'>double</td><td style='border: 1px solid #dddddd'>True</td></tr><tr><td style='border: 1px solid #dddddd'>LoanDuration</td><td style='border: 1px solid #dddddd'>double</td><td style='border: 1px solid #dddddd'>True</td></tr><tr><td style='border: 1px solid #dddddd'>LoanAmount</td><td style='border: 1px solid #dddddd'>double</td><td style='border: 1px solid #dddddd'>True</td></tr><tr><td style='border: 1px solid #dddddd'>InstallmentPercent</td><td style='border: 1px solid #dddddd'>double</td><td style='border: 1px solid #dddddd'>True</td></tr><tr><td style='border: 1px solid #dddddd'>CurrentResidenceDuration</td><td style='border: 1px solid #dddddd'>double</td><td style='border: 1px solid #dddddd'>True</td></tr><tr><td style='border: 1px solid #dddddd'>Age</td><td style='border: 1px solid #dddddd'>double</td><td style='border: 1px solid #dddddd'>True</td></tr><tr><td style='border: 1px solid #dddddd'>ExistingCreditsCount</td><td style='border: 1px solid #dddddd'>double</td><td style='border: 1px solid #dddddd'>True</td></tr><tr><td style='border: 1px solid #dddddd'>Dependents</td><td style='border: 1px solid #dddddd'>double</td><td style='border: 1px solid #dddddd'>True</td></tr><tr><td style='border: 1px solid #dddddd'>Risk</td><td style='border: 1px solid #dddddd'>double</td><td style='border: 1px solid #dddddd'>True</td></tr><tr><td style='border: 1px solid #dddddd'>_training</td><td style='border: 1px solid #dddddd'>timestamp</td><td style='border: 1px solid #dddddd'>False</td></tr>\n",
       "            </table>\n",
       "        </body>\n",
       "        </HTML>"
      ],
      "text/plain": [
       "<IPython.core.display.HTML object>"
      ]
     },
     "metadata": {},
     "output_type": "display_data"
    }
   ],
   "source": [
    "subscription.feedback_logging.print_table_schema()"
   ]
  },
  {
   "cell_type": "markdown",
   "metadata": {},
   "source": [
    "Preview table content."
   ]
  },
  {
   "cell_type": "code",
   "execution_count": 56,
   "metadata": {},
   "outputs": [
    {
     "data": {
      "text/html": [
       "<HTML>\n",
       "        <body>\n",
       "            <h3>Feedback_253a3eb8d068b34b9d3e79bffcfcdbb8 (binding_id=3f392dbe-8f93-4965-98d2-cf930a0b32cc, subscription_id=253a3eb8d068b34b9d3e79bffcfcdbb8)</h3>\n",
       "            <table style='border: 1px solid #dddddd; font-family: Courier'>\n",
       "                <th style='border: 1px solid #dddddd'>CheckingStatus_0_to_200</th><th style='border: 1px solid #dddddd'>CheckingStatus_greater_200</th><th style='border: 1px solid #dddddd'>CheckingStatus_less_0</th><th style='border: 1px solid #dddddd'>CheckingStatus_no_checking</th><th style='border: 1px solid #dddddd'>CreditHistory_all_credits_paid_back</th><th style='border: 1px solid #dddddd'>CreditHistory_credits_paid_to_date</th><th style='border: 1px solid #dddddd'>CreditHistory_no_credits</th><th style='border: 1px solid #dddddd'>CreditHistory_outstanding_credit</th><th style='border: 1px solid #dddddd'>CreditHistory_prior_payments_delayed</th><th style='border: 1px solid #dddddd'>LoanPurpose_appliances</th><th style='border: 1px solid #dddddd'>LoanPurpose_business</th><th style='border: 1px solid #dddddd'>LoanPurpose_car_new</th><th style='border: 1px solid #dddddd'>LoanPurpose_car_used</th><th style='border: 1px solid #dddddd'>LoanPurpose_education</th><th style='border: 1px solid #dddddd'>LoanPurpose_furniture</th><th style='border: 1px solid #dddddd'>LoanPurpose_other</th><th style='border: 1px solid #dddddd'>LoanPurpose_radio_tv</th><th style='border: 1px solid #dddddd'>LoanPurpose_repairs</th><th style='border: 1px solid #dddddd'>LoanPurpose_retraining</th><th style='border: 1px solid #dddddd'>LoanPurpose_vacation</th><th style='border: 1px solid #dddddd'>ExistingSavings_100_to_500</th><th style='border: 1px solid #dddddd'>ExistingSavings_500_to_1000</th><th style='border: 1px solid #dddddd'>ExistingSavings_greater_1000</th><th style='border: 1px solid #dddddd'>ExistingSavings_less_100</th><th style='border: 1px solid #dddddd'>ExistingSavings_unknown</th><th style='border: 1px solid #dddddd'>EmploymentDuration_1_to_4</th><th style='border: 1px solid #dddddd'>EmploymentDuration_4_to_7</th><th style='border: 1px solid #dddddd'>EmploymentDuration_greater_7</th><th style='border: 1px solid #dddddd'>EmploymentDuration_less_1</th><th style='border: 1px solid #dddddd'>EmploymentDuration_unemployed</th><th style='border: 1px solid #dddddd'>Sex_female</th><th style='border: 1px solid #dddddd'>Sex_male</th><th style='border: 1px solid #dddddd'>OthersOnLoan_co-applicant</th><th style='border: 1px solid #dddddd'>OthersOnLoan_guarantor</th><th style='border: 1px solid #dddddd'>OthersOnLoan_none</th><th style='border: 1px solid #dddddd'>OwnsProperty_car_other</th><th style='border: 1px solid #dddddd'>OwnsProperty_real_estate</th><th style='border: 1px solid #dddddd'>OwnsProperty_savings_insurance</th><th style='border: 1px solid #dddddd'>OwnsProperty_unknown</th><th style='border: 1px solid #dddddd'>InstallmentPlans_bank</th><th style='border: 1px solid #dddddd'>InstallmentPlans_none</th><th style='border: 1px solid #dddddd'>InstallmentPlans_stores</th><th style='border: 1px solid #dddddd'>Housing_free</th><th style='border: 1px solid #dddddd'>Housing_own</th><th style='border: 1px solid #dddddd'>Housing_rent</th><th style='border: 1px solid #dddddd'>Job_management_self-employed</th><th style='border: 1px solid #dddddd'>Job_skilled</th><th style='border: 1px solid #dddddd'>Job_unemployed</th><th style='border: 1px solid #dddddd'>Job_unskilled</th><th style='border: 1px solid #dddddd'>Telephone_none</th><th style='border: 1px solid #dddddd'>Telephone_yes</th><th style='border: 1px solid #dddddd'>ForeignWorker_no</th><th style='border: 1px solid #dddddd'>ForeignWorker_yes</th><th style='border: 1px solid #dddddd'>LoanDuration</th><th style='border: 1px solid #dddddd'>LoanAmount</th><th style='border: 1px solid #dddddd'>InstallmentPercent</th><th style='border: 1px solid #dddddd'>CurrentResidenceDuration</th><th style='border: 1px solid #dddddd'>Age</th><th style='border: 1px solid #dddddd'>ExistingCreditsCount</th><th style='border: 1px solid #dddddd'>Dependents</th><th style='border: 1px solid #dddddd'>Risk</th><th style='border: 1px solid #dddddd'>_training</th>\n",
       "                <tr><td style='border: 1px solid #dddddd'>0.0</td><td style='border: 1px solid #dddddd'>1.0</td><td style='border: 1px solid #dddddd'>0.0</td><td style='border: 1px solid #dddddd'>0.0</td><td style='border: 1px solid #dddddd'>0.0</td><td style='border: 1px solid #dddddd'>0.0</td><td style='border: 1px solid #dddddd'>1.0</td><td style='border: 1px solid #dddddd'>0.0</td><td style='border: 1px solid #dddddd'>0.0</td><td style='border: 1px solid #dddddd'>0.0</td><td style='border: 1px solid #dddddd'>0.0</td><td style='border: 1px solid #dddddd'>0.0</td><td style='border: 1px solid #dddddd'>0.0</td><td style='border: 1px solid #dddddd'>0.0</td><td style='border: 1px solid #dddddd'>0.0</td><td style='border: 1px solid #dddddd'>0.0</td><td style='border: 1px solid #dddddd'>1.0</td><td style='border: 1px solid #dddddd'>0.0</td><td style='border: 1px solid #dddddd'>0.0</td><td style='border: 1px solid #dddddd'>0.0</td><td style='border: 1px solid #dddddd'>0.0</td><td style='border: 1px solid #dddddd'>1.0</td><td style='border: 1px solid #dddddd'>0.0</td><td style='border: 1px solid #dddddd'>0.0</td><td style='border: 1px solid #dddddd'>0.0</td><td style='border: 1px solid #dddddd'>0.0</td><td style='border: 1px solid #dddddd'>0.0</td><td style='border: 1px solid #dddddd'>0.0</td><td style='border: 1px solid #dddddd'>0.0</td><td style='border: 1px solid #dddddd'>1.0</td><td style='border: 1px solid #dddddd'>0.0</td><td style='border: 1px solid #dddddd'>1.0</td><td style='border: 1px solid #dddddd'>0.0</td><td style='border: 1px solid #dddddd'>0.0</td><td style='border: 1px solid #dddddd'>0.0</td><td style='border: 1px solid #dddddd'>1.0</td><td style='border: 1px solid #dddddd'>0.0</td><td style='border: 1px solid #dddddd'>0.0</td><td style='border: 1px solid #dddddd'>1.0</td><td style='border: 1px solid #dddddd'>0.0</td><td style='border: 1px solid #dddddd'>0.0</td><td style='border: 1px solid #dddddd'>1.0</td><td style='border: 1px solid #dddddd'>0.0</td><td style='border: 1px solid #dddddd'>0.0</td><td style='border: 1px solid #dddddd'>1.0</td><td style='border: 1px solid #dddddd'>0.0</td><td style='border: 1px solid #dddddd'>0.0</td><td style='border: 1px solid #dddddd'>1.0</td><td style='border: 1px solid #dddddd'>0.0</td><td style='border: 1px solid #dddddd'>0.0</td><td style='border: 1px solid #dddddd'>1.0</td><td style='border: 1px solid #dddddd'>0.0</td><td style='border: 1px solid #dddddd'>0.0</td><td style='border: 1px solid #dddddd'>1.0</td><td style='border: 1px solid #dddddd'>31.0</td><td style='border: 1px solid #dddddd'>1889.0</td><td style='border: 1px solid #dddddd'>3.0</td><td style='border: 1px solid #dddddd'>3.0</td><td style='border: 1px solid #dddddd'>32.0</td><td style='border: 1px solid #dddddd'>1.0</td><td style='border: 1px solid #dddddd'>1.0</td><td style='border: 1px solid #dddddd'>2019-04-08 08:25:13.839000+00:00</td></tr><tr><td style='border: 1px solid #dddddd'>0.0</td><td style='border: 1px solid #dddddd'>1.0</td><td style='border: 1px solid #dddddd'>0.0</td><td style='border: 1px solid #dddddd'>0.0</td><td style='border: 1px solid #dddddd'>0.0</td><td style='border: 1px solid #dddddd'>0.0</td><td style='border: 1px solid #dddddd'>1.0</td><td style='border: 1px solid #dddddd'>0.0</td><td style='border: 1px solid #dddddd'>0.0</td><td style='border: 1px solid #dddddd'>0.0</td><td style='border: 1px solid #dddddd'>0.0</td><td style='border: 1px solid #dddddd'>0.0</td><td style='border: 1px solid #dddddd'>0.0</td><td style='border: 1px solid #dddddd'>0.0</td><td style='border: 1px solid #dddddd'>0.0</td><td style='border: 1px solid #dddddd'>0.0</td><td style='border: 1px solid #dddddd'>1.0</td><td style='border: 1px solid #dddddd'>0.0</td><td style='border: 1px solid #dddddd'>0.0</td><td style='border: 1px solid #dddddd'>0.0</td><td style='border: 1px solid #dddddd'>0.0</td><td style='border: 1px solid #dddddd'>1.0</td><td style='border: 1px solid #dddddd'>0.0</td><td style='border: 1px solid #dddddd'>0.0</td><td style='border: 1px solid #dddddd'>0.0</td><td style='border: 1px solid #dddddd'>0.0</td><td style='border: 1px solid #dddddd'>0.0</td><td style='border: 1px solid #dddddd'>0.0</td><td style='border: 1px solid #dddddd'>0.0</td><td style='border: 1px solid #dddddd'>1.0</td><td style='border: 1px solid #dddddd'>0.0</td><td style='border: 1px solid #dddddd'>1.0</td><td style='border: 1px solid #dddddd'>0.0</td><td style='border: 1px solid #dddddd'>0.0</td><td style='border: 1px solid #dddddd'>0.0</td><td style='border: 1px solid #dddddd'>1.0</td><td style='border: 1px solid #dddddd'>0.0</td><td style='border: 1px solid #dddddd'>0.0</td><td style='border: 1px solid #dddddd'>1.0</td><td style='border: 1px solid #dddddd'>0.0</td><td style='border: 1px solid #dddddd'>0.0</td><td style='border: 1px solid #dddddd'>1.0</td><td style='border: 1px solid #dddddd'>0.0</td><td style='border: 1px solid #dddddd'>0.0</td><td style='border: 1px solid #dddddd'>1.0</td><td style='border: 1px solid #dddddd'>0.0</td><td style='border: 1px solid #dddddd'>0.0</td><td style='border: 1px solid #dddddd'>1.0</td><td style='border: 1px solid #dddddd'>0.0</td><td style='border: 1px solid #dddddd'>0.0</td><td style='border: 1px solid #dddddd'>1.0</td><td style='border: 1px solid #dddddd'>0.0</td><td style='border: 1px solid #dddddd'>0.0</td><td style='border: 1px solid #dddddd'>1.0</td><td style='border: 1px solid #dddddd'>31.0</td><td style='border: 1px solid #dddddd'>1889.0</td><td style='border: 1px solid #dddddd'>3.0</td><td style='border: 1px solid #dddddd'>3.0</td><td style='border: 1px solid #dddddd'>32.0</td><td style='border: 1px solid #dddddd'>1.0</td><td style='border: 1px solid #dddddd'>1.0</td><td style='border: 1px solid #dddddd'>2019-04-08 08:25:13.839000+00:00</td></tr><tr><td style='border: 1px solid #dddddd'>0.0</td><td style='border: 1px solid #dddddd'>1.0</td><td style='border: 1px solid #dddddd'>0.0</td><td style='border: 1px solid #dddddd'>0.0</td><td style='border: 1px solid #dddddd'>0.0</td><td style='border: 1px solid #dddddd'>0.0</td><td style='border: 1px solid #dddddd'>1.0</td><td style='border: 1px solid #dddddd'>0.0</td><td style='border: 1px solid #dddddd'>0.0</td><td style='border: 1px solid #dddddd'>0.0</td><td style='border: 1px solid #dddddd'>0.0</td><td style='border: 1px solid #dddddd'>0.0</td><td style='border: 1px solid #dddddd'>0.0</td><td style='border: 1px solid #dddddd'>0.0</td><td style='border: 1px solid #dddddd'>0.0</td><td style='border: 1px solid #dddddd'>0.0</td><td style='border: 1px solid #dddddd'>1.0</td><td style='border: 1px solid #dddddd'>0.0</td><td style='border: 1px solid #dddddd'>0.0</td><td style='border: 1px solid #dddddd'>0.0</td><td style='border: 1px solid #dddddd'>0.0</td><td style='border: 1px solid #dddddd'>1.0</td><td style='border: 1px solid #dddddd'>0.0</td><td style='border: 1px solid #dddddd'>0.0</td><td style='border: 1px solid #dddddd'>0.0</td><td style='border: 1px solid #dddddd'>0.0</td><td style='border: 1px solid #dddddd'>0.0</td><td style='border: 1px solid #dddddd'>0.0</td><td style='border: 1px solid #dddddd'>0.0</td><td style='border: 1px solid #dddddd'>1.0</td><td style='border: 1px solid #dddddd'>0.0</td><td style='border: 1px solid #dddddd'>1.0</td><td style='border: 1px solid #dddddd'>0.0</td><td style='border: 1px solid #dddddd'>0.0</td><td style='border: 1px solid #dddddd'>0.0</td><td style='border: 1px solid #dddddd'>1.0</td><td style='border: 1px solid #dddddd'>0.0</td><td style='border: 1px solid #dddddd'>0.0</td><td style='border: 1px solid #dddddd'>1.0</td><td style='border: 1px solid #dddddd'>0.0</td><td style='border: 1px solid #dddddd'>0.0</td><td style='border: 1px solid #dddddd'>1.0</td><td style='border: 1px solid #dddddd'>0.0</td><td style='border: 1px solid #dddddd'>0.0</td><td style='border: 1px solid #dddddd'>1.0</td><td style='border: 1px solid #dddddd'>0.0</td><td style='border: 1px solid #dddddd'>0.0</td><td style='border: 1px solid #dddddd'>1.0</td><td style='border: 1px solid #dddddd'>0.0</td><td style='border: 1px solid #dddddd'>0.0</td><td style='border: 1px solid #dddddd'>1.0</td><td style='border: 1px solid #dddddd'>0.0</td><td style='border: 1px solid #dddddd'>0.0</td><td style='border: 1px solid #dddddd'>1.0</td><td style='border: 1px solid #dddddd'>31.0</td><td style='border: 1px solid #dddddd'>1889.0</td><td style='border: 1px solid #dddddd'>3.0</td><td style='border: 1px solid #dddddd'>3.0</td><td style='border: 1px solid #dddddd'>32.0</td><td style='border: 1px solid #dddddd'>1.0</td><td style='border: 1px solid #dddddd'>1.0</td><td style='border: 1px solid #dddddd'>2019-04-08 08:25:13.839000+00:00</td></tr><tr><td style='border: 1px solid #dddddd'>0.0</td><td style='border: 1px solid #dddddd'>1.0</td><td style='border: 1px solid #dddddd'>0.0</td><td style='border: 1px solid #dddddd'>0.0</td><td style='border: 1px solid #dddddd'>0.0</td><td style='border: 1px solid #dddddd'>0.0</td><td style='border: 1px solid #dddddd'>1.0</td><td style='border: 1px solid #dddddd'>0.0</td><td style='border: 1px solid #dddddd'>0.0</td><td style='border: 1px solid #dddddd'>0.0</td><td style='border: 1px solid #dddddd'>0.0</td><td style='border: 1px solid #dddddd'>0.0</td><td style='border: 1px solid #dddddd'>0.0</td><td style='border: 1px solid #dddddd'>0.0</td><td style='border: 1px solid #dddddd'>0.0</td><td style='border: 1px solid #dddddd'>0.0</td><td style='border: 1px solid #dddddd'>1.0</td><td style='border: 1px solid #dddddd'>0.0</td><td style='border: 1px solid #dddddd'>0.0</td><td style='border: 1px solid #dddddd'>0.0</td><td style='border: 1px solid #dddddd'>0.0</td><td style='border: 1px solid #dddddd'>1.0</td><td style='border: 1px solid #dddddd'>0.0</td><td style='border: 1px solid #dddddd'>0.0</td><td style='border: 1px solid #dddddd'>0.0</td><td style='border: 1px solid #dddddd'>0.0</td><td style='border: 1px solid #dddddd'>0.0</td><td style='border: 1px solid #dddddd'>0.0</td><td style='border: 1px solid #dddddd'>0.0</td><td style='border: 1px solid #dddddd'>1.0</td><td style='border: 1px solid #dddddd'>0.0</td><td style='border: 1px solid #dddddd'>1.0</td><td style='border: 1px solid #dddddd'>0.0</td><td style='border: 1px solid #dddddd'>0.0</td><td style='border: 1px solid #dddddd'>0.0</td><td style='border: 1px solid #dddddd'>1.0</td><td style='border: 1px solid #dddddd'>0.0</td><td style='border: 1px solid #dddddd'>0.0</td><td style='border: 1px solid #dddddd'>1.0</td><td style='border: 1px solid #dddddd'>0.0</td><td style='border: 1px solid #dddddd'>0.0</td><td style='border: 1px solid #dddddd'>1.0</td><td style='border: 1px solid #dddddd'>0.0</td><td style='border: 1px solid #dddddd'>0.0</td><td style='border: 1px solid #dddddd'>1.0</td><td style='border: 1px solid #dddddd'>0.0</td><td style='border: 1px solid #dddddd'>0.0</td><td style='border: 1px solid #dddddd'>1.0</td><td style='border: 1px solid #dddddd'>0.0</td><td style='border: 1px solid #dddddd'>0.0</td><td style='border: 1px solid #dddddd'>1.0</td><td style='border: 1px solid #dddddd'>0.0</td><td style='border: 1px solid #dddddd'>0.0</td><td style='border: 1px solid #dddddd'>1.0</td><td style='border: 1px solid #dddddd'>31.0</td><td style='border: 1px solid #dddddd'>1889.0</td><td style='border: 1px solid #dddddd'>3.0</td><td style='border: 1px solid #dddddd'>3.0</td><td style='border: 1px solid #dddddd'>32.0</td><td style='border: 1px solid #dddddd'>1.0</td><td style='border: 1px solid #dddddd'>1.0</td><td style='border: 1px solid #dddddd'>2019-04-08 08:25:13.839000+00:00</td></tr><tr><td style='border: 1px solid #dddddd'>0.0</td><td style='border: 1px solid #dddddd'>1.0</td><td style='border: 1px solid #dddddd'>0.0</td><td style='border: 1px solid #dddddd'>0.0</td><td style='border: 1px solid #dddddd'>0.0</td><td style='border: 1px solid #dddddd'>0.0</td><td style='border: 1px solid #dddddd'>1.0</td><td style='border: 1px solid #dddddd'>0.0</td><td style='border: 1px solid #dddddd'>0.0</td><td style='border: 1px solid #dddddd'>0.0</td><td style='border: 1px solid #dddddd'>0.0</td><td style='border: 1px solid #dddddd'>0.0</td><td style='border: 1px solid #dddddd'>0.0</td><td style='border: 1px solid #dddddd'>0.0</td><td style='border: 1px solid #dddddd'>0.0</td><td style='border: 1px solid #dddddd'>0.0</td><td style='border: 1px solid #dddddd'>1.0</td><td style='border: 1px solid #dddddd'>0.0</td><td style='border: 1px solid #dddddd'>0.0</td><td style='border: 1px solid #dddddd'>0.0</td><td style='border: 1px solid #dddddd'>0.0</td><td style='border: 1px solid #dddddd'>1.0</td><td style='border: 1px solid #dddddd'>0.0</td><td style='border: 1px solid #dddddd'>0.0</td><td style='border: 1px solid #dddddd'>0.0</td><td style='border: 1px solid #dddddd'>0.0</td><td style='border: 1px solid #dddddd'>0.0</td><td style='border: 1px solid #dddddd'>0.0</td><td style='border: 1px solid #dddddd'>0.0</td><td style='border: 1px solid #dddddd'>1.0</td><td style='border: 1px solid #dddddd'>0.0</td><td style='border: 1px solid #dddddd'>1.0</td><td style='border: 1px solid #dddddd'>0.0</td><td style='border: 1px solid #dddddd'>0.0</td><td style='border: 1px solid #dddddd'>0.0</td><td style='border: 1px solid #dddddd'>1.0</td><td style='border: 1px solid #dddddd'>0.0</td><td style='border: 1px solid #dddddd'>0.0</td><td style='border: 1px solid #dddddd'>1.0</td><td style='border: 1px solid #dddddd'>0.0</td><td style='border: 1px solid #dddddd'>0.0</td><td style='border: 1px solid #dddddd'>1.0</td><td style='border: 1px solid #dddddd'>0.0</td><td style='border: 1px solid #dddddd'>0.0</td><td style='border: 1px solid #dddddd'>1.0</td><td style='border: 1px solid #dddddd'>0.0</td><td style='border: 1px solid #dddddd'>0.0</td><td style='border: 1px solid #dddddd'>1.0</td><td style='border: 1px solid #dddddd'>0.0</td><td style='border: 1px solid #dddddd'>0.0</td><td style='border: 1px solid #dddddd'>1.0</td><td style='border: 1px solid #dddddd'>0.0</td><td style='border: 1px solid #dddddd'>0.0</td><td style='border: 1px solid #dddddd'>1.0</td><td style='border: 1px solid #dddddd'>31.0</td><td style='border: 1px solid #dddddd'>1889.0</td><td style='border: 1px solid #dddddd'>3.0</td><td style='border: 1px solid #dddddd'>3.0</td><td style='border: 1px solid #dddddd'>32.0</td><td style='border: 1px solid #dddddd'>1.0</td><td style='border: 1px solid #dddddd'>1.0</td><td style='border: 1px solid #dddddd'>2019-04-08 08:25:13.839000+00:00</td></tr><tr><td style='border: 1px solid #dddddd'>0.0</td><td style='border: 1px solid #dddddd'>1.0</td><td style='border: 1px solid #dddddd'>0.0</td><td style='border: 1px solid #dddddd'>0.0</td><td style='border: 1px solid #dddddd'>0.0</td><td style='border: 1px solid #dddddd'>0.0</td><td style='border: 1px solid #dddddd'>1.0</td><td style='border: 1px solid #dddddd'>0.0</td><td style='border: 1px solid #dddddd'>0.0</td><td style='border: 1px solid #dddddd'>0.0</td><td style='border: 1px solid #dddddd'>0.0</td><td style='border: 1px solid #dddddd'>0.0</td><td style='border: 1px solid #dddddd'>0.0</td><td style='border: 1px solid #dddddd'>0.0</td><td style='border: 1px solid #dddddd'>0.0</td><td style='border: 1px solid #dddddd'>0.0</td><td style='border: 1px solid #dddddd'>1.0</td><td style='border: 1px solid #dddddd'>0.0</td><td style='border: 1px solid #dddddd'>0.0</td><td style='border: 1px solid #dddddd'>0.0</td><td style='border: 1px solid #dddddd'>0.0</td><td style='border: 1px solid #dddddd'>1.0</td><td style='border: 1px solid #dddddd'>0.0</td><td style='border: 1px solid #dddddd'>0.0</td><td style='border: 1px solid #dddddd'>0.0</td><td style='border: 1px solid #dddddd'>0.0</td><td style='border: 1px solid #dddddd'>0.0</td><td style='border: 1px solid #dddddd'>0.0</td><td style='border: 1px solid #dddddd'>0.0</td><td style='border: 1px solid #dddddd'>1.0</td><td style='border: 1px solid #dddddd'>0.0</td><td style='border: 1px solid #dddddd'>1.0</td><td style='border: 1px solid #dddddd'>0.0</td><td style='border: 1px solid #dddddd'>0.0</td><td style='border: 1px solid #dddddd'>0.0</td><td style='border: 1px solid #dddddd'>1.0</td><td style='border: 1px solid #dddddd'>0.0</td><td style='border: 1px solid #dddddd'>0.0</td><td style='border: 1px solid #dddddd'>1.0</td><td style='border: 1px solid #dddddd'>0.0</td><td style='border: 1px solid #dddddd'>0.0</td><td style='border: 1px solid #dddddd'>1.0</td><td style='border: 1px solid #dddddd'>0.0</td><td style='border: 1px solid #dddddd'>0.0</td><td style='border: 1px solid #dddddd'>1.0</td><td style='border: 1px solid #dddddd'>0.0</td><td style='border: 1px solid #dddddd'>0.0</td><td style='border: 1px solid #dddddd'>1.0</td><td style='border: 1px solid #dddddd'>0.0</td><td style='border: 1px solid #dddddd'>0.0</td><td style='border: 1px solid #dddddd'>1.0</td><td style='border: 1px solid #dddddd'>0.0</td><td style='border: 1px solid #dddddd'>0.0</td><td style='border: 1px solid #dddddd'>1.0</td><td style='border: 1px solid #dddddd'>31.0</td><td style='border: 1px solid #dddddd'>1889.0</td><td style='border: 1px solid #dddddd'>3.0</td><td style='border: 1px solid #dddddd'>3.0</td><td style='border: 1px solid #dddddd'>32.0</td><td style='border: 1px solid #dddddd'>1.0</td><td style='border: 1px solid #dddddd'>1.0</td><td style='border: 1px solid #dddddd'>2019-04-08 08:25:13.839000+00:00</td></tr><tr><td style='border: 1px solid #dddddd'>0.0</td><td style='border: 1px solid #dddddd'>1.0</td><td style='border: 1px solid #dddddd'>0.0</td><td style='border: 1px solid #dddddd'>0.0</td><td style='border: 1px solid #dddddd'>0.0</td><td style='border: 1px solid #dddddd'>0.0</td><td style='border: 1px solid #dddddd'>1.0</td><td style='border: 1px solid #dddddd'>0.0</td><td style='border: 1px solid #dddddd'>0.0</td><td style='border: 1px solid #dddddd'>0.0</td><td style='border: 1px solid #dddddd'>0.0</td><td style='border: 1px solid #dddddd'>0.0</td><td style='border: 1px solid #dddddd'>0.0</td><td style='border: 1px solid #dddddd'>0.0</td><td style='border: 1px solid #dddddd'>0.0</td><td style='border: 1px solid #dddddd'>0.0</td><td style='border: 1px solid #dddddd'>1.0</td><td style='border: 1px solid #dddddd'>0.0</td><td style='border: 1px solid #dddddd'>0.0</td><td style='border: 1px solid #dddddd'>0.0</td><td style='border: 1px solid #dddddd'>0.0</td><td style='border: 1px solid #dddddd'>1.0</td><td style='border: 1px solid #dddddd'>0.0</td><td style='border: 1px solid #dddddd'>0.0</td><td style='border: 1px solid #dddddd'>0.0</td><td style='border: 1px solid #dddddd'>0.0</td><td style='border: 1px solid #dddddd'>0.0</td><td style='border: 1px solid #dddddd'>0.0</td><td style='border: 1px solid #dddddd'>0.0</td><td style='border: 1px solid #dddddd'>1.0</td><td style='border: 1px solid #dddddd'>0.0</td><td style='border: 1px solid #dddddd'>1.0</td><td style='border: 1px solid #dddddd'>0.0</td><td style='border: 1px solid #dddddd'>0.0</td><td style='border: 1px solid #dddddd'>0.0</td><td style='border: 1px solid #dddddd'>1.0</td><td style='border: 1px solid #dddddd'>0.0</td><td style='border: 1px solid #dddddd'>0.0</td><td style='border: 1px solid #dddddd'>1.0</td><td style='border: 1px solid #dddddd'>0.0</td><td style='border: 1px solid #dddddd'>0.0</td><td style='border: 1px solid #dddddd'>1.0</td><td style='border: 1px solid #dddddd'>0.0</td><td style='border: 1px solid #dddddd'>0.0</td><td style='border: 1px solid #dddddd'>1.0</td><td style='border: 1px solid #dddddd'>0.0</td><td style='border: 1px solid #dddddd'>0.0</td><td style='border: 1px solid #dddddd'>1.0</td><td style='border: 1px solid #dddddd'>0.0</td><td style='border: 1px solid #dddddd'>0.0</td><td style='border: 1px solid #dddddd'>1.0</td><td style='border: 1px solid #dddddd'>0.0</td><td style='border: 1px solid #dddddd'>0.0</td><td style='border: 1px solid #dddddd'>1.0</td><td style='border: 1px solid #dddddd'>31.0</td><td style='border: 1px solid #dddddd'>1889.0</td><td style='border: 1px solid #dddddd'>3.0</td><td style='border: 1px solid #dddddd'>3.0</td><td style='border: 1px solid #dddddd'>32.0</td><td style='border: 1px solid #dddddd'>1.0</td><td style='border: 1px solid #dddddd'>1.0</td><td style='border: 1px solid #dddddd'>2019-04-08 08:25:13.839000+00:00</td></tr><tr><td style='border: 1px solid #dddddd'>0.0</td><td style='border: 1px solid #dddddd'>1.0</td><td style='border: 1px solid #dddddd'>0.0</td><td style='border: 1px solid #dddddd'>0.0</td><td style='border: 1px solid #dddddd'>0.0</td><td style='border: 1px solid #dddddd'>0.0</td><td style='border: 1px solid #dddddd'>1.0</td><td style='border: 1px solid #dddddd'>0.0</td><td style='border: 1px solid #dddddd'>0.0</td><td style='border: 1px solid #dddddd'>0.0</td><td style='border: 1px solid #dddddd'>0.0</td><td style='border: 1px solid #dddddd'>0.0</td><td style='border: 1px solid #dddddd'>0.0</td><td style='border: 1px solid #dddddd'>0.0</td><td style='border: 1px solid #dddddd'>0.0</td><td style='border: 1px solid #dddddd'>0.0</td><td style='border: 1px solid #dddddd'>1.0</td><td style='border: 1px solid #dddddd'>0.0</td><td style='border: 1px solid #dddddd'>0.0</td><td style='border: 1px solid #dddddd'>0.0</td><td style='border: 1px solid #dddddd'>0.0</td><td style='border: 1px solid #dddddd'>1.0</td><td style='border: 1px solid #dddddd'>0.0</td><td style='border: 1px solid #dddddd'>0.0</td><td style='border: 1px solid #dddddd'>0.0</td><td style='border: 1px solid #dddddd'>0.0</td><td style='border: 1px solid #dddddd'>0.0</td><td style='border: 1px solid #dddddd'>0.0</td><td style='border: 1px solid #dddddd'>0.0</td><td style='border: 1px solid #dddddd'>1.0</td><td style='border: 1px solid #dddddd'>0.0</td><td style='border: 1px solid #dddddd'>1.0</td><td style='border: 1px solid #dddddd'>0.0</td><td style='border: 1px solid #dddddd'>0.0</td><td style='border: 1px solid #dddddd'>0.0</td><td style='border: 1px solid #dddddd'>1.0</td><td style='border: 1px solid #dddddd'>0.0</td><td style='border: 1px solid #dddddd'>0.0</td><td style='border: 1px solid #dddddd'>1.0</td><td style='border: 1px solid #dddddd'>0.0</td><td style='border: 1px solid #dddddd'>0.0</td><td style='border: 1px solid #dddddd'>1.0</td><td style='border: 1px solid #dddddd'>0.0</td><td style='border: 1px solid #dddddd'>0.0</td><td style='border: 1px solid #dddddd'>1.0</td><td style='border: 1px solid #dddddd'>0.0</td><td style='border: 1px solid #dddddd'>0.0</td><td style='border: 1px solid #dddddd'>1.0</td><td style='border: 1px solid #dddddd'>0.0</td><td style='border: 1px solid #dddddd'>0.0</td><td style='border: 1px solid #dddddd'>1.0</td><td style='border: 1px solid #dddddd'>0.0</td><td style='border: 1px solid #dddddd'>0.0</td><td style='border: 1px solid #dddddd'>1.0</td><td style='border: 1px solid #dddddd'>31.0</td><td style='border: 1px solid #dddddd'>1889.0</td><td style='border: 1px solid #dddddd'>3.0</td><td style='border: 1px solid #dddddd'>3.0</td><td style='border: 1px solid #dddddd'>32.0</td><td style='border: 1px solid #dddddd'>1.0</td><td style='border: 1px solid #dddddd'>1.0</td><td style='border: 1px solid #dddddd'>2019-04-08 08:25:13.839000+00:00</td></tr><tr><td style='border: 1px solid #dddddd'>0.0</td><td style='border: 1px solid #dddddd'>1.0</td><td style='border: 1px solid #dddddd'>0.0</td><td style='border: 1px solid #dddddd'>0.0</td><td style='border: 1px solid #dddddd'>0.0</td><td style='border: 1px solid #dddddd'>0.0</td><td style='border: 1px solid #dddddd'>1.0</td><td style='border: 1px solid #dddddd'>0.0</td><td style='border: 1px solid #dddddd'>0.0</td><td style='border: 1px solid #dddddd'>0.0</td><td style='border: 1px solid #dddddd'>0.0</td><td style='border: 1px solid #dddddd'>0.0</td><td style='border: 1px solid #dddddd'>0.0</td><td style='border: 1px solid #dddddd'>0.0</td><td style='border: 1px solid #dddddd'>0.0</td><td style='border: 1px solid #dddddd'>0.0</td><td style='border: 1px solid #dddddd'>1.0</td><td style='border: 1px solid #dddddd'>0.0</td><td style='border: 1px solid #dddddd'>0.0</td><td style='border: 1px solid #dddddd'>0.0</td><td style='border: 1px solid #dddddd'>0.0</td><td style='border: 1px solid #dddddd'>1.0</td><td style='border: 1px solid #dddddd'>0.0</td><td style='border: 1px solid #dddddd'>0.0</td><td style='border: 1px solid #dddddd'>0.0</td><td style='border: 1px solid #dddddd'>0.0</td><td style='border: 1px solid #dddddd'>0.0</td><td style='border: 1px solid #dddddd'>0.0</td><td style='border: 1px solid #dddddd'>0.0</td><td style='border: 1px solid #dddddd'>1.0</td><td style='border: 1px solid #dddddd'>0.0</td><td style='border: 1px solid #dddddd'>1.0</td><td style='border: 1px solid #dddddd'>0.0</td><td style='border: 1px solid #dddddd'>0.0</td><td style='border: 1px solid #dddddd'>0.0</td><td style='border: 1px solid #dddddd'>1.0</td><td style='border: 1px solid #dddddd'>0.0</td><td style='border: 1px solid #dddddd'>0.0</td><td style='border: 1px solid #dddddd'>1.0</td><td style='border: 1px solid #dddddd'>0.0</td><td style='border: 1px solid #dddddd'>0.0</td><td style='border: 1px solid #dddddd'>1.0</td><td style='border: 1px solid #dddddd'>0.0</td><td style='border: 1px solid #dddddd'>0.0</td><td style='border: 1px solid #dddddd'>1.0</td><td style='border: 1px solid #dddddd'>0.0</td><td style='border: 1px solid #dddddd'>0.0</td><td style='border: 1px solid #dddddd'>1.0</td><td style='border: 1px solid #dddddd'>0.0</td><td style='border: 1px solid #dddddd'>0.0</td><td style='border: 1px solid #dddddd'>1.0</td><td style='border: 1px solid #dddddd'>0.0</td><td style='border: 1px solid #dddddd'>0.0</td><td style='border: 1px solid #dddddd'>1.0</td><td style='border: 1px solid #dddddd'>31.0</td><td style='border: 1px solid #dddddd'>1889.0</td><td style='border: 1px solid #dddddd'>3.0</td><td style='border: 1px solid #dddddd'>3.0</td><td style='border: 1px solid #dddddd'>32.0</td><td style='border: 1px solid #dddddd'>1.0</td><td style='border: 1px solid #dddddd'>1.0</td><td style='border: 1px solid #dddddd'>2019-04-08 08:25:13.839000+00:00</td></tr>\n",
       "            </table>\n",
       "        </body>\n",
       "        </HTML>"
      ],
      "text/plain": [
       "<IPython.core.display.HTML object>"
      ]
     },
     "metadata": {},
     "output_type": "display_data"
    }
   ],
   "source": [
    "subscription.feedback_logging.show_table()"
   ]
  },
  {
   "cell_type": "markdown",
   "metadata": {},
   "source": [
    "Describe table (calulcate basic statistics)."
   ]
  },
  {
   "cell_type": "code",
   "execution_count": 57,
   "metadata": {},
   "outputs": [
    {
     "name": "stdout",
     "output_type": "stream",
     "text": [
      "       CheckingStatus_0_to_200  CheckingStatus_greater_200  \\\n",
      "count                      9.0                         9.0   \n",
      "mean                       0.0                         1.0   \n",
      "std                        0.0                         0.0   \n",
      "min                        0.0                         1.0   \n",
      "25%                        0.0                         1.0   \n",
      "50%                        0.0                         1.0   \n",
      "75%                        0.0                         1.0   \n",
      "max                        0.0                         1.0   \n",
      "\n",
      "       CheckingStatus_less_0  CheckingStatus_no_checking  \\\n",
      "count                    9.0                         9.0   \n",
      "mean                     0.0                         0.0   \n",
      "std                      0.0                         0.0   \n",
      "min                      0.0                         0.0   \n",
      "25%                      0.0                         0.0   \n",
      "50%                      0.0                         0.0   \n",
      "75%                      0.0                         0.0   \n",
      "max                      0.0                         0.0   \n",
      "\n",
      "       CreditHistory_all_credits_paid_back  \\\n",
      "count                                  9.0   \n",
      "mean                                   0.0   \n",
      "std                                    0.0   \n",
      "min                                    0.0   \n",
      "25%                                    0.0   \n",
      "50%                                    0.0   \n",
      "75%                                    0.0   \n",
      "max                                    0.0   \n",
      "\n",
      "       CreditHistory_credits_paid_to_date  CreditHistory_no_credits  \\\n",
      "count                                 9.0                       9.0   \n",
      "mean                                  0.0                       1.0   \n",
      "std                                   0.0                       0.0   \n",
      "min                                   0.0                       1.0   \n",
      "25%                                   0.0                       1.0   \n",
      "50%                                   0.0                       1.0   \n",
      "75%                                   0.0                       1.0   \n",
      "max                                   0.0                       1.0   \n",
      "\n",
      "       CreditHistory_outstanding_credit  CreditHistory_prior_payments_delayed  \\\n",
      "count                               9.0                                   9.0   \n",
      "mean                                0.0                                   0.0   \n",
      "std                                 0.0                                   0.0   \n",
      "min                                 0.0                                   0.0   \n",
      "25%                                 0.0                                   0.0   \n",
      "50%                                 0.0                                   0.0   \n",
      "75%                                 0.0                                   0.0   \n",
      "max                                 0.0                                   0.0   \n",
      "\n",
      "       LoanPurpose_appliances  ...  ForeignWorker_no  ForeignWorker_yes  \\\n",
      "count                     9.0  ...               9.0                9.0   \n",
      "mean                      0.0  ...               0.0                0.0   \n",
      "std                       0.0  ...               0.0                0.0   \n",
      "min                       0.0  ...               0.0                0.0   \n",
      "25%                       0.0  ...               0.0                0.0   \n",
      "50%                       0.0  ...               0.0                0.0   \n",
      "75%                       0.0  ...               0.0                0.0   \n",
      "max                       0.0  ...               0.0                0.0   \n",
      "\n",
      "       LoanDuration  LoanAmount  InstallmentPercent  CurrentResidenceDuration  \\\n",
      "count           9.0         9.0                 9.0                       9.0   \n",
      "mean            1.0        31.0              1889.0                       3.0   \n",
      "std             0.0         0.0                 0.0                       0.0   \n",
      "min             1.0        31.0              1889.0                       3.0   \n",
      "25%             1.0        31.0              1889.0                       3.0   \n",
      "50%             1.0        31.0              1889.0                       3.0   \n",
      "75%             1.0        31.0              1889.0                       3.0   \n",
      "max             1.0        31.0              1889.0                       3.0   \n",
      "\n",
      "       Age  ExistingCreditsCount  Dependents  Risk  \n",
      "count  9.0                   9.0         9.0   9.0  \n",
      "mean   3.0                  32.0         1.0   1.0  \n",
      "std    0.0                   0.0         0.0   0.0  \n",
      "min    3.0                  32.0         1.0   1.0  \n",
      "25%    3.0                  32.0         1.0   1.0  \n",
      "50%    3.0                  32.0         1.0   1.0  \n",
      "75%    3.0                  32.0         1.0   1.0  \n",
      "max    3.0                  32.0         1.0   1.0  \n",
      "\n",
      "[8 rows x 61 columns]\n"
     ]
    }
   ],
   "source": [
    "subscription.feedback_logging.describe_table()"
   ]
  },
  {
   "cell_type": "markdown",
   "metadata": {},
   "source": [
    "Get table content."
   ]
  },
  {
   "cell_type": "code",
   "execution_count": 58,
   "metadata": {},
   "outputs": [
    {
     "name": "stdout",
     "output_type": "stream",
     "text": [
      "(9, 62)\n"
     ]
    }
   ],
   "source": [
    "feedback_pd = subscription.feedback_logging.get_table_content(format='pandas')\n",
    "print(feedback_pd.shape)"
   ]
  },
  {
   "cell_type": "markdown",
   "metadata": {},
   "source": [
    "### Quality metrics table"
   ]
  },
  {
   "cell_type": "code",
   "execution_count": 59,
   "metadata": {},
   "outputs": [
    {
     "data": {
      "text/html": [
       "<HTML>\n",
       "        <body>\n",
       "            <h3>Schema of QualityMetrics</h3>\n",
       "            <table style='border: 1px solid #dddddd; font-family: Courier'>\n",
       "                <th style='border: 1px solid #dddddd'>name</th><th style='border: 1px solid #dddddd'>type</th><th style='border: 1px solid #dddddd'>nullable</th>\n",
       "                <tr><td style='border: 1px solid #dddddd'>ts</td><td style='border: 1px solid #dddddd'>timestamp</td><td style='border: 1px solid #dddddd'>False</td></tr><tr><td style='border: 1px solid #dddddd'>id</td><td style='border: 1px solid #dddddd'>float</td><td style='border: 1px solid #dddddd'>False</td></tr><tr><td style='border: 1px solid #dddddd'>value</td><td style='border: 1px solid #dddddd'>float</td><td style='border: 1px solid #dddddd'>False</td></tr><tr><td style='border: 1px solid #dddddd'>lower limit</td><td style='border: 1px solid #dddddd'>float</td><td style='border: 1px solid #dddddd'>False</td></tr><tr><td style='border: 1px solid #dddddd'>upper limit</td><td style='border: 1px solid #dddddd'>float</td><td style='border: 1px solid #dddddd'>False</td></tr><tr><td style='border: 1px solid #dddddd'>tags</td><td style='border: 1px solid #dddddd'>string</td><td style='border: 1px solid #dddddd'>False</td></tr><tr><td style='border: 1px solid #dddddd'>binding_id</td><td style='border: 1px solid #dddddd'>string</td><td style='border: 1px solid #dddddd'>False</td></tr><tr><td style='border: 1px solid #dddddd'>subscription_id</td><td style='border: 1px solid #dddddd'>string</td><td style='border: 1px solid #dddddd'>False</td></tr><tr><td style='border: 1px solid #dddddd'>deployment_id</td><td style='border: 1px solid #dddddd'>string</td><td style='border: 1px solid #dddddd'>True</td></tr>\n",
       "            </table>\n",
       "        </body>\n",
       "        </HTML>"
      ],
      "text/plain": [
       "<IPython.core.display.HTML object>"
      ]
     },
     "metadata": {},
     "output_type": "display_data"
    }
   ],
   "source": [
    "subscription.quality_monitoring.print_table_schema()"
   ]
  },
  {
   "cell_type": "code",
   "execution_count": 60,
   "metadata": {},
   "outputs": [
    {
     "data": {
      "text/html": [
       "<HTML>\n",
       "        <body>\n",
       "            <h3>QualityMetrics (binding_id=3f392dbe-8f93-4965-98d2-cf930a0b32cc, subscription_id=253a3eb8d068b34b9d3e79bffcfcdbb8)</h3>\n",
       "            <table style='border: 1px solid #dddddd; font-family: Courier'>\n",
       "                <th style='border: 1px solid #dddddd'>ts</th><th style='border: 1px solid #dddddd'>id</th><th style='border: 1px solid #dddddd'>value</th><th style='border: 1px solid #dddddd'>lower limit</th><th style='border: 1px solid #dddddd'>upper limit</th><th style='border: 1px solid #dddddd'>tags</th><th style='border: 1px solid #dddddd'>binding_id</th><th style='border: 1px solid #dddddd'>subscription_id</th><th style='border: 1px solid #dddddd'>deployment_id</th>\n",
       "                <tr><td style='border: 1px solid #dddddd'>2019-04-08 08:25:20.518000+00:00</td><td style='border: 1px solid #dddddd'>area_under_roc</td><td style='border: 1px solid #dddddd'>0.0</td><td style='border: 1px solid #dddddd'>0.7</td><td style='border: 1px solid #dddddd'></td><td style='border: 1px solid #dddddd'></td><td style='border: 1px solid #dddddd'>3f392dbe-8f93-4965-98d2-cf930a0b32cc</td><td style='border: 1px solid #dddddd'>253a3eb8d068b34b9d3e79bffcfcdbb8</td><td style='border: 1px solid #dddddd'>a3e4abd3429870983b100b4b609d469a</td></tr><tr><td style='border: 1px solid #dddddd'>2019-04-08 08:25:20.518000+00:00</td><td style='border: 1px solid #dddddd'>accuracy</td><td style='border: 1px solid #dddddd'>0.0</td><td style='border: 1px solid #dddddd'></td><td style='border: 1px solid #dddddd'></td><td style='border: 1px solid #dddddd'></td><td style='border: 1px solid #dddddd'>3f392dbe-8f93-4965-98d2-cf930a0b32cc</td><td style='border: 1px solid #dddddd'>253a3eb8d068b34b9d3e79bffcfcdbb8</td><td style='border: 1px solid #dddddd'>a3e4abd3429870983b100b4b609d469a</td></tr><tr><td style='border: 1px solid #dddddd'>2019-04-08 08:25:20.518000+00:00</td><td style='border: 1px solid #dddddd'>area_under_pr</td><td style='border: 1px solid #dddddd'>0.0</td><td style='border: 1px solid #dddddd'></td><td style='border: 1px solid #dddddd'></td><td style='border: 1px solid #dddddd'></td><td style='border: 1px solid #dddddd'>3f392dbe-8f93-4965-98d2-cf930a0b32cc</td><td style='border: 1px solid #dddddd'>253a3eb8d068b34b9d3e79bffcfcdbb8</td><td style='border: 1px solid #dddddd'>a3e4abd3429870983b100b4b609d469a</td></tr>\n",
       "            </table>\n",
       "        </body>\n",
       "        </HTML>"
      ],
      "text/plain": [
       "<IPython.core.display.HTML object>"
      ]
     },
     "metadata": {},
     "output_type": "display_data"
    }
   ],
   "source": [
    "subscription.quality_monitoring.show_table()"
   ]
  },
  {
   "cell_type": "markdown",
   "metadata": {},
   "source": [
    "### Performance metrics table"
   ]
  },
  {
   "cell_type": "code",
   "execution_count": 61,
   "metadata": {},
   "outputs": [
    {
     "data": {
      "text/html": [
       "<HTML>\n",
       "        <body>\n",
       "            <h3>Schema of PerformanceMetrics</h3>\n",
       "            <table style='border: 1px solid #dddddd; font-family: Courier'>\n",
       "                <th style='border: 1px solid #dddddd'>name</th><th style='border: 1px solid #dddddd'>type</th><th style='border: 1px solid #dddddd'>nullable</th>\n",
       "                <tr><td style='border: 1px solid #dddddd'>ts</td><td style='border: 1px solid #dddddd'>timestamp</td><td style='border: 1px solid #dddddd'>False</td></tr><tr><td style='border: 1px solid #dddddd'>scoring_time</td><td style='border: 1px solid #dddddd'>float</td><td style='border: 1px solid #dddddd'>False</td></tr><tr><td style='border: 1px solid #dddddd'>scoring_records</td><td style='border: 1px solid #dddddd'>object</td><td style='border: 1px solid #dddddd'>False</td></tr><tr><td style='border: 1px solid #dddddd'>binding_id</td><td style='border: 1px solid #dddddd'>string</td><td style='border: 1px solid #dddddd'>False</td></tr><tr><td style='border: 1px solid #dddddd'>subscription_id</td><td style='border: 1px solid #dddddd'>string</td><td style='border: 1px solid #dddddd'>False</td></tr><tr><td style='border: 1px solid #dddddd'>deployment_id</td><td style='border: 1px solid #dddddd'>string</td><td style='border: 1px solid #dddddd'>True</td></tr><tr><td style='border: 1px solid #dddddd'>process</td><td style='border: 1px solid #dddddd'>string</td><td style='border: 1px solid #dddddd'>False</td></tr><tr><td style='border: 1px solid #dddddd'>asset_revision</td><td style='border: 1px solid #dddddd'>string</td><td style='border: 1px solid #dddddd'>True</td></tr>\n",
       "            </table>\n",
       "        </body>\n",
       "        </HTML>"
      ],
      "text/plain": [
       "<IPython.core.display.HTML object>"
      ]
     },
     "metadata": {},
     "output_type": "display_data"
    }
   ],
   "source": [
    "subscription.performance_monitoring.print_table_schema()"
   ]
  },
  {
   "cell_type": "code",
   "execution_count": 62,
   "metadata": {},
   "outputs": [
    {
     "data": {
      "text/html": [
       "<HTML>\n",
       "        <body>\n",
       "            <h3>PerformanceMetrics (binding_id=3f392dbe-8f93-4965-98d2-cf930a0b32cc, subscription_id=253a3eb8d068b34b9d3e79bffcfcdbb8)</h3>\n",
       "            <table style='border: 1px solid #dddddd; font-family: Courier'>\n",
       "                <th style='border: 1px solid #dddddd'>ts</th><th style='border: 1px solid #dddddd'>scoring_time</th><th style='border: 1px solid #dddddd'>scoring_records</th><th style='border: 1px solid #dddddd'>binding_id</th><th style='border: 1px solid #dddddd'>subscription_id</th><th style='border: 1px solid #dddddd'>deployment_id</th><th style='border: 1px solid #dddddd'>process</th><th style='border: 1px solid #dddddd'>asset_revision</th>\n",
       "                <tr><td style='border: 1px solid #dddddd'>2019-04-08 08:21:38.369000+00:00</td><td style='border: 1px solid #dddddd'>337.0</td><td style='border: 1px solid #dddddd'>1</td><td style='border: 1px solid #dddddd'>3f392dbe-8f93-4965-98d2-cf930a0b32cc</td><td style='border: 1px solid #dddddd'>253a3eb8d068b34b9d3e79bffcfcdbb8</td><td style='border: 1px solid #dddddd'>a3e4abd3429870983b100b4b609d469a</td><td style='border: 1px solid #dddddd'></td><td style='border: 1px solid #dddddd'></td></tr><tr><td style='border: 1px solid #dddddd'>2019-04-08 08:22:55.469000+00:00</td><td style='border: 1px solid #dddddd'>337.0</td><td style='border: 1px solid #dddddd'>1</td><td style='border: 1px solid #dddddd'>3f392dbe-8f93-4965-98d2-cf930a0b32cc</td><td style='border: 1px solid #dddddd'>253a3eb8d068b34b9d3e79bffcfcdbb8</td><td style='border: 1px solid #dddddd'>a3e4abd3429870983b100b4b609d469a</td><td style='border: 1px solid #dddddd'></td><td style='border: 1px solid #dddddd'></td></tr><tr><td style='border: 1px solid #dddddd'>2019-04-08 08:22:55.469000+00:00</td><td style='border: 1px solid #dddddd'>337.0</td><td style='border: 1px solid #dddddd'>1</td><td style='border: 1px solid #dddddd'>3f392dbe-8f93-4965-98d2-cf930a0b32cc</td><td style='border: 1px solid #dddddd'>253a3eb8d068b34b9d3e79bffcfcdbb8</td><td style='border: 1px solid #dddddd'>a3e4abd3429870983b100b4b609d469a</td><td style='border: 1px solid #dddddd'></td><td style='border: 1px solid #dddddd'></td></tr><tr><td style='border: 1px solid #dddddd'>2019-04-08 08:22:55.469000+00:00</td><td style='border: 1px solid #dddddd'>337.0</td><td style='border: 1px solid #dddddd'>1</td><td style='border: 1px solid #dddddd'>3f392dbe-8f93-4965-98d2-cf930a0b32cc</td><td style='border: 1px solid #dddddd'>253a3eb8d068b34b9d3e79bffcfcdbb8</td><td style='border: 1px solid #dddddd'>a3e4abd3429870983b100b4b609d469a</td><td style='border: 1px solid #dddddd'></td><td style='border: 1px solid #dddddd'></td></tr><tr><td style='border: 1px solid #dddddd'>2019-04-08 08:22:55.469000+00:00</td><td style='border: 1px solid #dddddd'>337.0</td><td style='border: 1px solid #dddddd'>1</td><td style='border: 1px solid #dddddd'>3f392dbe-8f93-4965-98d2-cf930a0b32cc</td><td style='border: 1px solid #dddddd'>253a3eb8d068b34b9d3e79bffcfcdbb8</td><td style='border: 1px solid #dddddd'>a3e4abd3429870983b100b4b609d469a</td><td style='border: 1px solid #dddddd'></td><td style='border: 1px solid #dddddd'></td></tr><tr><td style='border: 1px solid #dddddd'>2019-04-08 08:22:55.469000+00:00</td><td style='border: 1px solid #dddddd'>337.0</td><td style='border: 1px solid #dddddd'>1</td><td style='border: 1px solid #dddddd'>3f392dbe-8f93-4965-98d2-cf930a0b32cc</td><td style='border: 1px solid #dddddd'>253a3eb8d068b34b9d3e79bffcfcdbb8</td><td style='border: 1px solid #dddddd'>a3e4abd3429870983b100b4b609d469a</td><td style='border: 1px solid #dddddd'></td><td style='border: 1px solid #dddddd'></td></tr><tr><td style='border: 1px solid #dddddd'>2019-04-08 08:22:55.469000+00:00</td><td style='border: 1px solid #dddddd'>337.0</td><td style='border: 1px solid #dddddd'>1</td><td style='border: 1px solid #dddddd'>3f392dbe-8f93-4965-98d2-cf930a0b32cc</td><td style='border: 1px solid #dddddd'>253a3eb8d068b34b9d3e79bffcfcdbb8</td><td style='border: 1px solid #dddddd'>a3e4abd3429870983b100b4b609d469a</td><td style='border: 1px solid #dddddd'></td><td style='border: 1px solid #dddddd'></td></tr><tr><td style='border: 1px solid #dddddd'>2019-04-08 08:22:55.470000+00:00</td><td style='border: 1px solid #dddddd'>337.0</td><td style='border: 1px solid #dddddd'>1</td><td style='border: 1px solid #dddddd'>3f392dbe-8f93-4965-98d2-cf930a0b32cc</td><td style='border: 1px solid #dddddd'>253a3eb8d068b34b9d3e79bffcfcdbb8</td><td style='border: 1px solid #dddddd'>a3e4abd3429870983b100b4b609d469a</td><td style='border: 1px solid #dddddd'></td><td style='border: 1px solid #dddddd'></td></tr><tr><td style='border: 1px solid #dddddd'>2019-04-08 08:22:55.469000+00:00</td><td style='border: 1px solid #dddddd'>337.0</td><td style='border: 1px solid #dddddd'>1</td><td style='border: 1px solid #dddddd'>3f392dbe-8f93-4965-98d2-cf930a0b32cc</td><td style='border: 1px solid #dddddd'>253a3eb8d068b34b9d3e79bffcfcdbb8</td><td style='border: 1px solid #dddddd'>a3e4abd3429870983b100b4b609d469a</td><td style='border: 1px solid #dddddd'></td><td style='border: 1px solid #dddddd'></td></tr><tr><td style='border: 1px solid #dddddd'>2019-04-08 08:22:55.469000+00:00</td><td style='border: 1px solid #dddddd'>337.0</td><td style='border: 1px solid #dddddd'>1</td><td style='border: 1px solid #dddddd'>3f392dbe-8f93-4965-98d2-cf930a0b32cc</td><td style='border: 1px solid #dddddd'>253a3eb8d068b34b9d3e79bffcfcdbb8</td><td style='border: 1px solid #dddddd'>a3e4abd3429870983b100b4b609d469a</td><td style='border: 1px solid #dddddd'></td><td style='border: 1px solid #dddddd'></td></tr>\n",
       "            </table>\n",
       "        </body>\n",
       "        </HTML>"
      ],
      "text/plain": [
       "<IPython.core.display.HTML object>"
      ]
     },
     "metadata": {},
     "output_type": "display_data"
    }
   ],
   "source": [
    "subscription.performance_monitoring.show_table()"
   ]
  },
  {
   "cell_type": "markdown",
   "metadata": {},
   "source": [
    "### Data Mart measurement facts table"
   ]
  },
  {
   "cell_type": "code",
   "execution_count": 63,
   "metadata": {},
   "outputs": [
    {
     "data": {
      "text/plain": [
       "{'deployment_metrics': [{'asset': {'asset_id': '253a3eb8d068b34b9d3e79bffcfcdbb8',\n",
       "    'asset_type': 'model',\n",
       "    'created_at': '2019-03-29T12:54:16.319Z',\n",
       "    'name': 'Credit-risk-linear-learner-2019-03-29-12-47',\n",
       "    'url': 's3://sagemaker-us-east-1-rbigaj-20190329-testfest/credit-risk/output/Credit-risk-linear-learner-2019-03-29-12-47/output/model.tar.gz'},\n",
       "   'deployment': {'created_at': '2019-03-29T12:57:53.392Z',\n",
       "    'deployment_id': 'a3e4abd3429870983b100b4b609d469a',\n",
       "    'deployment_rn': 'arn:aws:sagemaker:us-east-1:014862798213:endpoint/rb-credit-risk-endpoint-scoring-2019-03-29-12-47',\n",
       "    'deployment_type': 'online',\n",
       "    'name': 'RB-Credit-risk-endpoint-scoring-2019-03-29-12-47',\n",
       "    'scoring_endpoint': {'request_headers': {'Content-Type': 'application/json'},\n",
       "     'url': 'RB-Credit-risk-endpoint-scoring-2019-03-29-12-47'},\n",
       "    'url': 'RB-Credit-risk-endpoint-scoring-2019-03-29-12-47'},\n",
       "   'metrics': [{'issues': 0,\n",
       "     'metric_type': 'performance',\n",
       "     'timestamp': '2019-04-08T08:22:55.470Z',\n",
       "     'value': {'records': 1, 'response_time': 337.0}},\n",
       "    {'issues': 1,\n",
       "     'metric_type': 'quality',\n",
       "     'timestamp': '2019-04-08T08:25:20.518Z',\n",
       "     'value': {'metrics': [{'name': 'area_under_roc', 'value': 0.0},\n",
       "       {'name': 'accuracy', 'value': 0.0},\n",
       "       {'name': 'area_under_pr', 'value': 0.0}],\n",
       "      'quality': 0.0,\n",
       "      'threshold': 0.7}}],\n",
       "   'subscription': {'subscription_id': '253a3eb8d068b34b9d3e79bffcfcdbb8',\n",
       "    'url': '/v1/data_marts/d944b201-fae3-4984-a03f-c91f4a08c5f9/service_bindings/3f392dbe-8f93-4965-98d2-cf930a0b32cc/subscriptions/253a3eb8d068b34b9d3e79bffcfcdbb8'}}]}"
      ]
     },
     "execution_count": 63,
     "metadata": {},
     "output_type": "execute_result"
    }
   ],
   "source": [
    "client.data_mart.get_deployment_metrics()"
   ]
  },
  {
   "cell_type": "markdown",
   "metadata": {},
   "source": [
    "<a id=\"fairness_and_explainability\"></a>\n",
    "## 7. Fairness monitoring and explanations"
   ]
  },
  {
   "cell_type": "markdown",
   "metadata": {},
   "source": [
    "### Get training data"
   ]
  },
  {
   "cell_type": "code",
   "execution_count": 64,
   "metadata": {},
   "outputs": [],
   "source": [
    "import numpy as np\n",
    "import pandas as pd\n",
    "\n",
    "training_data_pd = pd.read_csv(filepath_or_buffer=\"https://raw.githubusercontent.com/pmservice/ai-openscale-tutorials/master/notebooks/data/credit_risk_training_recoded.csv\",\n",
    "                               header=0,\n",
    "                               dtype=np.int64)"
   ]
  },
  {
   "cell_type": "markdown",
   "metadata": {},
   "source": [
    "### Enable and run fairness monitoring"
   ]
  },
  {
   "cell_type": "code",
   "execution_count": 65,
   "metadata": {},
   "outputs": [],
   "source": [
    "from ibm_ai_openscale.supporting_classes.feature import Feature\n",
    "\n",
    "subscription.fairness_monitoring.enable(\n",
    "            training_data=training_data_pd,\n",
    "            features=[\n",
    "                Feature(\"Sex_female\", majority=[[0,0]], minority=[[1,1]], threshold=0.95),\n",
    "                Feature(\"Age\", majority=[[26, 75]], minority=[[18, 25]], threshold=0.95)\n",
    "            ],\n",
    "            favourable_classes=[0],\n",
    "            unfavourable_classes=[1],\n",
    "            min_records=5\n",
    "        )"
   ]
  },
  {
   "cell_type": "markdown",
   "metadata": {},
   "source": [
    "### Run fairness monitor"
   ]
  },
  {
   "cell_type": "code",
   "execution_count": 66,
   "metadata": {},
   "outputs": [
    {
     "name": "stdout",
     "output_type": "stream",
     "text": [
      "\n",
      "\n",
      "===================================================================\n",
      "\n",
      " Counting bias for deployment_uid=a3e4abd3429870983b100b4b609d469a \n",
      "\n",
      "===================================================================\n",
      "\n",
      "\n",
      "\n",
      "RUNNING.\n",
      "FINISHED\n",
      "\n",
      "---------------------------\n",
      " Successfully finished run \n",
      "---------------------------\n",
      "\n",
      "\n"
     ]
    }
   ],
   "source": [
    "run_details = subscription.fairness_monitoring.run(background_mode=False)"
   ]
  },
  {
   "cell_type": "code",
   "execution_count": 67,
   "metadata": {},
   "outputs": [
    {
     "data": {
      "text/html": [
       "<HTML>\n",
       "        <body>\n",
       "            <h3>FairnessMetrics (binding_id=3f392dbe-8f93-4965-98d2-cf930a0b32cc, subscription_id=253a3eb8d068b34b9d3e79bffcfcdbb8)</h3>\n",
       "            <table style='border: 1px solid #dddddd; font-family: Courier'>\n",
       "                <th style='border: 1px solid #dddddd'>ts</th><th style='border: 1px solid #dddddd'>feature</th><th style='border: 1px solid #dddddd'>feature_value</th><th style='border: 1px solid #dddddd'>fairness_biased</th><th style='border: 1px solid #dddddd'>fairness_value</th><th style='border: 1px solid #dddddd'>fairness_fav_class</th><th style='border: 1px solid #dddddd'>binding_id</th><th style='border: 1px solid #dddddd'>subscription_id</th><th style='border: 1px solid #dddddd'>asset_revision</th><th style='border: 1px solid #dddddd'>deployment_id</th><th style='border: 1px solid #dddddd'>process</th>\n",
       "                <tr><td style='border: 1px solid #dddddd'>2019-04-08 08:27:38.060745+00:00</td><td style='border: 1px solid #dddddd'>Sex_female</td><td style='border: 1px solid #dddddd'>[1, 1]</td><td style='border: 1px solid #dddddd'>False</td><td style='border: 1px solid #dddddd'>1.0</td><td style='border: 1px solid #dddddd'>100.0</td><td style='border: 1px solid #dddddd'>3f392dbe-8f93-4965-98d2-cf930a0b32cc</td><td style='border: 1px solid #dddddd'>253a3eb8d068b34b9d3e79bffcfcdbb8</td><td style='border: 1px solid #dddddd'>253a3eb8d068b34b9d3e79bffcfcdbb8</td><td style='border: 1px solid #dddddd'>a3e4abd3429870983b100b4b609d469a</td><td style='border: 1px solid #dddddd'></td></tr><tr><td style='border: 1px solid #dddddd'>2019-04-08 08:27:38.060745+00:00</td><td style='border: 1px solid #dddddd'>Age</td><td style='border: 1px solid #dddddd'>[18, 25]</td><td style='border: 1px solid #dddddd'>False</td><td style='border: 1px solid #dddddd'>1.0</td><td style='border: 1px solid #dddddd'>100.0</td><td style='border: 1px solid #dddddd'>3f392dbe-8f93-4965-98d2-cf930a0b32cc</td><td style='border: 1px solid #dddddd'>253a3eb8d068b34b9d3e79bffcfcdbb8</td><td style='border: 1px solid #dddddd'>253a3eb8d068b34b9d3e79bffcfcdbb8</td><td style='border: 1px solid #dddddd'>a3e4abd3429870983b100b4b609d469a</td><td style='border: 1px solid #dddddd'></td></tr>\n",
       "            </table>\n",
       "        </body>\n",
       "        </HTML>"
      ],
      "text/plain": [
       "<IPython.core.display.HTML object>"
      ]
     },
     "metadata": {},
     "output_type": "display_data"
    }
   ],
   "source": [
    "subscription.fairness_monitoring.show_table()"
   ]
  },
  {
   "cell_type": "markdown",
   "metadata": {},
   "source": [
    "### Enable Explainability and run explanation on sample record"
   ]
  },
  {
   "cell_type": "code",
   "execution_count": 68,
   "metadata": {},
   "outputs": [],
   "source": [
    "subscription.explainability.enable(training_data=training_data_pd)"
   ]
  },
  {
   "cell_type": "markdown",
   "metadata": {},
   "source": [
    "Getting a `transaction_id` to run explanation on"
   ]
  },
  {
   "cell_type": "code",
   "execution_count": 69,
   "metadata": {},
   "outputs": [
    {
     "name": "stdout",
     "output_type": "stream",
     "text": [
      "0fe55f83-e3e0-4015-a721-11aeb2e940af-1\n"
     ]
    }
   ],
   "source": [
    "[transaction_id, *_] = subscription.payload_logging.get_table_content().scoring_id\n",
    "print(transaction_id)"
   ]
  },
  {
   "cell_type": "code",
   "execution_count": 73,
   "metadata": {},
   "outputs": [],
   "source": [
    "explain_run = subscription.explainability.run(transaction_id, background_mode=False)"
   ]
  },
  {
   "cell_type": "code",
   "execution_count": 75,
   "metadata": {},
   "outputs": [
    {
     "data": {
      "image/png": "[encoded data removed]",
      "text/plain": [
       "<matplotlib.figure.Figure at 0x7fcd9c67ab00>"
      ]
     },
     "metadata": {},
     "output_type": "display_data"
    }
   ],
   "source": [
    "%matplotlib inline\n",
    "\n",
    "explain_result = pd.DataFrame.from_dict(explain_run['entity']['predictions'][0]['explanation_features'])\n",
    "explain_result.plot.barh(x='feature_name', y='weight', color='g', alpha=0.8);"
   ]
  },
  {
   "cell_type": "markdown",
   "metadata": {},
   "source": [
    "---"
   ]
  },
  {
   "cell_type": "markdown",
   "metadata": {},
   "source": [
    "### Authors\n",
    "Wojciech Sobala, is a Data Scientist at IBM with a track record of developing enterprise-level applications that substantially increases clients' ability to turn data into actionable knowledge."
   ]
  }
 ],
"metadata": {
        "kernelspec": {
            "display_name": "Python 3.5", 
            "name": "python3", 
            "language": "python"
        }, 
        "language_info": {
            "mimetype": "text/x-python", 
            "nbconvert_exporter": "python", 
            "version": "3.5.5", 
            "name": "python", 
            "file_extension": ".py", 
            "pygments_lexer": "ipython3", 
            "codemirror_mode": {
                "version": 3, 
                "name": "ipython"
            }
        }
    }, 
    "nbformat": 4
}
