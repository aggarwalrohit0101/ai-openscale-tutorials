{
 "cells": [
  {
   "cell_type": "markdown",
   "metadata": {},
   "source": [
    "<img src=\"https://github.com/pmservice/ai-openscale-tutorials/raw/master/notebooks/images/banner.png\" align=\"left\" alt=\"banner\">"
   ]
  },
  {
   "cell_type": "markdown",
   "metadata": {},
   "source": [
    "# Working with Watson Machine Learning"
   ]
  },
  {
   "cell_type": "markdown",
   "metadata": {},
   "source": [
    "This notebook should be run in a Watson Studio project, using **Default Python 3.6** runtime environment. It requires service credentials for the following Cloud services:\n",
    "  * Watson OpenScale\n",
    "  * Watson Machine Learning\n",
    "  \n",
    "If you have a paid Cloud account, you may also provision a **Databases for PostgreSQL** or **Db2 Warehouse** service to take full advantage of integration with Watson Studio and continuous learning services. If you choose not to provision this paid service, you can use the free internal PostgreSQL storage with OpenScale, but will not be able to configure continuous learning for your model.\n",
    "\n",
    "The notebook will train, create and deploy a German Credit Risk model, configure OpenScale to monitor that deployment, and inject seven days' worth of historical records and measurements for viewing in the OpenScale Insights dashboard."
   ]
  },
  {
   "cell_type": "markdown",
   "metadata": {},
   "source": [
    "### Contents\n",
    "\n",
    "- [Setup](#setup)\n",
    "- [Model building and deployment](#model)\n",
    "- [OpenScale configuration](#openscale)\n",
    "- [Quality monitor and feedback logging](#quality)\n",
    "- [Fairness monitoring, Drift and explanations](#fairness)\n",
    "- [Custom monitors and metrics](#custom)\n",
    "- [Historical data](#historical)"
   ]
  },
  {
   "cell_type": "markdown",
   "metadata": {},
   "source": [
    "### Note: Sample using most latest openscale V2 client from test pypi and will be changed to production release once available. It does not cover followings aspects for now:\n",
    "\n",
    "- Historical payload logging \n",
    "- Historical manual labeling"
   ]
  },
  {
   "cell_type": "markdown",
   "metadata": {},
   "source": [
    "# Setup <a name=\"setup\"></a>"
   ]
  },
  {
   "cell_type": "markdown",
   "metadata": {
    "collapsed": true
   },
   "source": [
    "## Package installation"
   ]
  },
  {
   "cell_type": "code",
   "execution_count": 1,
   "metadata": {
    "scrolled": true
   },
   "outputs": [
    {
     "name": "stdout",
     "output_type": "stream",
     "text": [
      "Requirement already satisfied: numpy>=1.15.4 in /opt/conda/envs/Python36/lib/python3.6/site-packages (from pandas>=0.25.3->ibm-watson-openscale) (1.16.4)\n",
      "Requirement already satisfied: py4j==0.10.6 in /opt/conda/envs/Python36/lib/python3.6/site-packages (from pyspark) (0.10.6)\n",
      "Successfully installed pandas-0.25.3\n",
      "Successfully installed requests-2.23.0\n",
      "\u001b[31mERROR: tensorflow 1.13.1 requires tensorboard<1.14.0,>=1.13.0, which is not installed.\u001b[0m\n",
      "Successfully installed numpy-1.19.1\n",
      "Successfully installed SciPy-1.5.2\n",
      "Requirement already satisfied: toolz>=0.7.3; extra == \"array\" in /opt/conda/envs/Python36/lib/python3.6/site-packages (from dask[array]>=0.9.0->scikit-image>=0.12->lime) (0.9.0)\n",
      "Requirement already satisfied: urllib3!=1.25.0,!=1.25.1,<1.26,>=1.21.1 in /opt/conda/envs/Python36/lib/python3.6/site-packages (from requests->pixiedust) (1.24.1)\n",
      "Requirement already satisfied: idna<3,>=2.5 in /opt/conda/envs/Python36/lib/python3.6/site-packages (from requests<3.0,>=2.0->ibm-cloud-sdk-core) (2.8)\n",
      "Requirement already satisfied, skipping upgrade: docutils>=0.10 in /opt/conda/envs/Python36/lib/python3.6/site-packages (from ibm-cos-sdk-core==2.*,>=2.0.0->ibm-cos-sdk->watson-machine-learning-client) (0.14)\n"
     ]
    }
   ],
   "source": [
    "!rm -rf /home/spark/shared/user-libs/python3.6*\n",
    "\n",
    "!pip install --upgrade pandas==0.25.3 --no-cache | tail -n 1\n",
    "!pip install --upgrade requests==2.23 --no-cache | tail -n 1\n",
    "!pip install --upgrade numpy==1.16.4 --no-cache | tail -n 1\n",
    "!pip install --upgrade SciPy --no-cache | tail -n 1\n",
    "!pip install lime --no-cache | tail -n 1\n",
    "!pip install pixiedust | tail -n 1\n",
    "\n",
    "!pip install ibm-cloud-sdk-core --no-cache | tail -n 1\n",
    "!pip install ibm-watson-openscale --extra-index-url https://test.pypi.org/simple/ --no-cache | tail -n 1\n",
    "#!pip install ibm-watson-openscale --no-cache | tail -n 1\n",
    "!pip install --upgrade watson-machine-learning-client --user | tail -n 1"
   ]
  },
  {
   "cell_type": "markdown",
   "metadata": {},
   "source": [
    "## Provision services and configure credentials"
   ]
  },
  {
   "cell_type": "markdown",
   "metadata": {},
   "source": [
    "If you have not already, provision an instance of IBM Watson OpenScale using the [OpenScale link in the Cloud catalog](https://cloud.ibm.com/catalog/services/watson-openscale)."
   ]
  },
  {
   "cell_type": "markdown",
   "metadata": {},
   "source": [
    "Your Cloud API key can be generated by going to the [**Users** section of the Cloud console](https://cloud.ibm.com/iam#/users). From that page, click your name, scroll down to the **API Keys** section, and click **Create an IBM Cloud API key**. Give your key a name and click **Create**, then copy the created key and paste it below."
   ]
  },
  {
   "cell_type": "markdown",
   "metadata": {},
   "source": [
    "**NOTE:** You can also get OpenScale `API_KEY` using IBM CLOUD CLI.\n",
    "\n",
    "How to install IBM Cloud (bluemix) console: [instruction](https://console.bluemix.net/docs/cli/reference/ibmcloud/download_cli.html#install_use)\n",
    "\n",
    "How to get api key using console:\n",
    "```\n",
    "bx login --sso\n",
    "bx iam api-key-create 'my_key'\n",
    "```"
   ]
  },
  {
   "cell_type": "code",
   "execution_count": 2,
   "metadata": {
    "scrolled": true
   },
   "outputs": [],
   "source": [
    "CLOUD_API_KEY = \"\""
   ]
  },
  {
   "cell_type": "markdown",
   "metadata": {},
   "source": [
    "Next you will need credentials for Watson Machine Learning. If you already have a WML instance, you may use credentials for it. To provision a new Lite instance of WML, use the [Cloud catalog](https://cloud.ibm.com/catalog/services/machine-learning), give your service a name, and click **Create**. Once your instance is created, click the **Service Credentials** link on the left side of the screen. Click the **New credential** button, give your credentials a name, and click **Add**. Your new credentials can be accessed by clicking the **View credentials** button. Copy and paste your WML credentials into the cell below."
   ]
  },
  {
   "cell_type": "code",
   "execution_count": 3,
   "metadata": {
    "scrolled": true
   },
   "outputs": [],
   "source": [
    "WML_CREDENTIALS = {\n",
    "  \n",
    "}"
   ]
  },
  {
   "cell_type": "markdown",
   "metadata": {},
   "source": [
    "This tutorial can use Databases for PostgreSQL, Db2 Warehouse, or a free internal verison of PostgreSQL to create a datamart for OpenScale.\n",
    "\n",
    "If you have previously configured OpenScale, it will use your existing datamart, and not interfere with any models you are currently monitoring. Do not update the cell below.\n",
    "\n",
    "If you do not have a paid Cloud account or would prefer not to provision this paid service, you may use the free internal PostgreSQL service with OpenScale. Do not update the cell below.\n",
    "\n",
    "To provision a new instance of Db2 Warehouse, locate [Db2 Warehouse in the Cloud catalog](https://cloud.ibm.com/catalog/services/db2-warehouse), give your service a name, and click **Create**. Once your instance is created, click the **Service Credentials** link on the left side of the screen. Click the **New credential** button, give your credentials a name, and click **Add**. Your new credentials can be accessed by clicking the **View credentials** button. Copy and paste your Db2 Warehouse credentials into the cell below.\n",
    "\n",
    "To provision a new instance of Databases for PostgreSQL, locate [Databases for PostgreSQL in the Cloud catalog](https://cloud.ibm.com/catalog/services/databases-for-postgresql), give your service a name, and click **Create**. Once your instance is created, click the **Service Credentials** link on the left side of the screen. Click the **New credential** button, give your credentials a name, and click **Add**. Your new credentials can be accessed by clicking the **View credentials** button. Copy and paste your Databases for PostgreSQL credentials into the cell below."
   ]
  },
  {
   "cell_type": "code",
   "execution_count": 4,
   "metadata": {
    "scrolled": true
   },
   "outputs": [],
   "source": [
    "DB_CREDENTIALS = None\n",
    "SCHEMA_NAME = None"
   ]
  },
  {
   "cell_type": "markdown",
   "metadata": {},
   "source": [
    "__If you previously configured OpenScale to use the free internal version of PostgreSQL, you can switch to a new datamart using a paid database service.__ If you would like to delete the internal PostgreSQL configuration and create a new one using service credentials supplied in the cell above, set the __KEEP_MY_INTERNAL_POSTGRES__ variable below to __False__ below. In this case, the notebook will remove your existing internal PostgreSQL datamart and create a new one with the supplied credentials. __*NO DATA MIGRATION WILL OCCUR.*__"
   ]
  },
  {
   "cell_type": "code",
   "execution_count": 5,
   "metadata": {},
   "outputs": [],
   "source": [
    "KEEP_MY_INTERNAL_POSTGRES = True"
   ]
  },
  {
   "cell_type": "markdown",
   "metadata": {},
   "source": [
    "In next cells, you will need to paste some credentials to Cloud Object Storage. If you haven't worked with COS yet please visit [getting started with COS tutorial](https://cloud.ibm.com/docs/cloud-object-storage?topic=cloud-object-storage-getting-started). \n",
    "You can find `COS_API_KEY_ID` and `COS_RESOURCE_CRN` variables in **_Service Credentials_** in menu of your COS instance. Used COS Service Credentials must be created with _Role_ parameter set as Writer. Later training data file will be loaded to the bucket of your instance and used as training refecence in subsription.  \n",
    "`COS_ENDPOINT` variable can be found in **_Endpoint_** field of the menu."
   ]
  },
  {
   "cell_type": "code",
   "execution_count": 6,
   "metadata": {},
   "outputs": [],
   "source": [
    "COS_API_KEY_ID = \"***\"\n",
    "COS_RESOURCE_CRN = \"***\" # eg \"crn:v1:bluemix:public:cloud-object-storage:global:a/3bf0d9003abfb5d29761c3e97696b71c:d6f04d83-6c4f-4a62-a165-696756d63903::\"\n",
    "COS_ENDPOINT = \"***\" # Current list avaiable at https://control.cloud-object-storage.cloud.ibm.com/v2/endpoints"
   ]
  },
  {
   "cell_type": "code",
   "execution_count": 7,
   "metadata": {},
   "outputs": [],
   "source": [
    "BUCKET_NAME = \"***\" #example: \"credit-risk-training-data\""
   ]
  },
  {
   "cell_type": "markdown",
   "metadata": {},
   "source": [
    "## Run the notebook\n",
    "\n",
    "At this point, the notebook is ready to run. You can either run the cells one at a time, or click the **Kernel** option above and select **Restart and Run All** to run all the cells."
   ]
  },
  {
   "cell_type": "markdown",
   "metadata": {},
   "source": [
    "# Model building and deployment <a name=\"model\"></a>"
   ]
  },
  {
   "cell_type": "markdown",
   "metadata": {},
   "source": [
    "In this section you will learn how to train Scikit-learn model and next deploy it as web-service using Watson Machine Learning service."
   ]
  },
  {
   "cell_type": "markdown",
   "metadata": {},
   "source": [
    "## Load the training data from github"
   ]
  },
  {
   "cell_type": "code",
   "execution_count": 8,
   "metadata": {
    "scrolled": true
   },
   "outputs": [
    {
     "name": "stdout",
     "output_type": "stream",
     "text": [
      "--2020-08-18 18:29:18--  https://raw.githubusercontent.com/pmservice/ai-openscale-tutorials/master/assets/historical_data/german_credit_risk/wml/german_credit_data_biased_training.csv\n",
      "Resolving raw.githubusercontent.com (raw.githubusercontent.com)... 199.232.8.133\n",
      "Connecting to raw.githubusercontent.com (raw.githubusercontent.com)|199.232.8.133|:443... connected.\n",
      "HTTP request sent, awaiting response... 200 OK\n",
      "Length: 689622 (673K) [text/plain]\n",
      "Saving to: ‘german_credit_data_biased_training.csv’\n",
      "\n",
      "100%[======================================>] 689,622     --.-K/s   in 0.02s   \n",
      "\n",
      "2020-08-18 18:29:18 (28.6 MB/s) - ‘german_credit_data_biased_training.csv’ saved [689622/689622]\n",
      "\n"
     ]
    }
   ],
   "source": [
    "!rm german_credit_data_biased_training.csv\n",
    "!wget https://raw.githubusercontent.com/pmservice/ai-openscale-tutorials/master/assets/historical_data/german_credit_risk/wml/german_credit_data_biased_training.csv"
   ]
  },
  {
   "cell_type": "code",
   "execution_count": 9,
   "metadata": {
    "scrolled": true
   },
   "outputs": [],
   "source": [
    "import numpy as np\n",
    "import pandas as pd\n",
    "\n",
    "training_data_file_name = \"german_credit_data_biased_training.csv\"\n",
    "data_df = pd.read_csv(training_data_file_name)"
   ]
  },
  {
   "cell_type": "markdown",
   "metadata": {},
   "source": [
    "## Explore data"
   ]
  },
  {
   "cell_type": "code",
   "execution_count": 10,
   "metadata": {},
   "outputs": [
    {
     "data": {
      "text/html": [
       "<div>\n",
       "<style scoped>\n",
       "    .dataframe tbody tr th:only-of-type {\n",
       "        vertical-align: middle;\n",
       "    }\n",
       "\n",
       "    .dataframe tbody tr th {\n",
       "        vertical-align: top;\n",
       "    }\n",
       "\n",
       "    .dataframe thead th {\n",
       "        text-align: right;\n",
       "    }\n",
       "</style>\n",
       "<table border=\"1\" class=\"dataframe\">\n",
       "  <thead>\n",
       "    <tr style=\"text-align: right;\">\n",
       "      <th></th>\n",
       "      <th>CheckingStatus</th>\n",
       "      <th>LoanDuration</th>\n",
       "      <th>CreditHistory</th>\n",
       "      <th>LoanPurpose</th>\n",
       "      <th>LoanAmount</th>\n",
       "      <th>ExistingSavings</th>\n",
       "      <th>EmploymentDuration</th>\n",
       "      <th>InstallmentPercent</th>\n",
       "      <th>Sex</th>\n",
       "      <th>OthersOnLoan</th>\n",
       "      <th>...</th>\n",
       "      <th>OwnsProperty</th>\n",
       "      <th>Age</th>\n",
       "      <th>InstallmentPlans</th>\n",
       "      <th>Housing</th>\n",
       "      <th>ExistingCreditsCount</th>\n",
       "      <th>Job</th>\n",
       "      <th>Dependents</th>\n",
       "      <th>Telephone</th>\n",
       "      <th>ForeignWorker</th>\n",
       "      <th>Risk</th>\n",
       "    </tr>\n",
       "  </thead>\n",
       "  <tbody>\n",
       "    <tr>\n",
       "      <th>0</th>\n",
       "      <td>0_to_200</td>\n",
       "      <td>31</td>\n",
       "      <td>credits_paid_to_date</td>\n",
       "      <td>other</td>\n",
       "      <td>1889</td>\n",
       "      <td>100_to_500</td>\n",
       "      <td>less_1</td>\n",
       "      <td>3</td>\n",
       "      <td>female</td>\n",
       "      <td>none</td>\n",
       "      <td>...</td>\n",
       "      <td>savings_insurance</td>\n",
       "      <td>32</td>\n",
       "      <td>none</td>\n",
       "      <td>own</td>\n",
       "      <td>1</td>\n",
       "      <td>skilled</td>\n",
       "      <td>1</td>\n",
       "      <td>none</td>\n",
       "      <td>yes</td>\n",
       "      <td>No Risk</td>\n",
       "    </tr>\n",
       "    <tr>\n",
       "      <th>1</th>\n",
       "      <td>less_0</td>\n",
       "      <td>18</td>\n",
       "      <td>credits_paid_to_date</td>\n",
       "      <td>car_new</td>\n",
       "      <td>462</td>\n",
       "      <td>less_100</td>\n",
       "      <td>1_to_4</td>\n",
       "      <td>2</td>\n",
       "      <td>female</td>\n",
       "      <td>none</td>\n",
       "      <td>...</td>\n",
       "      <td>savings_insurance</td>\n",
       "      <td>37</td>\n",
       "      <td>stores</td>\n",
       "      <td>own</td>\n",
       "      <td>2</td>\n",
       "      <td>skilled</td>\n",
       "      <td>1</td>\n",
       "      <td>none</td>\n",
       "      <td>yes</td>\n",
       "      <td>No Risk</td>\n",
       "    </tr>\n",
       "    <tr>\n",
       "      <th>2</th>\n",
       "      <td>less_0</td>\n",
       "      <td>15</td>\n",
       "      <td>prior_payments_delayed</td>\n",
       "      <td>furniture</td>\n",
       "      <td>250</td>\n",
       "      <td>less_100</td>\n",
       "      <td>1_to_4</td>\n",
       "      <td>2</td>\n",
       "      <td>male</td>\n",
       "      <td>none</td>\n",
       "      <td>...</td>\n",
       "      <td>real_estate</td>\n",
       "      <td>28</td>\n",
       "      <td>none</td>\n",
       "      <td>own</td>\n",
       "      <td>2</td>\n",
       "      <td>skilled</td>\n",
       "      <td>1</td>\n",
       "      <td>yes</td>\n",
       "      <td>no</td>\n",
       "      <td>No Risk</td>\n",
       "    </tr>\n",
       "    <tr>\n",
       "      <th>3</th>\n",
       "      <td>0_to_200</td>\n",
       "      <td>28</td>\n",
       "      <td>credits_paid_to_date</td>\n",
       "      <td>retraining</td>\n",
       "      <td>3693</td>\n",
       "      <td>less_100</td>\n",
       "      <td>greater_7</td>\n",
       "      <td>3</td>\n",
       "      <td>male</td>\n",
       "      <td>none</td>\n",
       "      <td>...</td>\n",
       "      <td>savings_insurance</td>\n",
       "      <td>32</td>\n",
       "      <td>none</td>\n",
       "      <td>own</td>\n",
       "      <td>1</td>\n",
       "      <td>skilled</td>\n",
       "      <td>1</td>\n",
       "      <td>none</td>\n",
       "      <td>yes</td>\n",
       "      <td>No Risk</td>\n",
       "    </tr>\n",
       "    <tr>\n",
       "      <th>4</th>\n",
       "      <td>no_checking</td>\n",
       "      <td>28</td>\n",
       "      <td>prior_payments_delayed</td>\n",
       "      <td>education</td>\n",
       "      <td>6235</td>\n",
       "      <td>500_to_1000</td>\n",
       "      <td>greater_7</td>\n",
       "      <td>3</td>\n",
       "      <td>male</td>\n",
       "      <td>none</td>\n",
       "      <td>...</td>\n",
       "      <td>unknown</td>\n",
       "      <td>57</td>\n",
       "      <td>none</td>\n",
       "      <td>own</td>\n",
       "      <td>2</td>\n",
       "      <td>skilled</td>\n",
       "      <td>1</td>\n",
       "      <td>none</td>\n",
       "      <td>yes</td>\n",
       "      <td>Risk</td>\n",
       "    </tr>\n",
       "  </tbody>\n",
       "</table>\n",
       "<p>5 rows × 21 columns</p>\n",
       "</div>"
      ],
      "text/plain": [
       "  CheckingStatus  LoanDuration           CreditHistory LoanPurpose  \\\n",
       "0       0_to_200            31    credits_paid_to_date       other   \n",
       "1         less_0            18    credits_paid_to_date     car_new   \n",
       "2         less_0            15  prior_payments_delayed   furniture   \n",
       "3       0_to_200            28    credits_paid_to_date  retraining   \n",
       "4    no_checking            28  prior_payments_delayed   education   \n",
       "\n",
       "   LoanAmount ExistingSavings EmploymentDuration  InstallmentPercent     Sex  \\\n",
       "0        1889      100_to_500             less_1                   3  female   \n",
       "1         462        less_100             1_to_4                   2  female   \n",
       "2         250        less_100             1_to_4                   2    male   \n",
       "3        3693        less_100          greater_7                   3    male   \n",
       "4        6235     500_to_1000          greater_7                   3    male   \n",
       "\n",
       "  OthersOnLoan  ...       OwnsProperty Age  InstallmentPlans Housing  \\\n",
       "0         none  ...  savings_insurance  32              none     own   \n",
       "1         none  ...  savings_insurance  37            stores     own   \n",
       "2         none  ...        real_estate  28              none     own   \n",
       "3         none  ...  savings_insurance  32              none     own   \n",
       "4         none  ...            unknown  57              none     own   \n",
       "\n",
       "  ExistingCreditsCount      Job Dependents  Telephone ForeignWorker     Risk  \n",
       "0                    1  skilled          1       none           yes  No Risk  \n",
       "1                    2  skilled          1       none           yes  No Risk  \n",
       "2                    2  skilled          1        yes            no  No Risk  \n",
       "3                    1  skilled          1       none           yes  No Risk  \n",
       "4                    2  skilled          1       none           yes     Risk  \n",
       "\n",
       "[5 rows x 21 columns]"
      ]
     },
     "execution_count": 10,
     "metadata": {},
     "output_type": "execute_result"
    }
   ],
   "source": [
    "data_df.head()"
   ]
  },
  {
   "cell_type": "code",
   "execution_count": 11,
   "metadata": {
    "scrolled": true
   },
   "outputs": [
    {
     "name": "stdout",
     "output_type": "stream",
     "text": [
      "Columns:  ['CheckingStatus', 'LoanDuration', 'CreditHistory', 'LoanPurpose', 'LoanAmount', 'ExistingSavings', 'EmploymentDuration', 'InstallmentPercent', 'Sex', 'OthersOnLoan', 'CurrentResidenceDuration', 'OwnsProperty', 'Age', 'InstallmentPlans', 'Housing', 'ExistingCreditsCount', 'Job', 'Dependents', 'Telephone', 'ForeignWorker', 'Risk']\n",
      "Number of columns:  21\n"
     ]
    }
   ],
   "source": [
    "print('Columns: ', list(data_df.columns))\n",
    "print('Number of columns: ', len(data_df.columns))"
   ]
  },
  {
   "cell_type": "markdown",
   "metadata": {},
   "source": [
    "As you can see, the data contains twenty one fields. `Risk` field is the one you would like to predict using feedback data."
   ]
  },
  {
   "cell_type": "code",
   "execution_count": 12,
   "metadata": {
    "scrolled": true
   },
   "outputs": [
    {
     "name": "stdout",
     "output_type": "stream",
     "text": [
      "Number of records:  5000\n"
     ]
    }
   ],
   "source": [
    "print('Number of records: ', data_df.Risk.count())"
   ]
  },
  {
   "cell_type": "code",
   "execution_count": 13,
   "metadata": {},
   "outputs": [
    {
     "data": {
      "text/plain": [
       "Risk\n",
       "No Risk    3330\n",
       "Risk       1670\n",
       "Name: Risk, dtype: int64"
      ]
     },
     "execution_count": 13,
     "metadata": {},
     "output_type": "execute_result"
    }
   ],
   "source": [
    "target_count = data_df.groupby('Risk')['Risk'].count()\n",
    "target_count"
   ]
  },
  {
   "cell_type": "markdown",
   "metadata": {},
   "source": [
    "## Visualize data"
   ]
  },
  {
   "cell_type": "code",
   "execution_count": 14,
   "metadata": {},
   "outputs": [],
   "source": [
    "target_count.plot.pie(figsize=(8, 8));"
   ]
  },
  {
   "cell_type": "markdown",
   "metadata": {},
   "source": [
    "## Save training data to Cloud Object Storage"
   ]
  },
  {
   "cell_type": "code",
   "execution_count": 15,
   "metadata": {},
   "outputs": [],
   "source": [
    "import ibm_boto3\n",
    "from ibm_botocore.client import Config, ClientError\n",
    "\n",
    "cos_client = ibm_boto3.resource(\"s3\",\n",
    "    ibm_api_key_id=COS_API_KEY_ID,\n",
    "    ibm_service_instance_id=COS_RESOURCE_CRN,\n",
    "    ibm_auth_endpoint=\"https://iam.bluemix.net/oidc/token\",\n",
    "    config=Config(signature_version=\"oauth\"),\n",
    "    endpoint_url=COS_ENDPOINT\n",
    ")"
   ]
  },
  {
   "cell_type": "code",
   "execution_count": 16,
   "metadata": {
    "scrolled": true
   },
   "outputs": [],
   "source": [
    "with open(training_data_file_name, \"rb\") as file_data:\n",
    "    cos_client.Object(BUCKET_NAME, training_data_file_name).upload_fileobj(\n",
    "        Fileobj=file_data\n",
    "    )"
   ]
  },
  {
   "cell_type": "markdown",
   "metadata": {},
   "source": [
    "## Create a model\n",
    "In this section you will learn how to:\n",
    "\n",
    "- Prepare data for training a model\n",
    "- Create machine learning pipeline\n",
    "- Train a model"
   ]
  },
  {
   "cell_type": "code",
   "execution_count": 17,
   "metadata": {},
   "outputs": [],
   "source": [
    "MODEL_NAME = \"Scikit German Risk Model\"\n",
    "DEPLOYMENT_NAME = \"Scikit German Risk Deployment\""
   ]
  },
  {
   "cell_type": "markdown",
   "metadata": {},
   "source": [
    "### You will start with importing required libraries"
   ]
  },
  {
   "cell_type": "code",
   "execution_count": 18,
   "metadata": {
    "scrolled": true
   },
   "outputs": [],
   "source": [
    "from sklearn.linear_model import SGDClassifier\n",
    "from sklearn.preprocessing import LabelEncoder, OneHotEncoder\n",
    "from sklearn.decomposition import TruncatedSVD\n",
    "from sklearn.compose import ColumnTransformer\n",
    "from sklearn.pipeline import Pipeline\n",
    "from sklearn.model_selection import train_test_split"
   ]
  },
  {
   "cell_type": "markdown",
   "metadata": {},
   "source": [
    "### Splitting the data into train and test"
   ]
  },
  {
   "cell_type": "code",
   "execution_count": 19,
   "metadata": {},
   "outputs": [],
   "source": [
    "train_data, test_data = train_test_split(data_df, test_size=0.2)"
   ]
  },
  {
   "cell_type": "markdown",
   "metadata": {},
   "source": [
    "### Preparing the pipeline"
   ]
  },
  {
   "cell_type": "code",
   "execution_count": 20,
   "metadata": {},
   "outputs": [],
   "source": [
    "features_idx = np.s_[0:-1]\n",
    "all_records_idx = np.s_[:]\n",
    "first_record_idx = np.s_[0]"
   ]
  },
  {
   "cell_type": "markdown",
   "metadata": {},
   "source": [
    "In this step you will encode target column labels into numeric values. You can use `inverse_transform` to decode numeric predictions into labels."
   ]
  },
  {
   "cell_type": "code",
   "execution_count": 21,
   "metadata": {},
   "outputs": [],
   "source": [
    "string_fields = [type(fld) is str for fld in train_data.iloc[first_record_idx, features_idx]]\n",
    "ct = ColumnTransformer([(\"ohe\", OneHotEncoder(), list(np.array(train_data.columns)[features_idx][string_fields]))])\n",
    "clf_linear = SGDClassifier(loss='log', penalty='l2', max_iter=1000, tol=1e-5)\n",
    "\n",
    "pipeline_linear = Pipeline([('ct', ct), ('clf_linear', clf_linear)])"
   ]
  },
  {
   "cell_type": "markdown",
   "metadata": {},
   "source": [
    "### Train a model"
   ]
  },
  {
   "cell_type": "code",
   "execution_count": 22,
   "metadata": {},
   "outputs": [],
   "source": [
    "risk_model = pipeline_linear.fit(train_data.drop('Risk', axis=1), train_data.Risk)"
   ]
  },
  {
   "cell_type": "markdown",
   "metadata": {},
   "source": [
    "### Evaluate the model"
   ]
  },
  {
   "cell_type": "code",
   "execution_count": 23,
   "metadata": {},
   "outputs": [
    {
     "name": "stdout",
     "output_type": "stream",
     "text": [
      "0.7295948643254032\n"
     ]
    }
   ],
   "source": [
    "from sklearn.metrics import roc_auc_score\n",
    "\n",
    "predictions = risk_model.predict(test_data.drop('Risk', axis=1))\n",
    "indexed_preds = [0 if prediction=='No Risk' else 1 for prediction in predictions]\n",
    "\n",
    "real_observations = test_data.Risk.replace('Risk', 1)\n",
    "real_observations = real_observations.replace('No Risk', 0).values\n",
    "\n",
    "auc = roc_auc_score(real_observations, indexed_preds)\n",
    "print(auc)"
   ]
  },
  {
   "cell_type": "markdown",
   "metadata": {},
   "source": [
    "## Publish the model"
   ]
  },
  {
   "cell_type": "markdown",
   "metadata": {},
   "source": [
    "In this section, the notebook uses the supplied Watson Machine Learning credentials to save the model (including the pipeline) to the WML instance. Previous versions of the model are removed so that the notebook can be run again, resetting all data for another demo."
   ]
  },
  {
   "cell_type": "code",
   "execution_count": 24,
   "metadata": {
    "scrolled": true
   },
   "outputs": [],
   "source": [
    "from watson_machine_learning_client import WatsonMachineLearningAPIClient\n",
    "import json\n",
    "\n",
    "wml_client = WatsonMachineLearningAPIClient(WML_CREDENTIALS)"
   ]
  },
  {
   "cell_type": "markdown",
   "metadata": {},
   "source": [
    "### Remove existing model and deployment"
   ]
  },
  {
   "cell_type": "code",
   "execution_count": 25,
   "metadata": {
    "scrolled": true
   },
   "outputs": [
    {
     "name": "stdout",
     "output_type": "stream",
     "text": [
      "------------------------------------  -------------------------------  ------------------------  ---------\n",
      "GUID                                  NAME                             CREATED                   FRAMEWORK\n",
      "d4212921-bad9-42bd-861a-9754f584815d  Spark German Risk Model - Final  2020-08-18T17:18:14.014Z  mllib-2.3\n",
      "91be60bd-c9af-4103-9732-4be6a336ae50  Income Classifier Binary Model   2020-07-23T17:58:45.824Z  mllib-2.3\n",
      "------------------------------------  -------------------------------  ------------------------  ---------\n"
     ]
    }
   ],
   "source": [
    "model_deployment_ids = wml_client.deployments.get_uids()\n",
    "for deployment_id in model_deployment_ids:\n",
    "    deployment = wml_client.deployments.get_details(deployment_id)\n",
    "    model_id = deployment[\"entity\"][\"deployable_asset\"][\"guid\"]\n",
    "    if deployment[\"entity\"][\"name\"] == DEPLOYMENT_NAME:\n",
    "        print(\"Deleting deployment id\", deployment_id)\n",
    "        wml_client.deployments.delete(deployment_id)\n",
    "        print(\"Deleting model id\", model_id)\n",
    "        wml_client.repository.delete(model_id)\n",
    "wml_client.repository.list_models()\n",
    "del deployment_id"
   ]
  },
  {
   "cell_type": "code",
   "execution_count": 26,
   "metadata": {
    "scrolled": true
   },
   "outputs": [],
   "source": [
    "model_props = {\n",
    "    wml_client.repository.ModelMetaNames.NAME: \"{}\".format(MODEL_NAME),\n",
    "    wml_client.repository.ModelMetaNames.EVALUATION_METHOD: \"binary\",\n",
    "    wml_client.repository.ModelMetaNames.EVALUATION_METRICS: [\n",
    "        {\n",
    "           \"name\": \"areaUnderROC\",\n",
    "           \"value\": auc,\n",
    "           \"threshold\": 0.7\n",
    "        }\n",
    "    ]\n",
    "}"
   ]
  },
  {
   "cell_type": "code",
   "execution_count": 27,
   "metadata": {
    "scrolled": true
   },
   "outputs": [
    {
     "name": "stdout",
     "output_type": "stream",
     "text": [
      "Storing model ...\n",
      "Done\n"
     ]
    }
   ],
   "source": [
    "wml_models = wml_client.repository.get_details()\n",
    "model_uid = None\n",
    "for model_in in wml_models[\"models\"][\"resources\"]:\n",
    "    if MODEL_NAME == model_in[\"entity\"][\"name\"]:\n",
    "        model_uid = model_in[\"metadata\"][\"guid\"]\n",
    "        break\n",
    "\n",
    "if model_uid is None:\n",
    "    print(\"Storing model ...\")\n",
    "\n",
    "    published_model_details = wml_client.repository.store_model(model=risk_model, meta_props=model_props, training_data=data_df.drop([\"Risk\"], axis=1), training_target=data_df.Risk)\n",
    "    model_uid = wml_client.repository.get_model_uid(published_model_details)\n",
    "    print(\"Done\")"
   ]
  },
  {
   "cell_type": "markdown",
   "metadata": {},
   "source": [
    "## Deploy the model"
   ]
  },
  {
   "cell_type": "markdown",
   "metadata": {},
   "source": [
    "The next section of the notebook deploys the model as a RESTful web service in Watson Machine Learning. The deployed model will have a scoring URL you can use to send data to the model for predictions."
   ]
  },
  {
   "cell_type": "code",
   "execution_count": 28,
   "metadata": {
    "scrolled": true
   },
   "outputs": [
    {
     "name": "stdout",
     "output_type": "stream",
     "text": [
      "Deploying model...\n",
      "\n",
      "\n",
      "#######################################################################################\n",
      "\n",
      "Synchronous deployment creation for uid: 'c3fbb6ba-1dcb-4aa4-9073-2c0f32d7451c' started\n",
      "\n",
      "#######################################################################################\n",
      "\n",
      "\n",
      "INITIALIZING\n",
      "DEPLOY_SUCCESS\n",
      "\n",
      "\n",
      "------------------------------------------------------------------------------------------------\n",
      "Successfully finished deployment creation, deployment_uid='d9df97da-38aa-4a2f-b4af-4daa0f4e1ff4'\n",
      "------------------------------------------------------------------------------------------------\n",
      "\n",
      "\n",
      "Model id: c3fbb6ba-1dcb-4aa4-9073-2c0f32d7451c\n",
      "Deployment id: d9df97da-38aa-4a2f-b4af-4daa0f4e1ff4\n"
     ]
    }
   ],
   "source": [
    "wml_deployments = wml_client.deployments.get_details()\n",
    "deployment_uid = None\n",
    "for deployment in wml_deployments[\"resources\"]:\n",
    "    if DEPLOYMENT_NAME == deployment[\"entity\"][\"name\"]:\n",
    "        deployment_uid = deployment[\"metadata\"][\"guid\"]\n",
    "        break\n",
    "\n",
    "if deployment_uid is None:\n",
    "    print(\"Deploying model...\")\n",
    "\n",
    "    deployment = wml_client.deployments.create(artifact_uid=model_uid, name=DEPLOYMENT_NAME, asynchronous=False)\n",
    "    deployment_uid = wml_client.deployments.get_uid(deployment)\n",
    "    \n",
    "print(\"Model id: {}\".format(model_uid))\n",
    "print(\"Deployment id: {}\".format(deployment_uid))"
   ]
  },
  {
   "cell_type": "markdown",
   "metadata": {},
   "source": [
    "## Score the model"
   ]
  },
  {
   "cell_type": "code",
   "execution_count": 29,
   "metadata": {},
   "outputs": [],
   "source": [
    "fields = [\"CheckingStatus\", \"LoanDuration\", \"CreditHistory\", \"LoanPurpose\", \"LoanAmount\", \"ExistingSavings\",\n",
    "                  \"EmploymentDuration\", \"InstallmentPercent\", \"Sex\", \"OthersOnLoan\", \"CurrentResidenceDuration\",\n",
    "                  \"OwnsProperty\", \"Age\", \"InstallmentPlans\", \"Housing\", \"ExistingCreditsCount\", \"Job\", \"Dependents\",\n",
    "                  \"Telephone\", \"ForeignWorker\"]\n",
    "values = [\n",
    "            [\"no_checking\", 13, \"credits_paid_to_date\", \"car_new\", 1343, \"100_to_500\", \"1_to_4\", 2, \"female\", \"none\", 3,\n",
    "             \"savings_insurance\", 46, \"none\", \"own\", 2, \"skilled\", 1, \"none\", \"yes\"],\n",
    "            [\"no_checking\", 24, \"prior_payments_delayed\", \"furniture\", 4567, \"500_to_1000\", \"1_to_4\", 4, \"male\", \"none\",\n",
    "             4, \"savings_insurance\", 36, \"none\", \"free\", 2, \"management_self-employed\", 1, \"none\", \"yes\"],\n",
    "        ]\n",
    "\n",
    "scoring_payload = {\"fields\": fields, \"values\": values}"
   ]
  },
  {
   "cell_type": "code",
   "execution_count": 30,
   "metadata": {},
   "outputs": [
    {
     "data": {
      "text/plain": [
       "{'fields': ['prediction', 'probability'],\n",
       " 'values': [['No Risk', [0.6270374722208658, 0.3729625277791342]],\n",
       "  ['No Risk', [0.7819593884550529, 0.21804061154494714]]]}"
      ]
     },
     "execution_count": 30,
     "metadata": {},
     "output_type": "execute_result"
    }
   ],
   "source": [
    "scoring_url = wml_client.deployments.get_scoring_url(deployment)\n",
    "\n",
    "wml_client.deployments.score(scoring_url, scoring_payload)"
   ]
  },
  {
   "cell_type": "markdown",
   "metadata": {},
   "source": [
    "# Configure OpenScale <a name=\"openscale\"></a>"
   ]
  },
  {
   "cell_type": "markdown",
   "metadata": {},
   "source": [
    "The notebook will now import the necessary libraries and set up a Python OpenScale client."
   ]
  },
  {
   "cell_type": "code",
   "execution_count": 31,
   "metadata": {
    "scrolled": true
   },
   "outputs": [
    {
     "data": {
      "text/plain": [
       "'3.0.0.17'"
      ]
     },
     "execution_count": 31,
     "metadata": {},
     "output_type": "execute_result"
    }
   ],
   "source": [
    "from ibm_cloud_sdk_core.authenticators import IAMAuthenticator\n",
    "\n",
    "from ibm_watson_openscale import *\n",
    "from ibm_watson_openscale.supporting_classes.enums import *\n",
    "from ibm_watson_openscale.supporting_classes import *\n",
    "\n",
    "authenticator = IAMAuthenticator(apikey=CLOUD_API_KEY)\n",
    "wos_client = APIClient(authenticator=authenticator, service_url=\"https://api.aiopenscale.test.cloud.ibm.com\")\n",
    "wos_client.version"
   ]
  },
  {
   "cell_type": "markdown",
   "metadata": {},
   "source": [
    "### Get Watson OpenScale GUID\n",
    "\n",
    "Each instance of OpenScale has a unique ID. We can get this value using the Cloud API key specified at the beginning of the notebook.\n",
    "1. Please update the `url` in the below WOS_CREDENTIALS payload as per the environment that you are using.\n",
    "2. Please update the `DASHBOARD_URL` in the below cell as per the environment that you are using."
   ]
  },
  {
   "cell_type": "code",
   "execution_count": null,
   "metadata": {},
   "outputs": [],
   "source": [
    "from ibm_watson_openscale.utils import get_instance_guid\n",
    "from ibm_cloud_sdk_core.authenticators import IAMAuthenticator\n",
    "\n",
    "authenticator = IAMAuthenticator(\n",
    "                    apikey=CLOUD_API_KEY,\n",
    "                    url=IAM_URL\n",
    "                )\n",
    "WOS_GUID = get_instance_guid(authenticator)\n",
    "\n",
    "WOS_CREDENTIALS = {\n",
    "    \"instance_guid\": WOS_GUID,\n",
    "    \"apikey\": CLOUD_API_KEY,\n",
    "    \"url\": \"https://api.aiopenscale.cloud.ibm.com\"\n",
    "}\n",
    "DASHBOARD_URL = \"https://aiopenscale.cloud.ibm.com\"\n",
    "\n",
    "\n",
    "if WOS_GUID is None:\n",
    "    print('Watson OpenScale GUID NOT FOUND')\n",
    "else:\n",
    "    print(WOS_GUID)"
   ]
  },
  {
   "cell_type": "markdown",
   "metadata": {},
   "source": [
    "## Create schema and datamart"
   ]
  },
  {
   "cell_type": "markdown",
   "metadata": {},
   "source": [
    "### Set up datamart"
   ]
  },
  {
   "cell_type": "markdown",
   "metadata": {},
   "source": [
    "Watson OpenScale uses a database to store payload logs and calculated metrics. If database credentials were **not** supplied above, the notebook will use the free, internal lite database. If database credentials were supplied, the datamart will be created there **unless** there is an existing datamart **and** the **KEEP_MY_INTERNAL_POSTGRES** variable is set to **True**. If an OpenScale datamart exists in Db2 or PostgreSQL, the existing datamart will be used and no data will be overwritten.\n",
    "\n",
    "Prior instances of the German Credit model will be removed from OpenScale monitoring."
   ]
  },
  {
   "cell_type": "code",
   "execution_count": 32,
   "metadata": {},
   "outputs": [
    {
     "data": {
      "text/html": [
       "<HTML>\n",
       "        <body>\n",
       "            <h3>Data Marts</h3>\n",
       "            <table style='border: 1px solid #dddddd; font-family: Courier'>\n",
       "                <th style='border: 1px solid #dddddd'>name</th><th style='border: 1px solid #dddddd'>description</th><th style='border: 1px solid #dddddd'>internal_database</th><th style='border: 1px solid #dddddd'>status</th><th style='border: 1px solid #dddddd'>created_at</th><th style='border: 1px solid #dddddd'>id</th>\n",
       "                <tr><td style='border: 1px solid #dddddd'>None</td><td style='border: 1px solid #dddddd'>None</td><td style='border: 1px solid #dddddd'>True</td><td style='border: 1px solid #dddddd'>active</td><td style='border: 1px solid #dddddd'>2020-07-20 18:06:32.485000+00:00</td><td style='border: 1px solid #dddddd'>5a0b9076-fcf6-49e8-a824-9e3a6b4c2a56</td></tr>\n",
       "            </table>\n",
       "        </body>\n",
       "        </HTML>"
      ],
      "text/plain": [
       "<IPython.core.display.HTML object>"
      ]
     },
     "metadata": {},
     "output_type": "display_data"
    }
   ],
   "source": [
    "wos_client.data_marts.show()"
   ]
  },
  {
   "cell_type": "code",
   "execution_count": 33,
   "metadata": {},
   "outputs": [
    {
     "name": "stdout",
     "output_type": "stream",
     "text": [
      "Using existing datamart 5a0b9076-fcf6-49e8-a824-9e3a6b4c2a56\n"
     ]
    }
   ],
   "source": [
    "data_marts = wos_client.data_marts.list().result.data_marts\n",
    "if len(data_marts) == 0:\n",
    "    if DB_CREDENTIALS is not None:\n",
    "        if SCHEMA_NAME is None: \n",
    "            print(\"Please specify the SCHEMA_NAME and rerun the cell\")\n",
    "\n",
    "        print(\"Setting up external datamart\")\n",
    "        added_data_mart_result = wos_client.data_marts.add(\n",
    "                background_mode=False,\n",
    "                name=\"WOS Data Mart\",\n",
    "                description=\"Data Mart created by WOS tutorial notebook\",\n",
    "                database_configuration=DatabaseConfigurationRequest(\n",
    "                  database_type=DatabaseType.POSTGRESQL,\n",
    "                    credentials=PrimaryStorageCredentialsLong(\n",
    "                        hostname=DB_CREDENTIALS[\"connection\"][\"postgres\"][\"hosts\"][0][\"hostname\"],\n",
    "                        username=DB_CREDENTIALS[\"connection\"][\"postgres\"][\"authentication\"][\"username\"],\n",
    "                        password=DB_CREDENTIALS[\"connection\"][\"postgres\"][\"authentication\"][\"password\"],\n",
    "                        db=DB_CREDENTIALS[\"connection\"][\"postgres\"][\"database\"],\n",
    "                        port=DB_CREDENTIALS[\"connection\"][\"postgres\"][\"hosts\"][0][\"port\"],\n",
    "                        ssl=True,\n",
    "                        sslmode=DB_CREDENTIALS[\"connection\"][\"postgres\"][\"query_options\"][\"sslmode\"],\n",
    "                        certificate_base64=DB_CREDENTIALS[\"connection\"][\"postgres\"][\"certificate\"][\"certificate_base64\"]\n",
    "                    ),\n",
    "                    location=LocationSchemaName(\n",
    "                        schema_name= SCHEMA_NAME\n",
    "                    )\n",
    "                )\n",
    "             ).result\n",
    "    else:\n",
    "        print(\"Setting up internal datamart\")\n",
    "        added_data_mart_result = wos_client.data_marts.add(\n",
    "                background_mode=False,\n",
    "                name=\"WOS Data Mart\",\n",
    "                description=\"Data Mart created by WOS tutorial notebook\", \n",
    "                internal_database = True).result\n",
    "        \n",
    "    data_mart_id = added_data_mart_result.metadata.id\n",
    "    \n",
    "else:\n",
    "    data_mart_id=data_marts[0].metadata.id\n",
    "    print(\"Using existing datamart {}\".format(data_mart_id))"
   ]
  },
  {
   "cell_type": "markdown",
   "metadata": {},
   "source": [
    "### Remove existing service provider connected with used  WML instance. "
   ]
  },
  {
   "cell_type": "markdown",
   "metadata": {},
   "source": [
    "Multiple service provaders for the same engine instance are avaiable in Watson OpenScale. To avoid multiple service providers of used WML instance in the tutorial notebook the following code deletes existing service provder(s) and then adds new one. "
   ]
  },
  {
   "cell_type": "code",
   "execution_count": 34,
   "metadata": {},
   "outputs": [
    {
     "name": "stdout",
     "output_type": "stream",
     "text": [
      "Deleted existing service_provider for WML instance fa2ef988-b919-468b-a05b-2a3c9df845d5\n"
     ]
    }
   ],
   "source": [
    "service_providers = wos_client.service_providers.list().result.service_providers\n",
    "for service_provider in service_providers:\n",
    "    service_instance_id = service_provider.entity.instance_id\n",
    "    if service_instance_id == WML_CREDENTIALS[\"instance_id\"]:\n",
    "        wos_client.service_providers.delete(service_provider.metadata.id)\n",
    "        print(\"Deleted existing service_provider for WML instance\", service_instance_id)"
   ]
  },
  {
   "cell_type": "markdown",
   "metadata": {},
   "source": [
    "## Add service provider"
   ]
  },
  {
   "cell_type": "markdown",
   "metadata": {},
   "source": [
    "Watson OpenScale needs to be bound to the Watson Machine Learning instance to capture payload data into and out of the model."
   ]
  },
  {
   "cell_type": "markdown",
   "metadata": {},
   "source": [
    "**Note:** You can bind more than one engine instance if needed by calling `wos_client.service_providers.add` method. Next, you can refer to particular service provider using `service_provider_id`."
   ]
  },
  {
   "cell_type": "code",
   "execution_count": 35,
   "metadata": {},
   "outputs": [
    {
     "name": "stdout",
     "output_type": "stream",
     "text": [
      "\n",
      "\n",
      "=================================================================================\n",
      "\n",
      " Waiting for end of adding service provider fed4410c-aa4e-40ab-a0a3-429afc89c638 \n",
      "\n",
      "=================================================================================\n",
      "\n",
      "\n",
      "\n",
      "active\n",
      "\n",
      "-----------------------------------------------\n",
      " Successfully finished adding service provider \n",
      "-----------------------------------------------\n",
      "\n",
      "\n"
     ]
    }
   ],
   "source": [
    "added_service_provider_result = wos_client.service_providers.add(\n",
    "        name=\"Watson Machine Learning service provider\",\n",
    "        description=\"Service Provider added by tutorial WOS notebook\",\n",
    "        service_type=ServiceTypes.WATSON_MACHINE_LEARNING,\n",
    "        credentials=WMLCredentialsCloud(\n",
    "            apikey=WML_CREDENTIALS[\"apikey\"],\n",
    "            url=WML_CREDENTIALS[\"url\"],\n",
    "            instance_id=WML_CREDENTIALS[\"instance_id\"]\n",
    "        ),\n",
    "        background_mode=False\n",
    "    ).result\n",
    "service_provider_id = added_service_provider_result.metadata.id"
   ]
  },
  {
   "cell_type": "code",
   "execution_count": 36,
   "metadata": {},
   "outputs": [
    {
     "data": {
      "text/html": [
       "<HTML>\n",
       "        <body>\n",
       "            <h3>Service Providers</h3>\n",
       "            <table style='border: 1px solid #dddddd; font-family: Courier'>\n",
       "                <th style='border: 1px solid #dddddd'>instance_id</th><th style='border: 1px solid #dddddd'>status</th><th style='border: 1px solid #dddddd'>name</th><th style='border: 1px solid #dddddd'>service_type</th><th style='border: 1px solid #dddddd'>created_at</th><th style='border: 1px solid #dddddd'>id</th>\n",
       "                <tr><td style='border: 1px solid #dddddd'>fa2ef988-b919-468b-a05b-2a3c9df845d5</td><td style='border: 1px solid #dddddd'>active</td><td style='border: 1px solid #dddddd'>Watson Machine Learning service provider</td><td style='border: 1px solid #dddddd'>watson_machine_learning</td><td style='border: 1px solid #dddddd'>2020-08-18 18:30:40.165000+00:00</td><td style='border: 1px solid #dddddd'>fed4410c-aa4e-40ab-a0a3-429afc89c638</td></tr><tr><td style='border: 1px solid #dddddd'>6ac7a5f8-c58b-4cf6-9c90-470d6c0a5496</td><td style='border: 1px solid #dddddd'>active</td><td style='border: 1px solid #dddddd'>New provider</td><td style='border: 1px solid #dddddd'>watson_machine_learning</td><td style='border: 1px solid #dddddd'>2020-07-29 01:32:16.294000+00:00</td><td style='border: 1px solid #dddddd'>6ac7a5f8-c58b-4cf6-9c90-470d6c0a5496</td></tr>\n",
       "            </table>\n",
       "        </body>\n",
       "        </HTML>"
      ],
      "text/plain": [
       "<IPython.core.display.HTML object>"
      ]
     },
     "metadata": {},
     "output_type": "display_data"
    }
   ],
   "source": [
    "wos_client.service_providers.show()"
   ]
  },
  {
   "cell_type": "code",
   "execution_count": 37,
   "metadata": {
    "scrolled": false
   },
   "outputs": [
    {
     "name": "stdout",
     "output_type": "stream",
     "text": [
      "Get asset details for Scikit German Risk Deployment with id: d9df97da-38aa-4a2f-b4af-4daa0f4e1ff4\n"
     ]
    }
   ],
   "source": [
    "asset_deployment_details = wos_client.service_providers.list_assets(data_mart_id=data_mart_id, service_provider_id=service_provider_id, deployment_id=deployment_uid).result['resources'][0]\n",
    "print(\"Get asset details for {asset_name} with id: {id}\".format(asset_name=asset_deployment_details['entity']['name'], id = asset_deployment_details['metadata']['guid']))"
   ]
  },
  {
   "cell_type": "markdown",
   "metadata": {},
   "source": [
    "## Subscriptions"
   ]
  },
  {
   "cell_type": "markdown",
   "metadata": {},
   "source": [
    "### Remove existing credit risk subscriptions"
   ]
  },
  {
   "cell_type": "code",
   "execution_count": 38,
   "metadata": {},
   "outputs": [
    {
     "data": {
      "text/html": [
       "<HTML>\n",
       "        <body>\n",
       "            <h3>Subscriptions</h3>\n",
       "            <table style='border: 1px solid #dddddd; font-family: Courier'>\n",
       "                <th style='border: 1px solid #dddddd'>asset_id</th><th style='border: 1px solid #dddddd'>asset_name</th><th style='border: 1px solid #dddddd'>data_mart_id</th><th style='border: 1px solid #dddddd'>deployment_id</th><th style='border: 1px solid #dddddd'>deployment_name</th><th style='border: 1px solid #dddddd'>service_provider_id</th><th style='border: 1px solid #dddddd'>status</th><th style='border: 1px solid #dddddd'>created_at</th><th style='border: 1px solid #dddddd'>id</th>\n",
       "                <tr><td style='border: 1px solid #dddddd'>a2164301-4048-4480-b996-bfb006c95c1b</td><td style='border: 1px solid #dddddd'>Implicit Bias v2</td><td style='border: 1px solid #dddddd'>5a0b9076-fcf6-49e8-a824-9e3a6b4c2a56</td><td style='border: 1px solid #dddddd'>3421e6ce-16c4-478e-84fd-0bdd766fd950</td><td style='border: 1px solid #dddddd'>Implicit Bias Deploy v2</td><td style='border: 1px solid #dddddd'>6ac7a5f8-c58b-4cf6-9c90-470d6c0a5496</td><td style='border: 1px solid #dddddd'>active</td><td style='border: 1px solid #dddddd'>2020-08-10 20:44:52.309000+00:00</td><td style='border: 1px solid #dddddd'>9afc14f1-2014-4fe2-95a9-fbb57f518e93</td></tr>\n",
       "            </table>\n",
       "        </body>\n",
       "        </HTML>"
      ],
      "text/plain": [
       "<IPython.core.display.HTML object>"
      ]
     },
     "metadata": {},
     "output_type": "display_data"
    }
   ],
   "source": [
    "wos_client.subscriptions.show()"
   ]
  },
  {
   "cell_type": "markdown",
   "metadata": {},
   "source": [
    "This code removes previous subscriptions to the German Credit model to refresh the monitors with the new model and new data."
   ]
  },
  {
   "cell_type": "code",
   "execution_count": 39,
   "metadata": {
    "scrolled": true
   },
   "outputs": [],
   "source": [
    "subscriptions = wos_client.subscriptions.list().result.subscriptions\n",
    "for subscription in subscriptions:\n",
    "    sub_model_id = subscription.entity.asset.asset_id\n",
    "    if sub_model_id == model_uid:\n",
    "        wos_client.subscriptions.delete(subscription.metadata.id)\n",
    "        print(\"Deleted existing subscription for model\", model_uid)"
   ]
  },
  {
   "cell_type": "markdown",
   "metadata": {},
   "source": [
    "This code creates the model subscription in OpenScale using the Python client API. Note that we need to provide the model unique identifier, and some information about the model itself."
   ]
  },
  {
   "cell_type": "code",
   "execution_count": 40,
   "metadata": {},
   "outputs": [
    {
     "name": "stdout",
     "output_type": "stream",
     "text": [
      "{\n",
      "  \"metadata\": {\n",
      "    \"id\": \"221f432c-d1d7-4f2a-aa40-94cd6463f546\",\n",
      "    \"crn\": \"crn:v1:bluemix:public:aiopenscale:us-south:a/e0b56432b1f1bd804706dc29b8a89ca1:5a0b9076-fcf6-49e8-a824-9e3a6b4c2a56:subscription:221f432c-d1d7-4f2a-aa40-94cd6463f546\",\n",
      "    \"url\": \"/v2/subscriptions/221f432c-d1d7-4f2a-aa40-94cd6463f546\",\n",
      "    \"created_at\": \"2020-08-18T18:30:55.526000Z\",\n",
      "    \"created_by\": \"IBMid-310002F0G1\"\n",
      "  },\n",
      "  \"entity\": {\n",
      "    \"data_mart_id\": \"5a0b9076-fcf6-49e8-a824-9e3a6b4c2a56\",\n",
      "    \"service_provider_id\": \"fed4410c-aa4e-40ab-a0a3-429afc89c638\",\n",
      "    \"asset\": {\n",
      "      \"asset_id\": \"c3fbb6ba-1dcb-4aa4-9073-2c0f32d7451c\",\n",
      "      \"url\": \"https://us-south.ml.cloud.ibm.com/v3/wml_instances/fa2ef988-b919-468b-a05b-2a3c9df845d5/published_models/c3fbb6ba-1dcb-4aa4-9073-2c0f32d7451c\",\n",
      "      \"asset_type\": \"model\",\n",
      "      \"problem_type\": \"binary\",\n",
      "      \"input_data_type\": \"structured\"\n",
      "    },\n",
      "    \"asset_properties\": {\n",
      "      \"training_data_reference\": {\n",
      "        \"secret_id\": \"c3c887e7-05ae-4de2-9d8b-05db1fdf0218\"\n",
      "      },\n",
      "      \"training_data_schema\": {\n",
      "        \"type\": \"struct\",\n",
      "        \"fields\": [\n",
      "          {\n",
      "            \"metadata\": {\n",
      "              \"measure\": \"discrete\",\n",
      "              \"modeling_role\": \"feature\"\n",
      "            },\n",
      "            \"name\": \"CheckingStatus\",\n",
      "            \"nullable\": true,\n",
      "            \"type\": \"string\"\n",
      "          },\n",
      "          {\n",
      "            \"metadata\": {\n",
      "              \"modeling_role\": \"feature\"\n",
      "            },\n",
      "            \"name\": \"LoanDuration\",\n",
      "            \"nullable\": true,\n",
      "            \"type\": \"long\"\n",
      "          },\n",
      "          {\n",
      "            \"metadata\": {\n",
      "              \"measure\": \"discrete\",\n",
      "              \"modeling_role\": \"feature\"\n",
      "            },\n",
      "            \"name\": \"CreditHistory\",\n",
      "            \"nullable\": true,\n",
      "            \"type\": \"string\"\n",
      "          },\n",
      "          {\n",
      "            \"metadata\": {\n",
      "              \"measure\": \"discrete\",\n",
      "              \"modeling_role\": \"feature\"\n",
      "            },\n",
      "            \"name\": \"LoanPurpose\",\n",
      "            \"nullable\": true,\n",
      "            \"type\": \"string\"\n",
      "          },\n",
      "          {\n",
      "            \"metadata\": {\n",
      "              \"modeling_role\": \"feature\"\n",
      "            },\n",
      "            \"name\": \"LoanAmount\",\n",
      "            \"nullable\": true,\n",
      "            \"type\": \"long\"\n",
      "          },\n",
      "          {\n",
      "            \"metadata\": {\n",
      "              \"measure\": \"discrete\",\n",
      "              \"modeling_role\": \"feature\"\n",
      "            },\n",
      "            \"name\": \"ExistingSavings\",\n",
      "            \"nullable\": true,\n",
      "            \"type\": \"string\"\n",
      "          },\n",
      "          {\n",
      "            \"metadata\": {\n",
      "              \"measure\": \"discrete\",\n",
      "              \"modeling_role\": \"feature\"\n",
      "            },\n",
      "            \"name\": \"EmploymentDuration\",\n",
      "            \"nullable\": true,\n",
      "            \"type\": \"string\"\n",
      "          },\n",
      "          {\n",
      "            \"metadata\": {\n",
      "              \"modeling_role\": \"feature\"\n",
      "            },\n",
      "            \"name\": \"InstallmentPercent\",\n",
      "            \"nullable\": true,\n",
      "            \"type\": \"long\"\n",
      "          },\n",
      "          {\n",
      "            \"metadata\": {\n",
      "              \"measure\": \"discrete\",\n",
      "              \"modeling_role\": \"feature\"\n",
      "            },\n",
      "            \"name\": \"Sex\",\n",
      "            \"nullable\": true,\n",
      "            \"type\": \"string\"\n",
      "          },\n",
      "          {\n",
      "            \"metadata\": {\n",
      "              \"measure\": \"discrete\",\n",
      "              \"modeling_role\": \"feature\"\n",
      "            },\n",
      "            \"name\": \"OthersOnLoan\",\n",
      "            \"nullable\": true,\n",
      "            \"type\": \"string\"\n",
      "          },\n",
      "          {\n",
      "            \"metadata\": {\n",
      "              \"modeling_role\": \"feature\"\n",
      "            },\n",
      "            \"name\": \"CurrentResidenceDuration\",\n",
      "            \"nullable\": true,\n",
      "            \"type\": \"long\"\n",
      "          },\n",
      "          {\n",
      "            \"metadata\": {\n",
      "              \"measure\": \"discrete\",\n",
      "              \"modeling_role\": \"feature\"\n",
      "            },\n",
      "            \"name\": \"OwnsProperty\",\n",
      "            \"nullable\": true,\n",
      "            \"type\": \"string\"\n",
      "          },\n",
      "          {\n",
      "            \"metadata\": {\n",
      "              \"modeling_role\": \"feature\"\n",
      "            },\n",
      "            \"name\": \"Age\",\n",
      "            \"nullable\": true,\n",
      "            \"type\": \"long\"\n",
      "          },\n",
      "          {\n",
      "            \"metadata\": {\n",
      "              \"measure\": \"discrete\",\n",
      "              \"modeling_role\": \"feature\"\n",
      "            },\n",
      "            \"name\": \"InstallmentPlans\",\n",
      "            \"nullable\": true,\n",
      "            \"type\": \"string\"\n",
      "          },\n",
      "          {\n",
      "            \"metadata\": {\n",
      "              \"measure\": \"discrete\",\n",
      "              \"modeling_role\": \"feature\"\n",
      "            },\n",
      "            \"name\": \"Housing\",\n",
      "            \"nullable\": true,\n",
      "            \"type\": \"string\"\n",
      "          },\n",
      "          {\n",
      "            \"metadata\": {\n",
      "              \"modeling_role\": \"feature\"\n",
      "            },\n",
      "            \"name\": \"ExistingCreditsCount\",\n",
      "            \"nullable\": true,\n",
      "            \"type\": \"long\"\n",
      "          },\n",
      "          {\n",
      "            \"metadata\": {\n",
      "              \"measure\": \"discrete\",\n",
      "              \"modeling_role\": \"feature\"\n",
      "            },\n",
      "            \"name\": \"Job\",\n",
      "            \"nullable\": true,\n",
      "            \"type\": \"string\"\n",
      "          },\n",
      "          {\n",
      "            \"metadata\": {\n",
      "              \"modeling_role\": \"feature\"\n",
      "            },\n",
      "            \"name\": \"Dependents\",\n",
      "            \"nullable\": true,\n",
      "            \"type\": \"long\"\n",
      "          },\n",
      "          {\n",
      "            \"metadata\": {\n",
      "              \"measure\": \"discrete\",\n",
      "              \"modeling_role\": \"feature\"\n",
      "            },\n",
      "            \"name\": \"Telephone\",\n",
      "            \"nullable\": true,\n",
      "            \"type\": \"string\"\n",
      "          },\n",
      "          {\n",
      "            \"metadata\": {\n",
      "              \"measure\": \"discrete\",\n",
      "              \"modeling_role\": \"feature\"\n",
      "            },\n",
      "            \"name\": \"ForeignWorker\",\n",
      "            \"nullable\": true,\n",
      "            \"type\": \"string\"\n",
      "          },\n",
      "          {\n",
      "            \"metadata\": {\n",
      "              \"modeling_role\": \"target\"\n",
      "            },\n",
      "            \"name\": \"Risk\",\n",
      "            \"nullable\": true,\n",
      "            \"type\": \"string\"\n",
      "          }\n",
      "        ]\n",
      "      },\n",
      "      \"label_column\": \"Risk\",\n",
      "      \"prediction_field\": \"prediction\",\n",
      "      \"feature_fields\": [\n",
      "        \"CheckingStatus\",\n",
      "        \"LoanDuration\",\n",
      "        \"CreditHistory\",\n",
      "        \"LoanPurpose\",\n",
      "        \"LoanAmount\",\n",
      "        \"ExistingSavings\",\n",
      "        \"EmploymentDuration\",\n",
      "        \"InstallmentPercent\",\n",
      "        \"Sex\",\n",
      "        \"OthersOnLoan\",\n",
      "        \"CurrentResidenceDuration\",\n",
      "        \"OwnsProperty\",\n",
      "        \"Age\",\n",
      "        \"InstallmentPlans\",\n",
      "        \"Housing\",\n",
      "        \"ExistingCreditsCount\",\n",
      "        \"Job\",\n",
      "        \"Dependents\",\n",
      "        \"Telephone\",\n",
      "        \"ForeignWorker\"\n",
      "      ],\n",
      "      \"categorical_fields\": [\n",
      "        \"CheckingStatus\",\n",
      "        \"CreditHistory\",\n",
      "        \"LoanPurpose\",\n",
      "        \"ExistingSavings\",\n",
      "        \"EmploymentDuration\",\n",
      "        \"Sex\",\n",
      "        \"OthersOnLoan\",\n",
      "        \"OwnsProperty\",\n",
      "        \"InstallmentPlans\",\n",
      "        \"Housing\",\n",
      "        \"Job\",\n",
      "        \"Telephone\",\n",
      "        \"ForeignWorker\"\n",
      "      ],\n",
      "      \"probability_fields\": [\n",
      "        \"probability\"\n",
      "      ]\n",
      "    },\n",
      "    \"deployment\": {\n",
      "      \"deployment_id\": \"d9df97da-38aa-4a2f-b4af-4daa0f4e1ff4\",\n",
      "      \"url\": \"https://us-south.ml.cloud.ibm.com/v3/wml_instances/fa2ef988-b919-468b-a05b-2a3c9df845d5/deployments/d9df97da-38aa-4a2f-b4af-4daa0f4e1ff4\",\n",
      "      \"name\": \"Scikit German Risk Deployment\",\n",
      "      \"deployment_type\": \"online\"\n",
      "    },\n",
      "    \"status\": {\n",
      "      \"state\": \"preparing\"\n",
      "    }\n",
      "  }\n",
      "}\n"
     ]
    }
   ],
   "source": [
    "subscription_details = wos_client.subscriptions.add(\n",
    "        data_mart_id=data_mart_id,\n",
    "        service_provider_id=service_provider_id,\n",
    "        asset=Asset(\n",
    "            asset_id=published_model_details[\"metadata\"][\"guid\"],\n",
    "            url=published_model_details[\"metadata\"][\"url\"],\n",
    "            asset_type=AssetTypes.MODEL,\n",
    "            input_data_type=InputDataType.STRUCTURED,\n",
    "            problem_type=ProblemType.BINARY_CLASSIFICATION\n",
    "        ),\n",
    "        deployment=AssetDeploymentRequest(\n",
    "            deployment_id=asset_deployment_details[\"metadata\"][\"guid\"],\n",
    "            name=asset_deployment_details[\"entity\"][\"name\"],\n",
    "            deployment_type= DeploymentTypes.ONLINE,\n",
    "            url=asset_deployment_details[\"metadata\"][\"url\"]\n",
    "        ),\n",
    "        asset_properties=AssetPropertiesRequest(\n",
    "            label_column=\"Risk\",\n",
    "            probability_fields=[\"probability\"],\n",
    "            prediction_field=\"prediction\",\n",
    "            feature_fields = [\"CheckingStatus\",\"LoanDuration\",\"CreditHistory\",\"LoanPurpose\",\"LoanAmount\",\"ExistingSavings\",\"EmploymentDuration\",\"InstallmentPercent\",\"Sex\",\"OthersOnLoan\",\"CurrentResidenceDuration\",\"OwnsProperty\",\"Age\",\"InstallmentPlans\",\"Housing\",\"ExistingCreditsCount\",\"Job\",\"Dependents\",\"Telephone\",\"ForeignWorker\"],\n",
    "            categorical_fields = [\"CheckingStatus\",\"CreditHistory\",\"LoanPurpose\",\"ExistingSavings\",\"EmploymentDuration\",\"Sex\",\"OthersOnLoan\",\"OwnsProperty\",\"InstallmentPlans\",\"Housing\",\"Job\",\"Telephone\",\"ForeignWorker\"],\n",
    "            training_data_reference=TrainingDataReference(type=\"cos\",\n",
    "                                                          location=COSTrainingDataReferenceLocation(bucket = BUCKET_NAME,\n",
    "                                                                                                    file_name = training_data_file_name),\n",
    "                                                          connection=COSTrainingDataReferenceConnection.from_dict({\n",
    "                                                                        \"resource_instance_id\": COS_RESOURCE_CRN,\n",
    "                                                                        \"url\": COS_ENDPOINT,\n",
    "                                                                        \"api_key\": COS_API_KEY_ID,\n",
    "                                                                        \"iam_url\": \"https://iam.bluemix.net/oidc/token\"})),\n",
    "            training_data_schema=SparkStruct.from_dict(asset_deployment_details[\"entity\"][\"asset_properties\"][\"training_data_schema\"])\n",
    "        )\n",
    "    ).result\n",
    "subscription_id = subscription_details.metadata.id\n",
    "print(subscription_details)"
   ]
  },
  {
   "cell_type": "code",
   "execution_count": 41,
   "metadata": {},
   "outputs": [
    {
     "name": "stdout",
     "output_type": "stream",
     "text": [
      "Payload data set id: fa9f83ce-139f-42c8-9fe2-7bb86a9486ae\n"
     ]
    }
   ],
   "source": [
    "import time\n",
    "\n",
    "time.sleep(5)\n",
    "payload_data_set_id = None\n",
    "payload_data_set_id = wos_client.data_sets.list(type=DataSetTypes.PAYLOAD_LOGGING, \n",
    "                                                target_target_id=subscription_id, \n",
    "                                                target_target_type=TargetTypes.SUBSCRIPTION).result.data_sets[0].metadata.id\n",
    "if payload_data_set_id is None:\n",
    "    print(\"Payload data set not found. Please check subscription status.\")\n",
    "else:\n",
    "    print(\"Payload data set id:\", payload_data_set_id)"
   ]
  },
  {
   "cell_type": "code",
   "execution_count": 42,
   "metadata": {},
   "outputs": [
    {
     "data": {
      "text/html": [
       "<HTML>\n",
       "        <body>\n",
       "            <h3>Data sets</h3>\n",
       "            <table style='border: 1px solid #dddddd; font-family: Courier'>\n",
       "                <th style='border: 1px solid #dddddd'>data_mart_id</th><th style='border: 1px solid #dddddd'>status</th><th style='border: 1px solid #dddddd'>target_id</th><th style='border: 1px solid #dddddd'>target_type</th><th style='border: 1px solid #dddddd'>type</th><th style='border: 1px solid #dddddd'>created_at</th><th style='border: 1px solid #dddddd'>id</th>\n",
       "                <tr><td style='border: 1px solid #dddddd'>5a0b9076-fcf6-49e8-a824-9e3a6b4c2a56</td><td style='border: 1px solid #dddddd'>active</td><td style='border: 1px solid #dddddd'>221f432c-d1d7-4f2a-aa40-94cd6463f546</td><td style='border: 1px solid #dddddd'>subscription</td><td style='border: 1px solid #dddddd'>manual_labeling</td><td style='border: 1px solid #dddddd'>2020-08-18 18:30:56.365000+00:00</td><td style='border: 1px solid #dddddd'>42f5d524-c0b4-4c4f-80e8-c18129dda86e</td></tr><tr><td style='border: 1px solid #dddddd'>5a0b9076-fcf6-49e8-a824-9e3a6b4c2a56</td><td style='border: 1px solid #dddddd'>active</td><td style='border: 1px solid #dddddd'>221f432c-d1d7-4f2a-aa40-94cd6463f546</td><td style='border: 1px solid #dddddd'>subscription</td><td style='border: 1px solid #dddddd'>payload_logging</td><td style='border: 1px solid #dddddd'>2020-08-18 18:30:56.270000+00:00</td><td style='border: 1px solid #dddddd'>fa9f83ce-139f-42c8-9fe2-7bb86a9486ae</td></tr><tr><td style='border: 1px solid #dddddd'>5a0b9076-fcf6-49e8-a824-9e3a6b4c2a56</td><td style='border: 1px solid #dddddd'>active</td><td style='border: 1px solid #dddddd'>9afc14f1-2014-4fe2-95a9-fbb57f518e93</td><td style='border: 1px solid #dddddd'>subscription</td><td style='border: 1px solid #dddddd'>manual_labeling</td><td style='border: 1px solid #dddddd'>2020-08-10 20:44:54.177000+00:00</td><td style='border: 1px solid #dddddd'>c3dd0628-eb1f-4be8-b29f-9a2321a02223</td></tr><tr><td style='border: 1px solid #dddddd'>5a0b9076-fcf6-49e8-a824-9e3a6b4c2a56</td><td style='border: 1px solid #dddddd'>active</td><td style='border: 1px solid #dddddd'>9afc14f1-2014-4fe2-95a9-fbb57f518e93</td><td style='border: 1px solid #dddddd'>subscription</td><td style='border: 1px solid #dddddd'>payload_logging</td><td style='border: 1px solid #dddddd'>2020-08-10 20:44:54.111000+00:00</td><td style='border: 1px solid #dddddd'>980fbdef-3894-47fb-9219-2adfef573c29</td></tr><tr><td style='border: 1px solid #dddddd'>5a0b9076-fcf6-49e8-a824-9e3a6b4c2a56</td><td style='border: 1px solid #dddddd'>active</td><td style='border: 1px solid #dddddd'>5a0b9076-fcf6-49e8-a824-9e3a6b4c2a56</td><td style='border: 1px solid #dddddd'>data_mart</td><td style='border: 1px solid #dddddd'>explanations_whatif</td><td style='border: 1px solid #dddddd'>2020-07-23 15:19:59.475000+00:00</td><td style='border: 1px solid #dddddd'>6e8ed0d9-8d45-476a-a1d3-66f6b77be181</td></tr><tr><td style='border: 1px solid #dddddd'>5a0b9076-fcf6-49e8-a824-9e3a6b4c2a56</td><td style='border: 1px solid #dddddd'>active</td><td style='border: 1px solid #dddddd'>5a0b9076-fcf6-49e8-a824-9e3a6b4c2a56</td><td style='border: 1px solid #dddddd'>data_mart</td><td style='border: 1px solid #dddddd'>explanations</td><td style='border: 1px solid #dddddd'>2020-07-23 15:19:59.038000+00:00</td><td style='border: 1px solid #dddddd'>b242ee1c-31ba-4473-9e8f-23566edf69da</td></tr>\n",
       "            </table>\n",
       "        </body>\n",
       "        </HTML>"
      ],
      "text/plain": [
       "<IPython.core.display.HTML object>"
      ]
     },
     "metadata": {},
     "output_type": "display_data"
    }
   ],
   "source": [
    "wos_client.data_sets.show()"
   ]
  },
  {
   "cell_type": "markdown",
   "metadata": {},
   "source": [
    "\n",
    "\n",
    "Get subscription list"
   ]
  },
  {
   "cell_type": "code",
   "execution_count": 43,
   "metadata": {
    "scrolled": true
   },
   "outputs": [
    {
     "data": {
      "text/html": [
       "<HTML>\n",
       "        <body>\n",
       "            <h3>Subscriptions</h3>\n",
       "            <table style='border: 1px solid #dddddd; font-family: Courier'>\n",
       "                <th style='border: 1px solid #dddddd'>asset_id</th><th style='border: 1px solid #dddddd'>asset_name</th><th style='border: 1px solid #dddddd'>data_mart_id</th><th style='border: 1px solid #dddddd'>deployment_id</th><th style='border: 1px solid #dddddd'>deployment_name</th><th style='border: 1px solid #dddddd'>service_provider_id</th><th style='border: 1px solid #dddddd'>status</th><th style='border: 1px solid #dddddd'>created_at</th><th style='border: 1px solid #dddddd'>id</th>\n",
       "                <tr><td style='border: 1px solid #dddddd'>c3fbb6ba-1dcb-4aa4-9073-2c0f32d7451c</td><td style='border: 1px solid #dddddd'>None</td><td style='border: 1px solid #dddddd'>5a0b9076-fcf6-49e8-a824-9e3a6b4c2a56</td><td style='border: 1px solid #dddddd'>d9df97da-38aa-4a2f-b4af-4daa0f4e1ff4</td><td style='border: 1px solid #dddddd'>Scikit German Risk Deployment</td><td style='border: 1px solid #dddddd'>fed4410c-aa4e-40ab-a0a3-429afc89c638</td><td style='border: 1px solid #dddddd'>active</td><td style='border: 1px solid #dddddd'>2020-08-18 18:30:55.526000+00:00</td><td style='border: 1px solid #dddddd'>221f432c-d1d7-4f2a-aa40-94cd6463f546</td></tr><tr><td style='border: 1px solid #dddddd'>a2164301-4048-4480-b996-bfb006c95c1b</td><td style='border: 1px solid #dddddd'>Implicit Bias v2</td><td style='border: 1px solid #dddddd'>5a0b9076-fcf6-49e8-a824-9e3a6b4c2a56</td><td style='border: 1px solid #dddddd'>3421e6ce-16c4-478e-84fd-0bdd766fd950</td><td style='border: 1px solid #dddddd'>Implicit Bias Deploy v2</td><td style='border: 1px solid #dddddd'>6ac7a5f8-c58b-4cf6-9c90-470d6c0a5496</td><td style='border: 1px solid #dddddd'>active</td><td style='border: 1px solid #dddddd'>2020-08-10 20:44:52.309000+00:00</td><td style='border: 1px solid #dddddd'>9afc14f1-2014-4fe2-95a9-fbb57f518e93</td></tr>\n",
       "            </table>\n",
       "        </body>\n",
       "        </HTML>"
      ],
      "text/plain": [
       "<IPython.core.display.HTML object>"
      ]
     },
     "metadata": {},
     "output_type": "display_data"
    }
   ],
   "source": [
    "wos_client.subscriptions.show()"
   ]
  },
  {
   "cell_type": "markdown",
   "metadata": {},
   "source": [
    "### Score the model so we can configure monitors"
   ]
  },
  {
   "cell_type": "markdown",
   "metadata": {},
   "source": [
    "Now that the WML service has been bound and the subscription has been created, we need to send a request to the model before we configure OpenScale. This allows OpenScale to create a payload log in the datamart with the correct schema, so it can capture data coming into and out of the model. First, the code gets the model deployment's endpoint URL, and then sends a few records for predictions."
   ]
  },
  {
   "cell_type": "code",
   "execution_count": 44,
   "metadata": {
    "scrolled": true
   },
   "outputs": [
    {
     "name": "stdout",
     "output_type": "stream",
     "text": [
      "d9df97da-38aa-4a2f-b4af-4daa0f4e1ff4\n",
      "https://us-south.ml.cloud.ibm.com/v3/wml_instances/fa2ef988-b919-468b-a05b-2a3c9df845d5/deployments/d9df97da-38aa-4a2f-b4af-4daa0f4e1ff4/online\n"
     ]
    }
   ],
   "source": [
    "credit_risk_scoring_endpoint = None\n",
    "print(deployment_uid)\n",
    "\n",
    "for deployment in wml_client.deployments.get_details()[\"resources\"]:\n",
    "    if deployment_uid in deployment[\"metadata\"][\"guid\"]:\n",
    "        credit_risk_scoring_endpoint = deployment[\"entity\"][\"scoring_url\"]\n",
    "        \n",
    "print(credit_risk_scoring_endpoint)"
   ]
  },
  {
   "cell_type": "code",
   "execution_count": 45,
   "metadata": {
    "scrolled": true
   },
   "outputs": [
    {
     "name": "stdout",
     "output_type": "stream",
     "text": [
      "Single record scoring result: \n",
      " fields: ['prediction', 'probability'] \n",
      " values:  ['No Risk', [0.6270374722208658, 0.3729625277791342]]\n"
     ]
    }
   ],
   "source": [
    "fields = [\"CheckingStatus\",\"LoanDuration\",\"CreditHistory\",\"LoanPurpose\",\"LoanAmount\",\"ExistingSavings\",\"EmploymentDuration\",\"InstallmentPercent\",\"Sex\",\"OthersOnLoan\",\"CurrentResidenceDuration\",\"OwnsProperty\",\"Age\",\"InstallmentPlans\",\"Housing\",\"ExistingCreditsCount\",\"Job\",\"Dependents\",\"Telephone\",\"ForeignWorker\"]\n",
    "values = [\n",
    "  [\"no_checking\",10,\"credits_paid_to_date\",\"car_new\",1343,\"100_to_500\",\"1_to_4\",2,\"female\",\"none\",3,\"savings_insurance\",46,\"none\",\"own\",2,\"skilled\",1,\"none\",\"yes\"],\n",
    "  [\"no_checking\",20,\"prior_payments_delayed\",\"furniture\",4567,\"500_to_1000\",\"1_to_4\",4,\"male\",\"none\",4,\"savings_insurance\",36,\"none\",\"free\",2,\"management_self-employed\",1,\"none\",\"yes\"],\n",
    "  [\"0_to_200\",24,\"all_credits_paid_back\",\"car_new\",863,\"less_100\",\"less_1\",2,\"female\",\"co-applicant\",2,\"real_estate\",38,\"none\",\"own\",1,\"skilled\",1,\"none\",\"yes\"],\n",
    "  [\"0_to_200\",17,\"no_credits\",\"car_new\",2368,\"less_100\",\"1_to_4\",3,\"female\",\"none\",3,\"real_estate\",29,\"none\",\"own\",1,\"skilled\",1,\"none\",\"yes\"],\n",
    "  [\"0_to_200\",66,\"no_credits\",\"car_new\",250,\"less_100\",\"unemployed\",2,\"female\",\"none\",3,\"real_estate\",23,\"none\",\"rent\",1,\"management_self-employed\",1,\"none\",\"yes\"],\n",
    "  [\"no_checking\",14,\"credits_paid_to_date\",\"car_new\",832,\"100_to_500\",\"1_to_4\",2,\"male\",\"none\",2,\"real_estate\",42,\"none\",\"own\",1,\"skilled\",1,\"none\",\"yes\"],\n",
    "  [\"no_checking\",35,\"outstanding_credit\",\"appliances\",5696,\"unknown\",\"greater_7\",4,\"male\",\"co-applicant\",4,\"unknown\",54,\"none\",\"free\",2,\"skilled\",1,\"yes\",\"yes\"],\n",
    "  [\"0_to_200\",23,\"prior_payments_delayed\",\"retraining\",1375,\"100_to_500\",\"4_to_7\",3,\"male\",\"none\",3,\"real_estate\",37,\"none\",\"own\",2,\"management_self-employed\",1,\"none\",\"yes\"]\n",
    "]\n",
    "\n",
    "payload_scoring = {\"fields\": fields,\"values\": values}\n",
    "scoring_response = wml_client.deployments.score(credit_risk_scoring_endpoint, payload_scoring)\n",
    "\n",
    "print(\"Single record scoring result:\", \"\\n fields:\", scoring_response[\"fields\"], \"\\n values: \", scoring_response[\"values\"][0])"
   ]
  },
  {
   "cell_type": "code",
   "execution_count": 46,
   "metadata": {},
   "outputs": [
    {
     "name": "stdout",
     "output_type": "stream",
     "text": [
      "Number of records in the payload logging table: 8\n"
     ]
    }
   ],
   "source": [
    "time.sleep(5)\n",
    "pl_records_count = wos_client.data_sets.get_records_count(payload_data_set_id)\n",
    "print(\"Number of records in the payload logging table: {}\".format(pl_records_count))\n",
    "if pl_records_count == 0:\n",
    "    raise Exception(\"Payload logging did not happen!\")"
   ]
  },
  {
   "cell_type": "markdown",
   "metadata": {},
   "source": [
    "# Quality monitoring and feedback logging <a name=\"quality\"></a>"
   ]
  },
  {
   "cell_type": "markdown",
   "metadata": {},
   "source": [
    "## Enable quality monitoring"
   ]
  },
  {
   "cell_type": "markdown",
   "metadata": {},
   "source": [
    "The code below waits ten seconds to allow the payload logging table to be set up before it begins enabling monitors. First, it turns on the quality (accuracy) monitor and sets an alert threshold of 70%. OpenScale will show an alert on the dashboard if the model accuracy measurement (area under the curve, in the case of a binary classifier) falls below this threshold.\n",
    "\n",
    "The second paramater supplied, min_records, specifies the minimum number of feedback records OpenScale needs before it calculates a new measurement. The quality monitor runs hourly, but the accuracy reading in the dashboard will not change until an additional 50 feedback records have been added, via the user interface, the Python client, or the supplied feedback endpoint."
   ]
  },
  {
   "cell_type": "code",
   "execution_count": 47,
   "metadata": {
    "scrolled": true
   },
   "outputs": [
    {
     "name": "stdout",
     "output_type": "stream",
     "text": [
      "\n",
      "\n",
      "===================================================================================\n",
      "\n",
      " Waiting for end of monitor instance creation 5f25c3f7-0547-4aca-bf08-1709f099add6 \n",
      "\n",
      "===================================================================================\n",
      "\n",
      "\n",
      "\n",
      "active\n",
      "\n",
      "---------------------------------------\n",
      " Monitor instance successfully created \n",
      "---------------------------------------\n",
      "\n",
      "\n"
     ]
    }
   ],
   "source": [
    "import time\n",
    "\n",
    "time.sleep(10)\n",
    "target = Target(\n",
    "        target_type=TargetTypes.SUBSCRIPTION,\n",
    "        target_id=subscription_id\n",
    ")\n",
    "parameters = {\n",
    "    \"min_feedback_data_size\": 50\n",
    "}\n",
    "quality_monitor_details = wos_client.monitor_instances.create(\n",
    "    data_mart_id=data_mart_id,\n",
    "    background_mode=False,\n",
    "    monitor_definition_id=wos_client.monitor_definitions.MONITORS.QUALITY.ID,\n",
    "    target=target,\n",
    "    parameters=parameters\n",
    ").result"
   ]
  },
  {
   "cell_type": "code",
   "execution_count": 48,
   "metadata": {},
   "outputs": [],
   "source": [
    "quality_monitor_instance_id = quality_monitor_details.metadata.id"
   ]
  },
  {
   "cell_type": "markdown",
   "metadata": {},
   "source": [
    "## Feedback logging"
   ]
  },
  {
   "cell_type": "markdown",
   "metadata": {},
   "source": [
    "The code below downloads and stores enough feedback data to meet the minimum threshold so that OpenScale can calculate a new accuracy measurement. It then kicks off the accuracy monitor. The monitors run hourly, or can be initiated via the Python API, the REST API, or the graphical user interface."
   ]
  },
  {
   "cell_type": "code",
   "execution_count": 49,
   "metadata": {},
   "outputs": [
    {
     "name": "stdout",
     "output_type": "stream",
     "text": [
      "--2020-08-18 18:31:48--  https://raw.githubusercontent.com/pmservice/ai-openscale-tutorials/master/assets/historical_data/german_credit_risk/wml/additional_feedback_data_v2.json\n",
      "Resolving raw.githubusercontent.com (raw.githubusercontent.com)... 199.232.8.133\n",
      "Connecting to raw.githubusercontent.com (raw.githubusercontent.com)|199.232.8.133|:443... connected.\n",
      "HTTP request sent, awaiting response... 200 OK\n",
      "Length: 50890 (50K) [text/plain]\n",
      "Saving to: ‘additional_feedback_data_v2.json’\n",
      "\n",
      "100%[======================================>] 50,890      --.-K/s   in 0.003s  \n",
      "\n",
      "2020-08-18 18:31:48 (16.8 MB/s) - ‘additional_feedback_data_v2.json’ saved [50890/50890]\n",
      "\n"
     ]
    }
   ],
   "source": [
    "!rm additional_feedback_data_v2.json\n",
    "!wget https://raw.githubusercontent.com/pmservice/ai-openscale-tutorials/master/assets/historical_data/german_credit_risk/wml/additional_feedback_data_v2.json"
   ]
  },
  {
   "cell_type": "markdown",
   "metadata": {},
   "source": [
    "### Get feedback logging dataset ID"
   ]
  },
  {
   "cell_type": "code",
   "execution_count": 54,
   "metadata": {},
   "outputs": [
    {
     "name": "stdout",
     "output_type": "stream",
     "text": [
      "{\n",
      "  \"data_sets\": [\n",
      "    {\n",
      "      \"metadata\": {\n",
      "        \"id\": \"99d844ae-972b-4951-9c9f-c137c97653de\",\n",
      "        \"crn\": \"crn:v1:bluemix:public:aiopenscale:us-south:a/181ed6cc388f47bd9d862fe066f9cfce:5a0b9076-fcf6-49e8-a824-9e3a6b4c2a56:data_set:99d844ae-972b-4951-9c9f-c137c97653de\",\n",
      "        \"url\": \"/v2/data_sets/99d844ae-972b-4951-9c9f-c137c97653de\",\n",
      "        \"created_at\": \"2020-08-18T18:31:38.983000Z\",\n",
      "        \"created_by\": \"iam-ServiceId-2e5c9fda-38bf-4279-9712-cdb3b6f3a7ad\",\n",
      "        \"modified_at\": \"2020-08-18T18:31:39.178000Z\",\n",
      "        \"modified_by\": \"iam-ServiceId-2e5c9fda-38bf-4279-9712-cdb3b6f3a7ad\"\n",
      "      },\n",
      "      \"entity\": {\n",
      "        \"data_mart_id\": \"5a0b9076-fcf6-49e8-a824-9e3a6b4c2a56\",\n",
      "        \"name\": \"221f432c-d1d7-4f2a-aa40-94cd6463f546_feedback\",\n",
      "        \"description\": \"221f432c-d1d7-4f2a-aa40-94cd6463f546_feedback\",\n",
      "        \"type\": \"feedback\",\n",
      "        \"target\": {\n",
      "          \"target_type\": \"subscription\",\n",
      "          \"target_id\": \"221f432c-d1d7-4f2a-aa40-94cd6463f546\"\n",
      "        },\n",
      "        \"schema_update_mode\": \"auto\",\n",
      "        \"data_schema\": {\n",
      "          \"type\": \"struct\",\n",
      "          \"fields\": [\n",
      "            {\n",
      "              \"metadata\": {\n",
      "                \"columnInfo\": {\n",
      "                  \"columnLength\": 64\n",
      "                },\n",
      "                \"measure\": \"discrete\",\n",
      "                \"modeling_role\": \"feature\"\n",
      "              },\n",
      "              \"name\": \"CheckingStatus\",\n",
      "              \"nullable\": true,\n",
      "              \"type\": \"string\"\n",
      "            },\n",
      "            {\n",
      "              \"metadata\": {\n",
      "                \"modeling_role\": \"feature\"\n",
      "              },\n",
      "              \"name\": \"LoanDuration\",\n",
      "              \"nullable\": true,\n",
      "              \"type\": \"long\"\n",
      "            },\n",
      "            {\n",
      "              \"metadata\": {\n",
      "                \"columnInfo\": {\n",
      "                  \"columnLength\": 64\n",
      "                },\n",
      "                \"measure\": \"discrete\",\n",
      "                \"modeling_role\": \"feature\"\n",
      "              },\n",
      "              \"name\": \"CreditHistory\",\n",
      "              \"nullable\": true,\n",
      "              \"type\": \"string\"\n",
      "            },\n",
      "            {\n",
      "              \"metadata\": {\n",
      "                \"columnInfo\": {\n",
      "                  \"columnLength\": 64\n",
      "                },\n",
      "                \"measure\": \"discrete\",\n",
      "                \"modeling_role\": \"feature\"\n",
      "              },\n",
      "              \"name\": \"LoanPurpose\",\n",
      "              \"nullable\": true,\n",
      "              \"type\": \"string\"\n",
      "            },\n",
      "            {\n",
      "              \"metadata\": {\n",
      "                \"modeling_role\": \"feature\"\n",
      "              },\n",
      "              \"name\": \"LoanAmount\",\n",
      "              \"nullable\": true,\n",
      "              \"type\": \"long\"\n",
      "            },\n",
      "            {\n",
      "              \"metadata\": {\n",
      "                \"columnInfo\": {\n",
      "                  \"columnLength\": 64\n",
      "                },\n",
      "                \"measure\": \"discrete\",\n",
      "                \"modeling_role\": \"feature\"\n",
      "              },\n",
      "              \"name\": \"ExistingSavings\",\n",
      "              \"nullable\": true,\n",
      "              \"type\": \"string\"\n",
      "            },\n",
      "            {\n",
      "              \"metadata\": {\n",
      "                \"columnInfo\": {\n",
      "                  \"columnLength\": 64\n",
      "                },\n",
      "                \"measure\": \"discrete\",\n",
      "                \"modeling_role\": \"feature\"\n",
      "              },\n",
      "              \"name\": \"EmploymentDuration\",\n",
      "              \"nullable\": true,\n",
      "              \"type\": \"string\"\n",
      "            },\n",
      "            {\n",
      "              \"metadata\": {\n",
      "                \"modeling_role\": \"feature\"\n",
      "              },\n",
      "              \"name\": \"InstallmentPercent\",\n",
      "              \"nullable\": true,\n",
      "              \"type\": \"long\"\n",
      "            },\n",
      "            {\n",
      "              \"metadata\": {\n",
      "                \"columnInfo\": {\n",
      "                  \"columnLength\": 64\n",
      "                },\n",
      "                \"measure\": \"discrete\",\n",
      "                \"modeling_role\": \"feature\"\n",
      "              },\n",
      "              \"name\": \"Sex\",\n",
      "              \"nullable\": true,\n",
      "              \"type\": \"string\"\n",
      "            },\n",
      "            {\n",
      "              \"metadata\": {\n",
      "                \"columnInfo\": {\n",
      "                  \"columnLength\": 64\n",
      "                },\n",
      "                \"measure\": \"discrete\",\n",
      "                \"modeling_role\": \"feature\"\n",
      "              },\n",
      "              \"name\": \"OthersOnLoan\",\n",
      "              \"nullable\": true,\n",
      "              \"type\": \"string\"\n",
      "            },\n",
      "            {\n",
      "              \"metadata\": {\n",
      "                \"modeling_role\": \"feature\"\n",
      "              },\n",
      "              \"name\": \"CurrentResidenceDuration\",\n",
      "              \"nullable\": true,\n",
      "              \"type\": \"long\"\n",
      "            },\n",
      "            {\n",
      "              \"metadata\": {\n",
      "                \"columnInfo\": {\n",
      "                  \"columnLength\": 64\n",
      "                },\n",
      "                \"measure\": \"discrete\",\n",
      "                \"modeling_role\": \"feature\"\n",
      "              },\n",
      "              \"name\": \"OwnsProperty\",\n",
      "              \"nullable\": true,\n",
      "              \"type\": \"string\"\n",
      "            },\n",
      "            {\n",
      "              \"metadata\": {\n",
      "                \"modeling_role\": \"feature\"\n",
      "              },\n",
      "              \"name\": \"Age\",\n",
      "              \"nullable\": true,\n",
      "              \"type\": \"long\"\n",
      "            },\n",
      "            {\n",
      "              \"metadata\": {\n",
      "                \"columnInfo\": {\n",
      "                  \"columnLength\": 64\n",
      "                },\n",
      "                \"measure\": \"discrete\",\n",
      "                \"modeling_role\": \"feature\"\n",
      "              },\n",
      "              \"name\": \"InstallmentPlans\",\n",
      "              \"nullable\": true,\n",
      "              \"type\": \"string\"\n",
      "            },\n",
      "            {\n",
      "              \"metadata\": {\n",
      "                \"columnInfo\": {\n",
      "                  \"columnLength\": 64\n",
      "                },\n",
      "                \"measure\": \"discrete\",\n",
      "                \"modeling_role\": \"feature\"\n",
      "              },\n",
      "              \"name\": \"Housing\",\n",
      "              \"nullable\": true,\n",
      "              \"type\": \"string\"\n",
      "            },\n",
      "            {\n",
      "              \"metadata\": {\n",
      "                \"modeling_role\": \"feature\"\n",
      "              },\n",
      "              \"name\": \"ExistingCreditsCount\",\n",
      "              \"nullable\": true,\n",
      "              \"type\": \"long\"\n",
      "            },\n",
      "            {\n",
      "              \"metadata\": {\n",
      "                \"columnInfo\": {\n",
      "                  \"columnLength\": 64\n",
      "                },\n",
      "                \"measure\": \"discrete\",\n",
      "                \"modeling_role\": \"feature\"\n",
      "              },\n",
      "              \"name\": \"Job\",\n",
      "              \"nullable\": true,\n",
      "              \"type\": \"string\"\n",
      "            },\n",
      "            {\n",
      "              \"metadata\": {\n",
      "                \"modeling_role\": \"feature\"\n",
      "              },\n",
      "              \"name\": \"Dependents\",\n",
      "              \"nullable\": true,\n",
      "              \"type\": \"long\"\n",
      "            },\n",
      "            {\n",
      "              \"metadata\": {\n",
      "                \"columnInfo\": {\n",
      "                  \"columnLength\": 64\n",
      "                },\n",
      "                \"measure\": \"discrete\",\n",
      "                \"modeling_role\": \"feature\"\n",
      "              },\n",
      "              \"name\": \"Telephone\",\n",
      "              \"nullable\": true,\n",
      "              \"type\": \"string\"\n",
      "            },\n",
      "            {\n",
      "              \"metadata\": {\n",
      "                \"columnInfo\": {\n",
      "                  \"columnLength\": 64\n",
      "                },\n",
      "                \"measure\": \"discrete\",\n",
      "                \"modeling_role\": \"feature\"\n",
      "              },\n",
      "              \"name\": \"ForeignWorker\",\n",
      "              \"nullable\": true,\n",
      "              \"type\": \"string\"\n",
      "            },\n",
      "            {\n",
      "              \"metadata\": {\n",
      "                \"modeling_role\": \"target\"\n",
      "              },\n",
      "              \"name\": \"Risk\",\n",
      "              \"nullable\": true,\n",
      "              \"type\": \"string\"\n",
      "            },\n",
      "            {\n",
      "              \"metadata\": {\n",
      "                \"modeling_role\": \"record-id\",\n",
      "                \"primary_key\": true\n",
      "              },\n",
      "              \"name\": \"record_id\",\n",
      "              \"nullable\": false,\n",
      "              \"type\": \"string\"\n",
      "            },\n",
      "            {\n",
      "              \"metadata\": {\n",
      "                \"modeling_role\": \"record-timestamp\"\n",
      "              },\n",
      "              \"name\": \"record_timestamp\",\n",
      "              \"nullable\": false,\n",
      "              \"type\": \"timestamp\"\n",
      "            },\n",
      "            {\n",
      "              \"metadata\": {\n",
      "                \"transaction_id_key\": true\n",
      "              },\n",
      "              \"name\": \"transaction_id\",\n",
      "              \"nullable\": true,\n",
      "              \"type\": \"string\"\n",
      "            },\n",
      "            {\n",
      "              \"metadata\": {},\n",
      "              \"name\": \"_original_prediction\",\n",
      "              \"nullable\": true,\n",
      "              \"type\": \"string\"\n",
      "            },\n",
      "            {\n",
      "              \"metadata\": {},\n",
      "              \"name\": \"_original_probability\",\n",
      "              \"nullable\": true,\n",
      "              \"type\": {\n",
      "                \"containsNull\": true,\n",
      "                \"elementType\": \"double\",\n",
      "                \"type\": \"array\"\n",
      "              }\n",
      "            },\n",
      "            {\n",
      "              \"metadata\": {},\n",
      "              \"name\": \"_debiased_prediction\",\n",
      "              \"nullable\": true,\n",
      "              \"type\": \"string\"\n",
      "            },\n",
      "            {\n",
      "              \"metadata\": {},\n",
      "              \"name\": \"_debiased_probability\",\n",
      "              \"nullable\": true,\n",
      "              \"type\": {\n",
      "                \"containsNull\": true,\n",
      "                \"elementType\": \"double\",\n",
      "                \"type\": \"array\"\n",
      "              }\n",
      "            }\n",
      "          ]\n",
      "        },\n",
      "        \"location\": {\n",
      "          \"table_name\": \"5a0b9076-fcf6-49e8-a824-9e3a6b4c2a56.Feedback_221f432c-d1d7-4f2a-aa40-94cd6463f546\"\n",
      "        },\n",
      "        \"status\": {\n",
      "          \"state\": \"active\"\n",
      "        }\n",
      "      }\n",
      "    }\n",
      "  ]\n",
      "}\n"
     ]
    }
   ],
   "source": [
    "feedback_dataset_id = None\n",
    "feedback_dataset = wos_client.data_sets.list(type=DataSetTypes.FEEDBACK, \n",
    "                                                target_target_id=subscription_id, \n",
    "                                                target_target_type=TargetTypes.SUBSCRIPTION).result\n",
    "print(feedback_dataset)\n",
    "feedback_dataset_id = feedback_dataset.data_sets[0].metadata.id\n",
    "if feedback_dataset_id is None:\n",
    "    print(\"Feedback data set not found. Please check quality monitor status.\")"
   ]
  },
  {
   "cell_type": "code",
   "execution_count": 55,
   "metadata": {},
   "outputs": [],
   "source": [
    "with open('additional_feedback_data_v2.json') as feedback_file:\n",
    "    additional_feedback_data = json.load(feedback_file)"
   ]
  },
  {
   "cell_type": "code",
   "execution_count": 56,
   "metadata": {},
   "outputs": [
    {
     "name": "stdout",
     "output_type": "stream",
     "text": [
      "\n",
      "\n",
      "==========================================================================================\n",
      "\n",
      " Waiting for end of storing records with request id: 76f8ede6-26cf-48c4-a2bc-e3c5975fabc6 \n",
      "\n",
      "==========================================================================================\n",
      "\n",
      "\n",
      "\n",
      "active\n",
      "\n",
      "---------------------------------------\n",
      " Successfully finished storing records \n",
      "---------------------------------------\n",
      "\n",
      "\n"
     ]
    },
    {
     "data": {
      "text/plain": [
       "<ibm_cloud_sdk_core.detailed_response.DetailedResponse at 0x7f9af2744438>"
      ]
     },
     "execution_count": 56,
     "metadata": {},
     "output_type": "execute_result"
    }
   ],
   "source": [
    "wos_client.data_sets.store_records(feedback_dataset_id, request_body=additional_feedback_data, background_mode=False)"
   ]
  },
  {
   "cell_type": "code",
   "execution_count": 57,
   "metadata": {},
   "outputs": [
    {
     "data": {
      "text/plain": [
       "98"
      ]
     },
     "execution_count": 57,
     "metadata": {},
     "output_type": "execute_result"
    }
   ],
   "source": [
    "wos_client.data_sets.get_records_count(data_set_id=feedback_dataset_id)"
   ]
  },
  {
   "cell_type": "code",
   "execution_count": 58,
   "metadata": {
    "scrolled": true
   },
   "outputs": [
    {
     "name": "stdout",
     "output_type": "stream",
     "text": [
      "\n",
      "\n",
      "========================================================================\n",
      "\n",
      " Waiting for end of monitoring run dd2c67a9-cbce-43b2-b274-e5e09957de36 \n",
      "\n",
      "========================================================================\n",
      "\n",
      "\n",
      "\n",
      "running\n",
      "finished\n",
      "\n",
      "---------------------------\n",
      " Successfully finished run \n",
      "---------------------------\n",
      "\n",
      "\n"
     ]
    }
   ],
   "source": [
    "run_details = wos_client.monitor_instances.run(monitor_instance_id=quality_monitor_instance_id, background_mode=False).result"
   ]
  },
  {
   "cell_type": "code",
   "execution_count": 59,
   "metadata": {},
   "outputs": [
    {
     "data": {
      "text/html": [
       "<HTML>\n",
       "        <body>\n",
       "            <h3>5f25c3f7-0547-4aca-bf08-1709f099add6 Monitor Runs Metrics from: 2020-08-11 18:34:25.277164  till: 2020-08-18 18:34:25.277172</h3>\n",
       "            <table style='border: 1px solid #dddddd; font-family: Courier'>\n",
       "                <th style='border: 1px solid #dddddd'>ts</th><th style='border: 1px solid #dddddd'>id</th><th style='border: 1px solid #dddddd'>measurement_id</th><th style='border: 1px solid #dddddd'>value</th><th style='border: 1px solid #dddddd'>lower_limit</th><th style='border: 1px solid #dddddd'>upper_limit</th><th style='border: 1px solid #dddddd'>tags</th><th style='border: 1px solid #dddddd'>monitor_definition_id</th><th style='border: 1px solid #dddddd'>monitor_instance_id</th><th style='border: 1px solid #dddddd'>run_id</th><th style='border: 1px solid #dddddd'>target_type</th><th style='border: 1px solid #dddddd'>target_id</th>\n",
       "                <tr><td style='border: 1px solid #dddddd'>2020-08-18 18:34:14.125000+00:00</td><td style='border: 1px solid #dddddd'>true_positive_rate</td><td style='border: 1px solid #dddddd'>d795e44d-4387-4b95-8ef1-a7e69e996f5a</td><td style='border: 1px solid #dddddd'>0.5151515151515151</td><td style='border: 1px solid #dddddd'>0.8</td><td style='border: 1px solid #dddddd'>None</td><td style='border: 1px solid #dddddd'>['model_type:original']</td><td style='border: 1px solid #dddddd'>quality</td><td style='border: 1px solid #dddddd'>5f25c3f7-0547-4aca-bf08-1709f099add6</td><td style='border: 1px solid #dddddd'>dd2c67a9-cbce-43b2-b274-e5e09957de36</td><td style='border: 1px solid #dddddd'>subscription</td><td style='border: 1px solid #dddddd'>221f432c-d1d7-4f2a-aa40-94cd6463f546</td></tr><tr><td style='border: 1px solid #dddddd'>2020-08-18 18:34:14.125000+00:00</td><td style='border: 1px solid #dddddd'>area_under_roc</td><td style='border: 1px solid #dddddd'>d795e44d-4387-4b95-8ef1-a7e69e996f5a</td><td style='border: 1px solid #dddddd'>0.7191142191142192</td><td style='border: 1px solid #dddddd'>0.8</td><td style='border: 1px solid #dddddd'>None</td><td style='border: 1px solid #dddddd'>['model_type:original']</td><td style='border: 1px solid #dddddd'>quality</td><td style='border: 1px solid #dddddd'>5f25c3f7-0547-4aca-bf08-1709f099add6</td><td style='border: 1px solid #dddddd'>dd2c67a9-cbce-43b2-b274-e5e09957de36</td><td style='border: 1px solid #dddddd'>subscription</td><td style='border: 1px solid #dddddd'>221f432c-d1d7-4f2a-aa40-94cd6463f546</td></tr><tr><td style='border: 1px solid #dddddd'>2020-08-18 18:34:14.125000+00:00</td><td style='border: 1px solid #dddddd'>precision</td><td style='border: 1px solid #dddddd'>d795e44d-4387-4b95-8ef1-a7e69e996f5a</td><td style='border: 1px solid #dddddd'>0.7727272727272727</td><td style='border: 1px solid #dddddd'>0.8</td><td style='border: 1px solid #dddddd'>None</td><td style='border: 1px solid #dddddd'>['model_type:original']</td><td style='border: 1px solid #dddddd'>quality</td><td style='border: 1px solid #dddddd'>5f25c3f7-0547-4aca-bf08-1709f099add6</td><td style='border: 1px solid #dddddd'>dd2c67a9-cbce-43b2-b274-e5e09957de36</td><td style='border: 1px solid #dddddd'>subscription</td><td style='border: 1px solid #dddddd'>221f432c-d1d7-4f2a-aa40-94cd6463f546</td></tr><tr><td style='border: 1px solid #dddddd'>2020-08-18 18:34:14.125000+00:00</td><td style='border: 1px solid #dddddd'>f1_measure</td><td style='border: 1px solid #dddddd'>d795e44d-4387-4b95-8ef1-a7e69e996f5a</td><td style='border: 1px solid #dddddd'>0.6181818181818182</td><td style='border: 1px solid #dddddd'>0.8</td><td style='border: 1px solid #dddddd'>None</td><td style='border: 1px solid #dddddd'>['model_type:original']</td><td style='border: 1px solid #dddddd'>quality</td><td style='border: 1px solid #dddddd'>5f25c3f7-0547-4aca-bf08-1709f099add6</td><td style='border: 1px solid #dddddd'>dd2c67a9-cbce-43b2-b274-e5e09957de36</td><td style='border: 1px solid #dddddd'>subscription</td><td style='border: 1px solid #dddddd'>221f432c-d1d7-4f2a-aa40-94cd6463f546</td></tr><tr><td style='border: 1px solid #dddddd'>2020-08-18 18:34:14.125000+00:00</td><td style='border: 1px solid #dddddd'>accuracy</td><td style='border: 1px solid #dddddd'>d795e44d-4387-4b95-8ef1-a7e69e996f5a</td><td style='border: 1px solid #dddddd'>0.7857142857142857</td><td style='border: 1px solid #dddddd'>0.8</td><td style='border: 1px solid #dddddd'>None</td><td style='border: 1px solid #dddddd'>['model_type:original']</td><td style='border: 1px solid #dddddd'>quality</td><td style='border: 1px solid #dddddd'>5f25c3f7-0547-4aca-bf08-1709f099add6</td><td style='border: 1px solid #dddddd'>dd2c67a9-cbce-43b2-b274-e5e09957de36</td><td style='border: 1px solid #dddddd'>subscription</td><td style='border: 1px solid #dddddd'>221f432c-d1d7-4f2a-aa40-94cd6463f546</td></tr><tr><td style='border: 1px solid #dddddd'>2020-08-18 18:34:14.125000+00:00</td><td style='border: 1px solid #dddddd'>log_loss</td><td style='border: 1px solid #dddddd'>d795e44d-4387-4b95-8ef1-a7e69e996f5a</td><td style='border: 1px solid #dddddd'>0.43364420900703426</td><td style='border: 1px solid #dddddd'>None</td><td style='border: 1px solid #dddddd'>0.8</td><td style='border: 1px solid #dddddd'>['model_type:original']</td><td style='border: 1px solid #dddddd'>quality</td><td style='border: 1px solid #dddddd'>5f25c3f7-0547-4aca-bf08-1709f099add6</td><td style='border: 1px solid #dddddd'>dd2c67a9-cbce-43b2-b274-e5e09957de36</td><td style='border: 1px solid #dddddd'>subscription</td><td style='border: 1px solid #dddddd'>221f432c-d1d7-4f2a-aa40-94cd6463f546</td></tr><tr><td style='border: 1px solid #dddddd'>2020-08-18 18:34:14.125000+00:00</td><td style='border: 1px solid #dddddd'>false_positive_rate</td><td style='border: 1px solid #dddddd'>d795e44d-4387-4b95-8ef1-a7e69e996f5a</td><td style='border: 1px solid #dddddd'>0.07692307692307693</td><td style='border: 1px solid #dddddd'>None</td><td style='border: 1px solid #dddddd'>0.8</td><td style='border: 1px solid #dddddd'>['model_type:original']</td><td style='border: 1px solid #dddddd'>quality</td><td style='border: 1px solid #dddddd'>5f25c3f7-0547-4aca-bf08-1709f099add6</td><td style='border: 1px solid #dddddd'>dd2c67a9-cbce-43b2-b274-e5e09957de36</td><td style='border: 1px solid #dddddd'>subscription</td><td style='border: 1px solid #dddddd'>221f432c-d1d7-4f2a-aa40-94cd6463f546</td></tr><tr><td style='border: 1px solid #dddddd'>2020-08-18 18:34:14.125000+00:00</td><td style='border: 1px solid #dddddd'>area_under_pr</td><td style='border: 1px solid #dddddd'>d795e44d-4387-4b95-8ef1-a7e69e996f5a</td><td style='border: 1px solid #dddddd'>0.6670321020970371</td><td style='border: 1px solid #dddddd'>0.8</td><td style='border: 1px solid #dddddd'>None</td><td style='border: 1px solid #dddddd'>['model_type:original']</td><td style='border: 1px solid #dddddd'>quality</td><td style='border: 1px solid #dddddd'>5f25c3f7-0547-4aca-bf08-1709f099add6</td><td style='border: 1px solid #dddddd'>dd2c67a9-cbce-43b2-b274-e5e09957de36</td><td style='border: 1px solid #dddddd'>subscription</td><td style='border: 1px solid #dddddd'>221f432c-d1d7-4f2a-aa40-94cd6463f546</td></tr><tr><td style='border: 1px solid #dddddd'>2020-08-18 18:34:14.125000+00:00</td><td style='border: 1px solid #dddddd'>recall</td><td style='border: 1px solid #dddddd'>d795e44d-4387-4b95-8ef1-a7e69e996f5a</td><td style='border: 1px solid #dddddd'>0.5151515151515151</td><td style='border: 1px solid #dddddd'>0.8</td><td style='border: 1px solid #dddddd'>None</td><td style='border: 1px solid #dddddd'>['model_type:original']</td><td style='border: 1px solid #dddddd'>quality</td><td style='border: 1px solid #dddddd'>5f25c3f7-0547-4aca-bf08-1709f099add6</td><td style='border: 1px solid #dddddd'>dd2c67a9-cbce-43b2-b274-e5e09957de36</td><td style='border: 1px solid #dddddd'>subscription</td><td style='border: 1px solid #dddddd'>221f432c-d1d7-4f2a-aa40-94cd6463f546</td></tr>\n",
       "            </table>\n",
       "        </body>\n",
       "        </HTML>"
      ],
      "text/plain": [
       "<IPython.core.display.HTML object>"
      ]
     },
     "metadata": {},
     "output_type": "display_data"
    }
   ],
   "source": [
    "wos_client.monitor_instances.show_metrics(monitor_instance_id=quality_monitor_instance_id)"
   ]
  },
  {
   "cell_type": "markdown",
   "metadata": {},
   "source": [
    "# Fairness monitoring, Drift and explanations <a name=\"fairness\"></a>"
   ]
  },
  {
   "cell_type": "markdown",
   "metadata": {},
   "source": [
    "### Fairness configuration\n",
    "\n",
    "The code below configures fairness monitoring for our model. It turns on monitoring for two features, Sex and Age. In each case, we must specify:\n",
    "  * Which model feature to monitor\n",
    "  * One or more **majority** groups, which are values of that feature that we expect to receive a higher percentage of favorable outcomes\n",
    "  * One or more **minority** groups, which are values of that feature that we expect to receive a higher percentage of unfavorable outcomes\n",
    "  * The threshold at which we would like OpenScale to display an alert if the fairness measurement falls below (in this case, 95%)\n",
    "\n",
    "Additionally, we must specify which outcomes from the model are favourable outcomes, and which are unfavourable. We must also provide the number of records OpenScale will use to calculate the fairness score. In this case, OpenScale's fairness monitor will run hourly, but will not calculate a new fairness rating until at least 200 records have been added. Finally, to calculate fairness, OpenScale must perform some calculations on the training data, so we provide the dataframe containing the data."
   ]
  },
  {
   "cell_type": "code",
   "execution_count": 60,
   "metadata": {},
   "outputs": [
    {
     "data": {
      "text/html": [
       "<HTML>\n",
       "        <body>\n",
       "            <h3>Monitor instances</h3>\n",
       "            <table style='border: 1px solid #dddddd; font-family: Courier'>\n",
       "                <th style='border: 1px solid #dddddd'>data_mart_id</th><th style='border: 1px solid #dddddd'>status</th><th style='border: 1px solid #dddddd'>target_id</th><th style='border: 1px solid #dddddd'>target_type</th><th style='border: 1px solid #dddddd'>monitor_definition_id</th><th style='border: 1px solid #dddddd'>created_at</th><th style='border: 1px solid #dddddd'>id</th>\n",
       "                <tr><td style='border: 1px solid #dddddd'>5a0b9076-fcf6-49e8-a824-9e3a6b4c2a56</td><td style='border: 1px solid #dddddd'>active</td><td style='border: 1px solid #dddddd'>221f432c-d1d7-4f2a-aa40-94cd6463f546</td><td style='border: 1px solid #dddddd'>subscription</td><td style='border: 1px solid #dddddd'>quality</td><td style='border: 1px solid #dddddd'>2020-08-18 18:31:38.519000+00:00</td><td style='border: 1px solid #dddddd'>5f25c3f7-0547-4aca-bf08-1709f099add6</td></tr><tr><td style='border: 1px solid #dddddd'>5a0b9076-fcf6-49e8-a824-9e3a6b4c2a56</td><td style='border: 1px solid #dddddd'>active</td><td style='border: 1px solid #dddddd'>9afc14f1-2014-4fe2-95a9-fbb57f518e93</td><td style='border: 1px solid #dddddd'>subscription</td><td style='border: 1px solid #dddddd'>fairness</td><td style='border: 1px solid #dddddd'>2020-08-10 20:45:13.815000+00:00</td><td style='border: 1px solid #dddddd'>7b0e3d9a-1d77-4430-b824-cacca7a65216</td></tr><tr><td style='border: 1px solid #dddddd'>5a0b9076-fcf6-49e8-a824-9e3a6b4c2a56</td><td style='border: 1px solid #dddddd'>active</td><td style='border: 1px solid #dddddd'>9afc14f1-2014-4fe2-95a9-fbb57f518e93</td><td style='border: 1px solid #dddddd'>subscription</td><td style='border: 1px solid #dddddd'>performance</td><td style='border: 1px solid #dddddd'>2020-08-10 20:44:55.164000+00:00</td><td style='border: 1px solid #dddddd'>920c5f4a-1bff-49aa-9a75-b07cdc946b9d</td></tr>\n",
       "            </table>\n",
       "        </body>\n",
       "        </HTML>"
      ],
      "text/plain": [
       "<IPython.core.display.HTML object>"
      ]
     },
     "metadata": {},
     "output_type": "display_data"
    }
   ],
   "source": [
    "wos_client.monitor_instances.show()"
   ]
  },
  {
   "cell_type": "code",
   "execution_count": 61,
   "metadata": {
    "scrolled": true
   },
   "outputs": [
    {
     "name": "stdout",
     "output_type": "stream",
     "text": [
      "\n",
      "\n",
      "===================================================================================\n",
      "\n",
      " Waiting for end of monitor instance creation bd566ef4-5f66-42c4-aacd-08eeb99a182a \n",
      "\n",
      "===================================================================================\n",
      "\n",
      "\n",
      "\n",
      "active\n",
      "\n",
      "---------------------------------------\n",
      " Monitor instance successfully created \n",
      "---------------------------------------\n",
      "\n",
      "\n"
     ]
    }
   ],
   "source": [
    "target = Target(\n",
    "    target_type=TargetTypes.SUBSCRIPTION,\n",
    "    target_id=subscription_id\n",
    "\n",
    ")\n",
    "parameters = {\n",
    "    \"features\": [\n",
    "        {\"feature\": \"Sex\",\n",
    "         \"majority\": ['male'],\n",
    "         \"minority\": ['female'],\n",
    "         \"threshold\": 0.95\n",
    "         },\n",
    "        {\"feature\": \"Age\",\n",
    "         \"majority\": [[26, 75]],\n",
    "         \"minority\": [[18, 25]],\n",
    "         \"threshold\": 0.95\n",
    "         }\n",
    "    ],\n",
    "    \"favourable_class\": [\"No Risk\"],\n",
    "    \"unfavourable_class\": [\"Risk\"],\n",
    "    \"min_records\": 4\n",
    "}\n",
    "\n",
    "fairness_monitor_details = wos_client.monitor_instances.create(\n",
    "    data_mart_id=data_mart_id,\n",
    "    background_mode=False,\n",
    "    monitor_definition_id=wos_client.monitor_definitions.MONITORS.FAIRNESS.ID,\n",
    "    target=target,\n",
    "    parameters=parameters).result\n",
    "fairness_monitor_instance_id =fairness_monitor_details.metadata.id"
   ]
  },
  {
   "cell_type": "markdown",
   "metadata": {},
   "source": [
    "### Drift configuration"
   ]
  },
  {
   "cell_type": "code",
   "execution_count": 62,
   "metadata": {},
   "outputs": [
    {
     "name": "stdout",
     "output_type": "stream",
     "text": [
      "\n",
      "\n",
      "===================================================================================\n",
      "\n",
      " Waiting for end of monitor instance creation e577101c-311c-4d28-bb24-e92544db3e47 \n",
      "\n",
      "===================================================================================\n",
      "\n",
      "\n",
      "\n",
      "preparing\n",
      "active\n",
      "\n",
      "---------------------------------------\n",
      " Monitor instance successfully created \n",
      "---------------------------------------\n",
      "\n",
      "\n"
     ]
    }
   ],
   "source": [
    "monitor_instances = wos_client.monitor_instances.list().result.monitor_instances\n",
    "for monitor_instance in monitor_instances:\n",
    "    monitor_def_id=monitor_instance.entity.monitor_definition_id\n",
    "    if monitor_def_id == \"drift\" and monitor_instance.entity.target.target_id == subscription_id:\n",
    "        wos_client.monitor_instances.delete(monitor_instance.metadata.id)\n",
    "        print('Deleted existing drift monitor instance with id: ', monitor_instance.metadata.id)\n",
    "\n",
    "\n",
    "target = Target(\n",
    "    target_type=TargetTypes.SUBSCRIPTION,\n",
    "    target_id=subscription_id\n",
    "\n",
    ")\n",
    "parameters = {\n",
    "    \"min_samples\": 20,\n",
    "    \"train_drift_model\": True,\n",
    "    \"enable_model_drift\": False,\n",
    "    \"enable_data_drift\": True\n",
    "}\n",
    "\n",
    "drift_monitor_details = wos_client.monitor_instances.create(\n",
    "    data_mart_id=data_mart_id,\n",
    "    background_mode=False,\n",
    "    monitor_definition_id=wos_client.monitor_definitions.MONITORS.DRIFT.ID,\n",
    "    target=target,\n",
    "    parameters=parameters\n",
    ").result\n",
    "\n",
    "drift_monitor_instance_id = drift_monitor_details.metadata.id"
   ]
  },
  {
   "cell_type": "markdown",
   "metadata": {},
   "source": [
    "## Score the model again now that monitoring is configured"
   ]
  },
  {
   "cell_type": "markdown",
   "metadata": {},
   "source": [
    "This next section randomly selects 200 records from the data feed and sends those records to the model for predictions. This is enough to exceed the minimum threshold for records set in the previous section, which allows OpenScale to begin calculating fairness."
   ]
  },
  {
   "cell_type": "code",
   "execution_count": 63,
   "metadata": {},
   "outputs": [
    {
     "name": "stdout",
     "output_type": "stream",
     "text": [
      "-rw-r----- 1 dsxuser dsxuser 3.0M Aug 18 18:34 german_credit_feed.json\r\n"
     ]
    }
   ],
   "source": [
    "from IPython.utils import io\n",
    "!rm german_credit_feed.json\n",
    "with io.capture_output() as captured:\n",
    "    !wget https://raw.githubusercontent.com/pmservice/ai-openscale-tutorials/master/assets/historical_data/german_credit_risk/wml/german_credit_feed.json -O german_credit_feed.json\n",
    "!ls -lh german_credit_feed.json"
   ]
  },
  {
   "cell_type": "code",
   "execution_count": 64,
   "metadata": {},
   "outputs": [
    {
     "data": {
      "text/plain": [
       "'https://us-south.ml.cloud.ibm.com/v3/wml_instances/fa2ef988-b919-468b-a05b-2a3c9df845d5/deployments/d9df97da-38aa-4a2f-b4af-4daa0f4e1ff4/online'"
      ]
     },
     "execution_count": 64,
     "metadata": {},
     "output_type": "execute_result"
    }
   ],
   "source": [
    "scoring_url"
   ]
  },
  {
   "cell_type": "markdown",
   "metadata": {},
   "source": [
    "Score 200 randomly chosen records"
   ]
  },
  {
   "cell_type": "code",
   "execution_count": 65,
   "metadata": {},
   "outputs": [],
   "source": [
    "import random\n",
    "\n",
    "with open('german_credit_feed.json', 'r') as scoring_file:\n",
    "    scoring_data = json.load(scoring_file)\n",
    "\n",
    "fields = scoring_data['fields']\n",
    "values = []\n",
    "for _ in range(200):\n",
    "    values.append(random.choice(scoring_data['values']))\n",
    "payload_scoring = {\"fields\": fields, \"values\": values}\n",
    "\n",
    "scoring_response = wml_client.deployments.score(credit_risk_scoring_endpoint, payload_scoring)\n",
    "time.sleep(5)"
   ]
  },
  {
   "cell_type": "markdown",
   "metadata": {},
   "source": [
    "**Note:** Now in payload table should be total 208 records."
   ]
  },
  {
   "cell_type": "code",
   "execution_count": 66,
   "metadata": {},
   "outputs": [
    {
     "name": "stdout",
     "output_type": "stream",
     "text": [
      "Number of records in payload table: 208\n"
     ]
    }
   ],
   "source": [
    "print(\"Number of records in payload table:\", wos_client.data_sets.get_records_count(data_set_id=payload_data_set_id))"
   ]
  },
  {
   "cell_type": "markdown",
   "metadata": {},
   "source": [
    "## Run fairness monitor"
   ]
  },
  {
   "cell_type": "markdown",
   "metadata": {},
   "source": [
    "Kick off a fairness monitor run on current data. The monitor runs hourly, but can be manually initiated using the Python client, the REST API, or the graphical user interface."
   ]
  },
  {
   "cell_type": "code",
   "execution_count": 67,
   "metadata": {
    "scrolled": true
   },
   "outputs": [
    {
     "name": "stdout",
     "output_type": "stream",
     "text": [
      "\n",
      "\n",
      "========================================================================\n",
      "\n",
      " Waiting for end of monitoring run f6cbf330-e4f1-4175-ab11-41d8f197250b \n",
      "\n",
      "========================================================================\n",
      "\n",
      "\n",
      "\n",
      "running\n",
      "finished\n",
      "\n",
      "---------------------------\n",
      " Successfully finished run \n",
      "---------------------------\n",
      "\n",
      "\n"
     ]
    }
   ],
   "source": [
    "run_details = wos_client.monitor_instances.run(monitor_instance_id=fairness_monitor_instance_id, background_mode=False)"
   ]
  },
  {
   "cell_type": "code",
   "execution_count": 68,
   "metadata": {},
   "outputs": [
    {
     "data": {
      "text/html": [
       "<HTML>\n",
       "        <body>\n",
       "            <h3>bd566ef4-5f66-42c4-aacd-08eeb99a182a Monitor Runs Metrics from: 2020-08-11 18:35:29.880471  till: 2020-08-18 18:35:29.880487</h3>\n",
       "            <table style='border: 1px solid #dddddd; font-family: Courier'>\n",
       "                <th style='border: 1px solid #dddddd'>ts</th><th style='border: 1px solid #dddddd'>id</th><th style='border: 1px solid #dddddd'>measurement_id</th><th style='border: 1px solid #dddddd'>value</th><th style='border: 1px solid #dddddd'>lower_limit</th><th style='border: 1px solid #dddddd'>upper_limit</th><th style='border: 1px solid #dddddd'>tags</th><th style='border: 1px solid #dddddd'>monitor_definition_id</th><th style='border: 1px solid #dddddd'>monitor_instance_id</th><th style='border: 1px solid #dddddd'>run_id</th><th style='border: 1px solid #dddddd'>target_type</th><th style='border: 1px solid #dddddd'>target_id</th>\n",
       "                <tr><td style='border: 1px solid #dddddd'>2020-08-18 18:35:10.710720+00:00</td><td style='border: 1px solid #dddddd'>fairness_value</td><td style='border: 1px solid #dddddd'>dbc586c4-880a-46a8-a637-91c4899e0c6a</td><td style='border: 1px solid #dddddd'>100.0</td><td style='border: 1px solid #dddddd'>80.0</td><td style='border: 1px solid #dddddd'>None</td><td style='border: 1px solid #dddddd'>['feature:Sex', 'fairness_metric_type:fairness', 'feature_value:female']</td><td style='border: 1px solid #dddddd'>fairness</td><td style='border: 1px solid #dddddd'>bd566ef4-5f66-42c4-aacd-08eeb99a182a</td><td style='border: 1px solid #dddddd'>f6cbf330-e4f1-4175-ab11-41d8f197250b</td><td style='border: 1px solid #dddddd'>subscription</td><td style='border: 1px solid #dddddd'>221f432c-d1d7-4f2a-aa40-94cd6463f546</td></tr><tr><td style='border: 1px solid #dddddd'>2020-08-18 18:35:10.710720+00:00</td><td style='border: 1px solid #dddddd'>fairness_value</td><td style='border: 1px solid #dddddd'>dbc586c4-880a-46a8-a637-91c4899e0c6a</td><td style='border: 1px solid #dddddd'>100.0</td><td style='border: 1px solid #dddddd'>80.0</td><td style='border: 1px solid #dddddd'>None</td><td style='border: 1px solid #dddddd'>['feature:Age', 'fairness_metric_type:fairness', 'feature_value:18-25']</td><td style='border: 1px solid #dddddd'>fairness</td><td style='border: 1px solid #dddddd'>bd566ef4-5f66-42c4-aacd-08eeb99a182a</td><td style='border: 1px solid #dddddd'>f6cbf330-e4f1-4175-ab11-41d8f197250b</td><td style='border: 1px solid #dddddd'>subscription</td><td style='border: 1px solid #dddddd'>221f432c-d1d7-4f2a-aa40-94cd6463f546</td></tr><tr><td style='border: 1px solid #dddddd'>2020-08-18 18:35:10.710720+00:00</td><td style='border: 1px solid #dddddd'>fairness_value</td><td style='border: 1px solid #dddddd'>9c5cb71b-cb73-45aa-a914-2e3666ee8db4</td><td style='border: 1px solid #dddddd'>100.0</td><td style='border: 1px solid #dddddd'>80.0</td><td style='border: 1px solid #dddddd'>None</td><td style='border: 1px solid #dddddd'>['feature:Age', 'fairness_metric_type:debiased_fairness', 'feature_value:18-25']</td><td style='border: 1px solid #dddddd'>fairness</td><td style='border: 1px solid #dddddd'>bd566ef4-5f66-42c4-aacd-08eeb99a182a</td><td style='border: 1px solid #dddddd'>f6cbf330-e4f1-4175-ab11-41d8f197250b</td><td style='border: 1px solid #dddddd'>subscription</td><td style='border: 1px solid #dddddd'>221f432c-d1d7-4f2a-aa40-94cd6463f546</td></tr><tr><td style='border: 1px solid #dddddd'>2020-08-18 18:35:10.710720+00:00</td><td style='border: 1px solid #dddddd'>fairness_value</td><td style='border: 1px solid #dddddd'>9c5cb71b-cb73-45aa-a914-2e3666ee8db4</td><td style='border: 1px solid #dddddd'>100.0</td><td style='border: 1px solid #dddddd'>80.0</td><td style='border: 1px solid #dddddd'>None</td><td style='border: 1px solid #dddddd'>['feature:Sex', 'fairness_metric_type:debiased_fairness', 'feature_value:female']</td><td style='border: 1px solid #dddddd'>fairness</td><td style='border: 1px solid #dddddd'>bd566ef4-5f66-42c4-aacd-08eeb99a182a</td><td style='border: 1px solid #dddddd'>f6cbf330-e4f1-4175-ab11-41d8f197250b</td><td style='border: 1px solid #dddddd'>subscription</td><td style='border: 1px solid #dddddd'>221f432c-d1d7-4f2a-aa40-94cd6463f546</td></tr><tr><td style='border: 1px solid #dddddd'>2020-08-18 18:34:38.773571+00:00</td><td style='border: 1px solid #dddddd'>fairness_value</td><td style='border: 1px solid #dddddd'>18c34df7-e61a-470a-b998-3a7154691acb</td><td style='border: 1px solid #dddddd'>100.0</td><td style='border: 1px solid #dddddd'>80.0</td><td style='border: 1px solid #dddddd'>None</td><td style='border: 1px solid #dddddd'>['feature:Sex', 'fairness_metric_type:fairness', 'feature_value:female']</td><td style='border: 1px solid #dddddd'>fairness</td><td style='border: 1px solid #dddddd'>bd566ef4-5f66-42c4-aacd-08eeb99a182a</td><td style='border: 1px solid #dddddd'>4a491bae-874d-4b8d-bf35-59c1d5721622</td><td style='border: 1px solid #dddddd'>subscription</td><td style='border: 1px solid #dddddd'>221f432c-d1d7-4f2a-aa40-94cd6463f546</td></tr><tr><td style='border: 1px solid #dddddd'>2020-08-18 18:34:38.773571+00:00</td><td style='border: 1px solid #dddddd'>fairness_value</td><td style='border: 1px solid #dddddd'>18c34df7-e61a-470a-b998-3a7154691acb</td><td style='border: 1px solid #dddddd'>100.0</td><td style='border: 1px solid #dddddd'>80.0</td><td style='border: 1px solid #dddddd'>None</td><td style='border: 1px solid #dddddd'>['feature:Age', 'fairness_metric_type:fairness', 'feature_value:18-25']</td><td style='border: 1px solid #dddddd'>fairness</td><td style='border: 1px solid #dddddd'>bd566ef4-5f66-42c4-aacd-08eeb99a182a</td><td style='border: 1px solid #dddddd'>4a491bae-874d-4b8d-bf35-59c1d5721622</td><td style='border: 1px solid #dddddd'>subscription</td><td style='border: 1px solid #dddddd'>221f432c-d1d7-4f2a-aa40-94cd6463f546</td></tr><tr><td style='border: 1px solid #dddddd'>2020-08-18 18:34:38.773571+00:00</td><td style='border: 1px solid #dddddd'>fairness_value</td><td style='border: 1px solid #dddddd'>0c7e0551-9606-4b53-b36a-db4e63a2e236</td><td style='border: 1px solid #dddddd'>100.0</td><td style='border: 1px solid #dddddd'>80.0</td><td style='border: 1px solid #dddddd'>None</td><td style='border: 1px solid #dddddd'>['feature:Sex', 'fairness_metric_type:debiased_fairness', 'feature_value:female']</td><td style='border: 1px solid #dddddd'>fairness</td><td style='border: 1px solid #dddddd'>bd566ef4-5f66-42c4-aacd-08eeb99a182a</td><td style='border: 1px solid #dddddd'>4a491bae-874d-4b8d-bf35-59c1d5721622</td><td style='border: 1px solid #dddddd'>subscription</td><td style='border: 1px solid #dddddd'>221f432c-d1d7-4f2a-aa40-94cd6463f546</td></tr><tr><td style='border: 1px solid #dddddd'>2020-08-18 18:34:38.773571+00:00</td><td style='border: 1px solid #dddddd'>fairness_value</td><td style='border: 1px solid #dddddd'>0c7e0551-9606-4b53-b36a-db4e63a2e236</td><td style='border: 1px solid #dddddd'>100.0</td><td style='border: 1px solid #dddddd'>80.0</td><td style='border: 1px solid #dddddd'>None</td><td style='border: 1px solid #dddddd'>['feature:Age', 'fairness_metric_type:debiased_fairness', 'feature_value:18-25']</td><td style='border: 1px solid #dddddd'>fairness</td><td style='border: 1px solid #dddddd'>bd566ef4-5f66-42c4-aacd-08eeb99a182a</td><td style='border: 1px solid #dddddd'>4a491bae-874d-4b8d-bf35-59c1d5721622</td><td style='border: 1px solid #dddddd'>subscription</td><td style='border: 1px solid #dddddd'>221f432c-d1d7-4f2a-aa40-94cd6463f546</td></tr>\n",
       "            </table>\n",
       "        </body>\n",
       "        </HTML>"
      ],
      "text/plain": [
       "<IPython.core.display.HTML object>"
      ]
     },
     "metadata": {},
     "output_type": "display_data"
    }
   ],
   "source": [
    "time.sleep(10)\n",
    "\n",
    "wos_client.monitor_instances.show_metrics(monitor_instance_id=fairness_monitor_instance_id)"
   ]
  },
  {
   "cell_type": "markdown",
   "metadata": {},
   "source": [
    "## Run drift monitor\n",
    "\n",
    "\n",
    "Kick off a drift monitor run on current data. The monitor runs every hour, but can be manually initiated using the Python client, the REST API."
   ]
  },
  {
   "cell_type": "code",
   "execution_count": 69,
   "metadata": {},
   "outputs": [
    {
     "name": "stdout",
     "output_type": "stream",
     "text": [
      "\n",
      "\n",
      "========================================================================\n",
      "\n",
      " Waiting for end of monitoring run 621e8896-702a-4b29-9660-3ca1ae67891f \n",
      "\n",
      "========================================================================\n",
      "\n",
      "\n",
      "\n",
      "finished\n",
      "\n",
      "---------------------------\n",
      " Successfully finished run \n",
      "---------------------------\n",
      "\n",
      "\n"
     ]
    }
   ],
   "source": [
    "drift_run_details = wos_client.monitor_instances.run(monitor_instance_id=drift_monitor_instance_id, background_mode=False)"
   ]
  },
  {
   "cell_type": "code",
   "execution_count": 70,
   "metadata": {},
   "outputs": [
    {
     "data": {
      "text/html": [
       "<HTML>\n",
       "        <body>\n",
       "            <h3>e577101c-311c-4d28-bb24-e92544db3e47 Monitor Runs Metrics from: 2020-08-11 18:35:41.940437  till: 2020-08-18 18:35:41.940455</h3>\n",
       "            <table style='border: 1px solid #dddddd; font-family: Courier'>\n",
       "                <th style='border: 1px solid #dddddd'>ts</th><th style='border: 1px solid #dddddd'>id</th><th style='border: 1px solid #dddddd'>measurement_id</th><th style='border: 1px solid #dddddd'>value</th><th style='border: 1px solid #dddddd'>lower_limit</th><th style='border: 1px solid #dddddd'>upper_limit</th><th style='border: 1px solid #dddddd'>tags</th><th style='border: 1px solid #dddddd'>monitor_definition_id</th><th style='border: 1px solid #dddddd'>monitor_instance_id</th><th style='border: 1px solid #dddddd'>run_id</th><th style='border: 1px solid #dddddd'>target_type</th><th style='border: 1px solid #dddddd'>target_id</th>\n",
       "                <tr><td style='border: 1px solid #dddddd'>2020-08-18 18:35:32.545296+00:00</td><td style='border: 1px solid #dddddd'>data_drift_magnitude</td><td style='border: 1px solid #dddddd'>7fd256cf-1e66-4106-80ba-c484ee507fc0</td><td style='border: 1px solid #dddddd'>0.11538461538461539</td><td style='border: 1px solid #dddddd'>None</td><td style='border: 1px solid #dddddd'>None</td><td style='border: 1px solid #dddddd'>[]</td><td style='border: 1px solid #dddddd'>drift</td><td style='border: 1px solid #dddddd'>e577101c-311c-4d28-bb24-e92544db3e47</td><td style='border: 1px solid #dddddd'>621e8896-702a-4b29-9660-3ca1ae67891f</td><td style='border: 1px solid #dddddd'>subscription</td><td style='border: 1px solid #dddddd'>221f432c-d1d7-4f2a-aa40-94cd6463f546</td></tr>\n",
       "            </table>\n",
       "        </body>\n",
       "        </HTML>"
      ],
      "text/plain": [
       "<IPython.core.display.HTML object>"
      ]
     },
     "metadata": {},
     "output_type": "display_data"
    }
   ],
   "source": [
    "time.sleep(5)\n",
    "\n",
    "wos_client.monitor_instances.show_metrics(monitor_instance_id=drift_monitor_instance_id)"
   ]
  },
  {
   "cell_type": "markdown",
   "metadata": {},
   "source": [
    "## Configure Explainability"
   ]
  },
  {
   "cell_type": "markdown",
   "metadata": {},
   "source": [
    "Finally, we provide OpenScale with the training data to enable and configure the explainability features."
   ]
  },
  {
   "cell_type": "code",
   "execution_count": 71,
   "metadata": {
    "scrolled": false
   },
   "outputs": [
    {
     "name": "stdout",
     "output_type": "stream",
     "text": [
      "\n",
      "\n",
      "===================================================================================\n",
      "\n",
      " Waiting for end of monitor instance creation abf29d95-c6c0-4c6a-8f5a-22a0cd912f34 \n",
      "\n",
      "===================================================================================\n",
      "\n",
      "\n",
      "\n",
      "active\n",
      "\n",
      "---------------------------------------\n",
      " Monitor instance successfully created \n",
      "---------------------------------------\n",
      "\n",
      "\n"
     ]
    }
   ],
   "source": [
    "target = Target(\n",
    "    target_type=TargetTypes.SUBSCRIPTION,\n",
    "    target_id=subscription_id\n",
    ")\n",
    "parameters = {\n",
    "    \"enabled\": True\n",
    "}\n",
    "explainability_details = wos_client.monitor_instances.create(\n",
    "    data_mart_id=data_mart_id,\n",
    "    background_mode=False,\n",
    "    monitor_definition_id=wos_client.monitor_definitions.MONITORS.EXPLAINABILITY.ID,\n",
    "    target=target,\n",
    "    parameters=parameters\n",
    ").result\n",
    "\n",
    "explainability_monitor_id = explainability_details.metadata.id"
   ]
  },
  {
   "cell_type": "markdown",
   "metadata": {},
   "source": [
    "## Run explanation for sample record"
   ]
  },
  {
   "cell_type": "code",
   "execution_count": 72,
   "metadata": {},
   "outputs": [
    {
     "name": "stdout",
     "output_type": "stream",
     "text": [
      "Running explanations on scoring IDs: ['db4e076775f5ac2fbfe97e25da96d0f5-1']\n",
      "{\n",
      "  \"metadata\": {\n",
      "    \"explanation_task_ids\": [\n",
      "      \"9ce1439e-5bb7-435c-83d3-e0f96293b2ad\"\n",
      "    ],\n",
      "    \"created_by\": \"IBMid-310002F0G1\",\n",
      "    \"created_at\": \"2020-08-18T18:35:58.197415Z\"\n",
      "  }\n",
      "}\n"
     ]
    }
   ],
   "source": [
    "pl_records_resp = wos_client.data_sets.get_list_of_records(data_set_id=payload_data_set_id, limit=1, offset=0).result\n",
    "scoring_ids = [pl_records_resp[\"records\"][0][\"entity\"][\"values\"][\"scoring_id\"]]\n",
    "print(\"Running explanations on scoring IDs: {}\".format(scoring_ids))\n",
    "explanation_types = [\"lime\", \"contrastive\"]\n",
    "result = wos_client.monitor_instances.explanation_tasks(scoring_ids=scoring_ids, explanation_types=explanation_types).result\n",
    "print(result)\n"
   ]
  },
  {
   "cell_type": "markdown",
   "metadata": {},
   "source": [
    "# Custom monitors and metrics <a name=\"custom\"></a>"
   ]
  },
  {
   "cell_type": "markdown",
   "metadata": {},
   "source": [
    "## Register custom monitor"
   ]
  },
  {
   "cell_type": "code",
   "execution_count": 70,
   "metadata": {},
   "outputs": [],
   "source": [
    "def get_definition(monitor_name):\n",
    "    monitor_definitions = wos_client.monitor_definitions.list().result.monitor_definitions\n",
    "    \n",
    "    for definition in monitor_definitions:\n",
    "        if monitor_name == definition.entity.name:\n",
    "            return definition\n",
    "    \n",
    "    return None"
   ]
  },
  {
   "cell_type": "code",
   "execution_count": 71,
   "metadata": {},
   "outputs": [
    {
     "name": "stdout",
     "output_type": "stream",
     "text": [
      "\n",
      "\n",
      "===================================================================\n",
      "\n",
      " Waiting for end of adding monitor definition my_model_performance \n",
      "\n",
      "===================================================================\n",
      "\n",
      "\n",
      "\n",
      "finished\n",
      "\n",
      "-------------------------------------------------\n",
      " Successfully finished adding monitor definition \n",
      "-------------------------------------------------\n",
      "\n",
      "\n"
     ]
    }
   ],
   "source": [
    "monitor_name = 'my model performance'\n",
    "metrics = [MonitorMetricRequest(name='sensitivity',\n",
    "                                thresholds=[MetricThreshold(type=MetricThresholdTypes.LOWER_LIMIT, default=0.8)]),\n",
    "          MonitorMetricRequest(name='specificity',\n",
    "                                thresholds=[MetricThreshold(type=MetricThresholdTypes.LOWER_LIMIT, default=0.75)])]\n",
    "tags = [MonitorTagRequest(name='region', description='customer geographical region')]\n",
    "\n",
    "existing_definition = get_definition(monitor_name)\n",
    "\n",
    "if existing_definition is None:\n",
    "    custom_monitor_details = wos_client.monitor_definitions.add(name=monitor_name, metrics=metrics, tags=tags, background_mode=False).result\n",
    "else:\n",
    "    custom_monitor_details = existing_definition"
   ]
  },
  {
   "cell_type": "markdown",
   "metadata": {},
   "source": [
    "### Show available monitors types"
   ]
  },
  {
   "cell_type": "code",
   "execution_count": 72,
   "metadata": {},
   "outputs": [
    {
     "data": {
      "text/html": [
       "<HTML>\n",
       "        <body>\n",
       "            <h3>Monitor definitions</h3>\n",
       "            <table style='border: 1px solid #dddddd; font-family: Courier'>\n",
       "                <th style='border: 1px solid #dddddd'>monitor id</th><th style='border: 1px solid #dddddd'>monitor name</th><th style='border: 1px solid #dddddd'>metrics names</th>\n",
       "                <tr><td style='border: 1px solid #dddddd'>my_model_performance</td><td style='border: 1px solid #dddddd'>my model performance</td><td style='border: 1px solid #dddddd'>['sensitivity', 'specificity']</td></tr><tr><td style='border: 1px solid #dddddd'>assurance</td><td style='border: 1px solid #dddddd'>Assurance</td><td style='border: 1px solid #dddddd'>['Uncertainty', 'Confidence']</td></tr><tr><td style='border: 1px solid #dddddd'>fairness</td><td style='border: 1px solid #dddddd'>Fairness</td><td style='border: 1px solid #dddddd'>['Fairness value', 'Average Odds Difference metric value', 'False Discovery Rate Difference metric value', 'Error Rate Difference metric value', 'False Negative Rate Difference metric value', 'False Omission Rate Difference metric value', 'False Positive Rate Difference metric value', 'True Positive Rate Difference metric value']</td></tr><tr><td style='border: 1px solid #dddddd'>performance</td><td style='border: 1px solid #dddddd'>Performance</td><td style='border: 1px solid #dddddd'>['Number of records']</td></tr><tr><td style='border: 1px solid #dddddd'>explainability</td><td style='border: 1px solid #dddddd'>Explainability</td><td style='border: 1px solid #dddddd'>[]</td></tr><tr><td style='border: 1px solid #dddddd'>mrm</td><td style='border: 1px solid #dddddd'>Model risk management monitoring</td><td style='border: 1px solid #dddddd'>['Tests run', 'Tests passed', 'Tests failed', 'Tests skipped', 'Fairness score', 'Quality score', 'Drift score']</td></tr><tr><td style='border: 1px solid #dddddd'>correlations</td><td style='border: 1px solid #dddddd'>Correlations</td><td style='border: 1px solid #dddddd'>['Maximum positive correlation coefficient', 'Maximum negative correlation coefficient', 'Mean absolute correlation coefficient', 'Significant correlation coefficients count']</td></tr><tr><td style='border: 1px solid #dddddd'>drift</td><td style='border: 1px solid #dddddd'>Drift</td><td style='border: 1px solid #dddddd'>['Drop in accuracy', 'Predicted accuracy', 'Drop in data consistency']</td></tr><tr><td style='border: 1px solid #dddddd'>quality</td><td style='border: 1px solid #dddddd'>Quality</td><td style='border: 1px solid #dddddd'>['Area under ROC', 'Area under PR', 'Proportion explained variance', 'Mean absolute error', 'Mean squared error', 'R squared', 'Root of mean squared error', 'Accuracy', 'Weighted True Positive Rate (wTPR)', 'True positive rate (TPR)', 'Weighted False Positive Rate (wFPR)', 'False positive rate (FPR)', 'Weighted recall', 'Recall', 'Weighted precision', 'Precision', 'Weighted F1-Measure', 'F1-Measure', 'Logarithmic loss']</td></tr>\n",
       "            </table>\n",
       "        </body>\n",
       "        </HTML>"
      ],
      "text/plain": [
       "<IPython.core.display.HTML object>"
      ]
     },
     "metadata": {},
     "output_type": "display_data"
    }
   ],
   "source": [
    "wos_client.monitor_definitions.show()"
   ]
  },
  {
   "cell_type": "markdown",
   "metadata": {},
   "source": [
    "### Get monitors uids and details"
   ]
  },
  {
   "cell_type": "code",
   "execution_count": 73,
   "metadata": {},
   "outputs": [
    {
     "name": "stdout",
     "output_type": "stream",
     "text": [
      "my_model_performance\n"
     ]
    }
   ],
   "source": [
    "custom_monitor_id = custom_monitor_details.metadata.id\n",
    "\n",
    "print(custom_monitor_id)"
   ]
  },
  {
   "cell_type": "code",
   "execution_count": 74,
   "metadata": {
    "scrolled": true
   },
   "outputs": [
    {
     "name": "stdout",
     "output_type": "stream",
     "text": [
      "Monitor definition details: {\n",
      "  \"metadata\": {\n",
      "    \"id\": \"my_model_performance\",\n",
      "    \"crn\": \"crn:v1:bluemix:public:aiopenscale:us-south:a/d2c5c1830d2a6fc88d77c610c09bb1ed:9c72f0c0-6d24-4503-9fce-b31695f6c931:monitor_definition:my_model_performance\",\n",
      "    \"url\": \"/v2/monitor_definitions/my_model_performance\",\n",
      "    \"created_at\": \"2020-07-20T10:29:32.562000Z\",\n",
      "    \"created_by\": \"IBMid-50P0BSQW1S\"\n",
      "  },\n",
      "  \"entity\": {\n",
      "    \"name\": \"my model performance\",\n",
      "    \"metrics\": [\n",
      "      {\n",
      "        \"name\": \"sensitivity\",\n",
      "        \"thresholds\": [\n",
      "          {\n",
      "            \"type\": \"lower_limit\",\n",
      "            \"default\": 0.8\n",
      "          }\n",
      "        ],\n",
      "        \"expected_direction\": \"increasing\",\n",
      "        \"id\": \"sensitivity\"\n",
      "      },\n",
      "      {\n",
      "        \"name\": \"specificity\",\n",
      "        \"thresholds\": [\n",
      "          {\n",
      "            \"type\": \"lower_limit\",\n",
      "            \"default\": 0.75\n",
      "          }\n",
      "        ],\n",
      "        \"expected_direction\": \"increasing\",\n",
      "        \"id\": \"specificity\"\n",
      "      }\n",
      "    ],\n",
      "    \"tags\": [\n",
      "      {\n",
      "        \"name\": \"region\",\n",
      "        \"description\": \"customer geographical region\",\n",
      "        \"id\": \"region\"\n",
      "      }\n",
      "    ]\n",
      "  }\n",
      "}\n"
     ]
    }
   ],
   "source": [
    "custom_monitor_details = wos_client.monitor_definitions.get(monitor_definition_id=custom_monitor_id).result\n",
    "print('Monitor definition details:', custom_monitor_details)"
   ]
  },
  {
   "cell_type": "markdown",
   "metadata": {},
   "source": [
    "## Enable custom monitor for subscription"
   ]
  },
  {
   "cell_type": "code",
   "execution_count": 75,
   "metadata": {},
   "outputs": [
    {
     "name": "stdout",
     "output_type": "stream",
     "text": [
      "\n",
      "\n",
      "===================================================================================\n",
      "\n",
      " Waiting for end of monitor instance creation f0ac28dd-a67b-41dc-8f57-fae9ce2a506d \n",
      "\n",
      "===================================================================================\n",
      "\n",
      "\n",
      "\n",
      "active\n",
      "\n",
      "---------------------------------------\n",
      " Monitor instance successfully created \n",
      "---------------------------------------\n",
      "\n",
      "\n"
     ]
    }
   ],
   "source": [
    "target = Target(\n",
    "        target_type=TargetTypes.SUBSCRIPTION,\n",
    "        target_id=subscription_id\n",
    "    )\n",
    "\n",
    "thresholds = [MetricThresholdOverride(metric_id='sensitivity', type = MetricThresholdTypes.LOWER_LIMIT, value=0.9)]\n",
    "\n",
    "custom_monitor_instance_details = wos_client.monitor_instances.create(\n",
    "            data_mart_id=data_mart_id,\n",
    "            background_mode=False,\n",
    "            monitor_definition_id=custom_monitor_id,\n",
    "            target=target\n",
    ").result"
   ]
  },
  {
   "cell_type": "markdown",
   "metadata": {},
   "source": [
    "### Get monitor instance id and configuration details"
   ]
  },
  {
   "cell_type": "code",
   "execution_count": 76,
   "metadata": {},
   "outputs": [],
   "source": [
    "custom_monitor_instance_id = custom_monitor_instance_details.metadata.id"
   ]
  },
  {
   "cell_type": "code",
   "execution_count": 77,
   "metadata": {},
   "outputs": [
    {
     "name": "stdout",
     "output_type": "stream",
     "text": [
      "{\n",
      "  \"metadata\": {\n",
      "    \"id\": \"f0ac28dd-a67b-41dc-8f57-fae9ce2a506d\",\n",
      "    \"crn\": \"crn:v1:bluemix:public:aiopenscale:us-south:a/d2c5c1830d2a6fc88d77c610c09bb1ed:9c72f0c0-6d24-4503-9fce-b31695f6c931:monitor_instance:f0ac28dd-a67b-41dc-8f57-fae9ce2a506d\",\n",
      "    \"url\": \"/v2/monitor_instances/f0ac28dd-a67b-41dc-8f57-fae9ce2a506d\",\n",
      "    \"created_at\": \"2020-07-20T10:29:50.961000Z\",\n",
      "    \"created_by\": \"IBMid-50P0BSQW1S\"\n",
      "  },\n",
      "  \"entity\": {\n",
      "    \"data_mart_id\": \"9c72f0c0-6d24-4503-9fce-b31695f6c931\",\n",
      "    \"monitor_definition_id\": \"my_model_performance\",\n",
      "    \"target\": {\n",
      "      \"target_type\": \"subscription\",\n",
      "      \"target_id\": \"3d54d760-80f9-41a3-b746-fc23ba3f978e\"\n",
      "    },\n",
      "    \"thresholds\": [\n",
      "      {\n",
      "        \"metric_id\": \"sensitivity\",\n",
      "        \"type\": \"lower_limit\",\n",
      "        \"value\": 0.8\n",
      "      },\n",
      "      {\n",
      "        \"metric_id\": \"specificity\",\n",
      "        \"type\": \"lower_limit\",\n",
      "        \"value\": 0.75\n",
      "      }\n",
      "    ],\n",
      "    \"schedule\": {\n",
      "      \"repeat_interval\": 60,\n",
      "      \"repeat_unit\": \"minute\",\n",
      "      \"repeat_type\": \"minute\"\n",
      "    },\n",
      "    \"status\": {\n",
      "      \"state\": \"active\"\n",
      "    }\n",
      "  }\n",
      "}\n"
     ]
    }
   ],
   "source": [
    "custom_monitor_instance_details = wos_client.monitor_instances.get(custom_monitor_instance_id).result\n",
    "print(custom_monitor_instance_details)"
   ]
  },
  {
   "cell_type": "markdown",
   "metadata": {},
   "source": [
    "## Storing custom metrics"
   ]
  },
  {
   "cell_type": "code",
   "execution_count": 78,
   "metadata": {},
   "outputs": [
    {
     "name": "stdout",
     "output_type": "stream",
     "text": [
      "{\n",
      "  \"timestamp\": \"2020-07-20T10:29:59.519529Z\",\n",
      "  \"run_id\": \"11122223333111abc\",\n",
      "  \"metrics\": [\n",
      "    {\n",
      "      \"specificity\": 0.78,\n",
      "      \"sensitivity\": 0.67,\n",
      "      \"region\": \"us-south\"\n",
      "    }\n",
      "  ]\n",
      "}\n"
     ]
    }
   ],
   "source": [
    "from datetime import datetime, timezone, timedelta\n",
    "from ibm_watson_openscale.base_classes.watson_open_scale_v2 import MonitorMeasurementRequest\n",
    "custom_monitoring_run_id = \"11122223333111abc\"\n",
    "measurement_request = [MonitorMeasurementRequest(timestamp=datetime.now(timezone.utc), \n",
    "                                                 metrics=[{\"specificity\": 0.78, \"sensitivity\": 0.67, \"region\": \"us-south\"}], run_id=custom_monitoring_run_id)]\n",
    "print(measurement_request[0])"
   ]
  },
  {
   "cell_type": "code",
   "execution_count": 79,
   "metadata": {},
   "outputs": [
    {
     "name": "stdout",
     "output_type": "stream",
     "text": [
      "[{'measurement_id': '17af7d72-95c2-4793-96d0-07e07393383d', 'metrics': [{'region': 'us-south', 'sensitivity': 0.67, 'specificity': 0.78}], 'run_id': '11122223333111abc', 'timestamp': '2020-07-20T10:29:59.519529Z'}]\n"
     ]
    }
   ],
   "source": [
    "published_measurement_response = wos_client.monitor_instances.measurements.add(\n",
    "    monitor_instance_id=custom_monitor_instance_id,\n",
    "    monitor_measurement_request=measurement_request).result\n",
    "published_measurement_id = published_measurement_response[0][\"measurement_id\"]\n",
    "print(published_measurement_response)"
   ]
  },
  {
   "cell_type": "markdown",
   "metadata": {},
   "source": [
    "### List and get custom metrics"
   ]
  },
  {
   "cell_type": "code",
   "execution_count": 80,
   "metadata": {
    "scrolled": true
   },
   "outputs": [
    {
     "name": "stdout",
     "output_type": "stream",
     "text": [
      "{\n",
      "  \"metadata\": {\n",
      "    \"id\": \"17af7d72-95c2-4793-96d0-07e07393383d\",\n",
      "    \"crn\": \"crn:v1:bluemix:public:aiopenscale:us-south:a/d2c5c1830d2a6fc88d77c610c09bb1ed:9c72f0c0-6d24-4503-9fce-b31695f6c931:measurement:17af7d72-95c2-4793-96d0-07e07393383d\",\n",
      "    \"url\": \"/v2/monitor_instances/f0ac28dd-a67b-41dc-8f57-fae9ce2a506d/measurements/17af7d72-95c2-4793-96d0-07e07393383d\",\n",
      "    \"created_at\": \"2020-07-20T10:30:01.247000Z\",\n",
      "    \"created_by\": \"IBMid-50P0BSQW1S\"\n",
      "  },\n",
      "  \"entity\": {\n",
      "    \"timestamp\": \"2020-07-20T10:29:59.519529Z\",\n",
      "    \"run_id\": \"11122223333111abc\",\n",
      "    \"values\": [\n",
      "      {\n",
      "        \"metrics\": [\n",
      "          {\n",
      "            \"id\": \"sensitivity\",\n",
      "            \"value\": 0.67,\n",
      "            \"lower_limit\": 0.8\n",
      "          },\n",
      "          {\n",
      "            \"id\": \"specificity\",\n",
      "            \"value\": 0.78,\n",
      "            \"lower_limit\": 0.75\n",
      "          }\n",
      "        ],\n",
      "        \"tags\": [\n",
      "          {\n",
      "            \"id\": \"region\",\n",
      "            \"value\": \"us-south\"\n",
      "          }\n",
      "        ]\n",
      "      }\n",
      "    ],\n",
      "    \"issue_count\": 1,\n",
      "    \"target\": {\n",
      "      \"target_type\": \"subscription\",\n",
      "      \"target_id\": \"3d54d760-80f9-41a3-b746-fc23ba3f978e\"\n",
      "    },\n",
      "    \"monitor_instance_id\": \"f0ac28dd-a67b-41dc-8f57-fae9ce2a506d\",\n",
      "    \"monitor_definition_id\": \"my_model_performance\"\n",
      "  }\n",
      "}\n"
     ]
    }
   ],
   "source": [
    "time.sleep(5)\n",
    "published_measurement = wos_client.monitor_instances.measurements.get(monitor_instance_id=custom_monitor_instance_id, measurement_id=published_measurement_id).result\n",
    "print(published_measurement)"
   ]
  },
  {
   "cell_type": "markdown",
   "metadata": {},
   "source": [
    "## Insert historical fairness metrics"
   ]
  },
  {
   "cell_type": "code",
   "execution_count": 75,
   "metadata": {},
   "outputs": [
    {
     "name": "stdout",
     "output_type": "stream",
     "text": [
      "rm: cannot remove ‘history_fairness_v2.json’: No such file or directory\n",
      "-rw-r----- 1 dsxuser dsxuser 37K Aug 18 18:39 history_fairness_v2.json\n"
     ]
    }
   ],
   "source": [
    "!rm history_fairness_v2.json\n",
    "with io.capture_output() as captured:\n",
    "    !wget https://raw.githubusercontent.com/pmservice/ai-openscale-tutorials/master/assets/historical_data/german_credit_risk/wml/history_fairness_v2.json\n",
    "!ls -lh history_fairness_v2.json"
   ]
  },
  {
   "cell_type": "code",
   "execution_count": 73,
   "metadata": {},
   "outputs": [],
   "source": [
    "historyDays = 7"
   ]
  },
  {
   "cell_type": "code",
   "execution_count": 76,
   "metadata": {},
   "outputs": [
    {
     "name": "stdout",
     "output_type": "stream",
     "text": [
      "Loading day 1\n",
      "Loading day 2\n",
      "Loading day 3\n",
      "Loading day 4\n",
      "Loading day 5\n",
      "Loading day 6\n",
      "Loading day 7\n",
      "Finished\n"
     ]
    }
   ],
   "source": [
    "from datetime import datetime, timedelta, timezone\n",
    "\n",
    "with open('history_fairness_v2.json', 'r') as history_file:\n",
    "    payloads = json.load(history_file)\n",
    "\n",
    "for day in range(historyDays):\n",
    "    print('Loading day', day + 1)\n",
    "    daily_measurement_requests = []\n",
    "    \n",
    "    for hour in range(24):\n",
    "        score_time = datetime.now(timezone.utc) + timedelta(hours=(-(24*day + hour + 1)))\n",
    "        index = (day * 24 + hour) % len(payloads) # wrap around and reuse values if needed\n",
    " \n",
    "        measurement_request = MonitorMeasurementRequest(timestamp=score_time,metrics = [payloads[index][0], payloads[index][1]])\n",
    "        daily_measurement_requests.append(measurement_request)\n",
    "        \n",
    "        \n",
    "    response = wos_client.monitor_instances.measurements.add(\n",
    "                                            monitor_instance_id=fairness_monitor_instance_id,\n",
    "                                            monitor_measurement_request=daily_measurement_requests).result     \n",
    "print('Finished')"
   ]
  },
  {
   "cell_type": "markdown",
   "metadata": {},
   "source": [
    "## Insert historical debias metrics"
   ]
  },
  {
   "cell_type": "code",
   "execution_count": 77,
   "metadata": {},
   "outputs": [
    {
     "name": "stdout",
     "output_type": "stream",
     "text": [
      "rm: cannot remove ‘history_debias_v2.json’: No such file or directory\n",
      "-rw-r----- 1 dsxuser dsxuser 37K Aug 18 18:39 history_debias_v2.json\n"
     ]
    }
   ],
   "source": [
    "!rm history_debias_v2.json\n",
    "with io.capture_output() as captured:\n",
    "    !wget https://raw.githubusercontent.com/pmservice/ai-openscale-tutorials/master/assets/historical_data/german_credit_risk/wml/history_debias_v2.json\n",
    "!ls -lh history_debias_v2.json"
   ]
  },
  {
   "cell_type": "code",
   "execution_count": 78,
   "metadata": {},
   "outputs": [
    {
     "name": "stdout",
     "output_type": "stream",
     "text": [
      "Loading day 1\n",
      "Loading day 2\n",
      "Loading day 3\n",
      "Loading day 4\n",
      "Loading day 5\n",
      "Loading day 6\n",
      "Loading day 7\n",
      "Finished\n"
     ]
    }
   ],
   "source": [
    "with open('history_debias_v2.json', 'r') as history_file:\n",
    "    payloads = json.load(history_file)\n",
    "\n",
    "for day in range(historyDays):\n",
    "    print('Loading day', day + 1)\n",
    "    daily_measurement_requests = []\n",
    "    for hour in range(24):\n",
    "        score_time = datetime.now(timezone.utc) + timedelta(hours=(-(24*day + hour + 1)))\n",
    "        index = (day * 24 + hour) % len(payloads) # wrap around and reuse values if needed\n",
    "\n",
    "        measurement_request = MonitorMeasurementRequest(timestamp=score_time,metrics = [payloads[index][0], payloads[index][1]])\n",
    "        \n",
    "        daily_measurement_requests.append(measurement_request)\n",
    "        \n",
    "    response = wos_client.monitor_instances.measurements.add(\n",
    "                                            monitor_instance_id=fairness_monitor_instance_id,\n",
    "                                            monitor_measurement_request=daily_measurement_requests).result     \n",
    "\n",
    "print('Finished')"
   ]
  },
  {
   "cell_type": "markdown",
   "metadata": {},
   "source": [
    "## Insert historical quality metrics"
   ]
  },
  {
   "cell_type": "code",
   "execution_count": 79,
   "metadata": {
    "scrolled": true
   },
   "outputs": [
    {
     "name": "stdout",
     "output_type": "stream",
     "text": [
      "Loading day 1\n",
      "Loading day 2\n",
      "Loading day 3\n",
      "Loading day 4\n",
      "Loading day 5\n",
      "Loading day 6\n",
      "Loading day 7\n",
      "Finished\n"
     ]
    }
   ],
   "source": [
    "measurements = [0.76, 0.78, 0.68, 0.72, 0.73, 0.77, 0.80]\n",
    "for day in range(historyDays):\n",
    "    quality_measurement_requests = []\n",
    "    print('Loading day', day + 1)\n",
    "    for hour in range(24):\n",
    "        score_time = datetime.utcnow() + timedelta(hours=(-(24*day + hour + 1)))\n",
    "        score_time = score_time.isoformat() + \"Z\"\n",
    "        \n",
    "        metric = {\"area_under_roc\": measurements[day]}\n",
    "                \n",
    "        measurement_request = MonitorMeasurementRequest(timestamp=score_time,metrics = [metric])\n",
    "        quality_measurement_requests.append(measurement_request)\n",
    "        \n",
    "        \n",
    "    response = wos_client.monitor_instances.measurements.add(\n",
    "                                            monitor_instance_id=quality_monitor_instance_id,\n",
    "                                            monitor_measurement_request=quality_measurement_requests).result    \n",
    "    \n",
    "print('Finished')"
   ]
  },
  {
   "cell_type": "markdown",
   "metadata": {},
   "source": [
    "## Insert historical confusion matrixes"
   ]
  },
  {
   "cell_type": "code",
   "execution_count": 80,
   "metadata": {},
   "outputs": [
    {
     "name": "stdout",
     "output_type": "stream",
     "text": [
      "rm: cannot remove ‘history_quality_metrics.json’: No such file or directory\n",
      "-rw-r----- 1 dsxuser dsxuser 79K Aug 18 18:39 history_quality_metrics.json\n"
     ]
    }
   ],
   "source": [
    "!rm history_quality_metrics.json\n",
    "with io.capture_output() as captured:\n",
    "    !wget https://raw.githubusercontent.com/pmservice/ai-openscale-tutorials/master/assets/historical_data/german_credit_risk/wml/history_quality_metrics.json\n",
    "!ls -lh history_quality_metrics.json"
   ]
  },
  {
   "cell_type": "code",
   "execution_count": 81,
   "metadata": {},
   "outputs": [
    {
     "name": "stdout",
     "output_type": "stream",
     "text": [
      "Loading day 1\n",
      "Loading day 2\n",
      "Loading day 3\n",
      "Loading day 4\n",
      "Loading day 5\n",
      "Loading day 6\n",
      "Loading day 7\n",
      "Finished\n"
     ]
    }
   ],
   "source": [
    "from ibm_watson_openscale.base_classes.watson_open_scale_v2 import Source\n",
    "\n",
    "with open('history_quality_metrics.json') as json_file:\n",
    "    records = json.load(json_file)\n",
    "    \n",
    "for day in range(historyDays):\n",
    "    index = 0\n",
    "    cm_measurement_requests = []\n",
    "    print('Loading day', day + 1)\n",
    "    \n",
    "    for hour in range(24):\n",
    "        score_time = datetime.utcnow() + timedelta(hours=(-(24*day + hour + 1)))\n",
    "        score_time = score_time.isoformat() + \"Z\"\n",
    "\n",
    "        metric = records[index]['metrics']\n",
    "        source = records[index]['sources']\n",
    "\n",
    "        \n",
    "        measurement_request = {\"timestamp\": score_time, \"metrics\": [metric], \"sources\": [source]}\n",
    "        cm_measurement_requests.append(measurement_request)\n",
    "\n",
    "        index+=1\n",
    "\n",
    "    response = wos_client.monitor_instances.measurements.add(monitor_instance_id=quality_monitor_instance_id, monitor_measurement_request=cm_measurement_requests).result    \n",
    "\n",
    "print('Finished')"
   ]
  },
  {
   "cell_type": "markdown",
   "metadata": {},
   "source": [
    "## Insert historical performance metrics"
   ]
  },
  {
   "cell_type": "code",
   "execution_count": 82,
   "metadata": {},
   "outputs": [
    {
     "name": "stdout",
     "output_type": "stream",
     "text": [
      "\n",
      "\n",
      "===================================================================================\n",
      "\n",
      " Waiting for end of monitor instance creation 84c994f6-132a-4ea0-9794-4ffbdeda5e1c \n",
      "\n",
      "===================================================================================\n",
      "\n",
      "\n",
      "\n",
      "active\n",
      "\n",
      "---------------------------------------\n",
      " Monitor instance successfully created \n",
      "---------------------------------------\n",
      "\n",
      "\n"
     ]
    }
   ],
   "source": [
    "target = Target(\n",
    "        target_type=TargetTypes.INSTANCE,\n",
    "        target_id=payload_data_set_id\n",
    "    )\n",
    "\n",
    "\n",
    "performance_monitor_instance_details = wos_client.monitor_instances.create(\n",
    "            data_mart_id=data_mart_id,\n",
    "            background_mode=False,\n",
    "            monitor_definition_id=wos_client.monitor_definitions.MONITORS.PERFORMANCE.ID,\n",
    "            target=target\n",
    ").result\n",
    "performance_monitor_instance_id = performance_monitor_instance_details.metadata.id\n"
   ]
  },
  {
   "cell_type": "code",
   "execution_count": 83,
   "metadata": {},
   "outputs": [
    {
     "name": "stdout",
     "output_type": "stream",
     "text": [
      "Loading day 1\n",
      "Loading day 2\n",
      "Loading day 3\n",
      "Loading day 4\n",
      "Loading day 5\n",
      "Loading day 6\n",
      "Loading day 7\n",
      "Finished\n"
     ]
    }
   ],
   "source": [
    "for day in range(historyDays):\n",
    "    performance_measurement_requests = []\n",
    "    print('Loading day', day + 1)\n",
    "    for hour in range(24):\n",
    "        score_time = datetime.utcnow() + timedelta(hours=(-(24*day + hour + 1)))\n",
    "        score_time = score_time.isoformat() + \"Z\"\n",
    "        score_count = random.randint(60, 600)\n",
    "        \n",
    "        metric = {\"record_count\": score_count, \"data_set_type\": \"scoring_payload\"}\n",
    "        \n",
    "        measurement_request = {\"timestamp\": score_time, \"metrics\": [metric]}\n",
    "        performance_measurement_requests.append(measurement_request)\n",
    "        \n",
    "    response = wos_client.monitor_instances.measurements.add(\n",
    "                                            monitor_instance_id=performance_monitor_instance_id,\n",
    "                                            monitor_measurement_request=performance_measurement_requests).result    \n",
    "\n",
    "print('Finished')"
   ]
  },
  {
   "cell_type": "markdown",
   "metadata": {},
   "source": [
    "## Insert historical drift measurements"
   ]
  },
  {
   "cell_type": "code",
   "execution_count": 84,
   "metadata": {},
   "outputs": [
    {
     "name": "stdout",
     "output_type": "stream",
     "text": [
      "rm: cannot remove ‘history_drift_measurement_0.json’: No such file or directory\n",
      "rm: cannot remove ‘history_drift_measurement_1.json’: No such file or directory\n",
      "rm: cannot remove ‘history_drift_measurement_2.json’: No such file or directory\n",
      "rm: cannot remove ‘history_drift_measurement_3.json’: No such file or directory\n",
      "rm: cannot remove ‘history_drift_measurement_4.json’: No such file or directory\n",
      "rm: cannot remove ‘history_drift_measurement_5.json’: No such file or directory\n",
      "rm: cannot remove ‘history_drift_measurement_6.json’: No such file or directory\n",
      "-rw-r----- 1 dsxuser dsxuser 832K Aug 18 18:40 history_drift_measurement_0.json\n"
     ]
    }
   ],
   "source": [
    "!rm history_drift_measurement_0.json\n",
    "with io.capture_output() as captured_0:\n",
    "    !wget https://raw.githubusercontent.com/pmservice/ai-openscale-tutorials/master/assets/historical_data/german_credit_risk/wos/history_drift_measurement_0.json\n",
    "!rm history_drift_measurement_1.json\n",
    "with io.capture_output() as captured_1:\n",
    "    !wget https://raw.githubusercontent.com/pmservice/ai-openscale-tutorials/master/assets/historical_data/german_credit_risk/wos/history_drift_measurement_1.json\n",
    "!rm history_drift_measurement_2.json\n",
    "with io.capture_output() as captured_2:\n",
    "    !wget https://raw.githubusercontent.com/pmservice/ai-openscale-tutorials/master/assets/historical_data/german_credit_risk/wos/history_drift_measurement_2.json\n",
    "!rm history_drift_measurement_3.json\n",
    "with io.capture_output() as captured_3:\n",
    "    !wget https://raw.githubusercontent.com/pmservice/ai-openscale-tutorials/master/assets/historical_data/german_credit_risk/wos/history_drift_measurement_3.json\n",
    "!rm history_drift_measurement_4.json\n",
    "with io.capture_output() as captured_4:\n",
    "    !wget https://raw.githubusercontent.com/pmservice/ai-openscale-tutorials/master/assets/historical_data/german_credit_risk/wos/history_drift_measurement_4.json\n",
    "!rm history_drift_measurement_5.json\n",
    "with io.capture_output() as captured_5:\n",
    "    !wget https://raw.githubusercontent.com/pmservice/ai-openscale-tutorials/master/assets/historical_data/german_credit_risk/wos/history_drift_measurement_5.json\n",
    "!rm history_drift_measurement_6.json\n",
    "with io.capture_output() as captured_6:\n",
    "    !wget https://raw.githubusercontent.com/pmservice/ai-openscale-tutorials/master/assets/historical_data/german_credit_risk/wos/history_drift_measurement_6.json\n",
    "!ls -lh history_drift_measurement_0.json"
   ]
  },
  {
   "cell_type": "code",
   "execution_count": 85,
   "metadata": {},
   "outputs": [
    {
     "name": "stdout",
     "output_type": "stream",
     "text": [
      "Loading day 1\n",
      "Daily loading finished.\n",
      "Loading day 2\n",
      "Daily loading finished.\n",
      "Loading day 3\n",
      "Daily loading finished.\n",
      "Loading day 4\n",
      "Daily loading finished.\n",
      "Loading day 5\n",
      "Daily loading finished.\n",
      "Loading day 6\n",
      "Daily loading finished.\n",
      "Loading day 7\n",
      "Daily loading finished.\n"
     ]
    }
   ],
   "source": [
    "for day in range(historyDays):\n",
    "    drift_measurements = []\n",
    "\n",
    "    with open(\"history_drift_measurement_{}.json\".format(day), 'r') as history_file:\n",
    "        drift_daily_measurements = json.load(history_file)\n",
    "    print('Loading day', day + 1)\n",
    "\n",
    "    #Historical data contains 8 records per day - each represents 3 hour drift window.\n",
    "    \n",
    "    for nb_window, records in enumerate(drift_daily_measurements):\n",
    "        for record in records:\n",
    "            window_start =  datetime.utcnow() + timedelta(hours=(-(24 * day + (nb_window+1)*3 + 1))) # first_payload_record_timestamp_in_window (oldest)\n",
    "            window_end = datetime.utcnow() + timedelta(hours=(-(24 * day + nb_window*3 + 1)))# last_payload_record_timestamp_in_window (most recent)\n",
    "            #modify start and end time for each record\n",
    "            record['sources'][0]['data']['start'] = window_start.isoformat() + \"Z\"\n",
    "            record['sources'][0]['data']['end'] = window_end.isoformat() + \"Z\"\n",
    "            \n",
    "            \n",
    "            metric = record['metrics'][0]\n",
    "            source = record['sources'][0]\n",
    "\n",
    "            measurement_request = {\"timestamp\": window_start.isoformat() + \"Z\", \"metrics\": [metric], \"sources\": [source]}\n",
    "            \n",
    "            drift_measurements.append(measurement_request)\n",
    "        \n",
    "    response = wos_client.monitor_instances.measurements.add(\n",
    "                                            monitor_instance_id=drift_monitor_instance_id,\n",
    "                                            monitor_measurement_request=drift_measurements).result    \n",
    "\n",
    "    \n",
    "    print(\"Daily loading finished.\")"
   ]
  },
  {
   "cell_type": "markdown",
   "metadata": {},
   "source": [
    "## Additional data to help debugging"
   ]
  },
  {
   "cell_type": "code",
   "execution_count": 86,
   "metadata": {
    "scrolled": true
   },
   "outputs": [
    {
     "name": "stdout",
     "output_type": "stream",
     "text": [
      "Datamart: 5a0b9076-fcf6-49e8-a824-9e3a6b4c2a56\n",
      "Model: c3fbb6ba-1dcb-4aa4-9073-2c0f32d7451c\n",
      "Deployment: d9df97da-38aa-4a2f-b4af-4daa0f4e1ff4\n",
      "Scoring URL: https://us-south.ml.cloud.ibm.com/v3/wml_instances/fa2ef988-b919-468b-a05b-2a3c9df845d5/deployments/d9df97da-38aa-4a2f-b4af-4daa0f4e1ff4/online\n"
     ]
    }
   ],
   "source": [
    "print('Datamart:', data_mart_id)\n",
    "print('Model:', model_uid)\n",
    "print('Deployment:', deployment_uid)\n",
    "print('Scoring URL:', credit_risk_scoring_endpoint)"
   ]
  },
  {
   "cell_type": "markdown",
   "metadata": {},
   "source": [
    "## Identify transactions for Explainability"
   ]
  },
  {
   "cell_type": "markdown",
   "metadata": {},
   "source": [
    "Transaction IDs identified by the cells below can be copied and pasted into the Explainability tab of the OpenScale dashboard."
   ]
  },
  {
   "cell_type": "code",
   "execution_count": 93,
   "metadata": {},
   "outputs": [
    {
     "data": {
      "text/html": [
       "<HTML>\n",
       "        <body>\n",
       "            <h3>Data Set c8628b02-8db5-433a-8860-e906b6199bf6 Records</h3>\n",
       "            <table style='border: 1px solid #dddddd; font-family: Courier'>\n",
       "                <th style='border: 1px solid #dddddd'>asset_revision</th><th style='border: 1px solid #dddddd'>debiased_probability</th><th style='border: 1px solid #dddddd'>LoanAmount</th><th style='border: 1px solid #dddddd'>scoring_id</th><th style='border: 1px solid #dddddd'>InstallmentPercent</th><th style='border: 1px solid #dddddd'>ExistingSavings</th><th style='border: 1px solid #dddddd'>scoring_timestamp</th><th style='border: 1px solid #dddddd'>prediction_probability</th><th style='border: 1px solid #dddddd'>ProbabilityVector</th><th style='border: 1px solid #dddddd'>CheckingStatus</th><th style='border: 1px solid #dddddd'>LoanPurpose</th><th style='border: 1px solid #dddddd'>prediction</th><th style='border: 1px solid #dddddd'>Job</th><th style='border: 1px solid #dddddd'>InstallmentPlans</th><th style='border: 1px solid #dddddd'>OthersOnLoan</th><th style='border: 1px solid #dddddd'>LoanDuration</th><th style='border: 1px solid #dddddd'>Age</th><th style='border: 1px solid #dddddd'>CreditHistory</th><th style='border: 1px solid #dddddd'>CurrentResidenceDuration</th><th style='border: 1px solid #dddddd'>ForeignWorker</th><th style='border: 1px solid #dddddd'>Housing</th><th style='border: 1px solid #dddddd'>ExistingCreditsCount</th><th style='border: 1px solid #dddddd'>deployment_id</th><th style='border: 1px solid #dddddd'>Telephone</th><th style='border: 1px solid #dddddd'>Sex</th><th style='border: 1px solid #dddddd'>Dependents</th><th style='border: 1px solid #dddddd'>OwnsProperty</th><th style='border: 1px solid #dddddd'>EmploymentDuration</th><th style='border: 1px solid #dddddd'>debiased_prediction</th><th style='border: 1px solid #dddddd'>probability</th>\n",
       "                <tr><td style='border: 1px solid #dddddd'>c5df6bf4-dbe0-4a75-8896-89e18e62f4d0</td><td style='border: 1px solid #dddddd'>[0.9623357543734388, 0.03766424562656128]</td><td style='border: 1px solid #dddddd'>1344</td><td style='border: 1px solid #dddddd'>ac2d1d427658e5881c5f8b3a8f361c69-1</td><td style='border: 1px solid #dddddd'>3</td><td style='border: 1px solid #dddddd'>less_100</td><td style='border: 1px solid #dddddd'>2020-07-20T10:28:16.119712Z</td><td style='border: 1px solid #dddddd'>0.9623357543734388</td><td style='border: 1px solid #dddddd'>None</td><td style='border: 1px solid #dddddd'>less_0</td><td style='border: 1px solid #dddddd'>business</td><td style='border: 1px solid #dddddd'>No Risk</td><td style='border: 1px solid #dddddd'>unemployed</td><td style='border: 1px solid #dddddd'>bank</td><td style='border: 1px solid #dddddd'>none</td><td style='border: 1px solid #dddddd'>25</td><td style='border: 1px solid #dddddd'>19</td><td style='border: 1px solid #dddddd'>prior_payments_delayed</td><td style='border: 1px solid #dddddd'>2</td><td style='border: 1px solid #dddddd'>yes</td><td style='border: 1px solid #dddddd'>own</td><td style='border: 1px solid #dddddd'>1</td><td style='border: 1px solid #dddddd'>55a4c90d-916f-4339-8a23-9ba18fbe70e7</td><td style='border: 1px solid #dddddd'>none</td><td style='border: 1px solid #dddddd'>male</td><td style='border: 1px solid #dddddd'>1</td><td style='border: 1px solid #dddddd'>car_other</td><td style='border: 1px solid #dddddd'>1_to_4</td><td style='border: 1px solid #dddddd'>No Risk</td><td style='border: 1px solid #dddddd'>[0.9623357543734388, 0.03766424562656128]</td></tr><tr><td style='border: 1px solid #dddddd'>c5df6bf4-dbe0-4a75-8896-89e18e62f4d0</td><td style='border: 1px solid #dddddd'>[0.46661053524400775, 0.5333894647559922]</td><td style='border: 1px solid #dddddd'>4920</td><td style='border: 1px solid #dddddd'>ac2d1d427658e5881c5f8b3a8f361c69-10</td><td style='border: 1px solid #dddddd'>4</td><td style='border: 1px solid #dddddd'>greater_1000</td><td style='border: 1px solid #dddddd'>2020-07-20T10:28:16.119712Z</td><td style='border: 1px solid #dddddd'>0.5333894647559922</td><td style='border: 1px solid #dddddd'>None</td><td style='border: 1px solid #dddddd'>no_checking</td><td style='border: 1px solid #dddddd'>furniture</td><td style='border: 1px solid #dddddd'>Risk</td><td style='border: 1px solid #dddddd'>skilled</td><td style='border: 1px solid #dddddd'>none</td><td style='border: 1px solid #dddddd'>none</td><td style='border: 1px solid #dddddd'>26</td><td style='border: 1px solid #dddddd'>46</td><td style='border: 1px solid #dddddd'>prior_payments_delayed</td><td style='border: 1px solid #dddddd'>3</td><td style='border: 1px solid #dddddd'>yes</td><td style='border: 1px solid #dddddd'>own</td><td style='border: 1px solid #dddddd'>3</td><td style='border: 1px solid #dddddd'>55a4c90d-916f-4339-8a23-9ba18fbe70e7</td><td style='border: 1px solid #dddddd'>yes</td><td style='border: 1px solid #dddddd'>male</td><td style='border: 1px solid #dddddd'>2</td><td style='border: 1px solid #dddddd'>savings_insurance</td><td style='border: 1px solid #dddddd'>4_to_7</td><td style='border: 1px solid #dddddd'>Risk</td><td style='border: 1px solid #dddddd'>[0.46661053524400775, 0.5333894647559922]</td></tr><tr><td style='border: 1px solid #dddddd'>c5df6bf4-dbe0-4a75-8896-89e18e62f4d0</td><td style='border: 1px solid #dddddd'>[0.7004603633710788, 0.29953963662892125]</td><td style='border: 1px solid #dddddd'>6486</td><td style='border: 1px solid #dddddd'>ac2d1d427658e5881c5f8b3a8f361c69-100</td><td style='border: 1px solid #dddddd'>3</td><td style='border: 1px solid #dddddd'>500_to_1000</td><td style='border: 1px solid #dddddd'>2020-07-20T10:28:16.119712Z</td><td style='border: 1px solid #dddddd'>0.7004603633710788</td><td style='border: 1px solid #dddddd'>None</td><td style='border: 1px solid #dddddd'>no_checking</td><td style='border: 1px solid #dddddd'>repairs</td><td style='border: 1px solid #dddddd'>No Risk</td><td style='border: 1px solid #dddddd'>unemployed</td><td style='border: 1px solid #dddddd'>bank</td><td style='border: 1px solid #dddddd'>none</td><td style='border: 1px solid #dddddd'>44</td><td style='border: 1px solid #dddddd'>53</td><td style='border: 1px solid #dddddd'>prior_payments_delayed</td><td style='border: 1px solid #dddddd'>4</td><td style='border: 1px solid #dddddd'>yes</td><td style='border: 1px solid #dddddd'>rent</td><td style='border: 1px solid #dddddd'>1</td><td style='border: 1px solid #dddddd'>55a4c90d-916f-4339-8a23-9ba18fbe70e7</td><td style='border: 1px solid #dddddd'>none</td><td style='border: 1px solid #dddddd'>female</td><td style='border: 1px solid #dddddd'>1</td><td style='border: 1px solid #dddddd'>car_other</td><td style='border: 1px solid #dddddd'>1_to_4</td><td style='border: 1px solid #dddddd'>No Risk</td><td style='border: 1px solid #dddddd'>[0.7004603633710788, 0.29953963662892125]</td></tr><tr><td style='border: 1px solid #dddddd'>c5df6bf4-dbe0-4a75-8896-89e18e62f4d0</td><td style='border: 1px solid #dddddd'>[0.7109586027107817, 0.28904139728921824]</td><td style='border: 1px solid #dddddd'>3516</td><td style='border: 1px solid #dddddd'>ac2d1d427658e5881c5f8b3a8f361c69-101</td><td style='border: 1px solid #dddddd'>4</td><td style='border: 1px solid #dddddd'>less_100</td><td style='border: 1px solid #dddddd'>2020-07-20T10:28:16.119712Z</td><td style='border: 1px solid #dddddd'>0.7109586027107817</td><td style='border: 1px solid #dddddd'>None</td><td style='border: 1px solid #dddddd'>0_to_200</td><td style='border: 1px solid #dddddd'>furniture</td><td style='border: 1px solid #dddddd'>No Risk</td><td style='border: 1px solid #dddddd'>skilled</td><td style='border: 1px solid #dddddd'>none</td><td style='border: 1px solid #dddddd'>none</td><td style='border: 1px solid #dddddd'>28</td><td style='border: 1px solid #dddddd'>33</td><td style='border: 1px solid #dddddd'>credits_paid_to_date</td><td style='border: 1px solid #dddddd'>3</td><td style='border: 1px solid #dddddd'>yes</td><td style='border: 1px solid #dddddd'>own</td><td style='border: 1px solid #dddddd'>2</td><td style='border: 1px solid #dddddd'>55a4c90d-916f-4339-8a23-9ba18fbe70e7</td><td style='border: 1px solid #dddddd'>none</td><td style='border: 1px solid #dddddd'>female</td><td style='border: 1px solid #dddddd'>1</td><td style='border: 1px solid #dddddd'>savings_insurance</td><td style='border: 1px solid #dddddd'>4_to_7</td><td style='border: 1px solid #dddddd'>No Risk</td><td style='border: 1px solid #dddddd'>[0.7109586027107817, 0.28904139728921824]</td></tr><tr><td style='border: 1px solid #dddddd'>c5df6bf4-dbe0-4a75-8896-89e18e62f4d0</td><td style='border: 1px solid #dddddd'>[0.9832902168115192, 0.01670978318848079]</td><td style='border: 1px solid #dddddd'>250</td><td style='border: 1px solid #dddddd'>ac2d1d427658e5881c5f8b3a8f361c69-102</td><td style='border: 1px solid #dddddd'>1</td><td style='border: 1px solid #dddddd'>less_100</td><td style='border: 1px solid #dddddd'>2020-07-20T10:28:16.119712Z</td><td style='border: 1px solid #dddddd'>0.9832902168115192</td><td style='border: 1px solid #dddddd'>None</td><td style='border: 1px solid #dddddd'>0_to_200</td><td style='border: 1px solid #dddddd'>car_new</td><td style='border: 1px solid #dddddd'>No Risk</td><td style='border: 1px solid #dddddd'>skilled</td><td style='border: 1px solid #dddddd'>none</td><td style='border: 1px solid #dddddd'>none</td><td style='border: 1px solid #dddddd'>8</td><td style='border: 1px solid #dddddd'>19</td><td style='border: 1px solid #dddddd'>all_credits_paid_back</td><td style='border: 1px solid #dddddd'>2</td><td style='border: 1px solid #dddddd'>yes</td><td style='border: 1px solid #dddddd'>rent</td><td style='border: 1px solid #dddddd'>1</td><td style='border: 1px solid #dddddd'>55a4c90d-916f-4339-8a23-9ba18fbe70e7</td><td style='border: 1px solid #dddddd'>none</td><td style='border: 1px solid #dddddd'>male</td><td style='border: 1px solid #dddddd'>1</td><td style='border: 1px solid #dddddd'>real_estate</td><td style='border: 1px solid #dddddd'>less_1</td><td style='border: 1px solid #dddddd'>No Risk</td><td style='border: 1px solid #dddddd'>[0.9832902168115192, 0.01670978318848079]</td></tr>\n",
       "            </table>\n",
       "        </body>\n",
       "        </HTML>"
      ],
      "text/plain": [
       "<IPython.core.display.HTML object>"
      ]
     },
     "metadata": {},
     "output_type": "display_data"
    }
   ],
   "source": [
    "wos_client.data_sets.show_records(payload_data_set_id, limit=5)"
   ]
  },
  {
   "cell_type": "markdown",
   "metadata": {},
   "source": [
    "## Congratulations!\n",
    "\n",
    "You have finished the hands-on lab for IBM Watson OpenScale. You can now view the [OpenScale Dashboard](https://aiopenscale.cloud.ibm.com/). Click on the tile for the German Credit model to see fairness, accuracy, and performance monitors. Click on the timeseries graph to get detailed information on transactions during a specific time window.\n",
    "\n",
    "## Next steps\n",
    "\n",
    "OpenScale shows model performance over time. You have two options to keep data flowing to your OpenScale graphs:\n",
    "  * Download, configure and schedule the [model feed notebook](https://raw.githubusercontent.com/emartensibm/german-credit/master/german_credit_scoring_feed.ipynb). This notebook can be set up with your WML credentials, and scheduled to provide a consistent flow of scoring requests to your model, which will appear in your OpenScale monitors.\n",
    "  * Re-run this notebook. Running this notebook from the beginning will delete and re-create the model and deployment, and re-create the historical data. Please note that the payload and measurement logs for the previous deployment will continue to be stored in your datamart, and can be deleted if necessary."
   ]
  }
 ],
 "metadata": {
  "kernelspec": {
   "display_name": "Python 3",
   "language": "python",
   "name": "python3"
  },
  "language_info": {
   "codemirror_mode": {
    "name": "ipython",
    "version": 3
   },
   "file_extension": ".py",
   "mimetype": "text/x-python",
   "name": "python",
   "nbconvert_exporter": "python",
   "pygments_lexer": "ipython3",
   "version": "3.7.3"
  },
  "varInspector": {
   "cols": {
    "lenName": 16,
    "lenType": 16,
    "lenVar": 40
   },
   "kernels_config": {
    "python": {
     "delete_cmd_postfix": "",
     "delete_cmd_prefix": "del ",
     "library": "var_list.py",
     "varRefreshCmd": "print(var_dic_list())"
    },
    "r": {
     "delete_cmd_postfix": ") ",
     "delete_cmd_prefix": "rm(",
     "library": "var_list.r",
     "varRefreshCmd": "cat(var_dic_list()) "
    }
   },
   "types_to_exclude": [
    "module",
    "function",
    "builtin_function_or_method",
    "instance",
    "_Feature"
   ],
   "window_display": false
  }
 },
 "nbformat": 4,
 "nbformat_minor": 1
}
