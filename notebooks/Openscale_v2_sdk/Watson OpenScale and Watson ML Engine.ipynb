{
 "cells": [
  {
   "cell_type": "markdown",
   "metadata": {},
   "source": [
    "<img src=\"https://github.com/pmservice/ai-openscale-tutorials/raw/master/notebooks/images/banner.png\" align=\"left\" alt=\"banner\">"
   ]
  },
  {
   "cell_type": "markdown",
   "metadata": {},
   "source": [
    "# Working with Watson Machine Learning"
   ]
  },
  {
   "cell_type": "markdown",
   "metadata": {},
   "source": [
    "This notebook should be run in a Watson Studio project, using **Default Spark Python** runtime environment. **If you are viewing this in Watson Studio and do not see Python 3.6 with Spark in the upper right corner of your screen, please update the runtime now.** It requires service credentials for the following Cloud services:\n",
    "  * Watson OpenScale\n",
    "  * Watson Machine Learning\n",
    "  \n",
    "If you have a paid Cloud account, you may also provision a **Databases for PostgreSQL** or **Db2 Warehouse** service to take full advantage of integration with Watson Studio and continuous learning services. If you choose not to provision this paid service, you can use the free internal PostgreSQL storage with OpenScale, but will not be able to configure continuous learning for your model.\n",
    "\n",
    "The notebook will train, create and deploy a German Credit Risk model, configure OpenScale to monitor that deployment, and inject seven days' worth of historical records and measurements for viewing in the OpenScale Insights dashboard."
   ]
  },
  {
   "cell_type": "markdown",
   "metadata": {},
   "source": [
    "### Contents\n",
    "\n",
    "- [Setup](#setup)\n",
    "- [Model building and deployment](#model)\n",
    "- [OpenScale configuration](#openscale)\n",
    "- [Quality monitor and feedback logging](#quality)\n",
    "- [Fairness, drift monitoring and explanations](#fairness)\n",
    "- [Custom monitors and metrics](#custom)\n",
    "- [Historical data](#historical)"
   ]
  },
  {
   "cell_type": "markdown",
   "metadata": {},
   "source": [
    "### Note: Sample using most latest openscale V2 client from test pypi and will be changed to production release once available. It does not cover followings aspects for now:\n",
    "\n",
    "- Historical payload logging \n",
    "- Historical manual labeling"
   ]
  },
  {
   "cell_type": "markdown",
   "metadata": {},
   "source": [
    "# Setup <a name=\"setup\"></a>"
   ]
  },
  {
   "cell_type": "markdown",
   "metadata": {},
   "source": [
    "## Spark check"
   ]
  },
  {
   "cell_type": "code",
   "execution_count": null,
   "metadata": {},
   "outputs": [],
   "source": [
    "!pip install pyspark==2.3.0 --no-cache | tail -n 1"
   ]
  },
  {
   "cell_type": "code",
   "execution_count": 1,
   "metadata": {},
   "outputs": [],
   "source": [
    "try:\n",
    "    from pyspark.sql import SparkSession\n",
    "except:\n",
    "    print('Error: Spark runtime is missing. If you are using Watson Studio change the notebook runtime to Spark.')\n",
    "    raise "
   ]
  },
  {
   "cell_type": "markdown",
   "metadata": {
    "collapsed": true
   },
   "source": [
    "## Package installation"
   ]
  },
  {
   "cell_type": "code",
   "execution_count": 3,
   "metadata": {},
   "outputs": [],
   "source": [
    "import warnings\n",
    "warnings.filterwarnings('ignore')"
   ]
  },
  {
   "cell_type": "code",
   "execution_count": 1,
   "metadata": {
    "scrolled": false
   },
   "outputs": [
    {
     "name": "stdout",
     "output_type": "stream",
     "text": [
      "Requirement already satisfied: numpy>=1.15.4 in /opt/conda/envs/Python36/lib/python3.6/site-packages (from pandas>=0.25.3->ibm-watson-openscale) (1.16.4)\n",
      "Requirement already satisfied, skipping upgrade: jmespath<1.0.0,>=0.7.1 in /opt/conda/envs/Python36/lib/python3.6/site-packages (from ibm-cos-sdk-core==2.*,>=2.0.0->ibm-cos-sdk->watson-machine-learning-client) (0.9.3)\n",
      "Requirement already satisfied: numpy==1.16.4 in /opt/conda/envs/Python36/lib/python3.6/site-packages (1.16.4)\n",
      "Requirement already satisfied: SciPy in /opt/conda/envs/Python36/lib/python3.6/site-packages (1.2.0)\n",
      "Requirement already satisfied: toolz>=0.7.3; extra == \"array\" in /opt/conda/envs/Python36/lib/python3.6/site-packages (from dask[array]>=0.9.0->scikit-image>=0.12->lime) (0.9.0)\n",
      "Requirement already satisfied: py4j==0.10.6 in /opt/conda/envs/Python36/lib/python3.6/site-packages (from pyspark==2.3.0) (0.10.6)\n"
     ]
    }
   ],
   "source": [
    "!rm -rf /home/spark/shared/user-libs/python3.6*\n",
    "\n",
    "!pip install --upgrade pandas==0.25.3 --no-cache | tail -n 1\n",
    "!pip install --upgrade requests==2.23 --no-cache | tail -n 1\n",
    "!pip install numpy==1.16.4 --no-cache | tail -n 1\n",
    "!pip install SciPy --no-cache | tail -n 1\n",
    "!pip install lime --no-cache | tail -n 1\n",
    "\n",
    "!pip install --upgrade watson-machine-learning-client | tail -n 1\n",
    "!pip install ibm-cloud-sdk-core --no-cache | tail -n 1\n",
    "!pip install ibm-watson-openscale --extra-index-url https://test.pypi.org/simple/ --no-cache | tail -n 1\n",
    "#!pip install ibm-watson-openscale --no-cache | tail -n 1"
   ]
  },
  {
   "cell_type": "code",
   "execution_count": 3,
   "metadata": {},
   "outputs": [
    {
     "name": "stdout",
     "output_type": "stream",
     "text": [
      "Name: ibm-watson-openscale\r\n",
      "Version: 3.0.0.17\r\n",
      "Summary: Client library for IBM Watson OpenScale\r\n",
      "Home-page: https://github.ibm.com/watson-developer-cloud/openscale-python-sdk\r\n",
      "Author: IBM Watson\r\n",
      "Author-email: watdevex@us.ibm.com\r\n",
      "License: Apache 2.0\r\n",
      "Location: /opt/conda/envs/Python36/lib/python3.6/site-packages\r\n",
      "Requires: requests, python-dateutil, ibm-cloud-sdk-core, pandas\r\n",
      "Required-by: \r\n"
     ]
    }
   ],
   "source": [
    "!pip show ibm-watson-openscale"
   ]
  },
  {
   "cell_type": "markdown",
   "metadata": {},
   "source": [
    "## Provision services and configure credentials"
   ]
  },
  {
   "cell_type": "markdown",
   "metadata": {},
   "source": [
    "If you have not already, provision an instance of IBM Watson OpenScale using the [OpenScale link in the Cloud catalog](https://cloud.ibm.com/catalog/services/watson-openscale)."
   ]
  },
  {
   "cell_type": "markdown",
   "metadata": {},
   "source": [
    "Your Cloud API key can be generated by going to the [**Users** section of the Cloud console](https://cloud.ibm.com/iam#/users). From that page, click your name, scroll down to the **API Keys** section, and click **Create an IBM Cloud API key**. Give your key a name and click **Create**, then copy the created key and paste it below."
   ]
  },
  {
   "cell_type": "markdown",
   "metadata": {},
   "source": [
    "**NOTE:** You can also get OpenScale `API_KEY` using IBM CLOUD CLI.\n",
    "\n",
    "How to install IBM Cloud (bluemix) console: [instruction](https://console.bluemix.net/docs/cli/reference/ibmcloud/download_cli.html#install_use)\n",
    "\n",
    "How to get api key using console:\n",
    "```\n",
    "bx login --sso\n",
    "bx iam api-key-create 'my_key'\n",
    "```"
   ]
  },
  {
   "cell_type": "code",
   "execution_count": 5,
   "metadata": {
    "scrolled": true
   },
   "outputs": [],
   "source": [
    "CLOUD_API_KEY = \"***\""
   ]
  },
  {
   "cell_type": "markdown",
   "metadata": {},
   "source": [
    "Next you will need credentials for Watson Machine Learning. If you already have a WML instance, you may use credentials for it. To provision a new Lite instance of WML, use the [Cloud catalog](https://cloud.ibm.com/catalog/services/machine-learning), give your service a name, and click **Create**. Once your instance is created, click the **Service Credentials** link on the left side of the screen. Click the **New credential** button, give your credentials a name, and click **Add**. Your new credentials can be accessed by clicking the **View credentials** button. Copy and paste your WML credentials into the cell below."
   ]
  },
  {
   "cell_type": "code",
   "execution_count": 6,
   "metadata": {
    "scrolled": true
   },
   "outputs": [],
   "source": [
    "WML_CREDENTIALS = {\n",
    "\n",
    "}"
   ]
  },
  {
   "cell_type": "markdown",
   "metadata": {},
   "source": [
    "### Cloud object storage details"
   ]
  },
  {
   "cell_type": "code",
   "execution_count": 7,
   "metadata": {},
   "outputs": [],
   "source": [
    "COS_API_KEY_ID = \"***\"\n",
    "COS_RESOURCE_CRN = \"***\" # eg \"crn:v1:bluemix:public:cloud-object-storage:global:a/3bf0d9003abfb5d29761c3e97696b71c:d6f04d83-6c4f-4a62-a165-696756d63903::\"\n",
    "COS_ENDPOINT = \"***\" # Current list avaiable at https://control.cloud-object-storage.cloud.ibm.com/v2/endpoints"
   ]
  },
  {
   "cell_type": "code",
   "execution_count": 8,
   "metadata": {},
   "outputs": [],
   "source": [
    "BUCKET_NAME = \"***\" #example: \"credit-risk-training-data\""
   ]
  },
  {
   "cell_type": "markdown",
   "metadata": {},
   "source": [
    "This tutorial can use Databases for PostgreSQL, Db2 Warehouse, or a free internal verison of PostgreSQL to create a datamart for OpenScale.\n",
    "\n",
    "If you have previously configured OpenScale, it will use your existing datamart, and not interfere with any models you are currently monitoring. Do not update the cell below.\n",
    "\n",
    "If you do not have a paid Cloud account or would prefer not to provision this paid service, you may use the free internal PostgreSQL service with OpenScale. Do not update the cell below.\n",
    "\n",
    "To provision a new instance of Db2 Warehouse, locate [Db2 Warehouse in the Cloud catalog](https://cloud.ibm.com/catalog/services/db2-warehouse), give your service a name, and click **Create**. Once your instance is created, click the **Service Credentials** link on the left side of the screen. Click the **New credential** button, give your credentials a name, and click **Add**. Your new credentials can be accessed by clicking the **View credentials** button. Copy and paste your Db2 Warehouse credentials into the cell below.\n",
    "\n",
    "To provision a new instance of Databases for PostgreSQL, locate [Databases for PostgreSQL in the Cloud catalog](https://cloud.ibm.com/catalog/services/databases-for-postgresql), give your service a name, and click **Create**. Once your instance is created, click the **Service Credentials** link on the left side of the screen. Click the **New credential** button, give your credentials a name, and click **Add**. Your new credentials can be accessed by clicking the **View credentials** button. Copy and paste your Databases for PostgreSQL credentials into the cell below."
   ]
  },
  {
   "cell_type": "code",
   "execution_count": 8,
   "metadata": {
    "scrolled": true
   },
   "outputs": [],
   "source": [
    "DB_CREDENTIALS = None"
   ]
  },
  {
   "cell_type": "markdown",
   "metadata": {},
   "source": [
    "__If you previously configured OpenScale to use the free internal version of PostgreSQL, you can switch to a new datamart using a paid database service.__ If you would like to delete the internal PostgreSQL configuration and create a new one using service credentials supplied in the cell above, set the __KEEP_MY_INTERNAL_POSTGRES__ variable below to __False__ below. In this case, the notebook will remove your existing internal PostgreSQL datamart and create a new one with the supplied credentials. __*NO DATA MIGRATION WILL OCCUR.*__"
   ]
  },
  {
   "cell_type": "code",
   "execution_count": 9,
   "metadata": {},
   "outputs": [],
   "source": [
    "KEEP_MY_INTERNAL_POSTGRES = True"
   ]
  },
  {
   "cell_type": "markdown",
   "metadata": {},
   "source": [
    "## Run the notebook\n",
    "\n",
    "At this point, the notebook is ready to run. You can either run the cells one at a time, or click the **Kernel** option above and select **Restart and Run All** to run all the cells."
   ]
  },
  {
   "cell_type": "markdown",
   "metadata": {},
   "source": [
    "# Model building and deployment <a name=\"model\"></a>"
   ]
  },
  {
   "cell_type": "markdown",
   "metadata": {},
   "source": [
    "In this section you will learn how to train Spark MLLib model and next deploy it as web-service using Watson Machine Learning service."
   ]
  },
  {
   "cell_type": "markdown",
   "metadata": {},
   "source": [
    "## Load the training data from github"
   ]
  },
  {
   "cell_type": "code",
   "execution_count": 11,
   "metadata": {
    "scrolled": true
   },
   "outputs": [
    {
     "name": "stdout",
     "output_type": "stream",
     "text": [
      "-rw-r----- 1 dsxuser dsxuser 674K Aug 19 16:54 german_credit_data_biased_training.csv\r\n"
     ]
    }
   ],
   "source": [
    "from IPython.utils import io\n",
    "\n",
    "with io.capture_output() as captured:\n",
    "    !wget https://raw.githubusercontent.com/pmservice/ai-openscale-tutorials/master/assets/historical_data/german_credit_risk/wml/german_credit_data_biased_training.csv -O german_credit_data_biased_training.csv\n",
    "!ls -lh german_credit_data_biased_training.csv"
   ]
  },
  {
   "cell_type": "code",
   "execution_count": 12,
   "metadata": {
    "scrolled": true
   },
   "outputs": [
    {
     "data": {
      "text/plain": [
       "Row(CheckingStatus='0_to_200', LoanDuration=31, CreditHistory='credits_paid_to_date', LoanPurpose='other', LoanAmount=1889, ExistingSavings='100_to_500', EmploymentDuration='less_1', InstallmentPercent=3, Sex='female', OthersOnLoan='none', CurrentResidenceDuration=3, OwnsProperty='savings_insurance', Age=32, InstallmentPlans='none', Housing='own', ExistingCreditsCount=1, Job='skilled', Dependents=1, Telephone='none', ForeignWorker='yes', Risk='No Risk')"
      ]
     },
     "execution_count": 12,
     "metadata": {},
     "output_type": "execute_result"
    }
   ],
   "source": [
    "from pyspark.sql import SparkSession\n",
    "import pandas as pd\n",
    "import json\n",
    "import datetime\n",
    "\n",
    "spark = SparkSession.builder.getOrCreate()\n",
    "pd_data = pd.read_csv(\"german_credit_data_biased_training.csv\", sep=\",\", header=0)\n",
    "df_data = spark.read.csv(path=\"german_credit_data_biased_training.csv\", sep=\",\", header=True, inferSchema=True)\n",
    "training_data_file_name = \"german_credit_data_biased_training.csv\"\n",
    "df_data.head()"
   ]
  },
  {
   "cell_type": "markdown",
   "metadata": {},
   "source": [
    "## Explore data"
   ]
  },
  {
   "cell_type": "code",
   "execution_count": 13,
   "metadata": {
    "scrolled": true
   },
   "outputs": [
    {
     "name": "stdout",
     "output_type": "stream",
     "text": [
      "root\n",
      " |-- CheckingStatus: string (nullable = true)\n",
      " |-- LoanDuration: integer (nullable = true)\n",
      " |-- CreditHistory: string (nullable = true)\n",
      " |-- LoanPurpose: string (nullable = true)\n",
      " |-- LoanAmount: integer (nullable = true)\n",
      " |-- ExistingSavings: string (nullable = true)\n",
      " |-- EmploymentDuration: string (nullable = true)\n",
      " |-- InstallmentPercent: integer (nullable = true)\n",
      " |-- Sex: string (nullable = true)\n",
      " |-- OthersOnLoan: string (nullable = true)\n",
      " |-- CurrentResidenceDuration: integer (nullable = true)\n",
      " |-- OwnsProperty: string (nullable = true)\n",
      " |-- Age: integer (nullable = true)\n",
      " |-- InstallmentPlans: string (nullable = true)\n",
      " |-- Housing: string (nullable = true)\n",
      " |-- ExistingCreditsCount: integer (nullable = true)\n",
      " |-- Job: string (nullable = true)\n",
      " |-- Dependents: integer (nullable = true)\n",
      " |-- Telephone: string (nullable = true)\n",
      " |-- ForeignWorker: string (nullable = true)\n",
      " |-- Risk: string (nullable = true)\n",
      "\n"
     ]
    }
   ],
   "source": [
    "df_data.printSchema()"
   ]
  },
  {
   "cell_type": "code",
   "execution_count": 14,
   "metadata": {
    "scrolled": true
   },
   "outputs": [
    {
     "name": "stdout",
     "output_type": "stream",
     "text": [
      "Number of records: 5000\n"
     ]
    }
   ],
   "source": [
    "print(\"Number of records: \" + str(df_data.count()))"
   ]
  },
  {
   "cell_type": "markdown",
   "metadata": {},
   "source": [
    "## Save training data to Cloud Object Storage"
   ]
  },
  {
   "cell_type": "code",
   "execution_count": 15,
   "metadata": {},
   "outputs": [],
   "source": [
    "import ibm_boto3\n",
    "from ibm_botocore.client import Config, ClientError\n",
    "\n",
    "cos_client = ibm_boto3.resource(\"s3\",\n",
    "    ibm_api_key_id=COS_API_KEY_ID,\n",
    "    ibm_service_instance_id=COS_RESOURCE_CRN,\n",
    "    ibm_auth_endpoint=\"https://iam.bluemix.net/oidc/token\",\n",
    "    config=Config(signature_version=\"oauth\"),\n",
    "    endpoint_url=COS_ENDPOINT\n",
    ")"
   ]
  },
  {
   "cell_type": "code",
   "execution_count": 16,
   "metadata": {},
   "outputs": [],
   "source": [
    "with open(training_data_file_name, \"rb\") as file_data:\n",
    "    cos_client.Object(BUCKET_NAME, training_data_file_name).upload_fileobj(\n",
    "        Fileobj=file_data\n",
    "    )"
   ]
  },
  {
   "cell_type": "markdown",
   "metadata": {},
   "source": [
    "## Create a model"
   ]
  },
  {
   "cell_type": "code",
   "execution_count": 17,
   "metadata": {
    "scrolled": true
   },
   "outputs": [
    {
     "name": "stdout",
     "output_type": "stream",
     "text": [
      "Number of records for training: 4016\n",
      "Number of records for evaluation: 984\n"
     ]
    }
   ],
   "source": [
    "spark_df = df_data\n",
    "(train_data, test_data) = spark_df.randomSplit([0.8, 0.2], 24)\n",
    "\n",
    "MODEL_NAME = \"Spark German Risk Model - Final\"\n",
    "DEPLOYMENT_NAME = \"Spark German Risk Deployment - Final\"\n",
    "\n",
    "print(\"Number of records for training: \" + str(train_data.count()))\n",
    "print(\"Number of records for evaluation: \" + str(test_data.count()))"
   ]
  },
  {
   "cell_type": "markdown",
   "metadata": {},
   "source": [
    "The code below creates a Random Forest Classifier with Spark, setting up string indexers for the categorical features and the label column. Finally, this notebook creates a pipeline including the indexers and the model, and does an initial Area Under ROC evaluation of the model."
   ]
  },
  {
   "cell_type": "code",
   "execution_count": 18,
   "metadata": {
    "scrolled": true
   },
   "outputs": [],
   "source": [
    "from pyspark.ml.feature import OneHotEncoder, StringIndexer, IndexToString, VectorAssembler\n",
    "from pyspark.ml.evaluation import BinaryClassificationEvaluator\n",
    "from pyspark.ml import Pipeline, Model\n",
    "from pyspark.ml.feature import SQLTransformer\n",
    "\n",
    "features = [x for x in spark_df.columns if x != 'Risk']\n",
    "categorical_features = ['CheckingStatus', 'CreditHistory', 'LoanPurpose', 'ExistingSavings', 'EmploymentDuration', 'Sex', 'OthersOnLoan', 'OwnsProperty', 'InstallmentPlans', 'Housing', 'Job', 'Telephone', 'ForeignWorker']\n",
    "categorical_num_features = [x + '_IX' for x in categorical_features]\n",
    "si_list = [StringIndexer(inputCol=x, outputCol=y) for x, y in zip(categorical_features, categorical_num_features)]\n",
    "va_features = VectorAssembler(inputCols=categorical_num_features + [x for x in features if x not in categorical_features], outputCol=\"features\")"
   ]
  },
  {
   "cell_type": "code",
   "execution_count": 19,
   "metadata": {
    "scrolled": true
   },
   "outputs": [],
   "source": [
    "si_label = StringIndexer(inputCol=\"Risk\", outputCol=\"label\").fit(spark_df)\n",
    "label_converter = IndexToString(inputCol=\"prediction\", outputCol=\"predictedLabel\", labels=si_label.labels)"
   ]
  },
  {
   "cell_type": "code",
   "execution_count": 20,
   "metadata": {
    "scrolled": true
   },
   "outputs": [],
   "source": [
    "from pyspark.ml.classification import RandomForestClassifier\n",
    "\n",
    "classifier = RandomForestClassifier(featuresCol=\"features\")\n",
    "feature_filter = SQLTransformer(statement=\"SELECT * FROM __THIS__\")\n",
    "pipeline = Pipeline(stages= si_list + [si_label, va_features, classifier, label_converter, feature_filter])\n",
    "model = pipeline.fit(train_data)"
   ]
  },
  {
   "cell_type": "markdown",
   "metadata": {},
   "source": [
    "**Note:** If you want filter features from model output please replace **`*`** with feature names to be retained in **`SQLTransformer`** statement."
   ]
  },
  {
   "cell_type": "code",
   "execution_count": 21,
   "metadata": {
    "scrolled": true
   },
   "outputs": [
    {
     "name": "stdout",
     "output_type": "stream",
     "text": [
      "areaUnderROC = 0.708922\n"
     ]
    }
   ],
   "source": [
    "predictions = model.transform(test_data)\n",
    "evaluatorDT = BinaryClassificationEvaluator(rawPredictionCol=\"prediction\")\n",
    "area_under_curve = evaluatorDT.evaluate(predictions)\n",
    "\n",
    "print(\"areaUnderROC = %g\" % area_under_curve)"
   ]
  },
  {
   "cell_type": "markdown",
   "metadata": {},
   "source": [
    "## Publish the model"
   ]
  },
  {
   "cell_type": "markdown",
   "metadata": {},
   "source": [
    "In this section, the notebook uses the supplied Watson Machine Learning credentials to save the model (including the pipeline) to the WML instance. Previous versions of the model are removed so that the notebook can be run again, resetting all data for another demo."
   ]
  },
  {
   "cell_type": "code",
   "execution_count": 22,
   "metadata": {
    "scrolled": true
   },
   "outputs": [],
   "source": [
    "from watson_machine_learning_client import WatsonMachineLearningAPIClient\n",
    "import json\n",
    "\n",
    "wml_client = WatsonMachineLearningAPIClient(WML_CREDENTIALS)"
   ]
  },
  {
   "cell_type": "markdown",
   "metadata": {},
   "source": [
    "### Remove existing model and deployment"
   ]
  },
  {
   "cell_type": "code",
   "execution_count": 23,
   "metadata": {
    "scrolled": true
   },
   "outputs": [
    {
     "name": "stdout",
     "output_type": "stream",
     "text": [
      "Deleting deployment id e93463f5-de55-4c80-ada0-dd5b8fe5b5e3\n",
      "Deleting model id 55d2094f-604d-4675-a11d-590feeca79a3\n",
      "------------------------------------  ------------------------------  ------------------------  -----------------\n",
      "GUID                                  NAME                            CREATED                   FRAMEWORK\n",
      "c3fbb6ba-1dcb-4aa4-9073-2c0f32d7451c  Scikit German Risk Model        2020-08-18T18:29:56.529Z  scikit-learn-0.20\n",
      "91be60bd-c9af-4103-9732-4be6a336ae50  Income Classifier Binary Model  2020-07-23T17:58:45.824Z  mllib-2.3\n",
      "------------------------------------  ------------------------------  ------------------------  -----------------\n"
     ]
    }
   ],
   "source": [
    "model_deployment_ids = wml_client.deployments.get_uids()\n",
    "for deployment_id in model_deployment_ids:\n",
    "    deployment = wml_client.deployments.get_details(deployment_id)\n",
    "    model_id = deployment['entity']['deployable_asset']['guid']\n",
    "    if deployment['entity']['name'] == DEPLOYMENT_NAME:\n",
    "        print('Deleting deployment id', deployment_id)\n",
    "        wml_client.deployments.delete(deployment_id)\n",
    "        print('Deleting model id', model_id)\n",
    "        wml_client.repository.delete(model_id)\n",
    "wml_client.repository.list_models()"
   ]
  },
  {
   "cell_type": "code",
   "execution_count": 24,
   "metadata": {},
   "outputs": [
    {
     "name": "stdout",
     "output_type": "stream",
     "text": [
      "-rw-r----- 1 dsxuser dsxuser 14K Aug 19 16:55 credit-risk-meta.json\r\n"
     ]
    }
   ],
   "source": [
    "with io.capture_output() as captured:\n",
    "    !wget https://raw.githubusercontent.com/pmservice/wml-sample-models/master/spark/credit-risk/meta/credit-risk-meta.json -O credit-risk-meta.json\n",
    "!ls -lh credit-risk-meta.json"
   ]
  },
  {
   "cell_type": "code",
   "execution_count": 25,
   "metadata": {},
   "outputs": [],
   "source": [
    "with open('credit-risk-meta.json') as f:\n",
    "    [training_data_reference, *_] = json.load(f)['model_meta']['training_data_reference']"
   ]
  },
  {
   "cell_type": "code",
   "execution_count": 26,
   "metadata": {},
   "outputs": [
    {
     "name": "stdout",
     "output_type": "stream",
     "text": [
      "{'connection': {'db': 'BLUDB', 'host': 'dashdb-txn-sbox-yp-dal09-03.services.dal.bluemix.net', 'password': 'khhz72v+6mcwwkfv', 'username': 'cmb91569'}, 'name': 'German credit risk training data', 'source': {'tablename': 'CREDIT_RISK_TRAIN_DATA', 'type': 'db2'}}\n"
     ]
    }
   ],
   "source": [
    "print(training_data_reference)"
   ]
  },
  {
   "cell_type": "code",
   "execution_count": 27,
   "metadata": {
    "scrolled": true
   },
   "outputs": [],
   "source": [
    "model_props = {\n",
    "    wml_client.repository.ModelMetaNames.NAME: \"{}\".format(MODEL_NAME),\n",
    "    wml_client.repository.ModelMetaNames.EVALUATION_METHOD: \"binary\",\n",
    "    wml_client.repository.ModelMetaNames.TRAINING_DATA_REFERENCE: training_data_reference,\n",
    "    wml_client.repository.ModelMetaNames.EVALUATION_METRICS: [\n",
    "        {\n",
    "           \"name\": \"areaUnderROC\",\n",
    "           \"value\": area_under_curve,\n",
    "           \"threshold\": 0.7\n",
    "        }\n",
    "    ]\n",
    "}"
   ]
  },
  {
   "cell_type": "code",
   "execution_count": 28,
   "metadata": {
    "scrolled": true
   },
   "outputs": [
    {
     "name": "stdout",
     "output_type": "stream",
     "text": [
      "Storing model ...\n",
      "Done\n"
     ]
    }
   ],
   "source": [
    "wml_models = wml_client.repository.get_details()\n",
    "model_uid = None\n",
    "for model_in in wml_models['models']['resources']:\n",
    "    if MODEL_NAME == model_in['entity']['name']:\n",
    "        model_uid = model_in['metadata']['guid']\n",
    "        break\n",
    "\n",
    "if model_uid is None:\n",
    "    print(\"Storing model ...\")\n",
    "\n",
    "    published_model_details = wml_client.repository.store_model(model=model, meta_props=model_props, training_data=train_data, pipeline=pipeline)\n",
    "    model_uid = wml_client.repository.get_model_uid(published_model_details)\n",
    "    print(\"Done\")"
   ]
  },
  {
   "cell_type": "code",
   "execution_count": 29,
   "metadata": {
    "scrolled": true
   },
   "outputs": [
    {
     "data": {
      "text/plain": [
       "'16462c0b-fa59-49f0-ba40-6b9c722e78d0'"
      ]
     },
     "execution_count": 29,
     "metadata": {},
     "output_type": "execute_result"
    }
   ],
   "source": [
    "model_uid"
   ]
  },
  {
   "cell_type": "markdown",
   "metadata": {},
   "source": [
    "## Deploy the model"
   ]
  },
  {
   "cell_type": "markdown",
   "metadata": {},
   "source": [
    "The next section of the notebook deploys the model as a RESTful web service in Watson Machine Learning. The deployed model will have a scoring URL you can use to send data to the model for predictions."
   ]
  },
  {
   "cell_type": "code",
   "execution_count": 30,
   "metadata": {
    "scrolled": true
   },
   "outputs": [
    {
     "name": "stdout",
     "output_type": "stream",
     "text": [
      "Deploying model...\n",
      "\n",
      "\n",
      "#######################################################################################\n",
      "\n",
      "Synchronous deployment creation for uid: '16462c0b-fa59-49f0-ba40-6b9c722e78d0' started\n",
      "\n",
      "#######################################################################################\n",
      "\n",
      "\n",
      "INITIALIZING\n",
      "DEPLOY_IN_PROGRESS\n",
      "DEPLOY_SUCCESS\n",
      "\n",
      "\n",
      "------------------------------------------------------------------------------------------------\n",
      "Successfully finished deployment creation, deployment_uid='f3208415-a6b3-450c-ae82-d42dd25d7ceb'\n",
      "------------------------------------------------------------------------------------------------\n",
      "\n",
      "\n",
      "Model id: 16462c0b-fa59-49f0-ba40-6b9c722e78d0\n",
      "Deployment id: f3208415-a6b3-450c-ae82-d42dd25d7ceb\n"
     ]
    }
   ],
   "source": [
    "wml_deployments = wml_client.deployments.get_details()\n",
    "deployment_uid = None\n",
    "for deployment in wml_deployments['resources']:\n",
    "    if DEPLOYMENT_NAME == deployment['entity']['name']:\n",
    "        deployment_uid = deployment['metadata']['guid']\n",
    "        break\n",
    "\n",
    "if deployment_uid is None:\n",
    "    print(\"Deploying model...\")\n",
    "\n",
    "    deployment = wml_client.deployments.create(artifact_uid=model_uid, name=DEPLOYMENT_NAME, asynchronous=False)\n",
    "    deployment_uid = wml_client.deployments.get_uid(deployment)\n",
    "    \n",
    "print(\"Model id: {}\".format(model_uid))\n",
    "print(\"Deployment id: {}\".format(deployment_uid))"
   ]
  },
  {
   "cell_type": "markdown",
   "metadata": {},
   "source": [
    "## Sample scoring"
   ]
  },
  {
   "cell_type": "code",
   "execution_count": 31,
   "metadata": {},
   "outputs": [],
   "source": [
    "fields = [\"CheckingStatus\", \"LoanDuration\", \"CreditHistory\", \"LoanPurpose\", \"LoanAmount\", \"ExistingSavings\",\n",
    "                  \"EmploymentDuration\", \"InstallmentPercent\", \"Sex\", \"OthersOnLoan\", \"CurrentResidenceDuration\",\n",
    "                  \"OwnsProperty\", \"Age\", \"InstallmentPlans\", \"Housing\", \"ExistingCreditsCount\", \"Job\", \"Dependents\",\n",
    "                  \"Telephone\", \"ForeignWorker\"]\n",
    "values = [\n",
    "            [\"no_checking\", 13, \"credits_paid_to_date\", \"car_new\", 1343, \"100_to_500\", \"1_to_4\", 2, \"female\", \"none\", 3,\n",
    "             \"savings_insurance\", 46, \"none\", \"own\", 2, \"skilled\", 1, \"none\", \"yes\"],\n",
    "            [\"no_checking\", 24, \"prior_payments_delayed\", \"furniture\", 4567, \"500_to_1000\", \"1_to_4\", 4, \"male\", \"none\",\n",
    "             4, \"savings_insurance\", 36, \"none\", \"free\", 2, \"management_self-employed\", 1, \"none\", \"yes\"],\n",
    "        ]\n",
    "\n",
    "scoring_payload = {\"fields\": fields, \"values\": values}"
   ]
  },
  {
   "cell_type": "code",
   "execution_count": 84,
   "metadata": {},
   "outputs": [
    {
     "data": {
      "text/plain": [
       "{'fields': ['CheckingStatus',\n",
       "  'LoanDuration',\n",
       "  'CreditHistory',\n",
       "  'LoanPurpose',\n",
       "  'LoanAmount',\n",
       "  'ExistingSavings',\n",
       "  'EmploymentDuration',\n",
       "  'InstallmentPercent',\n",
       "  'Sex',\n",
       "  'OthersOnLoan',\n",
       "  'CurrentResidenceDuration',\n",
       "  'OwnsProperty',\n",
       "  'Age',\n",
       "  'InstallmentPlans',\n",
       "  'Housing',\n",
       "  'ExistingCreditsCount',\n",
       "  'Job',\n",
       "  'Dependents',\n",
       "  'Telephone',\n",
       "  'ForeignWorker',\n",
       "  'CheckingStatus_IX',\n",
       "  'CreditHistory_IX',\n",
       "  'LoanPurpose_IX',\n",
       "  'ExistingSavings_IX',\n",
       "  'EmploymentDuration_IX',\n",
       "  'Sex_IX',\n",
       "  'OthersOnLoan_IX',\n",
       "  'OwnsProperty_IX',\n",
       "  'InstallmentPlans_IX',\n",
       "  'Housing_IX',\n",
       "  'Job_IX',\n",
       "  'Telephone_IX',\n",
       "  'ForeignWorker_IX',\n",
       "  'features',\n",
       "  'rawPrediction',\n",
       "  'probability',\n",
       "  'prediction',\n",
       "  'predictedLabel'],\n",
       " 'values': [['no_checking',\n",
       "   13,\n",
       "   'credits_paid_to_date',\n",
       "   'car_new',\n",
       "   1343,\n",
       "   '100_to_500',\n",
       "   '1_to_4',\n",
       "   2,\n",
       "   'female',\n",
       "   'none',\n",
       "   3,\n",
       "   'savings_insurance',\n",
       "   46,\n",
       "   'none',\n",
       "   'own',\n",
       "   2,\n",
       "   'skilled',\n",
       "   1,\n",
       "   'none',\n",
       "   'yes',\n",
       "   0.0,\n",
       "   1.0,\n",
       "   0.0,\n",
       "   1.0,\n",
       "   0.0,\n",
       "   1.0,\n",
       "   0.0,\n",
       "   0.0,\n",
       "   0.0,\n",
       "   0.0,\n",
       "   0.0,\n",
       "   0.0,\n",
       "   0.0,\n",
       "   [20,\n",
       "    [1, 3, 5, 13, 14, 15, 16, 17, 18, 19],\n",
       "    [1.0, 1.0, 1.0, 13.0, 1343.0, 2.0, 3.0, 46.0, 2.0, 1.0]],\n",
       "   [12.793369428976254, 7.206630571023747],\n",
       "   [0.6396684714488127, 0.36033152855118733],\n",
       "   0.0,\n",
       "   'No Risk'],\n",
       "  ['no_checking',\n",
       "   24,\n",
       "   'prior_payments_delayed',\n",
       "   'furniture',\n",
       "   4567,\n",
       "   '500_to_1000',\n",
       "   '1_to_4',\n",
       "   4,\n",
       "   'male',\n",
       "   'none',\n",
       "   4,\n",
       "   'savings_insurance',\n",
       "   36,\n",
       "   'none',\n",
       "   'free',\n",
       "   2,\n",
       "   'management_self-employed',\n",
       "   1,\n",
       "   'none',\n",
       "   'yes',\n",
       "   0.0,\n",
       "   0.0,\n",
       "   1.0,\n",
       "   2.0,\n",
       "   0.0,\n",
       "   0.0,\n",
       "   0.0,\n",
       "   0.0,\n",
       "   0.0,\n",
       "   2.0,\n",
       "   2.0,\n",
       "   0.0,\n",
       "   0.0,\n",
       "   [20,\n",
       "    [2, 3, 9, 10, 13, 14, 15, 16, 17, 18, 19],\n",
       "    [1.0, 2.0, 2.0, 2.0, 24.0, 4567.0, 4.0, 4.0, 36.0, 2.0, 1.0]],\n",
       "   [12.263443104200372, 7.736556895799627],\n",
       "   [0.6131721552100186, 0.38682784478998133],\n",
       "   0.0,\n",
       "   'No Risk']]}"
      ]
     },
     "execution_count": 84,
     "metadata": {},
     "output_type": "execute_result"
    }
   ],
   "source": [
    "scoring_url = wml_client.deployments.get_scoring_url(deployment)\n",
    "\n",
    "wml_client.deployments.score(scoring_url, scoring_payload)"
   ]
  },
  {
   "cell_type": "markdown",
   "metadata": {},
   "source": [
    "# Configure OpenScale <a name=\"openscale\"></a>"
   ]
  },
  {
   "cell_type": "markdown",
   "metadata": {},
   "source": [
    "The notebook will now import the necessary libraries and set up a Python OpenScale client."
   ]
  },
  {
   "cell_type": "code",
   "execution_count": 85,
   "metadata": {
    "scrolled": true
   },
   "outputs": [
    {
     "data": {
      "text/plain": [
       "'3.0.0.17'"
      ]
     },
     "execution_count": 85,
     "metadata": {},
     "output_type": "execute_result"
    }
   ],
   "source": [
    "from ibm_cloud_sdk_core.authenticators import IAMAuthenticator\n",
    "\n",
    "from ibm_watson_openscale import *\n",
    "from ibm_watson_openscale.supporting_classes.enums import *\n",
    "from ibm_watson_openscale.supporting_classes import *\n",
    "\n",
    "authenticator = IAMAuthenticator(apikey=CLOUD_API_KEY)\n",
    "wos_client = APIClient(authenticator=authenticator, service_url=\"https://api.aiopenscale.test.cloud.ibm.com\")\n",
    "wos_client.version"
   ]
  },
  {
   "cell_type": "markdown",
   "metadata": {},
   "source": [
    "### Get Watson OpenScale GUID\n",
    "\n",
    "Each instance of OpenScale has a unique ID. We can get this value using the Cloud API key specified at the beginning of the notebook.\n",
    "1. Please update the `url` in the below WOS_CREDENTIALS payload as per the environment that you are using.\n",
    "2. Please update the `DASHBOARD_URL` in the below cell as per the environment that you are using."
   ]
  },
  {
   "cell_type": "code",
   "execution_count": 86,
   "metadata": {},
   "outputs": [
    {
     "name": "stdout",
     "output_type": "stream",
     "text": [
      "5a0b9076-fcf6-49e8-a824-9e3a6b4c2a56\n"
     ]
    }
   ],
   "source": [
    "from ibm_watson_openscale.utils import get_instance_guid\n",
    "from ibm_cloud_sdk_core.authenticators import IAMAuthenticator\n",
    "\n",
    "authenticator = IAMAuthenticator(\n",
    "                    apikey=CLOUD_API_KEY,\n",
    "                    url=IAM_URL\n",
    "                )\n",
    "WOS_GUID = get_instance_guid(authenticator)\n",
    "\n",
    "WOS_CREDENTIALS = {\n",
    "    \"instance_guid\": WOS_GUID,\n",
    "    \"apikey\": CLOUD_API_KEY,\n",
    "    \"url\": \"https://api.aiopenscale.cloud.ibm.com\"\n",
    "}\n",
    "DASHBOARD_URL = \"https://aiopenscale.cloud.ibm.com\"\n",
    "\n",
    "\n",
    "if WOS_GUID is None:\n",
    "    print('Watson OpenScale GUID NOT FOUND')\n",
    "else:\n",
    "    print(WOS_GUID)"
   ]
  },
  {
   "cell_type": "markdown",
   "metadata": {},
   "source": [
    "If Watson OpenScale GUID has not been found you need provide the GUID to variabe `WOS_GUID`.\n",
    "\n",
    "#### Get OpenScale `instance_guid` \n",
    "\n",
    "How to install IBM Cloud (bluemix) console: [instruction](https://console.bluemix.net/docs/cli/reference/ibmcloud/download_cli.html#install_use)\n",
    "\n",
    "\n",
    "\n",
    "How to get your OpenScale instance GUID\n",
    "- log in to IBM Cloud:\n",
    "```\n",
    "bx login --sso\n",
    "```\n",
    "- if your resource group is different than `default` switch to resource group containing OpenScale instance\n",
    "```\n",
    "bx target -g <myResourceGroup>\n",
    "```\n",
    "- get details of the instance\n",
    "```\n",
    "bx resource service-instance 'AI-OpenScale-instance_name'\n",
    "```"
   ]
  },
  {
   "cell_type": "markdown",
   "metadata": {},
   "source": [
    "## Create schema and datamart"
   ]
  },
  {
   "cell_type": "markdown",
   "metadata": {},
   "source": [
    "### Set up datamart"
   ]
  },
  {
   "cell_type": "markdown",
   "metadata": {},
   "source": [
    "Watson OpenScale uses a database to store payload logs and calculated metrics. If database credentials were **not** supplied above, the notebook will use the free, internal lite database. If database credentials were supplied, the datamart will be created there **unless** there is an existing datamart **and** the **KEEP_MY_INTERNAL_POSTGRES** variable is set to **True**. If an OpenScale datamart exists in Db2 or PostgreSQL, the existing datamart will be used and no data will be overwritten.\n",
    "\n",
    "Prior instances of the German Credit model will be removed from OpenScale monitoring."
   ]
  },
  {
   "cell_type": "code",
   "execution_count": 87,
   "metadata": {},
   "outputs": [
    {
     "data": {
      "text/html": [
       "<HTML>\n",
       "        <body>\n",
       "            <h3>Data Marts</h3>\n",
       "            <table style='border: 1px solid #dddddd; font-family: Courier'>\n",
       "                <th style='border: 1px solid #dddddd'>name</th><th style='border: 1px solid #dddddd'>description</th><th style='border: 1px solid #dddddd'>internal_database</th><th style='border: 1px solid #dddddd'>status</th><th style='border: 1px solid #dddddd'>created_at</th><th style='border: 1px solid #dddddd'>id</th>\n",
       "                <tr><td style='border: 1px solid #dddddd'>WOS Data Mart</td><td style='border: 1px solid #dddddd'>Data Mart created by WOS tutorial notebook</td><td style='border: 1px solid #dddddd'>True</td><td style='border: 1px solid #dddddd'>active</td><td style='border: 1px solid #dddddd'>2020-07-22 22:17:14.701000+00:00</td><td style='border: 1px solid #dddddd'>5a0b9076-fcf6-49e8-a824-9e3a6b4c2a56</td></tr>\n",
       "            </table>\n",
       "        </body>\n",
       "        </HTML>"
      ],
      "text/plain": [
       "<IPython.core.display.HTML object>"
      ]
     },
     "metadata": {},
     "output_type": "display_data"
    }
   ],
   "source": [
    "wos_client.data_marts.show()"
   ]
  },
  {
   "cell_type": "code",
   "execution_count": 88,
   "metadata": {},
   "outputs": [
    {
     "name": "stdout",
     "output_type": "stream",
     "text": [
      "Using existing datamart 5a0b9076-fcf6-49e8-a824-9e3a6b4c2a56\n"
     ]
    }
   ],
   "source": [
    "data_marts = wos_client.data_marts.list().result.data_marts\n",
    "if len(data_marts) == 0:\n",
    "    if DB_CREDENTIALS is not None:\n",
    "        if SCHEMA_NAME is None: \n",
    "            print(\"Please specify the SCHEMA_NAME and rerun the cell\")\n",
    "\n",
    "        print('Setting up external datamart')\n",
    "        added_data_mart_result = wos_client.data_marts.add(\n",
    "                background_mode=False,\n",
    "                name=\"WOS Data Mart\",\n",
    "                description=\"Data Mart created by WOS tutorial notebook\",\n",
    "                database_configuration=DatabaseConfigurationRequest(\n",
    "                  database_type=DatabaseType.POSTGRESQL,\n",
    "                    credentials=PrimaryStorageCredentialsLong(\n",
    "                        hostname=DB_CREDENTIALS['connection']['postgres']['hosts'][0]['hostname'],\n",
    "                        username=DB_CREDENTIALS['connection']['postgres']['authentication']['username'],\n",
    "                        password=DB_CREDENTIALS['connection']['postgres']['authentication']['password'],\n",
    "                        db=DB_CREDENTIALS['connection']['postgres']['database'],\n",
    "                        port=DB_CREDENTIALS['connection']['postgres']['hosts'][0]['port'],\n",
    "                        ssl=True,\n",
    "                        sslmode=DB_CREDENTIALS['connection']['postgres']['query_options']['sslmode'],\n",
    "                        certificate_base64=DB_CREDENTIALS['connection']['postgres']['certificate']['certificate_base64']\n",
    "                    ),\n",
    "                    location=LocationSchemaName(\n",
    "                        schema_name= SCHEMA_NAME\n",
    "                    )\n",
    "                )\n",
    "             ).result\n",
    "    else:\n",
    "        print('Setting up internal datamart')\n",
    "        added_data_mart_result = wos_client.data_marts.add(\n",
    "                background_mode=False,\n",
    "                name=\"WOS Data Mart\",\n",
    "                description=\"Data Mart created by WOS tutorial notebook\", \n",
    "                internal_database = True).result\n",
    "        \n",
    "    data_mart_id = added_data_mart_result.metadata.id\n",
    "    \n",
    "else:\n",
    "    data_mart_id=data_marts[0].metadata.id\n",
    "    print('Using existing datamart {}'.format(data_mart_id))\n",
    "    "
   ]
  },
  {
   "cell_type": "markdown",
   "metadata": {},
   "source": [
    "### Remove existing service provider connected with used  WML instance. "
   ]
  },
  {
   "cell_type": "markdown",
   "metadata": {
    "scrolled": true
   },
   "source": [
    "Multiple service providers for the same engine instance are avaiable in Watson OpenScale. To avoid multiple service providers of used WML instance in the tutorial notebook the following code deletes existing service provder(s) and then adds new one. "
   ]
  },
  {
   "cell_type": "code",
   "execution_count": 89,
   "metadata": {},
   "outputs": [
    {
     "name": "stdout",
     "output_type": "stream",
     "text": [
      "Deleted existing service_provider for WML instance fa2ef988-b919-468b-a05b-2a3c9df845d5\n"
     ]
    }
   ],
   "source": [
    "service_providers = wos_client.service_providers.list().result.service_providers\n",
    "for service_provider in service_providers:\n",
    "    service_instance_id = service_provider.entity.instance_id\n",
    "    if service_instance_id == WML_CREDENTIALS['instance_id']:\n",
    "        wos_client.service_providers.delete(service_provider.metadata.id)\n",
    "        print('Deleted existing service_provider for WML instance', service_instance_id)"
   ]
  },
  {
   "cell_type": "markdown",
   "metadata": {},
   "source": [
    "## Add service provider"
   ]
  },
  {
   "cell_type": "markdown",
   "metadata": {},
   "source": [
    "Watson OpenScale needs to be bound to the Watson Machine Learning instance to capture payload data into and out of the model."
   ]
  },
  {
   "cell_type": "markdown",
   "metadata": {},
   "source": [
    "**Note:** You can bind more than one engine instance if needed by calling `wos_client.service_providers.add` method. Next, you can refer to particular service provider using `service_provider_id`."
   ]
  },
  {
   "cell_type": "code",
   "execution_count": 90,
   "metadata": {},
   "outputs": [
    {
     "name": "stdout",
     "output_type": "stream",
     "text": [
      "\n",
      "\n",
      "=================================================================================\n",
      "\n",
      " Waiting for end of adding service provider 1c0ebe30-98a9-4d77-a3d6-64b241f2f876 \n",
      "\n",
      "=================================================================================\n",
      "\n",
      "\n",
      "\n",
      "active\n",
      "\n",
      "-----------------------------------------------\n",
      " Successfully finished adding service provider \n",
      "-----------------------------------------------\n",
      "\n",
      "\n"
     ]
    }
   ],
   "source": [
    "added_service_provider_result = wos_client.service_providers.add(\n",
    "        name=\"Watson Machine Learning service provider\",\n",
    "        description=\"Service Provider added by tutorial WOS notebook\",\n",
    "        service_type=ServiceTypes.WATSON_MACHINE_LEARNING,\n",
    "        credentials=WMLCredentialsCloud(\n",
    "            apikey=WML_CREDENTIALS['apikey'],\n",
    "            url=WML_CREDENTIALS['url'],\n",
    "            instance_id=WML_CREDENTIALS['instance_id']\n",
    "        ),\n",
    "        background_mode=False\n",
    "    ).result\n",
    "service_provider_id = added_service_provider_result.metadata.id"
   ]
  },
  {
   "cell_type": "code",
   "execution_count": 91,
   "metadata": {},
   "outputs": [
    {
     "data": {
      "text/html": [
       "<HTML>\n",
       "        <body>\n",
       "            <h3>Service Providers</h3>\n",
       "            <table style='border: 1px solid #dddddd; font-family: Courier'>\n",
       "                <th style='border: 1px solid #dddddd'>instance_id</th><th style='border: 1px solid #dddddd'>status</th><th style='border: 1px solid #dddddd'>name</th><th style='border: 1px solid #dddddd'>service_type</th><th style='border: 1px solid #dddddd'>created_at</th><th style='border: 1px solid #dddddd'>id</th>\n",
       "                <tr><td style='border: 1px solid #dddddd'>fa2ef988-b919-468b-a05b-2a3c9df845d5</td><td style='border: 1px solid #dddddd'>active</td><td style='border: 1px solid #dddddd'>Watson Machine Learning service provider</td><td style='border: 1px solid #dddddd'>watson_machine_learning</td><td style='border: 1px solid #dddddd'>2020-08-19 17:07:16.541000+00:00</td><td style='border: 1px solid #dddddd'>1c0ebe30-98a9-4d77-a3d6-64b241f2f876</td></tr>\n",
       "            </table>\n",
       "        </body>\n",
       "        </HTML>"
      ],
      "text/plain": [
       "<IPython.core.display.HTML object>"
      ]
     },
     "metadata": {},
     "output_type": "display_data"
    }
   ],
   "source": [
    "wos_client.service_providers.show()"
   ]
  },
  {
   "cell_type": "code",
   "execution_count": 92,
   "metadata": {},
   "outputs": [
    {
     "name": "stdout",
     "output_type": "stream",
     "text": [
      "Get asset details for Spark German Risk Deployment - Final with id: f3208415-a6b3-450c-ae82-d42dd25d7ceb\n"
     ]
    }
   ],
   "source": [
    "asset_deployment_details = wos_client.service_providers.list_assets(data_mart_id=data_mart_id, service_provider_id=service_provider_id, deployment_id=deployment_uid).result['resources'][0]\n",
    "print(\"Get asset details for {asset_name} with id: {id}\".format(asset_name=asset_deployment_details['entity']['name'], id = asset_deployment_details['metadata']['guid']))"
   ]
  },
  {
   "cell_type": "markdown",
   "metadata": {},
   "source": [
    "## Subscriptions"
   ]
  },
  {
   "cell_type": "markdown",
   "metadata": {},
   "source": [
    "### Remove existing credit risk subscriptions"
   ]
  },
  {
   "cell_type": "markdown",
   "metadata": {},
   "source": [
    "This code removes previous subscriptions to the German Credit model to refresh the monitors with the new model and new data."
   ]
  },
  {
   "cell_type": "code",
   "execution_count": 93,
   "metadata": {},
   "outputs": [
    {
     "data": {
      "text/html": [
       "<HTML>\n",
       "        <body>\n",
       "            <h3>Subscriptions</h3>\n",
       "            <table style='border: 1px solid #dddddd; font-family: Courier'>\n",
       "                <th style='border: 1px solid #dddddd'>asset_id</th><th style='border: 1px solid #dddddd'>asset_name</th><th style='border: 1px solid #dddddd'>data_mart_id</th><th style='border: 1px solid #dddddd'>deployment_id</th><th style='border: 1px solid #dddddd'>deployment_name</th><th style='border: 1px solid #dddddd'>service_provider_id</th><th style='border: 1px solid #dddddd'>status</th><th style='border: 1px solid #dddddd'>created_at</th><th style='border: 1px solid #dddddd'>id</th>\n",
       "                \n",
       "            </table>\n",
       "        </body>\n",
       "        </HTML>"
      ],
      "text/plain": [
       "<IPython.core.display.HTML object>"
      ]
     },
     "metadata": {},
     "output_type": "display_data"
    }
   ],
   "source": [
    "wos_client.subscriptions.show()"
   ]
  },
  {
   "cell_type": "markdown",
   "metadata": {},
   "source": [
    "This code removes previous subscriptions to the German Credit model to refresh the monitors with the new model and new data."
   ]
  },
  {
   "cell_type": "code",
   "execution_count": 95,
   "metadata": {
    "scrolled": true
   },
   "outputs": [],
   "source": [
    "subscriptions = wos_client.subscriptions.list().result.subscriptions\n",
    "for subscription in subscriptions:\n",
    "    sub_model_id = subscription.entity.asset.asset_id\n",
    "    if sub_model_id == model_uid:\n",
    "        wos_client.subscriptions.delete(subscription.metadata.id)\n",
    "        print('Deleted existing subscription for model', model_uid)"
   ]
  },
  {
   "cell_type": "markdown",
   "metadata": {},
   "source": [
    "This code creates the model subscription in OpenScale using the Python client API. Note that we need to provide the model unique identifier, and some information about the model itself."
   ]
  },
  {
   "cell_type": "markdown",
   "metadata": {},
   "source": [
    "### This code creates the model subscription in OpenScale using the Python client API. Note that we need to provide the model unique identifier, and some information about the model itself."
   ]
  },
  {
   "cell_type": "code",
   "execution_count": 96,
   "metadata": {
    "scrolled": false
   },
   "outputs": [
    {
     "data": {
      "text/plain": [
       "'5d8ac6bc-4337-49ab-ac13-85d23541eb40'"
      ]
     },
     "execution_count": 96,
     "metadata": {},
     "output_type": "execute_result"
    }
   ],
   "source": [
    "subscription_details = wos_client.subscriptions.add(\n",
    "        data_mart_id=data_mart_id,\n",
    "        service_provider_id=service_provider_id,\n",
    "        asset=Asset(\n",
    "            asset_id=published_model_details['metadata']['guid'],\n",
    "            url=published_model_details['metadata']['url'],\n",
    "            asset_type=AssetTypes.MODEL,\n",
    "            input_data_type=InputDataType.STRUCTURED,\n",
    "            problem_type=ProblemType.BINARY_CLASSIFICATION\n",
    "        ),\n",
    "        deployment=AssetDeploymentRequest(\n",
    "            deployment_id=asset_deployment_details['metadata']['guid'],\n",
    "            name=asset_deployment_details['entity']['name'],\n",
    "            deployment_type= DeploymentTypes.ONLINE,\n",
    "            url=asset_deployment_details['metadata']['url']\n",
    "        ),\n",
    "        asset_properties=AssetPropertiesRequest(\n",
    "            label_column='Risk',\n",
    "            probability_fields=['probability'],\n",
    "            prediction_field='predictedLabel',\n",
    "            feature_fields = [\"CheckingStatus\",\"LoanDuration\",\"CreditHistory\",\"LoanPurpose\",\"LoanAmount\",\"ExistingSavings\",\"EmploymentDuration\",\"InstallmentPercent\",\"Sex\",\"OthersOnLoan\",\"CurrentResidenceDuration\",\"OwnsProperty\",\"Age\",\"InstallmentPlans\",\"Housing\",\"ExistingCreditsCount\",\"Job\",\"Dependents\",\"Telephone\",\"ForeignWorker\"],\n",
    "            categorical_fields = [\"CheckingStatus\",\"CreditHistory\",\"LoanPurpose\",\"ExistingSavings\",\"EmploymentDuration\",\"Sex\",\"OthersOnLoan\",\"OwnsProperty\",\"InstallmentPlans\",\"Housing\",\"Job\",\"Telephone\",\"ForeignWorker\"],\n",
    "            training_data_reference=TrainingDataReference(type='cos',\n",
    "                                                          location=COSTrainingDataReferenceLocation(bucket = BUCKET_NAME,\n",
    "                                                                                                    file_name = training_data_file_name),\n",
    "                                                          connection=COSTrainingDataReferenceConnection.from_dict({\n",
    "                                                                        \"resource_instance_id\": COS_RESOURCE_CRN,\n",
    "                                                                        \"url\": COS_ENDPOINT,\n",
    "                                                                        \"api_key\": COS_API_KEY_ID,\n",
    "                                                                        \"iam_url\": \"https://iam.bluemix.net/oidc/token\"})),\n",
    "            training_data_schema=SparkStruct.from_dict(asset_deployment_details['entity']['asset_properties']['training_data_schema'])\n",
    "        )\n",
    "    ).result\n",
    "subscription_id = subscription_details.metadata.id\n",
    "subscription_id"
   ]
  },
  {
   "cell_type": "code",
   "execution_count": 97,
   "metadata": {},
   "outputs": [
    {
     "name": "stdout",
     "output_type": "stream",
     "text": [
      "Payload data set id:  26a54806-dbf5-4fb8-b378-271694732053\n"
     ]
    }
   ],
   "source": [
    "import time\n",
    "\n",
    "time.sleep(5)\n",
    "payload_data_set_id = None\n",
    "payload_data_set_id = wos_client.data_sets.list(type=DataSetTypes.PAYLOAD_LOGGING, \n",
    "                                                target_target_id=subscription_id, \n",
    "                                                target_target_type=TargetTypes.SUBSCRIPTION).result.data_sets[0].metadata.id\n",
    "if payload_data_set_id is None:\n",
    "    print(\"Payload data set not found. Please check subscription status.\")\n",
    "else:\n",
    "    print(\"Payload data set id: \", payload_data_set_id)"
   ]
  },
  {
   "cell_type": "code",
   "execution_count": 98,
   "metadata": {},
   "outputs": [
    {
     "data": {
      "text/html": [
       "<HTML>\n",
       "        <body>\n",
       "            <h3>Data sets</h3>\n",
       "            <table style='border: 1px solid #dddddd; font-family: Courier'>\n",
       "                <th style='border: 1px solid #dddddd'>data_mart_id</th><th style='border: 1px solid #dddddd'>status</th><th style='border: 1px solid #dddddd'>target_id</th><th style='border: 1px solid #dddddd'>target_type</th><th style='border: 1px solid #dddddd'>type</th><th style='border: 1px solid #dddddd'>created_at</th><th style='border: 1px solid #dddddd'>id</th>\n",
       "                <tr><td style='border: 1px solid #dddddd'>5a0b9076-fcf6-49e8-a824-9e3a6b4c2a56</td><td style='border: 1px solid #dddddd'>active</td><td style='border: 1px solid #dddddd'>5d8ac6bc-4337-49ab-ac13-85d23541eb40</td><td style='border: 1px solid #dddddd'>subscription</td><td style='border: 1px solid #dddddd'>manual_labeling</td><td style='border: 1px solid #dddddd'>2020-08-19 17:07:43.933000+00:00</td><td style='border: 1px solid #dddddd'>140a31e9-3bd7-40aa-a2e4-9c16e158f2cf</td></tr><tr><td style='border: 1px solid #dddddd'>5a0b9076-fcf6-49e8-a824-9e3a6b4c2a56</td><td style='border: 1px solid #dddddd'>active</td><td style='border: 1px solid #dddddd'>5d8ac6bc-4337-49ab-ac13-85d23541eb40</td><td style='border: 1px solid #dddddd'>subscription</td><td style='border: 1px solid #dddddd'>payload_logging</td><td style='border: 1px solid #dddddd'>2020-08-19 17:07:43.870000+00:00</td><td style='border: 1px solid #dddddd'>26a54806-dbf5-4fb8-b378-271694732053</td></tr><tr><td style='border: 1px solid #dddddd'>5a0b9076-fcf6-49e8-a824-9e3a6b4c2a56</td><td style='border: 1px solid #dddddd'>active</td><td style='border: 1px solid #dddddd'>5a0b9076-fcf6-49e8-a824-9e3a6b4c2a56</td><td style='border: 1px solid #dddddd'>data_mart</td><td style='border: 1px solid #dddddd'>explanations_whatif</td><td style='border: 1px solid #dddddd'>2020-08-10 21:46:35.549000+00:00</td><td style='border: 1px solid #dddddd'>60e2672b-d4c2-4479-8312-0433f9f738a5</td></tr><tr><td style='border: 1px solid #dddddd'>5a0b9076-fcf6-49e8-a824-9e3a6b4c2a56</td><td style='border: 1px solid #dddddd'>active</td><td style='border: 1px solid #dddddd'>5a0b9076-fcf6-49e8-a824-9e3a6b4c2a56</td><td style='border: 1px solid #dddddd'>data_mart</td><td style='border: 1px solid #dddddd'>explanations</td><td style='border: 1px solid #dddddd'>2020-08-10 21:46:35.104000+00:00</td><td style='border: 1px solid #dddddd'>40e2510a-d4e8-411c-b1f7-4b58c79aa2b2</td></tr>\n",
       "            </table>\n",
       "        </body>\n",
       "        </HTML>"
      ],
      "text/plain": [
       "<IPython.core.display.HTML object>"
      ]
     },
     "metadata": {},
     "output_type": "display_data"
    }
   ],
   "source": [
    "wos_client.data_sets.show()"
   ]
  },
  {
   "cell_type": "markdown",
   "metadata": {},
   "source": [
    "Get subscription list"
   ]
  },
  {
   "cell_type": "code",
   "execution_count": 99,
   "metadata": {
    "scrolled": true
   },
   "outputs": [
    {
     "data": {
      "text/html": [
       "<HTML>\n",
       "        <body>\n",
       "            <h3>Subscriptions</h3>\n",
       "            <table style='border: 1px solid #dddddd; font-family: Courier'>\n",
       "                <th style='border: 1px solid #dddddd'>asset_id</th><th style='border: 1px solid #dddddd'>asset_name</th><th style='border: 1px solid #dddddd'>data_mart_id</th><th style='border: 1px solid #dddddd'>deployment_id</th><th style='border: 1px solid #dddddd'>deployment_name</th><th style='border: 1px solid #dddddd'>service_provider_id</th><th style='border: 1px solid #dddddd'>status</th><th style='border: 1px solid #dddddd'>created_at</th><th style='border: 1px solid #dddddd'>id</th>\n",
       "                <tr><td style='border: 1px solid #dddddd'>16462c0b-fa59-49f0-ba40-6b9c722e78d0</td><td style='border: 1px solid #dddddd'>None</td><td style='border: 1px solid #dddddd'>5a0b9076-fcf6-49e8-a824-9e3a6b4c2a56</td><td style='border: 1px solid #dddddd'>f3208415-a6b3-450c-ae82-d42dd25d7ceb</td><td style='border: 1px solid #dddddd'>Spark German Risk Deployment - Final</td><td style='border: 1px solid #dddddd'>1c0ebe30-98a9-4d77-a3d6-64b241f2f876</td><td style='border: 1px solid #dddddd'>active</td><td style='border: 1px solid #dddddd'>2020-08-19 17:07:43.221000+00:00</td><td style='border: 1px solid #dddddd'>5d8ac6bc-4337-49ab-ac13-85d23541eb40</td></tr>\n",
       "            </table>\n",
       "        </body>\n",
       "        </HTML>"
      ],
      "text/plain": [
       "<IPython.core.display.HTML object>"
      ]
     },
     "metadata": {},
     "output_type": "display_data"
    }
   ],
   "source": [
    "wos_client.subscriptions.show()"
   ]
  },
  {
   "cell_type": "markdown",
   "metadata": {},
   "source": [
    "### Score the model so we can configure monitors"
   ]
  },
  {
   "cell_type": "markdown",
   "metadata": {},
   "source": [
    "Now that the WML service has been bound and the subscription has been created, we need to send a request to the model before we configure OpenScale. This allows OpenScale to create a payload log in the datamart with the correct schema, so it can capture data coming into and out of the model. First, the code gets the model deployment's endpoint URL, and then sends a few records for predictions."
   ]
  },
  {
   "cell_type": "code",
   "execution_count": 100,
   "metadata": {
    "scrolled": true
   },
   "outputs": [
    {
     "name": "stdout",
     "output_type": "stream",
     "text": [
      "f3208415-a6b3-450c-ae82-d42dd25d7ceb\n",
      "https://us-south.ml.cloud.ibm.com/v3/wml_instances/fa2ef988-b919-468b-a05b-2a3c9df845d5/deployments/f3208415-a6b3-450c-ae82-d42dd25d7ceb/online\n"
     ]
    }
   ],
   "source": [
    "credit_risk_scoring_endpoint = None\n",
    "print(deployment_uid)\n",
    "\n",
    "for deployment in wml_client.deployments.get_details()['resources']:\n",
    "    if deployment_uid in deployment['metadata']['guid']:\n",
    "        credit_risk_scoring_endpoint = deployment['entity']['scoring_url']\n",
    "        \n",
    "print(credit_risk_scoring_endpoint)"
   ]
  },
  {
   "cell_type": "code",
   "execution_count": 101,
   "metadata": {
    "scrolled": true
   },
   "outputs": [
    {
     "name": "stdout",
     "output_type": "stream",
     "text": [
      "Single record scoring result: \n",
      " fields: ['CheckingStatus', 'LoanDuration', 'CreditHistory', 'LoanPurpose', 'LoanAmount', 'ExistingSavings', 'EmploymentDuration', 'InstallmentPercent', 'Sex', 'OthersOnLoan', 'CurrentResidenceDuration', 'OwnsProperty', 'Age', 'InstallmentPlans', 'Housing', 'ExistingCreditsCount', 'Job', 'Dependents', 'Telephone', 'ForeignWorker', 'CheckingStatus_IX', 'CreditHistory_IX', 'LoanPurpose_IX', 'ExistingSavings_IX', 'EmploymentDuration_IX', 'Sex_IX', 'OthersOnLoan_IX', 'OwnsProperty_IX', 'InstallmentPlans_IX', 'Housing_IX', 'Job_IX', 'Telephone_IX', 'ForeignWorker_IX', 'features', 'rawPrediction', 'probability', 'prediction', 'predictedLabel'] \n",
      " values:  ['no_checking', 13, 'credits_paid_to_date', 'car_new', 1343, '100_to_500', '1_to_4', 2, 'female', 'none', 3, 'savings_insurance', 46, 'none', 'own', 2, 'skilled', 1, 'none', 'yes', 0.0, 1.0, 0.0, 1.0, 0.0, 1.0, 0.0, 0.0, 0.0, 0.0, 0.0, 0.0, 0.0, [20, [1, 3, 5, 13, 14, 15, 16, 17, 18, 19], [1.0, 1.0, 1.0, 13.0, 1343.0, 2.0, 3.0, 46.0, 2.0, 1.0]], [12.793369428976254, 7.206630571023747], [0.6396684714488127, 0.36033152855118733], 0.0, 'No Risk']\n"
     ]
    }
   ],
   "source": [
    "fields = [\"CheckingStatus\",\"LoanDuration\",\"CreditHistory\",\"LoanPurpose\",\"LoanAmount\",\"ExistingSavings\",\"EmploymentDuration\",\"InstallmentPercent\",\"Sex\",\"OthersOnLoan\",\"CurrentResidenceDuration\",\"OwnsProperty\",\"Age\",\"InstallmentPlans\",\"Housing\",\"ExistingCreditsCount\",\"Job\",\"Dependents\",\"Telephone\",\"ForeignWorker\"]\n",
    "values = [\n",
    "  [\"no_checking\",13,\"credits_paid_to_date\",\"car_new\",1343,\"100_to_500\",\"1_to_4\",2,\"female\",\"none\",3,\"savings_insurance\",46,\"none\",\"own\",2,\"skilled\",1,\"none\",\"yes\"],\n",
    "  [\"no_checking\",24,\"prior_payments_delayed\",\"furniture\",4567,\"500_to_1000\",\"1_to_4\",4,\"male\",\"none\",4,\"savings_insurance\",36,\"none\",\"free\",2,\"management_self-employed\",1,\"none\",\"yes\"],\n",
    "  [\"0_to_200\",26,\"all_credits_paid_back\",\"car_new\",863,\"less_100\",\"less_1\",2,\"female\",\"co-applicant\",2,\"real_estate\",38,\"none\",\"own\",1,\"skilled\",1,\"none\",\"yes\"],\n",
    "  [\"0_to_200\",14,\"no_credits\",\"car_new\",2368,\"less_100\",\"1_to_4\",3,\"female\",\"none\",3,\"real_estate\",29,\"none\",\"own\",1,\"skilled\",1,\"none\",\"yes\"],\n",
    "  [\"0_to_200\",4,\"no_credits\",\"car_new\",250,\"less_100\",\"unemployed\",2,\"female\",\"none\",3,\"real_estate\",23,\"none\",\"rent\",1,\"management_self-employed\",1,\"none\",\"yes\"],\n",
    "  [\"no_checking\",17,\"credits_paid_to_date\",\"car_new\",832,\"100_to_500\",\"1_to_4\",2,\"male\",\"none\",2,\"real_estate\",42,\"none\",\"own\",1,\"skilled\",1,\"none\",\"yes\"],\n",
    "  [\"no_checking\",33,\"outstanding_credit\",\"appliances\",5696,\"unknown\",\"greater_7\",4,\"male\",\"co-applicant\",4,\"unknown\",54,\"none\",\"free\",2,\"skilled\",1,\"yes\",\"yes\"],\n",
    "  [\"0_to_200\",13,\"prior_payments_delayed\",\"retraining\",1375,\"100_to_500\",\"4_to_7\",3,\"male\",\"none\",3,\"real_estate\",37,\"none\",\"own\",2,\"management_self-employed\",1,\"none\",\"yes\"]\n",
    "]\n",
    "\n",
    "payload_scoring = {\"fields\": fields,\"values\": values}\n",
    "scoring_response = wml_client.deployments.score(credit_risk_scoring_endpoint, payload_scoring)\n",
    "\n",
    "print('Single record scoring result:', '\\n fields:', scoring_response['fields'], '\\n values: ', scoring_response['values'][0])"
   ]
  },
  {
   "cell_type": "code",
   "execution_count": 102,
   "metadata": {},
   "outputs": [
    {
     "data": {
      "text/plain": [
       "8"
      ]
     },
     "execution_count": 102,
     "metadata": {},
     "output_type": "execute_result"
    }
   ],
   "source": [
    "time.sleep(5)\n",
    "wos_client.data_sets.get_records_count(payload_data_set_id)"
   ]
  },
  {
   "cell_type": "markdown",
   "metadata": {},
   "source": [
    "# Quality monitoring and feedback logging <a name=\"quality\"></a>"
   ]
  },
  {
   "cell_type": "markdown",
   "metadata": {},
   "source": [
    "## Enable quality monitoring"
   ]
  },
  {
   "cell_type": "markdown",
   "metadata": {},
   "source": [
    "The code below waits ten seconds to allow the payload logging table to be set up before it begins enabling monitors. First, it turns on the quality (accuracy) monitor and sets an alert threshold of 70%. OpenScale will show an alert on the dashboard if the model accuracy measurement (area under the curve, in the case of a binary classifier) falls below this threshold.\n",
    "\n",
    "The second paramater supplied, min_records, specifies the minimum number of feedback records OpenScale needs before it calculates a new measurement. The quality monitor runs hourly, but the accuracy reading in the dashboard will not change until an additional 50 feedback records have been added, via the user interface, the Python client, or the supplied feedback endpoint."
   ]
  },
  {
   "cell_type": "code",
   "execution_count": 55,
   "metadata": {
    "scrolled": true
   },
   "outputs": [
    {
     "name": "stdout",
     "output_type": "stream",
     "text": [
      "\n",
      "\n",
      "===================================================================================\n",
      "\n",
      " Waiting for end of monitor instance creation 6b235eeb-47d9-4f06-8c86-65b4889d9c37 \n",
      "\n",
      "===================================================================================\n",
      "\n",
      "\n",
      "\n",
      "preparing\n",
      "active\n",
      "\n",
      "---------------------------------------\n",
      " Monitor instance successfully created \n",
      "---------------------------------------\n",
      "\n",
      "\n"
     ]
    }
   ],
   "source": [
    "import time\n",
    "\n",
    "time.sleep(10)\n",
    "target = Target(\n",
    "        target_type=TargetTypes.SUBSCRIPTION,\n",
    "        target_id=subscription_id\n",
    ")\n",
    "parameters = {\n",
    "    \"min_feedback_data_size\": 50\n",
    "}\n",
    "quality_monitor_details = wos_client.monitor_instances.create(\n",
    "    data_mart_id=data_mart_id,\n",
    "    background_mode=False,\n",
    "    monitor_definition_id=wos_client.monitor_definitions.MONITORS.QUALITY.ID,\n",
    "    target=target,\n",
    "    parameters=parameters\n",
    ").result"
   ]
  },
  {
   "cell_type": "code",
   "execution_count": 56,
   "metadata": {},
   "outputs": [],
   "source": [
    "quality_monitor_instance_id = quality_monitor_details.metadata.id"
   ]
  },
  {
   "cell_type": "markdown",
   "metadata": {},
   "source": [
    "## Feedback logging"
   ]
  },
  {
   "cell_type": "markdown",
   "metadata": {},
   "source": [
    "The code below downloads and stores enough feedback data to meet the minimum threshold so that OpenScale can calculate a new accuracy measurement. It then kicks off the accuracy monitor. The monitors run hourly, or can be initiated via the Python API, the REST API, or the graphical user interface."
   ]
  },
  {
   "cell_type": "code",
   "execution_count": 137,
   "metadata": {},
   "outputs": [
    {
     "name": "stdout",
     "output_type": "stream",
     "text": [
      "--2020-08-18 17:56:17--  https://raw.githubusercontent.com/pmservice/ai-openscale-tutorials/master/assets/historical_data/german_credit_risk/wml/additional_feedback_data_v2.json\n",
      "Resolving raw.githubusercontent.com (raw.githubusercontent.com)... 151.101.48.133\n",
      "Connecting to raw.githubusercontent.com (raw.githubusercontent.com)|151.101.48.133|:443... connected.\n",
      "HTTP request sent, awaiting response... 200 OK\n",
      "Length: 50890 (50K) [text/plain]\n",
      "Saving to: ‘additional_feedback_data_v2.json’\n",
      "\n",
      "100%[======================================>] 50,890      --.-K/s   in 0.002s  \n",
      "\n",
      "2020-08-18 17:56:17 (24.4 MB/s) - ‘additional_feedback_data_v2.json’ saved [50890/50890]\n",
      "\n"
     ]
    }
   ],
   "source": [
    "!rm additional_feedback_data_v2.json\n",
    "!wget https://raw.githubusercontent.com/pmservice/ai-openscale-tutorials/master/assets/historical_data/german_credit_risk/wml/additional_feedback_data_v2.json"
   ]
  },
  {
   "cell_type": "markdown",
   "metadata": {},
   "source": [
    "### Get feedback logging dataset ID"
   ]
  },
  {
   "cell_type": "code",
   "execution_count": 138,
   "metadata": {},
   "outputs": [],
   "source": [
    "feedback_dataset_id = None\n",
    "feedback_dataset_id = wos_client.data_sets.list(type=DataSetTypes.FEEDBACK, \n",
    "                                                target_target_id=subscription_id, \n",
    "                                                target_target_type=TargetTypes.SUBSCRIPTION).result.data_sets[0].metadata.id\n",
    "if feedback_dataset_id is None:\n",
    "    print(\"Feedback data set not found. Please check quality monitor status.\")"
   ]
  },
  {
   "cell_type": "code",
   "execution_count": 139,
   "metadata": {},
   "outputs": [],
   "source": [
    "with open('additional_feedback_data_v2.json') as feedback_file:\n",
    "    additional_feedback_data = json.load(feedback_file)"
   ]
  },
  {
   "cell_type": "code",
   "execution_count": 140,
   "metadata": {},
   "outputs": [
    {
     "name": "stdout",
     "output_type": "stream",
     "text": [
      "\n",
      "\n",
      "==========================================================================================\n",
      "\n",
      " Waiting for end of storing records with request id: d8cf5821-5a2e-410d-ab85-c2a01009dda2 \n",
      "\n",
      "==========================================================================================\n",
      "\n",
      "\n",
      "\n",
      "active\n",
      "\n",
      "---------------------------------------\n",
      " Successfully finished storing records \n",
      "---------------------------------------\n",
      "\n",
      "\n"
     ]
    },
    {
     "data": {
      "text/plain": [
       "<ibm_cloud_sdk_core.detailed_response.DetailedResponse at 0x7f5494d546a0>"
      ]
     },
     "execution_count": 140,
     "metadata": {},
     "output_type": "execute_result"
    }
   ],
   "source": [
    "wos_client.data_sets.store_records(feedback_dataset_id, request_body=additional_feedback_data, background_mode=False)"
   ]
  },
  {
   "cell_type": "code",
   "execution_count": 141,
   "metadata": {
    "scrolled": true
   },
   "outputs": [
    {
     "data": {
      "text/plain": [
       "98"
      ]
     },
     "execution_count": 141,
     "metadata": {},
     "output_type": "execute_result"
    }
   ],
   "source": [
    "wos_client.data_sets.get_records_count(data_set_id=feedback_dataset_id)"
   ]
  },
  {
   "cell_type": "code",
   "execution_count": 142,
   "metadata": {
    "scrolled": true
   },
   "outputs": [
    {
     "name": "stdout",
     "output_type": "stream",
     "text": [
      "\n",
      "\n",
      "========================================================================\n",
      "\n",
      " Waiting for end of monitoring run 8f27c6c2-3395-4962-afe4-788540c0b9cf \n",
      "\n",
      "========================================================================\n",
      "\n",
      "\n",
      "\n",
      "running\n",
      "finished\n",
      "\n",
      "---------------------------\n",
      " Successfully finished run \n",
      "---------------------------\n",
      "\n",
      "\n"
     ]
    }
   ],
   "source": [
    "run_details = wos_client.monitor_instances.run(monitor_instance_id=quality_monitor_instance_id, background_mode=False).result"
   ]
  },
  {
   "cell_type": "code",
   "execution_count": 143,
   "metadata": {
    "scrolled": true
   },
   "outputs": [
    {
     "data": {
      "text/html": [
       "<HTML>\n",
       "        <body>\n",
       "            <h3>eb9905ab-f789-419d-b4c1-23d9eaf1b926 Monitor Runs Metrics from: 2020-08-11 17:57:35.041771  till: 2020-08-18 17:57:35.041781</h3>\n",
       "            <table style='border: 1px solid #dddddd; font-family: Courier'>\n",
       "                <th style='border: 1px solid #dddddd'>ts</th><th style='border: 1px solid #dddddd'>id</th><th style='border: 1px solid #dddddd'>measurement_id</th><th style='border: 1px solid #dddddd'>value</th><th style='border: 1px solid #dddddd'>lower_limit</th><th style='border: 1px solid #dddddd'>upper_limit</th><th style='border: 1px solid #dddddd'>tags</th><th style='border: 1px solid #dddddd'>monitor_definition_id</th><th style='border: 1px solid #dddddd'>monitor_instance_id</th><th style='border: 1px solid #dddddd'>run_id</th><th style='border: 1px solid #dddddd'>target_type</th><th style='border: 1px solid #dddddd'>target_id</th>\n",
       "                <tr><td style='border: 1px solid #dddddd'>2020-08-18 17:56:30.130000+00:00</td><td style='border: 1px solid #dddddd'>true_positive_rate</td><td style='border: 1px solid #dddddd'>416722f4-3020-420e-a366-727d47253c55</td><td style='border: 1px solid #dddddd'>0.3939393939393939</td><td style='border: 1px solid #dddddd'>0.8</td><td style='border: 1px solid #dddddd'>None</td><td style='border: 1px solid #dddddd'>['model_type:original']</td><td style='border: 1px solid #dddddd'>quality</td><td style='border: 1px solid #dddddd'>eb9905ab-f789-419d-b4c1-23d9eaf1b926</td><td style='border: 1px solid #dddddd'>8f27c6c2-3395-4962-afe4-788540c0b9cf</td><td style='border: 1px solid #dddddd'>subscription</td><td style='border: 1px solid #dddddd'>5a7b5f9b-a5dd-4d20-97f4-bda8b9c55d4e</td></tr><tr><td style='border: 1px solid #dddddd'>2020-08-18 17:56:30.130000+00:00</td><td style='border: 1px solid #dddddd'>area_under_roc</td><td style='border: 1px solid #dddddd'>416722f4-3020-420e-a366-727d47253c55</td><td style='border: 1px solid #dddddd'>0.6662004662004662</td><td style='border: 1px solid #dddddd'>0.8</td><td style='border: 1px solid #dddddd'>None</td><td style='border: 1px solid #dddddd'>['model_type:original']</td><td style='border: 1px solid #dddddd'>quality</td><td style='border: 1px solid #dddddd'>eb9905ab-f789-419d-b4c1-23d9eaf1b926</td><td style='border: 1px solid #dddddd'>8f27c6c2-3395-4962-afe4-788540c0b9cf</td><td style='border: 1px solid #dddddd'>subscription</td><td style='border: 1px solid #dddddd'>5a7b5f9b-a5dd-4d20-97f4-bda8b9c55d4e</td></tr><tr><td style='border: 1px solid #dddddd'>2020-08-18 17:56:30.130000+00:00</td><td style='border: 1px solid #dddddd'>precision</td><td style='border: 1px solid #dddddd'>416722f4-3020-420e-a366-727d47253c55</td><td style='border: 1px solid #dddddd'>0.7647058823529411</td><td style='border: 1px solid #dddddd'>0.8</td><td style='border: 1px solid #dddddd'>None</td><td style='border: 1px solid #dddddd'>['model_type:original']</td><td style='border: 1px solid #dddddd'>quality</td><td style='border: 1px solid #dddddd'>eb9905ab-f789-419d-b4c1-23d9eaf1b926</td><td style='border: 1px solid #dddddd'>8f27c6c2-3395-4962-afe4-788540c0b9cf</td><td style='border: 1px solid #dddddd'>subscription</td><td style='border: 1px solid #dddddd'>5a7b5f9b-a5dd-4d20-97f4-bda8b9c55d4e</td></tr><tr><td style='border: 1px solid #dddddd'>2020-08-18 17:56:30.130000+00:00</td><td style='border: 1px solid #dddddd'>f1_measure</td><td style='border: 1px solid #dddddd'>416722f4-3020-420e-a366-727d47253c55</td><td style='border: 1px solid #dddddd'>0.5199999999999999</td><td style='border: 1px solid #dddddd'>0.8</td><td style='border: 1px solid #dddddd'>None</td><td style='border: 1px solid #dddddd'>['model_type:original']</td><td style='border: 1px solid #dddddd'>quality</td><td style='border: 1px solid #dddddd'>eb9905ab-f789-419d-b4c1-23d9eaf1b926</td><td style='border: 1px solid #dddddd'>8f27c6c2-3395-4962-afe4-788540c0b9cf</td><td style='border: 1px solid #dddddd'>subscription</td><td style='border: 1px solid #dddddd'>5a7b5f9b-a5dd-4d20-97f4-bda8b9c55d4e</td></tr><tr><td style='border: 1px solid #dddddd'>2020-08-18 17:56:30.130000+00:00</td><td style='border: 1px solid #dddddd'>accuracy</td><td style='border: 1px solid #dddddd'>416722f4-3020-420e-a366-727d47253c55</td><td style='border: 1px solid #dddddd'>0.7551020408163265</td><td style='border: 1px solid #dddddd'>0.8</td><td style='border: 1px solid #dddddd'>None</td><td style='border: 1px solid #dddddd'>['model_type:original']</td><td style='border: 1px solid #dddddd'>quality</td><td style='border: 1px solid #dddddd'>eb9905ab-f789-419d-b4c1-23d9eaf1b926</td><td style='border: 1px solid #dddddd'>8f27c6c2-3395-4962-afe4-788540c0b9cf</td><td style='border: 1px solid #dddddd'>subscription</td><td style='border: 1px solid #dddddd'>5a7b5f9b-a5dd-4d20-97f4-bda8b9c55d4e</td></tr><tr><td style='border: 1px solid #dddddd'>2020-08-18 17:56:30.130000+00:00</td><td style='border: 1px solid #dddddd'>log_loss</td><td style='border: 1px solid #dddddd'>416722f4-3020-420e-a366-727d47253c55</td><td style='border: 1px solid #dddddd'>0.4436118523630204</td><td style='border: 1px solid #dddddd'>None</td><td style='border: 1px solid #dddddd'>0.8</td><td style='border: 1px solid #dddddd'>['model_type:original']</td><td style='border: 1px solid #dddddd'>quality</td><td style='border: 1px solid #dddddd'>eb9905ab-f789-419d-b4c1-23d9eaf1b926</td><td style='border: 1px solid #dddddd'>8f27c6c2-3395-4962-afe4-788540c0b9cf</td><td style='border: 1px solid #dddddd'>subscription</td><td style='border: 1px solid #dddddd'>5a7b5f9b-a5dd-4d20-97f4-bda8b9c55d4e</td></tr><tr><td style='border: 1px solid #dddddd'>2020-08-18 17:56:30.130000+00:00</td><td style='border: 1px solid #dddddd'>false_positive_rate</td><td style='border: 1px solid #dddddd'>416722f4-3020-420e-a366-727d47253c55</td><td style='border: 1px solid #dddddd'>0.06153846153846154</td><td style='border: 1px solid #dddddd'>None</td><td style='border: 1px solid #dddddd'>0.8</td><td style='border: 1px solid #dddddd'>['model_type:original']</td><td style='border: 1px solid #dddddd'>quality</td><td style='border: 1px solid #dddddd'>eb9905ab-f789-419d-b4c1-23d9eaf1b926</td><td style='border: 1px solid #dddddd'>8f27c6c2-3395-4962-afe4-788540c0b9cf</td><td style='border: 1px solid #dddddd'>subscription</td><td style='border: 1px solid #dddddd'>5a7b5f9b-a5dd-4d20-97f4-bda8b9c55d4e</td></tr><tr><td style='border: 1px solid #dddddd'>2020-08-18 17:56:30.130000+00:00</td><td style='border: 1px solid #dddddd'>area_under_pr</td><td style='border: 1px solid #dddddd'>416722f4-3020-420e-a366-727d47253c55</td><td style='border: 1px solid #dddddd'>0.6350176434210048</td><td style='border: 1px solid #dddddd'>0.8</td><td style='border: 1px solid #dddddd'>None</td><td style='border: 1px solid #dddddd'>['model_type:original']</td><td style='border: 1px solid #dddddd'>quality</td><td style='border: 1px solid #dddddd'>eb9905ab-f789-419d-b4c1-23d9eaf1b926</td><td style='border: 1px solid #dddddd'>8f27c6c2-3395-4962-afe4-788540c0b9cf</td><td style='border: 1px solid #dddddd'>subscription</td><td style='border: 1px solid #dddddd'>5a7b5f9b-a5dd-4d20-97f4-bda8b9c55d4e</td></tr><tr><td style='border: 1px solid #dddddd'>2020-08-18 17:56:30.130000+00:00</td><td style='border: 1px solid #dddddd'>recall</td><td style='border: 1px solid #dddddd'>416722f4-3020-420e-a366-727d47253c55</td><td style='border: 1px solid #dddddd'>0.3939393939393939</td><td style='border: 1px solid #dddddd'>0.8</td><td style='border: 1px solid #dddddd'>None</td><td style='border: 1px solid #dddddd'>['model_type:original']</td><td style='border: 1px solid #dddddd'>quality</td><td style='border: 1px solid #dddddd'>eb9905ab-f789-419d-b4c1-23d9eaf1b926</td><td style='border: 1px solid #dddddd'>8f27c6c2-3395-4962-afe4-788540c0b9cf</td><td style='border: 1px solid #dddddd'>subscription</td><td style='border: 1px solid #dddddd'>5a7b5f9b-a5dd-4d20-97f4-bda8b9c55d4e</td></tr>\n",
       "            </table>\n",
       "        </body>\n",
       "        </HTML>"
      ],
      "text/plain": [
       "<IPython.core.display.HTML object>"
      ]
     },
     "metadata": {},
     "output_type": "display_data"
    }
   ],
   "source": [
    "wos_client.monitor_instances.show_metrics(monitor_instance_id=quality_monitor_instance_id)"
   ]
  },
  {
   "cell_type": "markdown",
   "metadata": {},
   "source": [
    "# Fairness, drift monitoring and explanations <a name=\"fairness\"></a>"
   ]
  },
  {
   "cell_type": "markdown",
   "metadata": {},
   "source": [
    "### Fairness configuration\n",
    "\n",
    "The code below configures fairness monitoring for our model. It turns on monitoring for two features, Sex and Age. In each case, we must specify:\n",
    "\n",
    "  * Which model feature to monitor\n",
    "  * One or more **majority** groups, which are values of that feature that we expect to receive a higher percentage of favorable outcomes\n",
    "  * One or more **minority** groups, which are values of that feature that we expect to receive a higher percentage of unfavorable outcomes\n",
    "  * The threshold at which we would like OpenScale to display an alert if the fairness measurement falls below (in this case, 95%)\n",
    "\n",
    "Additionally, we must specify which outcomes from the model are favourable outcomes, and which are unfavourable. We must also provide the number of records OpenScale will use to calculate the fairness score. In this case, OpenScale's fairness monitor will run hourly, but will not calculate a new fairness rating until at least 200 records have been added. Finally, to calculate fairness, OpenScale must perform some calculations on the training data, so we provide the dataframe containing the data."
   ]
  },
  {
   "cell_type": "code",
   "execution_count": 144,
   "metadata": {},
   "outputs": [
    {
     "data": {
      "text/html": [
       "<HTML>\n",
       "        <body>\n",
       "            <h3>Monitor instances</h3>\n",
       "            <table style='border: 1px solid #dddddd; font-family: Courier'>\n",
       "                <th style='border: 1px solid #dddddd'>data_mart_id</th><th style='border: 1px solid #dddddd'>status</th><th style='border: 1px solid #dddddd'>target_id</th><th style='border: 1px solid #dddddd'>target_type</th><th style='border: 1px solid #dddddd'>monitor_definition_id</th><th style='border: 1px solid #dddddd'>created_at</th><th style='border: 1px solid #dddddd'>id</th>\n",
       "                <tr><td style='border: 1px solid #dddddd'>5a0b9076-fcf6-49e8-a824-9e3a6b4c2a56</td><td style='border: 1px solid #dddddd'>active</td><td style='border: 1px solid #dddddd'>5a7b5f9b-a5dd-4d20-97f4-bda8b9c55d4e</td><td style='border: 1px solid #dddddd'>subscription</td><td style='border: 1px solid #dddddd'>quality</td><td style='border: 1px solid #dddddd'>2020-08-18 17:56:07.346000+00:00</td><td style='border: 1px solid #dddddd'>eb9905ab-f789-419d-b4c1-23d9eaf1b926</td></tr><tr><td style='border: 1px solid #dddddd'>5a0b9076-fcf6-49e8-a824-9e3a6b4c2a56</td><td style='border: 1px solid #dddddd'>active</td><td style='border: 1px solid #dddddd'>9afc14f1-2014-4fe2-95a9-fbb57f518e93</td><td style='border: 1px solid #dddddd'>subscription</td><td style='border: 1px solid #dddddd'>fairness</td><td style='border: 1px solid #dddddd'>2020-08-10 20:45:13.815000+00:00</td><td style='border: 1px solid #dddddd'>7b0e3d9a-1d77-4430-b824-cacca7a65216</td></tr><tr><td style='border: 1px solid #dddddd'>5a0b9076-fcf6-49e8-a824-9e3a6b4c2a56</td><td style='border: 1px solid #dddddd'>active</td><td style='border: 1px solid #dddddd'>9afc14f1-2014-4fe2-95a9-fbb57f518e93</td><td style='border: 1px solid #dddddd'>subscription</td><td style='border: 1px solid #dddddd'>performance</td><td style='border: 1px solid #dddddd'>2020-08-10 20:44:55.164000+00:00</td><td style='border: 1px solid #dddddd'>920c5f4a-1bff-49aa-9a75-b07cdc946b9d</td></tr>\n",
       "            </table>\n",
       "        </body>\n",
       "        </HTML>"
      ],
      "text/plain": [
       "<IPython.core.display.HTML object>"
      ]
     },
     "metadata": {},
     "output_type": "display_data"
    }
   ],
   "source": [
    "wos_client.monitor_instances.show()"
   ]
  },
  {
   "cell_type": "code",
   "execution_count": 145,
   "metadata": {
    "scrolled": true
   },
   "outputs": [
    {
     "name": "stdout",
     "output_type": "stream",
     "text": [
      "\n",
      "\n",
      "===================================================================================\n",
      "\n",
      " Waiting for end of monitor instance creation 5633bdb9-e053-45bd-a6c9-6710a7e18802 \n",
      "\n",
      "===================================================================================\n",
      "\n",
      "\n",
      "\n",
      "active\n",
      "\n",
      "---------------------------------------\n",
      " Monitor instance successfully created \n",
      "---------------------------------------\n",
      "\n",
      "\n"
     ]
    },
    {
     "data": {
      "text/plain": [
       "'5633bdb9-e053-45bd-a6c9-6710a7e18802'"
      ]
     },
     "execution_count": 145,
     "metadata": {},
     "output_type": "execute_result"
    }
   ],
   "source": [
    "target = Target(\n",
    "    target_type=TargetTypes.SUBSCRIPTION,\n",
    "    target_id=subscription_id\n",
    "\n",
    ")\n",
    "parameters = {\n",
    "    \"features\": [\n",
    "        {\"feature\": \"Sex\",\n",
    "         \"majority\": ['male'],\n",
    "         \"minority\": ['female'],\n",
    "         \"threshold\": 0.95\n",
    "         },\n",
    "        {\"feature\": \"Age\",\n",
    "         \"majority\": [[26, 75]],\n",
    "         \"minority\": [[18, 25]],\n",
    "         \"threshold\": 0.95\n",
    "         }\n",
    "    ],\n",
    "    \"favourable_class\": [\"No Risk\"],\n",
    "    \"unfavourable_class\": [\"Risk\"],\n",
    "    \"min_records\": 4\n",
    "}\n",
    "\n",
    "fairness_monitor_details = wos_client.monitor_instances.create(\n",
    "    data_mart_id=data_mart_id,\n",
    "    background_mode=False,\n",
    "    monitor_definition_id=wos_client.monitor_definitions.MONITORS.FAIRNESS.ID,\n",
    "    target=target,\n",
    "    parameters=parameters).result\n",
    "fairness_monitor_instance_id =fairness_monitor_details.metadata.id\n",
    "fairness_monitor_instance_id"
   ]
  },
  {
   "cell_type": "markdown",
   "metadata": {},
   "source": [
    "### Drift configuration"
   ]
  },
  {
   "cell_type": "code",
   "execution_count": 146,
   "metadata": {},
   "outputs": [
    {
     "name": "stdout",
     "output_type": "stream",
     "text": [
      "\n",
      "\n",
      "===================================================================================\n",
      "\n",
      " Waiting for end of monitor instance creation 7e3823b6-812d-49ab-b67c-76b686bbb95c \n",
      "\n",
      "===================================================================================\n",
      "\n",
      "\n",
      "\n",
      "preparing\n",
      "active\n",
      "\n",
      "---------------------------------------\n",
      " Monitor instance successfully created \n",
      "---------------------------------------\n",
      "\n",
      "\n"
     ]
    },
    {
     "data": {
      "text/plain": [
       "'7e3823b6-812d-49ab-b67c-76b686bbb95c'"
      ]
     },
     "execution_count": 146,
     "metadata": {},
     "output_type": "execute_result"
    }
   ],
   "source": [
    "monitor_instances = wos_client.monitor_instances.list().result.monitor_instances\n",
    "for monitor_instance in monitor_instances:\n",
    "    monitor_def_id=monitor_instance.entity.monitor_definition_id\n",
    "    if monitor_def_id == \"drift\" and monitor_instance.entity.target.target_id == subscription_id:\n",
    "        wos_client.monitor_instances.delete(monitor_instance.metadata.id)\n",
    "        print('Deleted existing drift monitor instance with id: ', monitor_instance.metadata.id)\n",
    "\n",
    "\n",
    "target = Target(\n",
    "    target_type=TargetTypes.SUBSCRIPTION,\n",
    "    target_id=subscription_id\n",
    "\n",
    ")\n",
    "parameters = {\n",
    "    \"min_samples\": 20,\n",
    "    \"train_drift_model\": True,\n",
    "    \"enable_model_drift\": False,\n",
    "    \"enable_data_drift\": True\n",
    "}\n",
    "\n",
    "drift_monitor_details = wos_client.monitor_instances.create(\n",
    "    data_mart_id=data_mart_id,\n",
    "    background_mode=False,\n",
    "    monitor_definition_id=wos_client.monitor_definitions.MONITORS.DRIFT.ID,\n",
    "    target=target,\n",
    "    parameters=parameters\n",
    ").result\n",
    "\n",
    "drift_monitor_instance_id = drift_monitor_details.metadata.id\n",
    "drift_monitor_instance_id"
   ]
  },
  {
   "cell_type": "markdown",
   "metadata": {},
   "source": [
    "## Score the model again now that monitoring is configured"
   ]
  },
  {
   "cell_type": "markdown",
   "metadata": {},
   "source": [
    "This next section randomly selects 200 records from the data feed and sends those records to the model for predictions. This is enough to exceed the minimum threshold for records set in the previous section, which allows OpenScale to begin calculating fairness."
   ]
  },
  {
   "cell_type": "code",
   "execution_count": 53,
   "metadata": {},
   "outputs": [
    {
     "name": "stdout",
     "output_type": "stream",
     "text": [
      "-rw-r----- 1 dsxuser dsxuser 3.0M Aug 19 17:03 german_credit_feed.json\r\n"
     ]
    }
   ],
   "source": [
    "with io.capture_output() as captured:\n",
    "    !wget https://raw.githubusercontent.com/pmservice/ai-openscale-tutorials/master/assets/historical_data/german_credit_risk/wml/german_credit_feed.json -O german_credit_feed.json\n",
    "!ls -lh german_credit_feed.json"
   ]
  },
  {
   "cell_type": "markdown",
   "metadata": {},
   "source": [
    "Score 200 randomly chosen records"
   ]
  },
  {
   "cell_type": "code",
   "execution_count": 54,
   "metadata": {},
   "outputs": [],
   "source": [
    "import random\n",
    "\n",
    "with open('german_credit_feed.json', 'r') as scoring_file:\n",
    "    scoring_data = json.load(scoring_file)\n",
    "\n",
    "fields = scoring_data['fields']\n",
    "values = []\n",
    "for _ in range(200):\n",
    "    values.append(random.choice(scoring_data['values']))\n",
    "payload_scoring = {\"fields\": fields, \"values\": values}\n",
    "\n",
    "scoring_response = wml_client.deployments.score(credit_risk_scoring_endpoint, payload_scoring)\n",
    "time.sleep(5)"
   ]
  },
  {
   "cell_type": "markdown",
   "metadata": {},
   "source": [
    "**Note:** Now in payload table should be total 208 records."
   ]
  },
  {
   "cell_type": "code",
   "execution_count": 56,
   "metadata": {},
   "outputs": [
    {
     "name": "stdout",
     "output_type": "stream",
     "text": [
      "Number of records in payload table:  0\n"
     ]
    }
   ],
   "source": [
    "print('Number of records in payload table: ', wos_client.data_sets.get_records_count(data_set_id=payload_data_set_id))"
   ]
  },
  {
   "cell_type": "markdown",
   "metadata": {},
   "source": [
    "## Run fairness monitor"
   ]
  },
  {
   "cell_type": "markdown",
   "metadata": {},
   "source": [
    "Kick off a fairness monitor run on current data. The monitor runs hourly, but can be manually initiated using the Python client, the REST API, or the graphical user interface."
   ]
  },
  {
   "cell_type": "code",
   "execution_count": 150,
   "metadata": {
    "scrolled": true
   },
   "outputs": [
    {
     "name": "stdout",
     "output_type": "stream",
     "text": [
      "\n",
      "\n",
      "========================================================================\n",
      "\n",
      " Waiting for end of monitoring run cb6cb1ff-7a34-49b3-851c-072acd703cdb \n",
      "\n",
      "========================================================================\n",
      "\n",
      "\n",
      "\n",
      "running.\n",
      "finished\n",
      "\n",
      "---------------------------\n",
      " Successfully finished run \n",
      "---------------------------\n",
      "\n",
      "\n"
     ]
    }
   ],
   "source": [
    "run_details = wos_client.monitor_instances.run(monitor_instance_id=fairness_monitor_instance_id, background_mode=False)"
   ]
  },
  {
   "cell_type": "code",
   "execution_count": 151,
   "metadata": {},
   "outputs": [
    {
     "data": {
      "text/html": [
       "<HTML>\n",
       "        <body>\n",
       "            <h3>5633bdb9-e053-45bd-a6c9-6710a7e18802 Monitor Runs Metrics from: 2020-08-11 17:58:30.498364  till: 2020-08-18 17:58:30.498378</h3>\n",
       "            <table style='border: 1px solid #dddddd; font-family: Courier'>\n",
       "                <th style='border: 1px solid #dddddd'>ts</th><th style='border: 1px solid #dddddd'>id</th><th style='border: 1px solid #dddddd'>measurement_id</th><th style='border: 1px solid #dddddd'>value</th><th style='border: 1px solid #dddddd'>lower_limit</th><th style='border: 1px solid #dddddd'>upper_limit</th><th style='border: 1px solid #dddddd'>tags</th><th style='border: 1px solid #dddddd'>monitor_definition_id</th><th style='border: 1px solid #dddddd'>monitor_instance_id</th><th style='border: 1px solid #dddddd'>run_id</th><th style='border: 1px solid #dddddd'>target_type</th><th style='border: 1px solid #dddddd'>target_id</th>\n",
       "                <tr><td style='border: 1px solid #dddddd'>2020-08-18 17:58:06.440004+00:00</td><td style='border: 1px solid #dddddd'>fairness_value</td><td style='border: 1px solid #dddddd'>cea5ca4f-08a5-4155-86f4-5a3f8f3a25d6</td><td style='border: 1px solid #dddddd'>100.0</td><td style='border: 1px solid #dddddd'>80.0</td><td style='border: 1px solid #dddddd'>None</td><td style='border: 1px solid #dddddd'>['feature:Age', 'fairness_metric_type:debiased_fairness', 'feature_value:18-25']</td><td style='border: 1px solid #dddddd'>fairness</td><td style='border: 1px solid #dddddd'>5633bdb9-e053-45bd-a6c9-6710a7e18802</td><td style='border: 1px solid #dddddd'>cb6cb1ff-7a34-49b3-851c-072acd703cdb</td><td style='border: 1px solid #dddddd'>subscription</td><td style='border: 1px solid #dddddd'>5a7b5f9b-a5dd-4d20-97f4-bda8b9c55d4e</td></tr><tr><td style='border: 1px solid #dddddd'>2020-08-18 17:58:06.440004+00:00</td><td style='border: 1px solid #dddddd'>fairness_value</td><td style='border: 1px solid #dddddd'>cea5ca4f-08a5-4155-86f4-5a3f8f3a25d6</td><td style='border: 1px solid #dddddd'>100.0</td><td style='border: 1px solid #dddddd'>80.0</td><td style='border: 1px solid #dddddd'>None</td><td style='border: 1px solid #dddddd'>['feature:Sex', 'fairness_metric_type:debiased_fairness', 'feature_value:female']</td><td style='border: 1px solid #dddddd'>fairness</td><td style='border: 1px solid #dddddd'>5633bdb9-e053-45bd-a6c9-6710a7e18802</td><td style='border: 1px solid #dddddd'>cb6cb1ff-7a34-49b3-851c-072acd703cdb</td><td style='border: 1px solid #dddddd'>subscription</td><td style='border: 1px solid #dddddd'>5a7b5f9b-a5dd-4d20-97f4-bda8b9c55d4e</td></tr><tr><td style='border: 1px solid #dddddd'>2020-08-18 17:58:06.440004+00:00</td><td style='border: 1px solid #dddddd'>fairness_value</td><td style='border: 1px solid #dddddd'>353499c3-e017-4851-9ffa-c134f704d05a</td><td style='border: 1px solid #dddddd'>100.0</td><td style='border: 1px solid #dddddd'>80.0</td><td style='border: 1px solid #dddddd'>None</td><td style='border: 1px solid #dddddd'>['feature:Sex', 'fairness_metric_type:fairness', 'feature_value:female']</td><td style='border: 1px solid #dddddd'>fairness</td><td style='border: 1px solid #dddddd'>5633bdb9-e053-45bd-a6c9-6710a7e18802</td><td style='border: 1px solid #dddddd'>cb6cb1ff-7a34-49b3-851c-072acd703cdb</td><td style='border: 1px solid #dddddd'>subscription</td><td style='border: 1px solid #dddddd'>5a7b5f9b-a5dd-4d20-97f4-bda8b9c55d4e</td></tr><tr><td style='border: 1px solid #dddddd'>2020-08-18 17:58:06.440004+00:00</td><td style='border: 1px solid #dddddd'>fairness_value</td><td style='border: 1px solid #dddddd'>353499c3-e017-4851-9ffa-c134f704d05a</td><td style='border: 1px solid #dddddd'>100.0</td><td style='border: 1px solid #dddddd'>80.0</td><td style='border: 1px solid #dddddd'>None</td><td style='border: 1px solid #dddddd'>['feature:Age', 'fairness_metric_type:fairness', 'feature_value:18-25']</td><td style='border: 1px solid #dddddd'>fairness</td><td style='border: 1px solid #dddddd'>5633bdb9-e053-45bd-a6c9-6710a7e18802</td><td style='border: 1px solid #dddddd'>cb6cb1ff-7a34-49b3-851c-072acd703cdb</td><td style='border: 1px solid #dddddd'>subscription</td><td style='border: 1px solid #dddddd'>5a7b5f9b-a5dd-4d20-97f4-bda8b9c55d4e</td></tr><tr><td style='border: 1px solid #dddddd'>2020-08-18 17:57:42.906980+00:00</td><td style='border: 1px solid #dddddd'>fairness_value</td><td style='border: 1px solid #dddddd'>502948b8-fd3f-468c-9e29-a39531676691</td><td style='border: 1px solid #dddddd'>100.0</td><td style='border: 1px solid #dddddd'>80.0</td><td style='border: 1px solid #dddddd'>None</td><td style='border: 1px solid #dddddd'>['feature:Sex', 'fairness_metric_type:debiased_fairness', 'feature_value:female']</td><td style='border: 1px solid #dddddd'>fairness</td><td style='border: 1px solid #dddddd'>5633bdb9-e053-45bd-a6c9-6710a7e18802</td><td style='border: 1px solid #dddddd'>be27017a-1dc3-49d1-a7d0-a61c9c610c07</td><td style='border: 1px solid #dddddd'>subscription</td><td style='border: 1px solid #dddddd'>5a7b5f9b-a5dd-4d20-97f4-bda8b9c55d4e</td></tr><tr><td style='border: 1px solid #dddddd'>2020-08-18 17:57:42.906980+00:00</td><td style='border: 1px solid #dddddd'>fairness_value</td><td style='border: 1px solid #dddddd'>502948b8-fd3f-468c-9e29-a39531676691</td><td style='border: 1px solid #dddddd'>100.0</td><td style='border: 1px solid #dddddd'>80.0</td><td style='border: 1px solid #dddddd'>None</td><td style='border: 1px solid #dddddd'>['feature:Age', 'fairness_metric_type:debiased_fairness', 'feature_value:18-25']</td><td style='border: 1px solid #dddddd'>fairness</td><td style='border: 1px solid #dddddd'>5633bdb9-e053-45bd-a6c9-6710a7e18802</td><td style='border: 1px solid #dddddd'>be27017a-1dc3-49d1-a7d0-a61c9c610c07</td><td style='border: 1px solid #dddddd'>subscription</td><td style='border: 1px solid #dddddd'>5a7b5f9b-a5dd-4d20-97f4-bda8b9c55d4e</td></tr><tr><td style='border: 1px solid #dddddd'>2020-08-18 17:57:42.906980+00:00</td><td style='border: 1px solid #dddddd'>fairness_value</td><td style='border: 1px solid #dddddd'>fb84a53e-7ea8-469b-9782-47736122b8b9</td><td style='border: 1px solid #dddddd'>100.0</td><td style='border: 1px solid #dddddd'>80.0</td><td style='border: 1px solid #dddddd'>None</td><td style='border: 1px solid #dddddd'>['feature:Sex', 'fairness_metric_type:fairness', 'feature_value:female']</td><td style='border: 1px solid #dddddd'>fairness</td><td style='border: 1px solid #dddddd'>5633bdb9-e053-45bd-a6c9-6710a7e18802</td><td style='border: 1px solid #dddddd'>be27017a-1dc3-49d1-a7d0-a61c9c610c07</td><td style='border: 1px solid #dddddd'>subscription</td><td style='border: 1px solid #dddddd'>5a7b5f9b-a5dd-4d20-97f4-bda8b9c55d4e</td></tr><tr><td style='border: 1px solid #dddddd'>2020-08-18 17:57:42.906980+00:00</td><td style='border: 1px solid #dddddd'>fairness_value</td><td style='border: 1px solid #dddddd'>fb84a53e-7ea8-469b-9782-47736122b8b9</td><td style='border: 1px solid #dddddd'>100.0</td><td style='border: 1px solid #dddddd'>80.0</td><td style='border: 1px solid #dddddd'>None</td><td style='border: 1px solid #dddddd'>['feature:Age', 'fairness_metric_type:fairness', 'feature_value:18-25']</td><td style='border: 1px solid #dddddd'>fairness</td><td style='border: 1px solid #dddddd'>5633bdb9-e053-45bd-a6c9-6710a7e18802</td><td style='border: 1px solid #dddddd'>be27017a-1dc3-49d1-a7d0-a61c9c610c07</td><td style='border: 1px solid #dddddd'>subscription</td><td style='border: 1px solid #dddddd'>5a7b5f9b-a5dd-4d20-97f4-bda8b9c55d4e</td></tr>\n",
       "            </table>\n",
       "        </body>\n",
       "        </HTML>"
      ],
      "text/plain": [
       "<IPython.core.display.HTML object>"
      ]
     },
     "metadata": {},
     "output_type": "display_data"
    }
   ],
   "source": [
    "time.sleep(10)\n",
    "\n",
    "wos_client.monitor_instances.show_metrics(monitor_instance_id=fairness_monitor_instance_id)"
   ]
  },
  {
   "cell_type": "markdown",
   "metadata": {},
   "source": [
    "## Run drift monitor\n",
    "\n",
    "\n",
    "Kick off a drift monitor run on current data. The monitor runs every hour, but can be manually initiated using the Python client, the REST API."
   ]
  },
  {
   "cell_type": "code",
   "execution_count": 152,
   "metadata": {},
   "outputs": [
    {
     "name": "stdout",
     "output_type": "stream",
     "text": [
      "\n",
      "\n",
      "========================================================================\n",
      "\n",
      " Waiting for end of monitoring run 859cf518-3627-45ee-b92a-69e9584bd03b \n",
      "\n",
      "========================================================================\n",
      "\n",
      "\n",
      "\n",
      "finished\n",
      "\n",
      "---------------------------\n",
      " Successfully finished run \n",
      "---------------------------\n",
      "\n",
      "\n"
     ]
    }
   ],
   "source": [
    "drift_run_details = wos_client.monitor_instances.run(monitor_instance_id=drift_monitor_instance_id, background_mode=False)"
   ]
  },
  {
   "cell_type": "code",
   "execution_count": 153,
   "metadata": {},
   "outputs": [
    {
     "data": {
      "text/html": [
       "<HTML>\n",
       "        <body>\n",
       "            <h3>7e3823b6-812d-49ab-b67c-76b686bbb95c Monitor Runs Metrics from: 2020-08-11 17:58:41.865448  till: 2020-08-18 17:58:41.865472</h3>\n",
       "            <table style='border: 1px solid #dddddd; font-family: Courier'>\n",
       "                <th style='border: 1px solid #dddddd'>ts</th><th style='border: 1px solid #dddddd'>id</th><th style='border: 1px solid #dddddd'>measurement_id</th><th style='border: 1px solid #dddddd'>value</th><th style='border: 1px solid #dddddd'>lower_limit</th><th style='border: 1px solid #dddddd'>upper_limit</th><th style='border: 1px solid #dddddd'>tags</th><th style='border: 1px solid #dddddd'>monitor_definition_id</th><th style='border: 1px solid #dddddd'>monitor_instance_id</th><th style='border: 1px solid #dddddd'>run_id</th><th style='border: 1px solid #dddddd'>target_type</th><th style='border: 1px solid #dddddd'>target_id</th>\n",
       "                <tr><td style='border: 1px solid #dddddd'>2020-08-18 17:58:32.320160+00:00</td><td style='border: 1px solid #dddddd'>data_drift_magnitude</td><td style='border: 1px solid #dddddd'>738db6d2-7a8f-4d8f-8e8d-aeb8cc3c1ff4</td><td style='border: 1px solid #dddddd'>0.08653846153846154</td><td style='border: 1px solid #dddddd'>None</td><td style='border: 1px solid #dddddd'>None</td><td style='border: 1px solid #dddddd'>[]</td><td style='border: 1px solid #dddddd'>drift</td><td style='border: 1px solid #dddddd'>7e3823b6-812d-49ab-b67c-76b686bbb95c</td><td style='border: 1px solid #dddddd'>859cf518-3627-45ee-b92a-69e9584bd03b</td><td style='border: 1px solid #dddddd'>subscription</td><td style='border: 1px solid #dddddd'>5a7b5f9b-a5dd-4d20-97f4-bda8b9c55d4e</td></tr>\n",
       "            </table>\n",
       "        </body>\n",
       "        </HTML>"
      ],
      "text/plain": [
       "<IPython.core.display.HTML object>"
      ]
     },
     "metadata": {},
     "output_type": "display_data"
    }
   ],
   "source": [
    "time.sleep(5)\n",
    "\n",
    "wos_client.monitor_instances.show_metrics(monitor_instance_id=drift_monitor_instance_id)"
   ]
  },
  {
   "cell_type": "markdown",
   "metadata": {},
   "source": [
    "## Configure Explainability"
   ]
  },
  {
   "cell_type": "markdown",
   "metadata": {},
   "source": [
    "Finally, we provide OpenScale with the training data to enable and configure the explainability features."
   ]
  },
  {
   "cell_type": "code",
   "execution_count": 103,
   "metadata": {
    "scrolled": true
   },
   "outputs": [
    {
     "name": "stdout",
     "output_type": "stream",
     "text": [
      "\n",
      "\n",
      "===================================================================================\n",
      "\n",
      " Waiting for end of monitor instance creation e1c85625-a73a-4240-a99f-6f23c5bb8a7d \n",
      "\n",
      "===================================================================================\n",
      "\n",
      "\n",
      "\n",
      "active\n",
      "\n",
      "---------------------------------------\n",
      " Monitor instance successfully created \n",
      "---------------------------------------\n",
      "\n",
      "\n"
     ]
    }
   ],
   "source": [
    "target = Target(\n",
    "    target_type=TargetTypes.SUBSCRIPTION,\n",
    "    target_id=subscription_id\n",
    ")\n",
    "parameters = {\n",
    "    \"enabled\": True\n",
    "}\n",
    "explainability_details = wos_client.monitor_instances.create(\n",
    "    data_mart_id=data_mart_id,\n",
    "    background_mode=False,\n",
    "    monitor_definition_id=wos_client.monitor_definitions.MONITORS.EXPLAINABILITY.ID,\n",
    "    target=target,\n",
    "    parameters=parameters\n",
    ").result\n",
    "\n",
    "explainability_monitor_id = explainability_details.metadata.id"
   ]
  },
  {
   "cell_type": "markdown",
   "metadata": {},
   "source": [
    "## Run explanation for sample record"
   ]
  },
  {
   "cell_type": "code",
   "execution_count": 104,
   "metadata": {},
   "outputs": [
    {
     "name": "stdout",
     "output_type": "stream",
     "text": [
      "Running explanations on scoring IDs: ['859bda8165ca31b4d5e9cfdb8e7e4eba-1']\n",
      "{\n",
      "  \"metadata\": {\n",
      "    \"explanation_task_ids\": [\n",
      "      \"69608524-d497-4cde-895a-bf820f923f81\"\n",
      "    ],\n",
      "    \"created_by\": \"IBMid-310002F0G1\",\n",
      "    \"created_at\": \"2020-08-19T17:08:35.594417Z\"\n",
      "  }\n",
      "}\n"
     ]
    }
   ],
   "source": [
    "pl_records_resp = wos_client.data_sets.get_list_of_records(data_set_id=payload_data_set_id, limit=1, offset=0).result\n",
    "scoring_ids = [pl_records_resp[\"records\"][0][\"entity\"][\"values\"][\"scoring_id\"]]\n",
    "print(\"Running explanations on scoring IDs: {}\".format(scoring_ids))\n",
    "explanation_types = [\"lime\", \"contrastive\"]\n",
    "result = wos_client.monitor_instances.explanation_tasks(scoring_ids=scoring_ids, explanation_types=explanation_types).result\n",
    "print(result)"
   ]
  },
  {
   "cell_type": "markdown",
   "metadata": {},
   "source": [
    "# Custom monitors and metrics <a name=\"custom\"></a>"
   ]
  },
  {
   "cell_type": "markdown",
   "metadata": {},
   "source": [
    "## Register custom monitor"
   ]
  },
  {
   "cell_type": "code",
   "execution_count": 85,
   "metadata": {},
   "outputs": [],
   "source": [
    "def get_definition(monitor_name):\n",
    "    monitor_definitions = wos_client.monitor_definitions.list().result.monitor_definitions\n",
    "    \n",
    "    for definition in monitor_definitions:\n",
    "        if monitor_name == definition.entity.name:\n",
    "            return definition\n",
    "    \n",
    "    return None"
   ]
  },
  {
   "cell_type": "code",
   "execution_count": 86,
   "metadata": {},
   "outputs": [],
   "source": [
    "monitor_name = 'my model performance'\n",
    "metrics = [MonitorMetricRequest(name='sensitivity',\n",
    "                                thresholds=[MetricThreshold(type=MetricThresholdTypes.LOWER_LIMIT, default=0.8)]),\n",
    "          MonitorMetricRequest(name='specificity',\n",
    "                                thresholds=[MetricThreshold(type=MetricThresholdTypes.LOWER_LIMIT, default=0.75)])]\n",
    "tags = [MonitorTagRequest(name='region', description='customer geographical region')]\n",
    "\n",
    "existing_definition = get_definition(monitor_name)\n",
    "\n",
    "if existing_definition is None:\n",
    "    custom_monitor_details = wos_client.monitor_definitions.add(name=monitor_name, metrics=metrics, tags=tags, background_mode=False).result\n",
    "else:\n",
    "    custom_monitor_details = existing_definition"
   ]
  },
  {
   "cell_type": "markdown",
   "metadata": {},
   "source": [
    "### Show available monitors types"
   ]
  },
  {
   "cell_type": "code",
   "execution_count": 146,
   "metadata": {},
   "outputs": [
    {
     "data": {
      "text/html": [
       "<HTML>\n",
       "        <body>\n",
       "            <h3>Monitor definitions</h3>\n",
       "            <table style='border: 1px solid #dddddd; font-family: Courier'>\n",
       "                <th style='border: 1px solid #dddddd'>monitor id</th><th style='border: 1px solid #dddddd'>monitor name</th><th style='border: 1px solid #dddddd'>metrics names</th>\n",
       "                <tr><td style='border: 1px solid #dddddd'>my_model_performance</td><td style='border: 1px solid #dddddd'>my model performance</td><td style='border: 1px solid #dddddd'>['sensitivity', 'specificity']</td></tr><tr><td style='border: 1px solid #dddddd'>assurance</td><td style='border: 1px solid #dddddd'>Assurance</td><td style='border: 1px solid #dddddd'>['Uncertainty', 'Confidence']</td></tr><tr><td style='border: 1px solid #dddddd'>fairness</td><td style='border: 1px solid #dddddd'>Fairness</td><td style='border: 1px solid #dddddd'>['Fairness value', 'Average Odds Difference metric value', 'False Discovery Rate Difference metric value', 'Error Rate Difference metric value', 'False Negative Rate Difference metric value', 'False Omission Rate Difference metric value', 'False Positive Rate Difference metric value', 'True Positive Rate Difference metric value']</td></tr><tr><td style='border: 1px solid #dddddd'>performance</td><td style='border: 1px solid #dddddd'>Performance</td><td style='border: 1px solid #dddddd'>['Number of records']</td></tr><tr><td style='border: 1px solid #dddddd'>explainability</td><td style='border: 1px solid #dddddd'>Explainability</td><td style='border: 1px solid #dddddd'>[]</td></tr><tr><td style='border: 1px solid #dddddd'>mrm</td><td style='border: 1px solid #dddddd'>Model risk management monitoring</td><td style='border: 1px solid #dddddd'>['Tests run', 'Tests passed', 'Tests failed', 'Tests skipped', 'Fairness score', 'Quality score', 'Drift score']</td></tr><tr><td style='border: 1px solid #dddddd'>correlations</td><td style='border: 1px solid #dddddd'>Correlations</td><td style='border: 1px solid #dddddd'>['Maximum positive correlation coefficient', 'Maximum negative correlation coefficient', 'Mean absolute correlation coefficient', 'Significant correlation coefficients count']</td></tr><tr><td style='border: 1px solid #dddddd'>drift</td><td style='border: 1px solid #dddddd'>Drift</td><td style='border: 1px solid #dddddd'>['Drop in accuracy', 'Predicted accuracy', 'Drop in data consistency']</td></tr><tr><td style='border: 1px solid #dddddd'>quality</td><td style='border: 1px solid #dddddd'>Quality</td><td style='border: 1px solid #dddddd'>['Area under ROC', 'Area under PR', 'Proportion explained variance', 'Mean absolute error', 'Mean squared error', 'R squared', 'Root of mean squared error', 'Accuracy', 'Weighted True Positive Rate (wTPR)', 'True positive rate (TPR)', 'Weighted False Positive Rate (wFPR)', 'False positive rate (FPR)', 'Weighted recall', 'Recall', 'Weighted precision', 'Precision', 'Weighted F1-Measure', 'F1-Measure', 'Logarithmic loss']</td></tr>\n",
       "            </table>\n",
       "        </body>\n",
       "        </HTML>"
      ],
      "text/plain": [
       "<IPython.core.display.HTML object>"
      ]
     },
     "metadata": {},
     "output_type": "display_data"
    }
   ],
   "source": [
    "wos_client.monitor_definitions.show()"
   ]
  },
  {
   "cell_type": "markdown",
   "metadata": {},
   "source": [
    "### Get monitors uids and details"
   ]
  },
  {
   "cell_type": "code",
   "execution_count": 147,
   "metadata": {},
   "outputs": [
    {
     "name": "stdout",
     "output_type": "stream",
     "text": [
      "my_model_performance\n"
     ]
    }
   ],
   "source": [
    "custom_monitor_id = custom_monitor_details.metadata.id\n",
    "\n",
    "print(custom_monitor_id)"
   ]
  },
  {
   "cell_type": "code",
   "execution_count": 148,
   "metadata": {},
   "outputs": [
    {
     "name": "stdout",
     "output_type": "stream",
     "text": [
      "Monitor definition details: {\n",
      "  \"metadata\": {\n",
      "    \"id\": \"my_model_performance\",\n",
      "    \"crn\": \"crn:v1:bluemix:public:aiopenscale:us-south:a/e0b56432b1f1bd804706dc29b8a89ca1:5a0b9076-fcf6-49e8-a824-9e3a6b4c2a56:monitor_definition:my_model_performance\",\n",
      "    \"url\": \"/v2/monitor_definitions/my_model_performance\",\n",
      "    \"created_at\": \"2020-08-10T22:12:32.125000Z\",\n",
      "    \"created_by\": \"IBMid-310002F0G1\"\n",
      "  },\n",
      "  \"entity\": {\n",
      "    \"name\": \"my model performance\",\n",
      "    \"metrics\": [\n",
      "      {\n",
      "        \"name\": \"sensitivity\",\n",
      "        \"thresholds\": [\n",
      "          {\n",
      "            \"type\": \"lower_limit\",\n",
      "            \"default\": 0.8\n",
      "          }\n",
      "        ],\n",
      "        \"expected_direction\": \"increasing\",\n",
      "        \"id\": \"sensitivity\"\n",
      "      },\n",
      "      {\n",
      "        \"name\": \"specificity\",\n",
      "        \"thresholds\": [\n",
      "          {\n",
      "            \"type\": \"lower_limit\",\n",
      "            \"default\": 0.75\n",
      "          }\n",
      "        ],\n",
      "        \"expected_direction\": \"increasing\",\n",
      "        \"id\": \"specificity\"\n",
      "      }\n",
      "    ],\n",
      "    \"tags\": [\n",
      "      {\n",
      "        \"name\": \"region\",\n",
      "        \"description\": \"customer geographical region\",\n",
      "        \"id\": \"region\"\n",
      "      }\n",
      "    ]\n",
      "  }\n",
      "}\n"
     ]
    }
   ],
   "source": [
    "custom_monitor_details = wos_client.monitor_definitions.get(monitor_definition_id=custom_monitor_id).result\n",
    "print('Monitor definition details:', custom_monitor_details)"
   ]
  },
  {
   "cell_type": "markdown",
   "metadata": {},
   "source": [
    "## Enable custom monitor for subscription"
   ]
  },
  {
   "cell_type": "code",
   "execution_count": 149,
   "metadata": {},
   "outputs": [
    {
     "name": "stdout",
     "output_type": "stream",
     "text": [
      "\n",
      "\n",
      "===================================================================================\n",
      "\n",
      " Waiting for end of monitor instance creation 076ccea1-9ef0-4e8d-8a25-af219abc2818 \n",
      "\n",
      "===================================================================================\n",
      "\n",
      "\n",
      "\n",
      "active\n",
      "\n",
      "---------------------------------------\n",
      " Monitor instance successfully created \n",
      "---------------------------------------\n",
      "\n",
      "\n"
     ]
    }
   ],
   "source": [
    "target = Target(\n",
    "        target_type=TargetTypes.SUBSCRIPTION,\n",
    "        target_id=subscription_id\n",
    "    )\n",
    "\n",
    "thresholds = [MetricThresholdOverride(metric_id='sensitivity', type = MetricThresholdTypes.LOWER_LIMIT, value=0.9)]\n",
    "\n",
    "custom_monitor_instance_details = wos_client.monitor_instances.create(\n",
    "            data_mart_id=data_mart_id,\n",
    "            background_mode=False,\n",
    "            monitor_definition_id=custom_monitor_id,\n",
    "            target=target\n",
    ").result"
   ]
  },
  {
   "cell_type": "markdown",
   "metadata": {},
   "source": [
    "### Get monitor instance id and configuration details"
   ]
  },
  {
   "cell_type": "code",
   "execution_count": 150,
   "metadata": {},
   "outputs": [],
   "source": [
    "custom_monitor_instance_id = custom_monitor_instance_details.metadata.id"
   ]
  },
  {
   "cell_type": "code",
   "execution_count": 151,
   "metadata": {},
   "outputs": [
    {
     "name": "stdout",
     "output_type": "stream",
     "text": [
      "{\n",
      "  \"metadata\": {\n",
      "    \"id\": \"076ccea1-9ef0-4e8d-8a25-af219abc2818\",\n",
      "    \"crn\": \"crn:v1:bluemix:public:aiopenscale:us-south:a/e0b56432b1f1bd804706dc29b8a89ca1:5a0b9076-fcf6-49e8-a824-9e3a6b4c2a56:monitor_instance:076ccea1-9ef0-4e8d-8a25-af219abc2818\",\n",
      "    \"url\": \"/v2/monitor_instances/076ccea1-9ef0-4e8d-8a25-af219abc2818\",\n",
      "    \"created_at\": \"2020-08-10T22:15:30.716000Z\",\n",
      "    \"created_by\": \"IBMid-310002F0G1\"\n",
      "  },\n",
      "  \"entity\": {\n",
      "    \"data_mart_id\": \"5a0b9076-fcf6-49e8-a824-9e3a6b4c2a56\",\n",
      "    \"monitor_definition_id\": \"my_model_performance\",\n",
      "    \"target\": {\n",
      "      \"target_type\": \"subscription\",\n",
      "      \"target_id\": \"b65cc203-e95e-4c7e-a6c3-fd8f98f470ee\"\n",
      "    },\n",
      "    \"thresholds\": [\n",
      "      {\n",
      "        \"metric_id\": \"sensitivity\",\n",
      "        \"type\": \"lower_limit\",\n",
      "        \"value\": 0.8\n",
      "      },\n",
      "      {\n",
      "        \"metric_id\": \"specificity\",\n",
      "        \"type\": \"lower_limit\",\n",
      "        \"value\": 0.75\n",
      "      }\n",
      "    ],\n",
      "    \"schedule\": {\n",
      "      \"repeat_interval\": 60,\n",
      "      \"repeat_unit\": \"minute\",\n",
      "      \"repeat_type\": \"minute\"\n",
      "    },\n",
      "    \"status\": {\n",
      "      \"state\": \"active\"\n",
      "    }\n",
      "  }\n",
      "}\n"
     ]
    }
   ],
   "source": [
    "custom_monitor_instance_details = wos_client.monitor_instances.get(custom_monitor_instance_id).result\n",
    "print(custom_monitor_instance_details)"
   ]
  },
  {
   "cell_type": "markdown",
   "metadata": {},
   "source": [
    "## Storing custom metrics"
   ]
  },
  {
   "cell_type": "code",
   "execution_count": 152,
   "metadata": {},
   "outputs": [
    {
     "name": "stdout",
     "output_type": "stream",
     "text": [
      "{\n",
      "  \"timestamp\": \"2020-08-10T22:18:11.880845Z\",\n",
      "  \"run_id\": \"11122223333111abc\",\n",
      "  \"metrics\": [\n",
      "    {\n",
      "      \"specificity\": 0.78,\n",
      "      \"sensitivity\": 0.67,\n",
      "      \"region\": \"us-south\"\n",
      "    }\n",
      "  ]\n",
      "}\n"
     ]
    }
   ],
   "source": [
    "from datetime import datetime, timezone, timedelta\n",
    "from ibm_watson_openscale.base_classes.watson_open_scale_v2 import MonitorMeasurementRequest\n",
    "custom_monitoring_run_id = \"11122223333111abc\"\n",
    "measurement_request = [MonitorMeasurementRequest(timestamp=datetime.now(timezone.utc), \n",
    "                                                 metrics=[{\"specificity\": 0.78, \"sensitivity\": 0.67, \"region\": \"us-south\"}], run_id=custom_monitoring_run_id)]\n",
    "print(measurement_request[0])"
   ]
  },
  {
   "cell_type": "code",
   "execution_count": 153,
   "metadata": {},
   "outputs": [
    {
     "name": "stdout",
     "output_type": "stream",
     "text": [
      "[{'measurement_id': 'aedd796a-0bf2-41fc-8302-f33d89e0e6bf', 'metrics': [{'region': 'us-south', 'sensitivity': 0.67, 'specificity': 0.78}], 'run_id': '11122223333111abc', 'timestamp': '2020-08-10T22:18:11.880845Z'}]\n"
     ]
    }
   ],
   "source": [
    "published_measurement_response = wos_client.monitor_instances.measurements.add(\n",
    "    monitor_instance_id=custom_monitor_instance_id,\n",
    "    monitor_measurement_request=measurement_request).result\n",
    "published_measurement_id = published_measurement_response[0][\"measurement_id\"]\n",
    "print(published_measurement_response)"
   ]
  },
  {
   "cell_type": "markdown",
   "metadata": {},
   "source": [
    "### List and get custom metrics"
   ]
  },
  {
   "cell_type": "code",
   "execution_count": 154,
   "metadata": {},
   "outputs": [
    {
     "name": "stdout",
     "output_type": "stream",
     "text": [
      "{\n",
      "  \"metadata\": {\n",
      "    \"id\": \"aedd796a-0bf2-41fc-8302-f33d89e0e6bf\",\n",
      "    \"crn\": \"crn:v1:bluemix:public:aiopenscale:us-south:a/e0b56432b1f1bd804706dc29b8a89ca1:5a0b9076-fcf6-49e8-a824-9e3a6b4c2a56:measurement:aedd796a-0bf2-41fc-8302-f33d89e0e6bf\",\n",
      "    \"url\": \"/v2/monitor_instances/076ccea1-9ef0-4e8d-8a25-af219abc2818/measurements/aedd796a-0bf2-41fc-8302-f33d89e0e6bf\",\n",
      "    \"created_at\": \"2020-08-10T22:18:48.397000Z\",\n",
      "    \"created_by\": \"IBMid-310002F0G1\"\n",
      "  },\n",
      "  \"entity\": {\n",
      "    \"timestamp\": \"2020-08-10T22:18:11.880845Z\",\n",
      "    \"run_id\": \"11122223333111abc\",\n",
      "    \"values\": [\n",
      "      {\n",
      "        \"metrics\": [\n",
      "          {\n",
      "            \"id\": \"sensitivity\",\n",
      "            \"value\": 0.67,\n",
      "            \"lower_limit\": 0.8\n",
      "          },\n",
      "          {\n",
      "            \"id\": \"specificity\",\n",
      "            \"value\": 0.78,\n",
      "            \"lower_limit\": 0.75\n",
      "          }\n",
      "        ],\n",
      "        \"tags\": [\n",
      "          {\n",
      "            \"id\": \"region\",\n",
      "            \"value\": \"us-south\"\n",
      "          }\n",
      "        ]\n",
      "      }\n",
      "    ],\n",
      "    \"issue_count\": 1,\n",
      "    \"target\": {\n",
      "      \"target_type\": \"subscription\",\n",
      "      \"target_id\": \"b65cc203-e95e-4c7e-a6c3-fd8f98f470ee\"\n",
      "    },\n",
      "    \"monitor_instance_id\": \"076ccea1-9ef0-4e8d-8a25-af219abc2818\",\n",
      "    \"monitor_definition_id\": \"my_model_performance\"\n",
      "  }\n",
      "}\n"
     ]
    }
   ],
   "source": [
    "time.sleep(5)\n",
    "published_measurement = wos_client.monitor_instances.measurements.get(monitor_instance_id=custom_monitor_instance_id, measurement_id=published_measurement_id).result\n",
    "print(published_measurement)"
   ]
  },
  {
   "cell_type": "markdown",
   "metadata": {},
   "source": [
    "# Historical data <a name=\"historical\"></a>"
   ]
  },
  {
   "cell_type": "code",
   "execution_count": 95,
   "metadata": {},
   "outputs": [],
   "source": [
    "historyDays = 7"
   ]
  },
  {
   "cell_type": "markdown",
   "metadata": {},
   "source": [
    "## Insert historical fairness metrics"
   ]
  },
  {
   "cell_type": "code",
   "execution_count": 91,
   "metadata": {},
   "outputs": [
    {
     "name": "stdout",
     "output_type": "stream",
     "text": [
      "rm: cannot remove ‘history_fairness_v2.json’: No such file or directory\n",
      "-rw-r----- 1 dsxuser dsxuser 37K Aug 17 19:51 history_fairness_v2.json\n"
     ]
    }
   ],
   "source": [
    "!rm history_fairness_v2.json\n",
    "with io.capture_output() as captured:\n",
    "    !wget https://raw.githubusercontent.com/pmservice/ai-openscale-tutorials/master/assets/historical_data/german_credit_risk/wml/history_fairness_v2.json\n",
    "!ls -lh history_fairness_v2.json"
   ]
  },
  {
   "cell_type": "code",
   "execution_count": 94,
   "metadata": {},
   "outputs": [
    {
     "data": {
      "text/plain": [
       "[[{'fairness_metric_type': 'fairness',\n",
       "   'feature': 'Sex',\n",
       "   'fairness_value': 0.947,\n",
       "   'feature_value': 'minority'},\n",
       "  {'fairness_metric_type': 'fairness',\n",
       "   'feature': 'Age',\n",
       "   'fairness_value': 0.954,\n",
       "   'feature_value': 'minority'}],\n",
       " [{'fairness_metric_type': 'fairness',\n",
       "   'feature': 'Sex',\n",
       "   'fairness_value': 0.947,\n",
       "   'feature_value': 'minority'},\n",
       "  {'fairness_metric_type': 'fairness',\n",
       "   'feature': 'Age',\n",
       "   'fairness_value': 0.954,\n",
       "   'feature_value': 'minority'}],\n",
       " [{'fairness_metric_type': 'fairness',\n",
       "   'feature': 'Sex',\n",
       "   'fairness_value': 0.923,\n",
       "   'feature_value': 'minority'},\n",
       "  {'fairness_metric_type': 'fairness',\n",
       "   'feature': 'Age',\n",
       "   'fairness_value': 1.029,\n",
       "   'feature_value': 'minority'}],\n",
       " [{'fairness_metric_type': 'fairness',\n",
       "   'feature': 'Sex',\n",
       "   'fairness_value': 0.949,\n",
       "   'feature_value': 'minority'},\n",
       "  {'fairness_metric_type': 'fairness',\n",
       "   'feature': 'Age',\n",
       "   'fairness_value': 0.992,\n",
       "   'feature_value': 'minority'}],\n",
       " [{'fairness_metric_type': 'fairness',\n",
       "   'feature': 'Sex',\n",
       "   'fairness_value': 0.95,\n",
       "   'feature_value': 'minority'},\n",
       "  {'fairness_metric_type': 'fairness',\n",
       "   'feature': 'Age',\n",
       "   'fairness_value': 0.959,\n",
       "   'feature_value': 'minority'}],\n",
       " [{'fairness_metric_type': 'fairness',\n",
       "   'feature': 'Sex',\n",
       "   'fairness_value': 0.857,\n",
       "   'feature_value': 'minority'},\n",
       "  {'fairness_metric_type': 'fairness',\n",
       "   'feature': 'Age',\n",
       "   'fairness_value': 0.969,\n",
       "   'feature_value': 'minority'}],\n",
       " [{'fairness_metric_type': 'fairness',\n",
       "   'feature': 'Sex',\n",
       "   'fairness_value': 0.938,\n",
       "   'feature_value': 'minority'},\n",
       "  {'fairness_metric_type': 'fairness',\n",
       "   'feature': 'Age',\n",
       "   'fairness_value': 0.986,\n",
       "   'feature_value': 'minority'}],\n",
       " [{'fairness_metric_type': 'fairness',\n",
       "   'feature': 'Sex',\n",
       "   'fairness_value': 0.935,\n",
       "   'feature_value': 'minority'},\n",
       "  {'fairness_metric_type': 'fairness',\n",
       "   'feature': 'Age',\n",
       "   'fairness_value': 0.916,\n",
       "   'feature_value': 'minority'}],\n",
       " [{'fairness_metric_type': 'fairness',\n",
       "   'feature': 'Sex',\n",
       "   'fairness_value': 0.976,\n",
       "   'feature_value': 'minority'},\n",
       "  {'fairness_metric_type': 'fairness',\n",
       "   'feature': 'Age',\n",
       "   'fairness_value': 0.99,\n",
       "   'feature_value': 'minority'}],\n",
       " [{'fairness_metric_type': 'fairness',\n",
       "   'feature': 'Sex',\n",
       "   'fairness_value': 0.925,\n",
       "   'feature_value': 'minority'},\n",
       "  {'fairness_metric_type': 'fairness',\n",
       "   'feature': 'Age',\n",
       "   'fairness_value': 0.959,\n",
       "   'feature_value': 'minority'}],\n",
       " [{'fairness_metric_type': 'fairness',\n",
       "   'feature': 'Sex',\n",
       "   'fairness_value': 0.925,\n",
       "   'feature_value': 'minority'},\n",
       "  {'fairness_metric_type': 'fairness',\n",
       "   'feature': 'Age',\n",
       "   'fairness_value': 0.969,\n",
       "   'feature_value': 'minority'}],\n",
       " [{'fairness_metric_type': 'fairness',\n",
       "   'feature': 'Sex',\n",
       "   'fairness_value': 0.889,\n",
       "   'feature_value': 'minority'},\n",
       "  {'fairness_metric_type': 'fairness',\n",
       "   'feature': 'Age',\n",
       "   'fairness_value': 1.01,\n",
       "   'feature_value': 'minority'}],\n",
       " [{'fairness_metric_type': 'fairness',\n",
       "   'feature': 'Sex',\n",
       "   'fairness_value': 0.937,\n",
       "   'feature_value': 'minority'},\n",
       "  {'fairness_metric_type': 'fairness',\n",
       "   'feature': 'Age',\n",
       "   'fairness_value': 0.958,\n",
       "   'feature_value': 'minority'}],\n",
       " [{'fairness_metric_type': 'fairness',\n",
       "   'feature': 'Sex',\n",
       "   'fairness_value': 0.948,\n",
       "   'feature_value': 'minority'},\n",
       "  {'fairness_metric_type': 'fairness',\n",
       "   'feature': 'Age',\n",
       "   'fairness_value': 1.019,\n",
       "   'feature_value': 'minority'}],\n",
       " [{'fairness_metric_type': 'fairness',\n",
       "   'feature': 'Sex',\n",
       "   'fairness_value': 0.933,\n",
       "   'feature_value': 'minority'},\n",
       "  {'fairness_metric_type': 'fairness',\n",
       "   'feature': 'Age',\n",
       "   'fairness_value': 0.99,\n",
       "   'feature_value': 'minority'}],\n",
       " [{'fairness_metric_type': 'fairness',\n",
       "   'feature': 'Sex',\n",
       "   'fairness_value': 0.88,\n",
       "   'feature_value': 'minority'},\n",
       "  {'fairness_metric_type': 'fairness',\n",
       "   'feature': 'Age',\n",
       "   'fairness_value': 0.963,\n",
       "   'feature_value': 'minority'}],\n",
       " [{'fairness_metric_type': 'fairness',\n",
       "   'feature': 'Sex',\n",
       "   'fairness_value': 0.95,\n",
       "   'feature_value': 'minority'},\n",
       "  {'fairness_metric_type': 'fairness',\n",
       "   'feature': 'Age',\n",
       "   'fairness_value': 1.009,\n",
       "   'feature_value': 'minority'}],\n",
       " [{'fairness_metric_type': 'fairness',\n",
       "   'feature': 'Sex',\n",
       "   'fairness_value': 0.958,\n",
       "   'feature_value': 'minority'},\n",
       "  {'fairness_metric_type': 'fairness',\n",
       "   'feature': 'Age',\n",
       "   'fairness_value': 0.953,\n",
       "   'feature_value': 'minority'}],\n",
       " [{'fairness_metric_type': 'fairness',\n",
       "   'feature': 'Sex',\n",
       "   'fairness_value': 0.889,\n",
       "   'feature_value': 'minority'},\n",
       "  {'fairness_metric_type': 'fairness',\n",
       "   'feature': 'Age',\n",
       "   'fairness_value': 0.993,\n",
       "   'feature_value': 'minority'}],\n",
       " [{'fairness_metric_type': 'fairness',\n",
       "   'feature': 'Sex',\n",
       "   'fairness_value': 0.886,\n",
       "   'feature_value': 'minority'},\n",
       "  {'fairness_metric_type': 'fairness',\n",
       "   'feature': 'Age',\n",
       "   'fairness_value': 0.927,\n",
       "   'feature_value': 'minority'}],\n",
       " [{'fairness_metric_type': 'fairness',\n",
       "   'feature': 'Sex',\n",
       "   'fairness_value': 0.931,\n",
       "   'feature_value': 'minority'},\n",
       "  {'fairness_metric_type': 'fairness',\n",
       "   'feature': 'Age',\n",
       "   'fairness_value': 0.971,\n",
       "   'feature_value': 'minority'}],\n",
       " [{'fairness_metric_type': 'fairness',\n",
       "   'feature': 'Sex',\n",
       "   'fairness_value': 0.961,\n",
       "   'feature_value': 'minority'},\n",
       "  {'fairness_metric_type': 'fairness',\n",
       "   'feature': 'Age',\n",
       "   'fairness_value': 0.924,\n",
       "   'feature_value': 'minority'}],\n",
       " [{'fairness_metric_type': 'fairness',\n",
       "   'feature': 'Sex',\n",
       "   'fairness_value': 0.904,\n",
       "   'feature_value': 'minority'},\n",
       "  {'fairness_metric_type': 'fairness',\n",
       "   'feature': 'Age',\n",
       "   'fairness_value': 1.01,\n",
       "   'feature_value': 'minority'}],\n",
       " [{'fairness_metric_type': 'fairness',\n",
       "   'feature': 'Sex',\n",
       "   'fairness_value': 0.95,\n",
       "   'feature_value': 'minority'},\n",
       "  {'fairness_metric_type': 'fairness',\n",
       "   'feature': 'Age',\n",
       "   'fairness_value': 1.0,\n",
       "   'feature_value': 'minority'}],\n",
       " [{'fairness_metric_type': 'fairness',\n",
       "   'feature': 'Sex',\n",
       "   'fairness_value': 0.948,\n",
       "   'feature_value': 'minority'},\n",
       "  {'fairness_metric_type': 'fairness',\n",
       "   'feature': 'Age',\n",
       "   'fairness_value': 0.99,\n",
       "   'feature_value': 'minority'}],\n",
       " [{'fairness_metric_type': 'fairness',\n",
       "   'feature': 'Sex',\n",
       "   'fairness_value': 0.951,\n",
       "   'feature_value': 'minority'},\n",
       "  {'fairness_metric_type': 'fairness',\n",
       "   'feature': 'Age',\n",
       "   'fairness_value': 0.952,\n",
       "   'feature_value': 'minority'}],\n",
       " [{'fairness_metric_type': 'fairness',\n",
       "   'feature': 'Sex',\n",
       "   'fairness_value': 0.851,\n",
       "   'feature_value': 'minority'},\n",
       "  {'fairness_metric_type': 'fairness',\n",
       "   'feature': 'Age',\n",
       "   'fairness_value': 1.046,\n",
       "   'feature_value': 'minority'}],\n",
       " [{'fairness_metric_type': 'fairness',\n",
       "   'feature': 'Sex',\n",
       "   'fairness_value': 0.929,\n",
       "   'feature_value': 'minority'},\n",
       "  {'fairness_metric_type': 'fairness',\n",
       "   'feature': 'Age',\n",
       "   'fairness_value': 1.011,\n",
       "   'feature_value': 'minority'}],\n",
       " [{'fairness_metric_type': 'fairness',\n",
       "   'feature': 'Sex',\n",
       "   'fairness_value': 0.975,\n",
       "   'feature_value': 'minority'},\n",
       "  {'fairness_metric_type': 'fairness',\n",
       "   'feature': 'Age',\n",
       "   'fairness_value': 0.972,\n",
       "   'feature_value': 'minority'}],\n",
       " [{'fairness_metric_type': 'fairness',\n",
       "   'feature': 'Sex',\n",
       "   'fairness_value': 0.926,\n",
       "   'feature_value': 'minority'},\n",
       "  {'fairness_metric_type': 'fairness',\n",
       "   'feature': 'Age',\n",
       "   'fairness_value': 0.951,\n",
       "   'feature_value': 'minority'}],\n",
       " [{'fairness_metric_type': 'fairness',\n",
       "   'feature': 'Sex',\n",
       "   'fairness_value': 0.962,\n",
       "   'feature_value': 'minority'},\n",
       "  {'fairness_metric_type': 'fairness',\n",
       "   'feature': 'Age',\n",
       "   'fairness_value': 0.966,\n",
       "   'feature_value': 'minority'}],\n",
       " [{'fairness_metric_type': 'fairness',\n",
       "   'feature': 'Sex',\n",
       "   'fairness_value': 0.903,\n",
       "   'feature_value': 'minority'},\n",
       "  {'fairness_metric_type': 'fairness',\n",
       "   'feature': 'Age',\n",
       "   'fairness_value': 0.945,\n",
       "   'feature_value': 'minority'}],\n",
       " [{'fairness_metric_type': 'fairness',\n",
       "   'feature': 'Sex',\n",
       "   'fairness_value': 0.934,\n",
       "   'feature_value': 'minority'},\n",
       "  {'fairness_metric_type': 'fairness',\n",
       "   'feature': 'Age',\n",
       "   'fairness_value': 0.947,\n",
       "   'feature_value': 'minority'}],\n",
       " [{'fairness_metric_type': 'fairness',\n",
       "   'feature': 'Sex',\n",
       "   'fairness_value': 0.96,\n",
       "   'feature_value': 'minority'},\n",
       "  {'fairness_metric_type': 'fairness',\n",
       "   'feature': 'Age',\n",
       "   'fairness_value': 1.023,\n",
       "   'feature_value': 'minority'}],\n",
       " [{'fairness_metric_type': 'fairness',\n",
       "   'feature': 'Sex',\n",
       "   'fairness_value': 0.95,\n",
       "   'feature_value': 'minority'},\n",
       "  {'fairness_metric_type': 'fairness',\n",
       "   'feature': 'Age',\n",
       "   'fairness_value': 0.954,\n",
       "   'feature_value': 'minority'}],\n",
       " [{'fairness_metric_type': 'fairness',\n",
       "   'feature': 'Sex',\n",
       "   'fairness_value': 0.974,\n",
       "   'feature_value': 'minority'},\n",
       "  {'fairness_metric_type': 'fairness',\n",
       "   'feature': 'Age',\n",
       "   'fairness_value': 0.971,\n",
       "   'feature_value': 'minority'}],\n",
       " [{'fairness_metric_type': 'fairness',\n",
       "   'feature': 'Sex',\n",
       "   'fairness_value': 0.938,\n",
       "   'feature_value': 'minority'},\n",
       "  {'fairness_metric_type': 'fairness',\n",
       "   'feature': 'Age',\n",
       "   'fairness_value': 0.918,\n",
       "   'feature_value': 'minority'}],\n",
       " [{'fairness_metric_type': 'fairness',\n",
       "   'feature': 'Sex',\n",
       "   'fairness_value': 0.938,\n",
       "   'feature_value': 'minority'},\n",
       "  {'fairness_metric_type': 'fairness',\n",
       "   'feature': 'Age',\n",
       "   'fairness_value': 1.039,\n",
       "   'feature_value': 'minority'}],\n",
       " [{'fairness_metric_type': 'fairness',\n",
       "   'feature': 'Sex',\n",
       "   'fairness_value': 0.911,\n",
       "   'feature_value': 'minority'},\n",
       "  {'fairness_metric_type': 'fairness',\n",
       "   'feature': 'Age',\n",
       "   'fairness_value': 1.057,\n",
       "   'feature_value': 'minority'}],\n",
       " [{'fairness_metric_type': 'fairness',\n",
       "   'feature': 'Sex',\n",
       "   'fairness_value': 0.913,\n",
       "   'feature_value': 'minority'},\n",
       "  {'fairness_metric_type': 'fairness',\n",
       "   'feature': 'Age',\n",
       "   'fairness_value': 0.954,\n",
       "   'feature_value': 'minority'}],\n",
       " [{'fairness_metric_type': 'fairness',\n",
       "   'feature': 'Sex',\n",
       "   'fairness_value': 0.914,\n",
       "   'feature_value': 'minority'},\n",
       "  {'fairness_metric_type': 'fairness',\n",
       "   'feature': 'Age',\n",
       "   'fairness_value': 0.979,\n",
       "   'feature_value': 'minority'}],\n",
       " [{'fairness_metric_type': 'fairness',\n",
       "   'feature': 'Sex',\n",
       "   'fairness_value': 0.95,\n",
       "   'feature_value': 'minority'},\n",
       "  {'fairness_metric_type': 'fairness',\n",
       "   'feature': 'Age',\n",
       "   'fairness_value': 1.077,\n",
       "   'feature_value': 'minority'}],\n",
       " [{'fairness_metric_type': 'fairness',\n",
       "   'feature': 'Sex',\n",
       "   'fairness_value': 0.907,\n",
       "   'feature_value': 'minority'},\n",
       "  {'fairness_metric_type': 'fairness',\n",
       "   'feature': 'Age',\n",
       "   'fairness_value': 0.912,\n",
       "   'feature_value': 'minority'}],\n",
       " [{'fairness_metric_type': 'fairness',\n",
       "   'feature': 'Sex',\n",
       "   'fairness_value': 0.91,\n",
       "   'feature_value': 'minority'},\n",
       "  {'fairness_metric_type': 'fairness',\n",
       "   'feature': 'Age',\n",
       "   'fairness_value': 0.944,\n",
       "   'feature_value': 'minority'}],\n",
       " [{'fairness_metric_type': 'fairness',\n",
       "   'feature': 'Sex',\n",
       "   'fairness_value': 0.923,\n",
       "   'feature_value': 'minority'},\n",
       "  {'fairness_metric_type': 'fairness',\n",
       "   'feature': 'Age',\n",
       "   'fairness_value': 0.969,\n",
       "   'feature_value': 'minority'}],\n",
       " [{'fairness_metric_type': 'fairness',\n",
       "   'feature': 'Sex',\n",
       "   'fairness_value': 0.974,\n",
       "   'feature_value': 'minority'},\n",
       "  {'fairness_metric_type': 'fairness',\n",
       "   'feature': 'Age',\n",
       "   'fairness_value': 0.966,\n",
       "   'feature_value': 'minority'}],\n",
       " [{'fairness_metric_type': 'fairness',\n",
       "   'feature': 'Sex',\n",
       "   'fairness_value': 0.919,\n",
       "   'feature_value': 'minority'},\n",
       "  {'fairness_metric_type': 'fairness',\n",
       "   'feature': 'Age',\n",
       "   'fairness_value': 0.993,\n",
       "   'feature_value': 'minority'}],\n",
       " [{'fairness_metric_type': 'fairness',\n",
       "   'feature': 'Sex',\n",
       "   'fairness_value': 0.915,\n",
       "   'feature_value': 'minority'},\n",
       "  {'fairness_metric_type': 'fairness',\n",
       "   'feature': 'Age',\n",
       "   'fairness_value': 0.953,\n",
       "   'feature_value': 'minority'}],\n",
       " [{'fairness_metric_type': 'fairness',\n",
       "   'feature': 'Sex',\n",
       "   'fairness_value': 0.963,\n",
       "   'feature_value': 'minority'},\n",
       "  {'fairness_metric_type': 'fairness',\n",
       "   'feature': 'Age',\n",
       "   'fairness_value': 0.931,\n",
       "   'feature_value': 'minority'}],\n",
       " [{'fairness_metric_type': 'fairness',\n",
       "   'feature': 'Sex',\n",
       "   'fairness_value': 0.949,\n",
       "   'feature_value': 'minority'},\n",
       "  {'fairness_metric_type': 'fairness',\n",
       "   'feature': 'Age',\n",
       "   'fairness_value': 1.009,\n",
       "   'feature_value': 'minority'}],\n",
       " [{'fairness_metric_type': 'fairness',\n",
       "   'feature': 'Sex',\n",
       "   'fairness_value': 0.923,\n",
       "   'feature_value': 'minority'},\n",
       "  {'fairness_metric_type': 'fairness',\n",
       "   'feature': 'Age',\n",
       "   'fairness_value': 0.955,\n",
       "   'feature_value': 'minority'}],\n",
       " [{'fairness_metric_type': 'fairness',\n",
       "   'feature': 'Sex',\n",
       "   'fairness_value': 0.96,\n",
       "   'feature_value': 'minority'},\n",
       "  {'fairness_metric_type': 'fairness',\n",
       "   'feature': 'Age',\n",
       "   'fairness_value': 0.972,\n",
       "   'feature_value': 'minority'}],\n",
       " [{'fairness_metric_type': 'fairness',\n",
       "   'feature': 'Sex',\n",
       "   'fairness_value': 0.947,\n",
       "   'feature_value': 'minority'},\n",
       "  {'fairness_metric_type': 'fairness',\n",
       "   'feature': 'Age',\n",
       "   'fairness_value': 0.996,\n",
       "   'feature_value': 'minority'}],\n",
       " [{'fairness_metric_type': 'fairness',\n",
       "   'feature': 'Sex',\n",
       "   'fairness_value': 0.929,\n",
       "   'feature_value': 'minority'},\n",
       "  {'fairness_metric_type': 'fairness',\n",
       "   'feature': 'Age',\n",
       "   'fairness_value': 0.944,\n",
       "   'feature_value': 'minority'}],\n",
       " [{'fairness_metric_type': 'fairness',\n",
       "   'feature': 'Sex',\n",
       "   'fairness_value': 0.937,\n",
       "   'feature_value': 'minority'},\n",
       "  {'fairness_metric_type': 'fairness',\n",
       "   'feature': 'Age',\n",
       "   'fairness_value': 0.994,\n",
       "   'feature_value': 'minority'}],\n",
       " [{'fairness_metric_type': 'fairness',\n",
       "   'feature': 'Sex',\n",
       "   'fairness_value': 0.875,\n",
       "   'feature_value': 'minority'},\n",
       "  {'fairness_metric_type': 'fairness',\n",
       "   'feature': 'Age',\n",
       "   'fairness_value': 0.99,\n",
       "   'feature_value': 'minority'}],\n",
       " [{'fairness_metric_type': 'fairness',\n",
       "   'feature': 'Sex',\n",
       "   'fairness_value': 0.942,\n",
       "   'feature_value': 'minority'},\n",
       "  {'fairness_metric_type': 'fairness',\n",
       "   'feature': 'Age',\n",
       "   'fairness_value': 1.006,\n",
       "   'feature_value': 'minority'}],\n",
       " [{'fairness_metric_type': 'fairness',\n",
       "   'feature': 'Sex',\n",
       "   'fairness_value': 0.988,\n",
       "   'feature_value': 'minority'},\n",
       "  {'fairness_metric_type': 'fairness',\n",
       "   'feature': 'Age',\n",
       "   'fairness_value': 0.978,\n",
       "   'feature_value': 'minority'}],\n",
       " [{'fairness_metric_type': 'fairness',\n",
       "   'feature': 'Sex',\n",
       "   'fairness_value': 0.953,\n",
       "   'feature_value': 'minority'},\n",
       "  {'fairness_metric_type': 'fairness',\n",
       "   'feature': 'Age',\n",
       "   'fairness_value': 0.952,\n",
       "   'feature_value': 'minority'}],\n",
       " [{'fairness_metric_type': 'fairness',\n",
       "   'feature': 'Sex',\n",
       "   'fairness_value': 0.929,\n",
       "   'feature_value': 'minority'},\n",
       "  {'fairness_metric_type': 'fairness',\n",
       "   'feature': 'Age',\n",
       "   'fairness_value': 1.002,\n",
       "   'feature_value': 'minority'}],\n",
       " [{'fairness_metric_type': 'fairness',\n",
       "   'feature': 'Sex',\n",
       "   'fairness_value': 0.926,\n",
       "   'feature_value': 'minority'},\n",
       "  {'fairness_metric_type': 'fairness',\n",
       "   'feature': 'Age',\n",
       "   'fairness_value': 0.985,\n",
       "   'feature_value': 'minority'}],\n",
       " [{'fairness_metric_type': 'fairness',\n",
       "   'feature': 'Sex',\n",
       "   'fairness_value': 0.93,\n",
       "   'feature_value': 'minority'},\n",
       "  {'fairness_metric_type': 'fairness',\n",
       "   'feature': 'Age',\n",
       "   'fairness_value': 1.03,\n",
       "   'feature_value': 'minority'}],\n",
       " [{'fairness_metric_type': 'fairness',\n",
       "   'feature': 'Sex',\n",
       "   'fairness_value': 0.919,\n",
       "   'feature_value': 'minority'},\n",
       "  {'fairness_metric_type': 'fairness',\n",
       "   'feature': 'Age',\n",
       "   'fairness_value': 0.979,\n",
       "   'feature_value': 'minority'}],\n",
       " [{'fairness_metric_type': 'fairness',\n",
       "   'feature': 'Sex',\n",
       "   'fairness_value': 0.926,\n",
       "   'feature_value': 'minority'},\n",
       "  {'fairness_metric_type': 'fairness',\n",
       "   'feature': 'Age',\n",
       "   'fairness_value': 0.956,\n",
       "   'feature_value': 'minority'}],\n",
       " [{'fairness_metric_type': 'fairness',\n",
       "   'feature': 'Sex',\n",
       "   'fairness_value': 0.903,\n",
       "   'feature_value': 'minority'},\n",
       "  {'fairness_metric_type': 'fairness',\n",
       "   'feature': 'Age',\n",
       "   'fairness_value': 0.967,\n",
       "   'feature_value': 'minority'}],\n",
       " [{'fairness_metric_type': 'fairness',\n",
       "   'feature': 'Sex',\n",
       "   'fairness_value': 0.911,\n",
       "   'feature_value': 'minority'},\n",
       "  {'fairness_metric_type': 'fairness',\n",
       "   'feature': 'Age',\n",
       "   'fairness_value': 1.024,\n",
       "   'feature_value': 'minority'}],\n",
       " [{'fairness_metric_type': 'fairness',\n",
       "   'feature': 'Sex',\n",
       "   'fairness_value': 0.926,\n",
       "   'feature_value': 'minority'},\n",
       "  {'fairness_metric_type': 'fairness',\n",
       "   'feature': 'Age',\n",
       "   'fairness_value': 0.969,\n",
       "   'feature_value': 'minority'}],\n",
       " [{'fairness_metric_type': 'fairness',\n",
       "   'feature': 'Sex',\n",
       "   'fairness_value': 0.928,\n",
       "   'feature_value': 'minority'},\n",
       "  {'fairness_metric_type': 'fairness',\n",
       "   'feature': 'Age',\n",
       "   'fairness_value': 0.974,\n",
       "   'feature_value': 'minority'}],\n",
       " [{'fairness_metric_type': 'fairness',\n",
       "   'feature': 'Sex',\n",
       "   'fairness_value': 0.974,\n",
       "   'feature_value': 'minority'},\n",
       "  {'fairness_metric_type': 'fairness',\n",
       "   'feature': 'Age',\n",
       "   'fairness_value': 1.061,\n",
       "   'feature_value': 'minority'}],\n",
       " [{'fairness_metric_type': 'fairness',\n",
       "   'feature': 'Sex',\n",
       "   'fairness_value': 0.953,\n",
       "   'feature_value': 'minority'},\n",
       "  {'fairness_metric_type': 'fairness',\n",
       "   'feature': 'Age',\n",
       "   'fairness_value': 0.983,\n",
       "   'feature_value': 'minority'}],\n",
       " [{'fairness_metric_type': 'fairness',\n",
       "   'feature': 'Sex',\n",
       "   'fairness_value': 0.935,\n",
       "   'feature_value': 'minority'},\n",
       "  {'fairness_metric_type': 'fairness',\n",
       "   'feature': 'Age',\n",
       "   'fairness_value': 1.002,\n",
       "   'feature_value': 'minority'}],\n",
       " [{'fairness_metric_type': 'fairness',\n",
       "   'feature': 'Sex',\n",
       "   'fairness_value': 0.927,\n",
       "   'feature_value': 'minority'},\n",
       "  {'fairness_metric_type': 'fairness',\n",
       "   'feature': 'Age',\n",
       "   'fairness_value': 1.042,\n",
       "   'feature_value': 'minority'}],\n",
       " [{'fairness_metric_type': 'fairness',\n",
       "   'feature': 'Sex',\n",
       "   'fairness_value': 0.962,\n",
       "   'feature_value': 'minority'},\n",
       "  {'fairness_metric_type': 'fairness',\n",
       "   'feature': 'Age',\n",
       "   'fairness_value': 0.961,\n",
       "   'feature_value': 'minority'}],\n",
       " [{'fairness_metric_type': 'fairness',\n",
       "   'feature': 'Sex',\n",
       "   'fairness_value': 0.935,\n",
       "   'feature_value': 'minority'},\n",
       "  {'fairness_metric_type': 'fairness',\n",
       "   'feature': 'Age',\n",
       "   'fairness_value': 1.041,\n",
       "   'feature_value': 'minority'}],\n",
       " [{'fairness_metric_type': 'fairness',\n",
       "   'feature': 'Sex',\n",
       "   'fairness_value': 0.964,\n",
       "   'feature_value': 'minority'},\n",
       "  {'fairness_metric_type': 'fairness',\n",
       "   'feature': 'Age',\n",
       "   'fairness_value': 0.98,\n",
       "   'feature_value': 'minority'}],\n",
       " [{'fairness_metric_type': 'fairness',\n",
       "   'feature': 'Sex',\n",
       "   'fairness_value': 0.901,\n",
       "   'feature_value': 'minority'},\n",
       "  {'fairness_metric_type': 'fairness',\n",
       "   'feature': 'Age',\n",
       "   'fairness_value': 0.973,\n",
       "   'feature_value': 'minority'}],\n",
       " [{'fairness_metric_type': 'fairness',\n",
       "   'feature': 'Sex',\n",
       "   'fairness_value': 0.973,\n",
       "   'feature_value': 'minority'},\n",
       "  {'fairness_metric_type': 'fairness',\n",
       "   'feature': 'Age',\n",
       "   'fairness_value': 1.021,\n",
       "   'feature_value': 'minority'}],\n",
       " [{'fairness_metric_type': 'fairness',\n",
       "   'feature': 'Sex',\n",
       "   'fairness_value': 0.947,\n",
       "   'feature_value': 'minority'},\n",
       "  {'fairness_metric_type': 'fairness',\n",
       "   'feature': 'Age',\n",
       "   'fairness_value': 0.973,\n",
       "   'feature_value': 'minority'}],\n",
       " [{'fairness_metric_type': 'fairness',\n",
       "   'feature': 'Sex',\n",
       "   'fairness_value': 0.902,\n",
       "   'feature_value': 'minority'},\n",
       "  {'fairness_metric_type': 'fairness',\n",
       "   'feature': 'Age',\n",
       "   'fairness_value': 0.962,\n",
       "   'feature_value': 'minority'}],\n",
       " [{'fairness_metric_type': 'fairness',\n",
       "   'feature': 'Sex',\n",
       "   'fairness_value': 0.914,\n",
       "   'feature_value': 'minority'},\n",
       "  {'fairness_metric_type': 'fairness',\n",
       "   'feature': 'Age',\n",
       "   'fairness_value': 1.032,\n",
       "   'feature_value': 'minority'}],\n",
       " [{'fairness_metric_type': 'fairness',\n",
       "   'feature': 'Sex',\n",
       "   'fairness_value': 0.919,\n",
       "   'feature_value': 'minority'},\n",
       "  {'fairness_metric_type': 'fairness',\n",
       "   'feature': 'Age',\n",
       "   'fairness_value': 1.005,\n",
       "   'feature_value': 'minority'}],\n",
       " [{'fairness_metric_type': 'fairness',\n",
       "   'feature': 'Sex',\n",
       "   'fairness_value': 0.883,\n",
       "   'feature_value': 'minority'},\n",
       "  {'fairness_metric_type': 'fairness',\n",
       "   'feature': 'Age',\n",
       "   'fairness_value': 0.934,\n",
       "   'feature_value': 'minority'}],\n",
       " [{'fairness_metric_type': 'fairness',\n",
       "   'feature': 'Sex',\n",
       "   'fairness_value': 0.919,\n",
       "   'feature_value': 'minority'},\n",
       "  {'fairness_metric_type': 'fairness',\n",
       "   'feature': 'Age',\n",
       "   'fairness_value': 0.984,\n",
       "   'feature_value': 'minority'}],\n",
       " [{'fairness_metric_type': 'fairness',\n",
       "   'feature': 'Sex',\n",
       "   'fairness_value': 0.949,\n",
       "   'feature_value': 'minority'},\n",
       "  {'fairness_metric_type': 'fairness',\n",
       "   'feature': 'Age',\n",
       "   'fairness_value': 0.993,\n",
       "   'feature_value': 'minority'}],\n",
       " [{'fairness_metric_type': 'fairness',\n",
       "   'feature': 'Sex',\n",
       "   'fairness_value': 0.87,\n",
       "   'feature_value': 'minority'},\n",
       "  {'fairness_metric_type': 'fairness',\n",
       "   'feature': 'Age',\n",
       "   'fairness_value': 1.004,\n",
       "   'feature_value': 'minority'}],\n",
       " [{'fairness_metric_type': 'fairness',\n",
       "   'feature': 'Sex',\n",
       "   'fairness_value': 0.924,\n",
       "   'feature_value': 'minority'},\n",
       "  {'fairness_metric_type': 'fairness',\n",
       "   'feature': 'Age',\n",
       "   'fairness_value': 0.971,\n",
       "   'feature_value': 'minority'}],\n",
       " [{'fairness_metric_type': 'fairness',\n",
       "   'feature': 'Sex',\n",
       "   'fairness_value': 0.935,\n",
       "   'feature_value': 'minority'},\n",
       "  {'fairness_metric_type': 'fairness',\n",
       "   'feature': 'Age',\n",
       "   'fairness_value': 0.942,\n",
       "   'feature_value': 'minority'}],\n",
       " [{'fairness_metric_type': 'fairness',\n",
       "   'feature': 'Sex',\n",
       "   'fairness_value': 0.948,\n",
       "   'feature_value': 'minority'},\n",
       "  {'fairness_metric_type': 'fairness',\n",
       "   'feature': 'Age',\n",
       "   'fairness_value': 0.971,\n",
       "   'feature_value': 'minority'}],\n",
       " [{'fairness_metric_type': 'fairness',\n",
       "   'feature': 'Sex',\n",
       "   'fairness_value': 0.949,\n",
       "   'feature_value': 'minority'},\n",
       "  {'fairness_metric_type': 'fairness',\n",
       "   'feature': 'Age',\n",
       "   'fairness_value': 0.979,\n",
       "   'feature_value': 'minority'}],\n",
       " [{'fairness_metric_type': 'fairness',\n",
       "   'feature': 'Sex',\n",
       "   'fairness_value': 0.944,\n",
       "   'feature_value': 'minority'},\n",
       "  {'fairness_metric_type': 'fairness',\n",
       "   'feature': 'Age',\n",
       "   'fairness_value': 0.975,\n",
       "   'feature_value': 'minority'}],\n",
       " [{'fairness_metric_type': 'fairness',\n",
       "   'feature': 'Sex',\n",
       "   'fairness_value': 0.923,\n",
       "   'feature_value': 'minority'},\n",
       "  {'fairness_metric_type': 'fairness',\n",
       "   'feature': 'Age',\n",
       "   'fairness_value': 0.947,\n",
       "   'feature_value': 'minority'}],\n",
       " [{'fairness_metric_type': 'fairness',\n",
       "   'feature': 'Sex',\n",
       "   'fairness_value': 0.901,\n",
       "   'feature_value': 'minority'},\n",
       "  {'fairness_metric_type': 'fairness',\n",
       "   'feature': 'Age',\n",
       "   'fairness_value': 0.996,\n",
       "   'feature_value': 'minority'}],\n",
       " [{'fairness_metric_type': 'fairness',\n",
       "   'feature': 'Sex',\n",
       "   'fairness_value': 0.922,\n",
       "   'feature_value': 'minority'},\n",
       "  {'fairness_metric_type': 'fairness',\n",
       "   'feature': 'Age',\n",
       "   'fairness_value': 0.937,\n",
       "   'feature_value': 'minority'}],\n",
       " [{'fairness_metric_type': 'fairness',\n",
       "   'feature': 'Sex',\n",
       "   'fairness_value': 0.877,\n",
       "   'feature_value': 'minority'},\n",
       "  {'fairness_metric_type': 'fairness',\n",
       "   'feature': 'Age',\n",
       "   'fairness_value': 0.98,\n",
       "   'feature_value': 'minority'}],\n",
       " [{'fairness_metric_type': 'fairness',\n",
       "   'feature': 'Sex',\n",
       "   'fairness_value': 0.938,\n",
       "   'feature_value': 'minority'},\n",
       "  {'fairness_metric_type': 'fairness',\n",
       "   'feature': 'Age',\n",
       "   'fairness_value': 0.99,\n",
       "   'feature_value': 'minority'}],\n",
       " [{'fairness_metric_type': 'fairness',\n",
       "   'feature': 'Sex',\n",
       "   'fairness_value': 0.945,\n",
       "   'feature_value': 'minority'},\n",
       "  {'fairness_metric_type': 'fairness',\n",
       "   'feature': 'Age',\n",
       "   'fairness_value': 0.948,\n",
       "   'feature_value': 'minority'}],\n",
       " [{'fairness_metric_type': 'fairness',\n",
       "   'feature': 'Sex',\n",
       "   'fairness_value': 0.948,\n",
       "   'feature_value': 'minority'},\n",
       "  {'fairness_metric_type': 'fairness',\n",
       "   'feature': 'Age',\n",
       "   'fairness_value': 0.98,\n",
       "   'feature_value': 'minority'}],\n",
       " [{'fairness_metric_type': 'fairness',\n",
       "   'feature': 'Sex',\n",
       "   'fairness_value': 0.942,\n",
       "   'feature_value': 'minority'},\n",
       "  {'fairness_metric_type': 'fairness',\n",
       "   'feature': 'Age',\n",
       "   'fairness_value': 0.97,\n",
       "   'feature_value': 'minority'}],\n",
       " [{'fairness_metric_type': 'fairness',\n",
       "   'feature': 'Sex',\n",
       "   'fairness_value': 0.932,\n",
       "   'feature_value': 'minority'},\n",
       "  {'fairness_metric_type': 'fairness',\n",
       "   'feature': 'Age',\n",
       "   'fairness_value': 0.953,\n",
       "   'feature_value': 'minority'}],\n",
       " [{'fairness_metric_type': 'fairness',\n",
       "   'feature': 'Sex',\n",
       "   'fairness_value': 0.951,\n",
       "   'feature_value': 'minority'},\n",
       "  {'fairness_metric_type': 'fairness',\n",
       "   'feature': 'Age',\n",
       "   'fairness_value': 0.984,\n",
       "   'feature_value': 'minority'}],\n",
       " [{'fairness_metric_type': 'fairness',\n",
       "   'feature': 'Sex',\n",
       "   'fairness_value': 0.928,\n",
       "   'feature_value': 'minority'},\n",
       "  {'fairness_metric_type': 'fairness',\n",
       "   'feature': 'Age',\n",
       "   'fairness_value': 0.977,\n",
       "   'feature_value': 'minority'}],\n",
       " [{'fairness_metric_type': 'fairness',\n",
       "   'feature': 'Sex',\n",
       "   'fairness_value': 0.926,\n",
       "   'feature_value': 'minority'},\n",
       "  {'fairness_metric_type': 'fairness',\n",
       "   'feature': 'Age',\n",
       "   'fairness_value': 0.978,\n",
       "   'feature_value': 'minority'}],\n",
       " [{'fairness_metric_type': 'fairness',\n",
       "   'feature': 'Sex',\n",
       "   'fairness_value': 0.951,\n",
       "   'feature_value': 'minority'},\n",
       "  {'fairness_metric_type': 'fairness',\n",
       "   'feature': 'Age',\n",
       "   'fairness_value': 0.985,\n",
       "   'feature_value': 'minority'}],\n",
       " [{'fairness_metric_type': 'fairness',\n",
       "   'feature': 'Sex',\n",
       "   'fairness_value': 0.928,\n",
       "   'feature_value': 'minority'},\n",
       "  {'fairness_metric_type': 'fairness',\n",
       "   'feature': 'Age',\n",
       "   'fairness_value': 1.016,\n",
       "   'feature_value': 'minority'}],\n",
       " [{'fairness_metric_type': 'fairness',\n",
       "   'feature': 'Sex',\n",
       "   'fairness_value': 0.951,\n",
       "   'feature_value': 'minority'},\n",
       "  {'fairness_metric_type': 'fairness',\n",
       "   'feature': 'Age',\n",
       "   'fairness_value': 0.941,\n",
       "   'feature_value': 'minority'}],\n",
       " [{'fairness_metric_type': 'fairness',\n",
       "   'feature': 'Sex',\n",
       "   'fairness_value': 0.959,\n",
       "   'feature_value': 'minority'},\n",
       "  {'fairness_metric_type': 'fairness',\n",
       "   'feature': 'Age',\n",
       "   'fairness_value': 0.995,\n",
       "   'feature_value': 'minority'}],\n",
       " [{'fairness_metric_type': 'fairness',\n",
       "   'feature': 'Sex',\n",
       "   'fairness_value': 0.863,\n",
       "   'feature_value': 'minority'},\n",
       "  {'fairness_metric_type': 'fairness',\n",
       "   'feature': 'Age',\n",
       "   'fairness_value': 0.965,\n",
       "   'feature_value': 'minority'}],\n",
       " [{'fairness_metric_type': 'fairness',\n",
       "   'feature': 'Sex',\n",
       "   'fairness_value': 0.963,\n",
       "   'feature_value': 'minority'},\n",
       "  {'fairness_metric_type': 'fairness',\n",
       "   'feature': 'Age',\n",
       "   'fairness_value': 0.958,\n",
       "   'feature_value': 'minority'}],\n",
       " [{'fairness_metric_type': 'fairness',\n",
       "   'feature': 'Sex',\n",
       "   'fairness_value': 0.936,\n",
       "   'feature_value': 'minority'},\n",
       "  {'fairness_metric_type': 'fairness',\n",
       "   'feature': 'Age',\n",
       "   'fairness_value': 0.983,\n",
       "   'feature_value': 'minority'}],\n",
       " [{'fairness_metric_type': 'fairness',\n",
       "   'feature': 'Sex',\n",
       "   'fairness_value': 0.987,\n",
       "   'feature_value': 'minority'},\n",
       "  {'fairness_metric_type': 'fairness',\n",
       "   'feature': 'Age',\n",
       "   'fairness_value': 0.948,\n",
       "   'feature_value': 'minority'}],\n",
       " [{'fairness_metric_type': 'fairness',\n",
       "   'feature': 'Sex',\n",
       "   'fairness_value': 0.944,\n",
       "   'feature_value': 'minority'},\n",
       "  {'fairness_metric_type': 'fairness',\n",
       "   'feature': 'Age',\n",
       "   'fairness_value': 0.952,\n",
       "   'feature_value': 'minority'}],\n",
       " [{'fairness_metric_type': 'fairness',\n",
       "   'feature': 'Sex',\n",
       "   'fairness_value': 0.951,\n",
       "   'feature_value': 'minority'},\n",
       "  {'fairness_metric_type': 'fairness',\n",
       "   'feature': 'Age',\n",
       "   'fairness_value': 1.004,\n",
       "   'feature_value': 'minority'}],\n",
       " [{'fairness_metric_type': 'fairness',\n",
       "   'feature': 'Sex',\n",
       "   'fairness_value': 0.915,\n",
       "   'feature_value': 'minority'},\n",
       "  {'fairness_metric_type': 'fairness',\n",
       "   'feature': 'Age',\n",
       "   'fairness_value': 1.033,\n",
       "   'feature_value': 'minority'}],\n",
       " [{'fairness_metric_type': 'fairness',\n",
       "   'feature': 'Sex',\n",
       "   'fairness_value': 0.975,\n",
       "   'feature_value': 'minority'},\n",
       "  {'fairness_metric_type': 'fairness',\n",
       "   'feature': 'Age',\n",
       "   'fairness_value': 0.99,\n",
       "   'feature_value': 'minority'}],\n",
       " [{'fairness_metric_type': 'fairness',\n",
       "   'feature': 'Sex',\n",
       "   'fairness_value': 0.932,\n",
       "   'feature_value': 'minority'},\n",
       "  {'fairness_metric_type': 'fairness',\n",
       "   'feature': 'Age',\n",
       "   'fairness_value': 0.98,\n",
       "   'feature_value': 'minority'}],\n",
       " [{'fairness_metric_type': 'fairness',\n",
       "   'feature': 'Sex',\n",
       "   'fairness_value': 0.977,\n",
       "   'feature_value': 'minority'},\n",
       "  {'fairness_metric_type': 'fairness',\n",
       "   'feature': 'Age',\n",
       "   'fairness_value': 1.035,\n",
       "   'feature_value': 'minority'}],\n",
       " [{'fairness_metric_type': 'fairness',\n",
       "   'feature': 'Sex',\n",
       "   'fairness_value': 0.932,\n",
       "   'feature_value': 'minority'},\n",
       "  {'fairness_metric_type': 'fairness',\n",
       "   'feature': 'Age',\n",
       "   'fairness_value': 0.963,\n",
       "   'feature_value': 'minority'}],\n",
       " [{'fairness_metric_type': 'fairness',\n",
       "   'feature': 'Sex',\n",
       "   'fairness_value': 0.977,\n",
       "   'feature_value': 'minority'},\n",
       "  {'fairness_metric_type': 'fairness',\n",
       "   'feature': 'Age',\n",
       "   'fairness_value': 1.004,\n",
       "   'feature_value': 'minority'}],\n",
       " [{'fairness_metric_type': 'fairness',\n",
       "   'feature': 'Sex',\n",
       "   'fairness_value': 0.938,\n",
       "   'feature_value': 'minority'},\n",
       "  {'fairness_metric_type': 'fairness',\n",
       "   'feature': 'Age',\n",
       "   'fairness_value': 1.021,\n",
       "   'feature_value': 'minority'}],\n",
       " [{'fairness_metric_type': 'fairness',\n",
       "   'feature': 'Sex',\n",
       "   'fairness_value': 0.946,\n",
       "   'feature_value': 'minority'},\n",
       "  {'fairness_metric_type': 'fairness',\n",
       "   'feature': 'Age',\n",
       "   'fairness_value': 0.997,\n",
       "   'feature_value': 'minority'}],\n",
       " [{'fairness_metric_type': 'fairness',\n",
       "   'feature': 'Sex',\n",
       "   'fairness_value': 0.933,\n",
       "   'feature_value': 'minority'},\n",
       "  {'fairness_metric_type': 'fairness',\n",
       "   'feature': 'Age',\n",
       "   'fairness_value': 0.988,\n",
       "   'feature_value': 'minority'}],\n",
       " [{'fairness_metric_type': 'fairness',\n",
       "   'feature': 'Sex',\n",
       "   'fairness_value': 0.895,\n",
       "   'feature_value': 'minority'},\n",
       "  {'fairness_metric_type': 'fairness',\n",
       "   'feature': 'Age',\n",
       "   'fairness_value': 0.965,\n",
       "   'feature_value': 'minority'}],\n",
       " [{'fairness_metric_type': 'fairness',\n",
       "   'feature': 'Sex',\n",
       "   'fairness_value': 0.963,\n",
       "   'feature_value': 'minority'},\n",
       "  {'fairness_metric_type': 'fairness',\n",
       "   'feature': 'Age',\n",
       "   'fairness_value': 0.978,\n",
       "   'feature_value': 'minority'}],\n",
       " [{'fairness_metric_type': 'fairness',\n",
       "   'feature': 'Sex',\n",
       "   'fairness_value': 0.959,\n",
       "   'feature_value': 'minority'},\n",
       "  {'fairness_metric_type': 'fairness',\n",
       "   'feature': 'Age',\n",
       "   'fairness_value': 0.954,\n",
       "   'feature_value': 'minority'}],\n",
       " [{'fairness_metric_type': 'fairness',\n",
       "   'feature': 'Sex',\n",
       "   'fairness_value': 0.94,\n",
       "   'feature_value': 'minority'},\n",
       "  {'fairness_metric_type': 'fairness',\n",
       "   'feature': 'Age',\n",
       "   'fairness_value': 1.014,\n",
       "   'feature_value': 'minority'}],\n",
       " [{'fairness_metric_type': 'fairness',\n",
       "   'feature': 'Sex',\n",
       "   'fairness_value': 0.838,\n",
       "   'feature_value': 'minority'},\n",
       "  {'fairness_metric_type': 'fairness',\n",
       "   'feature': 'Age',\n",
       "   'fairness_value': 1.019,\n",
       "   'feature_value': 'minority'}],\n",
       " [{'fairness_metric_type': 'fairness',\n",
       "   'feature': 'Sex',\n",
       "   'fairness_value': 0.911,\n",
       "   'feature_value': 'minority'},\n",
       "  {'fairness_metric_type': 'fairness',\n",
       "   'feature': 'Age',\n",
       "   'fairness_value': 0.979,\n",
       "   'feature_value': 'minority'}],\n",
       " [{'fairness_metric_type': 'fairness',\n",
       "   'feature': 'Sex',\n",
       "   'fairness_value': 0.927,\n",
       "   'feature_value': 'minority'},\n",
       "  {'fairness_metric_type': 'fairness',\n",
       "   'feature': 'Age',\n",
       "   'fairness_value': 0.978,\n",
       "   'feature_value': 'minority'}],\n",
       " [{'fairness_metric_type': 'fairness',\n",
       "   'feature': 'Sex',\n",
       "   'fairness_value': 0.867,\n",
       "   'feature_value': 'minority'},\n",
       "  {'fairness_metric_type': 'fairness',\n",
       "   'feature': 'Age',\n",
       "   'fairness_value': 1.009,\n",
       "   'feature_value': 'minority'}],\n",
       " [{'fairness_metric_type': 'fairness',\n",
       "   'feature': 'Sex',\n",
       "   'fairness_value': 0.988,\n",
       "   'feature_value': 'minority'},\n",
       "  {'fairness_metric_type': 'fairness',\n",
       "   'feature': 'Age',\n",
       "   'fairness_value': 0.932,\n",
       "   'feature_value': 'minority'}],\n",
       " [{'fairness_metric_type': 'fairness',\n",
       "   'feature': 'Sex',\n",
       "   'fairness_value': 0.975,\n",
       "   'feature_value': 'minority'},\n",
       "  {'fairness_metric_type': 'fairness',\n",
       "   'feature': 'Age',\n",
       "   'fairness_value': 0.941,\n",
       "   'feature_value': 'minority'}],\n",
       " [{'fairness_metric_type': 'fairness',\n",
       "   'feature': 'Sex',\n",
       "   'fairness_value': 0.961,\n",
       "   'feature_value': 'minority'},\n",
       "  {'fairness_metric_type': 'fairness',\n",
       "   'feature': 'Age',\n",
       "   'fairness_value': 0.966,\n",
       "   'feature_value': 'minority'}],\n",
       " [{'fairness_metric_type': 'fairness',\n",
       "   'feature': 'Sex',\n",
       "   'fairness_value': 0.91,\n",
       "   'feature_value': 'minority'},\n",
       "  {'fairness_metric_type': 'fairness',\n",
       "   'feature': 'Age',\n",
       "   'fairness_value': 0.98,\n",
       "   'feature_value': 'minority'}],\n",
       " [{'fairness_metric_type': 'fairness',\n",
       "   'feature': 'Sex',\n",
       "   'fairness_value': 0.922,\n",
       "   'feature_value': 'minority'},\n",
       "  {'fairness_metric_type': 'fairness',\n",
       "   'feature': 'Age',\n",
       "   'fairness_value': 0.991,\n",
       "   'feature_value': 'minority'}],\n",
       " [{'fairness_metric_type': 'fairness',\n",
       "   'feature': 'Sex',\n",
       "   'fairness_value': 0.936,\n",
       "   'feature_value': 'minority'},\n",
       "  {'fairness_metric_type': 'fairness',\n",
       "   'feature': 'Age',\n",
       "   'fairness_value': 0.986,\n",
       "   'feature_value': 'minority'}],\n",
       " [{'fairness_metric_type': 'fairness',\n",
       "   'feature': 'Sex',\n",
       "   'fairness_value': 0.935,\n",
       "   'feature_value': 'minority'},\n",
       "  {'fairness_metric_type': 'fairness',\n",
       "   'feature': 'Age',\n",
       "   'fairness_value': 0.971,\n",
       "   'feature_value': 'minority'}],\n",
       " [{'fairness_metric_type': 'fairness',\n",
       "   'feature': 'Sex',\n",
       "   'fairness_value': 0.929,\n",
       "   'feature_value': 'minority'},\n",
       "  {'fairness_metric_type': 'fairness',\n",
       "   'feature': 'Age',\n",
       "   'fairness_value': 0.976,\n",
       "   'feature_value': 'minority'}],\n",
       " [{'fairness_metric_type': 'fairness',\n",
       "   'feature': 'Sex',\n",
       "   'fairness_value': 0.935,\n",
       "   'feature_value': 'minority'},\n",
       "  {'fairness_metric_type': 'fairness',\n",
       "   'feature': 'Age',\n",
       "   'fairness_value': 1.011,\n",
       "   'feature_value': 'minority'}],\n",
       " [{'fairness_metric_type': 'fairness',\n",
       "   'feature': 'Sex',\n",
       "   'fairness_value': 0.885,\n",
       "   'feature_value': 'minority'},\n",
       "  {'fairness_metric_type': 'fairness',\n",
       "   'feature': 'Age',\n",
       "   'fairness_value': 0.969,\n",
       "   'feature_value': 'minority'}],\n",
       " [{'fairness_metric_type': 'fairness',\n",
       "   'feature': 'Sex',\n",
       "   'fairness_value': 0.987,\n",
       "   'feature_value': 'minority'},\n",
       "  {'fairness_metric_type': 'fairness',\n",
       "   'feature': 'Age',\n",
       "   'fairness_value': 0.962,\n",
       "   'feature_value': 'minority'}],\n",
       " [{'fairness_metric_type': 'fairness',\n",
       "   'feature': 'Sex',\n",
       "   'fairness_value': 0.915,\n",
       "   'feature_value': 'minority'},\n",
       "  {'fairness_metric_type': 'fairness',\n",
       "   'feature': 'Age',\n",
       "   'fairness_value': 1.006,\n",
       "   'feature_value': 'minority'}],\n",
       " [{'fairness_metric_type': 'fairness',\n",
       "   'feature': 'Sex',\n",
       "   'fairness_value': 0.936,\n",
       "   'feature_value': 'minority'},\n",
       "  {'fairness_metric_type': 'fairness',\n",
       "   'feature': 'Age',\n",
       "   'fairness_value': 0.976,\n",
       "   'feature_value': 'minority'}],\n",
       " [{'fairness_metric_type': 'fairness',\n",
       "   'feature': 'Sex',\n",
       "   'fairness_value': 0.911,\n",
       "   'feature_value': 'minority'},\n",
       "  {'fairness_metric_type': 'fairness',\n",
       "   'feature': 'Age',\n",
       "   'fairness_value': 0.948,\n",
       "   'feature_value': 'minority'}],\n",
       " [{'fairness_metric_type': 'fairness',\n",
       "   'feature': 'Sex',\n",
       "   'fairness_value': 0.909,\n",
       "   'feature_value': 'minority'},\n",
       "  {'fairness_metric_type': 'fairness',\n",
       "   'feature': 'Age',\n",
       "   'fairness_value': 0.944,\n",
       "   'feature_value': 'minority'}],\n",
       " [{'fairness_metric_type': 'fairness',\n",
       "   'feature': 'Sex',\n",
       "   'fairness_value': 0.95,\n",
       "   'feature_value': 'minority'},\n",
       "  {'fairness_metric_type': 'fairness',\n",
       "   'feature': 'Age',\n",
       "   'fairness_value': 0.992,\n",
       "   'feature_value': 'minority'}],\n",
       " [{'fairness_metric_type': 'fairness',\n",
       "   'feature': 'Sex',\n",
       "   'fairness_value': 0.934,\n",
       "   'feature_value': 'minority'},\n",
       "  {'fairness_metric_type': 'fairness',\n",
       "   'feature': 'Age',\n",
       "   'fairness_value': 0.939,\n",
       "   'feature_value': 'minority'}],\n",
       " [{'fairness_metric_type': 'fairness',\n",
       "   'feature': 'Sex',\n",
       "   'fairness_value': 0.925,\n",
       "   'feature_value': 'minority'},\n",
       "  {'fairness_metric_type': 'fairness',\n",
       "   'feature': 'Age',\n",
       "   'fairness_value': 0.947,\n",
       "   'feature_value': 'minority'}],\n",
       " [{'fairness_metric_type': 'fairness',\n",
       "   'feature': 'Sex',\n",
       "   'fairness_value': 0.942,\n",
       "   'feature_value': 'minority'},\n",
       "  {'fairness_metric_type': 'fairness',\n",
       "   'feature': 'Age',\n",
       "   'fairness_value': 0.969,\n",
       "   'feature_value': 'minority'}],\n",
       " [{'fairness_metric_type': 'fairness',\n",
       "   'feature': 'Sex',\n",
       "   'fairness_value': 0.886,\n",
       "   'feature_value': 'minority'},\n",
       "  {'fairness_metric_type': 'fairness',\n",
       "   'feature': 'Age',\n",
       "   'fairness_value': 0.919,\n",
       "   'feature_value': 'minority'}],\n",
       " [{'fairness_metric_type': 'fairness',\n",
       "   'feature': 'Sex',\n",
       "   'fairness_value': 0.88,\n",
       "   'feature_value': 'minority'},\n",
       "  {'fairness_metric_type': 'fairness',\n",
       "   'feature': 'Age',\n",
       "   'fairness_value': 0.998,\n",
       "   'feature_value': 'minority'}],\n",
       " [{'fairness_metric_type': 'fairness',\n",
       "   'feature': 'Sex',\n",
       "   'fairness_value': 0.937,\n",
       "   'feature_value': 'minority'},\n",
       "  {'fairness_metric_type': 'fairness',\n",
       "   'feature': 'Age',\n",
       "   'fairness_value': 1.057,\n",
       "   'feature_value': 'minority'}],\n",
       " [{'fairness_metric_type': 'fairness',\n",
       "   'feature': 'Sex',\n",
       "   'fairness_value': 0.92,\n",
       "   'feature_value': 'minority'},\n",
       "  {'fairness_metric_type': 'fairness',\n",
       "   'feature': 'Age',\n",
       "   'fairness_value': 0.988,\n",
       "   'feature_value': 'minority'}],\n",
       " [{'fairness_metric_type': 'fairness',\n",
       "   'feature': 'Sex',\n",
       "   'fairness_value': 0.932,\n",
       "   'feature_value': 'minority'},\n",
       "  {'fairness_metric_type': 'fairness',\n",
       "   'feature': 'Age',\n",
       "   'fairness_value': 0.944,\n",
       "   'feature_value': 'minority'}],\n",
       " [{'fairness_metric_type': 'fairness',\n",
       "   'feature': 'Sex',\n",
       "   'fairness_value': 0.908,\n",
       "   'feature_value': 'minority'},\n",
       "  {'fairness_metric_type': 'fairness',\n",
       "   'feature': 'Age',\n",
       "   'fairness_value': 1.028,\n",
       "   'feature_value': 'minority'}],\n",
       " [{'fairness_metric_type': 'fairness',\n",
       "   'feature': 'Sex',\n",
       "   'fairness_value': 0.924,\n",
       "   'feature_value': 'minority'},\n",
       "  {'fairness_metric_type': 'fairness',\n",
       "   'feature': 'Age',\n",
       "   'fairness_value': 0.958,\n",
       "   'feature_value': 'minority'}],\n",
       " [{'fairness_metric_type': 'fairness',\n",
       "   'feature': 'Sex',\n",
       "   'fairness_value': 0.926,\n",
       "   'feature_value': 'minority'},\n",
       "  {'fairness_metric_type': 'fairness',\n",
       "   'feature': 'Age',\n",
       "   'fairness_value': 0.979,\n",
       "   'feature_value': 'minority'}],\n",
       " [{'fairness_metric_type': 'fairness',\n",
       "   'feature': 'Sex',\n",
       "   'fairness_value': 0.951,\n",
       "   'feature_value': 'minority'},\n",
       "  {'fairness_metric_type': 'fairness',\n",
       "   'feature': 'Age',\n",
       "   'fairness_value': 0.952,\n",
       "   'feature_value': 'minority'}],\n",
       " [{'fairness_metric_type': 'fairness',\n",
       "   'feature': 'Sex',\n",
       "   'fairness_value': 0.975,\n",
       "   'feature_value': 'minority'},\n",
       "  {'fairness_metric_type': 'fairness',\n",
       "   'feature': 'Age',\n",
       "   'fairness_value': 0.985,\n",
       "   'feature_value': 'minority'}],\n",
       " [{'fairness_metric_type': 'fairness',\n",
       "   'feature': 'Sex',\n",
       "   'fairness_value': 0.963,\n",
       "   'feature_value': 'minority'},\n",
       "  {'fairness_metric_type': 'fairness',\n",
       "   'feature': 'Age',\n",
       "   'fairness_value': 0.986,\n",
       "   'feature_value': 'minority'}],\n",
       " [{'fairness_metric_type': 'fairness',\n",
       "   'feature': 'Sex',\n",
       "   'fairness_value': 0.961,\n",
       "   'feature_value': 'minority'},\n",
       "  {'fairness_metric_type': 'fairness',\n",
       "   'feature': 'Age',\n",
       "   'fairness_value': 0.945,\n",
       "   'feature_value': 'minority'}],\n",
       " [{'fairness_metric_type': 'fairness',\n",
       "   'feature': 'Sex',\n",
       "   'fairness_value': 0.895,\n",
       "   'feature_value': 'minority'},\n",
       "  {'fairness_metric_type': 'fairness',\n",
       "   'feature': 'Age',\n",
       "   'fairness_value': 0.99,\n",
       "   'feature_value': 'minority'}],\n",
       " [{'fairness_metric_type': 'fairness',\n",
       "   'feature': 'Sex',\n",
       "   'fairness_value': 0.912,\n",
       "   'feature_value': 'minority'},\n",
       "  {'fairness_metric_type': 'fairness',\n",
       "   'feature': 'Age',\n",
       "   'fairness_value': 1.026,\n",
       "   'feature_value': 'minority'}],\n",
       " [{'fairness_metric_type': 'fairness',\n",
       "   'feature': 'Sex',\n",
       "   'fairness_value': 0.948,\n",
       "   'feature_value': 'minority'},\n",
       "  {'fairness_metric_type': 'fairness',\n",
       "   'feature': 'Age',\n",
       "   'fairness_value': 0.962,\n",
       "   'feature_value': 'minority'}],\n",
       " [{'fairness_metric_type': 'fairness',\n",
       "   'feature': 'Sex',\n",
       "   'fairness_value': 0.91,\n",
       "   'feature_value': 'minority'},\n",
       "  {'fairness_metric_type': 'fairness',\n",
       "   'feature': 'Age',\n",
       "   'fairness_value': 0.968,\n",
       "   'feature_value': 'minority'}],\n",
       " [{'fairness_metric_type': 'fairness',\n",
       "   'feature': 'Sex',\n",
       "   'fairness_value': 0.924,\n",
       "   'feature_value': 'minority'},\n",
       "  {'fairness_metric_type': 'fairness',\n",
       "   'feature': 'Age',\n",
       "   'fairness_value': 0.96,\n",
       "   'feature_value': 'minority'}],\n",
       " [{'fairness_metric_type': 'fairness',\n",
       "   'feature': 'Sex',\n",
       "   'fairness_value': 0.947,\n",
       "   'feature_value': 'minority'},\n",
       "  {'fairness_metric_type': 'fairness',\n",
       "   'feature': 'Age',\n",
       "   'fairness_value': 0.962,\n",
       "   'feature_value': 'minority'}],\n",
       " [{'fairness_metric_type': 'fairness',\n",
       "   'feature': 'Sex',\n",
       "   'fairness_value': 0.921,\n",
       "   'feature_value': 'minority'},\n",
       "  {'fairness_metric_type': 'fairness',\n",
       "   'feature': 'Age',\n",
       "   'fairness_value': 1.012,\n",
       "   'feature_value': 'minority'}],\n",
       " [{'fairness_metric_type': 'fairness',\n",
       "   'feature': 'Sex',\n",
       "   'fairness_value': 0.96,\n",
       "   'feature_value': 'minority'},\n",
       "  {'fairness_metric_type': 'fairness',\n",
       "   'feature': 'Age',\n",
       "   'fairness_value': 1.044,\n",
       "   'feature_value': 'minority'}]]"
      ]
     },
     "execution_count": 94,
     "metadata": {},
     "output_type": "execute_result"
    }
   ],
   "source": [
    "from datetime import datetime, timedelta, timezone\n",
    "\n",
    "with open('history_fairness_v2.json', 'r') as history_file:\n",
    "    payloads = json.load(history_file)\n",
    "\n",
    "for day in range(historyDays):\n",
    "    print('Loading day', day + 1)\n",
    "    daily_measurement_requests = []\n",
    "    \n",
    "    for hour in range(24):\n",
    "        score_time = datetime.now(timezone.utc) + timedelta(hours=(-(24*day + hour + 1)))\n",
    "        index = (day * 24 + hour) % len(payloads) # wrap around and reuse values if needed\n",
    " \n",
    "        measurement_request = MonitorMeasurementRequest(timestamp=score_time,metrics = [payloads[index][0], payloads[index][1]])\n",
    "        daily_measurement_requests.append(measurement_request)\n",
    "        \n",
    "        \n",
    "    response = wos_client.monitor_instances.measurements.add(\n",
    "                                            monitor_instance_id=fairness_monitor_instance_id,\n",
    "                                            monitor_measurement_request=daily_measurement_requests).result     \n",
    "print('Finished')"
   ]
  },
  {
   "cell_type": "markdown",
   "metadata": {},
   "source": [
    "## Insert historical debias metrics"
   ]
  },
  {
   "cell_type": "code",
   "execution_count": 185,
   "metadata": {},
   "outputs": [
    {
     "name": "stdout",
     "output_type": "stream",
     "text": [
      "rm: cannot remove ‘history_debias_v2.json’: No such file or directory\n",
      "-rw-r----- 1 dsxuser dsxuser 37K Aug 10 22:52 history_debias_v2.json\n"
     ]
    }
   ],
   "source": [
    "!rm history_debias_v2.json\n",
    "with io.capture_output() as captured:\n",
    "    !wget https://raw.githubusercontent.com/pmservice/ai-openscale-tutorials/master/assets/historical_data/german_credit_risk/wml/history_debias_v2.json\n",
    "!ls -lh history_debias_v2.json"
   ]
  },
  {
   "cell_type": "code",
   "execution_count": 186,
   "metadata": {},
   "outputs": [
    {
     "name": "stdout",
     "output_type": "stream",
     "text": [
      "Loading day 1\n",
      "Loading day 2\n",
      "Loading day 3\n",
      "Loading day 4\n",
      "Loading day 5\n",
      "Loading day 6\n",
      "Loading day 7\n",
      "Finished\n"
     ]
    }
   ],
   "source": [
    "with open('history_debias_v2.json', 'r') as history_file:\n",
    "    payloads = json.load(history_file)\n",
    "\n",
    "for day in range(historyDays):\n",
    "    print('Loading day', day + 1)\n",
    "    daily_measurement_requests = []\n",
    "    for hour in range(24):\n",
    "        score_time = datetime.now(timezone.utc) + timedelta(hours=(-(24*day + hour + 1)))\n",
    "        index = (day * 24 + hour) % len(payloads) # wrap around and reuse values if needed\n",
    "\n",
    "        measurement_request = MonitorMeasurementRequest(timestamp=score_time,metrics = [payloads[index][0], payloads[index][1]])\n",
    "        \n",
    "        daily_measurement_requests.append(measurement_request)\n",
    "        \n",
    "    response = wos_client.monitor_instances.measurements.add(\n",
    "                                            monitor_instance_id=fairness_monitor_instance_id,\n",
    "                                            monitor_measurement_request=daily_measurement_requests).result     \n",
    "\n",
    "print('Finished')"
   ]
  },
  {
   "cell_type": "markdown",
   "metadata": {},
   "source": [
    "## Insert historical quality metrics"
   ]
  },
  {
   "cell_type": "code",
   "execution_count": 96,
   "metadata": {
    "scrolled": true
   },
   "outputs": [
    {
     "name": "stdout",
     "output_type": "stream",
     "text": [
      "Loading day 1\n",
      "Loading day 2\n",
      "Loading day 3\n",
      "Loading day 4\n",
      "Loading day 5\n",
      "Loading day 6\n",
      "Loading day 7\n",
      "Finished\n"
     ]
    }
   ],
   "source": [
    "measurements = [0.76, 0.78, 0.68, 0.72, 0.73, 0.77, 0.80]\n",
    "for day in range(historyDays):\n",
    "    quality_measurement_requests = []\n",
    "    print('Loading day', day + 1)\n",
    "    for hour in range(24):\n",
    "        score_time = datetime.utcnow() + timedelta(hours=(-(24*day + hour + 1)))\n",
    "        score_time = score_time.isoformat() + \"Z\"\n",
    "        \n",
    "        metric = {\"area_under_roc\": measurements[day]}\n",
    "                \n",
    "        measurement_request = MonitorMeasurementRequest(timestamp=score_time,metrics = [metric])\n",
    "        quality_measurement_requests.append(measurement_request)\n",
    "        \n",
    "        \n",
    "    response = wos_client.monitor_instances.measurements.add(\n",
    "                                            monitor_instance_id=quality_monitor_instance_id,\n",
    "                                            monitor_measurement_request=quality_measurement_requests).result    \n",
    "    \n",
    "print('Finished')"
   ]
  },
  {
   "cell_type": "markdown",
   "metadata": {},
   "source": [
    "## Insert historical confusion matrixes"
   ]
  },
  {
   "cell_type": "code",
   "execution_count": 188,
   "metadata": {},
   "outputs": [
    {
     "name": "stdout",
     "output_type": "stream",
     "text": [
      "rm: cannot remove ‘history_quality_metrics.json’: No such file or directory\n",
      "-rw-r----- 1 dsxuser dsxuser 79K Aug 10 22:52 history_quality_metrics.json\n"
     ]
    }
   ],
   "source": [
    "!rm history_quality_metrics.json\n",
    "with io.capture_output() as captured:\n",
    "    !wget https://raw.githubusercontent.com/pmservice/ai-openscale-tutorials/master/assets/historical_data/german_credit_risk/wml/history_quality_metrics.json\n",
    "!ls -lh history_quality_metrics.json"
   ]
  },
  {
   "cell_type": "code",
   "execution_count": 98,
   "metadata": {},
   "outputs": [
    {
     "name": "stdout",
     "output_type": "stream",
     "text": [
      "Loading day 1\n",
      "Loading day 2\n",
      "Loading day 3\n",
      "Loading day 4\n",
      "Loading day 5\n",
      "Loading day 6\n",
      "Loading day 7\n",
      "Finished\n"
     ]
    }
   ],
   "source": [
    "from ibm_watson_openscale.base_classes.watson_open_scale_v2 import Source\n",
    "\n",
    "with open('history_quality_metrics.json') as json_file:\n",
    "    records = json.load(json_file)\n",
    "    \n",
    "for day in range(historyDays):\n",
    "    index = 0\n",
    "    cm_measurement_requests = []\n",
    "    print('Loading day', day + 1)\n",
    "    \n",
    "    for hour in range(24):\n",
    "        score_time = datetime.utcnow() + timedelta(hours=(-(24*day + hour + 1)))\n",
    "        score_time = score_time.isoformat() + \"Z\"\n",
    "\n",
    "        metric = records[index]['metrics']\n",
    "        source = records[index]['sources']\n",
    "\n",
    "        \n",
    "        measurement_request = {\"timestamp\": score_time, \"metrics\": [metric], \"sources\": [source]}\n",
    "        cm_measurement_requests.append(measurement_request)\n",
    "\n",
    "        index+=1\n",
    "\n",
    "    response = wos_client.monitor_instances.measurements.add(monitor_instance_id=quality_monitor_instance_id, monitor_measurement_request=cm_measurement_requests).result    \n",
    "\n",
    "print('Finished')"
   ]
  },
  {
   "cell_type": "markdown",
   "metadata": {},
   "source": [
    "## Insert historical performance metrics"
   ]
  },
  {
   "cell_type": "code",
   "execution_count": 99,
   "metadata": {},
   "outputs": [
    {
     "name": "stdout",
     "output_type": "stream",
     "text": [
      "\n",
      "\n",
      "===================================================================================\n",
      "\n",
      " Waiting for end of monitor instance creation 3e94ae81-eef7-48ac-ae2d-26a0d1e5f5c9 \n",
      "\n",
      "===================================================================================\n",
      "\n",
      "\n",
      "\n",
      "active\n",
      "\n",
      "---------------------------------------\n",
      " Monitor instance successfully created \n",
      "---------------------------------------\n",
      "\n",
      "\n"
     ]
    }
   ],
   "source": [
    "target = Target(\n",
    "        target_type=TargetTypes.INSTANCE,\n",
    "        target_id=payload_data_set_id\n",
    "    )\n",
    "\n",
    "\n",
    "performance_monitor_instance_details = wos_client.monitor_instances.create(\n",
    "            data_mart_id=data_mart_id,\n",
    "            background_mode=False,\n",
    "            monitor_definition_id=wos_client.monitor_definitions.MONITORS.PERFORMANCE.ID,\n",
    "            target=target\n",
    ").result\n",
    "performance_monitor_instance_id = performance_monitor_instance_details.metadata.id\n"
   ]
  },
  {
   "cell_type": "code",
   "execution_count": 100,
   "metadata": {},
   "outputs": [
    {
     "name": "stdout",
     "output_type": "stream",
     "text": [
      "Loading day 1\n",
      "Loading day 2\n",
      "Loading day 3\n",
      "Loading day 4\n",
      "Loading day 5\n",
      "Loading day 6\n",
      "Loading day 7\n",
      "Finished\n"
     ]
    }
   ],
   "source": [
    "for day in range(historyDays):\n",
    "    performance_measurement_requests = []\n",
    "    print('Loading day', day + 1)\n",
    "    for hour in range(24):\n",
    "        score_time = datetime.utcnow() + timedelta(hours=(-(24*day + hour + 1)))\n",
    "        score_time = score_time.isoformat() + \"Z\"\n",
    "        score_count = random.randint(60, 600)\n",
    "        \n",
    "        metric = {\"record_count\": score_count, \"data_set_type\": \"scoring_payload\"}\n",
    "        \n",
    "        measurement_request = {\"timestamp\": score_time, \"metrics\": [metric]}\n",
    "        performance_measurement_requests.append(measurement_request)\n",
    "        \n",
    "    response = wos_client.monitor_instances.measurements.add(\n",
    "                                            monitor_instance_id=performance_monitor_instance_id,\n",
    "                                            monitor_measurement_request=performance_measurement_requests).result    \n",
    "\n",
    "print('Finished')"
   ]
  },
  {
   "cell_type": "markdown",
   "metadata": {},
   "source": [
    "## Insert historical drift measurements"
   ]
  },
  {
   "cell_type": "code",
   "execution_count": 101,
   "metadata": {},
   "outputs": [
    {
     "name": "stdout",
     "output_type": "stream",
     "text": [
      "-rw-r----- 1 dsxuser dsxuser 832K Aug 17 20:01 history_drift_measurement_0.json\r\n",
      "-rw-r----- 1 dsxuser dsxuser 868K Aug 17 20:01 history_drift_measurement_1.json\r\n",
      "-rw-r----- 1 dsxuser dsxuser 870K Aug 17 20:01 history_drift_measurement_2.json\r\n",
      "-rw-r----- 1 dsxuser dsxuser 910K Aug 17 20:01 history_drift_measurement_3.json\r\n",
      "-rw-r----- 1 dsxuser dsxuser 841K Aug 17 20:01 history_drift_measurement_4.json\r\n",
      "-rw-r----- 1 dsxuser dsxuser 836K Aug 17 20:01 history_drift_measurement_5.json\r\n",
      "-rw-r----- 1 dsxuser dsxuser 840K Aug 17 20:01 history_drift_measurement_6.json\r\n"
     ]
    }
   ],
   "source": [
    "with io.capture_output() as captured:\n",
    "    !wget https://raw.githubusercontent.com/pmservice/ai-openscale-tutorials/master/assets/historical_data/german_credit_risk/wos/history_drift_measurement_0.json\n",
    "    !wget https://raw.githubusercontent.com/pmservice/ai-openscale-tutorials/master/assets/historical_data/german_credit_risk/wos/history_drift_measurement_1.json\n",
    "    !wget https://raw.githubusercontent.com/pmservice/ai-openscale-tutorials/master/assets/historical_data/german_credit_risk/wos/history_drift_measurement_2.json\n",
    "    !wget https://raw.githubusercontent.com/pmservice/ai-openscale-tutorials/master/assets/historical_data/german_credit_risk/wos/history_drift_measurement_3.json\n",
    "    !wget https://raw.githubusercontent.com/pmservice/ai-openscale-tutorials/master/assets/historical_data/german_credit_risk/wos/history_drift_measurement_4.json\n",
    "    !wget https://raw.githubusercontent.com/pmservice/ai-openscale-tutorials/master/assets/historical_data/german_credit_risk/wos/history_drift_measurement_5.json\n",
    "    !wget https://raw.githubusercontent.com/pmservice/ai-openscale-tutorials/master/assets/historical_data/german_credit_risk/wos/history_drift_measurement_6.json\n",
    "!ls -lh history_drift_measurement_*.json"
   ]
  },
  {
   "cell_type": "code",
   "execution_count": 102,
   "metadata": {},
   "outputs": [
    {
     "name": "stdout",
     "output_type": "stream",
     "text": [
      "Loading day 1\n",
      "Daily loading finished.\n",
      "Loading day 2\n",
      "Daily loading finished.\n",
      "Loading day 3\n",
      "Daily loading finished.\n",
      "Loading day 4\n",
      "Daily loading finished.\n",
      "Loading day 5\n",
      "Daily loading finished.\n",
      "Loading day 6\n",
      "Daily loading finished.\n",
      "Loading day 7\n",
      "Daily loading finished.\n"
     ]
    }
   ],
   "source": [
    "for day in range(historyDays):\n",
    "    drift_measurements = []\n",
    "\n",
    "    with open(\"history_drift_measurement_{}.json\".format(day), 'r') as history_file:\n",
    "        drift_daily_measurements = json.load(history_file)\n",
    "    print('Loading day', day + 1)\n",
    "\n",
    "    #Historical data contains 8 records per day - each represents 3 hour drift window.\n",
    "    \n",
    "    for nb_window, records in enumerate(drift_daily_measurements):\n",
    "        for record in records:\n",
    "            window_start =  datetime.utcnow() + timedelta(hours=(-(24 * day + (nb_window+1)*3 + 1))) # first_payload_record_timestamp_in_window (oldest)\n",
    "            window_end = datetime.utcnow() + timedelta(hours=(-(24 * day + nb_window*3 + 1)))# last_payload_record_timestamp_in_window (most recent)\n",
    "            #modify start and end time for each record\n",
    "            record['sources'][0]['data']['start'] = window_start.isoformat() + \"Z\"\n",
    "            record['sources'][0]['data']['end'] = window_end.isoformat() + \"Z\"\n",
    "            \n",
    "            \n",
    "            metric = record['metrics'][0]\n",
    "            source = record['sources'][0]\n",
    "\n",
    "            measurement_request = {\"timestamp\": window_start.isoformat() + \"Z\", \"metrics\": [metric], \"sources\": [source]}\n",
    "            \n",
    "            drift_measurements.append(measurement_request)\n",
    "        \n",
    "    response = wos_client.monitor_instances.measurements.add(\n",
    "                                            monitor_instance_id=drift_monitor_instance_id,\n",
    "                                            monitor_measurement_request=drift_measurements).result    \n",
    "\n",
    "    \n",
    "    print(\"Daily loading finished.\")"
   ]
  },
  {
   "cell_type": "markdown",
   "metadata": {},
   "source": [
    "## Additional data to help debugging"
   ]
  },
  {
   "cell_type": "code",
   "execution_count": 201,
   "metadata": {
    "scrolled": true
   },
   "outputs": [
    {
     "name": "stdout",
     "output_type": "stream",
     "text": [
      "Datamart: 5a0b9076-fcf6-49e8-a824-9e3a6b4c2a56\n",
      "Model: 514273e1-15ec-4cdd-8571-8da9fe5183f0\n",
      "Deployment: 4a93dd1f-9ff2-43c5-87e5-6a1912e7ab54\n",
      "Scoring URL: https://us-south.ml.cloud.ibm.com/v3/wml_instances/fa2ef988-b919-468b-a05b-2a3c9df845d5/deployments/4a93dd1f-9ff2-43c5-87e5-6a1912e7ab54/online\n"
     ]
    }
   ],
   "source": [
    "print('Datamart:', data_mart_id)\n",
    "print('Model:', model_uid)\n",
    "print('Deployment:', deployment_uid)\n",
    "print('Scoring URL:', credit_risk_scoring_endpoint)"
   ]
  },
  {
   "cell_type": "markdown",
   "metadata": {},
   "source": [
    "## Identify transactions for Explainability"
   ]
  },
  {
   "cell_type": "markdown",
   "metadata": {},
   "source": [
    "Transaction IDs identified by the cells below can be copied and pasted into the Explainability tab of the OpenScale dashboard."
   ]
  },
  {
   "cell_type": "code",
   "execution_count": 202,
   "metadata": {
    "scrolled": false
   },
   "outputs": [
    {
     "data": {
      "text/html": [
       "<HTML>\n",
       "        <body>\n",
       "            <h3>Data Set 9aec5c9d-4ac8-4aba-8db0-085a1e95ef25 Records</h3>\n",
       "            <table style='border: 1px solid #dddddd; font-family: Courier'>\n",
       "                <th style='border: 1px solid #dddddd'>asset_revision</th><th style='border: 1px solid #dddddd'>debiased_probability</th><th style='border: 1px solid #dddddd'>LoanAmount</th><th style='border: 1px solid #dddddd'>scoring_id</th><th style='border: 1px solid #dddddd'>Sex_IX</th><th style='border: 1px solid #dddddd'>LoanPurpose_IX</th><th style='border: 1px solid #dddddd'>CheckingStatus_IX</th><th style='border: 1px solid #dddddd'>InstallmentPercent</th><th style='border: 1px solid #dddddd'>ExistingSavings</th><th style='border: 1px solid #dddddd'>scoring_timestamp</th><th style='border: 1px solid #dddddd'>prediction_probability</th><th style='border: 1px solid #dddddd'>ProbabilityVector</th><th style='border: 1px solid #dddddd'>features</th><th style='border: 1px solid #dddddd'>CheckingStatus</th><th style='border: 1px solid #dddddd'>LoanPurpose</th><th style='border: 1px solid #dddddd'>predictedLabel</th><th style='border: 1px solid #dddddd'>OwnsProperty_IX</th><th style='border: 1px solid #dddddd'>prediction</th><th style='border: 1px solid #dddddd'>Job</th><th style='border: 1px solid #dddddd'>InstallmentPlans</th><th style='border: 1px solid #dddddd'>ExistingSavings_IX</th><th style='border: 1px solid #dddddd'>CreditHistory_IX</th><th style='border: 1px solid #dddddd'>OthersOnLoan</th><th style='border: 1px solid #dddddd'>LoanDuration</th><th style='border: 1px solid #dddddd'>Age</th><th style='border: 1px solid #dddddd'>CreditHistory</th><th style='border: 1px solid #dddddd'>InstallmentPlans_IX</th><th style='border: 1px solid #dddddd'>CurrentResidenceDuration</th><th style='border: 1px solid #dddddd'>Telephone_IX</th><th style='border: 1px solid #dddddd'>EmploymentDuration_IX</th><th style='border: 1px solid #dddddd'>Job_IX</th><th style='border: 1px solid #dddddd'>ForeignWorker_IX</th><th style='border: 1px solid #dddddd'>ForeignWorker</th><th style='border: 1px solid #dddddd'>Housing</th><th style='border: 1px solid #dddddd'>Housing_IX</th><th style='border: 1px solid #dddddd'>ExistingCreditsCount</th><th style='border: 1px solid #dddddd'>deployment_id</th><th style='border: 1px solid #dddddd'>rawPrediction</th><th style='border: 1px solid #dddddd'>Telephone</th><th style='border: 1px solid #dddddd'>OthersOnLoan_IX</th><th style='border: 1px solid #dddddd'>Sex</th><th style='border: 1px solid #dddddd'>Dependents</th><th style='border: 1px solid #dddddd'>OwnsProperty</th><th style='border: 1px solid #dddddd'>EmploymentDuration</th><th style='border: 1px solid #dddddd'>debiased_prediction</th><th style='border: 1px solid #dddddd'>probability</th>\n",
       "                <tr><td style='border: 1px solid #dddddd'>036f9a64-dd9d-4bcb-b958-607001caee36</td><td style='border: 1px solid #dddddd'>[0.6465201352411825, 0.35347986475881765]</td><td style='border: 1px solid #dddddd'>5148</td><td style='border: 1px solid #dddddd'>442e9f7e274985f08873cf910ec7c9c2-1</td><td style='border: 1px solid #dddddd'>0.0</td><td style='border: 1px solid #dddddd'>1.0</td><td style='border: 1px solid #dddddd'>1.0</td><td style='border: 1px solid #dddddd'>2</td><td style='border: 1px solid #dddddd'>500_to_1000</td><td style='border: 1px solid #dddddd'>2020-08-10T21:42:17.518Z</td><td style='border: 1px solid #dddddd'>0.6465201352411825</td><td style='border: 1px solid #dddddd'>None</td><td style='border: 1px solid #dddddd'>[1.0, 2.0, 1.0, 2.0, 0.0, 0.0, 0.0, 1.0, 1.0, 0.0, 0.0, 1.0, 0.0, 27.0, 5148.0, 2.0, 3.0, 38.0, 2.0, 2.0]</td><td style='border: 1px solid #dddddd'>less_0</td><td style='border: 1px solid #dddddd'>furniture</td><td style='border: 1px solid #dddddd'>No Risk</td><td style='border: 1px solid #dddddd'>1.0</td><td style='border: 1px solid #dddddd'>0.0</td><td style='border: 1px solid #dddddd'>skilled</td><td style='border: 1px solid #dddddd'>stores</td><td style='border: 1px solid #dddddd'>2.0</td><td style='border: 1px solid #dddddd'>2.0</td><td style='border: 1px solid #dddddd'>none</td><td style='border: 1px solid #dddddd'>27</td><td style='border: 1px solid #dddddd'>38</td><td style='border: 1px solid #dddddd'>outstanding_credit</td><td style='border: 1px solid #dddddd'>1.0</td><td style='border: 1px solid #dddddd'>3</td><td style='border: 1px solid #dddddd'>1.0</td><td style='border: 1px solid #dddddd'>0.0</td><td style='border: 1px solid #dddddd'>0.0</td><td style='border: 1px solid #dddddd'>0.0</td><td style='border: 1px solid #dddddd'>yes</td><td style='border: 1px solid #dddddd'>own</td><td style='border: 1px solid #dddddd'>0.0</td><td style='border: 1px solid #dddddd'>2</td><td style='border: 1px solid #dddddd'>4a93dd1f-9ff2-43c5-87e5-6a1912e7ab54</td><td style='border: 1px solid #dddddd'>[12.93040270482365, 7.069597295176353]</td><td style='border: 1px solid #dddddd'>yes</td><td style='border: 1px solid #dddddd'>0.0</td><td style='border: 1px solid #dddddd'>male</td><td style='border: 1px solid #dddddd'>2</td><td style='border: 1px solid #dddddd'>car_other</td><td style='border: 1px solid #dddddd'>1_to_4</td><td style='border: 1px solid #dddddd'>No Risk</td><td style='border: 1px solid #dddddd'>[0.6465201352411825, 0.35347986475881765]</td></tr><tr><td style='border: 1px solid #dddddd'>036f9a64-dd9d-4bcb-b958-607001caee36</td><td style='border: 1px solid #dddddd'>[0.7279642825968492, 0.2720357174031508]</td><td style='border: 1px solid #dddddd'>2320</td><td style='border: 1px solid #dddddd'>442e9f7e274985f08873cf910ec7c9c2-10</td><td style='border: 1px solid #dddddd'>1.0</td><td style='border: 1px solid #dddddd'>0.0</td><td style='border: 1px solid #dddddd'>1.0</td><td style='border: 1px solid #dddddd'>3</td><td style='border: 1px solid #dddddd'>less_100</td><td style='border: 1px solid #dddddd'>2020-08-10T21:42:17.518Z</td><td style='border: 1px solid #dddddd'>0.7279642825968492</td><td style='border: 1px solid #dddddd'>None</td><td style='border: 1px solid #dddddd'>[20, [0, 1, 5, 13, 14, 15, 16, 17, 18, 19], [1.0, 1.0, 1.0, 17.0, 2320.0, 3.0, 3.0, 41.0, 1.0, 1.0]]</td><td style='border: 1px solid #dddddd'>less_0</td><td style='border: 1px solid #dddddd'>car_new</td><td style='border: 1px solid #dddddd'>No Risk</td><td style='border: 1px solid #dddddd'>0.0</td><td style='border: 1px solid #dddddd'>0.0</td><td style='border: 1px solid #dddddd'>skilled</td><td style='border: 1px solid #dddddd'>none</td><td style='border: 1px solid #dddddd'>0.0</td><td style='border: 1px solid #dddddd'>1.0</td><td style='border: 1px solid #dddddd'>none</td><td style='border: 1px solid #dddddd'>17</td><td style='border: 1px solid #dddddd'>41</td><td style='border: 1px solid #dddddd'>credits_paid_to_date</td><td style='border: 1px solid #dddddd'>0.0</td><td style='border: 1px solid #dddddd'>3</td><td style='border: 1px solid #dddddd'>0.0</td><td style='border: 1px solid #dddddd'>0.0</td><td style='border: 1px solid #dddddd'>0.0</td><td style='border: 1px solid #dddddd'>0.0</td><td style='border: 1px solid #dddddd'>yes</td><td style='border: 1px solid #dddddd'>own</td><td style='border: 1px solid #dddddd'>0.0</td><td style='border: 1px solid #dddddd'>1</td><td style='border: 1px solid #dddddd'>4a93dd1f-9ff2-43c5-87e5-6a1912e7ab54</td><td style='border: 1px solid #dddddd'>[14.559285651936987, 5.440714348063017]</td><td style='border: 1px solid #dddddd'>none</td><td style='border: 1px solid #dddddd'>0.0</td><td style='border: 1px solid #dddddd'>female</td><td style='border: 1px solid #dddddd'>1</td><td style='border: 1px solid #dddddd'>savings_insurance</td><td style='border: 1px solid #dddddd'>1_to_4</td><td style='border: 1px solid #dddddd'>No Risk</td><td style='border: 1px solid #dddddd'>[0.7279642825968492, 0.2720357174031508]</td></tr><tr><td style='border: 1px solid #dddddd'>036f9a64-dd9d-4bcb-b958-607001caee36</td><td style='border: 1px solid #dddddd'>[0.9693813316521208, 0.030618668347879192]</td><td style='border: 1px solid #dddddd'>426</td><td style='border: 1px solid #dddddd'>442e9f7e274985f08873cf910ec7c9c2-100</td><td style='border: 1px solid #dddddd'>1.0</td><td style='border: 1px solid #dddddd'>0.0</td><td style='border: 1px solid #dddddd'>1.0</td><td style='border: 1px solid #dddddd'>1</td><td style='border: 1px solid #dddddd'>less_100</td><td style='border: 1px solid #dddddd'>2020-08-10T21:42:17.518Z</td><td style='border: 1px solid #dddddd'>0.9693813316521208</td><td style='border: 1px solid #dddddd'>None</td><td style='border: 1px solid #dddddd'>[1.0, 3.0, 0.0, 0.0, 3.0, 1.0, 0.0, 0.0, 1.0, 1.0, 0.0, 0.0, 0.0, 12.0, 426.0, 1.0, 1.0, 19.0, 1.0, 1.0]</td><td style='border: 1px solid #dddddd'>less_0</td><td style='border: 1px solid #dddddd'>car_new</td><td style='border: 1px solid #dddddd'>No Risk</td><td style='border: 1px solid #dddddd'>0.0</td><td style='border: 1px solid #dddddd'>0.0</td><td style='border: 1px solid #dddddd'>skilled</td><td style='border: 1px solid #dddddd'>stores</td><td style='border: 1px solid #dddddd'>0.0</td><td style='border: 1px solid #dddddd'>3.0</td><td style='border: 1px solid #dddddd'>none</td><td style='border: 1px solid #dddddd'>12</td><td style='border: 1px solid #dddddd'>19</td><td style='border: 1px solid #dddddd'>all_credits_paid_back</td><td style='border: 1px solid #dddddd'>1.0</td><td style='border: 1px solid #dddddd'>1</td><td style='border: 1px solid #dddddd'>0.0</td><td style='border: 1px solid #dddddd'>3.0</td><td style='border: 1px solid #dddddd'>0.0</td><td style='border: 1px solid #dddddd'>0.0</td><td style='border: 1px solid #dddddd'>yes</td><td style='border: 1px solid #dddddd'>rent</td><td style='border: 1px solid #dddddd'>1.0</td><td style='border: 1px solid #dddddd'>1</td><td style='border: 1px solid #dddddd'>4a93dd1f-9ff2-43c5-87e5-6a1912e7ab54</td><td style='border: 1px solid #dddddd'>[19.387626633042416, 0.6123733669575838]</td><td style='border: 1px solid #dddddd'>none</td><td style='border: 1px solid #dddddd'>0.0</td><td style='border: 1px solid #dddddd'>female</td><td style='border: 1px solid #dddddd'>1</td><td style='border: 1px solid #dddddd'>savings_insurance</td><td style='border: 1px solid #dddddd'>less_1</td><td style='border: 1px solid #dddddd'>No Risk</td><td style='border: 1px solid #dddddd'>[0.9693813316521208, 0.030618668347879192]</td></tr><tr><td style='border: 1px solid #dddddd'>036f9a64-dd9d-4bcb-b958-607001caee36</td><td style='border: 1px solid #dddddd'>[0.9121713291882478, 0.08782867081175208]</td><td style='border: 1px solid #dddddd'>250</td><td style='border: 1px solid #dddddd'>442e9f7e274985f08873cf910ec7c9c2-101</td><td style='border: 1px solid #dddddd'>1.0</td><td style='border: 1px solid #dddddd'>0.0</td><td style='border: 1px solid #dddddd'>1.0</td><td style='border: 1px solid #dddddd'>1</td><td style='border: 1px solid #dddddd'>less_100</td><td style='border: 1px solid #dddddd'>2020-08-10T21:42:17.518Z</td><td style='border: 1px solid #dddddd'>0.9121713291882478</td><td style='border: 1px solid #dddddd'>None</td><td style='border: 1px solid #dddddd'>[20, [0, 1, 5, 8, 10, 13, 14, 15, 16, 17, 18, 19], [1.0, 1.0, 1.0, 1.0, 1.0, 15.0, 250.0, 1.0, 2.0, 22.0, 1.0, 1.0]]</td><td style='border: 1px solid #dddddd'>less_0</td><td style='border: 1px solid #dddddd'>car_new</td><td style='border: 1px solid #dddddd'>No Risk</td><td style='border: 1px solid #dddddd'>0.0</td><td style='border: 1px solid #dddddd'>0.0</td><td style='border: 1px solid #dddddd'>unskilled</td><td style='border: 1px solid #dddddd'>stores</td><td style='border: 1px solid #dddddd'>0.0</td><td style='border: 1px solid #dddddd'>1.0</td><td style='border: 1px solid #dddddd'>none</td><td style='border: 1px solid #dddddd'>15</td><td style='border: 1px solid #dddddd'>22</td><td style='border: 1px solid #dddddd'>credits_paid_to_date</td><td style='border: 1px solid #dddddd'>1.0</td><td style='border: 1px solid #dddddd'>2</td><td style='border: 1px solid #dddddd'>0.0</td><td style='border: 1px solid #dddddd'>0.0</td><td style='border: 1px solid #dddddd'>1.0</td><td style='border: 1px solid #dddddd'>0.0</td><td style='border: 1px solid #dddddd'>yes</td><td style='border: 1px solid #dddddd'>own</td><td style='border: 1px solid #dddddd'>0.0</td><td style='border: 1px solid #dddddd'>1</td><td style='border: 1px solid #dddddd'>4a93dd1f-9ff2-43c5-87e5-6a1912e7ab54</td><td style='border: 1px solid #dddddd'>[18.243426583764958, 1.7565734162350415]</td><td style='border: 1px solid #dddddd'>none</td><td style='border: 1px solid #dddddd'>0.0</td><td style='border: 1px solid #dddddd'>female</td><td style='border: 1px solid #dddddd'>1</td><td style='border: 1px solid #dddddd'>savings_insurance</td><td style='border: 1px solid #dddddd'>1_to_4</td><td style='border: 1px solid #dddddd'>No Risk</td><td style='border: 1px solid #dddddd'>[0.9121713291882478, 0.08782867081175208]</td></tr><tr><td style='border: 1px solid #dddddd'>036f9a64-dd9d-4bcb-b958-607001caee36</td><td style='border: 1px solid #dddddd'>[0.6932962389637517, 0.3067037610362483]</td><td style='border: 1px solid #dddddd'>3562</td><td style='border: 1px solid #dddddd'>442e9f7e274985f08873cf910ec7c9c2-102</td><td style='border: 1px solid #dddddd'>0.0</td><td style='border: 1px solid #dddddd'>1.0</td><td style='border: 1px solid #dddddd'>2.0</td><td style='border: 1px solid #dddddd'>4</td><td style='border: 1px solid #dddddd'>unknown</td><td style='border: 1px solid #dddddd'>2020-08-10T21:42:17.518Z</td><td style='border: 1px solid #dddddd'>0.6932962389637517</td><td style='border: 1px solid #dddddd'>None</td><td style='border: 1px solid #dddddd'>[2.0, 1.0, 1.0, 4.0, 2.0, 0.0, 0.0, 0.0, 1.0, 0.0, 1.0, 1.0, 0.0, 44.0, 3562.0, 4.0, 2.0, 38.0, 2.0, 1.0]</td><td style='border: 1px solid #dddddd'>0_to_200</td><td style='border: 1px solid #dddddd'>furniture</td><td style='border: 1px solid #dddddd'>No Risk</td><td style='border: 1px solid #dddddd'>0.0</td><td style='border: 1px solid #dddddd'>0.0</td><td style='border: 1px solid #dddddd'>unskilled</td><td style='border: 1px solid #dddddd'>stores</td><td style='border: 1px solid #dddddd'>4.0</td><td style='border: 1px solid #dddddd'>1.0</td><td style='border: 1px solid #dddddd'>none</td><td style='border: 1px solid #dddddd'>44</td><td style='border: 1px solid #dddddd'>38</td><td style='border: 1px solid #dddddd'>credits_paid_to_date</td><td style='border: 1px solid #dddddd'>1.0</td><td style='border: 1px solid #dddddd'>2</td><td style='border: 1px solid #dddddd'>1.0</td><td style='border: 1px solid #dddddd'>2.0</td><td style='border: 1px solid #dddddd'>1.0</td><td style='border: 1px solid #dddddd'>0.0</td><td style='border: 1px solid #dddddd'>yes</td><td style='border: 1px solid #dddddd'>own</td><td style='border: 1px solid #dddddd'>0.0</td><td style='border: 1px solid #dddddd'>2</td><td style='border: 1px solid #dddddd'>4a93dd1f-9ff2-43c5-87e5-6a1912e7ab54</td><td style='border: 1px solid #dddddd'>[13.865924779275034, 6.1340752207249665]</td><td style='border: 1px solid #dddddd'>yes</td><td style='border: 1px solid #dddddd'>0.0</td><td style='border: 1px solid #dddddd'>male</td><td style='border: 1px solid #dddddd'>1</td><td style='border: 1px solid #dddddd'>savings_insurance</td><td style='border: 1px solid #dddddd'>greater_7</td><td style='border: 1px solid #dddddd'>No Risk</td><td style='border: 1px solid #dddddd'>[0.6932962389637517, 0.3067037610362483]</td></tr>\n",
       "            </table>\n",
       "        </body>\n",
       "        </HTML>"
      ],
      "text/plain": [
       "<IPython.core.display.HTML object>"
      ]
     },
     "metadata": {},
     "output_type": "display_data"
    }
   ],
   "source": [
    "wos_client.data_sets.show_records(payload_data_set_id, limit=5)"
   ]
  },
  {
   "cell_type": "markdown",
   "metadata": {},
   "source": [
    "## Congratulations!\n",
    "\n",
    "You have finished the hands-on lab for IBM Watson OpenScale. You can now view the [OpenScale Dashboard](https://aiopenscale.cloud.ibm.com/). Click on the tile for the German Credit model to see fairness, accuracy, and performance monitors. Click on the timeseries graph to get detailed information on transactions during a specific time window.\n",
    "\n",
    "## Next steps\n",
    "\n",
    "OpenScale shows model performance over time. You have two options to keep data flowing to your OpenScale graphs:\n",
    "  * Download, configure and schedule the [model feed notebook](https://raw.githubusercontent.com/emartensibm/german-credit/master/german_credit_scoring_feed.ipynb). This notebook can be set up with your WML credentials, and scheduled to provide a consistent flow of scoring requests to your model, which will appear in your OpenScale monitors.\n",
    "  * Re-run this notebook. Running this notebook from the beginning will delete and re-create the model and deployment, and re-create the historical data. Please note that the payload and measurement logs for the previous deployment will continue to be stored in your datamart, and can be deleted if necessary."
   ]
  }
 ],
 "metadata": {
  "kernelspec": {
   "display_name": "Python 3",
   "language": "python",
   "name": "python3"
  },
  "language_info": {
   "codemirror_mode": {
    "name": "ipython",
    "version": 3
   },
   "file_extension": ".py",
   "mimetype": "text/x-python",
   "name": "python",
   "nbconvert_exporter": "python",
   "pygments_lexer": "ipython3",
   "version": "3.7.3"
  },
  "varInspector": {
   "cols": {
    "lenName": 16,
    "lenType": 16,
    "lenVar": 40
   },
   "kernels_config": {
    "python": {
     "delete_cmd_postfix": "",
     "delete_cmd_prefix": "del ",
     "library": "var_list.py",
     "varRefreshCmd": "print(var_dic_list())"
    },
    "r": {
     "delete_cmd_postfix": ") ",
     "delete_cmd_prefix": "rm(",
     "library": "var_list.r",
     "varRefreshCmd": "cat(var_dic_list()) "
    }
   },
   "types_to_exclude": [
    "module",
    "function",
    "builtin_function_or_method",
    "instance",
    "_Feature"
   ],
   "window_display": false
  }
 },
 "nbformat": 4,
 "nbformat_minor": 1
}
