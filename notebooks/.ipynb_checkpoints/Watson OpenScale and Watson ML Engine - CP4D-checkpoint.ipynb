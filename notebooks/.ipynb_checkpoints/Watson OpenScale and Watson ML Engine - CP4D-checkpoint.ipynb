{
 "cells": [
  {
   "cell_type": "markdown",
   "metadata": {},
   "source": [
    "<img src=\"https://github.com/pmservice/ai-openscale-tutorials/raw/master/notebooks/images/banner.png\" align=\"left\" alt=\"banner\">"
   ]
  },
  {
   "cell_type": "markdown",
   "metadata": {},
   "source": [
    "# Working with Watson Machine Learning"
   ]
  },
  {
   "cell_type": "markdown",
   "metadata": {},
   "source": [
    "This notebook should be run using with **Python 3.x with Spark** runtime environment. **If you are viewing this in Watson Studio and do not see Python 3.x with Spark in the upper right corner of your screen, please update the runtime now.** It requires service credentials for the following services:\n",
    "  * Watson OpenScale\n",
    "  * Watson Machine Learning\n",
    "  * DB2\n",
    "  \n",
    "The notebook will train, create and deploy a German Credit Risk model, configure OpenScale to monitor that deployment, and inject seven days' worth of historical records and measurements for viewing in the OpenScale Insights dashboard."
   ]
  },
  {
   "cell_type": "markdown",
   "metadata": {},
   "source": [
    "### Contents\n",
    "\n",
    "- [Setup](#setup)\n",
    "- [Model building and deployment](#model)\n",
    "- [OpenScale configuration](#openscale)\n",
    "- [Quality monitor and feedback logging](#quality)\n",
    "- [Fairness, drift monitoring and explanations](#fairness)\n",
    "- [Custom monitors and metrics](#custom)\n",
    "- [Payload analytics](#analytics)\n",
    "- [Setup business Application](#BKPI)\n",
    "- [Historical data](#historical)\n",
    "- [Business Application and Correlation monitor run](#correlation)"
   ]
  },
  {
   "cell_type": "markdown",
   "metadata": {},
   "source": [
    "# Setup <a name=\"setup\"></a>"
   ]
  },
  {
   "cell_type": "markdown",
   "metadata": {
    "collapsed": true
   },
   "source": [
    "## Package installation"
   ]
  },
  {
   "cell_type": "code",
   "execution_count": 1,
   "metadata": {},
   "outputs": [],
   "source": [
    "import warnings\n",
    "warnings.filterwarnings('ignore')"
   ]
  },
  {
   "cell_type": "code",
   "execution_count": null,
   "metadata": {
    "scrolled": true
   },
   "outputs": [],
   "source": [
    "!rm -rf /home/spark/shared/user-libs/python3.6*\n",
    "\n",
    "!pip install --upgrade ibm-ai-openscale --no-cache | tail -n 1\n",
    "!pip install --upgrade watson-machine-learning-client-V4 | tail -n 1\n",
    "!pip install --upgrade numpy --no-cache | tail -n 1\n",
    "!pip install --upgrade SciPy --no-cache | tail -n 1\n",
    "!pip install lime --no-cache | tail -n 1\n",
    "!pip install pixiedust | tail -n 1"
   ]
  },
  {
   "cell_type": "markdown",
   "metadata": {},
   "source": [
    "### Action: restart the kernel!"
   ]
  },
  {
   "cell_type": "markdown",
   "metadata": {},
   "source": [
    "## Configure credentials"
   ]
  },
  {
   "cell_type": "markdown",
   "metadata": {
    "scrolled": true
   },
   "source": [
    "- WOS_CREDENTIALS (CP4D)\n",
    "- WML_CREDENTIALS (CP4D)\n",
    "- DATABASE_CREDENTIALS (DB2 on CP4D or Cloud Object Storage (COS))\n",
    "- SCHEMA_NAME"
   ]
  },
  {
   "cell_type": "code",
   "execution_count": 1,
   "metadata": {},
   "outputs": [],
   "source": [
    "WOS_CREDENTIALS = {\n",
    "    \"url\": \"***\",\n",
    "    \"username\": \"***\",\n",
    "    \"password\": \"***\"\n",
    "}"
   ]
  },
  {
   "cell_type": "code",
   "execution_count": 2,
   "metadata": {},
   "outputs": [],
   "source": [
    "# The code was removed by Watson Studio for sharing."
   ]
  },
  {
   "cell_type": "code",
   "execution_count": 3,
   "metadata": {},
   "outputs": [],
   "source": [
    "WML_CREDENTIALS = WOS_CREDENTIALS.copy()\n",
    "WML_CREDENTIALS['instance_id']='openshift'\n",
    "WML_CREDENTIALS['version']='2.5.0'"
   ]
  },
  {
   "cell_type": "code",
   "execution_count": 4,
   "metadata": {},
   "outputs": [],
   "source": [
    "DATABASE_CREDENTIALS = {\n",
    "    \"jdbcurl\": \"***\",\n",
    "    \"hostname\": \"***\",\n",
    "    \"username\": \"***\",\n",
    "    \"password\": \"***\",\n",
    "    \"port\": 50000,\n",
    "    \"db\": \"***\",\n",
    "    \"dsn\": \"***\",\n",
    "    \"uri\": \"***\"\n",
    "}"
   ]
  },
  {
   "cell_type": "code",
   "execution_count": 5,
   "metadata": {},
   "outputs": [],
   "source": [
    "# The code was removed by Watson Studio for sharing."
   ]
  },
  {
   "cell_type": "markdown",
   "metadata": {},
   "source": [
    "### Action: put created schema name below."
   ]
  },
  {
   "cell_type": "code",
   "execution_count": 6,
   "metadata": {},
   "outputs": [],
   "source": [
    "SCHEMA_NAME = 'AIOSFASTPATHICP'"
   ]
  },
  {
   "cell_type": "markdown",
   "metadata": {},
   "source": [
    "## Run the notebook\n",
    "\n",
    "At this point, the notebook is ready to run. You can either run the cells one at a time, or click the **Kernel** option above and select **Restart and Run All** to run all the cells."
   ]
  },
  {
   "cell_type": "markdown",
   "metadata": {},
   "source": [
    "# Model building and deployment <a name=\"model\"></a>"
   ]
  },
  {
   "cell_type": "markdown",
   "metadata": {},
   "source": [
    "In this section you will learn how to train Spark MLLib model and next deploy it as web-service using Watson Machine Learning service."
   ]
  },
  {
   "cell_type": "markdown",
   "metadata": {},
   "source": [
    "## Load the training data from github"
   ]
  },
  {
   "cell_type": "code",
   "execution_count": 8,
   "metadata": {
    "scrolled": true
   },
   "outputs": [
    {
     "name": "stdout",
     "output_type": "stream",
     "text": [
      "Warning: Failed to set locale category LC_NUMERIC to en_PL.\n",
      "Warning: Failed to set locale category LC_TIME to en_PL.\n",
      "Warning: Failed to set locale category LC_COLLATE to en_PL.\n",
      "Warning: Failed to set locale category LC_MONETARY to en_PL.\n",
      "Warning: Failed to set locale category LC_MESSAGES to en_PL.\n",
      "--2019-11-22 14:13:24--  https://raw.githubusercontent.com/pmservice/ai-openscale-tutorials/master/assets/historical_data/german_credit_risk/wml/german_credit_data_biased_training.csv\n",
      "Resolving raw.githubusercontent.com (raw.githubusercontent.com)... 199.232.36.133\n",
      "Connecting to raw.githubusercontent.com (raw.githubusercontent.com)|199.232.36.133|:443... connected.\n",
      "HTTP request sent, awaiting response... 200 OK\n",
      "Length: 689622 (673K) [text/plain]\n",
      "Saving to: ‘german_credit_data_biased_training.csv’\n",
      "\n",
      "german_credit_data_ 100%[===================>] 673.46K   601KB/s    in 1.1s    \n",
      "\n",
      "2019-11-22 14:13:25 (601 KB/s) - ‘german_credit_data_biased_training.csv’ saved [689622/689622]\n",
      "\n"
     ]
    }
   ],
   "source": [
    "!rm german_credit_data_biased_training.csv\n",
    "!wget https://raw.githubusercontent.com/pmservice/ai-openscale-tutorials/master/assets/historical_data/german_credit_risk/wml/german_credit_data_biased_training.csv"
   ]
  },
  {
   "cell_type": "code",
   "execution_count": 10,
   "metadata": {
    "scrolled": true
   },
   "outputs": [
    {
     "data": {
      "text/plain": [
       "Row(CheckingStatus='0_to_200', LoanDuration=31, CreditHistory='credits_paid_to_date', LoanPurpose='other', LoanAmount=1889, ExistingSavings='100_to_500', EmploymentDuration='less_1', InstallmentPercent=3, Sex='female', OthersOnLoan='none', CurrentResidenceDuration=3, OwnsProperty='savings_insurance', Age=32, InstallmentPlans='none', Housing='own', ExistingCreditsCount=1, Job='skilled', Dependents=1, Telephone='none', ForeignWorker='yes', Risk='No Risk')"
      ]
     },
     "execution_count": 10,
     "metadata": {},
     "output_type": "execute_result"
    }
   ],
   "source": [
    "from pyspark.sql import SparkSession\n",
    "import pandas as pd\n",
    "import json\n",
    "\n",
    "spark = SparkSession.builder.getOrCreate()\n",
    "pd_data = pd.read_csv(\"german_credit_data_biased_training.csv\", sep=\",\", header=0)\n",
    "df_data = spark.read.csv(path=\"german_credit_data_biased_training.csv\", sep=\",\", header=True, inferSchema=True)\n",
    "df_data.head()"
   ]
  },
  {
   "cell_type": "markdown",
   "metadata": {},
   "source": [
    "## Explore data"
   ]
  },
  {
   "cell_type": "code",
   "execution_count": 11,
   "metadata": {
    "scrolled": true
   },
   "outputs": [
    {
     "name": "stdout",
     "output_type": "stream",
     "text": [
      "root\n",
      " |-- CheckingStatus: string (nullable = true)\n",
      " |-- LoanDuration: integer (nullable = true)\n",
      " |-- CreditHistory: string (nullable = true)\n",
      " |-- LoanPurpose: string (nullable = true)\n",
      " |-- LoanAmount: integer (nullable = true)\n",
      " |-- ExistingSavings: string (nullable = true)\n",
      " |-- EmploymentDuration: string (nullable = true)\n",
      " |-- InstallmentPercent: integer (nullable = true)\n",
      " |-- Sex: string (nullable = true)\n",
      " |-- OthersOnLoan: string (nullable = true)\n",
      " |-- CurrentResidenceDuration: integer (nullable = true)\n",
      " |-- OwnsProperty: string (nullable = true)\n",
      " |-- Age: integer (nullable = true)\n",
      " |-- InstallmentPlans: string (nullable = true)\n",
      " |-- Housing: string (nullable = true)\n",
      " |-- ExistingCreditsCount: integer (nullable = true)\n",
      " |-- Job: string (nullable = true)\n",
      " |-- Dependents: integer (nullable = true)\n",
      " |-- Telephone: string (nullable = true)\n",
      " |-- ForeignWorker: string (nullable = true)\n",
      " |-- Risk: string (nullable = true)\n",
      "\n"
     ]
    }
   ],
   "source": [
    "df_data.printSchema()"
   ]
  },
  {
   "cell_type": "code",
   "execution_count": 12,
   "metadata": {
    "scrolled": true
   },
   "outputs": [
    {
     "name": "stdout",
     "output_type": "stream",
     "text": [
      "Number of records: 5000\n"
     ]
    }
   ],
   "source": [
    "print(\"Number of records: \" + str(df_data.count()))"
   ]
  },
  {
   "cell_type": "markdown",
   "metadata": {},
   "source": [
    "## Visualize data with pixiedust"
   ]
  },
  {
   "cell_type": "code",
   "execution_count": 13,
   "metadata": {},
   "outputs": [
    {
     "name": "stdout",
     "output_type": "stream",
     "text": [
      "Pixiedust database opened successfully\n"
     ]
    },
    {
     "data": {
      "text/html": [
       "\n",
       "        <div style=\"margin:10px\">\n",
       "            <a href=\"https://github.com/ibm-watson-data-lab/pixiedust\" target=\"_new\">\n",
       "                <img src=\"https://github.com/ibm-watson-data-lab/pixiedust/raw/master/docs/_static/pd_icon32.png\" style=\"float:left;margin-right:10px\"/>\n",
       "            </a>\n",
       "            <span>Pixiedust version 1.1.17</span>\n",
       "        </div>\n",
       "        "
      ],
      "text/plain": [
       "<IPython.core.display.HTML object>"
      ]
     },
     "metadata": {},
     "output_type": "display_data"
    }
   ],
   "source": [
    "import pixiedust"
   ]
  },
  {
   "cell_type": "code",
   "execution_count": null,
   "metadata": {
    "pixiedust": {
     "displayParams": {
      "aggregation": "COUNT",
      "chartsize": "51",
      "handlerId": "pieChart",
      "keyFields": "Risk",
      "mpld3": "false",
      "rendererId": "bokeh"
     },
     "pixieapp": {
      "name": "Spark German Risk Model - Final",
      "runtime": "spark-mllib_2.3",
      "type": "mllib_2.3"
     }
    }
   },
   "outputs": [
    {
     "data": {
      "text/html": [
       "<style type=\"text/css\">.pd_warning{display:none;}</style><div class=\"pd_warning\"><em>Hey, there's something awesome here! To see it, open this notebook outside GitHub, in a viewer like Jupyter</em></div>\n",
       "        <div class=\"pd_save is-viewer-good\" style=\"padding-right:10px;text-align: center;line-height:initial !important;font-size: xx-large;font-weight: 500;color: coral;\">\n",
       "            \n",
       "        </div>\n",
       "    <div id=\"chartFigure520b5980\" class=\"pd_save is-viewer-good\" style=\"overflow-x:auto\">\n",
       "            \n",
       "                    \n",
       "                            <center><img style=\"max-width:initial !important\" src=\"data:image/png;base64,iVBORw0KGgoAAAANSUhEUgAAAPYAAAD8CAYAAABEiVmuAAAABHNCSVQICAgIfAhkiAAAAAlwSFlzAAAOwwAADsMBx2+oZAAAADh0RVh0U29mdHdhcmUAbWF0cGxvdGxpYiB2ZXJzaW9uMy4xLjAsIGh0dHA6Ly9tYXRwbG90bGliLm9yZy+17YcXAAAgAElEQVR4nO3dd3xUVf7/8dfUzGQmvZCE0JMQikBYCau0oBBFRKmCSARRdln1p7gL+lVUENFdERfUtYtiQRFEUXAXBERAuhQhYJASekJ6mZTJtN8fSDQmIW1m7p2Z83w8eKB3rvd+bpx3bjnnnqNwOBwOBEHwKkqpCxAEwflEsAXBC6mlLuBqHA4HNpsNi8UidSmC4FIajQaVSoVCoXDK9mQb7KqqKs6cOUNJSYnUpQiCWwQGBtKuXTu0Wm2Lt6WQ48Mzh8PBTz/9hFqtpnXr1vj5+TntN5kgyI3D4cBsNnPhwgWsVis9evRAqWzZXbIsg11ZWcmRI0dITEzEYDBIXY4guEVZWRkZGRmYTCb69++PSqVq9rZk+fDsyu+alv7WEgRPcuX7fvjwYbZv396ybTmjIEEQnEev15ORkYHdbm/2NkSwBUFmNBoNVVVVLWoNEsF2kylTpjBp0qRGratQKNi4caOLKxKaa+nSpcTGxjZq3ZSUFJ588kkXV1SbbJu76tP+/75xy35O/2t4k9ZPSUlhy5YtAPj7+xMfH8/s2bMZN24cAC+//LLTa3S1949fdNu+7omPadL6V37e69evJzU1tXr5pEmTUKvVLF26tFl1zJ07l2eeeQYAtVpN27ZtSUtL4+mnn66+Bx4/fjzDhzft++Fu4oztRDNmzCArK4v09HQmTpzInXfeyU8//QRAUFAQQUFBElfoXXQ6nUvOhsnJyWRlZZGZmclLL73EokWLeP3116s/1+v1REREOH2/ziSC7UQGg4GoqCg6dOjAo48+SlBQEN9//z1Q+1J88eLFdOjQAT8/P2JjY5k7d26d27RarUyYMIHk5GQKCwvdcBSeIy0tjaNHj7J69ep617l06RJjx47FaDQSEhLCvffeS1lZ2VW3q9FoiIqKIjY2lpEjRzJkyBA2bdpU/fkfL8U3bNhAUlISer2e8PDwq57NX331VSIjIzl48GATjrTpRLBdwG6388UXX1BYWFhnL6K9e/cyZ84c3nzzTY4fP86KFSuIi4urtV5VVRXjxo3j/PnzbNy4kZCQEHeU7zEiIyN5+OGHeeqpp+p9gpyWlsa5c+fYsmULa9asYevWrTzyyCON3kd6ejo7duyotzeY1Wpl7NixTJkyhYyMDL777juGDh1a57oLFizg+eefZ/PmzfTq1avRNTSHx91jy9mCBQtYvHgxZrMZq9VKmzZtqu+xf+/s2bNERUVx4403Vt/HXX/99TXWqaysZOTIkVRWVrJ+/XrRUaces2bN4vXXX2f58uVMnDixxmcZGRls2LCBI0eO0LVrV+DyGXPEiBG8+OKL9d4a7dy5E6PRiNVqxWw2o9VqefDBB+tct7i4mJKSEkaPHk2bNm0A6NGjR6315s2bx9tvv82WLVtISEhoySE3ijhjO9G0adM4ePAgmzZt4tprr+Wtt94iPDy81npDhgxBoVDQqVMnpk+fzjfffMMfOwBOnz6dgoICvvnmGxHqqwgODmbmzJnMmTMHq9Va47Njx44REBBQHWqA6667DqvVysmTJ+vdZlJSEgcPHmT37t3ceeedzJw5kwEDBtS5blhYGBMmTKB79+5MmDCB999/H5PJVGOdpUuXsmjRIrZu3eqWUIMItlOFhIQQFxfHwIEDWbZsGXfffTfZ2dm11gsKCuLQoUO88cYbaLVapk6dyu23315jndTUVNLT09mzZ4+7yvdYDz/8MMXFxbWehNfVW7ox7xzodDri4uLo2bMnH3zwAcuXL2fdunX1rv/pp5/y7bff0rlzZxYuXEj37t3Jz8+v/rxPnz4olUpWrVrV+INqIRFsF0lISCAlJYX58+fX+blWq+WWW27hlVdeYc2aNaxZs4acnJzqzydOnMjChQu57bbbRLgbYDQaefzxx5k3bx5ms7l6eWJiIqWlpRw9erR62Y4dO1Cr1XTq1KlR29ZoNPz9739n1qxZdf6iuKJv374888wzHDhwgKKiohoP27p168a6deuYP38+b7zxRjOOsOlEsF3owQcfZMmSJWRlZdVYvnbtWl577TUOHz7MqVOn+OyzzwgPDycsLKzGetOnT+epp55i2LBhHD582J2le5y//e1vOBwO1q5dW70sMTGR1NRUpk6dyr59+9i+fTsPPfQQ99xzT5OaHidPnszZs2frfPqemZnJ7Nmz2b17N2fOnGHlypWYTCbi4+NrrNenTx/WrFnDrFmz+Oijj5p/oI3kcQ/PmtpxREqDBg0iISGBhQsX1lgeHBzMggULmD17NlarlaSkJNauXVvn2zwzZ86ktLSUoUOHsm3btlpfGFdqaqcRKV1p054+fXqN5R9++CH3338/gwYNQq1WM2bMGBYtWtSkbRuNRiZPnsxzzz3HqFGjanzm7+9Peno6S5YsoaioiI4dO/Lee++RlJRUazsDBw5k1apVjB49GoPBwOjRo5t+oI0ky9c2KyoqOHr0KF27dkWv10tdjiC4xZXv/ZEjRygpKWHatGn4+fk1a1viUlwQvJAItiB4IRFsQfBCItiC4IVkGewrnQhaMoKEIHiaK993ZzzPlmVzl5+fHyqViszMTDFKqeD1roxSeu7cOex2e41ONs0ly2ArFAq6du3KmTNnOHXqlNTlCIJblJeXk5WVhcPhQKFQtOhkJstgw+Uul3FxcezevZtdu3YRHR3douFYBUHOrFYrdrsdh8NBaWkpkZGRaDSaZm9PtsGGy2fu7t27c/r0aU6cOIFOpxOX5IJXM5vNBAYGMmjQoBZ912XZ8+yPTCYTBw4coLCwEJvNJnU5guAygYGBxMfH07Zt2xZtxyOCLQhC08iyuUsQhJYRwRYELySCLQheSARbELyQCLYgeCERbEHwQiLYguCFRLAFwQuJYAuCFxLBFgQvJIItCF5IBFsQvJAItiB4IRFsQfBCItiC4IVEsAXBC4lgC4IXEsEWfNKUKVOYNGlSo9ZVKBRs3LjRxRU5l6wHMxScy+FwUFBWRWG5heIKC8UVVZf/LrdQYbFjs9ux/TpHg1IBKpUCo5+aQJ2GIL2GQP3lfw4z+hFq0Ep7MA1ISUlhy5YtwOWpbuPj45k9ezbjxo0D4OWXX5ayPJcTwfZCeSYzmXllv/3JLeN0/uU/lRbnzK4S4KembZg/7cMMv/7tT7swA+3DDLQKlMcEDzNmzOCxxx6joqKClStXcuedd5KQkEDPnj2bNPG9JxLB9nA2u4OD5wrZdjyP7SfyyMgupbTS6vL9lpqtHLlYwpGLJbU+02tU9G4XTL+4cPrHhdM9Jgil0v1BNxgMREVFAfDoo4/ywgsv8P3339OzZ0+mTJmC1Wrl448/BmDx4sW8/PLLXLx4kYiICO677z7mzp1ba5tWq5VJkyZx6tQp1q9fT0hIiDsPqdFEsD3Qmfwyth7P44fjuew4me+WIDdFhcXG9hP5bD+RzwKOEeyv4bqOYdVBbx9ucGs9drud1atXU1hYiFZb+xZi7969zJkzhxUrVtClSxfOnz9f5ww0VVVVjB8/ntzcXDZu3EhgYKA7ym8WEWwPUFxhYefJvF/DnMfZgnKpS2qSonIL/0vP5n/p2QDEhujp1ymcfvHh9OsURpjRzyX7XbBgAYsXL8ZsNmO1WmnTpk31PfbvnT17lqioKG688UbUajVt27bl+uuvr7FOZWUlI0eOpLKykvXr12MwuPeXU1OJccVlqspqZ92RbD7dfZY9pwuw2b3zf5NSAQPiI7gzuS1DukSiVjmnoSYlJYVu3brxyCOPcPHiRf7xj38wb948hg0bBlDjUry4uJi+fftSUVHBsGHDGDFiBLfcckv1cwKFQkHr1q2JjY1l8+bN6PV6p9ToSuKMLTNn88v5ZM9ZPt93jjxTldTluJzdAVt+yWXLL7lEBvgx7tpYJvRpS5tQ/xZvOyQkhLi4OOLi4li2bBn9+vXj8OHD1ffdVwQFBXHo0CE2btzIunXrmDp1Kn379uXrr7+uXic1NZUVK1awZ88eBg0a1OLaXE2csWXAarOz8ecclu0+ww8n8vD1/yMKBfSPC+fO5LYM7doKTTPO4ikpKfTv35/58+dXLxs3bhytWrXiP//5T62HZ7+3Z88e+vbty6VLl4iMjEShULBhwwZOnDjBY489xoYNG0hOTm7RMbqaOGNLyGS28sGO03y48zSXSlo+J7K3cDhg2/E8th3PIyLAj/v6dyDtunb4a1v2dX3wwQe5+eabmT17do3la9eu5cyZMwwcOBCDwcBnn31GeHg4YWFhNdabPn06JpOJYcOG8f3333PNNde0qB5XEsGWQGmlhaXbT7NkeyZF5Rapy5G13FIz//xfBm9tPcW9/Tsw+fr2GP2a97UdNGgQCQkJLFy4sMby4OBgFixYwOzZs7FarSQlJbF27do6p22eOXMmpaWlDB06lG3bthEfH9+sWlxNXIq7UWmlhfe3n2bJD5kUV4hAN0eQXsPUfh24b0AHDM0MuC8QwXYDm93Bp3vOsmjDL+SXef8DMXcIN/rxj9QE7ri2DSoJOr/InQi2i2VXmFnyQybvbDopdSleKTEqgGdu60bfjmENr+xDRLBdpNJqY29eCSdKK9Arlcx5fz9mq/hRu8ptPWN4ekRXwl3U2cXTiGA7mcPh4JeScvbllWD+XaeS4pwKFq/JkLAy7xdq0DL3tm7c1jNG6lIkJ4LtRCaLlS3ZheRU1n4wplYoePvLDM7le1Z3UE90c7co5o/q7tNnbxFsJ7lQVsmW7CLM9vpfi1Sb7Tz18U9urMp3hfhrmD/yGob3iJa6FEmIYLeQw+HgYIGJnwpKacwPcvPO82w9muvyuoTLplzfntnDuzSr95onE8FuAbPNzpbsQi6UN77XmL9Cyf8t2efz3Ubd6dp2Ibx+V28iA3VSl+I2ItjNlFdZxeasQkxWW5P/27OnS3hfNH+5VUSAH69N7E1yh1CpS3EL37o+cZKM4jL+ez6vWaEGiO8YRLC/xslVCVeTW2pm4ju7eHdb7QEUvJE4YzeB1e5gZ04RJ0orWrwtS6mF51ekO6Eqoalu7RHNgrE9WvxSiZyJM3YjmW12/ns+zymhBvAL1NC9jXcPqCdXaw9lMend3ZjM8hpSyplEsBvBbLOz7kI++Wbnvbhhd8BdQzo6bXtC0+w/W8TdS3ZTWkefA28ggt0As83O+gv5FDgx1FdUKmFkcqzTtys0zv6zRdz93h6vDLcI9lVcCbUzz9R/9OeerfBTi7eTpHLAS8Mtgl2PKpudb10caoAKu53pwzq7dB/C1R04W0Takj2UeFG4RbDrUPXrmTrPxaG+IqKVP23C5D/ypTc7eM67wi2C/QdVNjvfXnRfqAEsDgfThiW4bX9C3X7yonCLYP+OxX451LkS/I+1+ykZ0CXC7fsVavrpXBFp7+72+KGrRLB/ZXc42HCxQJJQAziAW/u1kWTfQk0/nS/mgWX7PXqSBhHsX/2YV8KlCmnHIyt3OJhyg2jbloMfTuTx4vpjUpfRbCLYwBlTBUeKyqQuA4CETsGiH7lMvLnlJOvSs6Quo1l8PtilFis/XCqSuoxqZruD+4eL5i+5mLnyECdySqUuo8l8Otg2u4PNWYVUyexeyi9I9COXC5PZyl8/2udx/cp9Oti7c4td3gGlOUQ/cnk5mVvGP1YcxJNehPTZYJ8sKedYiXwHFqxUwm19WktdhvCr9Ucu8eYWz3mX2yffxy6qsrDmbB5WmR+6Xqnkqff2Y7HJu87iXSsxHd6ErSQXhVqLX2wXQgbfiya0NdbiHPL+uxhL3hns5nLUgREEJA0nsM/t1f+96dC3FG39CAcOQgbejbFHavVnJXu+xFKURVjq/VIcWg0alYKvHuhP15hAqUtpkM8F22K3s/ZcHkVVnnHPVHipglfWyns88rKMH1DqjKiDo3BUlVP0wydY8s7Q+i/vYC3No+LUfvyi41D6GTBfyCB/3auE3vQAxm6DsZUXc+HtvxA5ajYOHOR+8Ryt//oOKv8grKX5XPrkMaImL0alM0p9mAB0jQ7kqwf7yX5wRHlX5wJ7cks8JtQAkVH+tA6Vdz9yQ2J/9O17oQmOQhvZkeABk7AWZmErK0QdEE5Az1S0kR1RB7XC0HUQ+g69MZ8/CoC1KBtNaCy6dj3Qt+uJJiwWa1E2AIXfvUvQdeNlE2qAo1kl/Oe7E1KX0SCfCvaliip+kfF9dV0sDgd/vcVz+pHbLWZMhzeiDo1F6V/7yX5VTiaVF47iF9sVAHVINNaSS1hLcrAW52AtyUEdEkPF6YPYSvMwXDPE3YfQoNe/P0H6hWKpy7gqn7kUtzscrDmXS4GHNVsAKICNO87xw895UpdSr/ITe8j7egEOixl1aGsix81FExxV/Xn2RzMxXzoJNivBAyYRdP346s9MRzZTvOMzAIL73Yl/5+vJev8hwkfMouL0AUw/rUMTGkvY8L+j0ge4/djq0iU6kLX/r79sZ/r0mWAfLTKxO7dE6jKazV+h4LF390tdRr3sVZXYygqwlRVSsudLbKZCou56AYXq8oCB1pJc7OZyqrKOUfj9UkJvegBD5351bqtox3Ls5cUYut9I/jeLiEp7iZLdq7CbTYQO+as7D+uq5ozoyj39OkhdRp184lK8wmrjQL7n9R76vXKHg8mD5du2rdTq0ITEoIvtRsTtj2HJO03FqX3Vn6sDI9BGtMPYI5XAa2+nZOeKOrdjKcrGdGgDwQMmYT5/BH3HP6HU6vBP7F99Xy4X/97wC3mmxk8W4U4+Eex9+aWy613WHJ3jggny95Ahcx2gUNb99XI47FDPZ4Ub3yK4/10o/Qxgt+Ow/zp2u9322z/LRGmllZe+leeLIl4f7EKzhRMe9sCsPma7g/tvkV8/8sLv38d84WesxTmYLx4j9+sFKPWB+MV2pfyXnZQd/R5L/jkshRcxpW+iZO9qDF0G1dpO+fFd2M3lGLvfAIA2JpHyX3ZQlZNJ6f61+MUkuvvQGrTix/NkZMvvFs9Dfv033495JY2aLM9T6IK1dI0N4uh5+TyVtZbkkrv6X9gqilHpg/Br041WE+aj9DOgUKkp3rkCS8F5ANTBUYQMvJuA3sNrbMNuqaTwuyVEjJ5dvUwX2wVDl0Fc+uT/0IS3I3zk/7n1uBrDZnfwz/9m8MHUZKlLqcGrH55ll5v534V8qctwOp0dHn//gNRlCL/z5f3Xk9Q2ROoyqnntpbjD4WBvnvwukZyhUgkjrhX9yOXk5U3HpS6hBq8N9rkys1sHJHS3/klRaFTybEP1Rd8fy+XQefm81++1wc4olseIKK5Sbrcz/WbP6ZHmC16R0VnbK4NdarE2aTJ6T9Uq2kBMiLz7kfuSjT/ncPSiPG7/vDLYGcXe0bzVEE/rR+4LPt59RuoSAC8Mts3u4LiXtFs3hkOnpF9iuNRlCL/6+uBFymTwPoLXBfu0qQKzzS51GW7jAG7r31bqMoRfmcxWvjp4UeoyvC/YvnIZ/nty70fuaz7ZI/3luFcFu8BsIadS2kH/pZIYF0yAzus7EnqE9Aslkjd9eVWwj3l5E9fVVNodPHir/PqR+6pPdp+VdP9eE2yL3c7J0gqpy5CUPlhLl1j5D7TnC77+6SKlEs7a6TXBPlVagcULXs1sCZsD0oZ0kroMASivsvHNIemmB/KaYJ8xVUpdgiyYVXDrtTFSlyEAW37JlWzfDQZbpVKRk5NTa3l+fj4qlcolRTWV3eGQfKZMORmQFC36kcvAjpP52CW6imww2A6HA4Wi9pfEZDKh0+lcUlRT5VRWyX7wf3cS/cjlobjCwiGJRjOtt31k6tSpACgUCh566CH0+t/6JNtsNg4cOECfPn1cX2EjZPlAv/CmutKP/GKhbz9QlNoPx3Pp1SbY7fut94xtsViwWCw4HA6sVmv1v1ssFlQqFWPGjOGTTz5xZ631uiiCXcvlfuTxUpfh87Ydl2bI6HrP2B999BEAcXFxzJw5E4PB4LaimsJit5MrYbOCnDl0Kq5LCGfnL/Idj9zbHThbRHmVFX+tezsPNXiPPWfOnOpQOxwO7HZ7jT9Syy6v8qoxzZzJAYwcIPqRS6nKZmd3ZoHb99tgsM+fP8+4ceOIjIxErVaj0Whq/JHaxQpxGX415ThIS5HnoPa+4gcJLscbvD5IS0ujvLycV155haioqDqfkEtJ3F83rGt8CAG7zlFaKf3rhL5IimA3OEqp0Whk7969dOnSxV01NVq51cZnmZekLsMjmIur+NfnR6Quw2fteeJGIgPd1zzc4KV4t27dyM2VrgfN1WSLy/BG8w/Wktha9COXyi4332c3GOwnnniCGTNmsGrVKo4dO8apU6dq/JFSoQxGqvAUNgfcPVT0I5fKyRyTW/fX4KW48g9zLF25x77SI81mk24+pS1ZhZwyiQ4YTfHjwUt8s0/6ET58zcheMSyekOS2/TX48CwzM9MddTRLqVWcsZtqYO9o1h/MwmoTjYTulJnv3pF9Ggx2u3bt3FFHs5gs8pp90ROU2+1Mvyme//z3F6lL8Smn89w7CEiDwX7vvfeu+vmVPuXuZrXbqfChQQudKSrGSHSwjqwi8aqruxRXWCgqryLYX+uW/TV4j92hQ83ODRaLhezsbHQ6HZGRkZI9QCsyW/jyrDyf1nsCRaWNucsOSV2GT3HnxH3NusfOzc1l2rRpTJw40SVFNUapVVyGt4hOxZ8Twtkl+pG7zen8MrcFu1kjqERERPDss8/y6KOPOrueRhP31y3jAEaJfuRudTrPfQ/Qmj00Ul5eHiUl0s1TVGoRT8RbqhwHkwaJfuTuklPqvg5VDV6KP/300zX+3eFwkJ2dzRdffMGYMWNcVlhDxBnbObolhGLcfRZTpfh5ulpJhfteL24w2Nu2bavx70qlsvpS/L777nNZYQ0R99jOUWm388DwRF5YJfqRu1qxnIK9efNmd9TRZL40P5erGUK0dI4J4NjFUqlL8WruDHaj77F//vlnVq9ezerVqzl27Jgra2oUuxi80GlsDpicGid1GV6vxI0j/TR4xs7JySEtLY0NGzYQHHx5ULbi4mJSU1P58MMPiYiIcHmRdfHxuQGczqyCYb2j+d9+6Qa593buvMdu8Ix9//33U1JSws8//0xBQQEFBQUcOXKEoqIiHnjgAXfUWCeHGBDJ6VL+FINajEfuMhY39s9vsOdZQEAA27Zto1evXjWW79+/n5SUFMmavD46kSXGEneBvKwyXhP9yF3CX6vi6Lyb3bKvBi/FNRoNZWW1O7CXl5ejVks3batdnLFdIjrGyOPjukldhldSunFYsQaTOXr0aKZOncorr7xC3759Adi1axczZsyQtB1bXDC6hsXhQBvonhcVfI1GKaNgv/LKK8yYMYMRI0ZUD6qgUqmYOnUqL730kssLrI9KocAmLsUFD6J04+mowXvsK0wmE6dOncLhcNCpUyeMRqOra7uqT09lUynasgUPolcpmdAxyi37avCMXVxcjM1mIzQ0lB49elQvLygoQK1WExgozQB5bryqEQSncOc9doPNXePGjWPFihW1ln/++eeMHz/eJUU1hkpm45sLQkPceTJqMNh79uzhhhtuqLU8JSWFXbt2uaSoxlCLYAseRqts9suUTdao+bHLy2u/R2oymbBKOJigUaOSbN+C0BwBbvzONhjslJQU5s6di9n827uklZWVzJ07l5SUFFfWdlVGjXRt6ILQHO78zja4p0WLFpGamkq7du1ITk4GYO/evRiNRtavX+/yAusTKM7YgocJULvvO9uo5q6qqiqWLVvGkSNHcDgcXHPNNUycOBGtVrqODOfKKtl40f3TkwpCc6XGhNLa4J75uxrdjt2Q4cOH8+677xIdHe2MzTWoqMrCl2fEKKWC5xjTLpJArXsux532mG7r1q1UVLhvuh2jhP3UBaGpFLj3ga/7nr87mVqpwF/tseULPsZfrZJXBxU5CxBPxgUP4c6mLvDwYIsn44KncPdJyGnBVkjQE0y0ZQuewt0dqpwWbCc9XG+SQBFswUMEufm76rS9HT16lJiYGGdtrlFa6cSAAIJniNa797taZ7AHDx7c6Evr7777DoA2bdo4r6pGMmhUBGnVFFeJ6X4E+Qr1U6NzY68zqCfY/fv3r/7nyspK3nrrLbp161ajS2l6ejp//etf3VPlVcT4+4lgC7IWo/dz+z4b7Hk2ZcoU4uLiePLJJ2ssf+6558jIyOCjjz5yaYENOWeqZGOW6FoqyJc7u5Je0eA99qpVq9i/f3+t5XfccQe9e/d2SVFNEeWvRQmIQZIEOVIpoJUEZ+wGn4qHhYWxcuXKWstXrlxJaGioS4pqCo1SSYSbH0wIQmNF6rSoJRjHq8Ez9osvvshdd93F2rVrSU5ORqFQsHv3bvbu3cuyZcvcUWODYvz9uFRRJXUZglBLjL/7z9bQyLe7Tp48yTvvvFM9GV/nzp2ZNm0anTp1cnmBjZFbWcXac3lSlyEItYxoE064BM2yjeqgolAosNls2Gw27HY7drtdkp5m9Qn306AVw5YKMuOnVBDmp5Fk3w0Ge+XKlSQmJrJ7927i4+OJi4tj165dJCYm1nnvLQWFQkG0RJc8glCfaH8/yU6ADV6Kd+jQgWnTpvHEE0/UWP7Pf/6TN998kzNnzri0wMb6pbiM7TnFUpchCNX6twomPtBfkn03eMbOzc1l3LhxtZaPHTuW/Px8lxTVHO2NejEksSAbWqWCDkb3tl3/XoPBHjt2bJ2X3J9//jmjRo1ySVHNoVUp6RSol7oMQQAgLtAftRvHEf+jBi/FZ82axdtvv13dpVShULBnzx7S09P5y1/+gl7/W5jmzZvn8oKvpsBs4auzYhw0QXqj20US5KbxzerSYLAHDx7cuA0pFNUvhEjpv+fyuFQp2rQF6UTrtdwcGy5pDU4bpVQuTpVWsCW7UOoyBB82ODqE9kZpbws9emikurQ36tCrvO6wBA/hr1bS1s0vfNTF6xKgVCjoHDhDJDwAAAzlSURBVCRNE4MgJAQa3DoaaX28LtgACUEGpP/RCr5GAbI5qXhlsA1qFW0lbEMUfFM7ow5/N4+UUh+vDDZAlyCD1CUIPqazjL5zXhvsaH8/wiXqgC/4nlY6rWSvaNbFa4MN0CciUOoSBB9xbbi8vmtePTB3lN6PtgYdZ8sqpS6lTmeOHGbFC89y8uA+1Fo/uvYbwP0vv8XqV17i6//8u9b61wy8gUfevTzG3NevLWLDB++iMxiZ9PRz9Bw8pHq9Zc8+RWhUNMOm3e+2Y/Fl7Y06ImU2io9XBxsu/yY9V1aJ3HrhXDxxnAV338HQu+9l4lPPolAoyTp5HICb753O4DvTqtetqqzkqVtv4E+pwwA4ezSdzZ98yD/e+5ScM5kseWwGi3cdQqlUcvZoOhm7dzDny3WSHJevUQJ/CpPX2Rp8INhBWjWdg/zJKC6XupQavly8gN5Db2bkwzOrl8XExQOgMxjQGX57ELPz6y/A4aDPLSMAyD59is59/kz77j1o370Hn8x/GlNhAQGhYXw093Emzn4GtUY8X3CHzkEGt8153RRefY99RVJYAH4yGmHFbrNxeNtmImLb8sKkscy4ricLp0zgXMbROtff/sUKeg8dht4YAEBMXAKnjxyirLiI0+mHUKrUBISGsXXFJ4S1bkOX6/rXuR3BufxUSpLCAqQuo04+EWydSkVvGT3cKC3Ip6qigv8teYO+t97OI+9+TGh0DC9OHk95aUmNdQuyL/Lzru30G31H9bLYhERSJqTx7NjhvP/EP5j24suUFRXyzVuvcsdjT/LZv+bx2I3X886sh7CY5fl8wRtcGxaIn0y7L8uzKhfoHOhPhE4el6d2++VR0K+9aTgpE9Jo1+0a7p73AgqFgoObvq2x7o4vPyc4slWts/DN907nXxu288zXG+hyXX9Wvvg8N066h8yfDnL+2M88t24LSqWS75Z94Lbj8iWROg3xMn7/32eCrVAouC4iWBZdTQNCQlGqVER1+G2UV7VGQ0SbthRkXayx7vbVK7n+9jEor/LS/okDP5J5+CBD7r6XX/btJmnITag1Gq69+VaO79vrsuPwVQrgushgWQ3o+Uc+E2yAMJ2GRBn0DlJrtbTt0p2cM6erl9msVvIunCcspnX1shMHfuRS5imuH1V7aKor7DYbHz8zm7ueno9KrcZus2OzWqu3abfbXHYcvqpLsIFQmXd+8qlgA/wpPEDSkS2uSL1nGrvWfMnOr78gO/Mknz43B4BeN6ZWr7P9ixV06tWb6I5x9W5n08fv0zougc59/gxAp1692fHVKi6eOM6Wz5bRqaf00zB5k1CtWpbNW38k/TfczTRKJTdEh7DmbB5WCceY+POIUZQW5LPqpX9SVlJMh+49mLl0efWTb4u5kr3/W8vYmY/Xu43i3BzWv/cWT33+TfWyPsNGcGT7Vp67YwQJffpyw6R7XH4svkKrVDA4OlSSKXuayutGUGksMdKK0FQ3RIfQTuKRURrL5y7Fr+gYoBdvgAmN1i3Y4DGhBh8ONkByRKBsmsAE+YrUaWX3kkdDfDrYSsXleyadTDsZCNLTqZQMjg6RxXBHTeHz32iDWsWgqBBZtG8L8qIABkWFyGZUlKbw+WDD5TmM5drnV5BOr7AAWQ2e0BQi2L/qEWIk1kP/JwrOF+vvR88Qo9RlNJsI9q8UCgUp0SHiYZpAlF5LSnSIrLuMNkQE+3c0SiU3tQ4jUoTbZ0XptQyJCUUj4YR6zuDZ1buARqkktXUYkTp5DXUjuF4rLwk1iGDX6XK4Q0W4fUgrvZahXhJqEMGu15VwtxLh9nreFmoQwb4qjVLJUBFur+aNoQYR7AZVh1tmw8sKLddK552hBhHsRtEolQyNCSVKhNtrtNJrGdraO0MNPvzaZnNY7Q525RZzvEReQxkLTZMY5E9yRBAqD26nbogIdjMcLy5nZ24xNvGj8yhqhYLrI4PoFCiPqW5dSQS7mQrMFjZnFVBiEWOKeYIgjZrB0SGEyHysMmcRwW6BKpud7TlFnDaJsbvlrL1RR/9WwV57P10XEWwnOFJo4se8EuxSFyLUoOTy3G3dPPhljuYSwXaSnIoqNmcXUG4V8ZYDf7WSwVGhspsF011EsJ2o0mZja3YRF8rNUpfi02L8/RjUKhidBw6Q4Cwi2E7mcDg4UVLBj/klVNrE2dud9ColfcIDfeKpd0NEsF3EbLOzP7+EY8Xlspub29sogMQgA73DAtCK8esAEWyXy6usYmdOMXlmi9SleKUInYY/RwQRLvrz1yCC7QYOh4NMUwX78koxWUW7tzMEaFT0Dgukg1Hn0SOduIq4bvmdpUuXEhsb26h1U1JSePLJJxu1rkKhoGOAP6PbR5IcHoifD7WnOpufUkFyeCCj2kXSMUAvQl0P2X3DUlJSUCgUfPttzXmiJ02axJQpU5q93blz56JQKFAoFGg0Gjp16sTcuXOr56oGGD9+PAcOHGj2PhqiUijoFmJkbPtIeoQY0XrAHFBy4adS0iPEyJj2regWYvTqft7OIMtJ+XQ6HU8++SSpqakNr9wEycnJfPXVV1itVn788UcmT55MeHg4Dz74IAB6vR693vXTuGhVSv4UHkjP0AAyTRVkFJWJe/B6ROg0dAky0N6oRyV+ETaa7M7YAGlpaRw9epTVq1fXu86lS5cYO3YsRqORkJAQ7r33XsrKyq66XY1GQ1RUFLGxsYwcOZIhQ4awadOm6s//eCm+YcMGkpKS0Ov1hIeHM3z48Hq3/eqrrxIZGcnBgwcbfZxqpYL4QH9GtI1gRJtw4gP9xZmIyy9rJAT6c1ubCG5tE0GnQH8R6iaSZbAjIyN5+OGHeeqpp2pcKv9eWloa586dY8uWLaxZs4atW7fyyCOPNHof6enp7NixA6227qepVquVsWPHMmXKFDIyMvjuu+8YOnRonesuWLCA559/ns2bN9OrV69G1/B74Tot/VsFM75DK5LDAwnSyPJiyqUCNSqSwwO5o0Mr+rUKJkyMFttssv32zJo1i9dff53ly5czceLEGp9lZGSwYcMGjhw5QteuXYHLZ8wRI0bw4osvEhQUVOc2d+7cidFoxGq1Yjab0Wq11Zfhf1RcXExJSQmjR4+mTZs2APTo0aPWevPmzePtt99my5YtJCQktOSQgcv3kt1CjHQLMXKx3ExGcRlnTZVe2xauVECsv44uwQai9VrxMMxJZBvs4OBgZs6cyZw5c7jjjjtqfHbs2DECAgKqQw1w3XXXYbVaOXnyJL17965zm0lJSSxfvpyysjJeeOEFOnTowIABA+pcNywsjAkTJtC9e3eGDRvGTTfdxLhx4zAaf3uhYOnSpZSVlbFv3z46duzohKOuKcbfjxh/P6psdrIrqrhYbuZihZniKqvT9+VOwVo1rX89tii9FrVoJXA6Wf9EH374YYqLi1m6dGmN5XU1vTfmN71OpyMuLo6ePXvywQcfsHz5ctatW1fv+p9++inffvstnTt3ZuHChXTv3p38/Pzqz/v06YNSqWTVqlWNP6hm0KqUtDXq+HNkEKPbRTK+QysGtAqmU4Aefw/oaaVXKekUoGfAr7cao9pFkhwRRKxBJ0LtIrL+qRqNRh5//HHmzZuH2fzbixWJiYmUlpZy9OjR6mU7duxArVbTqVOnRm1bo9Hw97//nVmzZtX5i+KKvn378swzz3DgwAGKiopqPGzr1q0b69atY/78+bzxxhvNOMLm8VeriAv0Z2BUCOM7RjGqbQR9IwJpY/CTxZTAepWS1v5+JIcHMrJtBBM6RjEwKoS4QH+PnLnSE8n2UvyKv/3tb/z73/9m7dq1jB8/Hrgc7NTUVKZOncprr71GZWUlDz30EPfcc0+999d1mTx5Mk888QSrV69m1KhRNT7LzMzk3Xff5bbbbiMqKooffvgBk8lEfHx8jfX69OnDmjVruOWWWzAajaSlpbX8oJso2E9DsJ+GrsGXbxMsdjulFhsmi41Si5VSqw2TxVq9zNrCzoYqhYIAjerXP+rLf6sv/23UqFGLJ9iSk32wr7RpT58+vcbyDz/8kPvvv59BgwahVqsZM2YMixYtatK2jUYjkydP5rnnnqsVbH9/f9LT01myZAlFRUV07NiR9957j6SkpFrbGThwIKtWrWL06NEYDAZGjx7d9AN1Io1SSaifktB6hgGqsNootdgot9qwORzYHWDHgc1x+TbHASgVClSKy38ruRxmvVpJgEYtzroeQPQVFwQvJP0NmSAITieCLQheSARbELyQCLYgeCERbEHwQiLYguCFRLAFwQuJYAuCFxLBFgQvJIItCF5IBFsQvJAItiB4IRFsQfBCItiC4IVEsAXBC4lgC4IXEsEWBC8kgi0IXkgEWxC8kAi2IHghEWxB8EIi2ILghUSwBcELiWALghcSwRYEL/T/ATCKaqOpTQWUAAAAAElFTkSuQmCC\" class=\"pd_save\"></center>\n",
       "                        \n",
       "                    \n",
       "                \n",
       "        </div>"
      ],
      "text/plain": [
       "<IPython.core.display.HTML object>"
      ]
     },
     "metadata": {},
     "output_type": "display_data"
    }
   ],
   "source": [
    "display(df_data)"
   ]
  },
  {
   "cell_type": "markdown",
   "metadata": {},
   "source": [
    "## Create a model"
   ]
  },
  {
   "cell_type": "code",
   "execution_count": 15,
   "metadata": {
    "scrolled": true
   },
   "outputs": [
    {
     "name": "stdout",
     "output_type": "stream",
     "text": [
      "Number of records for training: 4016\n",
      "Number of records for evaluation: 984\n",
      "root\n",
      " |-- CheckingStatus: string (nullable = true)\n",
      " |-- LoanDuration: integer (nullable = true)\n",
      " |-- CreditHistory: string (nullable = true)\n",
      " |-- LoanPurpose: string (nullable = true)\n",
      " |-- LoanAmount: integer (nullable = true)\n",
      " |-- ExistingSavings: string (nullable = true)\n",
      " |-- EmploymentDuration: string (nullable = true)\n",
      " |-- InstallmentPercent: integer (nullable = true)\n",
      " |-- Sex: string (nullable = true)\n",
      " |-- OthersOnLoan: string (nullable = true)\n",
      " |-- CurrentResidenceDuration: integer (nullable = true)\n",
      " |-- OwnsProperty: string (nullable = true)\n",
      " |-- Age: integer (nullable = true)\n",
      " |-- InstallmentPlans: string (nullable = true)\n",
      " |-- Housing: string (nullable = true)\n",
      " |-- ExistingCreditsCount: integer (nullable = true)\n",
      " |-- Job: string (nullable = true)\n",
      " |-- Dependents: integer (nullable = true)\n",
      " |-- Telephone: string (nullable = true)\n",
      " |-- ForeignWorker: string (nullable = true)\n",
      " |-- Risk: string (nullable = true)\n",
      "\n"
     ]
    }
   ],
   "source": [
    "spark_df = df_data\n",
    "(train_data, test_data) = spark_df.randomSplit([0.8, 0.2], 24)\n",
    "\n",
    "MODEL_NAME = \"Spark German Risk Model - Final\"\n",
    "DEPLOYMENT_NAME = \"Spark German Risk Deployment - Final\"\n",
    "\n",
    "print(\"Number of records for training: \" + str(train_data.count()))\n",
    "print(\"Number of records for evaluation: \" + str(test_data.count()))\n",
    "\n",
    "spark_df.printSchema()"
   ]
  },
  {
   "cell_type": "markdown",
   "metadata": {},
   "source": [
    "The code below creates a Random Forest Classifier with Spark, setting up string indexers for the categorical features and the label column. Finally, this notebook creates a pipeline including the indexers and the model, and does an initial Area Under ROC evaluation of the model."
   ]
  },
  {
   "cell_type": "code",
   "execution_count": 16,
   "metadata": {
    "scrolled": true
   },
   "outputs": [],
   "source": [
    "from pyspark.ml.feature import OneHotEncoder, StringIndexer, IndexToString, VectorAssembler\n",
    "from pyspark.ml.evaluation import BinaryClassificationEvaluator\n",
    "from pyspark.ml import Pipeline, Model\n",
    "\n",
    "features = [x for x in spark_df.columns if x != 'Risk']\n",
    "categorical_features = ['CheckingStatus', 'CreditHistory', 'LoanPurpose', 'ExistingSavings', 'EmploymentDuration', 'Sex', 'OthersOnLoan', 'OwnsProperty', 'InstallmentPlans', 'Housing', 'Job', 'Telephone', 'ForeignWorker']\n",
    "categorical_num_features = [x + '_IX' for x in categorical_features]\n",
    "continuous_features = [x for x in features if x not in categorical_features]\n",
    "\n",
    "si_list = [StringIndexer(inputCol=nm_in, outputCol=nm_out) for nm_in, nm_out in zip(categorical_features, categorical_num_features)]"
   ]
  },
  {
   "cell_type": "code",
   "execution_count": 17,
   "metadata": {
    "scrolled": true
   },
   "outputs": [],
   "source": [
    "si_Label = StringIndexer(inputCol=\"Risk\", outputCol=\"label\").fit(spark_df)\n",
    "label_converter = IndexToString(inputCol=\"prediction\", outputCol=\"predictedLabel\", labels=si_Label.labels)"
   ]
  },
  {
   "cell_type": "code",
   "execution_count": 18,
   "metadata": {
    "scrolled": true
   },
   "outputs": [],
   "source": [
    "va_features = VectorAssembler(inputCols=categorical_num_features + continuous_features, outputCol=\"features\")"
   ]
  },
  {
   "cell_type": "code",
   "execution_count": 19,
   "metadata": {
    "scrolled": true
   },
   "outputs": [],
   "source": [
    "from pyspark.ml.classification import RandomForestClassifier\n",
    "\n",
    "classifier = RandomForestClassifier(featuresCol=\"features\")\n",
    "feature_filter = SQLTransformer(statement=\"SELECT * FROM __THIS__\")\n",
    "pipeline = Pipeline(stages= si_list + [si_label, va_features, classifier, label_converter, feature_filter])\n",
    "\n",
    "model = pipeline.fit(train_data)"
   ]
  },
  {
   "cell_type": "markdown",
   "metadata": {},
   "source": [
    "**Note**: If you want filter features from model output please replace `*` with feature names to be retained in `SQLTransformer` statement."
   ]
  },
  {
   "cell_type": "code",
   "execution_count": 20,
   "metadata": {
    "scrolled": true
   },
   "outputs": [
    {
     "name": "stdout",
     "output_type": "stream",
     "text": [
      "areaUnderROC = 0.702826 areaUnderPR = 0.622006\n"
     ]
    }
   ],
   "source": [
    "predictions = model.transform(test_data)\n",
    "evaluatorDT = BinaryClassificationEvaluator(rawPredictionCol=\"prediction\",  metricName='areaUnderROC')\n",
    "area_under_curve = evaluatorDT.evaluate(predictions)\n",
    "\n",
    "evaluatorDT = BinaryClassificationEvaluator(rawPredictionCol=\"prediction\",  metricName='areaUnderPR')\n",
    "area_under_PR = evaluatorDT.evaluate(predictions)\n",
    "#default evaluation is areaUnderROC\n",
    "print(\"areaUnderROC = %g\" % area_under_curve, \"areaUnderPR = %g\" % area_under_PR)"
   ]
  },
  {
   "cell_type": "code",
   "execution_count": 21,
   "metadata": {},
   "outputs": [
    {
     "name": "stdout",
     "output_type": "stream",
     "text": [
      "              precision    recall  f1-score   support\n",
      "\n",
      "        Risk       0.79      0.90      0.84       657\n",
      "     No Risk       0.72      0.50      0.59       327\n",
      "\n",
      "    accuracy                           0.77       984\n",
      "   macro avg       0.75      0.70      0.72       984\n",
      "weighted avg       0.76      0.77      0.76       984\n",
      "\n"
     ]
    }
   ],
   "source": [
    "# extra code: evaluate more metrics by exporting them into pandas and numpy\n",
    "from sklearn.metrics import classification_report\n",
    "y_pred = predictions.toPandas()['prediction']\n",
    "y_pred = ['Risk' if pred == 1.0 else 'No Risk' for pred in y_pred]\n",
    "y_test = test_data.toPandas()['Risk']\n",
    "print(classification_report(y_test, y_pred, target_names=['Risk', 'No Risk']))"
   ]
  },
  {
   "cell_type": "markdown",
   "metadata": {},
   "source": [
    "## Publish the model"
   ]
  },
  {
   "cell_type": "markdown",
   "metadata": {},
   "source": [
    "In this section, the notebook uses Watson Machine Learning to save the model (including the pipeline) to the WML instance. Previous versions of the model are removed so that the notebook can be run again, resetting all data for another demo."
   ]
  },
  {
   "cell_type": "code",
   "execution_count": 22,
   "metadata": {},
   "outputs": [
    {
     "name": "stderr",
     "output_type": "stream",
     "text": [
      "/Users/dorotadydo-rozniecka/anaconda3/lib/python3.7/site-packages/sklearn/externals/joblib/__init__.py:15: DeprecationWarning: sklearn.externals.joblib is deprecated in 0.21 and will be removed in 0.23. Please import this functionality directly from joblib, which can be installed with: pip install joblib. If this warning is raised when loading pickled models, you may need to re-serialize those models with scikit-learn 0.21+.\n",
      "  warnings.warn(msg, category=DeprecationWarning)\n"
     ]
    },
    {
     "name": "stdout",
     "output_type": "stream",
     "text": [
      "------------------------------------  -------------------  ------------------------\n",
      "GUID                                  NAME                 CREATED\n",
      "3d086aad-45c3-413c-bcb4-b36219c5e2bc  tutorial-space       2019-11-15T12:33:43.998Z\n",
      "82e9dbef-772b-4052-931d-00c79d6aa841  auto-test-space      2019-11-15T11:58:44.478Z\n",
      "1898f6e7-f40d-478f-911b-3f8acf8348b3  openscale-fast-path  2019-11-14T17:33:18.802Z\n",
      "------------------------------------  -------------------  ------------------------\n"
     ]
    },
    {
     "name": "stderr",
     "output_type": "stream",
     "text": [
      "2019-11-22 14:46:56,084 - matplotlib.font_manager - WARNING - findfont: Font family ['serif'] not found. Falling back to DejaVu Sans.\n"
     ]
    }
   ],
   "source": [
    "from watson_machine_learning_client import WatsonMachineLearningAPIClient\n",
    "import json\n",
    "\n",
    "wml_client = WatsonMachineLearningAPIClient(WML_CREDENTIALS)\n",
    "\n",
    "# this is a new feature in CP4D, in order to deploy a model, you would have to create different\n",
    "# deployment spaces and deploy your models there. You can list all the spaces using the .list()\n",
    "# function, or you can create new spaces by going to CP4D menu on top left corner --> analyze -->\n",
    "# analytics deployments --> New Deployment Space. Once you know which space you want to deploy\n",
    "# in, simply use the GUID of the space as argument for .set.default_space() function below\n",
    "wml_client.spaces.list()\n",
    "# wml_client.set.default_space('323608a7-21d3-48c8-8c62-dcf4bfe06e17')"
   ]
  },
  {
   "cell_type": "code",
   "execution_count": 23,
   "metadata": {},
   "outputs": [
    {
     "data": {
      "text/plain": [
       "'SUCCESS'"
      ]
     },
     "execution_count": 23,
     "metadata": {},
     "output_type": "execute_result"
    }
   ],
   "source": [
    "space_name = \"tutorial-space\"\n",
    "spaces = wml_client.spaces.get_details()['resources']\n",
    "space_id = None\n",
    "for space in spaces:\n",
    "    if space['entity']['name'] == space_name:\n",
    "        space_id = space[\"metadata\"][\"guid\"]\n",
    "if space_id is None:\n",
    "    space_id = wml_client.spaces.store(\n",
    "        meta_props={wml_client.spaces.ConfigurationMetaNames.NAME: space_name})[\"metadata\"][\"guid\"]\n",
    "wml_client.set.default_space(space_id)"
   ]
  },
  {
   "cell_type": "markdown",
   "metadata": {},
   "source": [
    "### Remove existing model and deployment"
   ]
  },
  {
   "cell_type": "code",
   "execution_count": 24,
   "metadata": {
    "scrolled": true
   },
   "outputs": [
    {
     "name": "stdout",
     "output_type": "stream",
     "text": [
      "Deleting deployment id 2b606c64-5544-4d36-b476-945fced5de7f\n",
      "Deleting model id 6033688b-15e2-4867-a338-123bdb12be4d\n",
      "----  ----  -------  ----\n",
      "GUID  NAME  CREATED  TYPE\n",
      "----  ----  -------  ----\n"
     ]
    }
   ],
   "source": [
    "deployment_details = wml_client.deployments.get_details()\n",
    "for deployment in deployment_details['resources']:\n",
    "    deployment_id = deployment['metadata']['guid']\n",
    "    model_id = deployment['entity']['asset']['href'].split('/')[3].split('?')[0]\n",
    "    if deployment['entity']['name'] == DEPLOYMENT_NAME:\n",
    "        print('Deleting deployment id', deployment_id)\n",
    "        wml_client.deployments.delete(deployment_id)\n",
    "        print('Deleting model id', model_id)\n",
    "        wml_client.repository.delete(model_id)\n",
    "wml_client.repository.list_models()"
   ]
  },
  {
   "cell_type": "markdown",
   "metadata": {},
   "source": [
    "#### Add training data reference either from DB2 on CP4D or Cloud Object Storage"
   ]
  },
  {
   "cell_type": "code",
   "execution_count": 25,
   "metadata": {},
   "outputs": [],
   "source": [
    "#CP4D DB2 example format\n",
    "training_data_reference = {\n",
    "    \"type\":\"db2\",\n",
    "    \"name\": \"DB2 training data reference\",\n",
    "    \"connection\": DATABASE_CREDENTIALS,\n",
    "    \"location\": {\n",
    "        \"tablename\": \"***\",\n",
    "        \"schema_name\": \"***\"\n",
    "    }\n",
    "        }"
   ]
  },
  {
   "cell_type": "code",
   "execution_count": 26,
   "metadata": {},
   "outputs": [],
   "source": [
    "# COS training data reference example format\n",
    "# Get connection info from IBM Cloud COS credentials (url: endpoint from COS credentials)\n",
    "# Only if using training data reference from COS, uncomment this section\n",
    "\n",
    "\n",
    "# training_data_reference = {\n",
    "#         \"type\": \"cos\",\n",
    "#         \"location\": {\n",
    "#             \"bucket\": \"***\",\n",
    "#             \"file_name\": \"***\",\n",
    "#             \"firstlineheader\": True,\n",
    "#             \"file_format\": 'csv'\n",
    "#         },\n",
    "#         'connection': {\n",
    "#             'resource_instance_id': \"***\",\n",
    "#             'url': \"***\", \n",
    "#             'api_key': \"***\"\n",
    "#         },\n",
    "#         'name': 'COS training data reference.'\n",
    "#     }"
   ]
  },
  {
   "cell_type": "code",
   "execution_count": 27,
   "metadata": {
    "scrolled": true
   },
   "outputs": [
    {
     "name": "stdout",
     "output_type": "stream",
     "text": [
      "Storing model ...\n",
      "Done\n"
     ]
    }
   ],
   "source": [
    "wml_models = wml_client.repository.get_model_details()\n",
    "model_uid = None\n",
    "\n",
    "for model_in in wml_models['resources']:\n",
    "    if MODEL_NAME == model_in['entity']['name']:\n",
    "        model_uid = model_in['metadata']['guid']\n",
    "        break\n",
    "\n",
    "if model_uid is None:\n",
    "    print(\"Storing model ...\")\n",
    "    metadata = {\n",
    "        wml_client.repository.ModelMetaNames.NAME: MODEL_NAME,\n",
    "        wml_client.repository.ModelMetaNames.TYPE: 'mllib_2.3',\n",
    "        wml_client.repository.ModelMetaNames.RUNTIME_UID: 'spark-mllib_2.3',\n",
    "    }\n",
    "\n",
    "    published_model_details = wml_client.repository.store_model(model, metadata, training_data=df_data,  pipeline=pipeline)\n",
    "    model_uid = wml_client.repository.get_model_uid(published_model_details)\n",
    "    print(\"Done\")"
   ]
  },
  {
   "cell_type": "code",
   "execution_count": 28,
   "metadata": {
    "scrolled": true
   },
   "outputs": [
    {
     "data": {
      "text/plain": [
       "'deb87fe2-754b-44b1-8ef6-b3e374094004'"
      ]
     },
     "execution_count": 28,
     "metadata": {},
     "output_type": "execute_result"
    }
   ],
   "source": [
    "model_uid"
   ]
  },
  {
   "cell_type": "code",
   "execution_count": 29,
   "metadata": {},
   "outputs": [
    {
     "name": "stdout",
     "output_type": "stream",
     "text": [
      "------------------------------------  -------------------------------  ------------------------  ---------\n",
      "GUID                                  NAME                             CREATED                   TYPE\n",
      "deb87fe2-754b-44b1-8ef6-b3e374094004  Spark German Risk Model - Final  2019-11-22T13:14:12.002Z  mllib_2.3\n",
      "------------------------------------  -------------------------------  ------------------------  ---------\n"
     ]
    }
   ],
   "source": [
    "wml_client.repository.list_models()"
   ]
  },
  {
   "cell_type": "markdown",
   "metadata": {},
   "source": [
    "## Deploy the model"
   ]
  },
  {
   "cell_type": "markdown",
   "metadata": {},
   "source": [
    "The next section of the notebook deploys the model as a RESTful web service in Watson Machine Learning. The deployed model will have a scoring URL you can use to send data to the model for predictions."
   ]
  },
  {
   "cell_type": "code",
   "execution_count": 30,
   "metadata": {
    "scrolled": true
   },
   "outputs": [
    {
     "name": "stdout",
     "output_type": "stream",
     "text": [
      "Deploying model...\n",
      "\n",
      "\n",
      "#######################################################################################\n",
      "\n",
      "Synchronous deployment creation for uid: 'deb87fe2-754b-44b1-8ef6-b3e374094004' started\n",
      "\n",
      "#######################################################################################\n",
      "\n",
      "\n",
      "initializing\n",
      "ready\n",
      "\n",
      "\n",
      "------------------------------------------------------------------------------------------------\n",
      "Successfully finished deployment creation, deployment_uid='f02576ec-a345-44d4-b818-5fe802951b05'\n",
      "------------------------------------------------------------------------------------------------\n",
      "\n",
      "\n",
      "Model id: deb87fe2-754b-44b1-8ef6-b3e374094004\n",
      "Deployment id: f02576ec-a345-44d4-b818-5fe802951b05\n"
     ]
    }
   ],
   "source": [
    "wml_deployments = wml_client.deployments.get_details()\n",
    "deployment_uid = None\n",
    "for deployment in wml_deployments['resources']:\n",
    "    if DEPLOYMENT_NAME == deployment['entity']['name']:\n",
    "        deployment_uid = deployment['metadata']['guid']\n",
    "        break\n",
    "\n",
    "if deployment_uid is None:\n",
    "    print(\"Deploying model...\")\n",
    "    meta_props = {\n",
    "        wml_client.deployments.ConfigurationMetaNames.NAME: DEPLOYMENT_NAME,\n",
    "        wml_client.deployments.ConfigurationMetaNames.ONLINE: {}\n",
    "    }\n",
    "    deployment = wml_client.deployments.create(artifact_uid=model_uid, meta_props=meta_props)\n",
    "    deployment_uid = wml_client.deployments.get_uid(deployment)\n",
    "    \n",
    "print(\"Model id: {}\".format(model_uid))\n",
    "print(\"Deployment id: {}\".format(deployment_uid))"
   ]
  },
  {
   "cell_type": "markdown",
   "metadata": {},
   "source": [
    "# Configure OpenScale <a name=\"openscale\"></a>"
   ]
  },
  {
   "cell_type": "markdown",
   "metadata": {},
   "source": [
    "The notebook will now import the necessary libraries and set up a Python OpenScale client."
   ]
  },
  {
   "cell_type": "code",
   "execution_count": 31,
   "metadata": {
    "scrolled": true
   },
   "outputs": [],
   "source": [
    "from ibm_ai_openscale import APIClient4ICP\n",
    "from ibm_ai_openscale.engines import *\n",
    "from ibm_ai_openscale.utils import *\n",
    "from ibm_ai_openscale.supporting_classes import PayloadRecord, Feature\n",
    "from ibm_ai_openscale.supporting_classes.enums import *"
   ]
  },
  {
   "cell_type": "code",
   "execution_count": 32,
   "metadata": {},
   "outputs": [
    {
     "data": {
      "text/plain": [
       "'2.1.19'"
      ]
     },
     "execution_count": 32,
     "metadata": {},
     "output_type": "execute_result"
    }
   ],
   "source": [
    "ai_client = APIClient4ICP(WOS_CREDENTIALS)\n",
    "ai_client.version"
   ]
  },
  {
   "cell_type": "markdown",
   "metadata": {},
   "source": [
    "## Create datamart"
   ]
  },
  {
   "cell_type": "markdown",
   "metadata": {},
   "source": [
    "### Set up datamart"
   ]
  },
  {
   "cell_type": "markdown",
   "metadata": {},
   "source": [
    "Watson OpenScale uses a database to store payload logs and calculated metrics. If an OpenScale datamart exists in Db2, the existing datamart will be used and no data will be overwritten.\n",
    "\n",
    "Prior instances of the German Credit model will be removed from OpenScale monitoring."
   ]
  },
  {
   "cell_type": "code",
   "execution_count": 33,
   "metadata": {},
   "outputs": [
    {
     "name": "stdout",
     "output_type": "stream",
     "text": [
      "Using existing external datamart\n"
     ]
    }
   ],
   "source": [
    "try:\n",
    "    data_mart_details = ai_client.data_mart.get_details()\n",
    "    print('Using existing external datamart')\n",
    "except:\n",
    "    print('Setting up external datamart')\n",
    "    ai_client.data_mart.setup(db_credentials=DATABASE_CREDENTIALS, schema=SCHEMA_NAME)"
   ]
  },
  {
   "cell_type": "code",
   "execution_count": 34,
   "metadata": {
    "scrolled": true
   },
   "outputs": [],
   "source": [
    "data_mart_details = ai_client.data_mart.get_details()"
   ]
  },
  {
   "cell_type": "markdown",
   "metadata": {},
   "source": [
    "## Bind machine learning engines"
   ]
  },
  {
   "cell_type": "markdown",
   "metadata": {},
   "source": [
    "Watson OpenScale needs to be bound to the Watson Machine Learning instance to capture payload data into and out of the model. If this binding already exists, this code will output a warning message and use the existing binding."
   ]
  },
  {
   "cell_type": "code",
   "execution_count": 35,
   "metadata": {},
   "outputs": [
    {
     "name": "stdout",
     "output_type": "stream",
     "text": [
      "Warning during bind instance.\n",
      "Status code: 409, body: {\"errors\":[{\"code\":\"AIQCS0010W\",\"message\":\"Service Binding with this id is already defined\"}],\"trace\":\"Y2IxNmZjODgtNDAxNC00NGM5LTgxOTItYjQ2Y2U1MzE2Zjk4\"}\n"
     ]
    },
    {
     "data": {
      "text/html": [
       "<HTML>\n",
       "        <body>\n",
       "            <h3>Service bindings</h3>\n",
       "            <table style='border: 1px solid #dddddd; font-family: Courier'>\n",
       "                <th style='border: 1px solid #dddddd'>uid</th><th style='border: 1px solid #dddddd'>name</th><th style='border: 1px solid #dddddd'>service_type</th><th style='border: 1px solid #dddddd'>created</th>\n",
       "                <tr><td style='border: 1px solid #dddddd'>909f6985-4c29-4aa8-a889-d9f8017e1f58</td><td style='border: 1px solid #dddddd'>Custom ML engine</td><td style='border: 1px solid #dddddd'>custom_machine_learning</td><td style='border: 1px solid #dddddd'>2019-11-22T03:45:16.519Z</td></tr><tr><td style='border: 1px solid #dddddd'>9a80123d-d200-40a7-ad36-3faf2de29990</td><td style='border: 1px solid #dddddd'>Custom ML engine</td><td style='border: 1px solid #dddddd'>custom_machine_learning</td><td style='border: 1px solid #dddddd'>2019-11-22T03:39:38.848Z</td></tr><tr><td style='border: 1px solid #dddddd'>a7d19c7c-30f7-4e4e-a8e1-41adee217c00</td><td style='border: 1px solid #dddddd'>Custom ML engine</td><td style='border: 1px solid #dddddd'>custom_machine_learning</td><td style='border: 1px solid #dddddd'>2019-11-22T03:34:38.994Z</td></tr><tr><td style='border: 1px solid #dddddd'>3e2dd52d-839e-44ab-bb31-7849d6f94f93</td><td style='border: 1px solid #dddddd'>Azure ml engine</td><td style='border: 1px solid #dddddd'>azure_machine_learning</td><td style='border: 1px solid #dddddd'>2019-11-22T02:59:57.139Z</td></tr><tr><td style='border: 1px solid #dddddd'>feafb420-bbc8-4461-b193-0f0c9e65368c</td><td style='border: 1px solid #dddddd'>Azure ml service engine</td><td style='border: 1px solid #dddddd'>azure_machine_learning_service</td><td style='border: 1px solid #dddddd'>2019-11-22T02:51:02.504Z</td></tr><tr><td style='border: 1px solid #dddddd'>d1d9faab-912a-4434-a29a-3d42b28641f9</td><td style='border: 1px solid #dddddd'>SageMaker ml engine US 2</td><td style='border: 1px solid #dddddd'>amazon_sagemaker</td><td style='border: 1px solid #dddddd'>2019-11-22T02:25:09.209Z</td></tr><tr><td style='border: 1px solid #dddddd'>1bf0a753-f6cc-4cfc-b0a3-c677f2fb3d92</td><td style='border: 1px solid #dddddd'>SageMaker ml engine</td><td style='border: 1px solid #dddddd'>amazon_sagemaker</td><td style='border: 1px solid #dddddd'>2019-11-22T02:11:17.122Z</td></tr><tr><td style='border: 1px solid #dddddd'>999</td><td style='border: 1px solid #dddddd'>WML instance</td><td style='border: 1px solid #dddddd'>watson_machine_learning</td><td style='border: 1px solid #dddddd'>2019-11-21T14:55:14.104Z</td></tr>\n",
       "            </table>\n",
       "        </body>\n",
       "        </HTML>"
      ],
      "text/plain": [
       "<IPython.core.display.HTML object>"
      ]
     },
     "metadata": {},
     "output_type": "display_data"
    }
   ],
   "source": [
    "binding_uid = ai_client.data_mart.bindings.add('WML instance', WatsonMachineLearningInstance4ICP())\n",
    "if binding_uid is None:\n",
    "    binding_uid = ai_client.data_mart.bindings.get_details()['service_bindings'][0]['metadata']['guid']\n",
    "bindings_details = ai_client.data_mart.bindings.get_details()\n",
    "ai_client.data_mart.bindings.list()"
   ]
  },
  {
   "cell_type": "code",
   "execution_count": 36,
   "metadata": {
    "scrolled": true
   },
   "outputs": [
    {
     "name": "stdout",
     "output_type": "stream",
     "text": [
      "999\n"
     ]
    }
   ],
   "source": [
    "print(binding_uid)"
   ]
  },
  {
   "cell_type": "code",
   "execution_count": 37,
   "metadata": {},
   "outputs": [
    {
     "data": {
      "text/html": [
       "<HTML>\n",
       "        <body>\n",
       "            <h3>Available assets (binding_uid='999')</h3>\n",
       "            <table style='border: 1px solid #dddddd; font-family: Courier'>\n",
       "                <th style='border: 1px solid #dddddd'>source_uid</th><th style='border: 1px solid #dddddd'>name</th><th style='border: 1px solid #dddddd'>created</th><th style='border: 1px solid #dddddd'>type</th><th style='border: 1px solid #dddddd'>frameworks</th><th style='border: 1px solid #dddddd'>binding_uid</th><th style='border: 1px solid #dddddd'>is_subscribed</th>\n",
       "                <tr><td style='border: 1px solid #dddddd'>deb87fe2-754b-44b1-8ef6-b3e374094004</td><td style='border: 1px solid #dddddd'>Spark German Risk Model - Final</td><td style='border: 1px solid #dddddd'>2019-11-22T13:14:12.002Z</td><td style='border: 1px solid #dddddd'>model</td><td style='border: 1px solid #dddddd'>mllib_2.3</td><td style='border: 1px solid #dddddd'>999</td><td style='border: 1px solid #dddddd'>False</td></tr><tr><td style='border: 1px solid #dddddd'>39ca5aa2-828d-4f84-9a68-d1e97f631945</td><td style='border: 1px solid #dddddd'>GermanCreditRiskModelICP</td><td style='border: 1px solid #dddddd'>2019-11-20T15:41:51.002Z</td><td style='border: 1px solid #dddddd'>model</td><td style='border: 1px solid #dddddd'>mllib_2.3</td><td style='border: 1px solid #dddddd'>999</td><td style='border: 1px solid #dddddd'>False</td></tr><tr><td style='border: 1px solid #dddddd'>f7a18eea-b0ba-4dd3-86d3-a1d5cb23e234</td><td style='border: 1px solid #dddddd'>AIOS Xgboost Solar Model</td><td style='border: 1px solid #dddddd'>2019-11-15T16:33:53.002Z</td><td style='border: 1px solid #dddddd'>model</td><td style='border: 1px solid #dddddd'>xgboost_0.82</td><td style='border: 1px solid #dddddd'>999</td><td style='border: 1px solid #dddddd'>False</td></tr><tr><td style='border: 1px solid #dddddd'>8d8c0a00-beee-44e4-ae53-4a83ff47b34c</td><td style='border: 1px solid #dddddd'>AIOS Xgboost Boston House Model</td><td style='border: 1px solid #dddddd'>2019-11-15T16:31:30.002Z</td><td style='border: 1px solid #dddddd'>model</td><td style='border: 1px solid #dddddd'>xgboost_0.82</td><td style='border: 1px solid #dddddd'>999</td><td style='border: 1px solid #dddddd'>False</td></tr><tr><td style='border: 1px solid #dddddd'>4568b67a-917b-437e-9f3d-40c17070e37e</td><td style='border: 1px solid #dddddd'>AIOS Xgboost Iris Model v4</td><td style='border: 1px solid #dddddd'>2019-11-15T16:29:16.002Z</td><td style='border: 1px solid #dddddd'>model</td><td style='border: 1px solid #dddddd'>xgboost_0.82</td><td style='border: 1px solid #dddddd'>999</td><td style='border: 1px solid #dddddd'>False</td></tr><tr><td style='border: 1px solid #dddddd'>e63a9712-f59f-4ca5-8373-5bd153a47ebd</td><td style='border: 1px solid #dddddd'>AIOS Xgboost Agaricus xv2 Model</td><td style='border: 1px solid #dddddd'>2019-11-15T16:26:56.002Z</td><td style='border: 1px solid #dddddd'>model</td><td style='border: 1px solid #dddddd'>xgboost_0.82</td><td style='border: 1px solid #dddddd'>999</td><td style='border: 1px solid #dddddd'>False</td></tr><tr><td style='border: 1px solid #dddddd'>42a20993-fcfa-4578-87a6-8eb4768d5e0f</td><td style='border: 1px solid #dddddd'>AIOS TF Structured Deployment</td><td style='border: 1px solid #dddddd'>2019-11-15T16:22:05.002Z</td><td style='border: 1px solid #dddddd'>model</td><td style='border: 1px solid #dddddd'>tensorflow_1.13</td><td style='border: 1px solid #dddddd'>999</td><td style='border: 1px solid #dddddd'>False</td></tr><tr><td style='border: 1px solid #dddddd'>7efe1e68-679e-4758-b5de-0e1eae910714</td><td style='border: 1px solid #dddddd'>AIOS SPSS Customer Model</td><td style='border: 1px solid #dddddd'>2019-11-15T16:18:19.002Z</td><td style='border: 1px solid #dddddd'>model</td><td style='border: 1px solid #dddddd'>spss-modeler_18.1</td><td style='border: 1px solid #dddddd'>999</td><td style='border: 1px solid #dddddd'>False</td></tr><tr><td style='border: 1px solid #dddddd'>964b3035-6794-4712-a885-7eadba794be3</td><td style='border: 1px solid #dddddd'>AIOS Scikit Regression Diabetes</td><td style='border: 1px solid #dddddd'>2019-11-15T16:16:13.002Z</td><td style='border: 1px solid #dddddd'>model</td><td style='border: 1px solid #dddddd'>scikit-learn_0.20</td><td style='border: 1px solid #dddddd'>999</td><td style='border: 1px solid #dddddd'>False</td></tr><tr><td style='border: 1px solid #dddddd'>f371423e-b85f-4571-bb88-8fc356e5fcec</td><td style='border: 1px solid #dddddd'>AIOS Scikit Golf</td><td style='border: 1px solid #dddddd'>2019-11-15T16:13:58.002Z</td><td style='border: 1px solid #dddddd'>model</td><td style='border: 1px solid #dddddd'>scikit-learn_0.20</td><td style='border: 1px solid #dddddd'>999</td><td style='border: 1px solid #dddddd'>False</td></tr><tr><td style='border: 1px solid #dddddd'>d196c14f-8815-4556-ab4d-271b92127da0</td><td style='border: 1px solid #dddddd'>AIOS Scikit Digits</td><td style='border: 1px solid #dddddd'>2019-11-15T16:08:10.002Z</td><td style='border: 1px solid #dddddd'>model</td><td style='border: 1px solid #dddddd'>scikit-learn_0.20</td><td style='border: 1px solid #dddddd'>999</td><td style='border: 1px solid #dddddd'>False</td></tr><tr><td style='border: 1px solid #dddddd'>09abebda-3e56-4b3c-b5bf-5bb46db08134</td><td style='border: 1px solid #dddddd'>AIOS Multiply Function Deployment V4</td><td style='border: 1px solid #dddddd'>2019-11-15T16:05:42.002Z</td><td style='border: 1px solid #dddddd'>function</td><td style='border: 1px solid #dddddd'>python</td><td style='border: 1px solid #dddddd'>999</td><td style='border: 1px solid #dddddd'>False</td></tr><tr><td style='border: 1px solid #dddddd'>698c0e5b-7abc-44e2-85bc-1f87f6a9210a</td><td style='border: 1px solid #dddddd'>AIOS Spark Regression Customer Satisfaction model</td><td style='border: 1px solid #dddddd'>2019-11-15T15:59:27.002Z</td><td style='border: 1px solid #dddddd'>model</td><td style='border: 1px solid #dddddd'>mllib_2.3</td><td style='border: 1px solid #dddddd'>999</td><td style='border: 1px solid #dddddd'>False</td></tr><tr><td style='border: 1px solid #dddddd'>0914dd37-245b-4b1a-b65d-94c44a6dd427</td><td style='border: 1px solid #dddddd'>AIOS Spark Drugs feedback model</td><td style='border: 1px solid #dddddd'>2019-11-15T15:56:22.002Z</td><td style='border: 1px solid #dddddd'>model</td><td style='border: 1px solid #dddddd'>mllib_2.3</td><td style='border: 1px solid #dddddd'>999</td><td style='border: 1px solid #dddddd'>False</td></tr><tr><td style='border: 1px solid #dddddd'>55afbb45-6c3c-4480-88fb-d882826affe2</td><td style='border: 1px solid #dddddd'>AIOS Keras Regression Poland House Prices V4</td><td style='border: 1px solid #dddddd'>2019-11-15T15:35:13.002Z</td><td style='border: 1px solid #dddddd'>model</td><td style='border: 1px solid #dddddd'>keras_2.2.4-tf</td><td style='border: 1px solid #dddddd'>999</td><td style='border: 1px solid #dddddd'>False</td></tr><tr><td style='border: 1px solid #dddddd'>22484c92-9261-41a0-8760-b1ddbf898bb9</td><td style='border: 1px solid #dddddd'>AIOS Keras Multiclass StackOverflow V4</td><td style='border: 1px solid #dddddd'>2019-11-15T15:33:22.002Z</td><td style='border: 1px solid #dddddd'>model</td><td style='border: 1px solid #dddddd'>keras_2.2.4-tf</td><td style='border: 1px solid #dddddd'>999</td><td style='border: 1px solid #dddddd'>False</td></tr><tr><td style='border: 1px solid #dddddd'>b4d2ad34-134c-422b-b661-8e294b97bff6</td><td style='border: 1px solid #dddddd'>AIOS Keras Multiclass Mnist V4</td><td style='border: 1px solid #dddddd'>2019-11-15T15:31:43.002Z</td><td style='border: 1px solid #dddddd'>model</td><td style='border: 1px solid #dddddd'>keras_2.2.4-tf</td><td style='border: 1px solid #dddddd'>999</td><td style='border: 1px solid #dddddd'>False</td></tr><tr><td style='border: 1px solid #dddddd'>92f10d3b-6429-4392-8c83-a1b4b20ceefd</td><td style='border: 1px solid #dddddd'>AIOS Keras Iris model V4xxx</td><td style='border: 1px solid #dddddd'>2019-11-15T15:29:58.002Z</td><td style='border: 1px solid #dddddd'>model</td><td style='border: 1px solid #dddddd'>keras_2.2.4-tf</td><td style='border: 1px solid #dddddd'>999</td><td style='border: 1px solid #dddddd'>False</td></tr><tr><td style='border: 1px solid #dddddd'>412c2a59-a617-4f93-af10-b487c8bb75a5</td><td style='border: 1px solid #dddddd'>AIOS Keras LSTM V4</td><td style='border: 1px solid #dddddd'>2019-11-15T15:27:53.002Z</td><td style='border: 1px solid #dddddd'>model</td><td style='border: 1px solid #dddddd'>keras_2.2.4-tf</td><td style='border: 1px solid #dddddd'>999</td><td style='border: 1px solid #dddddd'>False</td></tr><tr><td style='border: 1px solid #dddddd'>ac362dd3-cad7-44fb-953e-aff972064828</td><td style='border: 1px solid #dddddd'>AIOS Keras Binary Spam model V4</td><td style='border: 1px solid #dddddd'>2019-11-15T15:26:13.002Z</td><td style='border: 1px solid #dddddd'>model</td><td style='border: 1px solid #dddddd'>keras_2.2.4-tf</td><td style='border: 1px solid #dddddd'>999</td><td style='border: 1px solid #dddddd'>False</td></tr><tr><td style='border: 1px solid #dddddd'>8eb0ff2d-6e06-4724-9e8e-2020c6467df4</td><td style='border: 1px solid #dddddd'>AIOS Keras Binary Dogs vs Cats model V4</td><td style='border: 1px solid #dddddd'>2019-11-15T15:19:38.002Z</td><td style='border: 1px solid #dddddd'>model</td><td style='border: 1px solid #dddddd'>keras_2.2.4-tf</td><td style='border: 1px solid #dddddd'>999</td><td style='border: 1px solid #dddddd'>False</td></tr><tr><td style='border: 1px solid #dddddd'>1c919bac-5c9a-45c1-850c-f10becb4370c</td><td style='border: 1px solid #dddddd'>AutoAI video game model WMLv4</td><td style='border: 1px solid #dddddd'>2019-11-15T15:11:31.002Z</td><td style='border: 1px solid #dddddd'>model</td><td style='border: 1px solid #dddddd'>wml-hybrid_0.1</td><td style='border: 1px solid #dddddd'>999</td><td style='border: 1px solid #dddddd'>False</td></tr><tr><td style='border: 1px solid #dddddd'>1592ab16-3695-4cc7-8a55-eaaebb46120e</td><td style='border: 1px solid #dddddd'>AutoAI Car Price model WMLv4</td><td style='border: 1px solid #dddddd'>2019-11-15T15:05:50.002Z</td><td style='border: 1px solid #dddddd'>model</td><td style='border: 1px solid #dddddd'>wml-hybrid_0.1</td><td style='border: 1px solid #dddddd'>999</td><td style='border: 1px solid #dddddd'>False</td></tr><tr><td style='border: 1px solid #dddddd'>0f2aaaf1-03b1-47ab-9716-cd48ebd3ec55</td><td style='border: 1px solid #dddddd'>AutoAI wine prediction model WMLv4fff</td><td style='border: 1px solid #dddddd'>2019-11-15T15:00:56.002Z</td><td style='border: 1px solid #dddddd'>model</td><td style='border: 1px solid #dddddd'>wml-hybrid_0.1</td><td style='border: 1px solid #dddddd'>999</td><td style='border: 1px solid #dddddd'>False</td></tr><tr><td style='border: 1px solid #dddddd'>1d8d5d92-79bc-42ba-9188-ce511ed7a325</td><td style='border: 1px solid #dddddd'>Spark German Risk Model - Final</td><td style='border: 1px solid #dddddd'>2019-11-15T14:59:10.002Z</td><td style='border: 1px solid #dddddd'>model</td><td style='border: 1px solid #dddddd'>mllib_2.3</td><td style='border: 1px solid #dddddd'>999</td><td style='border: 1px solid #dddddd'>False</td></tr><tr><td style='border: 1px solid #dddddd'>70f97ff9-2563-4cc4-9ef3-627366c0ece0</td><td style='border: 1px solid #dddddd'>AutoAI Iris model WMLv4</td><td style='border: 1px solid #dddddd'>2019-11-15T14:55:53.002Z</td><td style='border: 1px solid #dddddd'>model</td><td style='border: 1px solid #dddddd'>wml-hybrid_0.1</td><td style='border: 1px solid #dddddd'>999</td><td style='border: 1px solid #dddddd'>False</td></tr><tr><td style='border: 1px solid #dddddd'>7a8a4fed-e3d9-479b-9bec-5857845a38f6</td><td style='border: 1px solid #dddddd'>AutoAI Customer Churn model WMLv4</td><td style='border: 1px solid #dddddd'>2019-11-15T14:51:38.002Z</td><td style='border: 1px solid #dddddd'>model</td><td style='border: 1px solid #dddddd'>wml-hybrid_0.1</td><td style='border: 1px solid #dddddd'>999</td><td style='border: 1px solid #dddddd'>False</td></tr><tr><td style='border: 1px solid #dddddd'>7f240368-7d6c-4bf9-8749-8f562e01f6b3</td><td style='border: 1px solid #dddddd'>AutoAI credit risk model WMLv4</td><td style='border: 1px solid #dddddd'>2019-11-15T14:46:37.002Z</td><td style='border: 1px solid #dddddd'>model</td><td style='border: 1px solid #dddddd'>wml-hybrid_0.1</td><td style='border: 1px solid #dddddd'>999</td><td style='border: 1px solid #dddddd'>False</td></tr><tr><td style='border: 1px solid #dddddd'>77d724bc-286d-4905-95dc-898c8ab595f1</td><td style='border: 1px solid #dddddd'>AutoAI bank marketing model WMLv4</td><td style='border: 1px solid #dddddd'>2019-11-15T14:41:08.002Z</td><td style='border: 1px solid #dddddd'>model</td><td style='border: 1px solid #dddddd'>wml-hybrid_0.1</td><td style='border: 1px solid #dddddd'>999</td><td style='border: 1px solid #dddddd'>False</td></tr><tr><td style='border: 1px solid #dddddd'>8ee33f06-ce1d-4d0a-bf3c-0cab1efc4daf</td><td style='border: 1px solid #dddddd'>AIOS Spark Credit Risk model xFg</td><td style='border: 1px solid #dddddd'>2019-11-15T12:03:10.002Z</td><td style='border: 1px solid #dddddd'>model</td><td style='border: 1px solid #dddddd'>mllib_2.3</td><td style='border: 1px solid #dddddd'>999</td><td style='border: 1px solid #dddddd'>False</td></tr><tr><td style='border: 1px solid #dddddd'>b0567573-bba4-467a-99f9-07d9e1cf1d98</td><td style='border: 1px solid #dddddd'>AIOS Spark Credit Risk model xFg</td><td style='border: 1px solid #dddddd'>2019-11-15T11:53:01.002Z</td><td style='border: 1px solid #dddddd'>model</td><td style='border: 1px solid #dddddd'>mllib_2.3</td><td style='border: 1px solid #dddddd'>999</td><td style='border: 1px solid #dddddd'>False</td></tr><tr><td style='border: 1px solid #dddddd'>60057c54-d652-431d-b442-1f4f46cfb3b1</td><td style='border: 1px solid #dddddd'>AutoAI bank marketing model WMLv4</td><td style='border: 1px solid #dddddd'>2019-11-15T11:44:24.002Z</td><td style='border: 1px solid #dddddd'>model</td><td style='border: 1px solid #dddddd'>wml-hybrid_0.1</td><td style='border: 1px solid #dddddd'>999</td><td style='border: 1px solid #dddddd'>False</td></tr>\n",
       "            </table>\n",
       "        </body>\n",
       "        </HTML>"
      ],
      "text/plain": [
       "<IPython.core.display.HTML object>"
      ]
     },
     "metadata": {},
     "output_type": "display_data"
    }
   ],
   "source": [
    "ai_client.data_mart.bindings.list_assets(binding_uid=binding_uid)"
   ]
  },
  {
   "cell_type": "markdown",
   "metadata": {},
   "source": [
    "## Subscriptions"
   ]
  },
  {
   "cell_type": "markdown",
   "metadata": {},
   "source": [
    "### Remove existing credit risk subscriptions"
   ]
  },
  {
   "cell_type": "markdown",
   "metadata": {},
   "source": [
    "This code removes previous subscriptions to the German Credit model to refresh the monitors with the new model and new data."
   ]
  },
  {
   "cell_type": "code",
   "execution_count": 38,
   "metadata": {
    "scrolled": true
   },
   "outputs": [
    {
     "name": "stdout",
     "output_type": "stream",
     "text": [
      "Deleted existing subscription for Spark German Risk Model - Final\n"
     ]
    }
   ],
   "source": [
    "subscriptions_uids = ai_client.data_mart.subscriptions.get_uids()\n",
    "for subscription in subscriptions_uids:\n",
    "    sub_name = ai_client.data_mart.subscriptions.get_details(subscription)['entity']['asset']['name']\n",
    "    if sub_name == MODEL_NAME:\n",
    "        ai_client.data_mart.subscriptions.delete(subscription)\n",
    "        print('Deleted existing subscription for', MODEL_NAME)"
   ]
  },
  {
   "cell_type": "markdown",
   "metadata": {},
   "source": [
    "This code creates the model subscription in OpenScale using the Python client API. Note that we need to provide the model unique identifier, and some information about the model itself."
   ]
  },
  {
   "cell_type": "code",
   "execution_count": 39,
   "metadata": {
    "scrolled": true
   },
   "outputs": [],
   "source": [
    "subscription = ai_client.data_mart.subscriptions.add(WatsonMachineLearningAsset(\n",
    "    model_uid,\n",
    "    problem_type=ProblemType.BINARY_CLASSIFICATION,\n",
    "    input_data_type=InputDataType.STRUCTURED,\n",
    "    label_column='Risk',\n",
    "    prediction_column='predictedLabel',\n",
    "    transaction_id_column='transaction_id',\n",
    "    probability_column='probability',\n",
    "    feature_columns = [\"CheckingStatus\",\"LoanDuration\",\"CreditHistory\",\"LoanPurpose\",\"LoanAmount\",\"ExistingSavings\",\"EmploymentDuration\",\"InstallmentPercent\",\"Sex\",\"OthersOnLoan\",\"CurrentResidenceDuration\",\"OwnsProperty\",\"Age\",\"InstallmentPlans\",\"Housing\",\"ExistingCreditsCount\",\"Job\",\"Dependents\",\"Telephone\",\"ForeignWorker\"],\n",
    "    categorical_columns = [\"CheckingStatus\",\"CreditHistory\",\"LoanPurpose\",\"ExistingSavings\",\"EmploymentDuration\",\"Sex\",\"OthersOnLoan\",\"OwnsProperty\",\"InstallmentPlans\",\"Housing\",\"Job\",\"Telephone\",\"ForeignWorker\"],\n",
    "    training_data_reference=training_data_reference\n",
    "))\n",
    "\n",
    "if subscription is None:\n",
    "    print('Subscription already exists; get the existing one')\n",
    "    subscriptions_uids = ai_client.data_mart.subscriptions.get_uids()\n",
    "    for sub in subscriptions_uids:\n",
    "        if ai_client.data_mart.subscriptions.get_details(sub)['entity']['asset']['name'] == MODEL_NAME:\n",
    "            subscription = ai_client.data_mart.subscriptions.get(sub)"
   ]
  },
  {
   "cell_type": "markdown",
   "metadata": {},
   "source": [
    "Get subscription list"
   ]
  },
  {
   "cell_type": "code",
   "execution_count": 40,
   "metadata": {
    "scrolled": true
   },
   "outputs": [
    {
     "data": {
      "text/html": [
       "<HTML>\n",
       "        <body>\n",
       "            <h3>Subscriptions</h3>\n",
       "            <table style='border: 1px solid #dddddd; font-family: Courier'>\n",
       "                <th style='border: 1px solid #dddddd'>uid</th><th style='border: 1px solid #dddddd'>name</th><th style='border: 1px solid #dddddd'>type</th><th style='border: 1px solid #dddddd'>binding_uid</th><th style='border: 1px solid #dddddd'>created</th>\n",
       "                <tr><td style='border: 1px solid #dddddd'>3e7d3b4b-ca8b-4c33-906c-52ad3e54d963</td><td style='border: 1px solid #dddddd'>Spark German Risk Model - Final</td><td style='border: 1px solid #dddddd'>model</td><td style='border: 1px solid #dddddd'>999</td><td style='border: 1px solid #dddddd'>2019-11-22T13:15:08.505Z</td></tr><tr><td style='border: 1px solid #dddddd'>04d1b0a8-c0a4-4172-8bfe-c774b8449d9b</td><td style='border: 1px solid #dddddd'>Credit-risk-linear-learner-target-recall</td><td style='border: 1px solid #dddddd'>model</td><td style='border: 1px solid #dddddd'>1bf0a753-f6cc-4cfc-b0a3-c677f2fb3d92</td><td style='border: 1px solid #dddddd'>2019-11-22T12:14:43.453Z</td></tr>\n",
       "            </table>\n",
       "        </body>\n",
       "        </HTML>"
      ],
      "text/plain": [
       "<IPython.core.display.HTML object>"
      ]
     },
     "metadata": {},
     "output_type": "display_data"
    }
   ],
   "source": [
    "subscriptions_uids = ai_client.data_mart.subscriptions.get_uids()\n",
    "ai_client.data_mart.subscriptions.list()"
   ]
  },
  {
   "cell_type": "code",
   "execution_count": 41,
   "metadata": {
    "scrolled": false
   },
   "outputs": [],
   "source": [
    "subscription_details = subscription.get_details()"
   ]
  },
  {
   "cell_type": "markdown",
   "metadata": {},
   "source": [
    "### Score the model so we can configure monitors"
   ]
  },
  {
   "cell_type": "markdown",
   "metadata": {},
   "source": [
    "Now that the WML service has been bound and the subscription has been created, we need to send a request to the model before we configure OpenScale. This allows OpenScale to create a payload log in the datamart with the correct schema, so it can capture data coming into and out of the model. First, the code gets the model deployment's endpoint URL, and then sends a few records for predictions."
   ]
  },
  {
   "cell_type": "code",
   "execution_count": 42,
   "metadata": {
    "scrolled": true
   },
   "outputs": [
    {
     "name": "stdout",
     "output_type": "stream",
     "text": [
      "f02576ec-a345-44d4-b818-5fe802951b05\n"
     ]
    }
   ],
   "source": [
    "credit_risk_scoring_endpoint = None\n",
    "print(deployment_uid)\n",
    "\n",
    "for deployment in wml_client.deployments.get_details()['resources']:\n",
    "    if deployment_uid in deployment['metadata']['guid']:\n",
    "        credit_risk_scoring_endpoint = deployment['entity']['status']['online_url']['url']"
   ]
  },
  {
   "cell_type": "code",
   "execution_count": 43,
   "metadata": {
    "scrolled": true
   },
   "outputs": [
    {
     "name": "stdout",
     "output_type": "stream",
     "text": [
      "Single record scoring result: \n",
      " fields: ['CheckingStatus', 'LoanDuration', 'CreditHistory', 'LoanPurpose', 'LoanAmount', 'ExistingSavings', 'EmploymentDuration', 'InstallmentPercent', 'Sex', 'OthersOnLoan', 'CurrentResidenceDuration', 'OwnsProperty', 'Age', 'InstallmentPlans', 'Housing', 'ExistingCreditsCount', 'Job', 'Dependents', 'Telephone', 'ForeignWorker', 'CheckingStatus_IX', 'CreditHistory_IX', 'EmploymentDuration_IX', 'ExistingSavings_IX', 'ForeignWorker_IX', 'Housing_IX', 'InstallmentPlans_IX', 'Job_IX', 'LoanPurpose_IX', 'OthersOnLoan_IX', 'OwnsProperty_IX', 'Sex_IX', 'Telephone_IX', 'features', 'rawPrediction', 'probability', 'prediction', 'predictedLabel'] \n",
      " values:  ['no_checking', 13, 'credits_paid_to_date', 'car_new', 1343, '100_to_500', '1_to_4', 2, 'female', 'none', 3, 'savings_insurance', 46, 'none', 'own', 2, 'skilled', 1, 'none', 'yes', 0.0, 1.0, 0.0, 1.0, 0.0, 0.0, 0.0, 0.0, 0.0, 0.0, 0.0, 1.0, 0.0, [21, [1, 3, 5, 13, 14, 15, 16, 17, 18, 19, 20], [1.0, 1.0, 1.0, 13.0, 1343.0, 2.0, 3.0, 13.0, 46.0, 2.0, 1.0]], [13.16744264821481, 6.832557351785186], [0.6583721324107406, 0.3416278675892594], 0.0, 'No Risk']\n"
     ]
    }
   ],
   "source": [
    "fields = [\"CheckingStatus\",\"LoanDuration\",\"CreditHistory\",\"LoanPurpose\",\"LoanAmount\",\"ExistingSavings\",\"EmploymentDuration\",\"InstallmentPercent\",\"Sex\",\"OthersOnLoan\",\"CurrentResidenceDuration\",\"OwnsProperty\",\"Age\",\"InstallmentPlans\",\"Housing\",\"ExistingCreditsCount\",\"Job\",\"Dependents\",\"Telephone\",\"ForeignWorker\"]\n",
    "values = [\n",
    "  [\"no_checking\",13,\"credits_paid_to_date\",\"car_new\",1343,\"100_to_500\",\"1_to_4\",2,\"female\",\"none\",3,\"savings_insurance\",46,\"none\",\"own\",2,\"skilled\",1,\"none\",\"yes\"],\n",
    "  [\"no_checking\",24,\"prior_payments_delayed\",\"furniture\",4567,\"500_to_1000\",\"1_to_4\",4,\"male\",\"none\",4,\"savings_insurance\",36,\"none\",\"free\",2,\"management_self-employed\",1,\"none\",\"yes\"],\n",
    "  [\"0_to_200\",26,\"all_credits_paid_back\",\"car_new\",863,\"less_100\",\"less_1\",2,\"female\",\"co-applicant\",2,\"real_estate\",38,\"none\",\"own\",1,\"skilled\",1,\"none\",\"yes\"],\n",
    "  [\"0_to_200\",14,\"no_credits\",\"car_new\",2368,\"less_100\",\"1_to_4\",3,\"female\",\"none\",3,\"real_estate\",29,\"none\",\"own\",1,\"skilled\",1,\"none\",\"yes\"],\n",
    "  [\"0_to_200\",4,\"no_credits\",\"car_new\",250,\"less_100\",\"unemployed\",2,\"female\",\"none\",3,\"real_estate\",23,\"none\",\"rent\",1,\"management_self-employed\",1,\"none\",\"yes\"],\n",
    "  [\"no_checking\",17,\"credits_paid_to_date\",\"car_new\",832,\"100_to_500\",\"1_to_4\",2,\"male\",\"none\",2,\"real_estate\",42,\"none\",\"own\",1,\"skilled\",1,\"none\",\"yes\"],\n",
    "  [\"no_checking\",33,\"outstanding_credit\",\"appliances\",5696,\"unknown\",\"greater_7\",4,\"male\",\"co-applicant\",4,\"unknown\",54,\"none\",\"free\",2,\"skilled\",1,\"yes\",\"yes\"],\n",
    "  [\"0_to_200\",13,\"prior_payments_delayed\",\"retraining\",1375,\"100_to_500\",\"4_to_7\",3,\"male\",\"none\",3,\"real_estate\",37,\"none\",\"own\",2,\"management_self-employed\",1,\"none\",\"yes\"]\n",
    "]\n",
    "\n",
    "payload_scoring = {\"fields\": fields,\"values\": values}\n",
    "payload = {\n",
    "    wml_client.deployments.ScoringMetaNames.INPUT_DATA: [payload_scoring]\n",
    "}\n",
    "scoring_response = wml_client.deployments.score(deployment_uid, payload)\n",
    "\n",
    "print('Single record scoring result:', '\\n fields:', scoring_response['predictions'][0]['fields'], '\\n values: ', scoring_response['predictions'][0]['values'][0])"
   ]
  },
  {
   "cell_type": "markdown",
   "metadata": {},
   "source": [
    "\n",
    "# Quality monitoring and feedback logging <a name=\"quality\"></a>"
   ]
  },
  {
   "cell_type": "markdown",
   "metadata": {},
   "source": [
    "## Enable quality monitoring"
   ]
  },
  {
   "cell_type": "markdown",
   "metadata": {},
   "source": [
    "The code below waits ten seconds to allow the payload logging table to be set up before it begins enabling monitors. First, it turns on the quality (accuracy) monitor and sets an alert threshold of 70%. OpenScale will show an alert on the dashboard if the model accuracy measurement (area under the curve, in the case of a binary classifier) falls below this threshold.\n",
    "\n",
    "The second paramater supplied, min_records, specifies the minimum number of feedback records OpenScale needs before it calculates a new measurement. The quality monitor runs hourly, but the accuracy reading in the dashboard will not change until an additional 50 feedback records have been added, via the user interface, the Python client, or the supplied feedback endpoint."
   ]
  },
  {
   "cell_type": "code",
   "execution_count": 44,
   "metadata": {
    "scrolled": true
   },
   "outputs": [],
   "source": [
    "time.sleep(10)\n",
    "subscription.quality_monitoring.enable(threshold=0.7, min_records=50)"
   ]
  },
  {
   "cell_type": "markdown",
   "metadata": {},
   "source": [
    "## Feedback logging"
   ]
  },
  {
   "cell_type": "markdown",
   "metadata": {},
   "source": [
    "The code below downloads and stores enough feedback data to meet the minimum threshold so that OpenScale can calculate a new accuracy measurement. It then kicks off the accuracy monitor. The monitors run hourly, or can be initiated via the Python API, the REST API, or the graphical user interface."
   ]
  },
  {
   "cell_type": "code",
   "execution_count": 45,
   "metadata": {},
   "outputs": [
    {
     "name": "stdout",
     "output_type": "stream",
     "text": [
      "Warning: Failed to set locale category LC_NUMERIC to en_PL.\n",
      "Warning: Failed to set locale category LC_TIME to en_PL.\n",
      "Warning: Failed to set locale category LC_COLLATE to en_PL.\n",
      "Warning: Failed to set locale category LC_MONETARY to en_PL.\n",
      "Warning: Failed to set locale category LC_MESSAGES to en_PL.\n",
      "--2019-11-22 14:15:38--  https://raw.githubusercontent.com/pmservice/ai-openscale-tutorials/master/assets/historical_data/german_credit_risk/wml/additional_feedback_data.json\n",
      "Resolving raw.githubusercontent.com (raw.githubusercontent.com)... 199.232.36.133\n",
      "Connecting to raw.githubusercontent.com (raw.githubusercontent.com)|199.232.36.133|:443... connected.\n",
      "HTTP request sent, awaiting response... 200 OK\n",
      "Length: 16506 (16K) [text/plain]\n",
      "Saving to: ‘additional_feedback_data.json’\n",
      "\n",
      "additional_feedback 100%[===================>]  16.12K  --.-KB/s    in 0.09s   \n",
      "\n",
      "2019-11-22 14:15:39 (186 KB/s) - ‘additional_feedback_data.json’ saved [16506/16506]\n",
      "\n"
     ]
    }
   ],
   "source": [
    "!rm additional_feedback_data.json\n",
    "!wget https://raw.githubusercontent.com/pmservice/ai-openscale-tutorials/master/assets/historical_data/german_credit_risk/wml/additional_feedback_data.json"
   ]
  },
  {
   "cell_type": "code",
   "execution_count": 46,
   "metadata": {},
   "outputs": [],
   "source": [
    "with open('additional_feedback_data.json') as feedback_file:\n",
    "    additional_feedback_data = json.load(feedback_file)\n",
    "subscription.feedback_logging.store(additional_feedback_data['data'])"
   ]
  },
  {
   "cell_type": "code",
   "execution_count": 47,
   "metadata": {
    "scrolled": true
   },
   "outputs": [
    {
     "data": {
      "text/html": [
       "<HTML>\n",
       "        <body>\n",
       "            <h3>Feedback_3e7d3b4b-ca8b-4c33-906c-52ad3e54d963 (binding_id=999, subscription_id=3e7d3b4b-ca8b-4c33-906c-52ad3e54d963)</h3>\n",
       "            <table style='border: 1px solid #dddddd; font-family: Courier'>\n",
       "                <th style='border: 1px solid #dddddd'>CheckingStatus</th><th style='border: 1px solid #dddddd'>LoanDuration</th><th style='border: 1px solid #dddddd'>CreditHistory</th><th style='border: 1px solid #dddddd'>LoanPurpose</th><th style='border: 1px solid #dddddd'>LoanAmount</th><th style='border: 1px solid #dddddd'>ExistingSavings</th><th style='border: 1px solid #dddddd'>EmploymentDuration</th><th style='border: 1px solid #dddddd'>InstallmentPercent</th><th style='border: 1px solid #dddddd'>Sex</th><th style='border: 1px solid #dddddd'>OthersOnLoan</th><th style='border: 1px solid #dddddd'>CurrentResidenceDuration</th><th style='border: 1px solid #dddddd'>OwnsProperty</th><th style='border: 1px solid #dddddd'>Age</th><th style='border: 1px solid #dddddd'>InstallmentPlans</th><th style='border: 1px solid #dddddd'>Housing</th><th style='border: 1px solid #dddddd'>ExistingCreditsCount</th><th style='border: 1px solid #dddddd'>Job</th><th style='border: 1px solid #dddddd'>Dependents</th><th style='border: 1px solid #dddddd'>Telephone</th><th style='border: 1px solid #dddddd'>ForeignWorker</th><th style='border: 1px solid #dddddd'>Risk</th><th style='border: 1px solid #dddddd'>_training</th>\n",
       "                <tr><td style='border: 1px solid #dddddd'>less_0</td><td style='border: 1px solid #dddddd'>10</td><td style='border: 1px solid #dddddd'>all_credits_paid_back</td><td style='border: 1px solid #dddddd'>car_new</td><td style='border: 1px solid #dddddd'>250</td><td style='border: 1px solid #dddddd'>500_to_1000</td><td style='border: 1px solid #dddddd'>4_to_7</td><td style='border: 1px solid #dddddd'>3</td><td style='border: 1px solid #dddddd'>male</td><td style='border: 1px solid #dddddd'>none</td><td style='border: 1px solid #dddddd'>2</td><td style='border: 1px solid #dddddd'>real_estate</td><td style='border: 1px solid #dddddd'>23</td><td style='border: 1px solid #dddddd'>none</td><td style='border: 1px solid #dddddd'>rent</td><td style='border: 1px solid #dddddd'>1</td><td style='border: 1px solid #dddddd'>skilled</td><td style='border: 1px solid #dddddd'>1</td><td style='border: 1px solid #dddddd'>none</td><td style='border: 1px solid #dddddd'>yes</td><td style='border: 1px solid #dddddd'>No Risk</td><td style='border: 1px solid #dddddd'>2019-11-22 13:15:41.346620+00:00</td></tr><tr><td style='border: 1px solid #dddddd'>no_checking</td><td style='border: 1px solid #dddddd'>23</td><td style='border: 1px solid #dddddd'>prior_payments_delayed</td><td style='border: 1px solid #dddddd'>appliances</td><td style='border: 1px solid #dddddd'>6964</td><td style='border: 1px solid #dddddd'>100_to_500</td><td style='border: 1px solid #dddddd'>4_to_7</td><td style='border: 1px solid #dddddd'>4</td><td style='border: 1px solid #dddddd'>female</td><td style='border: 1px solid #dddddd'>none</td><td style='border: 1px solid #dddddd'>3</td><td style='border: 1px solid #dddddd'>car_other</td><td style='border: 1px solid #dddddd'>39</td><td style='border: 1px solid #dddddd'>none</td><td style='border: 1px solid #dddddd'>own</td><td style='border: 1px solid #dddddd'>1</td><td style='border: 1px solid #dddddd'>skilled</td><td style='border: 1px solid #dddddd'>1</td><td style='border: 1px solid #dddddd'>none</td><td style='border: 1px solid #dddddd'>yes</td><td style='border: 1px solid #dddddd'>Risk</td><td style='border: 1px solid #dddddd'>2019-11-22 13:15:41.346879+00:00</td></tr><tr><td style='border: 1px solid #dddddd'>0_to_200</td><td style='border: 1px solid #dddddd'>30</td><td style='border: 1px solid #dddddd'>outstanding_credit</td><td style='border: 1px solid #dddddd'>appliances</td><td style='border: 1px solid #dddddd'>3464</td><td style='border: 1px solid #dddddd'>100_to_500</td><td style='border: 1px solid #dddddd'>greater_7</td><td style='border: 1px solid #dddddd'>3</td><td style='border: 1px solid #dddddd'>male</td><td style='border: 1px solid #dddddd'>guarantor</td><td style='border: 1px solid #dddddd'>4</td><td style='border: 1px solid #dddddd'>savings_insurance</td><td style='border: 1px solid #dddddd'>51</td><td style='border: 1px solid #dddddd'>stores</td><td style='border: 1px solid #dddddd'>free</td><td style='border: 1px solid #dddddd'>1</td><td style='border: 1px solid #dddddd'>skilled</td><td style='border: 1px solid #dddddd'>1</td><td style='border: 1px solid #dddddd'>yes</td><td style='border: 1px solid #dddddd'>yes</td><td style='border: 1px solid #dddddd'>Risk</td><td style='border: 1px solid #dddddd'>2019-11-22 13:15:41.346904+00:00</td></tr><tr><td style='border: 1px solid #dddddd'>no_checking</td><td style='border: 1px solid #dddddd'>23</td><td style='border: 1px solid #dddddd'>outstanding_credit</td><td style='border: 1px solid #dddddd'>car_used</td><td style='border: 1px solid #dddddd'>2681</td><td style='border: 1px solid #dddddd'>500_to_1000</td><td style='border: 1px solid #dddddd'>greater_7</td><td style='border: 1px solid #dddddd'>4</td><td style='border: 1px solid #dddddd'>male</td><td style='border: 1px solid #dddddd'>none</td><td style='border: 1px solid #dddddd'>3</td><td style='border: 1px solid #dddddd'>car_other</td><td style='border: 1px solid #dddddd'>33</td><td style='border: 1px solid #dddddd'>stores</td><td style='border: 1px solid #dddddd'>free</td><td style='border: 1px solid #dddddd'>1</td><td style='border: 1px solid #dddddd'>unskilled</td><td style='border: 1px solid #dddddd'>1</td><td style='border: 1px solid #dddddd'>yes</td><td style='border: 1px solid #dddddd'>yes</td><td style='border: 1px solid #dddddd'>No Risk</td><td style='border: 1px solid #dddddd'>2019-11-22 13:15:41.346922+00:00</td></tr><tr><td style='border: 1px solid #dddddd'>0_to_200</td><td style='border: 1px solid #dddddd'>18</td><td style='border: 1px solid #dddddd'>prior_payments_delayed</td><td style='border: 1px solid #dddddd'>furniture</td><td style='border: 1px solid #dddddd'>1673</td><td style='border: 1px solid #dddddd'>less_100</td><td style='border: 1px solid #dddddd'>1_to_4</td><td style='border: 1px solid #dddddd'>2</td><td style='border: 1px solid #dddddd'>male</td><td style='border: 1px solid #dddddd'>none</td><td style='border: 1px solid #dddddd'>3</td><td style='border: 1px solid #dddddd'>car_other</td><td style='border: 1px solid #dddddd'>30</td><td style='border: 1px solid #dddddd'>none</td><td style='border: 1px solid #dddddd'>own</td><td style='border: 1px solid #dddddd'>2</td><td style='border: 1px solid #dddddd'>skilled</td><td style='border: 1px solid #dddddd'>1</td><td style='border: 1px solid #dddddd'>none</td><td style='border: 1px solid #dddddd'>yes</td><td style='border: 1px solid #dddddd'>Risk</td><td style='border: 1px solid #dddddd'>2019-11-22 13:15:41.346947+00:00</td></tr><tr><td style='border: 1px solid #dddddd'>no_checking</td><td style='border: 1px solid #dddddd'>44</td><td style='border: 1px solid #dddddd'>outstanding_credit</td><td style='border: 1px solid #dddddd'>radio_tv</td><td style='border: 1px solid #dddddd'>3476</td><td style='border: 1px solid #dddddd'>unknown</td><td style='border: 1px solid #dddddd'>greater_7</td><td style='border: 1px solid #dddddd'>4</td><td style='border: 1px solid #dddddd'>male</td><td style='border: 1px solid #dddddd'>co-applicant</td><td style='border: 1px solid #dddddd'>4</td><td style='border: 1px solid #dddddd'>unknown</td><td style='border: 1px solid #dddddd'>60</td><td style='border: 1px solid #dddddd'>none</td><td style='border: 1px solid #dddddd'>free</td><td style='border: 1px solid #dddddd'>2</td><td style='border: 1px solid #dddddd'>skilled</td><td style='border: 1px solid #dddddd'>2</td><td style='border: 1px solid #dddddd'>yes</td><td style='border: 1px solid #dddddd'>yes</td><td style='border: 1px solid #dddddd'>Risk</td><td style='border: 1px solid #dddddd'>2019-11-22 13:15:41.346963+00:00</td></tr><tr><td style='border: 1px solid #dddddd'>less_0</td><td style='border: 1px solid #dddddd'>8</td><td style='border: 1px solid #dddddd'>no_credits</td><td style='border: 1px solid #dddddd'>education</td><td style='border: 1px solid #dddddd'>803</td><td style='border: 1px solid #dddddd'>less_100</td><td style='border: 1px solid #dddddd'>unemployed</td><td style='border: 1px solid #dddddd'>1</td><td style='border: 1px solid #dddddd'>male</td><td style='border: 1px solid #dddddd'>none</td><td style='border: 1px solid #dddddd'>1</td><td style='border: 1px solid #dddddd'>savings_insurance</td><td style='border: 1px solid #dddddd'>19</td><td style='border: 1px solid #dddddd'>stores</td><td style='border: 1px solid #dddddd'>rent</td><td style='border: 1px solid #dddddd'>1</td><td style='border: 1px solid #dddddd'>skilled</td><td style='border: 1px solid #dddddd'>1</td><td style='border: 1px solid #dddddd'>none</td><td style='border: 1px solid #dddddd'>yes</td><td style='border: 1px solid #dddddd'>No Risk</td><td style='border: 1px solid #dddddd'>2019-11-22 13:15:41.346978+00:00</td></tr><tr><td style='border: 1px solid #dddddd'>0_to_200</td><td style='border: 1px solid #dddddd'>7</td><td style='border: 1px solid #dddddd'>all_credits_paid_back</td><td style='border: 1px solid #dddddd'>car_new</td><td style='border: 1px solid #dddddd'>250</td><td style='border: 1px solid #dddddd'>less_100</td><td style='border: 1px solid #dddddd'>unemployed</td><td style='border: 1px solid #dddddd'>1</td><td style='border: 1px solid #dddddd'>male</td><td style='border: 1px solid #dddddd'>none</td><td style='border: 1px solid #dddddd'>1</td><td style='border: 1px solid #dddddd'>real_estate</td><td style='border: 1px solid #dddddd'>19</td><td style='border: 1px solid #dddddd'>stores</td><td style='border: 1px solid #dddddd'>rent</td><td style='border: 1px solid #dddddd'>1</td><td style='border: 1px solid #dddddd'>skilled</td><td style='border: 1px solid #dddddd'>1</td><td style='border: 1px solid #dddddd'>none</td><td style='border: 1px solid #dddddd'>yes</td><td style='border: 1px solid #dddddd'>No Risk</td><td style='border: 1px solid #dddddd'>2019-11-22 13:15:41.346993+00:00</td></tr><tr><td style='border: 1px solid #dddddd'>0_to_200</td><td style='border: 1px solid #dddddd'>33</td><td style='border: 1px solid #dddddd'>credits_paid_to_date</td><td style='border: 1px solid #dddddd'>radio_tv</td><td style='border: 1px solid #dddddd'>3548</td><td style='border: 1px solid #dddddd'>100_to_500</td><td style='border: 1px solid #dddddd'>1_to_4</td><td style='border: 1px solid #dddddd'>3</td><td style='border: 1px solid #dddddd'>male</td><td style='border: 1px solid #dddddd'>none</td><td style='border: 1px solid #dddddd'>4</td><td style='border: 1px solid #dddddd'>car_other</td><td style='border: 1px solid #dddddd'>28</td><td style='border: 1px solid #dddddd'>none</td><td style='border: 1px solid #dddddd'>own</td><td style='border: 1px solid #dddddd'>2</td><td style='border: 1px solid #dddddd'>skilled</td><td style='border: 1px solid #dddddd'>1</td><td style='border: 1px solid #dddddd'>yes</td><td style='border: 1px solid #dddddd'>yes</td><td style='border: 1px solid #dddddd'>Risk</td><td style='border: 1px solid #dddddd'>2019-11-22 13:15:41.347008+00:00</td></tr><tr><td style='border: 1px solid #dddddd'>no_checking</td><td style='border: 1px solid #dddddd'>24</td><td style='border: 1px solid #dddddd'>prior_payments_delayed</td><td style='border: 1px solid #dddddd'>retraining</td><td style='border: 1px solid #dddddd'>4158</td><td style='border: 1px solid #dddddd'>100_to_500</td><td style='border: 1px solid #dddddd'>greater_7</td><td style='border: 1px solid #dddddd'>3</td><td style='border: 1px solid #dddddd'>female</td><td style='border: 1px solid #dddddd'>none</td><td style='border: 1px solid #dddddd'>2</td><td style='border: 1px solid #dddddd'>savings_insurance</td><td style='border: 1px solid #dddddd'>35</td><td style='border: 1px solid #dddddd'>stores</td><td style='border: 1px solid #dddddd'>own</td><td style='border: 1px solid #dddddd'>1</td><td style='border: 1px solid #dddddd'>unskilled</td><td style='border: 1px solid #dddddd'>2</td><td style='border: 1px solid #dddddd'>none</td><td style='border: 1px solid #dddddd'>yes</td><td style='border: 1px solid #dddddd'>Risk</td><td style='border: 1px solid #dddddd'>2019-11-22 13:15:41.347029+00:00</td></tr>\n",
       "            </table>\n",
       "        </body>\n",
       "        </HTML>"
      ],
      "text/plain": [
       "<IPython.core.display.HTML object>"
      ]
     },
     "metadata": {},
     "output_type": "display_data"
    }
   ],
   "source": [
    "subscription.feedback_logging.show_table()"
   ]
  },
  {
   "cell_type": "code",
   "execution_count": 48,
   "metadata": {
    "scrolled": true
   },
   "outputs": [
    {
     "name": "stdout",
     "output_type": "stream",
     "text": [
      "\n",
      "\n",
      "================================================================================\n",
      "\n",
      " Waiting for end of quality monitoring run f6034002-e923-47ef-84a0-1154f6f6508d \n",
      "\n",
      "================================================================================\n",
      "\n",
      "\n",
      "\n",
      "initializing\n",
      "running\n",
      "completed\n",
      "\n",
      "---------------------------\n",
      " Successfully finished run \n",
      "---------------------------\n",
      "\n",
      "\n"
     ]
    }
   ],
   "source": [
    "run_details = subscription.quality_monitoring.run(background_mode=False)"
   ]
  },
  {
   "cell_type": "code",
   "execution_count": 49,
   "metadata": {
    "scrolled": true
   },
   "outputs": [
    {
     "data": {
      "text/html": [
       "<HTML>\n",
       "        <body>\n",
       "            <h3>QualityMetrics (binding_id=999, subscription_id=3e7d3b4b-ca8b-4c33-906c-52ad3e54d963)</h3>\n",
       "            <table style='border: 1px solid #dddddd; font-family: Courier'>\n",
       "                <th style='border: 1px solid #dddddd'>ts</th><th style='border: 1px solid #dddddd'>id</th><th style='border: 1px solid #dddddd'>measurement_id</th><th style='border: 1px solid #dddddd'>value</th><th style='border: 1px solid #dddddd'>lower limit</th><th style='border: 1px solid #dddddd'>upper limit</th><th style='border: 1px solid #dddddd'>tags</th><th style='border: 1px solid #dddddd'>binding_id</th><th style='border: 1px solid #dddddd'>subscription_id</th><th style='border: 1px solid #dddddd'>deployment_id</th>\n",
       "                <tr><td style='border: 1px solid #dddddd'>2019-11-22 13:15:50.932000+00:00</td><td style='border: 1px solid #dddddd'>true_positive_rate</td><td style='border: 1px solid #dddddd'>158d8cb8-712f-4e12-baee-0f6df3746a70</td><td style='border: 1px solid #dddddd'>0.3939393939393939</td><td style='border: 1px solid #dddddd'></td><td style='border: 1px solid #dddddd'></td><td style='border: 1px solid #dddddd'>model_type: original</td><td style='border: 1px solid #dddddd'>999</td><td style='border: 1px solid #dddddd'>3e7d3b4b-ca8b-4c33-906c-52ad3e54d963</td><td style='border: 1px solid #dddddd'>f02576ec-a345-44d4-b818-5fe802951b05</td></tr><tr><td style='border: 1px solid #dddddd'>2019-11-22 13:15:50.932000+00:00</td><td style='border: 1px solid #dddddd'>area_under_roc</td><td style='border: 1px solid #dddddd'>158d8cb8-712f-4e12-baee-0f6df3746a70</td><td style='border: 1px solid #dddddd'>0.6662004662004662</td><td style='border: 1px solid #dddddd'>0.7</td><td style='border: 1px solid #dddddd'></td><td style='border: 1px solid #dddddd'>model_type: original</td><td style='border: 1px solid #dddddd'>999</td><td style='border: 1px solid #dddddd'>3e7d3b4b-ca8b-4c33-906c-52ad3e54d963</td><td style='border: 1px solid #dddddd'>f02576ec-a345-44d4-b818-5fe802951b05</td></tr><tr><td style='border: 1px solid #dddddd'>2019-11-22 13:15:50.932000+00:00</td><td style='border: 1px solid #dddddd'>precision</td><td style='border: 1px solid #dddddd'>158d8cb8-712f-4e12-baee-0f6df3746a70</td><td style='border: 1px solid #dddddd'>0.7647058823529411</td><td style='border: 1px solid #dddddd'></td><td style='border: 1px solid #dddddd'></td><td style='border: 1px solid #dddddd'>model_type: original</td><td style='border: 1px solid #dddddd'>999</td><td style='border: 1px solid #dddddd'>3e7d3b4b-ca8b-4c33-906c-52ad3e54d963</td><td style='border: 1px solid #dddddd'>f02576ec-a345-44d4-b818-5fe802951b05</td></tr><tr><td style='border: 1px solid #dddddd'>2019-11-22 13:15:50.932000+00:00</td><td style='border: 1px solid #dddddd'>f1_measure</td><td style='border: 1px solid #dddddd'>158d8cb8-712f-4e12-baee-0f6df3746a70</td><td style='border: 1px solid #dddddd'>0.5199999999999999</td><td style='border: 1px solid #dddddd'></td><td style='border: 1px solid #dddddd'></td><td style='border: 1px solid #dddddd'>model_type: original</td><td style='border: 1px solid #dddddd'>999</td><td style='border: 1px solid #dddddd'>3e7d3b4b-ca8b-4c33-906c-52ad3e54d963</td><td style='border: 1px solid #dddddd'>f02576ec-a345-44d4-b818-5fe802951b05</td></tr><tr><td style='border: 1px solid #dddddd'>2019-11-22 13:15:50.932000+00:00</td><td style='border: 1px solid #dddddd'>accuracy</td><td style='border: 1px solid #dddddd'>158d8cb8-712f-4e12-baee-0f6df3746a70</td><td style='border: 1px solid #dddddd'>0.7551020408163265</td><td style='border: 1px solid #dddddd'></td><td style='border: 1px solid #dddddd'></td><td style='border: 1px solid #dddddd'>model_type: original</td><td style='border: 1px solid #dddddd'>999</td><td style='border: 1px solid #dddddd'>3e7d3b4b-ca8b-4c33-906c-52ad3e54d963</td><td style='border: 1px solid #dddddd'>f02576ec-a345-44d4-b818-5fe802951b05</td></tr><tr><td style='border: 1px solid #dddddd'>2019-11-22 13:15:50.932000+00:00</td><td style='border: 1px solid #dddddd'>log_loss</td><td style='border: 1px solid #dddddd'>158d8cb8-712f-4e12-baee-0f6df3746a70</td><td style='border: 1px solid #dddddd'>0.43648047108288707</td><td style='border: 1px solid #dddddd'></td><td style='border: 1px solid #dddddd'></td><td style='border: 1px solid #dddddd'>model_type: original</td><td style='border: 1px solid #dddddd'>999</td><td style='border: 1px solid #dddddd'>3e7d3b4b-ca8b-4c33-906c-52ad3e54d963</td><td style='border: 1px solid #dddddd'>f02576ec-a345-44d4-b818-5fe802951b05</td></tr><tr><td style='border: 1px solid #dddddd'>2019-11-22 13:15:50.932000+00:00</td><td style='border: 1px solid #dddddd'>false_positive_rate</td><td style='border: 1px solid #dddddd'>158d8cb8-712f-4e12-baee-0f6df3746a70</td><td style='border: 1px solid #dddddd'>0.06153846153846154</td><td style='border: 1px solid #dddddd'></td><td style='border: 1px solid #dddddd'></td><td style='border: 1px solid #dddddd'>model_type: original</td><td style='border: 1px solid #dddddd'>999</td><td style='border: 1px solid #dddddd'>3e7d3b4b-ca8b-4c33-906c-52ad3e54d963</td><td style='border: 1px solid #dddddd'>f02576ec-a345-44d4-b818-5fe802951b05</td></tr><tr><td style='border: 1px solid #dddddd'>2019-11-22 13:15:50.932000+00:00</td><td style='border: 1px solid #dddddd'>area_under_pr</td><td style='border: 1px solid #dddddd'>158d8cb8-712f-4e12-baee-0f6df3746a70</td><td style='border: 1px solid #dddddd'>0.6350176434210048</td><td style='border: 1px solid #dddddd'></td><td style='border: 1px solid #dddddd'></td><td style='border: 1px solid #dddddd'>model_type: original</td><td style='border: 1px solid #dddddd'>999</td><td style='border: 1px solid #dddddd'>3e7d3b4b-ca8b-4c33-906c-52ad3e54d963</td><td style='border: 1px solid #dddddd'>f02576ec-a345-44d4-b818-5fe802951b05</td></tr><tr><td style='border: 1px solid #dddddd'>2019-11-22 13:15:50.932000+00:00</td><td style='border: 1px solid #dddddd'>recall</td><td style='border: 1px solid #dddddd'>158d8cb8-712f-4e12-baee-0f6df3746a70</td><td style='border: 1px solid #dddddd'>0.3939393939393939</td><td style='border: 1px solid #dddddd'></td><td style='border: 1px solid #dddddd'></td><td style='border: 1px solid #dddddd'>model_type: original</td><td style='border: 1px solid #dddddd'>999</td><td style='border: 1px solid #dddddd'>3e7d3b4b-ca8b-4c33-906c-52ad3e54d963</td><td style='border: 1px solid #dddddd'>f02576ec-a345-44d4-b818-5fe802951b05</td></tr>\n",
       "            </table>\n",
       "        </body>\n",
       "        </HTML>"
      ],
      "text/plain": [
       "<IPython.core.display.HTML object>"
      ]
     },
     "metadata": {},
     "output_type": "display_data"
    }
   ],
   "source": [
    "subscription.quality_monitoring.show_table()"
   ]
  },
  {
   "cell_type": "code",
   "execution_count": 50,
   "metadata": {},
   "outputs": [
    {
     "data": {
      "image/png": "[encoded data removed]",
      "text/plain": [
       "<Figure size 432x288 with 1 Axes>"
      ]
     },
     "metadata": {
      "needs_background": "light"
     },
     "output_type": "display_data"
    }
   ],
   "source": [
    "%matplotlib inline\n",
    "\n",
    "quality_pd = subscription.quality_monitoring.get_table_content(format='pandas')\n",
    "quality_pd.plot.barh(x='id', y='value');"
   ]
  },
  {
   "cell_type": "markdown",
   "metadata": {},
   "source": [
    "# Fairness, drift monitoring and explanations \n",
    " <a name=\"fairness\"></a>"
   ]
  },
  {
   "cell_type": "markdown",
   "metadata": {},
   "source": [
    "The code below configures fairness monitoring for our model. It turns on monitoring for two features, Sex and Age. In each case, we must specify:\n",
    "  * Which model feature to monitor\n",
    "  * One or more **majority** groups, which are values of that feature that we expect to receive a higher percentage of favorable outcomes\n",
    "  * One or more **minority** groups, which are values of that feature that we expect to receive a higher percentage of unfavorable outcomes\n",
    "  * The threshold at which we would like OpenScale to display an alert if the fairness measurement falls below (in this case, 95%)\n",
    "\n",
    "Additionally, we must specify which outcomes from the model are favourable outcomes, and which are unfavourable. We must also provide the number of records OpenScale will use to calculate the fairness score. In this case, OpenScale's fairness monitor will run hourly, but will not calculate a new fairness rating until at least 200 records have been added. Finally, to calculate fairness, OpenScale must perform some calculations on the training data, so we provide the dataframe containing the data."
   ]
  },
  {
   "cell_type": "code",
   "execution_count": 52,
   "metadata": {
    "scrolled": true
   },
   "outputs": [],
   "source": [
    "subscription.fairness_monitoring.enable(\n",
    "            features=[\n",
    "                Feature(\"Sex\", majority=['male'], minority=['female'], threshold=0.95),\n",
    "                Feature(\"Age\", majority=[[26,75]], minority=[[18,25]], threshold=0.95)\n",
    "            ],\n",
    "            favourable_classes=['No Risk'],\n",
    "            unfavourable_classes=['Risk'],\n",
    "            min_records=200,\n",
    "            training_data=pd_data\n",
    "        )"
   ]
  },
  {
   "cell_type": "markdown",
   "metadata": {},
   "source": [
    "## Drift configuration"
   ]
  },
  {
   "cell_type": "code",
   "execution_count": 53,
   "metadata": {},
   "outputs": [
    {
     "name": "stdout",
     "output_type": "stream",
     "text": [
      "13:16:26 new\n",
      "13:16:57 in_progress\n",
      "13:17:27 in_progress\n",
      "13:17:58 in_progress\n",
      "13:18:29 in_progress\n",
      "13:19:00 in_progress\n",
      "finished\n"
     ]
    }
   ],
   "source": [
    "subscription.drift_monitoring.enable(min_records=100, threshold=0.1)\n",
    "\n",
    "drift_status = None\n",
    "while drift_status != 'finished':\n",
    "    drift_details = subscription.drift_monitoring.get_details()\n",
    "    drift_status = drift_details['parameters']['config_status']['state']\n",
    "    if drift_status != 'finished':\n",
    "        print(datetime.utcnow().strftime('%H:%M:%S'), drift_status)\n",
    "        time.sleep(30)\n",
    "print(drift_status)"
   ]
  },
  {
   "cell_type": "markdown",
   "metadata": {},
   "source": [
    "## Score the model again now that monitoring is configured"
   ]
  },
  {
   "cell_type": "markdown",
   "metadata": {},
   "source": [
    "This next section randomly selects 200 records from the data feed and sends those records to the model for predictions. This is enough to exceed the minimum threshold for records set in the previous section, which allows OpenScale to begin calculating fairness."
   ]
  },
  {
   "cell_type": "code",
   "execution_count": 54,
   "metadata": {},
   "outputs": [
    {
     "name": "stdout",
     "output_type": "stream",
     "text": [
      "Warning: Failed to set locale category LC_NUMERIC to en_PL.\n",
      "Warning: Failed to set locale category LC_TIME to en_PL.\n",
      "Warning: Failed to set locale category LC_COLLATE to en_PL.\n",
      "Warning: Failed to set locale category LC_MONETARY to en_PL.\n",
      "Warning: Failed to set locale category LC_MESSAGES to en_PL.\n",
      "--2019-11-22 14:19:31--  https://raw.githubusercontent.com/pmservice/ai-openscale-tutorials/master/assets/historical_data/german_credit_risk/wml/german_credit_feed.json\n",
      "Resolving raw.githubusercontent.com (raw.githubusercontent.com)... 199.232.36.133\n",
      "Connecting to raw.githubusercontent.com (raw.githubusercontent.com)|199.232.36.133|:443... connected.\n",
      "HTTP request sent, awaiting response... 200 OK\n",
      "Length: 3076279 (2.9M) [text/plain]\n",
      "Saving to: ‘german_credit_feed.json’\n",
      "\n",
      "german_credit_feed. 100%[===================>]   2.93M   928KB/s    in 3.4s    \n",
      "\n",
      "2019-11-22 14:19:35 (893 KB/s) - ‘german_credit_feed.json’ saved [3076279/3076279]\n",
      "\n"
     ]
    }
   ],
   "source": [
    "!rm german_credit_feed.json\n",
    "!wget https://raw.githubusercontent.com/pmservice/ai-openscale-tutorials/master/assets/historical_data/german_credit_risk/wml/german_credit_feed.json"
   ]
  },
  {
   "cell_type": "markdown",
   "metadata": {},
   "source": [
    "Score 200 randomly chosen records"
   ]
  },
  {
   "cell_type": "code",
   "execution_count": 55,
   "metadata": {},
   "outputs": [],
   "source": [
    "import random\n",
    "\n",
    "with open('german_credit_feed.json', 'r') as scoring_file:\n",
    "    scoring_data = json.load(scoring_file)\n",
    "\n",
    "fields = scoring_data['fields']\n",
    "values = []\n",
    "for _ in range(200):\n",
    "    values.append(random.choice(scoring_data['values']))\n",
    "payload_scoring = {\"fields\": fields, \"values\": values}\n",
    "payload = {\n",
    "    wml_client.deployments.ScoringMetaNames.INPUT_DATA: [payload_scoring]\n",
    "}\n",
    "scoring_response = wml_client.deployments.score(deployment_uid, payload)"
   ]
  },
  {
   "cell_type": "markdown",
   "metadata": {},
   "source": [
    "## Run fairness monitor"
   ]
  },
  {
   "cell_type": "markdown",
   "metadata": {},
   "source": [
    "Kick off a fairness monitor run on current data. The monitor runs hourly, but can be manually initiated using the Python client, the REST API, or the graphical user interface."
   ]
  },
  {
   "cell_type": "code",
   "execution_count": 56,
   "metadata": {
    "scrolled": true
   },
   "outputs": [
    {
     "name": "stdout",
     "output_type": "stream",
     "text": [
      "\n",
      "\n",
      "=======================================================================\n",
      "\n",
      " Counting bias for deployment_uid=f02576ec-a345-44d4-b818-5fe802951b05 \n",
      "\n",
      "=======================================================================\n",
      "\n",
      "\n",
      "\n",
      "RUNNING......\n",
      "FINISHED\n",
      "\n",
      "---------------------------\n",
      " Successfully finished run \n",
      "---------------------------\n",
      "\n",
      "\n"
     ]
    }
   ],
   "source": [
    "time.sleep(5)\n",
    "\n",
    "run_details = subscription.fairness_monitoring.run(background_mode=False)"
   ]
  },
  {
   "cell_type": "code",
   "execution_count": 57,
   "metadata": {},
   "outputs": [
    {
     "data": {
      "text/html": [
       "<HTML>\n",
       "        <body>\n",
       "            <h3>FairnessMetrics (binding_id=999, subscription_id=3e7d3b4b-ca8b-4c33-906c-52ad3e54d963)</h3>\n",
       "            <table style='border: 1px solid #dddddd; font-family: Courier'>\n",
       "                <th style='border: 1px solid #dddddd'>ts</th><th style='border: 1px solid #dddddd'>feature</th><th style='border: 1px solid #dddddd'>feature_value</th><th style='border: 1px solid #dddddd'>fairness_biased</th><th style='border: 1px solid #dddddd'>fairness_value</th><th style='border: 1px solid #dddddd'>fairness_fav_class</th><th style='border: 1px solid #dddddd'>binding_id</th><th style='border: 1px solid #dddddd'>subscription_id</th><th style='border: 1px solid #dddddd'>asset_revision</th><th style='border: 1px solid #dddddd'>deployment_id</th><th style='border: 1px solid #dddddd'>process</th>\n",
       "                <tr><td style='border: 1px solid #dddddd'>2019-11-22 13:19:46.405398+00:00</td><td style='border: 1px solid #dddddd'>Sex</td><td style='border: 1px solid #dddddd'>female</td><td style='border: 1px solid #dddddd'>True</td><td style='border: 1px solid #dddddd'>0.913</td><td style='border: 1px solid #dddddd'>73.5</td><td style='border: 1px solid #dddddd'>999</td><td style='border: 1px solid #dddddd'>3e7d3b4b-ca8b-4c33-906c-52ad3e54d963</td><td style='border: 1px solid #dddddd'>3e7d3b4b-ca8b-4c33-906c-52ad3e54d963</td><td style='border: 1px solid #dddddd'>f02576ec-a345-44d4-b818-5fe802951b05</td><td style='border: 1px solid #dddddd'></td></tr><tr><td style='border: 1px solid #dddddd'>2019-11-22 13:19:46.405398+00:00</td><td style='border: 1px solid #dddddd'>Age</td><td style='border: 1px solid #dddddd'>[18, 25]</td><td style='border: 1px solid #dddddd'>False</td><td style='border: 1px solid #dddddd'>1.056</td><td style='border: 1px solid #dddddd'>84.5</td><td style='border: 1px solid #dddddd'>999</td><td style='border: 1px solid #dddddd'>3e7d3b4b-ca8b-4c33-906c-52ad3e54d963</td><td style='border: 1px solid #dddddd'>3e7d3b4b-ca8b-4c33-906c-52ad3e54d963</td><td style='border: 1px solid #dddddd'>f02576ec-a345-44d4-b818-5fe802951b05</td><td style='border: 1px solid #dddddd'></td></tr>\n",
       "            </table>\n",
       "        </body>\n",
       "        </HTML>"
      ],
      "text/plain": [
       "<IPython.core.display.HTML object>"
      ]
     },
     "metadata": {},
     "output_type": "display_data"
    }
   ],
   "source": [
    "time.sleep(5)\n",
    "\n",
    "subscription.fairness_monitoring.show_table()"
   ]
  },
  {
   "cell_type": "markdown",
   "metadata": {},
   "source": [
    "## Run drift monitor"
   ]
  },
  {
   "cell_type": "markdown",
   "metadata": {},
   "source": [
    "Kick off a drift monitor run on current data. The monitor runs every hour, but can be manually initiated using the Python client, the REST API."
   ]
  },
  {
   "cell_type": "code",
   "execution_count": 58,
   "metadata": {},
   "outputs": [
    {
     "name": "stdout",
     "output_type": "stream",
     "text": [
      "\n",
      "\n",
      "==========================================\n",
      "\n",
      " Waiting for end of drift monitoring run  \n",
      "\n",
      "==========================================\n",
      "\n",
      "\n",
      "\n",
      "RUNNING.\n",
      "COMPLETED\n",
      "\n",
      "---------------------------\n",
      " Successfully finished run \n",
      "---------------------------\n",
      "\n",
      "\n"
     ]
    }
   ],
   "source": [
    "drift_run_details = subscription.drift_monitoring.run(background_mode=False)"
   ]
  },
  {
   "cell_type": "code",
   "execution_count": 59,
   "metadata": {},
   "outputs": [
    {
     "data": {
      "text/html": [
       "<div>\n",
       "<style scoped>\n",
       "    .dataframe tbody tr th:only-of-type {\n",
       "        vertical-align: middle;\n",
       "    }\n",
       "\n",
       "    .dataframe tbody tr th {\n",
       "        vertical-align: top;\n",
       "    }\n",
       "\n",
       "    .dataframe thead th {\n",
       "        text-align: right;\n",
       "    }\n",
       "</style>\n",
       "<table border=\"1\" class=\"dataframe\">\n",
       "  <thead>\n",
       "    <tr style=\"text-align: right;\">\n",
       "      <th></th>\n",
       "      <th>ts</th>\n",
       "      <th>id</th>\n",
       "      <th>measurement_id</th>\n",
       "      <th>value</th>\n",
       "      <th>lower limit</th>\n",
       "      <th>upper limit</th>\n",
       "      <th>tags</th>\n",
       "      <th>binding_id</th>\n",
       "      <th>subscription_id</th>\n",
       "      <th>deployment_id</th>\n",
       "    </tr>\n",
       "  </thead>\n",
       "  <tbody>\n",
       "    <tr>\n",
       "      <th>0</th>\n",
       "      <td>2019-11-22 13:20:56.498755+00:00</td>\n",
       "      <td>data_drift_magnitude</td>\n",
       "      <td>22aa72be-c9f7-4b05-b9c2-c15ec7e315d1</td>\n",
       "      <td>0.086538</td>\n",
       "      <td></td>\n",
       "      <td></td>\n",
       "      <td></td>\n",
       "      <td>999</td>\n",
       "      <td>3e7d3b4b-ca8b-4c33-906c-52ad3e54d963</td>\n",
       "      <td>f02576ec-a345-44d4-b818-5fe802951b05</td>\n",
       "    </tr>\n",
       "    <tr>\n",
       "      <th>1</th>\n",
       "      <td>2019-11-22 13:20:56.498755+00:00</td>\n",
       "      <td>drift_magnitude</td>\n",
       "      <td>22aa72be-c9f7-4b05-b9c2-c15ec7e315d1</td>\n",
       "      <td>0.032269</td>\n",
       "      <td></td>\n",
       "      <td>0.1</td>\n",
       "      <td></td>\n",
       "      <td>999</td>\n",
       "      <td>3e7d3b4b-ca8b-4c33-906c-52ad3e54d963</td>\n",
       "      <td>f02576ec-a345-44d4-b818-5fe802951b05</td>\n",
       "    </tr>\n",
       "    <tr>\n",
       "      <th>2</th>\n",
       "      <td>2019-11-22 13:20:56.498755+00:00</td>\n",
       "      <td>predicted_accuracy</td>\n",
       "      <td>22aa72be-c9f7-4b05-b9c2-c15ec7e315d1</td>\n",
       "      <td>0.762731</td>\n",
       "      <td></td>\n",
       "      <td></td>\n",
       "      <td></td>\n",
       "      <td>999</td>\n",
       "      <td>3e7d3b4b-ca8b-4c33-906c-52ad3e54d963</td>\n",
       "      <td>f02576ec-a345-44d4-b818-5fe802951b05</td>\n",
       "    </tr>\n",
       "  </tbody>\n",
       "</table>\n",
       "</div>"
      ],
      "text/plain": [
       "                                ts                    id  \\\n",
       "0 2019-11-22 13:20:56.498755+00:00  data_drift_magnitude   \n",
       "1 2019-11-22 13:20:56.498755+00:00       drift_magnitude   \n",
       "2 2019-11-22 13:20:56.498755+00:00    predicted_accuracy   \n",
       "\n",
       "                         measurement_id     value lower limit upper limit  \\\n",
       "0  22aa72be-c9f7-4b05-b9c2-c15ec7e315d1  0.086538                           \n",
       "1  22aa72be-c9f7-4b05-b9c2-c15ec7e315d1  0.032269                     0.1   \n",
       "2  22aa72be-c9f7-4b05-b9c2-c15ec7e315d1  0.762731                           \n",
       "\n",
       "  tags binding_id                       subscription_id  \\\n",
       "0             999  3e7d3b4b-ca8b-4c33-906c-52ad3e54d963   \n",
       "1             999  3e7d3b4b-ca8b-4c33-906c-52ad3e54d963   \n",
       "2             999  3e7d3b4b-ca8b-4c33-906c-52ad3e54d963   \n",
       "\n",
       "                          deployment_id  \n",
       "0  f02576ec-a345-44d4-b818-5fe802951b05  \n",
       "1  f02576ec-a345-44d4-b818-5fe802951b05  \n",
       "2  f02576ec-a345-44d4-b818-5fe802951b05  "
      ]
     },
     "execution_count": 59,
     "metadata": {},
     "output_type": "execute_result"
    }
   ],
   "source": [
    "subscription.drift_monitoring.get_table_content()"
   ]
  },
  {
   "cell_type": "markdown",
   "metadata": {},
   "source": [
    "## Configure Explainability"
   ]
  },
  {
   "cell_type": "markdown",
   "metadata": {},
   "source": [
    "Finally, we provide OpenScale with the training data to enable and configure the explainability features."
   ]
  },
  {
   "cell_type": "code",
   "execution_count": 60,
   "metadata": {
    "scrolled": true
   },
   "outputs": [],
   "source": [
    "from ibm_ai_openscale.supporting_classes import *\n",
    "subscription.explainability.enable(training_data=pd_data)"
   ]
  },
  {
   "cell_type": "code",
   "execution_count": 61,
   "metadata": {
    "scrolled": true
   },
   "outputs": [],
   "source": [
    "explainability_details = subscription.explainability.get_details()"
   ]
  },
  {
   "cell_type": "markdown",
   "metadata": {},
   "source": [
    "## Run explanation for sample record"
   ]
  },
  {
   "cell_type": "code",
   "execution_count": 62,
   "metadata": {},
   "outputs": [
    {
     "name": "stdout",
     "output_type": "stream",
     "text": [
      "f27ed9f8-d966-40d5-adbb-96b88f1e5980-1\n"
     ]
    }
   ],
   "source": [
    "transaction_id = subscription.payload_logging.get_table_content(limit=1)['scoring_id'].values[0]\n",
    "\n",
    "print(transaction_id)"
   ]
  },
  {
   "cell_type": "code",
   "execution_count": 63,
   "metadata": {},
   "outputs": [
    {
     "name": "stdout",
     "output_type": "stream",
     "text": [
      "\n",
      "\n",
      "====================================================================\n",
      "\n",
      " Looking for explanation for f27ed9f8-d966-40d5-adbb-96b88f1e5980-1 \n",
      "\n",
      "====================================================================\n",
      "\n",
      "\n",
      "\n",
      "in_progress................\n",
      "finished\n",
      "\n",
      "---------------------------\n",
      " Successfully finished run \n",
      "---------------------------\n",
      "\n",
      "\n"
     ]
    }
   ],
   "source": [
    "explain_run = subscription.explainability.run(transaction_id=transaction_id, background_mode=False)"
   ]
  },
  {
   "cell_type": "code",
   "execution_count": 64,
   "metadata": {},
   "outputs": [
    {
     "data": {
      "image/png": "[encoded data removed]",
      "text/plain": [
       "<Figure size 432x288 with 1 Axes>"
      ]
     },
     "metadata": {
      "needs_background": "light"
     },
     "output_type": "display_data"
    }
   ],
   "source": [
    "if explain_run == None:\n",
    "    # explanation didn't finish within 180 seconds, if explaination is still not finished give it a minute or so then re-run this cell\n",
    "    time.sleep(10)\n",
    "    explain_table = subscription.explainability.get_table_content(format='pandas')\n",
    "    explain_result = pd.DataFrame.from_dict(explain_table[explain_table['transaction_id']==transaction_id]['explanation'][0]['entity']['predictions'][0]['explanation_features'])\n",
    "else:\n",
    "    explain_result = pd.DataFrame.from_dict(explain_run['entity']['predictions'][0]['explanation_features'])\n",
    "\n",
    "explain_result.plot.barh(x='feature_name', y='weight', color='g', alpha=0.8);"
   ]
  },
  {
   "cell_type": "markdown",
   "metadata": {},
   "source": [
    "# Custom monitors and metrics <a name=\"custom\"></a>"
   ]
  },
  {
   "cell_type": "markdown",
   "metadata": {},
   "source": [
    "## Register custom monitor"
   ]
  },
  {
   "cell_type": "code",
   "execution_count": 65,
   "metadata": {},
   "outputs": [],
   "source": [
    "def get_definition(monitor_name):\n",
    "    monitors_definitions = ai_client.data_mart.monitors.get_details()['monitor_definitions']\n",
    "    \n",
    "    for definition in monitors_definitions:\n",
    "        if monitor_name == definition['entity']['name']:\n",
    "            return definition\n",
    "    \n",
    "    return None"
   ]
  },
  {
   "cell_type": "code",
   "execution_count": 66,
   "metadata": {},
   "outputs": [],
   "source": [
    "from ibm_ai_openscale.supporting_classes import Metric, Tag\n",
    "\n",
    "monitor_name = 'my model performance'\n",
    "metrics = [Metric(name='sensitivity', lower_limit_default=0.8), Metric(name='specificity', lower_limit_default=0.75)]\n",
    "tags = [Tag(name='region', description='customer geographical region')]\n",
    "\n",
    "existing_definition = get_definition(monitor_name)\n",
    "\n",
    "if existing_definition is None:\n",
    "    my_monitor = ai_client.data_mart.monitors.add(name=monitor_name, metrics=metrics, tags=tags)\n",
    "else:\n",
    "    my_monitor = existing_definition"
   ]
  },
  {
   "cell_type": "markdown",
   "metadata": {},
   "source": [
    "### List monitors"
   ]
  },
  {
   "cell_type": "markdown",
   "metadata": {},
   "source": [
    "### Get monitors uids and details"
   ]
  },
  {
   "cell_type": "code",
   "execution_count": 67,
   "metadata": {},
   "outputs": [
    {
     "name": "stdout",
     "output_type": "stream",
     "text": [
      "my_model_performance\n"
     ]
    }
   ],
   "source": [
    "monitor_uid = my_monitor['metadata']['guid']\n",
    "\n",
    "print(monitor_uid)"
   ]
  },
  {
   "cell_type": "code",
   "execution_count": 68,
   "metadata": {},
   "outputs": [
    {
     "name": "stdout",
     "output_type": "stream",
     "text": [
      "monitor definition details {'entity': {'metrics': [{'expected_direction': 'increasing', 'id': 'sensitivity', 'name': 'sensitivity', 'required': True, 'thresholds': [{'default': 0.8, 'type': 'lower_limit'}]}, {'expected_direction': 'increasing', 'id': 'specificity', 'name': 'specificity', 'required': True, 'thresholds': [{'default': 0.75, 'type': 'lower_limit'}]}], 'name': 'my model performance', 'tags': [{'description': 'customer geographical region', 'id': 'region', 'name': 'region', 'required': True}]}, 'metadata': {'guid': 'my_model_performance', 'url': '/v1/data_marts/00000000-0000-0000-0000-000000000000/monitor_definitions/my_model_performance', 'created_at': '2019-11-22T11:22:55.601Z'}}\n"
     ]
    }
   ],
   "source": [
    "my_monitor = ai_client.data_mart.monitors.get_details(monitor_uid=monitor_uid)\n",
    "print('monitor definition details', my_monitor)"
   ]
  },
  {
   "cell_type": "markdown",
   "metadata": {},
   "source": [
    "## Enable custom monitor for subscription"
   ]
  },
  {
   "cell_type": "code",
   "execution_count": 69,
   "metadata": {},
   "outputs": [],
   "source": [
    "from ibm_ai_openscale.supporting_classes import Threshold\n",
    "\n",
    "thresholds = [Threshold(metric_uid='sensitivity', lower_limit=0.9)]\n",
    "subscription.monitoring.enable(monitor_uid=monitor_uid, thresholds=thresholds)"
   ]
  },
  {
   "cell_type": "markdown",
   "metadata": {},
   "source": [
    "### Get monitor configuration details"
   ]
  },
  {
   "cell_type": "code",
   "execution_count": 70,
   "metadata": {},
   "outputs": [
    {
     "data": {
      "text/plain": [
       "{'enabled': True,\n",
       " 'monitor_definition': {'entity': {'metrics': [{'expected_direction': 'increasing',\n",
       "     'id': 'sensitivity',\n",
       "     'name': 'sensitivity',\n",
       "     'required': True,\n",
       "     'thresholds': [{'default': 0.9, 'type': 'lower_limit'}]},\n",
       "    {'expected_direction': 'increasing',\n",
       "     'id': 'specificity',\n",
       "     'name': 'specificity',\n",
       "     'required': True}],\n",
       "   'name': 'my model performance',\n",
       "   'tags': [{'description': 'customer geographical region',\n",
       "     'id': 'region',\n",
       "     'name': 'region',\n",
       "     'required': True}]},\n",
       "  'metadata': {'guid': 'my_model_performance',\n",
       "   'url': '/v1/data_marts/00000000-0000-0000-0000-000000000000/monitor_definitions/my_model_performance',\n",
       "   'created_at': '2019-11-22T11:22:55.601Z'}},\n",
       " 'thresholds': [{'metric_id': 'sensitivity',\n",
       "   'type': 'lower_limit',\n",
       "   'value': 0.9}]}"
      ]
     },
     "execution_count": 70,
     "metadata": {},
     "output_type": "execute_result"
    }
   ],
   "source": [
    "subscription.monitoring.get_details(monitor_uid=monitor_uid)"
   ]
  },
  {
   "cell_type": "markdown",
   "metadata": {},
   "source": [
    "## Storing custom metrics"
   ]
  },
  {
   "cell_type": "code",
   "execution_count": 71,
   "metadata": {},
   "outputs": [
    {
     "data": {
      "text/plain": [
       "[{'asset_id': 'deb87fe2-754b-44b1-8ef6-b3e374094004',\n",
       "  'binding_id': '999',\n",
       "  'measurement_id': 'ae5548c4-c7f1-43b9-837d-f748a937a30f',\n",
       "  'metrics': [{'region': 'us-south',\n",
       "    'sensitivity': 0.67,\n",
       "    'specificity': 0.78}],\n",
       "  'monitor_definition_id': 'my_model_performance',\n",
       "  'subscription_id': '3e7d3b4b-ca8b-4c33-906c-52ad3e54d963',\n",
       "  'timestamp': '2019-11-22T13:23:15.151566Z'}]"
      ]
     },
     "execution_count": 71,
     "metadata": {},
     "output_type": "execute_result"
    }
   ],
   "source": [
    "metrics = {\"specificity\": 0.78, \"sensitivity\": 0.67, \"region\": \"us-south\"}\n",
    "\n",
    "subscription.monitoring.store_metrics(monitor_uid=monitor_uid, metrics=metrics)"
   ]
  },
  {
   "cell_type": "markdown",
   "metadata": {},
   "source": [
    "### List and get custom metrics"
   ]
  },
  {
   "cell_type": "code",
   "execution_count": 72,
   "metadata": {},
   "outputs": [
    {
     "data": {
      "text/html": [
       "<HTML>\n",
       "        <body>\n",
       "            <h3>CustomMetrics (binding_id=999, subscription_id=3e7d3b4b-ca8b-4c33-906c-52ad3e54d963)</h3>\n",
       "            <table style='border: 1px solid #dddddd; font-family: Courier'>\n",
       "                <th style='border: 1px solid #dddddd'>ts</th><th style='border: 1px solid #dddddd'>id</th><th style='border: 1px solid #dddddd'>measurement_id</th><th style='border: 1px solid #dddddd'>value</th><th style='border: 1px solid #dddddd'>lower limit</th><th style='border: 1px solid #dddddd'>upper limit</th><th style='border: 1px solid #dddddd'>tags</th><th style='border: 1px solid #dddddd'>binding_id</th><th style='border: 1px solid #dddddd'>subscription_id</th><th style='border: 1px solid #dddddd'>deployment_id</th>\n",
       "                <tr><td style='border: 1px solid #dddddd'>2019-11-22 13:23:15.151566+00:00</td><td style='border: 1px solid #dddddd'>sensitivity</td><td style='border: 1px solid #dddddd'>ae5548c4-c7f1-43b9-837d-f748a937a30f</td><td style='border: 1px solid #dddddd'>0.67</td><td style='border: 1px solid #dddddd'>0.9</td><td style='border: 1px solid #dddddd'></td><td style='border: 1px solid #dddddd'>region: us-south</td><td style='border: 1px solid #dddddd'>999</td><td style='border: 1px solid #dddddd'>3e7d3b4b-ca8b-4c33-906c-52ad3e54d963</td><td style='border: 1px solid #dddddd'>f02576ec-a345-44d4-b818-5fe802951b05</td></tr><tr><td style='border: 1px solid #dddddd'>2019-11-22 13:23:15.151566+00:00</td><td style='border: 1px solid #dddddd'>specificity</td><td style='border: 1px solid #dddddd'>ae5548c4-c7f1-43b9-837d-f748a937a30f</td><td style='border: 1px solid #dddddd'>0.78</td><td style='border: 1px solid #dddddd'></td><td style='border: 1px solid #dddddd'></td><td style='border: 1px solid #dddddd'>region: us-south</td><td style='border: 1px solid #dddddd'>999</td><td style='border: 1px solid #dddddd'>3e7d3b4b-ca8b-4c33-906c-52ad3e54d963</td><td style='border: 1px solid #dddddd'>f02576ec-a345-44d4-b818-5fe802951b05</td></tr>\n",
       "            </table>\n",
       "        </body>\n",
       "        </HTML>"
      ],
      "text/plain": [
       "<IPython.core.display.HTML object>"
      ]
     },
     "metadata": {},
     "output_type": "display_data"
    }
   ],
   "source": [
    "subscription.monitoring.show_table(monitor_uid=monitor_uid)"
   ]
  },
  {
   "cell_type": "code",
   "execution_count": 73,
   "metadata": {},
   "outputs": [
    {
     "data": {
      "text/plain": [
       "[{'asset_id': 'deb87fe2-754b-44b1-8ef6-b3e374094004',\n",
       "  'binding_id': '999',\n",
       "  'tags': [{'id': 'region', 'value': 'us-south'}],\n",
       "  'ts': '2019-11-22T13:23:15.151566Z',\n",
       "  'measurement_id': 'ae5548c4-c7f1-43b9-837d-f748a937a30f',\n",
       "  'monitor_definition_id': 'my_model_performance',\n",
       "  'subscription_id': '3e7d3b4b-ca8b-4c33-906c-52ad3e54d963',\n",
       "  'metrics': [{'lower_limit': 0.9, 'id': 'sensitivity', 'value': 0.67},\n",
       "   {'id': 'specificity', 'value': 0.78}]}]"
      ]
     },
     "execution_count": 73,
     "metadata": {},
     "output_type": "execute_result"
    }
   ],
   "source": [
    "custom_metrics = subscription.monitoring.get_metrics(monitor_uid=monitor_uid, deployment_uid='credit')\n",
    "custom_metrics"
   ]
  },
  {
   "cell_type": "code",
   "execution_count": 74,
   "metadata": {},
   "outputs": [
    {
     "data": {
      "image/png": "[encoded data removed]",
      "text/plain": [
       "<Figure size 432x288 with 1 Axes>"
      ]
     },
     "metadata": {
      "needs_background": "light"
     },
     "output_type": "display_data"
    }
   ],
   "source": [
    "custom_metrics_pandas = subscription.monitoring.get_table_content(monitor_uid=monitor_uid)\n",
    "\n",
    "%matplotlib inline\n",
    "custom_metrics_pandas.plot.barh(x='id', y='value');"
   ]
  },
  {
   "cell_type": "markdown",
   "metadata": {},
   "source": [
    "# Payload analytics <a name=\"analytics\"></a>"
   ]
  },
  {
   "cell_type": "markdown",
   "metadata": {},
   "source": [
    "## Run data distributions calculation"
   ]
  },
  {
   "cell_type": "code",
   "execution_count": 75,
   "metadata": {},
   "outputs": [
    {
     "name": "stdout",
     "output_type": "stream",
     "text": [
      "\n",
      "\n",
      "===============================================================================\n",
      "\n",
      " Waiting for end of data distribution run db343667-31ea-4e94-b849-c84b3bb40aa8 \n",
      "\n",
      "===============================================================================\n",
      "\n",
      "\n",
      "\n",
      "running\n",
      "completed\n",
      "\n",
      "---------------------------\n",
      " Successfully finished run \n",
      "---------------------------\n",
      "\n",
      "\n"
     ]
    }
   ],
   "source": [
    "from datetime import datetime\n",
    "\n",
    "start_date = \"2018-01-01T00:00:00.00Z\"\n",
    "end_date = datetime.utcnow().isoformat() + \"Z\"\n",
    "\n",
    "sex_distribution = subscription.payload_logging.data_distribution.run(\n",
    "            start_date=start_date,\n",
    "            end_date=end_date,\n",
    "            group=['predictedLabel', 'Sex'],\n",
    "            agg=['count'])"
   ]
  },
  {
   "cell_type": "markdown",
   "metadata": {},
   "source": [
    "## Get data distributions as pandas dataframe"
   ]
  },
  {
   "cell_type": "code",
   "execution_count": 76,
   "metadata": {},
   "outputs": [
    {
     "data": {
      "text/html": [
       "<div>\n",
       "<style scoped>\n",
       "    .dataframe tbody tr th:only-of-type {\n",
       "        vertical-align: middle;\n",
       "    }\n",
       "\n",
       "    .dataframe tbody tr th {\n",
       "        vertical-align: top;\n",
       "    }\n",
       "\n",
       "    .dataframe thead th {\n",
       "        text-align: right;\n",
       "    }\n",
       "</style>\n",
       "<table border=\"1\" class=\"dataframe\">\n",
       "  <thead>\n",
       "    <tr style=\"text-align: right;\">\n",
       "      <th></th>\n",
       "      <th>predictedLabel</th>\n",
       "      <th>Sex</th>\n",
       "      <th>count</th>\n",
       "    </tr>\n",
       "  </thead>\n",
       "  <tbody>\n",
       "    <tr>\n",
       "      <th>0</th>\n",
       "      <td>No Risk</td>\n",
       "      <td>female</td>\n",
       "      <td>68</td>\n",
       "    </tr>\n",
       "    <tr>\n",
       "      <th>1</th>\n",
       "      <td>No Risk</td>\n",
       "      <td>male</td>\n",
       "      <td>100</td>\n",
       "    </tr>\n",
       "    <tr>\n",
       "      <th>2</th>\n",
       "      <td>Risk</td>\n",
       "      <td>female</td>\n",
       "      <td>6</td>\n",
       "    </tr>\n",
       "    <tr>\n",
       "      <th>3</th>\n",
       "      <td>Risk</td>\n",
       "      <td>male</td>\n",
       "      <td>34</td>\n",
       "    </tr>\n",
       "  </tbody>\n",
       "</table>\n",
       "</div>"
      ],
      "text/plain": [
       "  predictedLabel     Sex  count\n",
       "0        No Risk  female     68\n",
       "1        No Risk    male    100\n",
       "2           Risk  female      6\n",
       "3           Risk    male     34"
      ]
     },
     "execution_count": 76,
     "metadata": {},
     "output_type": "execute_result"
    }
   ],
   "source": [
    "sex_distribution_run_uid = sex_distribution['id']\n",
    "distributions_pd = subscription.payload_logging.data_distribution.get_run_result(run_id=sex_distribution_run_uid, format='pandas')\n",
    "distributions_pd"
   ]
  },
  {
   "cell_type": "code",
   "execution_count": 77,
   "metadata": {},
   "outputs": [
    {
     "data": {
      "image/png": "[encoded data removed]",
      "text/plain": [
       "<Figure size 432x288 with 1 Axes>"
      ]
     },
     "metadata": {
      "needs_background": "light"
     },
     "output_type": "display_data"
    }
   ],
   "source": [
    "subscription.payload_logging.data_distribution.show_chart(sex_distribution_run_uid);"
   ]
  },
  {
   "cell_type": "code",
   "execution_count": 78,
   "metadata": {},
   "outputs": [
    {
     "name": "stdout",
     "output_type": "stream",
     "text": [
      "\n",
      "\n",
      "===============================================================================\n",
      "\n",
      " Waiting for end of data distribution run 9ab7cf8f-8282-4076-ac84-395477a64e9c \n",
      "\n",
      "===============================================================================\n",
      "\n",
      "\n",
      "\n",
      "running\n",
      "completed\n",
      "\n",
      "---------------------------\n",
      " Successfully finished run \n",
      "---------------------------\n",
      "\n",
      "\n"
     ]
    }
   ],
   "source": [
    "credit_history_distribution = subscription.payload_logging.data_distribution.run(\n",
    "            start_date=start_date,\n",
    "            end_date=end_date,\n",
    "            group=['predictedLabel', 'CreditHistory'],\n",
    "            agg=['count'])"
   ]
  },
  {
   "cell_type": "code",
   "execution_count": 79,
   "metadata": {},
   "outputs": [
    {
     "data": {
      "image/png": "[encoded data removed]",
      "text/plain": [
       "<Figure size 432x288 with 1 Axes>"
      ]
     },
     "metadata": {
      "needs_background": "light"
     },
     "output_type": "display_data"
    }
   ],
   "source": [
    "credit_history_distribution_run_uid = credit_history_distribution['id']\n",
    "\n",
    "subscription.payload_logging.data_distribution.show_chart(credit_history_distribution_run_uid);"
   ]
  },
  {
   "cell_type": "markdown",
   "metadata": {},
   "source": [
    "# Setup business Application <a name=\"BKPIs\"></a>"
   ]
  },
  {
   "cell_type": "code",
   "execution_count": 80,
   "metadata": {},
   "outputs": [],
   "source": [
    "from requests.auth import HTTPBasicAuth\n",
    "\n",
    "def create_token():\n",
    "    header = {\n",
    "                    \"Content-Type\": \"application/x-www-form-urlencoded\",\n",
    "                    \"Accept\": \"application/json\"\n",
    "    }\n",
    "\n",
    "    response = requests.get(\n",
    "            WOS_CREDENTIALS['url'] + '/v1/preauth/validateAuth',\n",
    "            headers=header,\n",
    "            auth=HTTPBasicAuth(\n",
    "                WOS_CREDENTIALS['username'],\n",
    "                WOS_CREDENTIALS['password']\n",
    "            ),\n",
    "            verify=False)\n",
    "\n",
    "    response = handle_response(200, 'access token', response, True)\n",
    "    token = response['accessToken']\n",
    "\n",
    "    return token"
   ]
  },
  {
   "cell_type": "code",
   "execution_count": 81,
   "metadata": {},
   "outputs": [],
   "source": [
    "data_mart_id = subscription.get_details()['metadata']['url'].split('/service_bindings')[0].split('marts/')[1]"
   ]
  },
  {
   "cell_type": "code",
   "execution_count": 82,
   "metadata": {},
   "outputs": [],
   "source": [
    "business_application_url = \"/\".join((WOS_CREDENTIALS['url'], data_mart_id,\"v2\", \"business_applications\"))"
   ]
  },
  {
   "cell_type": "code",
   "execution_count": 83,
   "metadata": {},
   "outputs": [],
   "source": [
    "payload_business_app = {\n",
    "    \"name\": \"Credit Risk Application - Tutorial\",\n",
    "    \"description\": \"Test Business Application\",\n",
    "    \"payload_fields\": [\n",
    "        {\n",
    "            \"name\": \"LoanDuration\",\n",
    "            \"type\": \"number\",\n",
    "        },\n",
    "        {\n",
    "            \"name\": \"LoanPurpose\",\n",
    "            \"type\": \"string\",\n",
    "        },\n",
    "        {\n",
    "            \"name\": \"LoanAmount\",\n",
    "            \"type\": \"number\",\n",
    "        },\n",
    "        {\n",
    "            \"name\": \"InstallmentPercent\",\n",
    "            \"type\": \"number\",\n",
    "        },\n",
    "        {\n",
    "            \"name\": \"AcceptedPercent\",\n",
    "            \"type\": \"number\",\n",
    "        },\n",
    "         {\n",
    "            \"name\": \"Accepted\",\n",
    "            \"type\": \"number\",\n",
    "        },\n",
    "        {\n",
    "            \"name\": \"AmountGranted\",\n",
    "            \"type\": \"number\",\n",
    "        },\n",
    "        {\n",
    "            \"name\": \"transaction_id\",\n",
    "            \"type\": \"string\",\n",
    "        }     \n",
    "    ],\n",
    "    \"business_metrics\": [\n",
    "        {\n",
    "            \"name\": \"Accepted Credits\",\n",
    "            \"expected_direction\": \"increasing\",\n",
    "            \"thresholds\": [\n",
    "                {\n",
    "                    \"type\": \"lower_limit\",\n",
    "                    \"default\": 2150,\n",
    "                }\n",
    "            ],\n",
    "            \"required\": False,\n",
    "            \"calculation_metadata\": {\n",
    "                \"field_name\": \"Accepted\",\n",
    "                \"aggregation\": \"sum\",\n",
    "                \"time_frame\": {\n",
    "                    \"count\": 1,\n",
    "                    \"unit\": \"day\"\n",
    "                }\n",
    "            }\n",
    "        },\n",
    "        {\n",
    "            \"name\": \"Credit Amount Granted\",\n",
    "            \"expected_direction\": \"increasing\",\n",
    "            \"thresholds\": [\n",
    "                {\n",
    "                    \"type\": \"lower_limit\",\n",
    "                    \"default\": 5500000,\n",
    "                }\n",
    "            ],\n",
    "            \"required\": False,\n",
    "            \"calculation_metadata\": {\n",
    "                \"field_name\": \"AmountGranted\",\n",
    "                \"aggregation\": \"sum\",\n",
    "                \"time_frame\": {\n",
    "                    \"count\": 1,\n",
    "                    \"unit\": \"day\"\n",
    "                }\n",
    "            }\n",
    "        }\n",
    "    ],\n",
    "    \"subscription_ids\": [subscription.uid]\n",
    "}\n",
    "iam_token = create_token()\n",
    "iam_headers = {\n",
    "    'Content-Type': 'application/json',\n",
    "    'Authorization': 'Bearer %s' % iam_token\n",
    "}\n",
    "\n",
    "response = requests.post(url=business_application_url, headers=iam_headers, json=payload_business_app, verify=False)\n",
    "business_application_id = response.json()['metadata']['id']\n",
    "time.sleep(10)"
   ]
  },
  {
   "cell_type": "markdown",
   "metadata": {},
   "source": [
    "### Get business application details:"
   ]
  },
  {
   "cell_type": "code",
   "execution_count": 84,
   "metadata": {},
   "outputs": [],
   "source": [
    "business_application_details_url = \"/\".join((business_application_url, business_application_id))"
   ]
  },
  {
   "cell_type": "code",
   "execution_count": 85,
   "metadata": {},
   "outputs": [
    {
     "name": "stdout",
     "output_type": "stream",
     "text": [
      "active\n"
     ]
    }
   ],
   "source": [
    "business_app_status = None\n",
    "while business_app_status != 'active':\n",
    "    business_application_details = requests.get(url = business_application_details_url, headers=iam_headers, verify=False).json()\n",
    "    business_app_status = business_application_details['entity']['status']['state']\n",
    "    if business_app_status != 'active':\n",
    "        print(datetime.utcnow().strftime('%H:%M:%S'), business_app_status)\n",
    "        time.sleep(10)\n",
    "print(business_app_status)"
   ]
  },
  {
   "cell_type": "code",
   "execution_count": 86,
   "metadata": {},
   "outputs": [
    {
     "name": "stdout",
     "output_type": "stream",
     "text": [
      "business_payload_data_set_id:  56dc943c-b27a-4594-a7bf-af51a088a6d8\n",
      "business_metrics_monitor_instance_id:  d628d19d-83bb-4fa2-af7b-6d4211a9d81b\n"
     ]
    }
   ],
   "source": [
    "business_payload_data_set_id = business_application_details['entity']['business_payload_data_set_id']\n",
    "business_metrics_monitor_instance_id =  business_application_details['entity']['business_metrics_monitor_instance_id']\n",
    "print(\"business_payload_data_set_id: \", business_payload_data_set_id)\n",
    "print(\"business_metrics_monitor_instance_id: \", business_metrics_monitor_instance_id)"
   ]
  },
  {
   "cell_type": "code",
   "execution_count": 87,
   "metadata": {},
   "outputs": [],
   "source": [
    "monitor_instances_url = \"/\".join((WOS_CREDENTIALS['url'], data_mart_id,\"v2\", \"monitor_instances\" ))"
   ]
  },
  {
   "cell_type": "code",
   "execution_count": 88,
   "metadata": {},
   "outputs": [],
   "source": [
    "response = requests.get(url=monitor_instances_url, headers=iam_headers, verify=False)\n",
    "instances = response.json()['monitor_instances']\n",
    "\n",
    "for instance in instances:\n",
    "    if 'managed_by' in instance['entity'] and instance['entity']['managed_by'] == business_application_id:\n",
    "        if instance['entity']['monitor_definition_id'] == 'correlations':\n",
    "            corr_monitor_instance_id = instance['metadata']['id']\n",
    "\n",
    "    if instance['entity']['monitor_definition_id'] == 'drift':\n",
    "        drift_instance_id = instance['metadata']['id']"
   ]
  },
  {
   "cell_type": "markdown",
   "metadata": {},
   "source": [
    "Scoring payload and business payload with `transaction_id` is needed to run the Business Application. Let's load the historical data in next step. Run of Business Application and Correlation Monitor can be found after next section named 'Historical data'."
   ]
  },
  {
   "cell_type": "markdown",
   "metadata": {},
   "source": [
    "# Historical data <a name=\"historical\"></a>"
   ]
  },
  {
   "cell_type": "code",
   "execution_count": 89,
   "metadata": {
    "scrolled": true
   },
   "outputs": [],
   "source": [
    "historyDays = 7"
   ]
  },
  {
   "cell_type": "markdown",
   "metadata": {},
   "source": [
    " ## Insert historical payloads"
   ]
  },
  {
   "cell_type": "markdown",
   "metadata": {},
   "source": [
    "The next section of the notebook downloads and writes historical data to the payload and measurement tables to simulate a production model that has been monitored and receiving regular traffic for the last seven days. This historical data can be viewed in the Watson OpenScale user interface. The code uses the Python and REST APIs to write this data."
   ]
  },
  {
   "cell_type": "code",
   "execution_count": null,
   "metadata": {
    "scrolled": true
   },
   "outputs": [],
   "source": [
    "!rm history_payloads_with_transaction_*.json\n",
    "!wget https://raw.githubusercontent.com/pmservice/ai-openscale-tutorials/master/assets/historical_data/german_credit_risk/wml/fastpath/history_payloads_with_transaction_id_0.json\n",
    "!wget https://raw.githubusercontent.com/pmservice/ai-openscale-tutorials/master/assets/historical_data/german_credit_risk/wml/fastpath/history_payloads_with_transaction_id_1.json\n",
    "!wget https://raw.githubusercontent.com/pmservice/ai-openscale-tutorials/master/assets/historical_data/german_credit_risk/wml/fastpath/history_payloads_with_transaction_id_2.json\n",
    "!wget https://raw.githubusercontent.com/pmservice/ai-openscale-tutorials/master/assets/historical_data/german_credit_risk/wml/fastpath/history_payloads_with_transaction_id_3.json\n",
    "!wget https://raw.githubusercontent.com/pmservice/ai-openscale-tutorials/master/assets/historical_data/german_credit_risk/wml/fastpath/history_payloads_with_transaction_id_4.json\n",
    "!wget https://raw.githubusercontent.com/pmservice/ai-openscale-tutorials/master/assets/historical_data/german_credit_risk/wml/fastpath/history_payloads_with_transaction_id_5.json\n",
    "!wget https://raw.githubusercontent.com/pmservice/ai-openscale-tutorials/master/assets/historical_data/german_credit_risk/wml/fastpath/history_payloads_with_transaction_id_6.json"
   ]
  },
  {
   "cell_type": "code",
   "execution_count": 91,
   "metadata": {},
   "outputs": [
    {
     "name": "stdout",
     "output_type": "stream",
     "text": [
      "Loading historical scoring payload...\n",
      "Day 0 injection.\n",
      "Daily loading finished.\n",
      "Day 1 injection.\n",
      "Daily loading finished.\n",
      "Day 2 injection.\n",
      "Daily loading finished.\n",
      "Day 3 injection.\n",
      "Daily loading finished.\n",
      "Day 4 injection.\n",
      "Daily loading finished.\n",
      "Day 5 injection.\n",
      "Daily loading finished.\n",
      "Day 6 injection.\n",
      "Daily loading finished.\n"
     ]
    }
   ],
   "source": [
    "from ibm_ai_openscale.utils.inject_demo_data import DemoData\n",
    "import os\n",
    "\n",
    "historicalData = DemoData(WOS_CREDENTIALS, ai_client)\n",
    "historical_data_path=os.getcwd()\n",
    "\n",
    "historicalData.load_historical_scoring_payload(subscription, deployment_uid,file_path=historical_data_path, day_template=\"history_payloads_with_transaction_id_{}.json\" )"
   ]
  },
  {
   "cell_type": "code",
   "execution_count": 92,
   "metadata": {
    "scrolled": true
   },
   "outputs": [
    {
     "name": "stdout",
     "output_type": "stream",
     "text": [
      "00000000-0000-0000-0000-000000000000\n"
     ]
    }
   ],
   "source": [
    "data_mart_id = subscription.get_details()['metadata']['url'].split('/service_bindings')[0].split('marts/')[1]\n",
    "print(data_mart_id)"
   ]
  },
  {
   "cell_type": "code",
   "execution_count": 93,
   "metadata": {
    "scrolled": true
   },
   "outputs": [],
   "source": [
    "performance_metrics_url = WOS_CREDENTIALS['url'] + subscription.get_details()['metadata']['url'].split('/service_bindings')[0] + '/metrics'"
   ]
  },
  {
   "cell_type": "markdown",
   "metadata": {},
   "source": [
    "## Insert historical fairness metrics"
   ]
  },
  {
   "cell_type": "code",
   "execution_count": 94,
   "metadata": {
    "scrolled": true
   },
   "outputs": [
    {
     "name": "stdout",
     "output_type": "stream",
     "text": [
      "Warning: Failed to set locale category LC_NUMERIC to en_PL.\n",
      "Warning: Failed to set locale category LC_TIME to en_PL.\n",
      "Warning: Failed to set locale category LC_COLLATE to en_PL.\n",
      "Warning: Failed to set locale category LC_MONETARY to en_PL.\n",
      "Warning: Failed to set locale category LC_MESSAGES to en_PL.\n",
      "--2019-11-22 14:25:24--  https://raw.githubusercontent.com/pmservice/ai-openscale-tutorials/master/assets/historical_data/german_credit_risk/wml/history_fairness.json\n",
      "Resolving raw.githubusercontent.com (raw.githubusercontent.com)... 199.232.36.133\n",
      "Connecting to raw.githubusercontent.com (raw.githubusercontent.com)|199.232.36.133|:443... connected.\n",
      "HTTP request sent, awaiting response... 200 OK\n",
      "Length: 1424078 (1.4M) [text/plain]\n",
      "Saving to: ‘history_fairness.json’\n",
      "\n",
      "history_fairness.js 100%[===================>]   1.36M   748KB/s    in 1.9s    \n",
      "\n",
      "2019-11-22 14:25:26 (748 KB/s) - ‘history_fairness.json’ saved [1424078/1424078]\n",
      "\n"
     ]
    }
   ],
   "source": [
    "!rm history_fairness.json\n",
    "!wget https://raw.githubusercontent.com/pmservice/ai-openscale-tutorials/master/assets/historical_data/german_credit_risk/wml/history_fairness.json"
   ]
  },
  {
   "cell_type": "code",
   "execution_count": 95,
   "metadata": {
    "scrolled": true
   },
   "outputs": [
    {
     "name": "stdout",
     "output_type": "stream",
     "text": [
      "Loading day 1\n",
      "Loading day 2\n",
      "Loading day 3\n",
      "Loading day 4\n",
      "Loading day 5\n",
      "Loading day 6\n",
      "Loading day 7\n",
      "Finished\n"
     ]
    }
   ],
   "source": [
    "iam_token = create_token()\n",
    "iam_headers = {\n",
    "    'Content-Type': 'application/json',\n",
    "    'Authorization': 'Bearer %s' % iam_token\n",
    "}\n",
    "\n",
    "with open('history_fairness.json', 'r') as history_file:\n",
    "    payloads = json.load(history_file)\n",
    "\n",
    "for day in range(historyDays):\n",
    "    print('Loading day', day + 1)\n",
    "    for hour in range(24):\n",
    "        score_time = (datetime.utcnow() + timedelta(hours=(-(24*day + hour + 1)))).strftime('%Y-%m-%dT%H:%M:%SZ')\n",
    "        index = (day * 24 + hour) % len(payloads) # wrap around and reuse values if needed\n",
    "        \n",
    "        qualityMetric = {\n",
    "            'metric_type': 'fairness',\n",
    "            'binding_id': binding_uid,\n",
    "            'timestamp': score_time,\n",
    "            'subscription_id': model_uid,\n",
    "            'asset_revision': model_uid,\n",
    "            'deployment_id': deployment_uid,\n",
    "            'value': payloads[index]\n",
    "        }\n",
    "\n",
    "        response = requests.post(performance_metrics_url, json=[qualityMetric], headers=iam_headers, verify=False)\n",
    "\n",
    "print('Finished')"
   ]
  },
  {
   "cell_type": "markdown",
   "metadata": {},
   "source": [
    "## Insert historical debias metrics"
   ]
  },
  {
   "cell_type": "code",
   "execution_count": 96,
   "metadata": {},
   "outputs": [
    {
     "name": "stdout",
     "output_type": "stream",
     "text": [
      "Warning: Failed to set locale category LC_NUMERIC to en_PL.\n",
      "Warning: Failed to set locale category LC_TIME to en_PL.\n",
      "Warning: Failed to set locale category LC_COLLATE to en_PL.\n",
      "Warning: Failed to set locale category LC_MONETARY to en_PL.\n",
      "Warning: Failed to set locale category LC_MESSAGES to en_PL.\n",
      "--2019-11-22 14:28:58--  https://raw.githubusercontent.com/pmservice/ai-openscale-tutorials/master/assets/historical_data/german_credit_risk/wml/history_debias.json\n",
      "Resolving raw.githubusercontent.com (raw.githubusercontent.com)... 199.232.36.133\n",
      "Connecting to raw.githubusercontent.com (raw.githubusercontent.com)|199.232.36.133|:443... connected.\n",
      "HTTP request sent, awaiting response... 200 OK\n",
      "Length: 565971 (553K) [text/plain]\n",
      "Saving to: ‘history_debias.json’\n",
      "\n",
      "history_debias.json 100%[===================>] 552.71K   452KB/s    in 1.2s    \n",
      "\n",
      "2019-11-22 14:29:00 (452 KB/s) - ‘history_debias.json’ saved [565971/565971]\n",
      "\n"
     ]
    }
   ],
   "source": [
    "!rm history_debias.json\n",
    "!wget https://raw.githubusercontent.com/pmservice/ai-openscale-tutorials/master/assets/historical_data/german_credit_risk/wml/history_debias.json"
   ]
  },
  {
   "cell_type": "code",
   "execution_count": 97,
   "metadata": {},
   "outputs": [
    {
     "name": "stdout",
     "output_type": "stream",
     "text": [
      "Loading day 1\n",
      "Loading day 2\n",
      "Loading day 3\n",
      "Loading day 4\n",
      "Loading day 5\n",
      "Loading day 6\n",
      "Loading day 7\n",
      "Finished\n"
     ]
    }
   ],
   "source": [
    "iam_token = create_token()\n",
    "iam_headers = {\n",
    "    'Content-Type': 'application/json',\n",
    "    'Authorization': 'Bearer %s' % iam_token\n",
    "}\n",
    "\n",
    "with open('history_debias.json', 'r') as history_file:\n",
    "    payloads = json.load(history_file)\n",
    "\n",
    "for day in range(historyDays):\n",
    "    print('Loading day', day + 1)\n",
    "    for hour in range(24):\n",
    "        score_time = (datetime.utcnow() + timedelta(hours=(-(24*day + hour + 1)))).strftime('%Y-%m-%dT%H:%M:%SZ')\n",
    "        index = (day * 24 + hour) % len(payloads) # wrap around and reuse values if needed\n",
    "\n",
    "        qualityMetric = {\n",
    "            'metric_type': 'debiased_fairness',\n",
    "            'binding_id': binding_uid,\n",
    "            'timestamp': score_time,\n",
    "            'subscription_id': model_uid,\n",
    "            'asset_revision': model_uid,\n",
    "            'deployment_id': deployment_uid,\n",
    "            'value': payloads[index]\n",
    "        }\n",
    "\n",
    "        response = requests.post(performance_metrics_url, json=[qualityMetric], headers=iam_headers, verify=False)\n",
    "print('Finished')"
   ]
  },
  {
   "cell_type": "markdown",
   "metadata": {},
   "source": [
    "## Insert historical quality metrics"
   ]
  },
  {
   "cell_type": "code",
   "execution_count": 98,
   "metadata": {
    "scrolled": false
   },
   "outputs": [
    {
     "name": "stdout",
     "output_type": "stream",
     "text": [
      "Day 1\n",
      "Day 2\n",
      "Day 3\n",
      "Day 4\n",
      "Day 5\n",
      "Day 6\n",
      "Day 7\n",
      "Finished\n"
     ]
    }
   ],
   "source": [
    "iam_token = create_token()\n",
    "iam_headers = {\n",
    "    'Content-Type': 'application/json',\n",
    "    'Authorization': 'Bearer %s' % iam_token\n",
    "}\n",
    "\n",
    "measurements = [0.76, 0.78, 0.68, 0.72, 0.73, 0.77, 0.80]\n",
    "for day in range(historyDays):\n",
    "    print('Day', day + 1)\n",
    "    for hour in range(24):\n",
    "        score_time = (datetime.utcnow() + timedelta(hours=(-(24*day + hour + 1)))).strftime('%Y-%m-%dT%H:%M:%SZ')\n",
    "        qualityMetric = {\n",
    "            'metric_type': 'quality',\n",
    "            'binding_id': binding_uid,\n",
    "            'timestamp': score_time,\n",
    "            'subscription_id': model_uid,\n",
    "            'asset_revision': model_uid,\n",
    "            'deployment_id': deployment_uid,\n",
    "            'value': {\n",
    "                'quality': measurements[day],\n",
    "                'threshold': 0.7,\n",
    "                'metrics': [\n",
    "                    {\n",
    "                        'name': 'auroc',\n",
    "                        'value': measurements[day],\n",
    "                        'threshold': 0.7\n",
    "                    }\n",
    "                ]\n",
    "            }\n",
    "        }\n",
    "\n",
    "        response = requests.post(performance_metrics_url, json=[qualityMetric], headers=iam_headers, verify=False)\n",
    "print('Finished')"
   ]
  },
  {
   "cell_type": "markdown",
   "metadata": {},
   "source": [
    "## Insert historical confusion matrixes"
   ]
  },
  {
   "cell_type": "code",
   "execution_count": 99,
   "metadata": {},
   "outputs": [
    {
     "name": "stdout",
     "output_type": "stream",
     "text": [
      "Warning: Failed to set locale category LC_NUMERIC to en_PL.\n",
      "Warning: Failed to set locale category LC_TIME to en_PL.\n",
      "Warning: Failed to set locale category LC_COLLATE to en_PL.\n",
      "Warning: Failed to set locale category LC_MONETARY to en_PL.\n",
      "Warning: Failed to set locale category LC_MESSAGES to en_PL.\n",
      "--2019-11-22 14:33:54--  https://raw.githubusercontent.com/pmservice/ai-openscale-tutorials/master/assets/historical_data/german_credit_risk/wos/history_quality_metrics.json\n",
      "Resolving raw.githubusercontent.com (raw.githubusercontent.com)... 199.232.36.133\n",
      "Connecting to raw.githubusercontent.com (raw.githubusercontent.com)|199.232.36.133|:443... connected.\n",
      "HTTP request sent, awaiting response... 200 OK\n",
      "Length: 80099 (78K) [text/plain]\n",
      "Saving to: ‘history_quality_metrics.json’\n",
      "\n",
      "history_quality_met 100%[===================>]  78.22K   262KB/s    in 0.3s    \n",
      "\n",
      "2019-11-22 14:33:56 (262 KB/s) - ‘history_quality_metrics.json’ saved [80099/80099]\n",
      "\n"
     ]
    }
   ],
   "source": [
    "!rm history_quality_metrics.json\n",
    "!wget https://raw.githubusercontent.com/pmservice/ai-openscale-tutorials/master/assets/historical_data/german_credit_risk/wos/history_quality_metrics.json"
   ]
  },
  {
   "cell_type": "code",
   "execution_count": 100,
   "metadata": {},
   "outputs": [],
   "source": [
    "measurements_url = WOS_CREDENTIALS['url'] + subscription.get_details()['metadata']['url'].split('/service_bindings')[0] + '/measurements'"
   ]
  },
  {
   "cell_type": "code",
   "execution_count": 101,
   "metadata": {},
   "outputs": [
    {
     "name": "stdout",
     "output_type": "stream",
     "text": [
      "Day 1\n",
      "Day 2\n",
      "Day 3\n",
      "Day 4\n",
      "Day 5\n",
      "Day 6\n",
      "Day 7\n",
      "Finished\n"
     ]
    }
   ],
   "source": [
    "with open('history_quality_metrics.json') as json_file:\n",
    "    records = json.load(json_file)\n",
    "\n",
    "for day in range(historyDays):\n",
    "    index = 0\n",
    "    measurments = []\n",
    "    print('Day', day + 1)\n",
    "    \n",
    "    for hour in range(24):\n",
    "        score_time = (datetime.utcnow() + timedelta(hours=(-(24*day + hour + 1)))).strftime('%Y-%m-%dT%H:%M:%SZ')\n",
    "\n",
    "        measurement = {\n",
    "            \"monitor_definition_id\": 'quality',\n",
    "            \"binding_id\": subscription.binding_uid,\n",
    "            \"subscription_id\": subscription.uid,\n",
    "            \"asset_id\": subscription.source_uid,\n",
    "            'metrics': [records[index]['metrics']],\n",
    "            'sources': [records[index]['sources']],\n",
    "            'timestamp': score_time\n",
    "        }\n",
    "\n",
    "        measurments.append(measurement)\n",
    "        index+=1\n",
    "\n",
    "    response = requests.post(measurements_url, json=measurments, headers=ai_client._get_headers(), verify=False)\n",
    "\n",
    "print('Finished')"
   ]
  },
  {
   "cell_type": "markdown",
   "metadata": {},
   "source": [
    "## Insert historical performance metrics"
   ]
  },
  {
   "cell_type": "code",
   "execution_count": 102,
   "metadata": {
    "scrolled": true
   },
   "outputs": [
    {
     "name": "stdout",
     "output_type": "stream",
     "text": [
      "Day 1\n",
      "Day 2\n",
      "Day 3\n",
      "Day 4\n",
      "Day 5\n",
      "Day 6\n",
      "Day 7\n",
      "Finished\n"
     ]
    }
   ],
   "source": [
    "iam_token = create_token()\n",
    "iam_headers = {\n",
    "    'Content-Type': 'application/json',\n",
    "    'Authorization': 'Bearer %s' % iam_token\n",
    "}\n",
    "\n",
    "for day in range(historyDays):\n",
    "    print('Day', day + 1)\n",
    "    for hour in range(24):\n",
    "        score_time = (datetime.utcnow() + timedelta(hours=(-(24*day + hour + 1)))).strftime('%Y-%m-%dT%H:%M:%SZ')\n",
    "        score_count = random.randint(60, 600)\n",
    "        score_resp = random.uniform(60, 300)\n",
    "\n",
    "        performanceMetric = {\n",
    "            'metric_type': 'performance',\n",
    "            'binding_id': binding_uid,\n",
    "            'timestamp': score_time,\n",
    "            'subscription_id': model_uid,\n",
    "            'asset_revision': model_uid,\n",
    "            'deployment_id': deployment_uid,\n",
    "            'value': {\n",
    "                'response_time': score_resp,\n",
    "                'records': score_count\n",
    "            }\n",
    "        }\n",
    "\n",
    "        response = requests.post(performance_metrics_url, json=[performanceMetric], headers=iam_headers, verify=False)\n",
    "print('Finished')"
   ]
  },
  {
   "cell_type": "markdown",
   "metadata": {},
   "source": [
    "## Insert historical manual labeling"
   ]
  },
  {
   "cell_type": "code",
   "execution_count": 103,
   "metadata": {},
   "outputs": [],
   "source": [
    "manual_labeling_url = WOS_CREDENTIALS['url'] + subscription.get_details()['metadata']['url'].split('/service_bindings')[0] + '/manual_labelings'"
   ]
  },
  {
   "cell_type": "code",
   "execution_count": 104,
   "metadata": {},
   "outputs": [
    {
     "name": "stdout",
     "output_type": "stream",
     "text": [
      "Warning: Failed to set locale category LC_NUMERIC to en_PL.\n",
      "Warning: Failed to set locale category LC_TIME to en_PL.\n",
      "Warning: Failed to set locale category LC_COLLATE to en_PL.\n",
      "Warning: Failed to set locale category LC_MONETARY to en_PL.\n",
      "Warning: Failed to set locale category LC_MESSAGES to en_PL.\n",
      "--2019-11-22 14:36:36--  https://raw.githubusercontent.com/pmservice/ai-openscale-tutorials/master/assets/historical_data/german_credit_risk/wml/history_manual_labeling.json\n",
      "Resolving raw.githubusercontent.com (raw.githubusercontent.com)... 199.232.36.133\n",
      "Connecting to raw.githubusercontent.com (raw.githubusercontent.com)|199.232.36.133|:443... connected.\n",
      "HTTP request sent, awaiting response... 200 OK\n",
      "Length: 947956 (926K) [text/plain]\n",
      "Saving to: ‘history_manual_labeling.json’\n",
      "\n",
      "history_manual_labe 100%[===================>] 925.74K   562KB/s    in 1.6s    \n",
      "\n",
      "2019-11-22 14:36:39 (562 KB/s) - ‘history_manual_labeling.json’ saved [947956/947956]\n",
      "\n"
     ]
    }
   ],
   "source": [
    "!rm history_manual_labeling.json\n",
    "!wget https://raw.githubusercontent.com/pmservice/ai-openscale-tutorials/master/assets/historical_data/german_credit_risk/wml/history_manual_labeling.json"
   ]
  },
  {
   "cell_type": "code",
   "execution_count": 105,
   "metadata": {
    "scrolled": true
   },
   "outputs": [
    {
     "name": "stdout",
     "output_type": "stream",
     "text": [
      "Loading day 1\n",
      "Loading day 2\n",
      "Loading day 3\n",
      "Loading day 4\n",
      "Loading day 5\n",
      "Loading day 6\n",
      "Loading day 7\n",
      "Finished\n"
     ]
    }
   ],
   "source": [
    "iam_token = create_token()\n",
    "iam_headers = {\n",
    "    'Content-Type': 'application/json',\n",
    "    'Authorization': 'Bearer %s' % iam_token\n",
    "}\n",
    "\n",
    "with open('history_manual_labeling.json', 'r') as history_file:\n",
    "    records = json.load(history_file)\n",
    "\n",
    "for day in range(historyDays):\n",
    "    print('Loading day', day + 1)\n",
    "    record_json = []\n",
    "    for hour in range(24):\n",
    "        for record in records:\n",
    "            if record['fastpath_history_day'] == day and record['fastpath_history_hour'] == hour:\n",
    "                record['binding_id'] = binding_uid\n",
    "                record['subscription_id'] = model_uid\n",
    "                record['asset_revision'] = model_uid\n",
    "                record['deployment_id'] = deployment_uid\n",
    "                record['scoring_timestamp'] = (datetime.utcnow() + timedelta(hours=(-(24*day + hour + 1)))).strftime('%Y-%m-%dT%H:%M:%SZ')\n",
    "                record_json.append(record)\n",
    "    response = requests.post(manual_labeling_url, json=record_json, headers=iam_headers, verify=False)\n",
    "\n",
    "print('Finished')"
   ]
  },
  {
   "cell_type": "markdown",
   "metadata": {},
   "source": [
    "## Insert historical drift measurements"
   ]
  },
  {
   "cell_type": "code",
   "execution_count": null,
   "metadata": {},
   "outputs": [],
   "source": [
    "!rm history_drift_measurement_*.json\n",
    "!wget https://raw.githubusercontent.com/pmservice/ai-openscale-tutorials/master/assets/historical_data/german_credit_risk/wos/history_drift_measurement_0.json\n",
    "!wget https://raw.githubusercontent.com/pmservice/ai-openscale-tutorials/master/assets/historical_data/german_credit_risk/wos/history_drift_measurement_1.json\n",
    "!wget https://raw.githubusercontent.com/pmservice/ai-openscale-tutorials/master/assets/historical_data/german_credit_risk/wos/history_drift_measurement_2.json\n",
    "!wget https://raw.githubusercontent.com/pmservice/ai-openscale-tutorials/master/assets/historical_data/german_credit_risk/wos/history_drift_measurement_3.json\n",
    "!wget https://raw.githubusercontent.com/pmservice/ai-openscale-tutorials/master/assets/historical_data/german_credit_risk/wos/history_drift_measurement_4.json\n",
    "!wget https://raw.githubusercontent.com/pmservice/ai-openscale-tutorials/master/assets/historical_data/german_credit_risk/wos/history_drift_measurement_5.json\n",
    "!wget https://raw.githubusercontent.com/pmservice/ai-openscale-tutorials/master/assets/historical_data/german_credit_risk/wos/history_drift_measurement_6.json"
   ]
  },
  {
   "cell_type": "code",
   "execution_count": 107,
   "metadata": {},
   "outputs": [
    {
     "name": "stdout",
     "output_type": "stream",
     "text": [
      "Loading day 1\n",
      "Daily loading finished.\n",
      "Loading day 2\n",
      "Daily loading finished.\n",
      "Loading day 3\n",
      "Daily loading finished.\n",
      "Loading day 4\n",
      "Daily loading finished.\n",
      "Loading day 5\n",
      "Daily loading finished.\n",
      "Loading day 6\n",
      "Daily loading finished.\n",
      "Loading day 7\n",
      "Daily loading finished.\n"
     ]
    }
   ],
   "source": [
    "iam_token = create_token()\n",
    "iam_headers = {\n",
    "    'Content-Type': 'application/json',\n",
    "    'Authorization': 'Bearer %s' % iam_token\n",
    "}\n",
    "\n",
    "\n",
    "for day in range(historyDays):\n",
    "    measurements = []\n",
    "\n",
    "    with open(\"history_drift_measurement_{}.json\".format(day), 'r') as history_file:\n",
    "        drift_daily_measurements = json.load(history_file)\n",
    "    print('Loading day', day + 1)\n",
    "\n",
    "    #Historical data contains 8 records per day - each represents 3 hour drift window.\n",
    "    \n",
    "    for nb_window, records in enumerate(drift_daily_measurements):\n",
    "        for record in records:\n",
    "            window_start =  (datetime.utcnow() + timedelta(hours=(-(24 * day + (nb_window+1)*3 + 1)))).strftime('%Y-%m-%dT%H:%M:%SZ') # first_payload_record_timestamp_in_window (oldest)\n",
    "            window_end = (datetime.utcnow() + timedelta(hours=(-(24 * day + nb_window*3 + 1)))).strftime('%Y-%m-%dT%H:%M:%SZ')# last_payload_record_timestamp_in_window (most recent)\n",
    "            #modify start and end time for each record\n",
    "            record['sources'][0]['data']['start'] = window_start\n",
    "            record['sources'][0]['data']['end'] = window_end\n",
    "            \n",
    "            measurement = {\n",
    "                \"monitor_definition_id\": \"drift\",\n",
    "                \"binding_id\": subscription.binding_uid,\n",
    "                \"subscription_id\": subscription.uid,\n",
    "                \"asset_id\": subscription.source_uid,\n",
    "                'metrics': record['metrics'],\n",
    "                'sources': record['sources'],\n",
    "                'timestamp': window_start,\n",
    "                'process': 'Drift run for subscription_{}'.format(subscription.uid)\n",
    "            }\n",
    "\n",
    "            measurements.append(measurement)\n",
    "    response = requests.post(measurements_url, json=measurements, headers=iam_headers, verify=False)\n",
    "    print(\"Daily loading finished.\")"
   ]
  },
  {
   "cell_type": "markdown",
   "metadata": {},
   "source": [
    "### Load historical data for business payload"
   ]
  },
  {
   "cell_type": "markdown",
   "metadata": {},
   "source": [
    "## Insert Business payload "
   ]
  },
  {
   "cell_type": "code",
   "execution_count": 108,
   "metadata": {},
   "outputs": [],
   "source": [
    "ALL_BUSINESS_RECORDS = 20160"
   ]
  },
  {
   "cell_type": "code",
   "execution_count": 109,
   "metadata": {},
   "outputs": [
    {
     "name": "stdout",
     "output_type": "stream",
     "text": [
      "Warning: Failed to set locale category LC_NUMERIC to en_PL.\n",
      "Warning: Failed to set locale category LC_TIME to en_PL.\n",
      "Warning: Failed to set locale category LC_COLLATE to en_PL.\n",
      "Warning: Failed to set locale category LC_MONETARY to en_PL.\n",
      "Warning: Failed to set locale category LC_MESSAGES to en_PL.\n",
      "--2019-11-22 14:38:00--  https://raw.githubusercontent.com/pmservice/ai-openscale-tutorials/master/assets/historical_data/german_credit_risk/wml/history_business_payloads_week.csv\n",
      "Resolving raw.githubusercontent.com (raw.githubusercontent.com)... 199.232.36.133\n",
      "Connecting to raw.githubusercontent.com (raw.githubusercontent.com)|199.232.36.133|:443... connected.\n",
      "HTTP request sent, awaiting response... 200 OK\n",
      "Length: 1654616 (1.6M) [text/plain]\n",
      "Saving to: ‘history_business_payloads_week.csv’\n",
      "\n",
      "history_business_pa 100%[===================>]   1.58M   832KB/s    in 1.9s    \n",
      "\n",
      "2019-11-22 14:38:02 (832 KB/s) - ‘history_business_payloads_week.csv’ saved [1654616/1654616]\n",
      "\n"
     ]
    }
   ],
   "source": [
    "!wget https://raw.githubusercontent.com/pmservice/ai-openscale-tutorials/master/assets/historical_data/german_credit_risk/wml/history_business_payloads_week.csv -O history_business_payloads_week.csv"
   ]
  },
  {
   "cell_type": "code",
   "execution_count": 110,
   "metadata": {},
   "outputs": [],
   "source": [
    "historicalData.load_historical_business_payload(\n",
    "        data_set_id=business_payload_data_set_id,\n",
    "        file_name=\"history_business_payloads_week.csv\"\n",
    "    )\n"
   ]
  },
  {
   "cell_type": "code",
   "execution_count": 111,
   "metadata": {},
   "outputs": [
    {
     "data": {
      "text/plain": [
       "'835eae74-5bbd-431b-872f-4a64c572095c'"
      ]
     },
     "execution_count": 111,
     "metadata": {},
     "output_type": "execute_result"
    }
   ],
   "source": [
    "business_application_id"
   ]
  },
  {
   "cell_type": "markdown",
   "metadata": {},
   "source": [
    "### Wait for all records loaded in data set"
   ]
  },
  {
   "cell_type": "markdown",
   "metadata": {},
   "source": [
    "#### Scoring payload records with transaction ids: "
   ]
  },
  {
   "cell_type": "code",
   "execution_count": 112,
   "metadata": {},
   "outputs": [
    {
     "name": "stdout",
     "output_type": "stream",
     "text": [
      "Records loaded in payload table: 20368\n"
     ]
    }
   ],
   "source": [
    "while subscription.payload_logging.get_records_count() < ALL_BUSINESS_RECORDS:\n",
    "    time.sleep(30)\n",
    "    print(datetime.utcnow().strftime('%H:%M:%S'), \"Records loaded in table: {}\".format(subscription.payload_logging.get_records_count()))   \n",
    "\n",
    "print(\"Records loaded in payload table: {}\".format(subscription.payload_logging.get_records_count()))   "
   ]
  },
  {
   "cell_type": "markdown",
   "metadata": {},
   "source": [
    "#### Business payload records: "
   ]
  },
  {
   "cell_type": "code",
   "execution_count": 113,
   "metadata": {},
   "outputs": [],
   "source": [
    "business_payload_data_set_url = \"/\".join((WOS_CREDENTIALS['url'], data_mart_id,\"v2\", \"data_sets\", business_payload_data_set_id, 'records?start=2019-09-04T09:02:22.683Z&include_total_count=true'))"
   ]
  },
  {
   "cell_type": "code",
   "execution_count": 114,
   "metadata": {},
   "outputs": [
    {
     "name": "stdout",
     "output_type": "stream",
     "text": [
      "13:38:43 Records loaded in table: 20160\n"
     ]
    }
   ],
   "source": [
    "iam_token = create_token()\n",
    "iam_headers = {\n",
    "    'Content-Type': 'application/json',\n",
    "    'Authorization': 'Bearer %s' % iam_token\n",
    "}\n",
    "\n",
    "records_count = None\n",
    "while records_count != ALL_BUSINESS_RECORDS:\n",
    "    time.sleep(30)\n",
    "    response = requests.get(\n",
    "        '{}/{}/v2/data_sets/{}/records?start=2019-09-04T00:00:00.000Z&include_total_count=true&limit=5'.format(\n",
    "            WOS_CREDENTIALS['url'], data_mart_id, business_payload_data_set_id),headers=iam_headers, verify=False)\n",
    "    records_count = response.json()['total_count']\n",
    "    print(datetime.utcnow().strftime('%H:%M:%S'), \"Records loaded in table: {}\".format(records_count))"
   ]
  },
  {
   "cell_type": "markdown",
   "metadata": {},
   "source": [
    "# Business Application and Correlation monitor run <a name=\"correlation\"></a>"
   ]
  },
  {
   "cell_type": "markdown",
   "metadata": {},
   "source": [
    "## Run Business Application"
   ]
  },
  {
   "cell_type": "code",
   "execution_count": 115,
   "metadata": {},
   "outputs": [],
   "source": [
    "business_app_run_url = \"/\".join((monitor_instances_url, business_metrics_monitor_instance_id,\"runs\"))"
   ]
  },
  {
   "cell_type": "code",
   "execution_count": 116,
   "metadata": {},
   "outputs": [],
   "source": [
    "iam_token = create_token()\n",
    "iam_headers = {\n",
    "    'Content-Type': 'application/json',\n",
    "    'Authorization': 'Bearer %s' % iam_token\n",
    "}\n",
    "\n",
    "response = requests.post(\n",
    "    url=business_app_run_url,\n",
    "    headers=iam_headers,\n",
    "    json={}, verify=False\n",
    ")"
   ]
  },
  {
   "cell_type": "code",
   "execution_count": 117,
   "metadata": {},
   "outputs": [],
   "source": [
    "if response.status_code == 201:\n",
    "    business_app_run_details = response.json()\n",
    "else:\n",
    "    business_app_run_details = None\n",
    "    print(\"Run business application failed. Details: {}\".format(response.text))\n"
   ]
  },
  {
   "cell_type": "markdown",
   "metadata": {},
   "source": [
    "Triggering business application runs BKPI and drift computation per each day (batch) for scoring and business payload. In following cells status of these computation is checked to trigger correlation monitor."
   ]
  },
  {
   "cell_type": "code",
   "execution_count": 118,
   "metadata": {},
   "outputs": [
    {
     "name": "stdout",
     "output_type": "stream",
     "text": [
      "13:38:47 running\n",
      "13:39:18 running\n",
      "13:39:49 running\n",
      "finished\n"
     ]
    }
   ],
   "source": [
    "if business_app_run_details is not None:\n",
    "    business_metrics_monitor_run_id =business_app_run_details['metadata']['id']\n",
    "    monitor_status = business_app_run_details['entity']['status']['state']\n",
    "    \n",
    "iam_token = create_token()\n",
    "iam_headers = {\n",
    "    'Content-Type': 'application/json',\n",
    "    'Authorization': 'Bearer %s' % iam_token\n",
    "}\n",
    "\n",
    "while monitor_status != 'finished':\n",
    "    business_app_run_details = (requests.get(url=business_app_run_url+ \"/\" + business_metrics_monitor_run_id, headers=iam_headers, verify=False)).json()   \n",
    "    monitor_status = business_app_run_details['entity']['status']['state']\n",
    "    if monitor_status != 'finished':\n",
    "        print(datetime.utcnow().strftime('%H:%M:%S'), monitor_status)\n",
    "        time.sleep(30)\n",
    "print(monitor_status)\n"
   ]
  },
  {
   "cell_type": "code",
   "execution_count": 119,
   "metadata": {},
   "outputs": [
    {
     "name": "stdout",
     "output_type": "stream",
     "text": [
      "13:40:23 running\n",
      "13:40:54 running\n",
      "13:41:24 running\n",
      "13:41:55 running\n",
      "13:42:27 running\n",
      "13:42:57 running\n",
      "13:43:28 running\n",
      "13:43:59 running\n",
      "13:44:30 running\n",
      "13:45:01 running\n",
      "finished\n"
     ]
    }
   ],
   "source": [
    "iam_token = create_token()\n",
    "iam_headers = {\n",
    "    'Content-Type': 'application/json',\n",
    "    'Authorization': 'Bearer %s' % iam_token\n",
    "}\n",
    "\n",
    "drift_runs = requests.get('{}/{}/v2/monitor_instances/{}/runs'.format(WOS_CREDENTIALS['url'],\n",
    "                                    data_mart_id, drift_instance_id), headers=iam_headers,json={}, verify=False).json()\n",
    "\n",
    "last_drift_run_id = [run['metadata']['id'] for run in drift_runs['runs'] if run['entity']['business_metric_context']['business_application_id'] == business_application_id][0]\n",
    "\n",
    "\n",
    "drift_monitor_status = None\n",
    "while drift_monitor_status != 'finished':\n",
    "    drift_run_details = (requests.get('{}/{}/v2/monitor_instances/{}/runs/{}'.format(WOS_CREDENTIALS['url'],\n",
    "            data_mart_id,drift_instance_id, last_drift_run_id), headers=iam_headers,json={}, verify=False)).json()\n",
    "    drift_monitor_status = drift_run_details['entity']['status']['state']\n",
    "    if drift_monitor_status != 'finished':\n",
    "        print(datetime.utcnow().strftime('%H:%M:%S'), drift_monitor_status)\n",
    "        time.sleep(30)\n",
    "print(drift_monitor_status)"
   ]
  },
  {
   "cell_type": "markdown",
   "metadata": {},
   "source": [
    "## Run correlation monitor"
   ]
  },
  {
   "cell_type": "code",
   "execution_count": 120,
   "metadata": {},
   "outputs": [],
   "source": [
    "correlation_monitor_run_url = \"/\".join((monitor_instances_url, corr_monitor_instance_id,\"runs\"))"
   ]
  },
  {
   "cell_type": "code",
   "execution_count": 121,
   "metadata": {},
   "outputs": [],
   "source": [
    "time.sleep(30)\n",
    "\n",
    "iam_token = create_token()\n",
    "iam_headers = {\n",
    "    'Content-Type': 'application/json',\n",
    "    'Authorization': 'Bearer %s' % iam_token\n",
    "}\n",
    "\n",
    "response = requests.post(\n",
    "    url=correlation_monitor_run_url,\n",
    "    headers=iam_headers,\n",
    "    json={}, verify=False\n",
    ")\n",
    "\n",
    "monitor_run_id = response.json()['metadata']['id']"
   ]
  },
  {
   "cell_type": "markdown",
   "metadata": {},
   "source": [
    "Wait for end of correlation computation."
   ]
  },
  {
   "cell_type": "code",
   "execution_count": 122,
   "metadata": {},
   "outputs": [
    {
     "name": "stdout",
     "output_type": "stream",
     "text": [
      "13:46:05 running\n",
      "13:46:16 finished\n",
      "Correlation status:  finished\n"
     ]
    }
   ],
   "source": [
    "iam_token = create_token()\n",
    "iam_headers = {\n",
    "    'Content-Type': 'application/json',\n",
    "    'Authorization': 'Bearer %s' % iam_token\n",
    "}\n",
    "\n",
    "\n",
    "corr_run_status = None\n",
    "while corr_run_status != 'finished' and corr_run_status !='error':\n",
    "    corr_run_details = requests.get(url = \"/\".join((correlation_monitor_run_url, monitor_run_id)), headers=iam_headers, verify=False).json()\n",
    "    corr_run_status = corr_run_details['entity']['status']['state']\n",
    "    if corr_run_status != 'active':\n",
    "        print(datetime.utcnow().strftime('%H:%M:%S'), corr_run_status)\n",
    "        time.sleep(10)\n",
    "print(\"Correlation status: \", corr_run_status)"
   ]
  },
  {
   "cell_type": "markdown",
   "metadata": {},
   "source": [
    "## Additional data to help debugging"
   ]
  },
  {
   "cell_type": "code",
   "execution_count": 123,
   "metadata": {
    "scrolled": true
   },
   "outputs": [
    {
     "name": "stdout",
     "output_type": "stream",
     "text": [
      "Datamart: 00000000-0000-0000-0000-000000000000\n",
      "Model: deb87fe2-754b-44b1-8ef6-b3e374094004\n",
      "Deployment: f02576ec-a345-44d4-b818-5fe802951b05\n",
      "Binding: 999\n"
     ]
    }
   ],
   "source": [
    "print('Datamart:', data_mart_id)\n",
    "print('Model:', model_uid)\n",
    "print('Deployment:', deployment_uid)\n",
    "print('Binding:', binding_uid)\n",
    "# print('Scoring URL:', credit_risk_scoring_endpoint)"
   ]
  },
  {
   "cell_type": "markdown",
   "metadata": {},
   "source": [
    "## Identify transactions for Explainability"
   ]
  },
  {
   "cell_type": "markdown",
   "metadata": {},
   "source": [
    "Transaction IDs identified by the cells below can be copied and pasted into the Explainability tab of the OpenScale dashboard."
   ]
  },
  {
   "cell_type": "code",
   "execution_count": 124,
   "metadata": {
    "scrolled": true
   },
   "outputs": [
    {
     "data": {
      "text/html": [
       "<div>\n",
       "<style scoped>\n",
       "    .dataframe tbody tr th:only-of-type {\n",
       "        vertical-align: middle;\n",
       "    }\n",
       "\n",
       "    .dataframe tbody tr th {\n",
       "        vertical-align: top;\n",
       "    }\n",
       "\n",
       "    .dataframe thead th {\n",
       "        text-align: right;\n",
       "    }\n",
       "</style>\n",
       "<table border=\"1\" class=\"dataframe\">\n",
       "  <thead>\n",
       "    <tr style=\"text-align: right;\">\n",
       "      <th></th>\n",
       "      <th>scoring_id</th>\n",
       "      <th>predictedLabel</th>\n",
       "      <th>probability</th>\n",
       "    </tr>\n",
       "  </thead>\n",
       "  <tbody>\n",
       "    <tr>\n",
       "      <th>0</th>\n",
       "      <td>f27ed9f8-d966-40d5-adbb-96b88f1e5980-1</td>\n",
       "      <td>No Risk</td>\n",
       "      <td>[0.7342992006506507, 0.26570079934934937]</td>\n",
       "    </tr>\n",
       "    <tr>\n",
       "      <th>1</th>\n",
       "      <td>f27ed9f8-d966-40d5-adbb-96b88f1e5980-2</td>\n",
       "      <td>No Risk</td>\n",
       "      <td>[0.9325817190008531, 0.067418280999147]</td>\n",
       "    </tr>\n",
       "    <tr>\n",
       "      <th>2</th>\n",
       "      <td>f27ed9f8-d966-40d5-adbb-96b88f1e5980-3</td>\n",
       "      <td>No Risk</td>\n",
       "      <td>[0.6627934624673603, 0.33720653753263974]</td>\n",
       "    </tr>\n",
       "    <tr>\n",
       "      <th>3</th>\n",
       "      <td>f27ed9f8-d966-40d5-adbb-96b88f1e5980-4</td>\n",
       "      <td>No Risk</td>\n",
       "      <td>[0.7186449206874034, 0.2813550793125967]</td>\n",
       "    </tr>\n",
       "    <tr>\n",
       "      <th>4</th>\n",
       "      <td>f27ed9f8-d966-40d5-adbb-96b88f1e5980-5</td>\n",
       "      <td>No Risk</td>\n",
       "      <td>[0.8447352571721282, 0.15526474282787184]</td>\n",
       "    </tr>\n",
       "    <tr>\n",
       "      <th>5</th>\n",
       "      <td>f27ed9f8-d966-40d5-adbb-96b88f1e5980-6</td>\n",
       "      <td>No Risk</td>\n",
       "      <td>[0.949735394122734, 0.050264605877265986]</td>\n",
       "    </tr>\n",
       "    <tr>\n",
       "      <th>6</th>\n",
       "      <td>f27ed9f8-d966-40d5-adbb-96b88f1e5980-7</td>\n",
       "      <td>Risk</td>\n",
       "      <td>[0.07119184454084779, 0.9288081554591523]</td>\n",
       "    </tr>\n",
       "    <tr>\n",
       "      <th>7</th>\n",
       "      <td>f27ed9f8-d966-40d5-adbb-96b88f1e5980-8</td>\n",
       "      <td>No Risk</td>\n",
       "      <td>[0.8106540974128227, 0.18934590258717732]</td>\n",
       "    </tr>\n",
       "    <tr>\n",
       "      <th>8</th>\n",
       "      <td>f27ed9f8-d966-40d5-adbb-96b88f1e5980-9</td>\n",
       "      <td>No Risk</td>\n",
       "      <td>[0.7271672744053184, 0.2728327255946816]</td>\n",
       "    </tr>\n",
       "    <tr>\n",
       "      <th>9</th>\n",
       "      <td>f27ed9f8-d966-40d5-adbb-96b88f1e5980-11</td>\n",
       "      <td>No Risk</td>\n",
       "      <td>[0.5090501922747169, 0.49094980772528307]</td>\n",
       "    </tr>\n",
       "    <tr>\n",
       "      <th>10</th>\n",
       "      <td>f27ed9f8-d966-40d5-adbb-96b88f1e5980-12</td>\n",
       "      <td>No Risk</td>\n",
       "      <td>[0.7826501916242383, 0.21734980837576173]</td>\n",
       "    </tr>\n",
       "    <tr>\n",
       "      <th>11</th>\n",
       "      <td>f27ed9f8-d966-40d5-adbb-96b88f1e5980-13</td>\n",
       "      <td>Risk</td>\n",
       "      <td>[0.26509690618610976, 0.7349030938138903]</td>\n",
       "    </tr>\n",
       "    <tr>\n",
       "      <th>12</th>\n",
       "      <td>f27ed9f8-d966-40d5-adbb-96b88f1e5980-14</td>\n",
       "      <td>No Risk</td>\n",
       "      <td>[0.7579241236764784, 0.24207587632352162]</td>\n",
       "    </tr>\n",
       "    <tr>\n",
       "      <th>13</th>\n",
       "      <td>f27ed9f8-d966-40d5-adbb-96b88f1e5980-15</td>\n",
       "      <td>No Risk</td>\n",
       "      <td>[0.6888887356035436, 0.31111126439645653]</td>\n",
       "    </tr>\n",
       "    <tr>\n",
       "      <th>14</th>\n",
       "      <td>f27ed9f8-d966-40d5-adbb-96b88f1e5980-16</td>\n",
       "      <td>Risk</td>\n",
       "      <td>[0.20770058736701177, 0.7922994126329882]</td>\n",
       "    </tr>\n",
       "    <tr>\n",
       "      <th>15</th>\n",
       "      <td>f27ed9f8-d966-40d5-adbb-96b88f1e5980-17</td>\n",
       "      <td>Risk</td>\n",
       "      <td>[0.3159168157250094, 0.6840831842749905]</td>\n",
       "    </tr>\n",
       "    <tr>\n",
       "      <th>16</th>\n",
       "      <td>f27ed9f8-d966-40d5-adbb-96b88f1e5980-18</td>\n",
       "      <td>No Risk</td>\n",
       "      <td>[0.9818080220786582, 0.018191977921341716]</td>\n",
       "    </tr>\n",
       "    <tr>\n",
       "      <th>17</th>\n",
       "      <td>f27ed9f8-d966-40d5-adbb-96b88f1e5980-19</td>\n",
       "      <td>No Risk</td>\n",
       "      <td>[0.8723447926881395, 0.12765520731186059]</td>\n",
       "    </tr>\n",
       "    <tr>\n",
       "      <th>18</th>\n",
       "      <td>f27ed9f8-d966-40d5-adbb-96b88f1e5980-20</td>\n",
       "      <td>No Risk</td>\n",
       "      <td>[0.9702683429455771, 0.029731657054422933]</td>\n",
       "    </tr>\n",
       "    <tr>\n",
       "      <th>19</th>\n",
       "      <td>f27ed9f8-d966-40d5-adbb-96b88f1e5980-21</td>\n",
       "      <td>Risk</td>\n",
       "      <td>[0.27669277733081155, 0.7233072226691885]</td>\n",
       "    </tr>\n",
       "    <tr>\n",
       "      <th>20</th>\n",
       "      <td>f27ed9f8-d966-40d5-adbb-96b88f1e5980-23</td>\n",
       "      <td>No Risk</td>\n",
       "      <td>[0.6923517833580571, 0.30764821664194286]</td>\n",
       "    </tr>\n",
       "    <tr>\n",
       "      <th>21</th>\n",
       "      <td>f27ed9f8-d966-40d5-adbb-96b88f1e5980-24</td>\n",
       "      <td>No Risk</td>\n",
       "      <td>[0.86150308709318, 0.13849691290682004]</td>\n",
       "    </tr>\n",
       "    <tr>\n",
       "      <th>22</th>\n",
       "      <td>f27ed9f8-d966-40d5-adbb-96b88f1e5980-25</td>\n",
       "      <td>Risk</td>\n",
       "      <td>[0.34580390511277087, 0.6541960948872291]</td>\n",
       "    </tr>\n",
       "    <tr>\n",
       "      <th>23</th>\n",
       "      <td>f27ed9f8-d966-40d5-adbb-96b88f1e5980-26</td>\n",
       "      <td>No Risk</td>\n",
       "      <td>[0.6890258474135741, 0.3109741525864259]</td>\n",
       "    </tr>\n",
       "    <tr>\n",
       "      <th>24</th>\n",
       "      <td>f27ed9f8-d966-40d5-adbb-96b88f1e5980-27</td>\n",
       "      <td>No Risk</td>\n",
       "      <td>[0.9766773721437083, 0.023322627856291626]</td>\n",
       "    </tr>\n",
       "    <tr>\n",
       "      <th>25</th>\n",
       "      <td>f27ed9f8-d966-40d5-adbb-96b88f1e5980-28</td>\n",
       "      <td>No Risk</td>\n",
       "      <td>[0.8164271005769823, 0.18357289942301766]</td>\n",
       "    </tr>\n",
       "    <tr>\n",
       "      <th>26</th>\n",
       "      <td>f27ed9f8-d966-40d5-adbb-96b88f1e5980-29</td>\n",
       "      <td>Risk</td>\n",
       "      <td>[0.3190227548149894, 0.6809772451850106]</td>\n",
       "    </tr>\n",
       "    <tr>\n",
       "      <th>27</th>\n",
       "      <td>f27ed9f8-d966-40d5-adbb-96b88f1e5980-30</td>\n",
       "      <td>Risk</td>\n",
       "      <td>[0.06288774375236392, 0.937112256247636]</td>\n",
       "    </tr>\n",
       "    <tr>\n",
       "      <th>28</th>\n",
       "      <td>f27ed9f8-d966-40d5-adbb-96b88f1e5980-31</td>\n",
       "      <td>No Risk</td>\n",
       "      <td>[0.6611956400746125, 0.3388043599253875]</td>\n",
       "    </tr>\n",
       "    <tr>\n",
       "      <th>29</th>\n",
       "      <td>f27ed9f8-d966-40d5-adbb-96b88f1e5980-32</td>\n",
       "      <td>No Risk</td>\n",
       "      <td>[0.9818080220786582, 0.018191977921341716]</td>\n",
       "    </tr>\n",
       "    <tr>\n",
       "      <th>30</th>\n",
       "      <td>f27ed9f8-d966-40d5-adbb-96b88f1e5980-33</td>\n",
       "      <td>No Risk</td>\n",
       "      <td>[0.5694452751755654, 0.4305547248244347]</td>\n",
       "    </tr>\n",
       "    <tr>\n",
       "      <th>31</th>\n",
       "      <td>f27ed9f8-d966-40d5-adbb-96b88f1e5980-34</td>\n",
       "      <td>No Risk</td>\n",
       "      <td>[0.9818080220786582, 0.018191977921341716]</td>\n",
       "    </tr>\n",
       "    <tr>\n",
       "      <th>32</th>\n",
       "      <td>f27ed9f8-d966-40d5-adbb-96b88f1e5980-36</td>\n",
       "      <td>No Risk</td>\n",
       "      <td>[0.6416522644694405, 0.3583477355305596]</td>\n",
       "    </tr>\n",
       "    <tr>\n",
       "      <th>33</th>\n",
       "      <td>f27ed9f8-d966-40d5-adbb-96b88f1e5980-37</td>\n",
       "      <td>No Risk</td>\n",
       "      <td>[0.9660473983803175, 0.03395260161968246]</td>\n",
       "    </tr>\n",
       "    <tr>\n",
       "      <th>34</th>\n",
       "      <td>f27ed9f8-d966-40d5-adbb-96b88f1e5980-38</td>\n",
       "      <td>Risk</td>\n",
       "      <td>[0.05733218819680837, 0.9426678118031916]</td>\n",
       "    </tr>\n",
       "    <tr>\n",
       "      <th>35</th>\n",
       "      <td>f27ed9f8-d966-40d5-adbb-96b88f1e5980-39</td>\n",
       "      <td>Risk</td>\n",
       "      <td>[0.1804766484334562, 0.8195233515665438]</td>\n",
       "    </tr>\n",
       "    <tr>\n",
       "      <th>36</th>\n",
       "      <td>f27ed9f8-d966-40d5-adbb-96b88f1e5980-40</td>\n",
       "      <td>No Risk</td>\n",
       "      <td>[0.9425875864478204, 0.057412413552179506]</td>\n",
       "    </tr>\n",
       "    <tr>\n",
       "      <th>37</th>\n",
       "      <td>f27ed9f8-d966-40d5-adbb-96b88f1e5980-41</td>\n",
       "      <td>No Risk</td>\n",
       "      <td>[0.7590253271958068, 0.2409746728041932]</td>\n",
       "    </tr>\n",
       "    <tr>\n",
       "      <th>38</th>\n",
       "      <td>f27ed9f8-d966-40d5-adbb-96b88f1e5980-42</td>\n",
       "      <td>No Risk</td>\n",
       "      <td>[0.745934476903415, 0.25406552309658503]</td>\n",
       "    </tr>\n",
       "    <tr>\n",
       "      <th>39</th>\n",
       "      <td>f27ed9f8-d966-40d5-adbb-96b88f1e5980-43</td>\n",
       "      <td>No Risk</td>\n",
       "      <td>[0.7621618243136715, 0.23783817568632842]</td>\n",
       "    </tr>\n",
       "    <tr>\n",
       "      <th>40</th>\n",
       "      <td>f27ed9f8-d966-40d5-adbb-96b88f1e5980-44</td>\n",
       "      <td>No Risk</td>\n",
       "      <td>[0.9729974036999636, 0.027002596300036423]</td>\n",
       "    </tr>\n",
       "    <tr>\n",
       "      <th>41</th>\n",
       "      <td>f27ed9f8-d966-40d5-adbb-96b88f1e5980-45</td>\n",
       "      <td>No Risk</td>\n",
       "      <td>[0.7316996996989343, 0.26830030030106566]</td>\n",
       "    </tr>\n",
       "    <tr>\n",
       "      <th>42</th>\n",
       "      <td>f27ed9f8-d966-40d5-adbb-96b88f1e5980-46</td>\n",
       "      <td>Risk</td>\n",
       "      <td>[0.15166438153310308, 0.8483356184668969]</td>\n",
       "    </tr>\n",
       "    <tr>\n",
       "      <th>43</th>\n",
       "      <td>f27ed9f8-d966-40d5-adbb-96b88f1e5980-48</td>\n",
       "      <td>No Risk</td>\n",
       "      <td>[0.8713757660333492, 0.12862423396665074]</td>\n",
       "    </tr>\n",
       "    <tr>\n",
       "      <th>44</th>\n",
       "      <td>f27ed9f8-d966-40d5-adbb-96b88f1e5980-49</td>\n",
       "      <td>No Risk</td>\n",
       "      <td>[0.9655824378953142, 0.034417562104685766]</td>\n",
       "    </tr>\n",
       "    <tr>\n",
       "      <th>45</th>\n",
       "      <td>f27ed9f8-d966-40d5-adbb-96b88f1e5980-50</td>\n",
       "      <td>No Risk</td>\n",
       "      <td>[0.5534045287207654, 0.4465954712792346]</td>\n",
       "    </tr>\n",
       "    <tr>\n",
       "      <th>46</th>\n",
       "      <td>f27ed9f8-d966-40d5-adbb-96b88f1e5980-51</td>\n",
       "      <td>Risk</td>\n",
       "      <td>[0.14954511673791382, 0.8504548832620861]</td>\n",
       "    </tr>\n",
       "    <tr>\n",
       "      <th>47</th>\n",
       "      <td>f27ed9f8-d966-40d5-adbb-96b88f1e5980-52</td>\n",
       "      <td>No Risk</td>\n",
       "      <td>[0.7808158893956975, 0.21918411060430257]</td>\n",
       "    </tr>\n",
       "    <tr>\n",
       "      <th>48</th>\n",
       "      <td>f27ed9f8-d966-40d5-adbb-96b88f1e5980-53</td>\n",
       "      <td>Risk</td>\n",
       "      <td>[0.12131855897798394, 0.8786814410220162]</td>\n",
       "    </tr>\n",
       "    <tr>\n",
       "      <th>49</th>\n",
       "      <td>f27ed9f8-d966-40d5-adbb-96b88f1e5980-54</td>\n",
       "      <td>No Risk</td>\n",
       "      <td>[0.7530987348333907, 0.2469012651666093]</td>\n",
       "    </tr>\n",
       "    <tr>\n",
       "      <th>50</th>\n",
       "      <td>f27ed9f8-d966-40d5-adbb-96b88f1e5980-55</td>\n",
       "      <td>No Risk</td>\n",
       "      <td>[0.6646979558465027, 0.3353020441534973]</td>\n",
       "    </tr>\n",
       "    <tr>\n",
       "      <th>51</th>\n",
       "      <td>f27ed9f8-d966-40d5-adbb-96b88f1e5980-56</td>\n",
       "      <td>No Risk</td>\n",
       "      <td>[0.6377390566862098, 0.36226094331379033]</td>\n",
       "    </tr>\n",
       "    <tr>\n",
       "      <th>52</th>\n",
       "      <td>f27ed9f8-d966-40d5-adbb-96b88f1e5980-58</td>\n",
       "      <td>No Risk</td>\n",
       "      <td>[0.6069551385362291, 0.39304486146377104]</td>\n",
       "    </tr>\n",
       "    <tr>\n",
       "      <th>53</th>\n",
       "      <td>f27ed9f8-d966-40d5-adbb-96b88f1e5980-59</td>\n",
       "      <td>No Risk</td>\n",
       "      <td>[0.8378804013221401, 0.16211959867785994]</td>\n",
       "    </tr>\n",
       "    <tr>\n",
       "      <th>54</th>\n",
       "      <td>f27ed9f8-d966-40d5-adbb-96b88f1e5980-60</td>\n",
       "      <td>No Risk</td>\n",
       "      <td>[0.7771795650970681, 0.22282043490293188]</td>\n",
       "    </tr>\n",
       "    <tr>\n",
       "      <th>55</th>\n",
       "      <td>f27ed9f8-d966-40d5-adbb-96b88f1e5980-61</td>\n",
       "      <td>Risk</td>\n",
       "      <td>[0.4232364688690072, 0.5767635311309928]</td>\n",
       "    </tr>\n",
       "    <tr>\n",
       "      <th>56</th>\n",
       "      <td>f27ed9f8-d966-40d5-adbb-96b88f1e5980-62</td>\n",
       "      <td>No Risk</td>\n",
       "      <td>[0.8224650608251725, 0.1775349391748276]</td>\n",
       "    </tr>\n",
       "    <tr>\n",
       "      <th>57</th>\n",
       "      <td>f27ed9f8-d966-40d5-adbb-96b88f1e5980-63</td>\n",
       "      <td>No Risk</td>\n",
       "      <td>[0.8394863914555255, 0.1605136085444745]</td>\n",
       "    </tr>\n",
       "    <tr>\n",
       "      <th>58</th>\n",
       "      <td>f27ed9f8-d966-40d5-adbb-96b88f1e5980-64</td>\n",
       "      <td>Risk</td>\n",
       "      <td>[0.15872654497372124, 0.8412734550262787]</td>\n",
       "    </tr>\n",
       "    <tr>\n",
       "      <th>59</th>\n",
       "      <td>f27ed9f8-d966-40d5-adbb-96b88f1e5980-65</td>\n",
       "      <td>Risk</td>\n",
       "      <td>[0.4630522467543556, 0.5369477532456444]</td>\n",
       "    </tr>\n",
       "  </tbody>\n",
       "</table>\n",
       "</div>"
      ],
      "text/plain": [
       "                                 scoring_id predictedLabel  \\\n",
       "0    f27ed9f8-d966-40d5-adbb-96b88f1e5980-1        No Risk   \n",
       "1    f27ed9f8-d966-40d5-adbb-96b88f1e5980-2        No Risk   \n",
       "2    f27ed9f8-d966-40d5-adbb-96b88f1e5980-3        No Risk   \n",
       "3    f27ed9f8-d966-40d5-adbb-96b88f1e5980-4        No Risk   \n",
       "4    f27ed9f8-d966-40d5-adbb-96b88f1e5980-5        No Risk   \n",
       "5    f27ed9f8-d966-40d5-adbb-96b88f1e5980-6        No Risk   \n",
       "6    f27ed9f8-d966-40d5-adbb-96b88f1e5980-7           Risk   \n",
       "7    f27ed9f8-d966-40d5-adbb-96b88f1e5980-8        No Risk   \n",
       "8    f27ed9f8-d966-40d5-adbb-96b88f1e5980-9        No Risk   \n",
       "9   f27ed9f8-d966-40d5-adbb-96b88f1e5980-11        No Risk   \n",
       "10  f27ed9f8-d966-40d5-adbb-96b88f1e5980-12        No Risk   \n",
       "11  f27ed9f8-d966-40d5-adbb-96b88f1e5980-13           Risk   \n",
       "12  f27ed9f8-d966-40d5-adbb-96b88f1e5980-14        No Risk   \n",
       "13  f27ed9f8-d966-40d5-adbb-96b88f1e5980-15        No Risk   \n",
       "14  f27ed9f8-d966-40d5-adbb-96b88f1e5980-16           Risk   \n",
       "15  f27ed9f8-d966-40d5-adbb-96b88f1e5980-17           Risk   \n",
       "16  f27ed9f8-d966-40d5-adbb-96b88f1e5980-18        No Risk   \n",
       "17  f27ed9f8-d966-40d5-adbb-96b88f1e5980-19        No Risk   \n",
       "18  f27ed9f8-d966-40d5-adbb-96b88f1e5980-20        No Risk   \n",
       "19  f27ed9f8-d966-40d5-adbb-96b88f1e5980-21           Risk   \n",
       "20  f27ed9f8-d966-40d5-adbb-96b88f1e5980-23        No Risk   \n",
       "21  f27ed9f8-d966-40d5-adbb-96b88f1e5980-24        No Risk   \n",
       "22  f27ed9f8-d966-40d5-adbb-96b88f1e5980-25           Risk   \n",
       "23  f27ed9f8-d966-40d5-adbb-96b88f1e5980-26        No Risk   \n",
       "24  f27ed9f8-d966-40d5-adbb-96b88f1e5980-27        No Risk   \n",
       "25  f27ed9f8-d966-40d5-adbb-96b88f1e5980-28        No Risk   \n",
       "26  f27ed9f8-d966-40d5-adbb-96b88f1e5980-29           Risk   \n",
       "27  f27ed9f8-d966-40d5-adbb-96b88f1e5980-30           Risk   \n",
       "28  f27ed9f8-d966-40d5-adbb-96b88f1e5980-31        No Risk   \n",
       "29  f27ed9f8-d966-40d5-adbb-96b88f1e5980-32        No Risk   \n",
       "30  f27ed9f8-d966-40d5-adbb-96b88f1e5980-33        No Risk   \n",
       "31  f27ed9f8-d966-40d5-adbb-96b88f1e5980-34        No Risk   \n",
       "32  f27ed9f8-d966-40d5-adbb-96b88f1e5980-36        No Risk   \n",
       "33  f27ed9f8-d966-40d5-adbb-96b88f1e5980-37        No Risk   \n",
       "34  f27ed9f8-d966-40d5-adbb-96b88f1e5980-38           Risk   \n",
       "35  f27ed9f8-d966-40d5-adbb-96b88f1e5980-39           Risk   \n",
       "36  f27ed9f8-d966-40d5-adbb-96b88f1e5980-40        No Risk   \n",
       "37  f27ed9f8-d966-40d5-adbb-96b88f1e5980-41        No Risk   \n",
       "38  f27ed9f8-d966-40d5-adbb-96b88f1e5980-42        No Risk   \n",
       "39  f27ed9f8-d966-40d5-adbb-96b88f1e5980-43        No Risk   \n",
       "40  f27ed9f8-d966-40d5-adbb-96b88f1e5980-44        No Risk   \n",
       "41  f27ed9f8-d966-40d5-adbb-96b88f1e5980-45        No Risk   \n",
       "42  f27ed9f8-d966-40d5-adbb-96b88f1e5980-46           Risk   \n",
       "43  f27ed9f8-d966-40d5-adbb-96b88f1e5980-48        No Risk   \n",
       "44  f27ed9f8-d966-40d5-adbb-96b88f1e5980-49        No Risk   \n",
       "45  f27ed9f8-d966-40d5-adbb-96b88f1e5980-50        No Risk   \n",
       "46  f27ed9f8-d966-40d5-adbb-96b88f1e5980-51           Risk   \n",
       "47  f27ed9f8-d966-40d5-adbb-96b88f1e5980-52        No Risk   \n",
       "48  f27ed9f8-d966-40d5-adbb-96b88f1e5980-53           Risk   \n",
       "49  f27ed9f8-d966-40d5-adbb-96b88f1e5980-54        No Risk   \n",
       "50  f27ed9f8-d966-40d5-adbb-96b88f1e5980-55        No Risk   \n",
       "51  f27ed9f8-d966-40d5-adbb-96b88f1e5980-56        No Risk   \n",
       "52  f27ed9f8-d966-40d5-adbb-96b88f1e5980-58        No Risk   \n",
       "53  f27ed9f8-d966-40d5-adbb-96b88f1e5980-59        No Risk   \n",
       "54  f27ed9f8-d966-40d5-adbb-96b88f1e5980-60        No Risk   \n",
       "55  f27ed9f8-d966-40d5-adbb-96b88f1e5980-61           Risk   \n",
       "56  f27ed9f8-d966-40d5-adbb-96b88f1e5980-62        No Risk   \n",
       "57  f27ed9f8-d966-40d5-adbb-96b88f1e5980-63        No Risk   \n",
       "58  f27ed9f8-d966-40d5-adbb-96b88f1e5980-64           Risk   \n",
       "59  f27ed9f8-d966-40d5-adbb-96b88f1e5980-65           Risk   \n",
       "\n",
       "                                   probability  \n",
       "0    [0.7342992006506507, 0.26570079934934937]  \n",
       "1      [0.9325817190008531, 0.067418280999147]  \n",
       "2    [0.6627934624673603, 0.33720653753263974]  \n",
       "3     [0.7186449206874034, 0.2813550793125967]  \n",
       "4    [0.8447352571721282, 0.15526474282787184]  \n",
       "5    [0.949735394122734, 0.050264605877265986]  \n",
       "6    [0.07119184454084779, 0.9288081554591523]  \n",
       "7    [0.8106540974128227, 0.18934590258717732]  \n",
       "8     [0.7271672744053184, 0.2728327255946816]  \n",
       "9    [0.5090501922747169, 0.49094980772528307]  \n",
       "10   [0.7826501916242383, 0.21734980837576173]  \n",
       "11   [0.26509690618610976, 0.7349030938138903]  \n",
       "12   [0.7579241236764784, 0.24207587632352162]  \n",
       "13   [0.6888887356035436, 0.31111126439645653]  \n",
       "14   [0.20770058736701177, 0.7922994126329882]  \n",
       "15    [0.3159168157250094, 0.6840831842749905]  \n",
       "16  [0.9818080220786582, 0.018191977921341716]  \n",
       "17   [0.8723447926881395, 0.12765520731186059]  \n",
       "18  [0.9702683429455771, 0.029731657054422933]  \n",
       "19   [0.27669277733081155, 0.7233072226691885]  \n",
       "20   [0.6923517833580571, 0.30764821664194286]  \n",
       "21     [0.86150308709318, 0.13849691290682004]  \n",
       "22   [0.34580390511277087, 0.6541960948872291]  \n",
       "23    [0.6890258474135741, 0.3109741525864259]  \n",
       "24  [0.9766773721437083, 0.023322627856291626]  \n",
       "25   [0.8164271005769823, 0.18357289942301766]  \n",
       "26    [0.3190227548149894, 0.6809772451850106]  \n",
       "27    [0.06288774375236392, 0.937112256247636]  \n",
       "28    [0.6611956400746125, 0.3388043599253875]  \n",
       "29  [0.9818080220786582, 0.018191977921341716]  \n",
       "30    [0.5694452751755654, 0.4305547248244347]  \n",
       "31  [0.9818080220786582, 0.018191977921341716]  \n",
       "32    [0.6416522644694405, 0.3583477355305596]  \n",
       "33   [0.9660473983803175, 0.03395260161968246]  \n",
       "34   [0.05733218819680837, 0.9426678118031916]  \n",
       "35    [0.1804766484334562, 0.8195233515665438]  \n",
       "36  [0.9425875864478204, 0.057412413552179506]  \n",
       "37    [0.7590253271958068, 0.2409746728041932]  \n",
       "38    [0.745934476903415, 0.25406552309658503]  \n",
       "39   [0.7621618243136715, 0.23783817568632842]  \n",
       "40  [0.9729974036999636, 0.027002596300036423]  \n",
       "41   [0.7316996996989343, 0.26830030030106566]  \n",
       "42   [0.15166438153310308, 0.8483356184668969]  \n",
       "43   [0.8713757660333492, 0.12862423396665074]  \n",
       "44  [0.9655824378953142, 0.034417562104685766]  \n",
       "45    [0.5534045287207654, 0.4465954712792346]  \n",
       "46   [0.14954511673791382, 0.8504548832620861]  \n",
       "47   [0.7808158893956975, 0.21918411060430257]  \n",
       "48   [0.12131855897798394, 0.8786814410220162]  \n",
       "49    [0.7530987348333907, 0.2469012651666093]  \n",
       "50    [0.6646979558465027, 0.3353020441534973]  \n",
       "51   [0.6377390566862098, 0.36226094331379033]  \n",
       "52   [0.6069551385362291, 0.39304486146377104]  \n",
       "53   [0.8378804013221401, 0.16211959867785994]  \n",
       "54   [0.7771795650970681, 0.22282043490293188]  \n",
       "55    [0.4232364688690072, 0.5767635311309928]  \n",
       "56    [0.8224650608251725, 0.1775349391748276]  \n",
       "57    [0.8394863914555255, 0.1605136085444745]  \n",
       "58   [0.15872654497372124, 0.8412734550262787]  \n",
       "59    [0.4630522467543556, 0.5369477532456444]  "
      ]
     },
     "execution_count": 124,
     "metadata": {},
     "output_type": "execute_result"
    }
   ],
   "source": [
    "payload_data = subscription.payload_logging.get_table_content(limit=60)\n",
    "payload_data.filter(items=['scoring_id', 'predictedLabel', 'probability'])"
   ]
  },
  {
   "cell_type": "markdown",
   "metadata": {},
   "source": [
    "## Congratulations!\n",
    "\n",
    "You have finished the hands-on lab for IBM Watson OpenScale. You can now view the OpenScale Dashboard: (https://url-to-your-cp4d-cluster/aiopenscale). Click on the tile for the German Credit model to see fairness, accuracy, and performance monitors. Click on the timeseries graph to get detailed information on transactions during a specific time window.\n"
   ]
  },
  {
   "cell_type": "markdown",
   "metadata": {},
   "source": [
    "## Authors\n",
    "\n",
    "Eric Martens, is a technical specialist having expertise in analysis and description of business processes, and their translation into functional and non-functional IT requirements. He acts as the interpreter between the worlds of IT and business.\n",
    "\n",
    "Lukasz Cmielowski, PhD, is an Automation Architect and Data Scientist at IBM with a track record of developing enterprise-level applications that substantially increases clients' ability to turn data into actionable knowledge.\n",
    "\n",
    "Rounok Salehin,Data Scientist and Cognitive Developer at IBM with experties in enterprise-level machine learning/AI applications development emphasize on turning data into descriptive/actionable outcomes. "
   ]
  },
  {
   "cell_type": "code",
   "execution_count": null,
   "metadata": {},
   "outputs": [],
   "source": []
  }
 ],
 "metadata": {
  "kernelspec": {
   "display_name": "Python 3",
   "language": "python",
   "name": "python3"
  },
  "language_info": {
   "codemirror_mode": {
    "name": "ipython",
    "version": 3
   },
   "file_extension": ".py",
   "mimetype": "text/x-python",
   "name": "python",
   "nbconvert_exporter": "python",
   "pygments_lexer": "ipython3",
   "version": "3.7.3"
  },
  "varInspector": {
   "cols": {
    "lenName": 16,
    "lenType": 16,
    "lenVar": 40
   },
   "kernels_config": {
    "python": {
     "delete_cmd_postfix": "",
     "delete_cmd_prefix": "del ",
     "library": "var_list.py",
     "varRefreshCmd": "print(var_dic_list())"
    },
    "r": {
     "delete_cmd_postfix": ") ",
     "delete_cmd_prefix": "rm(",
     "library": "var_list.r",
     "varRefreshCmd": "cat(var_dic_list()) "
    }
   },
   "types_to_exclude": [
    "module",
    "function",
    "builtin_function_or_method",
    "instance",
    "_Feature"
   ],
   "window_display": false
  }
 },
 "nbformat": 4,
 "nbformat_minor": 1
}
