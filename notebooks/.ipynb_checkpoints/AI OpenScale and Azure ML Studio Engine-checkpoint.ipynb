{
 "cells": [
  {
   "cell_type": "raw",
   "metadata": {},
   "source": [
    "<img src=\"https://github.com/pmservice/ai-openscale-tutorials/raw/master/notebooks/images/banner.png\" align=\"left\" alt=\"banner\">"
   ]
  },
  {
   "cell_type": "markdown",
   "metadata": {},
   "source": [
    "# Working with Azure Machine Learning Studio engine"
   ]
  },
  {
   "cell_type": "markdown",
   "metadata": {},
   "source": [
    "This notebook shows how to monitor the model deployed on Azure Machine Learning Studio using Watson OpenScale python sdk."
   ]
  },
  {
   "cell_type": "markdown",
   "metadata": {},
   "source": [
    "Contents\n",
    "\n",
    "1. Setup\n",
    "2. Binding machine learning engine\n",
    "3. Subscriptions\n",
    "4. Performance monitor, scoring and payload logging\n",
    "5. Quality monitor and feedback logging\n",
    "6. Fairness, Drift monitor and explainability\n",
    "7. Payload analytics"
   ]
  },
  {
   "cell_type": "markdown",
   "metadata": {},
   "source": [
    "<a id=\"setup\"></a>\n",
    "## 1. Setup"
   ]
  },
  {
   "cell_type": "markdown",
   "metadata": {},
   "source": [
    "### Sample model creation using [Azure Machine Learning Studio](https://studio.azureml.net)"
   ]
  },
  {
   "cell_type": "markdown",
   "metadata": {},
   "source": [
    "- Download training data set from [here](https://github.com/pmservice/wml-sample-models/raw/master/spark/product-line-prediction/data/GoSales_Tx.csv)\n",
    "- Copy [credit risk experiment](https://gallery.cortanaintelligence.com/Experiment/German-credit-risk-created-on-1-9-2019) from Azure ML Studio Gallery \n",
    "- Run experiment to train a model\n",
    "- Create (deploy) web service (new)"
   ]
  },
  {
   "cell_type": "markdown",
   "metadata": {},
   "source": [
    "**NOTE:** Classic web services are not supported."
   ]
  },
  {
   "cell_type": "markdown",
   "metadata": {},
   "source": [
    "### Installation and authentication"
   ]
  },
  {
   "cell_type": "code",
   "execution_count": 1,
   "metadata": {
    "scrolled": true
   },
   "outputs": [
    {
     "name": "stdout",
     "output_type": "stream",
     "text": [
      "Successfully installed ibm-ai-openscale-2.2.1\n",
      "Successfully installed py4j-0.10.7 pyspark-2.4.5\n",
      "Successfully installed lime-0.1.1.32\n"
     ]
    }
   ],
   "source": [
    "!pip install --upgrade ibm-ai-openscale --no-cache | tail -n 1\n",
    "!pip install --upgrade pyspark --no-cache | tail -n 1\n",
    "!pip install --upgrade lime==0.1.1.32 --no-cache | tail -n 1"
   ]
  },
  {
   "cell_type": "markdown",
   "metadata": {},
   "source": [
    "**Action:** Restart the kernel (Kernel->Restart)"
   ]
  },
  {
   "cell_type": "markdown",
   "metadata": {},
   "source": [
    "Import and initiate."
   ]
  },
  {
   "cell_type": "code",
   "execution_count": 2,
   "metadata": {
    "scrolled": true
   },
   "outputs": [],
   "source": [
    "from ibm_ai_openscale import APIClient\n",
    "from ibm_ai_openscale.supporting_classes import PayloadRecord\n",
    "from ibm_ai_openscale.supporting_classes.enums import InputDataType, ProblemType\n",
    "from ibm_ai_openscale.engines import *\n",
    "from ibm_ai_openscale.utils import *"
   ]
  },
  {
   "cell_type": "markdown",
   "metadata": {},
   "source": [
    "#### ACTION: Get Watson OpenScale `apikey`\n",
    "\n",
    "How to install IBM Cloud (bluemix) console: [instruction](https://console.bluemix.net/docs/cli/reference/ibmcloud/download_cli.html#install_use)\n",
    "\n",
    "How to get api key using bluemix console:\n",
    "```\n",
    "bx login --sso\n",
    "bx iam api-key-create 'my_key'\n",
    "```"
   ]
  },
  {
   "cell_type": "code",
   "execution_count": 3,
   "metadata": {
    "scrolled": true
   },
   "outputs": [],
   "source": [
    "API_KEY = 'USE IBM CLOUD API KEY'"
   ]
  },
  {
   "cell_type": "code",
   "execution_count": 4,
   "metadata": {
    "scrolled": true
   },
   "outputs": [],
   "source": [
    "# The code was removed by Watson Studio for sharing."
   ]
  },
  {
   "cell_type": "markdown",
   "metadata": {},
   "source": [
    "#### Let's define some constants required to set up data mart:\n",
    "\n",
    "- AIOS_CREDENTIALS\n",
    "- POSTGRES_CREDENTIALS\n",
    "- SCHEMA_NAME"
   ]
  },
  {
   "cell_type": "code",
   "execution_count": 5,
   "metadata": {
    "scrolled": true
   },
   "outputs": [],
   "source": [
    "from ibm_ai_openscale.utils import get_instance_guid\n",
    "\n",
    "AIOS_CREDENTIALS = {\n",
    "  \"url\": \"https://api.aiopenscale.cloud.ibm.com\",\n",
    "  \"instance_guid\": get_instance_guid(api_key=API_KEY),\n",
    "  \"apikey\": API_KEY\n",
    "}"
   ]
  },
  {
   "cell_type": "code",
   "execution_count": 6,
   "metadata": {
    "scrolled": true
   },
   "outputs": [],
   "source": [
    "POSTGRES_CREDENTIALS = {\n",
    "    \"db_type\": \"postgresql\",\n",
    "    \"uri_cli_1\": \"xxx\",\n",
    "    \"maps\": [],\n",
    "    \"instance_administration_api\": {\n",
    "        \"instance_id\": \"xxx\",\n",
    "        \"root\": \"xxx\",\n",
    "        \"deployment_id\": \"xxx\"\n",
    "    },\n",
    "    \"name\": \"xxx\",\n",
    "    \"uri_cli\": \"xxx\",\n",
    "    \"uri_direct_1\": \"xxx\",\n",
    "    \"ca_certificate_base64\": \"xxx\",\n",
    "    \"deployment_id\": \"xxx\",\n",
    "    \"uri\": \"xxx\"\n",
    "}"
   ]
  },
  {
   "cell_type": "code",
   "execution_count": 7,
   "metadata": {
    "scrolled": true
   },
   "outputs": [],
   "source": [
    "# The code was removed by Watson Studio for sharing."
   ]
  },
  {
   "cell_type": "code",
   "execution_count": 8,
   "metadata": {
    "scrolled": true
   },
   "outputs": [],
   "source": [
    "SCHEMA_NAME = 'azure_dm'"
   ]
  },
  {
   "cell_type": "markdown",
   "metadata": {},
   "source": [
    "Create schema for data mart."
   ]
  },
  {
   "cell_type": "code",
   "execution_count": 9,
   "metadata": {
    "scrolled": true
   },
   "outputs": [],
   "source": [
    "create_postgres_schema(postgres_credentials=POSTGRES_CREDENTIALS, schema_name=SCHEMA_NAME)"
   ]
  },
  {
   "cell_type": "code",
   "execution_count": 10,
   "metadata": {
    "scrolled": true
   },
   "outputs": [],
   "source": [
    "client = APIClient(AIOS_CREDENTIALS)"
   ]
  },
  {
   "cell_type": "code",
   "execution_count": 11,
   "metadata": {
    "scrolled": true
   },
   "outputs": [
    {
     "data": {
      "text/plain": [
       "'2.2.1'"
      ]
     },
     "execution_count": 11,
     "metadata": {},
     "output_type": "execute_result"
    }
   ],
   "source": [
    "client.version"
   ]
  },
  {
   "cell_type": "markdown",
   "metadata": {},
   "source": [
    "#### Download and preview training data set"
   ]
  },
  {
   "cell_type": "code",
   "execution_count": 12,
   "metadata": {
    "scrolled": true
   },
   "outputs": [
    {
     "name": "stdout",
     "output_type": "stream",
     "text": [
      "--2020-04-01 18:43:42--  https://raw.githubusercontent.com/pmservice/wml-sample-models/master/spark/credit-risk/data/credit_risk_training.csv\n",
      "Resolving raw.githubusercontent.com (raw.githubusercontent.com)... 151.101.48.133\n",
      "Connecting to raw.githubusercontent.com (raw.githubusercontent.com)|151.101.48.133|:443... connected.\n",
      "HTTP request sent, awaiting response... 200 OK\n",
      "Length: 694222 (678K) [text/plain]\n",
      "Saving to: ‘credit_risk_training.csv’\n",
      "\n",
      "100%[======================================>] 694,222     --.-K/s   in 0.04s   \n",
      "\n",
      "2020-04-01 18:43:42 (16.3 MB/s) - ‘credit_risk_training.csv’ saved [694222/694222]\n",
      "\n"
     ]
    }
   ],
   "source": [
    "!rm -rf credit_risk_training.csv\n",
    "!wget \"https://raw.githubusercontent.com/pmservice/wml-sample-models/master/spark/credit-risk/data/credit_risk_training.csv\""
   ]
  },
  {
   "cell_type": "code",
   "execution_count": 13,
   "metadata": {
    "scrolled": true
   },
   "outputs": [],
   "source": [
    "import pandas as pd\n",
    "\n",
    "training_data_pd = pd.read_csv(\n",
    "        \"credit_risk_training.csv\",\n",
    "        dtype={'LoanDuration': int, 'LoanAmount': int, 'InstallmentPercent': int, 'CurrentResidenceDuration': int, 'Age': int, 'ExistingCreditsCount': int, 'Dependents': int})"
   ]
  },
  {
   "cell_type": "code",
   "execution_count": 14,
   "metadata": {
    "scrolled": true
   },
   "outputs": [
    {
     "data": {
      "text/html": [
       "<div>\n",
       "<style scoped>\n",
       "    .dataframe tbody tr th:only-of-type {\n",
       "        vertical-align: middle;\n",
       "    }\n",
       "\n",
       "    .dataframe tbody tr th {\n",
       "        vertical-align: top;\n",
       "    }\n",
       "\n",
       "    .dataframe thead th {\n",
       "        text-align: right;\n",
       "    }\n",
       "</style>\n",
       "<table border=\"1\" class=\"dataframe\">\n",
       "  <thead>\n",
       "    <tr style=\"text-align: right;\">\n",
       "      <th></th>\n",
       "      <th>CheckingStatus</th>\n",
       "      <th>LoanDuration</th>\n",
       "      <th>CreditHistory</th>\n",
       "      <th>LoanPurpose</th>\n",
       "      <th>LoanAmount</th>\n",
       "      <th>ExistingSavings</th>\n",
       "      <th>EmploymentDuration</th>\n",
       "      <th>InstallmentPercent</th>\n",
       "      <th>Sex</th>\n",
       "      <th>OthersOnLoan</th>\n",
       "      <th>...</th>\n",
       "      <th>OwnsProperty</th>\n",
       "      <th>Age</th>\n",
       "      <th>InstallmentPlans</th>\n",
       "      <th>Housing</th>\n",
       "      <th>ExistingCreditsCount</th>\n",
       "      <th>Job</th>\n",
       "      <th>Dependents</th>\n",
       "      <th>Telephone</th>\n",
       "      <th>ForeignWorker</th>\n",
       "      <th>Risk</th>\n",
       "    </tr>\n",
       "  </thead>\n",
       "  <tbody>\n",
       "    <tr>\n",
       "      <th>0</th>\n",
       "      <td>0_to_200</td>\n",
       "      <td>31</td>\n",
       "      <td>credits_paid_to_date</td>\n",
       "      <td>other</td>\n",
       "      <td>1889</td>\n",
       "      <td>100_to_500</td>\n",
       "      <td>less_1</td>\n",
       "      <td>3</td>\n",
       "      <td>female</td>\n",
       "      <td>none</td>\n",
       "      <td>...</td>\n",
       "      <td>savings_insurance</td>\n",
       "      <td>32</td>\n",
       "      <td>none</td>\n",
       "      <td>own</td>\n",
       "      <td>1</td>\n",
       "      <td>skilled</td>\n",
       "      <td>1</td>\n",
       "      <td>none</td>\n",
       "      <td>yes</td>\n",
       "      <td>No Risk</td>\n",
       "    </tr>\n",
       "    <tr>\n",
       "      <th>1</th>\n",
       "      <td>less_0</td>\n",
       "      <td>18</td>\n",
       "      <td>credits_paid_to_date</td>\n",
       "      <td>car_new</td>\n",
       "      <td>462</td>\n",
       "      <td>less_100</td>\n",
       "      <td>1_to_4</td>\n",
       "      <td>2</td>\n",
       "      <td>female</td>\n",
       "      <td>none</td>\n",
       "      <td>...</td>\n",
       "      <td>savings_insurance</td>\n",
       "      <td>37</td>\n",
       "      <td>stores</td>\n",
       "      <td>own</td>\n",
       "      <td>2</td>\n",
       "      <td>skilled</td>\n",
       "      <td>1</td>\n",
       "      <td>none</td>\n",
       "      <td>yes</td>\n",
       "      <td>No Risk</td>\n",
       "    </tr>\n",
       "    <tr>\n",
       "      <th>2</th>\n",
       "      <td>less_0</td>\n",
       "      <td>15</td>\n",
       "      <td>prior_payments_delayed</td>\n",
       "      <td>furniture</td>\n",
       "      <td>250</td>\n",
       "      <td>less_100</td>\n",
       "      <td>1_to_4</td>\n",
       "      <td>2</td>\n",
       "      <td>male</td>\n",
       "      <td>none</td>\n",
       "      <td>...</td>\n",
       "      <td>real_estate</td>\n",
       "      <td>28</td>\n",
       "      <td>none</td>\n",
       "      <td>own</td>\n",
       "      <td>2</td>\n",
       "      <td>skilled</td>\n",
       "      <td>1</td>\n",
       "      <td>yes</td>\n",
       "      <td>no</td>\n",
       "      <td>No Risk</td>\n",
       "    </tr>\n",
       "    <tr>\n",
       "      <th>3</th>\n",
       "      <td>0_to_200</td>\n",
       "      <td>28</td>\n",
       "      <td>credits_paid_to_date</td>\n",
       "      <td>retraining</td>\n",
       "      <td>3693</td>\n",
       "      <td>less_100</td>\n",
       "      <td>greater_7</td>\n",
       "      <td>3</td>\n",
       "      <td>male</td>\n",
       "      <td>none</td>\n",
       "      <td>...</td>\n",
       "      <td>savings_insurance</td>\n",
       "      <td>32</td>\n",
       "      <td>none</td>\n",
       "      <td>own</td>\n",
       "      <td>1</td>\n",
       "      <td>skilled</td>\n",
       "      <td>1</td>\n",
       "      <td>none</td>\n",
       "      <td>yes</td>\n",
       "      <td>No Risk</td>\n",
       "    </tr>\n",
       "    <tr>\n",
       "      <th>4</th>\n",
       "      <td>no_checking</td>\n",
       "      <td>28</td>\n",
       "      <td>prior_payments_delayed</td>\n",
       "      <td>education</td>\n",
       "      <td>6235</td>\n",
       "      <td>500_to_1000</td>\n",
       "      <td>greater_7</td>\n",
       "      <td>3</td>\n",
       "      <td>male</td>\n",
       "      <td>none</td>\n",
       "      <td>...</td>\n",
       "      <td>unknown</td>\n",
       "      <td>57</td>\n",
       "      <td>none</td>\n",
       "      <td>own</td>\n",
       "      <td>2</td>\n",
       "      <td>skilled</td>\n",
       "      <td>1</td>\n",
       "      <td>none</td>\n",
       "      <td>yes</td>\n",
       "      <td>Risk</td>\n",
       "    </tr>\n",
       "  </tbody>\n",
       "</table>\n",
       "<p>5 rows × 21 columns</p>\n",
       "</div>"
      ],
      "text/plain": [
       "  CheckingStatus  LoanDuration           CreditHistory LoanPurpose  \\\n",
       "0       0_to_200            31    credits_paid_to_date       other   \n",
       "1         less_0            18    credits_paid_to_date     car_new   \n",
       "2         less_0            15  prior_payments_delayed   furniture   \n",
       "3       0_to_200            28    credits_paid_to_date  retraining   \n",
       "4    no_checking            28  prior_payments_delayed   education   \n",
       "\n",
       "   LoanAmount ExistingSavings EmploymentDuration  InstallmentPercent     Sex  \\\n",
       "0        1889      100_to_500             less_1                   3  female   \n",
       "1         462        less_100             1_to_4                   2  female   \n",
       "2         250        less_100             1_to_4                   2    male   \n",
       "3        3693        less_100          greater_7                   3    male   \n",
       "4        6235     500_to_1000          greater_7                   3    male   \n",
       "\n",
       "  OthersOnLoan  ...       OwnsProperty Age  InstallmentPlans Housing  \\\n",
       "0         none  ...  savings_insurance  32              none     own   \n",
       "1         none  ...  savings_insurance  37            stores     own   \n",
       "2         none  ...        real_estate  28              none     own   \n",
       "3         none  ...  savings_insurance  32              none     own   \n",
       "4         none  ...            unknown  57              none     own   \n",
       "\n",
       "  ExistingCreditsCount      Job Dependents  Telephone ForeignWorker     Risk  \n",
       "0                    1  skilled          1       none           yes  No Risk  \n",
       "1                    2  skilled          1       none           yes  No Risk  \n",
       "2                    2  skilled          1        yes            no  No Risk  \n",
       "3                    1  skilled          1       none           yes  No Risk  \n",
       "4                    2  skilled          1       none           yes     Risk  \n",
       "\n",
       "[5 rows x 21 columns]"
      ]
     },
     "execution_count": 14,
     "metadata": {},
     "output_type": "execute_result"
    }
   ],
   "source": [
    "training_data_pd.head()"
   ]
  },
  {
   "cell_type": "markdown",
   "metadata": {},
   "source": [
    "### DataMart setup"
   ]
  },
  {
   "cell_type": "code",
   "execution_count": 15,
   "metadata": {
    "scrolled": true
   },
   "outputs": [],
   "source": [
    "client.data_mart.setup(db_credentials=POSTGRES_CREDENTIALS, schema=SCHEMA_NAME)"
   ]
  },
  {
   "cell_type": "code",
   "execution_count": 16,
   "metadata": {
    "scrolled": true
   },
   "outputs": [],
   "source": [
    "data_mart_details = client.data_mart.get_details()"
   ]
  },
  {
   "cell_type": "markdown",
   "metadata": {},
   "source": [
    "<a id=\"binding\"></a>\n",
    "## 2. Bind machine learning engines"
   ]
  },
  {
   "cell_type": "markdown",
   "metadata": {},
   "source": [
    "### Bind  `Azure` machine learning studio\n",
    "\n",
    "Provide credentials using following fields:\n",
    "- `client_id`\n",
    "- `client_secret`\n",
    "- `subscription_id`\n",
    "- `tenant`"
   ]
  },
  {
   "cell_type": "code",
   "execution_count": 17,
   "metadata": {
    "scrolled": true
   },
   "outputs": [],
   "source": [
    "AZURE_ENGINE_CREDENTIALS = {\n",
    "    \"client_id\": \"***\",\n",
    "    \"client_secret\": \"***\",\n",
    "    \"subscription_id\": \"***\",\n",
    "    \"tenant\": \"***\"\n",
    "}"
   ]
  },
  {
   "cell_type": "code",
   "execution_count": 18,
   "metadata": {
    "scrolled": true
   },
   "outputs": [],
   "source": [
    "# The code was removed by Watson Studio for sharing."
   ]
  },
  {
   "cell_type": "code",
   "execution_count": 19,
   "metadata": {
    "scrolled": true
   },
   "outputs": [],
   "source": [
    "binding_uid = client.data_mart.bindings.add('My Azure ML Studio engine', AzureMachineLearningStudioInstance(AZURE_ENGINE_CREDENTIALS))"
   ]
  },
  {
   "cell_type": "code",
   "execution_count": 20,
   "metadata": {
    "scrolled": true
   },
   "outputs": [],
   "source": [
    "bindings_details = client.data_mart.bindings.get_details()"
   ]
  },
  {
   "cell_type": "code",
   "execution_count": 21,
   "metadata": {
    "scrolled": true
   },
   "outputs": [
    {
     "data": {
      "text/html": [
       "<HTML>\n",
       "        <body>\n",
       "            <h3>Service bindings</h3>\n",
       "            <table style='border: 1px solid #dddddd; font-family: Courier'>\n",
       "                <th style='border: 1px solid #dddddd'>uid</th><th style='border: 1px solid #dddddd'>name</th><th style='border: 1px solid #dddddd'>service_type</th><th style='border: 1px solid #dddddd'>created</th>\n",
       "                <tr><td style='border: 1px solid #dddddd'>6ac4d3c4-862f-4702-8053-9f531466686a</td><td style='border: 1px solid #dddddd'>My Azure ML Studio engine</td><td style='border: 1px solid #dddddd'>azure_machine_learning</td><td style='border: 1px solid #dddddd'>2020-04-01T18:44:08.993Z</td></tr><tr><td style='border: 1px solid #dddddd'>87d766e0-8b4d-42fd-85c1-c313f189d411</td><td style='border: 1px solid #dddddd'>WML Instance</td><td style='border: 1px solid #dddddd'>watson_machine_learning</td><td style='border: 1px solid #dddddd'>2020-03-06T21:02:52.670Z</td></tr>\n",
       "            </table>\n",
       "        </body>\n",
       "        </HTML>"
      ],
      "text/plain": [
       "<IPython.core.display.HTML object>"
      ]
     },
     "metadata": {},
     "output_type": "display_data"
    }
   ],
   "source": [
    "client.data_mart.bindings.list()"
   ]
  },
  {
   "cell_type": "markdown",
   "metadata": {},
   "source": [
    "<a id=\"subsciption\"></a>\n",
    "## 3. Subscriptions"
   ]
  },
  {
   "cell_type": "markdown",
   "metadata": {},
   "source": [
    "### Add subscriptions"
   ]
  },
  {
   "cell_type": "markdown",
   "metadata": {},
   "source": [
    "List available deployments.\n",
    "\n",
    "**Note:** Depending on number of assets it may take some time."
   ]
  },
  {
   "cell_type": "code",
   "execution_count": 22,
   "metadata": {
    "scrolled": true
   },
   "outputs": [
    {
     "data": {
      "text/html": [
       "<HTML>\n",
       "        <body>\n",
       "            <h3>Available assets (binding_uid='6ac4d3c4-862f-4702-8053-9f531466686a')</h3>\n",
       "            <table style='border: 1px solid #dddddd; font-family: Courier'>\n",
       "                <th style='border: 1px solid #dddddd'>source_uid</th><th style='border: 1px solid #dddddd'>name</th><th style='border: 1px solid #dddddd'>created</th><th style='border: 1px solid #dddddd'>type</th><th style='border: 1px solid #dddddd'>frameworks</th><th style='border: 1px solid #dddddd'>binding_uid</th><th style='border: 1px solid #dddddd'>is_subscribed</th>\n",
       "                <tr><td style='border: 1px solid #dddddd'>2e0bf2a9b0567d419d37b3f992d40749</td><td style='border: 1px solid #dddddd'>balancescale.multiclass</td><td style='border: 1px solid #dddddd'>2019-06-06T02:17:19.3204159Z</td><td style='border: 1px solid #dddddd'>model</td><td style='border: 1px solid #dddddd'></td><td style='border: 1px solid #dddddd'>6ac4d3c4-862f-4702-8053-9f531466686a</td><td style='border: 1px solid #dddddd'>False</td></tr><tr><td style='border: 1px solid #dddddd'>5acb22f1b2d22b6ecb44d5bac5d6f44f</td><td style='border: 1px solid #dddddd'>bankmarket.binary</td><td style='border: 1px solid #dddddd'>2019-05-28T14:50:01.6576057Z</td><td style='border: 1px solid #dddddd'>model</td><td style='border: 1px solid #dddddd'></td><td style='border: 1px solid #dddddd'>6ac4d3c4-862f-4702-8053-9f531466686a</td><td style='border: 1px solid #dddddd'>False</td></tr><tr><td style='border: 1px solid #dddddd'>6a3f4095de199d0e35a8ede7d72a491f</td><td style='border: 1px solid #dddddd'>loanlogisticregression</td><td style='border: 1px solid #dddddd'>2019-05-24T12:12:46.4120458Z</td><td style='border: 1px solid #dddddd'>model</td><td style='border: 1px solid #dddddd'></td><td style='border: 1px solid #dddddd'>6ac4d3c4-862f-4702-8053-9f531466686a</td><td style='border: 1px solid #dddddd'>False</td></tr><tr><td style='border: 1px solid #dddddd'>3f3bb16a7bc9971fecbe9045bea764fd</td><td style='border: 1px solid #dddddd'>lendingclub.loan.multiclass</td><td style='border: 1px solid #dddddd'>2019-05-15T14:16:40.4861116Z</td><td style='border: 1px solid #dddddd'>model</td><td style='border: 1px solid #dddddd'></td><td style='border: 1px solid #dddddd'>6ac4d3c4-862f-4702-8053-9f531466686a</td><td style='border: 1px solid #dddddd'>False</td></tr><tr><td style='border: 1px solid #dddddd'>8b3fa6de5b35bb77fdc640877f5ee16b</td><td style='border: 1px solid #dddddd'>forestcover.multiclass</td><td style='border: 1px solid #dddddd'>2019-05-15T09:52:01.6785081Z</td><td style='border: 1px solid #dddddd'>model</td><td style='border: 1px solid #dddddd'></td><td style='border: 1px solid #dddddd'>6ac4d3c4-862f-4702-8053-9f531466686a</td><td style='border: 1px solid #dddddd'>False</td></tr><tr><td style='border: 1px solid #dddddd'>417532dc6dae852809393ae097703de5</td><td style='border: 1px solid #dddddd'>adultcensusincome.logistic.regression</td><td style='border: 1px solid #dddddd'>2019-05-08T08:09:09.3483819Z</td><td style='border: 1px solid #dddddd'>model</td><td style='border: 1px solid #dddddd'></td><td style='border: 1px solid #dddddd'>6ac4d3c4-862f-4702-8053-9f531466686a</td><td style='border: 1px solid #dddddd'>False</td></tr><tr><td style='border: 1px solid #dddddd'>690e5e9d2c03859de56a0c7570097ec7</td><td style='border: 1px solid #dddddd'>incomeprediction.census</td><td style='border: 1px solid #dddddd'>2019-05-07T17:12:53.5401795Z</td><td style='border: 1px solid #dddddd'>model</td><td style='border: 1px solid #dddddd'></td><td style='border: 1px solid #dddddd'>6ac4d3c4-862f-4702-8053-9f531466686a</td><td style='border: 1px solid #dddddd'>False</td></tr><tr><td style='border: 1px solid #dddddd'>31816b6dfa672e0d18dd0485cb82c4be</td><td style='border: 1px solid #dddddd'>bikerental.linear.regression</td><td style='border: 1px solid #dddddd'>2019-05-07T16:25:47.8119975Z</td><td style='border: 1px solid #dddddd'>model</td><td style='border: 1px solid #dddddd'></td><td style='border: 1px solid #dddddd'>6ac4d3c4-862f-4702-8053-9f531466686a</td><td style='border: 1px solid #dddddd'>False</td></tr><tr><td style='border: 1px solid #dddddd'>20a23d9de1ab5762b880d7bc4ce09ff2</td><td style='border: 1px solid #dddddd'>videogameverdict.binary</td><td style='border: 1px solid #dddddd'>2019-05-06T17:05:16.3846249Z</td><td style='border: 1px solid #dddddd'>model</td><td style='border: 1px solid #dddddd'></td><td style='border: 1px solid #dddddd'>6ac4d3c4-862f-4702-8053-9f531466686a</td><td style='border: 1px solid #dddddd'>False</td></tr><tr><td style='border: 1px solid #dddddd'>78108c0d5e657065f65c7217b90351bd</td><td style='border: 1px solid #dddddd'>letterrecognition.multiclass</td><td style='border: 1px solid #dddddd'>2019-05-06T16:58:04.7056361Z</td><td style='border: 1px solid #dddddd'>model</td><td style='border: 1px solid #dddddd'></td><td style='border: 1px solid #dddddd'>6ac4d3c4-862f-4702-8053-9f531466686a</td><td style='border: 1px solid #dddddd'>False</td></tr><tr><td style='border: 1px solid #dddddd'>5202b312258ed793823d67c6ece36987</td><td style='border: 1px solid #dddddd'>bikerental.regression</td><td style='border: 1px solid #dddddd'>2019-05-06T16:51:07.9481437Z</td><td style='border: 1px solid #dddddd'>model</td><td style='border: 1px solid #dddddd'></td><td style='border: 1px solid #dddddd'>6ac4d3c4-862f-4702-8053-9f531466686a</td><td style='border: 1px solid #dddddd'>False</td></tr><tr><td style='border: 1px solid #dddddd'>76611220d2a21271860e391d01269235</td><td style='border: 1px solid #dddddd'>walkingactivity.multiclass</td><td style='border: 1px solid #dddddd'>2019-05-06T15:40:44.3115174Z</td><td style='border: 1px solid #dddddd'>model</td><td style='border: 1px solid #dddddd'></td><td style='border: 1px solid #dddddd'>6ac4d3c4-862f-4702-8053-9f531466686a</td><td style='border: 1px solid #dddddd'>False</td></tr><tr><td style='border: 1px solid #dddddd'>c08abd85de8de5a1cf691a3535d28a2e</td><td style='border: 1px solid #dddddd'>adult.census.binary</td><td style='border: 1px solid #dddddd'>2019-05-06T11:33:11.2195519Z</td><td style='border: 1px solid #dddddd'>model</td><td style='border: 1px solid #dddddd'></td><td style='border: 1px solid #dddddd'>6ac4d3c4-862f-4702-8053-9f531466686a</td><td style='border: 1px solid #dddddd'>False</td></tr><tr><td style='border: 1px solid #dddddd'>c60ed0933ee963672f74778a87289b14</td><td style='border: 1px solid #dddddd'>IncomePrediction.2019.3.15.10.54.53.233</td><td style='border: 1px solid #dddddd'>2019-03-15T10:56:01.3464451Z</td><td style='border: 1px solid #dddddd'>model</td><td style='border: 1px solid #dddddd'></td><td style='border: 1px solid #dddddd'>6ac4d3c4-862f-4702-8053-9f531466686a</td><td style='border: 1px solid #dddddd'>False</td></tr><tr><td style='border: 1px solid #dddddd'>517d90acd374f5a5778fd5e83bdf8a40</td><td style='border: 1px solid #dddddd'>Sklearn-linear-regression-1</td><td style='border: 1px solid #dddddd'>2019-02-22T16:41:12.3994798Z</td><td style='border: 1px solid #dddddd'>model</td><td style='border: 1px solid #dddddd'></td><td style='border: 1px solid #dddddd'>6ac4d3c4-862f-4702-8053-9f531466686a</td><td style='border: 1px solid #dddddd'>False</td></tr><tr><td style='border: 1px solid #dddddd'>84a9175980d4a0b306c9c79df5086db4</td><td style='border: 1px solid #dddddd'>Sklearn-Iris-1</td><td style='border: 1px solid #dddddd'>2019-02-21T23:23:44.8789721Z</td><td style='border: 1px solid #dddddd'>model</td><td style='border: 1px solid #dddddd'></td><td style='border: 1px solid #dddddd'>6ac4d3c4-862f-4702-8053-9f531466686a</td><td style='border: 1px solid #dddddd'>False</td></tr><tr><td style='border: 1px solid #dddddd'>20166ed5d8979ec15a6e03aa2db78e48</td><td style='border: 1px solid #dddddd'>ProductlinetestFeb15</td><td style='border: 1px solid #dddddd'>2019-02-15T07:21:16.5368409Z</td><td style='border: 1px solid #dddddd'>model</td><td style='border: 1px solid #dddddd'></td><td style='border: 1px solid #dddddd'>6ac4d3c4-862f-4702-8053-9f531466686a</td><td style='border: 1px solid #dddddd'>False</td></tr><tr><td style='border: 1px solid #dddddd'>7d56bf771bfcd6d9b7d9a58bf3fdf24d</td><td style='border: 1px solid #dddddd'>ExecutePythonScr.2019.2.13.8.6.20.493</td><td style='border: 1px solid #dddddd'>2019-02-13T08:06:27.6046787Z</td><td style='border: 1px solid #dddddd'>model</td><td style='border: 1px solid #dddddd'></td><td style='border: 1px solid #dddddd'>6ac4d3c4-862f-4702-8053-9f531466686a</td><td style='border: 1px solid #dddddd'>False</td></tr><tr><td style='border: 1px solid #dddddd'>3d9d326a906661b64ab9e3f6b232189b</td><td style='border: 1px solid #dddddd'>hung-TensorflowMNISTE.2019.2.13.7.18.28.543</td><td style='border: 1px solid #dddddd'>2019-02-13T07:18:46.3150458Z</td><td style='border: 1px solid #dddddd'>model</td><td style='border: 1px solid #dddddd'></td><td style='border: 1px solid #dddddd'>6ac4d3c4-862f-4702-8053-9f531466686a</td><td style='border: 1px solid #dddddd'>False</td></tr><tr><td style='border: 1px solid #dddddd'>6de5e798b8b64cc5d09e91734a149197</td><td style='border: 1px solid #dddddd'>DaveGermanCredit.2019.2.12.17.16.52.617</td><td style='border: 1px solid #dddddd'>2019-02-12T17:18:04.5957903Z</td><td style='border: 1px solid #dddddd'>model</td><td style='border: 1px solid #dddddd'></td><td style='border: 1px solid #dddddd'>6ac4d3c4-862f-4702-8053-9f531466686a</td><td style='border: 1px solid #dddddd'>False</td></tr><tr><td style='border: 1px solid #dddddd'>fe4eb4722074a5922ef474d62e3899e8</td><td style='border: 1px solid #dddddd'>Hung-IncomeExperiment</td><td style='border: 1px solid #dddddd'>2019-02-08T17:24:47.2672878Z</td><td style='border: 1px solid #dddddd'>model</td><td style='border: 1px solid #dddddd'></td><td style='border: 1px solid #dddddd'>6ac4d3c4-862f-4702-8053-9f531466686a</td><td style='border: 1px solid #dddddd'>False</td></tr><tr><td style='border: 1px solid #dddddd'>eb4c24fd0e14d53007a50aef50dbb501</td><td style='border: 1px solid #dddddd'>IncomeExperiment.2019.2.6.23.10.17.731</td><td style='border: 1px solid #dddddd'>2019-02-06T23:11:50.528911Z</td><td style='border: 1px solid #dddddd'>model</td><td style='border: 1px solid #dddddd'></td><td style='border: 1px solid #dddddd'>6ac4d3c4-862f-4702-8053-9f531466686a</td><td style='border: 1px solid #dddddd'>False</td></tr><tr><td style='border: 1px solid #dddddd'>4fff12e2b55fe1038b2e04d98be759c5</td><td style='border: 1px solid #dddddd'>FastpathGermanCreditRisk.2019.2.1.17.17.21.412</td><td style='border: 1px solid #dddddd'>2019-02-01T17:17:55.575148Z</td><td style='border: 1px solid #dddddd'>model</td><td style='border: 1px solid #dddddd'></td><td style='border: 1px solid #dddddd'>6ac4d3c4-862f-4702-8053-9f531466686a</td><td style='border: 1px solid #dddddd'>False</td></tr><tr><td style='border: 1px solid #dddddd'>986fd3e779b52d0e23a2bde5b6da996c</td><td style='border: 1px solid #dddddd'>ScottdaAzureML12.2019.1.29.21.29.50.528</td><td style='border: 1px solid #dddddd'>2019-01-29T21:30:38.2982264Z</td><td style='border: 1px solid #dddddd'>model</td><td style='border: 1px solid #dddddd'></td><td style='border: 1px solid #dddddd'>6ac4d3c4-862f-4702-8053-9f531466686a</td><td style='border: 1px solid #dddddd'>False</td></tr><tr><td style='border: 1px solid #dddddd'>9b6abb9a934cecf33a465f07d73aabe6</td><td style='border: 1px solid #dddddd'>MultiClass-ProductLineTestAutomationNC</td><td style='border: 1px solid #dddddd'>2019-01-21T06:50:06.8313304Z</td><td style='border: 1px solid #dddddd'>model</td><td style='border: 1px solid #dddddd'></td><td style='border: 1px solid #dddddd'>6ac4d3c4-862f-4702-8053-9f531466686a</td><td style='border: 1px solid #dddddd'>False</td></tr><tr><td style='border: 1px solid #dddddd'>33ee79fb8e64881e9182dd4fd3475586</td><td style='border: 1px solid #dddddd'>ClaimInsuranceRegressionTestAutomationCat</td><td style='border: 1px solid #dddddd'>2019-01-21T06:46:49.6811946Z</td><td style='border: 1px solid #dddddd'>model</td><td style='border: 1px solid #dddddd'></td><td style='border: 1px solid #dddddd'>6ac4d3c4-862f-4702-8053-9f531466686a</td><td style='border: 1px solid #dddddd'>False</td></tr><tr><td style='border: 1px solid #dddddd'>97521fdfaf0830239fadfbac0d5d0091</td><td style='border: 1px solid #dddddd'>ClaimInsuranceRegressionTestAutomationNC</td><td style='border: 1px solid #dddddd'>2019-01-21T06:41:04.8380274Z</td><td style='border: 1px solid #dddddd'>model</td><td style='border: 1px solid #dddddd'></td><td style='border: 1px solid #dddddd'>6ac4d3c4-862f-4702-8053-9f531466686a</td><td style='border: 1px solid #dddddd'>False</td></tr><tr><td style='border: 1px solid #dddddd'>a7474537b6166d3cc01481b647423769</td><td style='border: 1px solid #dddddd'>Germancreditrisk.2019.1.17.14.9.9.994</td><td style='border: 1px solid #dddddd'>2019-01-17T14:09:46.5811815Z</td><td style='border: 1px solid #dddddd'>model</td><td style='border: 1px solid #dddddd'></td><td style='border: 1px solid #dddddd'>6ac4d3c4-862f-4702-8053-9f531466686a</td><td style='border: 1px solid #dddddd'>False</td></tr><tr><td style='border: 1px solid #dddddd'>085460ef94636166aea5800e9ea26168</td><td style='border: 1px solid #dddddd'>GermanCreditRisk.2019.1.9.10.41.58.611</td><td style='border: 1px solid #dddddd'>2019-01-09T10:42:59.7933412Z</td><td style='border: 1px solid #dddddd'>model</td><td style='border: 1px solid #dddddd'></td><td style='border: 1px solid #dddddd'>6ac4d3c4-862f-4702-8053-9f531466686a</td><td style='border: 1px solid #dddddd'>False</td></tr><tr><td style='border: 1px solid #dddddd'>77919091f862ab6a128edc60ccafc064</td><td style='border: 1px solid #dddddd'>ASHDrugModelPred.2019.1.8.9.48.15.590</td><td style='border: 1px solid #dddddd'>2019-01-08T09:48:33.9184573Z</td><td style='border: 1px solid #dddddd'>model</td><td style='border: 1px solid #dddddd'></td><td style='border: 1px solid #dddddd'>6ac4d3c4-862f-4702-8053-9f531466686a</td><td style='border: 1px solid #dddddd'>False</td></tr><tr><td style='border: 1px solid #dddddd'>920beeba5513b8059799900ecfcbdeca</td><td style='border: 1px solid #dddddd'>MultiClass-ProductLineTestAutomation</td><td style='border: 1px solid #dddddd'>2019-01-05T05:55:41.6061263Z</td><td style='border: 1px solid #dddddd'>model</td><td style='border: 1px solid #dddddd'></td><td style='border: 1px solid #dddddd'>6ac4d3c4-862f-4702-8053-9f531466686a</td><td style='border: 1px solid #dddddd'>False</td></tr><tr><td style='border: 1px solid #dddddd'>56f60f0e2f997ed58d851e5a063eb554</td><td style='border: 1px solid #dddddd'>ClaimInsuranceRegressionTestAutomation</td><td style='border: 1px solid #dddddd'>2019-01-04T10:43:02.5032489Z</td><td style='border: 1px solid #dddddd'>model</td><td style='border: 1px solid #dddddd'></td><td style='border: 1px solid #dddddd'>6ac4d3c4-862f-4702-8053-9f531466686a</td><td style='border: 1px solid #dddddd'>False</td></tr><tr><td style='border: 1px solid #dddddd'>e5a8d57a6002c42fac5524948683295d</td><td style='border: 1px solid #dddddd'>InsuranceClaimBinaryTestAutomation</td><td style='border: 1px solid #dddddd'>2019-01-04T05:52:25.0479481Z</td><td style='border: 1px solid #dddddd'>model</td><td style='border: 1px solid #dddddd'></td><td style='border: 1px solid #dddddd'>6ac4d3c4-862f-4702-8053-9f531466686a</td><td style='border: 1px solid #dddddd'>False</td></tr><tr><td style='border: 1px solid #dddddd'>dc0a9a92cfb377234b6266dd223ae4d0</td><td style='border: 1px solid #dddddd'>frauddetectionpr.2019.1.2.7.59.28.838</td><td style='border: 1px solid #dddddd'>2019-01-02T08:00:03.8203084Z</td><td style='border: 1px solid #dddddd'>model</td><td style='border: 1px solid #dddddd'></td><td style='border: 1px solid #dddddd'>6ac4d3c4-862f-4702-8053-9f531466686a</td><td style='border: 1px solid #dddddd'>False</td></tr><tr><td style='border: 1px solid #dddddd'>bc108cd66382ae734b60ae853c5242a1</td><td style='border: 1px solid #dddddd'>DPJC-Titanic-Retraining.2018.12.21.9.21.43.439</td><td style='border: 1px solid #dddddd'>2018-12-21T09:22:14.1837647Z</td><td style='border: 1px solid #dddddd'>model</td><td style='border: 1px solid #dddddd'></td><td style='border: 1px solid #dddddd'>6ac4d3c4-862f-4702-8053-9f531466686a</td><td style='border: 1px solid #dddddd'>False</td></tr><tr><td style='border: 1px solid #dddddd'>12df12e7f50e1114978bcd54471381d0</td><td style='border: 1px solid #dddddd'>DPJC-Titanic.2018.12.19.10.23.28.594</td><td style='border: 1px solid #dddddd'>2018-12-19T10:24:03.9383824Z</td><td style='border: 1px solid #dddddd'>model</td><td style='border: 1px solid #dddddd'></td><td style='border: 1px solid #dddddd'>6ac4d3c4-862f-4702-8053-9f531466686a</td><td style='border: 1px solid #dddddd'>False</td></tr><tr><td style='border: 1px solid #dddddd'>08ba1404374d7635f8eb8638c105f7eb</td><td style='border: 1px solid #dddddd'>AzureNew-Yuki-ProductLine-LinearRegression(Age)-20181213</td><td style='border: 1px solid #dddddd'>2018-12-13T09:23:36.1493809Z</td><td style='border: 1px solid #dddddd'>model</td><td style='border: 1px solid #dddddd'></td><td style='border: 1px solid #dddddd'>6ac4d3c4-862f-4702-8053-9f531466686a</td><td style='border: 1px solid #dddddd'>False</td></tr><tr><td style='border: 1px solid #dddddd'>efa7c594c5a0deac76bc6866ffc18dc7</td><td style='border: 1px solid #dddddd'>ClaimInsuranceRegression.2018.12.12.5.12.15.584</td><td style='border: 1px solid #dddddd'>2018-12-12T05:13:51.021202Z</td><td style='border: 1px solid #dddddd'>model</td><td style='border: 1px solid #dddddd'></td><td style='border: 1px solid #dddddd'>6ac4d3c4-862f-4702-8053-9f531466686a</td><td style='border: 1px solid #dddddd'>False</td></tr><tr><td style='border: 1px solid #dddddd'>2f1c3b2552bb9d96a134ef671c716059</td><td style='border: 1px solid #dddddd'>AzureNew-Yuki-ProductLine-LinearRegression-20181212</td><td style='border: 1px solid #dddddd'>2018-12-12T03:01:58.8467204Z</td><td style='border: 1px solid #dddddd'>model</td><td style='border: 1px solid #dddddd'></td><td style='border: 1px solid #dddddd'>6ac4d3c4-862f-4702-8053-9f531466686a</td><td style='border: 1px solid #dddddd'>False</td></tr><tr><td style='border: 1px solid #dddddd'>48c6ebc2fa6cfd359923e3fe59bdefcc</td><td style='border: 1px solid #dddddd'>AzureNew-Yuki-ProductLine-TwoClassLogisticRegression-20181212</td><td style='border: 1px solid #dddddd'>2018-12-12T02:59:33.7864639Z</td><td style='border: 1px solid #dddddd'>model</td><td style='border: 1px solid #dddddd'></td><td style='border: 1px solid #dddddd'>6ac4d3c4-862f-4702-8053-9f531466686a</td><td style='border: 1px solid #dddddd'>False</td></tr><tr><td style='border: 1px solid #dddddd'>f49e4115dbc90378d3c5cb4bbc27d2d8</td><td style='border: 1px solid #dddddd'>AzureNew-Yuki-ProductLine-MulticlassLogisticRegression-20181212</td><td style='border: 1px solid #dddddd'>2018-12-12T02:58:25.3151546Z</td><td style='border: 1px solid #dddddd'>model</td><td style='border: 1px solid #dddddd'></td><td style='border: 1px solid #dddddd'>6ac4d3c4-862f-4702-8053-9f531466686a</td><td style='border: 1px solid #dddddd'>False</td></tr><tr><td style='border: 1px solid #dddddd'>68efeda5fa73738bd028e1a290807367</td><td style='border: 1px solid #dddddd'>AzureNew-Yuki-DrugSelection-TwoClassLogisticRegression-20181212</td><td style='border: 1px solid #dddddd'>2018-12-12T02:49:34.4638846Z</td><td style='border: 1px solid #dddddd'>model</td><td style='border: 1px solid #dddddd'></td><td style='border: 1px solid #dddddd'>6ac4d3c4-862f-4702-8053-9f531466686a</td><td style='border: 1px solid #dddddd'>False</td></tr><tr><td style='border: 1px solid #dddddd'>5d14ed9ef7fa12fc86a96254e4d5061f</td><td style='border: 1px solid #dddddd'>AzureNew-Yuki-DrugSelection-LinearRegression-20181212</td><td style='border: 1px solid #dddddd'>2018-12-12T02:49:04.2670654Z</td><td style='border: 1px solid #dddddd'>model</td><td style='border: 1px solid #dddddd'></td><td style='border: 1px solid #dddddd'>6ac4d3c4-862f-4702-8053-9f531466686a</td><td style='border: 1px solid #dddddd'>False</td></tr><tr><td style='border: 1px solid #dddddd'>920b3ea9eb29a41e4fa93bfa5c96ac63</td><td style='border: 1px solid #dddddd'>AzureNew-Yuki-DrugSelection-MulticlassLogisticRegression-20181212</td><td style='border: 1px solid #dddddd'>2018-12-12T02:47:43.887378Z</td><td style='border: 1px solid #dddddd'>model</td><td style='border: 1px solid #dddddd'></td><td style='border: 1px solid #dddddd'>6ac4d3c4-862f-4702-8053-9f531466686a</td><td style='border: 1px solid #dddddd'>False</td></tr><tr><td style='border: 1px solid #dddddd'>3d07cae29805365453230e8beb638088</td><td style='border: 1px solid #dddddd'>MultiClassProductline</td><td style='border: 1px solid #dddddd'>2018-12-11T19:21:01.9441141Z</td><td style='border: 1px solid #dddddd'>model</td><td style='border: 1px solid #dddddd'></td><td style='border: 1px solid #dddddd'>6ac4d3c4-862f-4702-8053-9f531466686a</td><td style='border: 1px solid #dddddd'>False</td></tr><tr><td style='border: 1px solid #dddddd'>f39da17aaccec60ee9bd67207ae272f6</td><td style='border: 1px solid #dddddd'>neelimaregressio.2018.12.11.18.31.12.560</td><td style='border: 1px solid #dddddd'>2018-12-11T18:31:22.7972314Z</td><td style='border: 1px solid #dddddd'>model</td><td style='border: 1px solid #dddddd'></td><td style='border: 1px solid #dddddd'>6ac4d3c4-862f-4702-8053-9f531466686a</td><td style='border: 1px solid #dddddd'>False</td></tr><tr><td style='border: 1px solid #dddddd'>f7ba1231cc1a7cd200b996d8e514f758</td><td style='border: 1px solid #dddddd'>InsuranceClaimBinaryClass2</td><td style='border: 1px solid #dddddd'>2018-12-11T18:16:33.0425079Z</td><td style='border: 1px solid #dddddd'>model</td><td style='border: 1px solid #dddddd'></td><td style='border: 1px solid #dddddd'>6ac4d3c4-862f-4702-8053-9f531466686a</td><td style='border: 1px solid #dddddd'>False</td></tr><tr><td style='border: 1px solid #dddddd'>fbda2dcb71e4f339696c778e81d6a922</td><td style='border: 1px solid #dddddd'>neelimaincomepre.2018.12.11.17.52.18.494</td><td style='border: 1px solid #dddddd'>2018-12-11T17:52:31.6527702Z</td><td style='border: 1px solid #dddddd'>model</td><td style='border: 1px solid #dddddd'></td><td style='border: 1px solid #dddddd'>6ac4d3c4-862f-4702-8053-9f531466686a</td><td style='border: 1px solid #dddddd'>False</td></tr><tr><td style='border: 1px solid #dddddd'>a5951aaca215e4b2208a87495594ab2d</td><td style='border: 1px solid #dddddd'>CI-Regression-Dec11</td><td style='border: 1px solid #dddddd'>2018-12-11T16:39:39.0675549Z</td><td style='border: 1px solid #dddddd'>model</td><td style='border: 1px solid #dddddd'></td><td style='border: 1px solid #dddddd'>6ac4d3c4-862f-4702-8053-9f531466686a</td><td style='border: 1px solid #dddddd'>False</td></tr><tr><td style='border: 1px solid #dddddd'>90b4be34a6c987d29066076233d46b1a</td><td style='border: 1px solid #dddddd'>neelimaproductli.2018.12.11.16.20.34.185</td><td style='border: 1px solid #dddddd'>2018-12-11T16:20:51.0606809Z</td><td style='border: 1px solid #dddddd'>model</td><td style='border: 1px solid #dddddd'></td><td style='border: 1px solid #dddddd'>6ac4d3c4-862f-4702-8053-9f531466686a</td><td style='border: 1px solid #dddddd'>False</td></tr><tr><td style='border: 1px solid #dddddd'>d8dd110f1b75f27b7854928b1d705932</td><td style='border: 1px solid #dddddd'>JimExperimentDoc01</td><td style='border: 1px solid #dddddd'>2018-12-11T14:44:22.4454173Z</td><td style='border: 1px solid #dddddd'>model</td><td style='border: 1px solid #dddddd'></td><td style='border: 1px solid #dddddd'>6ac4d3c4-862f-4702-8053-9f531466686a</td><td style='border: 1px solid #dddddd'>False</td></tr><tr><td style='border: 1px solid #dddddd'>4fe40f7168e087c27998ffd5fec2ed8c</td><td style='border: 1px solid #dddddd'>productlineregre.2018.12.10.6.56.13.808</td><td style='border: 1px solid #dddddd'>2018-12-10T06:56:24.9336379Z</td><td style='border: 1px solid #dddddd'>model</td><td style='border: 1px solid #dddddd'></td><td style='border: 1px solid #dddddd'>6ac4d3c4-862f-4702-8053-9f531466686a</td><td style='border: 1px solid #dddddd'>False</td></tr><tr><td style='border: 1px solid #dddddd'>bd7f7335d9283525ce4d5d4d10d4f481</td><td style='border: 1px solid #dddddd'>mnistimage.2018.12.7.5.46.5.751</td><td style='border: 1px solid #dddddd'>2018-12-07T05:46:25.8962975Z</td><td style='border: 1px solid #dddddd'>model</td><td style='border: 1px solid #dddddd'></td><td style='border: 1px solid #dddddd'>6ac4d3c4-862f-4702-8053-9f531466686a</td><td style='border: 1px solid #dddddd'>False</td></tr><tr><td style='border: 1px solid #dddddd'>454d8ded446f62842197e5b0ec1cfcaf</td><td style='border: 1px solid #dddddd'>productlineregre.2018.12.5.6.21.44.165</td><td style='border: 1px solid #dddddd'>2018-12-05T06:22:10.0824452Z</td><td style='border: 1px solid #dddddd'>model</td><td style='border: 1px solid #dddddd'></td><td style='border: 1px solid #dddddd'>6ac4d3c4-862f-4702-8053-9f531466686a</td><td style='border: 1px solid #dddddd'>False</td></tr><tr><td style='border: 1px solid #dddddd'>7b6f7b05a7aa19c7669546864be4636c</td><td style='border: 1px solid #dddddd'>Irisclassificati.me2018.12.4.10.40.56.847</td><td style='border: 1px solid #dddddd'>2018-12-04T10:41:13.1176858Z</td><td style='border: 1px solid #dddddd'>model</td><td style='border: 1px solid #dddddd'></td><td style='border: 1px solid #dddddd'>6ac4d3c4-862f-4702-8053-9f531466686a</td><td style='border: 1px solid #dddddd'>False</td></tr><tr><td style='border: 1px solid #dddddd'>2cfbf15dca01a453faa4833009dabcf6</td><td style='border: 1px solid #dddddd'>ProductLine-Yuki-20181204-1537</td><td style='border: 1px solid #dddddd'>2018-12-04T06:37:14.1095386Z</td><td style='border: 1px solid #dddddd'>model</td><td style='border: 1px solid #dddddd'></td><td style='border: 1px solid #dddddd'>6ac4d3c4-862f-4702-8053-9f531466686a</td><td style='border: 1px solid #dddddd'>False</td></tr><tr><td style='border: 1px solid #dddddd'>0a9d0563eeb1ab13abd01eae14aacfcd</td><td style='border: 1px solid #dddddd'>DrugSelection-Yuki-20181204-1520</td><td style='border: 1px solid #dddddd'>2018-12-04T06:20:52.6833542Z</td><td style='border: 1px solid #dddddd'>model</td><td style='border: 1px solid #dddddd'></td><td style='border: 1px solid #dddddd'>6ac4d3c4-862f-4702-8053-9f531466686a</td><td style='border: 1px solid #dddddd'>False</td></tr><tr><td style='border: 1px solid #dddddd'>e88428224af3cb9f4711a39aba102a1d</td><td style='border: 1px solid #dddddd'>InsuranceClaimBinaryClass1</td><td style='border: 1px solid #dddddd'>2018-11-29T13:44:14.5020986Z</td><td style='border: 1px solid #dddddd'>model</td><td style='border: 1px solid #dddddd'></td><td style='border: 1px solid #dddddd'>6ac4d3c4-862f-4702-8053-9f531466686a</td><td style='border: 1px solid #dddddd'>False</td></tr><tr><td style='border: 1px solid #dddddd'>f8a3f2462f0f23f967bf48c2f4d51471</td><td style='border: 1px solid #dddddd'>ProductLineMulticlassification</td><td style='border: 1px solid #dddddd'>2018-11-27T12:31:40.6453108Z</td><td style='border: 1px solid #dddddd'>model</td><td style='border: 1px solid #dddddd'></td><td style='border: 1px solid #dddddd'>6ac4d3c4-862f-4702-8053-9f531466686a</td><td style='border: 1px solid #dddddd'>False</td></tr><tr><td style='border: 1px solid #dddddd'>91f11e0d31fa00be92c1967bbf0bbf45</td><td style='border: 1px solid #dddddd'>InsuranceClaimBClassification</td><td style='border: 1px solid #dddddd'>2018-11-26T17:00:45.734513Z</td><td style='border: 1px solid #dddddd'>model</td><td style='border: 1px solid #dddddd'></td><td style='border: 1px solid #dddddd'>6ac4d3c4-862f-4702-8053-9f531466686a</td><td style='border: 1px solid #dddddd'>False</td></tr><tr><td style='border: 1px solid #dddddd'>a996478db6f24b67d722ecbe637d2ca7</td><td style='border: 1px solid #dddddd'>InsuranceClaimRegressionModel</td><td style='border: 1px solid #dddddd'>2018-11-21T08:35:02.627712Z</td><td style='border: 1px solid #dddddd'>model</td><td style='border: 1px solid #dddddd'></td><td style='border: 1px solid #dddddd'>6ac4d3c4-862f-4702-8053-9f531466686a</td><td style='border: 1px solid #dddddd'>False</td></tr><tr><td style='border: 1px solid #dddddd'>72519e05bd423560d4a919153e6dc029</td><td style='border: 1px solid #dddddd'>ProductLineClass.2018.11.2.11.40.22.845</td><td style='border: 1px solid #dddddd'>2018-11-02T11:40:59.563349Z</td><td style='border: 1px solid #dddddd'>model</td><td style='border: 1px solid #dddddd'></td><td style='border: 1px solid #dddddd'>6ac4d3c4-862f-4702-8053-9f531466686a</td><td style='border: 1px solid #dddddd'>False</td></tr><tr><td style='border: 1px solid #dddddd'>0b64ea667b5e40a339f948c10d0adeff</td><td style='border: 1px solid #dddddd'>Irisclassificati.2018.10.22.7.39.3.217</td><td style='border: 1px solid #dddddd'>2018-10-22T07:39:14.9178443Z</td><td style='border: 1px solid #dddddd'>model</td><td style='border: 1px solid #dddddd'></td><td style='border: 1px solid #dddddd'>6ac4d3c4-862f-4702-8053-9f531466686a</td><td style='border: 1px solid #dddddd'>False</td></tr><tr><td style='border: 1px solid #dddddd'>f0cad1153dac876126ad53158b0d3cd3</td><td style='border: 1px solid #dddddd'>ProductLineAgeRe.2018.10.22.7.33.27.127</td><td style='border: 1px solid #dddddd'>2018-10-22T07:33:43.7417975Z</td><td style='border: 1px solid #dddddd'>model</td><td style='border: 1px solid #dddddd'></td><td style='border: 1px solid #dddddd'>6ac4d3c4-862f-4702-8053-9f531466686a</td><td style='border: 1px solid #dddddd'>False</td></tr><tr><td style='border: 1px solid #dddddd'>d18d5fb45bfcd9253f52fb76657c27ea</td><td style='border: 1px solid #dddddd'>Irisclassificati.2018.10.19.9.49.7.418</td><td style='border: 1px solid #dddddd'>2018-10-19T09:49:27.4251325Z</td><td style='border: 1px solid #dddddd'>model</td><td style='border: 1px solid #dddddd'></td><td style='border: 1px solid #dddddd'>6ac4d3c4-862f-4702-8053-9f531466686a</td><td style='border: 1px solid #dddddd'>False</td></tr>\n",
       "            </table>\n",
       "        </body>\n",
       "        </HTML>"
      ],
      "text/plain": [
       "<IPython.core.display.HTML object>"
      ]
     },
     "metadata": {},
     "output_type": "display_data"
    }
   ],
   "source": [
    "client.data_mart.bindings.list_assets(binding_uid=binding_uid)"
   ]
  },
  {
   "cell_type": "markdown",
   "metadata": {},
   "source": [
    "**Action:** Assign your credit risk source_uid to `source_uid` variable below."
   ]
  },
  {
   "cell_type": "code",
   "execution_count": 23,
   "metadata": {
    "scrolled": true
   },
   "outputs": [],
   "source": [
    "source_uid = '085460ef94636166aea5800e9ea26168'"
   ]
  },
  {
   "cell_type": "code",
   "execution_count": 24,
   "metadata": {
    "scrolled": true
   },
   "outputs": [],
   "source": [
    "feature_columns = ['CheckingStatus', 'LoanDuration', 'CreditHistory', 'LoanPurpose', 'LoanAmount', 'ExistingSavings', 'EmploymentDuration', 'InstallmentPercent', 'Sex', 'OthersOnLoan', 'CurrentResidenceDuration', 'OwnsProperty', 'Age', 'InstallmentPlans', 'Housing', 'ExistingCreditsCount', 'Job', 'Dependents', 'Telephone', 'ForeignWorker']\n",
    "categorical_columns = ['CheckingStatus', 'CreditHistory', 'LoanPurpose', 'ExistingSavings', 'EmploymentDuration', 'Sex', 'OthersOnLoan', 'OwnsProperty', 'InstallmentPlans', 'Housing', 'Job', 'Telephone', 'ForeignWorker']"
   ]
  },
  {
   "cell_type": "code",
   "execution_count": 25,
   "metadata": {
    "scrolled": true
   },
   "outputs": [],
   "source": [
    "subscription = client.data_mart.subscriptions.add(\n",
    "    AzureMachineLearningStudioAsset(source_uid=source_uid,\n",
    "                                      binding_uid=binding_uid,\n",
    "                                      input_data_type=InputDataType.STRUCTURED,\n",
    "                                      problem_type=ProblemType.BINARY_CLASSIFICATION,\n",
    "                                      label_column='Risk',\n",
    "                                      prediction_column='Scored Labels',\n",
    "                                      probability_column='Scored Probabilities',\n",
    "                                      feature_columns=feature_columns,\n",
    "                                      categorical_columns=categorical_columns))"
   ]
  },
  {
   "cell_type": "markdown",
   "metadata": {},
   "source": [
    "### Get subscriptions list"
   ]
  },
  {
   "cell_type": "code",
   "execution_count": 26,
   "metadata": {
    "scrolled": true
   },
   "outputs": [],
   "source": [
    "subscriptions = client.data_mart.subscriptions.get_details()"
   ]
  },
  {
   "cell_type": "code",
   "execution_count": 27,
   "metadata": {
    "scrolled": true
   },
   "outputs": [
    {
     "name": "stdout",
     "output_type": "stream",
     "text": [
      "['7c3a3f6c-b11c-4d38-a7ca-a179227f5f9f']\n"
     ]
    }
   ],
   "source": [
    "subscriptions_uids = client.data_mart.subscriptions.get_uids()\n",
    "print(subscriptions_uids)"
   ]
  },
  {
   "cell_type": "markdown",
   "metadata": {},
   "source": [
    "### List subscriptions"
   ]
  },
  {
   "cell_type": "code",
   "execution_count": 28,
   "metadata": {
    "scrolled": true
   },
   "outputs": [
    {
     "data": {
      "text/html": [
       "<HTML>\n",
       "        <body>\n",
       "            <h3>Subscriptions</h3>\n",
       "            <table style='border: 1px solid #dddddd; font-family: Courier'>\n",
       "                <th style='border: 1px solid #dddddd'>uid</th><th style='border: 1px solid #dddddd'>name</th><th style='border: 1px solid #dddddd'>type</th><th style='border: 1px solid #dddddd'>binding_uid</th><th style='border: 1px solid #dddddd'>created</th>\n",
       "                <tr><td style='border: 1px solid #dddddd'>7c3a3f6c-b11c-4d38-a7ca-a179227f5f9f</td><td style='border: 1px solid #dddddd'>GermanCreditRisk.2019.1.9.10.41.58.611</td><td style='border: 1px solid #dddddd'>model</td><td style='border: 1px solid #dddddd'>6ac4d3c4-862f-4702-8053-9f531466686a</td><td style='border: 1px solid #dddddd'>2020-04-01T18:45:23.693Z</td></tr>\n",
       "            </table>\n",
       "        </body>\n",
       "        </HTML>"
      ],
      "text/plain": [
       "<IPython.core.display.HTML object>"
      ]
     },
     "metadata": {},
     "output_type": "display_data"
    }
   ],
   "source": [
    "client.data_mart.subscriptions.list()"
   ]
  },
  {
   "cell_type": "markdown",
   "metadata": {},
   "source": [
    "<a id=\"scoring\"></a>\n",
    "## 4. Scoring and payload logging"
   ]
  },
  {
   "cell_type": "markdown",
   "metadata": {},
   "source": [
    "### Score the credit risk model and measure response time"
   ]
  },
  {
   "cell_type": "code",
   "execution_count": 29,
   "metadata": {
    "scrolled": true
   },
   "outputs": [
    {
     "name": "stdout",
     "output_type": "stream",
     "text": [
      "{\n",
      "  \"Results\": {\n",
      "    \"output1\": [\n",
      "      {\n",
      "        \"CheckingStatus\": \"0_to_200\",\n",
      "        \"LoanDuration\": \"31\",\n",
      "        \"CreditHistory\": \"credits_paid_to_date\",\n",
      "        \"LoanPurpose\": \"other\",\n",
      "        \"LoanAmount\": \"1889\",\n",
      "        \"ExistingSavings\": \"100_to_500\",\n",
      "        \"EmploymentDuration\": \"less_1\",\n",
      "        \"InstallmentPercent\": \"3\",\n",
      "        \"Sex\": \"female\",\n",
      "        \"OthersOnLoan\": \"none\",\n",
      "        \"CurrentResidenceDuration\": \"3\",\n",
      "        \"OwnsProperty\": \"savings_insurance\",\n",
      "        \"Age\": \"32\",\n",
      "        \"InstallmentPlans\": \"none\",\n",
      "        \"Housing\": \"own\",\n",
      "        \"ExistingCreditsCount\": \"1\",\n",
      "        \"Job\": \"skilled\",\n",
      "        \"Dependents\": \"1\",\n",
      "        \"Telephone\": \"none\",\n",
      "        \"ForeignWorker\": \"yes\",\n",
      "        \"Scored Labels\": \"No Risk\",\n",
      "        \"Scored Probabilities\": \"0.0140035906806588\"\n",
      "      },\n",
      "      {\n",
      "        \"CheckingStatus\": \"no_checking\",\n",
      "        \"LoanDuration\": \"13\",\n",
      "        \"CreditHistory\": \"credits_paid_to_date\",\n",
      "        \"LoanPurpose\": \"car_new\",\n",
      "        \"LoanAmount\": \"1389\",\n",
      "        \"ExistingSavings\": \"100_to_500\",\n",
      "        \"EmploymentDuration\": \"1_to_4\",\n",
      "        \"InstallmentPercent\": \"2\",\n",
      "        \"Sex\": \"male\",\n",
      "        \"OthersOnLoan\": \"none\",\n",
      "        \"CurrentResidenceDuration\": \"3\",\n",
      "        \"OwnsProperty\": \"savings_insurance\",\n",
      "        \"Age\": \"25\",\n",
      "        \"InstallmentPlans\": \"none\",\n",
      "        \"Housing\": \"own\",\n",
      "        \"ExistingCreditsCount\": \"2\",\n",
      "        \"Job\": \"skilled\",\n",
      "        \"Dependents\": \"1\",\n",
      "        \"Telephone\": \"none\",\n",
      "        \"ForeignWorker\": \"yes\",\n",
      "        \"Scored Labels\": \"No Risk\",\n",
      "        \"Scored Probabilities\": \"0.439973294734955\"\n",
      "      }\n",
      "    ]\n",
      "  }\n",
      "}\n"
     ]
    }
   ],
   "source": [
    "import requests\n",
    "import time\n",
    "import json\n",
    "\n",
    "subscription_details = subscription.get_details()\n",
    "scoring_url = subscription_details['entity']['deployments'][0]['scoring_endpoint']['url']\n",
    "\n",
    "data = {\n",
    "            \"Inputs\": {\n",
    "                \"input1\":\n",
    "                    [\n",
    "                        {\n",
    "                            'CheckingStatus': \"0_to_200\", 'LoanDuration': 31, 'CreditHistory': \"credits_paid_to_date\", 'LoanPurpose': \"other\",\n",
    "                            'LoanAmount': 1889, 'ExistingSavings': \"100_to_500\",'EmploymentDuration': \"less_1\",'InstallmentPercent': 3,'Sex': \"female\",\n",
    "                            'OthersOnLoan': \"none\",'CurrentResidenceDuration': 3, 'OwnsProperty': \"savings_insurance\", 'Age': 32,'InstallmentPlans': \"none\",\n",
    "                            'Housing': \"own\",'ExistingCreditsCount': 1,'Job': \"skilled\",'Dependents': 1,'Telephone': \"none\",'ForeignWorker': \"yes\",\n",
    "                        },\n",
    "                        {\n",
    "                            'CheckingStatus': \"no_checking\", 'LoanDuration': 13, 'CreditHistory': \"credits_paid_to_date\", 'LoanPurpose': \"car_new\",\n",
    "                            'LoanAmount': 1389, 'ExistingSavings': \"100_to_500\",'EmploymentDuration': \"1_to_4\",'InstallmentPercent': 2,'Sex': \"male\",\n",
    "                            'OthersOnLoan': \"none\",'CurrentResidenceDuration': 3, 'OwnsProperty': \"savings_insurance\", 'Age': 25,'InstallmentPlans': \"none\",\n",
    "                            'Housing': \"own\",'ExistingCreditsCount': 2,'Job': \"skilled\",'Dependents': 1,'Telephone': \"none\",'ForeignWorker': \"yes\",\n",
    "                        }\n",
    "                    ],\n",
    "            },\n",
    "            \"GlobalParameters\": {\n",
    "            }\n",
    "        }\n",
    "\n",
    "body = str.encode(json.dumps(data))\n",
    "\n",
    "token = subscription_details['entity']['deployments'][0]['scoring_endpoint']['credentials']['token']\n",
    "headers = subscription_details['entity']['deployments'][0]['scoring_endpoint']['request_headers']\n",
    "headers['Authorization'] = ('Bearer ' + token)\n",
    "\n",
    "start_time = time.time()\n",
    "response = requests.post(url=scoring_url, data=body, headers=headers)\n",
    "response_time = int(time.time() - start_time)*1000\n",
    "result = response.json()\n",
    "\n",
    "print(json.dumps(result, indent=2))"
   ]
  },
  {
   "cell_type": "markdown",
   "metadata": {},
   "source": [
    "### Store the request and response in payload logging table"
   ]
  },
  {
   "cell_type": "code",
   "execution_count": 30,
   "metadata": {
    "scrolled": true
   },
   "outputs": [],
   "source": [
    "records_list = []\n",
    "\n",
    "for i in range(1, 10):\n",
    "    records_list.append(PayloadRecord(request=data, response=result, response_time=response_time))\n",
    "\n",
    "subscription.payload_logging.store(records=records_list)"
   ]
  },
  {
   "cell_type": "code",
   "execution_count": 31,
   "metadata": {
    "scrolled": true
   },
   "outputs": [
    {
     "name": "stdout",
     "output_type": "stream",
     "text": [
      "       LoanDuration   LoanAmount  InstallmentPercent  \\\n",
      "count     18.000000    18.000000           18.000000   \n",
      "mean      22.000000  1639.000000            2.500000   \n",
      "std        9.260924   257.247878            0.514496   \n",
      "min       13.000000  1389.000000            2.000000   \n",
      "25%       13.000000  1389.000000            2.000000   \n",
      "50%       22.000000  1639.000000            2.500000   \n",
      "75%       31.000000  1889.000000            3.000000   \n",
      "max       31.000000  1889.000000            3.000000   \n",
      "\n",
      "       CurrentResidenceDuration       Age  ExistingCreditsCount  Dependents  \\\n",
      "count                      18.0  18.00000             18.000000        18.0   \n",
      "mean                        3.0  28.50000              1.500000         1.0   \n",
      "std                         0.0   3.60147              0.514496         0.0   \n",
      "min                         3.0  25.00000              1.000000         1.0   \n",
      "25%                         3.0  25.00000              1.000000         1.0   \n",
      "50%                         3.0  28.50000              1.500000         1.0   \n",
      "75%                         3.0  32.00000              2.000000         1.0   \n",
      "max                         3.0  32.00000              2.000000         1.0   \n",
      "\n",
      "       Scored Probabilities  prediction_probability  \n",
      "count             18.000000               18.000000  \n",
      "mean               0.226988                0.773012  \n",
      "std                0.219160                0.219160  \n",
      "min                0.014004                0.560027  \n",
      "25%                0.014004                0.560027  \n",
      "50%                0.226988                0.773012  \n",
      "75%                0.439973                0.985996  \n",
      "max                0.439973                0.985996  \n"
     ]
    }
   ],
   "source": [
    "import time\n",
    "\n",
    "time.sleep(5)\n",
    "subscription.payload_logging.describe_table()"
   ]
  },
  {
   "cell_type": "markdown",
   "metadata": {},
   "source": [
    "### Check transactions performance data"
   ]
  },
  {
   "cell_type": "code",
   "execution_count": 32,
   "metadata": {
    "scrolled": true
   },
   "outputs": [
    {
     "data": {
      "text/html": [
       "<HTML>\n",
       "        <body>\n",
       "            <h3>PerformanceMetrics (binding_id=6ac4d3c4-862f-4702-8053-9f531466686a, subscription_id=7c3a3f6c-b11c-4d38-a7ca-a179227f5f9f)</h3>\n",
       "            <table style='border: 1px solid #dddddd; font-family: Courier'>\n",
       "                <th style='border: 1px solid #dddddd'>ts</th><th style='border: 1px solid #dddddd'>scoring_time</th><th style='border: 1px solid #dddddd'>scoring_records</th><th style='border: 1px solid #dddddd'>binding_id</th><th style='border: 1px solid #dddddd'>subscription_id</th><th style='border: 1px solid #dddddd'>deployment_id</th><th style='border: 1px solid #dddddd'>process</th><th style='border: 1px solid #dddddd'>asset_revision</th>\n",
       "                <tr><td style='border: 1px solid #dddddd'>2020-04-01 18:45:38.121000+00:00</td><td style='border: 1px solid #dddddd'>0.0</td><td style='border: 1px solid #dddddd'>2</td><td style='border: 1px solid #dddddd'>6ac4d3c4-862f-4702-8053-9f531466686a</td><td style='border: 1px solid #dddddd'>7c3a3f6c-b11c-4d38-a7ca-a179227f5f9f</td><td style='border: 1px solid #dddddd'>563f01d37f720857b95c557dc76176ad</td><td style='border: 1px solid #dddddd'></td><td style='border: 1px solid #dddddd'></td></tr><tr><td style='border: 1px solid #dddddd'>2020-04-01 18:45:38.121000+00:00</td><td style='border: 1px solid #dddddd'>0.0</td><td style='border: 1px solid #dddddd'>2</td><td style='border: 1px solid #dddddd'>6ac4d3c4-862f-4702-8053-9f531466686a</td><td style='border: 1px solid #dddddd'>7c3a3f6c-b11c-4d38-a7ca-a179227f5f9f</td><td style='border: 1px solid #dddddd'>563f01d37f720857b95c557dc76176ad</td><td style='border: 1px solid #dddddd'></td><td style='border: 1px solid #dddddd'></td></tr><tr><td style='border: 1px solid #dddddd'>2020-04-01 18:45:38.121000+00:00</td><td style='border: 1px solid #dddddd'>0.0</td><td style='border: 1px solid #dddddd'>2</td><td style='border: 1px solid #dddddd'>6ac4d3c4-862f-4702-8053-9f531466686a</td><td style='border: 1px solid #dddddd'>7c3a3f6c-b11c-4d38-a7ca-a179227f5f9f</td><td style='border: 1px solid #dddddd'>563f01d37f720857b95c557dc76176ad</td><td style='border: 1px solid #dddddd'></td><td style='border: 1px solid #dddddd'></td></tr><tr><td style='border: 1px solid #dddddd'>2020-04-01 18:45:38.121000+00:00</td><td style='border: 1px solid #dddddd'>0.0</td><td style='border: 1px solid #dddddd'>2</td><td style='border: 1px solid #dddddd'>6ac4d3c4-862f-4702-8053-9f531466686a</td><td style='border: 1px solid #dddddd'>7c3a3f6c-b11c-4d38-a7ca-a179227f5f9f</td><td style='border: 1px solid #dddddd'>563f01d37f720857b95c557dc76176ad</td><td style='border: 1px solid #dddddd'></td><td style='border: 1px solid #dddddd'></td></tr><tr><td style='border: 1px solid #dddddd'>2020-04-01 18:45:38.121000+00:00</td><td style='border: 1px solid #dddddd'>0.0</td><td style='border: 1px solid #dddddd'>2</td><td style='border: 1px solid #dddddd'>6ac4d3c4-862f-4702-8053-9f531466686a</td><td style='border: 1px solid #dddddd'>7c3a3f6c-b11c-4d38-a7ca-a179227f5f9f</td><td style='border: 1px solid #dddddd'>563f01d37f720857b95c557dc76176ad</td><td style='border: 1px solid #dddddd'></td><td style='border: 1px solid #dddddd'></td></tr><tr><td style='border: 1px solid #dddddd'>2020-04-01 18:45:38.121000+00:00</td><td style='border: 1px solid #dddddd'>0.0</td><td style='border: 1px solid #dddddd'>2</td><td style='border: 1px solid #dddddd'>6ac4d3c4-862f-4702-8053-9f531466686a</td><td style='border: 1px solid #dddddd'>7c3a3f6c-b11c-4d38-a7ca-a179227f5f9f</td><td style='border: 1px solid #dddddd'>563f01d37f720857b95c557dc76176ad</td><td style='border: 1px solid #dddddd'></td><td style='border: 1px solid #dddddd'></td></tr><tr><td style='border: 1px solid #dddddd'>2020-04-01 18:45:38.121000+00:00</td><td style='border: 1px solid #dddddd'>0.0</td><td style='border: 1px solid #dddddd'>2</td><td style='border: 1px solid #dddddd'>6ac4d3c4-862f-4702-8053-9f531466686a</td><td style='border: 1px solid #dddddd'>7c3a3f6c-b11c-4d38-a7ca-a179227f5f9f</td><td style='border: 1px solid #dddddd'>563f01d37f720857b95c557dc76176ad</td><td style='border: 1px solid #dddddd'></td><td style='border: 1px solid #dddddd'></td></tr><tr><td style='border: 1px solid #dddddd'>2020-04-01 18:45:38.121000+00:00</td><td style='border: 1px solid #dddddd'>0.0</td><td style='border: 1px solid #dddddd'>2</td><td style='border: 1px solid #dddddd'>6ac4d3c4-862f-4702-8053-9f531466686a</td><td style='border: 1px solid #dddddd'>7c3a3f6c-b11c-4d38-a7ca-a179227f5f9f</td><td style='border: 1px solid #dddddd'>563f01d37f720857b95c557dc76176ad</td><td style='border: 1px solid #dddddd'></td><td style='border: 1px solid #dddddd'></td></tr><tr><td style='border: 1px solid #dddddd'>2020-04-01 18:45:38.121000+00:00</td><td style='border: 1px solid #dddddd'>0.0</td><td style='border: 1px solid #dddddd'>2</td><td style='border: 1px solid #dddddd'>6ac4d3c4-862f-4702-8053-9f531466686a</td><td style='border: 1px solid #dddddd'>7c3a3f6c-b11c-4d38-a7ca-a179227f5f9f</td><td style='border: 1px solid #dddddd'>563f01d37f720857b95c557dc76176ad</td><td style='border: 1px solid #dddddd'></td><td style='border: 1px solid #dddddd'></td></tr>\n",
       "            </table>\n",
       "        </body>\n",
       "        </HTML>"
      ],
      "text/plain": [
       "<IPython.core.display.HTML object>"
      ]
     },
     "metadata": {},
     "output_type": "display_data"
    }
   ],
   "source": [
    "subscription.performance_monitoring.show_table()"
   ]
  },
  {
   "cell_type": "markdown",
   "metadata": {},
   "source": [
    "**Note:** It may take few seconds before performance data is populated."
   ]
  },
  {
   "cell_type": "markdown",
   "metadata": {},
   "source": [
    "<a id=\"feedback\"></a>\n",
    "## 5. Feedback logging & quality (accuracy) monitoring"
   ]
  },
  {
   "cell_type": "markdown",
   "metadata": {},
   "source": [
    "### Enable quality monitoring"
   ]
  },
  {
   "cell_type": "markdown",
   "metadata": {},
   "source": [
    "You need to provide the monitoring `threshold` and `min_records` (minimal number of feedback records)."
   ]
  },
  {
   "cell_type": "code",
   "execution_count": 33,
   "metadata": {
    "scrolled": true
   },
   "outputs": [],
   "source": [
    "subscription.quality_monitoring.enable(threshold=0.7, min_records=10)"
   ]
  },
  {
   "cell_type": "markdown",
   "metadata": {},
   "source": [
    "### Feedback records logging"
   ]
  },
  {
   "cell_type": "markdown",
   "metadata": {},
   "source": [
    "Feedback records are used to evaluate your model. The predicted values are compared to real values (feedback records)."
   ]
  },
  {
   "cell_type": "markdown",
   "metadata": {},
   "source": [
    "You can check the schema of feedback table using below method."
   ]
  },
  {
   "cell_type": "code",
   "execution_count": 34,
   "metadata": {
    "scrolled": true
   },
   "outputs": [
    {
     "data": {
      "text/html": [
       "<HTML>\n",
       "        <body>\n",
       "            <h3>Schema of Feedback_7c3a3f6c-b11c-4d38-a7ca-a179227f5f9f</h3>\n",
       "            <table style='border: 1px solid #dddddd; font-family: Courier'>\n",
       "                <th style='border: 1px solid #dddddd'>name</th><th style='border: 1px solid #dddddd'>type</th><th style='border: 1px solid #dddddd'>nullable</th>\n",
       "                <tr><td style='border: 1px solid #dddddd'>CheckingStatus</td><td style='border: 1px solid #dddddd'>string</td><td style='border: 1px solid #dddddd'>True</td></tr><tr><td style='border: 1px solid #dddddd'>LoanDuration</td><td style='border: 1px solid #dddddd'>integer</td><td style='border: 1px solid #dddddd'>True</td></tr><tr><td style='border: 1px solid #dddddd'>CreditHistory</td><td style='border: 1px solid #dddddd'>string</td><td style='border: 1px solid #dddddd'>True</td></tr><tr><td style='border: 1px solid #dddddd'>LoanPurpose</td><td style='border: 1px solid #dddddd'>string</td><td style='border: 1px solid #dddddd'>True</td></tr><tr><td style='border: 1px solid #dddddd'>LoanAmount</td><td style='border: 1px solid #dddddd'>integer</td><td style='border: 1px solid #dddddd'>True</td></tr><tr><td style='border: 1px solid #dddddd'>ExistingSavings</td><td style='border: 1px solid #dddddd'>string</td><td style='border: 1px solid #dddddd'>True</td></tr><tr><td style='border: 1px solid #dddddd'>EmploymentDuration</td><td style='border: 1px solid #dddddd'>string</td><td style='border: 1px solid #dddddd'>True</td></tr><tr><td style='border: 1px solid #dddddd'>InstallmentPercent</td><td style='border: 1px solid #dddddd'>integer</td><td style='border: 1px solid #dddddd'>True</td></tr><tr><td style='border: 1px solid #dddddd'>Sex</td><td style='border: 1px solid #dddddd'>string</td><td style='border: 1px solid #dddddd'>True</td></tr><tr><td style='border: 1px solid #dddddd'>OthersOnLoan</td><td style='border: 1px solid #dddddd'>string</td><td style='border: 1px solid #dddddd'>True</td></tr><tr><td style='border: 1px solid #dddddd'>CurrentResidenceDuration</td><td style='border: 1px solid #dddddd'>integer</td><td style='border: 1px solid #dddddd'>True</td></tr><tr><td style='border: 1px solid #dddddd'>OwnsProperty</td><td style='border: 1px solid #dddddd'>string</td><td style='border: 1px solid #dddddd'>True</td></tr><tr><td style='border: 1px solid #dddddd'>Age</td><td style='border: 1px solid #dddddd'>integer</td><td style='border: 1px solid #dddddd'>True</td></tr><tr><td style='border: 1px solid #dddddd'>InstallmentPlans</td><td style='border: 1px solid #dddddd'>string</td><td style='border: 1px solid #dddddd'>True</td></tr><tr><td style='border: 1px solid #dddddd'>Housing</td><td style='border: 1px solid #dddddd'>string</td><td style='border: 1px solid #dddddd'>True</td></tr><tr><td style='border: 1px solid #dddddd'>ExistingCreditsCount</td><td style='border: 1px solid #dddddd'>integer</td><td style='border: 1px solid #dddddd'>True</td></tr><tr><td style='border: 1px solid #dddddd'>Job</td><td style='border: 1px solid #dddddd'>string</td><td style='border: 1px solid #dddddd'>True</td></tr><tr><td style='border: 1px solid #dddddd'>Dependents</td><td style='border: 1px solid #dddddd'>integer</td><td style='border: 1px solid #dddddd'>True</td></tr><tr><td style='border: 1px solid #dddddd'>Telephone</td><td style='border: 1px solid #dddddd'>string</td><td style='border: 1px solid #dddddd'>True</td></tr><tr><td style='border: 1px solid #dddddd'>ForeignWorker</td><td style='border: 1px solid #dddddd'>string</td><td style='border: 1px solid #dddddd'>True</td></tr><tr><td style='border: 1px solid #dddddd'>Risk</td><td style='border: 1px solid #dddddd'>string</td><td style='border: 1px solid #dddddd'>False</td></tr><tr><td style='border: 1px solid #dddddd'>record_timestamp</td><td style='border: 1px solid #dddddd'>timestamp</td><td style='border: 1px solid #dddddd'>False</td></tr>\n",
       "            </table>\n",
       "        </body>\n",
       "        </HTML>"
      ],
      "text/plain": [
       "<IPython.core.display.HTML object>"
      ]
     },
     "metadata": {},
     "output_type": "display_data"
    }
   ],
   "source": [
    "subscription.feedback_logging.print_table_schema()"
   ]
  },
  {
   "cell_type": "markdown",
   "metadata": {},
   "source": [
    "The feedback records can be send to feedback table using below code."
   ]
  },
  {
   "cell_type": "code",
   "execution_count": 35,
   "metadata": {
    "scrolled": true
   },
   "outputs": [],
   "source": [
    "records = [\n",
    "    [\"no_checking\",\"28\",\"outstanding_credit\",\"appliances\",\"5990\",\"500_to_1000\",\"greater_7\",\"5\",\"male\",\"co-applicant\",\"3\",\"car_other\",\"55\",\"none\",\"free\",\"2\",\"skilled\",\"2\",\"yes\",\"yes\",\"Risk\"],\n",
    "    [\"greater_200\",\"22\",\"all_credits_paid_back\",\"car_used\",\"3376\",\"less_100\",\"less_1\",\"3\",\"female\",\"none\",\"2\",\"car_other\",\"32\",\"none\",\"own\",\"1\",\"skilled\",\"1\",\"none\",\"yes\",\"No Risk\"],\n",
    "    [\"no_checking\",\"39\",\"credits_paid_to_date\",\"vacation\",\"6434\",\"unknown\",\"greater_7\",\"5\",\"male\",\"none\",\"4\",\"car_other\",\"39\",\"none\",\"own\",\"2\",\"skilled\",\"2\",\"yes\",\"yes\",\"Risk\"],\n",
    "    [\"0_to_200\",\"20\",\"credits_paid_to_date\",\"furniture\",\"2442\",\"less_100\",\"unemployed\",\"3\",\"female\",\"none\",\"1\",\"real_estate\",\"42\",\"none\",\"own\",\"1\",\"skilled\",\"1\",\"none\",\"yes\",\"No Risk\"],\n",
    "    [\"greater_200\",\"4\",\"all_credits_paid_back\",\"education\",\"4206\",\"less_100\",\"unemployed\",\"1\",\"female\",\"none\",\"3\",\"savings_insurance\",\"27\",\"none\",\"own\",\"1\",\"management_self-employed\",\"1\",\"none\",\"yes\",\"No Risk\"],\n",
    "    [\"greater_200\",\"23\",\"credits_paid_to_date\",\"car_used\",\"2963\",\"greater_1000\",\"greater_7\",\"4\",\"male\",\"none\",\"4\",\"car_other\",\"46\",\"none\",\"own\",\"2\",\"skilled\",\"1\",\"none\",\"yes\",\"Risk\"],\n",
    "    [\"no_checking\",\"31\",\"prior_payments_delayed\",\"vacation\",\"2673\",\"500_to_1000\",\"1_to_4\",\"3\",\"male\",\"none\",\"2\",\"real_estate\",\"35\",\"stores\",\"rent\",\"1\",\"skilled\",\"2\",\"none\",\"yes\",\"Risk\"],\n",
    "    [\"no_checking\",\"37\",\"prior_payments_delayed\",\"other\",\"6971\",\"500_to_1000\",\"1_to_4\",\"3\",\"male\",\"none\",\"3\",\"savings_insurance\",\"54\",\"none\",\"own\",\"2\",\"skilled\",\"1\",\"yes\",\"yes\",\"Risk\"],\n",
    "    [\"0_to_200\",\"39\",\"prior_payments_delayed\",\"appliances\",\"5685\",\"100_to_500\",\"1_to_4\",\"4\",\"female\",\"none\",\"2\",\"unknown\",\"37\",\"none\",\"own\",\"2\",\"skilled\",\"1\",\"yes\",\"yes\",\"Risk\"],\n",
    "    [\"no_checking\",\"38\",\"prior_payments_delayed\",\"appliances\",\"4990\",\"500_to_1000\",\"greater_7\",\"4\",\"male\",\"none\",\"4\",\"car_other\",\"50\",\"bank\",\"own\",\"2\",\"unemployed\",\"2\",\"yes\",\"yes\",\"Risk\"]]\n",
    "\n",
    "fields = feature_columns.copy()\n",
    "fields.append('Risk')\n",
    "\n",
    "subscription.feedback_logging.store(feedback_data=records, fields=fields)"
   ]
  },
  {
   "cell_type": "markdown",
   "metadata": {},
   "source": [
    "### Run quality monitoring on demand"
   ]
  },
  {
   "cell_type": "markdown",
   "metadata": {},
   "source": [
    "By default, quality monitoring is run on hourly schedule. You can also trigger it on demand using below code."
   ]
  },
  {
   "cell_type": "code",
   "execution_count": 36,
   "metadata": {
    "scrolled": true
   },
   "outputs": [
    {
     "name": "stdout",
     "output_type": "stream",
     "text": [
      "\n",
      "\n",
      "================================================================================\n",
      "\n",
      " Waiting for end of quality monitoring run 61a40239-55eb-4ffe-86fe-3ca542be14cd \n",
      "\n",
      "================================================================================\n",
      "\n",
      "\n",
      "\n",
      "completed\n",
      "\n",
      "---------------------------\n",
      " Successfully finished run \n",
      "---------------------------\n",
      "\n",
      "\n"
     ]
    }
   ],
   "source": [
    "run_details = subscription.quality_monitoring.run(background_mode=False)"
   ]
  },
  {
   "cell_type": "markdown",
   "metadata": {},
   "source": [
    "### Show the quality metrics"
   ]
  },
  {
   "cell_type": "code",
   "execution_count": 37,
   "metadata": {
    "scrolled": true
   },
   "outputs": [
    {
     "data": {
      "text/html": [
       "<HTML>\n",
       "        <body>\n",
       "            <h3>QualityMetrics (binding_id=6ac4d3c4-862f-4702-8053-9f531466686a, subscription_id=7c3a3f6c-b11c-4d38-a7ca-a179227f5f9f)</h3>\n",
       "            <table style='border: 1px solid #dddddd; font-family: Courier'>\n",
       "                <th style='border: 1px solid #dddddd'>ts</th><th style='border: 1px solid #dddddd'>id</th><th style='border: 1px solid #dddddd'>measurement_id</th><th style='border: 1px solid #dddddd'>value</th><th style='border: 1px solid #dddddd'>lower limit</th><th style='border: 1px solid #dddddd'>upper limit</th><th style='border: 1px solid #dddddd'>tags</th><th style='border: 1px solid #dddddd'>binding_id</th><th style='border: 1px solid #dddddd'>subscription_id</th><th style='border: 1px solid #dddddd'>deployment_id</th>\n",
       "                <tr><td style='border: 1px solid #dddddd'>2020-04-01 18:46:29.070000+00:00</td><td style='border: 1px solid #dddddd'>true_positive_rate</td><td style='border: 1px solid #dddddd'>999201ac-c64b-4316-bdfa-d1d203fdad48</td><td style='border: 1px solid #dddddd'>0.8571428571428571</td><td style='border: 1px solid #dddddd'></td><td style='border: 1px solid #dddddd'></td><td style='border: 1px solid #dddddd'>model_type: original</td><td style='border: 1px solid #dddddd'>6ac4d3c4-862f-4702-8053-9f531466686a</td><td style='border: 1px solid #dddddd'>7c3a3f6c-b11c-4d38-a7ca-a179227f5f9f</td><td style='border: 1px solid #dddddd'>563f01d37f720857b95c557dc76176ad</td></tr><tr><td style='border: 1px solid #dddddd'>2020-04-01 18:46:29.070000+00:00</td><td style='border: 1px solid #dddddd'>area_under_roc</td><td style='border: 1px solid #dddddd'>999201ac-c64b-4316-bdfa-d1d203fdad48</td><td style='border: 1px solid #dddddd'>0.9285714285714286</td><td style='border: 1px solid #dddddd'>0.7</td><td style='border: 1px solid #dddddd'></td><td style='border: 1px solid #dddddd'>model_type: original</td><td style='border: 1px solid #dddddd'>6ac4d3c4-862f-4702-8053-9f531466686a</td><td style='border: 1px solid #dddddd'>7c3a3f6c-b11c-4d38-a7ca-a179227f5f9f</td><td style='border: 1px solid #dddddd'>563f01d37f720857b95c557dc76176ad</td></tr><tr><td style='border: 1px solid #dddddd'>2020-04-01 18:46:29.070000+00:00</td><td style='border: 1px solid #dddddd'>precision</td><td style='border: 1px solid #dddddd'>999201ac-c64b-4316-bdfa-d1d203fdad48</td><td style='border: 1px solid #dddddd'>1.0</td><td style='border: 1px solid #dddddd'></td><td style='border: 1px solid #dddddd'></td><td style='border: 1px solid #dddddd'>model_type: original</td><td style='border: 1px solid #dddddd'>6ac4d3c4-862f-4702-8053-9f531466686a</td><td style='border: 1px solid #dddddd'>7c3a3f6c-b11c-4d38-a7ca-a179227f5f9f</td><td style='border: 1px solid #dddddd'>563f01d37f720857b95c557dc76176ad</td></tr><tr><td style='border: 1px solid #dddddd'>2020-04-01 18:46:29.070000+00:00</td><td style='border: 1px solid #dddddd'>f1_measure</td><td style='border: 1px solid #dddddd'>999201ac-c64b-4316-bdfa-d1d203fdad48</td><td style='border: 1px solid #dddddd'>0.923076923076923</td><td style='border: 1px solid #dddddd'></td><td style='border: 1px solid #dddddd'></td><td style='border: 1px solid #dddddd'>model_type: original</td><td style='border: 1px solid #dddddd'>6ac4d3c4-862f-4702-8053-9f531466686a</td><td style='border: 1px solid #dddddd'>7c3a3f6c-b11c-4d38-a7ca-a179227f5f9f</td><td style='border: 1px solid #dddddd'>563f01d37f720857b95c557dc76176ad</td></tr><tr><td style='border: 1px solid #dddddd'>2020-04-01 18:46:29.070000+00:00</td><td style='border: 1px solid #dddddd'>accuracy</td><td style='border: 1px solid #dddddd'>999201ac-c64b-4316-bdfa-d1d203fdad48</td><td style='border: 1px solid #dddddd'>0.9</td><td style='border: 1px solid #dddddd'></td><td style='border: 1px solid #dddddd'></td><td style='border: 1px solid #dddddd'>model_type: original</td><td style='border: 1px solid #dddddd'>6ac4d3c4-862f-4702-8053-9f531466686a</td><td style='border: 1px solid #dddddd'>7c3a3f6c-b11c-4d38-a7ca-a179227f5f9f</td><td style='border: 1px solid #dddddd'>563f01d37f720857b95c557dc76176ad</td></tr><tr><td style='border: 1px solid #dddddd'>2020-04-01 18:46:29.070000+00:00</td><td style='border: 1px solid #dddddd'>log_loss</td><td style='border: 1px solid #dddddd'>999201ac-c64b-4316-bdfa-d1d203fdad48</td><td style='border: 1px solid #dddddd'>0.10192821288228596</td><td style='border: 1px solid #dddddd'></td><td style='border: 1px solid #dddddd'></td><td style='border: 1px solid #dddddd'>model_type: original</td><td style='border: 1px solid #dddddd'>6ac4d3c4-862f-4702-8053-9f531466686a</td><td style='border: 1px solid #dddddd'>7c3a3f6c-b11c-4d38-a7ca-a179227f5f9f</td><td style='border: 1px solid #dddddd'>563f01d37f720857b95c557dc76176ad</td></tr><tr><td style='border: 1px solid #dddddd'>2020-04-01 18:46:29.070000+00:00</td><td style='border: 1px solid #dddddd'>false_positive_rate</td><td style='border: 1px solid #dddddd'>999201ac-c64b-4316-bdfa-d1d203fdad48</td><td style='border: 1px solid #dddddd'>0.0</td><td style='border: 1px solid #dddddd'></td><td style='border: 1px solid #dddddd'></td><td style='border: 1px solid #dddddd'>model_type: original</td><td style='border: 1px solid #dddddd'>6ac4d3c4-862f-4702-8053-9f531466686a</td><td style='border: 1px solid #dddddd'>7c3a3f6c-b11c-4d38-a7ca-a179227f5f9f</td><td style='border: 1px solid #dddddd'>563f01d37f720857b95c557dc76176ad</td></tr><tr><td style='border: 1px solid #dddddd'>2020-04-01 18:46:29.070000+00:00</td><td style='border: 1px solid #dddddd'>area_under_pr</td><td style='border: 1px solid #dddddd'>999201ac-c64b-4316-bdfa-d1d203fdad48</td><td style='border: 1px solid #dddddd'>0.9785714285714285</td><td style='border: 1px solid #dddddd'></td><td style='border: 1px solid #dddddd'></td><td style='border: 1px solid #dddddd'>model_type: original</td><td style='border: 1px solid #dddddd'>6ac4d3c4-862f-4702-8053-9f531466686a</td><td style='border: 1px solid #dddddd'>7c3a3f6c-b11c-4d38-a7ca-a179227f5f9f</td><td style='border: 1px solid #dddddd'>563f01d37f720857b95c557dc76176ad</td></tr><tr><td style='border: 1px solid #dddddd'>2020-04-01 18:46:29.070000+00:00</td><td style='border: 1px solid #dddddd'>recall</td><td style='border: 1px solid #dddddd'>999201ac-c64b-4316-bdfa-d1d203fdad48</td><td style='border: 1px solid #dddddd'>0.8571428571428571</td><td style='border: 1px solid #dddddd'></td><td style='border: 1px solid #dddddd'></td><td style='border: 1px solid #dddddd'>model_type: original</td><td style='border: 1px solid #dddddd'>6ac4d3c4-862f-4702-8053-9f531466686a</td><td style='border: 1px solid #dddddd'>7c3a3f6c-b11c-4d38-a7ca-a179227f5f9f</td><td style='border: 1px solid #dddddd'>563f01d37f720857b95c557dc76176ad</td></tr>\n",
       "            </table>\n",
       "        </body>\n",
       "        </HTML>"
      ],
      "text/plain": [
       "<IPython.core.display.HTML object>"
      ]
     },
     "metadata": {},
     "output_type": "display_data"
    }
   ],
   "source": [
    "subscription.quality_monitoring.show_table()"
   ]
  },
  {
   "cell_type": "markdown",
   "metadata": {},
   "source": [
    "Get all calculated metrics."
   ]
  },
  {
   "cell_type": "code",
   "execution_count": 38,
   "metadata": {
    "scrolled": true
   },
   "outputs": [],
   "source": [
    "deployment_uids = subscription.get_deployment_uids()"
   ]
  },
  {
   "cell_type": "code",
   "execution_count": 39,
   "metadata": {
    "scrolled": true
   },
   "outputs": [
    {
     "name": "stdout",
     "output_type": "stream",
     "text": [
      "[\n",
      "  {\n",
      "    \"asset_id\": \"085460ef94636166aea5800e9ea26168\",\n",
      "    \"binding_id\": \"6ac4d3c4-862f-4702-8053-9f531466686a\",\n",
      "    \"tags\": [\n",
      "      {\n",
      "        \"id\": \"model_type\",\n",
      "        \"value\": \"original\"\n",
      "      }\n",
      "    ],\n",
      "    \"ts\": \"2020-04-01T18:46:29.070Z\",\n",
      "    \"measurement_id\": \"999201ac-c64b-4316-bdfa-d1d203fdad48\",\n",
      "    \"monitor_definition_id\": \"quality\",\n",
      "    \"subscription_id\": \"7c3a3f6c-b11c-4d38-a7ca-a179227f5f9f\",\n",
      "    \"metrics\": [\n",
      "      {\n",
      "        \"id\": \"true_positive_rate\",\n",
      "        \"value\": 0.8571428571428571\n",
      "      },\n",
      "      {\n",
      "        \"lower_limit\": 0.7,\n",
      "        \"id\": \"area_under_roc\",\n",
      "        \"value\": 0.9285714285714286\n",
      "      },\n",
      "      {\n",
      "        \"id\": \"precision\",\n",
      "        \"value\": 1.0\n",
      "      },\n",
      "      {\n",
      "        \"id\": \"f1_measure\",\n",
      "        \"value\": 0.923076923076923\n",
      "      },\n",
      "      {\n",
      "        \"id\": \"accuracy\",\n",
      "        \"value\": 0.9\n",
      "      },\n",
      "      {\n",
      "        \"id\": \"log_loss\",\n",
      "        \"value\": 0.10192821288228596\n",
      "      },\n",
      "      {\n",
      "        \"id\": \"false_positive_rate\",\n",
      "        \"value\": 0.0\n",
      "      },\n",
      "      {\n",
      "        \"id\": \"area_under_pr\",\n",
      "        \"value\": 0.9785714285714285\n",
      "      },\n",
      "      {\n",
      "        \"id\": \"recall\",\n",
      "        \"value\": 0.8571428571428571\n",
      "      }\n",
      "    ],\n",
      "    \"deployment_id\": \"563f01d37f720857b95c557dc76176ad\"\n",
      "  }\n",
      "]\n"
     ]
    }
   ],
   "source": [
    "metrics = subscription.quality_monitoring.get_metrics(deployment_uid=deployment_uids[0])\n",
    "print(json.dumps(metrics, indent=2))"
   ]
  },
  {
   "cell_type": "markdown",
   "metadata": {},
   "source": [
    "### Get metrics as pandas dataframe"
   ]
  },
  {
   "cell_type": "code",
   "execution_count": 40,
   "metadata": {
    "scrolled": true
   },
   "outputs": [
    {
     "data": {
      "image/png": "[encoded data removed]",
      "text/plain": [
       "<Figure size 432x288 with 1 Axes>"
      ]
     },
     "metadata": {
      "needs_background": "light"
     },
     "output_type": "display_data"
    }
   ],
   "source": [
    "quality_metrics_pandas = subscription.quality_monitoring.get_table_content()\n",
    "\n",
    "%matplotlib inline\n",
    "quality_metrics_pandas.plot.barh(x='id', y='value');"
   ]
  },
  {
   "cell_type": "markdown",
   "metadata": {},
   "source": [
    "## 6. Fairness, Drift monitoring and explanations"
   ]
  },
  {
   "cell_type": "markdown",
   "metadata": {},
   "source": [
    "### Fairness monitor configuration"
   ]
  },
  {
   "cell_type": "code",
   "execution_count": 41,
   "metadata": {
    "scrolled": true
   },
   "outputs": [],
   "source": [
    "from ibm_ai_openscale.supporting_classes.feature import Feature\n",
    "\n",
    "subscription.fairness_monitoring.enable(\n",
    "            training_data=training_data_pd,\n",
    "            features=[\n",
    "                Feature(\"Sex\", majority=['male'], minority=['female'], threshold=0.95),\n",
    "                Feature(\"Age\", majority=[[26, 75]], minority=[[18, 25]], threshold=0.95)\n",
    "            ],\n",
    "            favourable_classes=['No Risk'],\n",
    "            unfavourable_classes=['Risk'],\n",
    "            min_records=5\n",
    "        )"
   ]
  },
  {
   "cell_type": "markdown",
   "metadata": {},
   "source": [
    "### Run fairness monitor on demand"
   ]
  },
  {
   "cell_type": "code",
   "execution_count": 42,
   "metadata": {
    "scrolled": true
   },
   "outputs": [
    {
     "name": "stdout",
     "output_type": "stream",
     "text": [
      "\n",
      "\n",
      "===================================================================\n",
      "\n",
      " Counting bias for deployment_uid=563f01d37f720857b95c557dc76176ad \n",
      "\n",
      "===================================================================\n",
      "\n",
      "\n",
      "\n",
      "RUNNING\n",
      "FINISHED\n",
      "\n",
      "---------------------------\n",
      " Successfully finished run \n",
      "---------------------------\n",
      "\n",
      "\n"
     ]
    }
   ],
   "source": [
    "fairness_run = subscription.fairness_monitoring.run(background_mode=False)"
   ]
  },
  {
   "cell_type": "markdown",
   "metadata": {},
   "source": [
    "### Show run results"
   ]
  },
  {
   "cell_type": "code",
   "execution_count": 43,
   "metadata": {
    "scrolled": true
   },
   "outputs": [
    {
     "data": {
      "text/html": [
       "<HTML>\n",
       "        <body>\n",
       "            <h3>FairnessMetrics (binding_id=6ac4d3c4-862f-4702-8053-9f531466686a, subscription_id=7c3a3f6c-b11c-4d38-a7ca-a179227f5f9f)</h3>\n",
       "            <table style='border: 1px solid #dddddd; font-family: Courier'>\n",
       "                <th style='border: 1px solid #dddddd'>ts</th><th style='border: 1px solid #dddddd'>feature</th><th style='border: 1px solid #dddddd'>feature_value</th><th style='border: 1px solid #dddddd'>fairness_biased</th><th style='border: 1px solid #dddddd'>fairness_value</th><th style='border: 1px solid #dddddd'>fairness_fav_class</th><th style='border: 1px solid #dddddd'>binding_id</th><th style='border: 1px solid #dddddd'>subscription_id</th><th style='border: 1px solid #dddddd'>asset_revision</th><th style='border: 1px solid #dddddd'>deployment_id</th><th style='border: 1px solid #dddddd'>process</th>\n",
       "                <tr><td style='border: 1px solid #dddddd'>2020-04-01 18:47:05.781993+00:00</td><td style='border: 1px solid #dddddd'>Sex</td><td style='border: 1px solid #dddddd'>female</td><td style='border: 1px solid #dddddd'>False</td><td style='border: 1px solid #dddddd'>1.0</td><td style='border: 1px solid #dddddd'>100.0</td><td style='border: 1px solid #dddddd'>6ac4d3c4-862f-4702-8053-9f531466686a</td><td style='border: 1px solid #dddddd'>7c3a3f6c-b11c-4d38-a7ca-a179227f5f9f</td><td style='border: 1px solid #dddddd'>7c3a3f6c-b11c-4d38-a7ca-a179227f5f9f</td><td style='border: 1px solid #dddddd'>563f01d37f720857b95c557dc76176ad</td><td style='border: 1px solid #dddddd'></td></tr><tr><td style='border: 1px solid #dddddd'>2020-04-01 18:47:05.781993+00:00</td><td style='border: 1px solid #dddddd'>Age</td><td style='border: 1px solid #dddddd'>[18, 25]</td><td style='border: 1px solid #dddddd'>False</td><td style='border: 1px solid #dddddd'>1.667</td><td style='border: 1px solid #dddddd'>100.0</td><td style='border: 1px solid #dddddd'>6ac4d3c4-862f-4702-8053-9f531466686a</td><td style='border: 1px solid #dddddd'>7c3a3f6c-b11c-4d38-a7ca-a179227f5f9f</td><td style='border: 1px solid #dddddd'>7c3a3f6c-b11c-4d38-a7ca-a179227f5f9f</td><td style='border: 1px solid #dddddd'>563f01d37f720857b95c557dc76176ad</td><td style='border: 1px solid #dddddd'></td></tr>\n",
       "            </table>\n",
       "        </body>\n",
       "        </HTML>"
      ],
      "text/plain": [
       "<IPython.core.display.HTML object>"
      ]
     },
     "metadata": {},
     "output_type": "display_data"
    }
   ],
   "source": [
    "subscription.fairness_monitoring.show_table()"
   ]
  },
  {
   "cell_type": "markdown",
   "metadata": {},
   "source": [
    "### Explainability configuration"
   ]
  },
  {
   "cell_type": "code",
   "execution_count": 49,
   "metadata": {
    "scrolled": true
   },
   "outputs": [],
   "source": [
    "subscription.explainability.enable(training_data=training_data_pd)"
   ]
  },
  {
   "cell_type": "markdown",
   "metadata": {},
   "source": [
    "### Run explanation"
   ]
  },
  {
   "cell_type": "markdown",
   "metadata": {},
   "source": [
    "Get sample transaction/scoring id. You can also use `subscription.payload_logging.show_table()` to see list of your transactions (`scoring_id` column)."
   ]
  },
  {
   "cell_type": "code",
   "execution_count": 50,
   "metadata": {
    "scrolled": true
   },
   "outputs": [
    {
     "name": "stdout",
     "output_type": "stream",
     "text": [
      "Sample transaction/scoring id:  219dbfc5-18e7-48cf-bcab-94de377ec475-1\n"
     ]
    }
   ],
   "source": [
    "transaction_id = subscription.payload_logging.get_table_content(limit=1)['scoring_id'][0]\n",
    "print('Sample transaction/scoring id: ', transaction_id)"
   ]
  },
  {
   "cell_type": "code",
   "execution_count": 51,
   "metadata": {
    "scrolled": true
   },
   "outputs": [
    {
     "name": "stdout",
     "output_type": "stream",
     "text": [
      "\n",
      "\n",
      "====================================================================\n",
      "\n",
      " Looking for explanation for 219dbfc5-18e7-48cf-bcab-94de377ec475-1 \n",
      "\n",
      "====================================================================\n",
      "\n",
      "\n",
      "\n",
      "in_progress..\n",
      "finished\n",
      "\n",
      "---------------------------\n",
      " Successfully finished run \n",
      "---------------------------\n",
      "\n",
      "\n"
     ]
    }
   ],
   "source": [
    "explain_run = subscription.explainability.run(transaction_id=transaction_id, background_mode=False)"
   ]
  },
  {
   "cell_type": "code",
   "execution_count": 52,
   "metadata": {
    "scrolled": true
   },
   "outputs": [
    {
     "data": {
      "image/png": "[encoded data removed]",
      "text/plain": [
       "<matplotlib.figure.Figure at 0x7f636a022f98>"
      ]
     },
     "metadata": {},
     "output_type": "display_data"
    }
   ],
   "source": [
    "explanation_result = pd.DataFrame.from_dict(explain_run['entity']['predictions'][0]['explanation_features'])\n",
    "explanation_result.plot.barh(x='feature_name', y='weight', color='g', alpha=0.8);"
   ]
  },
  {
   "cell_type": "markdown",
   "metadata": {},
   "source": [
    "### Drift monitor configuration"
   ]
  },
  {
   "cell_type": "markdown",
   "metadata": {},
   "source": [
    "#### Drift requires a trained model to be uploaded manually for Azure. You can train, create and download a drift detection model using template given ( check for Drift detection model generation) [here](https://github.com/IBM-Watson/aios-data-distribution/blob/master/training_statistics_notebook.ipynb)"
   ]
  },
  {
   "cell_type": "code",
   "execution_count": 44,
   "metadata": {},
   "outputs": [
    {
     "name": "stdout",
     "output_type": "stream",
     "text": [
      "--2020-04-01 18:47:33--  https://github.com/pmservice/ai-openscale-tutorials/blob/master/assets/models/creditrisk_azure_drift_detection_model.tar.gz?raw=true\n",
      "Resolving github.com (github.com)... 140.82.112.3\n",
      "Connecting to github.com (github.com)|140.82.112.3|:443... connected.\n",
      "HTTP request sent, awaiting response... 302 Found\n",
      "Location: https://github.com/pmservice/ai-openscale-tutorials/raw/master/assets/models/creditrisk_azure_drift_detection_model.tar.gz [following]\n",
      "--2020-04-01 18:47:33--  https://github.com/pmservice/ai-openscale-tutorials/raw/master/assets/models/creditrisk_azure_drift_detection_model.tar.gz\n",
      "Reusing existing connection to github.com:443.\n",
      "HTTP request sent, awaiting response... 302 Found\n",
      "Location: https://raw.githubusercontent.com/pmservice/ai-openscale-tutorials/master/assets/models/creditrisk_azure_drift_detection_model.tar.gz [following]\n",
      "--2020-04-01 18:47:33--  https://raw.githubusercontent.com/pmservice/ai-openscale-tutorials/master/assets/models/creditrisk_azure_drift_detection_model.tar.gz\n",
      "Resolving raw.githubusercontent.com (raw.githubusercontent.com)... 151.101.48.133\n",
      "Connecting to raw.githubusercontent.com (raw.githubusercontent.com)|151.101.48.133|:443... connected.\n",
      "HTTP request sent, awaiting response... 200 OK\n",
      "Length: 229416 (224K) [application/octet-stream]\n",
      "Saving to: ‘creditrisk_azure_drift_detection_model.tar.gz’\n",
      "\n",
      "100%[======================================>] 229,416     --.-K/s   in 0.02s   \n",
      "\n",
      "2020-04-01 18:47:34 (13.4 MB/s) - ‘creditrisk_azure_drift_detection_model.tar.gz’ saved [229416/229416]\n",
      "\n"
     ]
    }
   ],
   "source": [
    "!rm -rf creditrisk_azure_drift_detection_model.tar.gz\n",
    "!wget -O creditrisk_azure_drift_detection_model.tar.gz https://github.com/pmservice/ai-openscale-tutorials/blob/master/assets/models/creditrisk_azure_drift_detection_model.tar.gz?raw=true "
   ]
  },
  {
   "cell_type": "code",
   "execution_count": 45,
   "metadata": {},
   "outputs": [
    {
     "data": {
      "text/plain": [
       "{'config_status': {'state': 'finished'},\n",
       " 'data_drift_enabled': True,\n",
       " 'drift_threshold': 0.1,\n",
       " 'is_schedule_enabled': True,\n",
       " 'min_samples': 5,\n",
       " 'model_drift_enabled': True,\n",
       " 'next_scheduled_run_timestamp': '2020-04-01T18:49:38.709431Z',\n",
       " 'schedule_repeat_interval': 3,\n",
       " 'schedule_repeat_type': 'hour'}"
      ]
     },
     "execution_count": 45,
     "metadata": {},
     "output_type": "execute_result"
    }
   ],
   "source": [
    "subscription.drift_monitoring.enable(threshold=0.1, min_records=5,model_path=\"creditrisk_azure_drift_detection_model.tar.gz\")"
   ]
  },
  {
   "cell_type": "markdown",
   "metadata": {},
   "source": [
    "### Run Drift monitor on demand"
   ]
  },
  {
   "cell_type": "code",
   "execution_count": 46,
   "metadata": {},
   "outputs": [
    {
     "name": "stdout",
     "output_type": "stream",
     "text": [
      "\n",
      "\n",
      "==========================================\n",
      "\n",
      " Waiting for end of drift monitoring run  \n",
      "\n",
      "==========================================\n",
      "\n",
      "\n",
      "\n",
      "RUNNING\n",
      "COMPLETED\n",
      "\n",
      "---------------------------\n",
      " Successfully finished run \n",
      "---------------------------\n",
      "\n",
      "\n"
     ]
    }
   ],
   "source": [
    "drift_run_details = subscription.drift_monitoring.run(background_mode=False)"
   ]
  },
  {
   "cell_type": "code",
   "execution_count": 47,
   "metadata": {},
   "outputs": [
    {
     "data": {
      "text/html": [
       "<div>\n",
       "<style scoped>\n",
       "    .dataframe tbody tr th:only-of-type {\n",
       "        vertical-align: middle;\n",
       "    }\n",
       "\n",
       "    .dataframe tbody tr th {\n",
       "        vertical-align: top;\n",
       "    }\n",
       "\n",
       "    .dataframe thead th {\n",
       "        text-align: right;\n",
       "    }\n",
       "</style>\n",
       "<table border=\"1\" class=\"dataframe\">\n",
       "  <thead>\n",
       "    <tr style=\"text-align: right;\">\n",
       "      <th></th>\n",
       "      <th>ts</th>\n",
       "      <th>id</th>\n",
       "      <th>measurement_id</th>\n",
       "      <th>value</th>\n",
       "      <th>lower limit</th>\n",
       "      <th>upper limit</th>\n",
       "      <th>tags</th>\n",
       "      <th>binding_id</th>\n",
       "      <th>subscription_id</th>\n",
       "      <th>deployment_id</th>\n",
       "    </tr>\n",
       "  </thead>\n",
       "  <tbody>\n",
       "    <tr>\n",
       "      <th>0</th>\n",
       "      <td>2020-04-01 18:47:51.233402+00:00</td>\n",
       "      <td>data_drift_magnitude</td>\n",
       "      <td>f181bb7a-359c-4efe-88b1-23e660cdd0eb</td>\n",
       "      <td>0.000</td>\n",
       "      <td></td>\n",
       "      <td></td>\n",
       "      <td></td>\n",
       "      <td>6ac4d3c4-862f-4702-8053-9f531466686a</td>\n",
       "      <td>7c3a3f6c-b11c-4d38-a7ca-a179227f5f9f</td>\n",
       "      <td>563f01d37f720857b95c557dc76176ad</td>\n",
       "    </tr>\n",
       "    <tr>\n",
       "      <th>1</th>\n",
       "      <td>2020-04-01 18:47:51.233402+00:00</td>\n",
       "      <td>drift_magnitude</td>\n",
       "      <td>f181bb7a-359c-4efe-88b1-23e660cdd0eb</td>\n",
       "      <td>0.413</td>\n",
       "      <td></td>\n",
       "      <td>0.1</td>\n",
       "      <td></td>\n",
       "      <td>6ac4d3c4-862f-4702-8053-9f531466686a</td>\n",
       "      <td>7c3a3f6c-b11c-4d38-a7ca-a179227f5f9f</td>\n",
       "      <td>563f01d37f720857b95c557dc76176ad</td>\n",
       "    </tr>\n",
       "    <tr>\n",
       "      <th>2</th>\n",
       "      <td>2020-04-01 18:47:51.233402+00:00</td>\n",
       "      <td>predicted_accuracy</td>\n",
       "      <td>f181bb7a-359c-4efe-88b1-23e660cdd0eb</td>\n",
       "      <td>0.500</td>\n",
       "      <td></td>\n",
       "      <td></td>\n",
       "      <td></td>\n",
       "      <td>6ac4d3c4-862f-4702-8053-9f531466686a</td>\n",
       "      <td>7c3a3f6c-b11c-4d38-a7ca-a179227f5f9f</td>\n",
       "      <td>563f01d37f720857b95c557dc76176ad</td>\n",
       "    </tr>\n",
       "  </tbody>\n",
       "</table>\n",
       "</div>"
      ],
      "text/plain": [
       "                                ts                    id  \\\n",
       "0 2020-04-01 18:47:51.233402+00:00  data_drift_magnitude   \n",
       "1 2020-04-01 18:47:51.233402+00:00       drift_magnitude   \n",
       "2 2020-04-01 18:47:51.233402+00:00    predicted_accuracy   \n",
       "\n",
       "                         measurement_id  value lower limit upper limit tags  \\\n",
       "0  f181bb7a-359c-4efe-88b1-23e660cdd0eb  0.000                                \n",
       "1  f181bb7a-359c-4efe-88b1-23e660cdd0eb  0.413                     0.1        \n",
       "2  f181bb7a-359c-4efe-88b1-23e660cdd0eb  0.500                                \n",
       "\n",
       "                             binding_id                       subscription_id  \\\n",
       "0  6ac4d3c4-862f-4702-8053-9f531466686a  7c3a3f6c-b11c-4d38-a7ca-a179227f5f9f   \n",
       "1  6ac4d3c4-862f-4702-8053-9f531466686a  7c3a3f6c-b11c-4d38-a7ca-a179227f5f9f   \n",
       "2  6ac4d3c4-862f-4702-8053-9f531466686a  7c3a3f6c-b11c-4d38-a7ca-a179227f5f9f   \n",
       "\n",
       "                      deployment_id  \n",
       "0  563f01d37f720857b95c557dc76176ad  \n",
       "1  563f01d37f720857b95c557dc76176ad  \n",
       "2  563f01d37f720857b95c557dc76176ad  "
      ]
     },
     "execution_count": 47,
     "metadata": {},
     "output_type": "execute_result"
    }
   ],
   "source": [
    "subscription.drift_monitoring.get_table_content()"
   ]
  },
  {
   "cell_type": "markdown",
   "metadata": {},
   "source": [
    "## 7. Payload analytics"
   ]
  },
  {
   "cell_type": "markdown",
   "metadata": {},
   "source": [
    "### Run data distributions calculation"
   ]
  },
  {
   "cell_type": "code",
   "execution_count": 48,
   "metadata": {
    "scrolled": true
   },
   "outputs": [
    {
     "name": "stdout",
     "output_type": "stream",
     "text": [
      "\n",
      "\n",
      "===============================================================================\n",
      "\n",
      " Waiting for end of data distribution run 04e01728-bf9d-4e69-aa45-8f50d27af8aa \n",
      "\n",
      "===============================================================================\n",
      "\n",
      "\n",
      "\n",
      "completed\n",
      "\n",
      "---------------------------\n",
      " Successfully finished run \n",
      "---------------------------\n",
      "\n",
      "\n"
     ]
    }
   ],
   "source": [
    "from datetime import datetime\n",
    "\n",
    "start_date = \"2018-01-01T00:00:00.00Z\"\n",
    "end_date = datetime.utcnow().isoformat() + \"Z\"\n",
    "\n",
    "sex_distribution = subscription.payload_logging.data_distribution.run(\n",
    "            start_date=start_date,\n",
    "            end_date=end_date,\n",
    "            group=['Scored Labels', 'Sex'],\n",
    "            agg=['count'])"
   ]
  },
  {
   "cell_type": "markdown",
   "metadata": {},
   "source": [
    "### Get data distributions as pandas dataframe"
   ]
  },
  {
   "cell_type": "code",
   "execution_count": 49,
   "metadata": {
    "scrolled": true
   },
   "outputs": [],
   "source": [
    "sex_distribution_run_uid = sex_distribution['id']"
   ]
  },
  {
   "cell_type": "code",
   "execution_count": 50,
   "metadata": {
    "scrolled": true
   },
   "outputs": [
    {
     "data": {
      "text/html": [
       "<div>\n",
       "<style scoped>\n",
       "    .dataframe tbody tr th:only-of-type {\n",
       "        vertical-align: middle;\n",
       "    }\n",
       "\n",
       "    .dataframe tbody tr th {\n",
       "        vertical-align: top;\n",
       "    }\n",
       "\n",
       "    .dataframe thead th {\n",
       "        text-align: right;\n",
       "    }\n",
       "</style>\n",
       "<table border=\"1\" class=\"dataframe\">\n",
       "  <thead>\n",
       "    <tr style=\"text-align: right;\">\n",
       "      <th></th>\n",
       "      <th>Scored Labels</th>\n",
       "      <th>Sex</th>\n",
       "      <th>count</th>\n",
       "    </tr>\n",
       "  </thead>\n",
       "  <tbody>\n",
       "    <tr>\n",
       "      <th>0</th>\n",
       "      <td>No Risk</td>\n",
       "      <td>female</td>\n",
       "      <td>9</td>\n",
       "    </tr>\n",
       "    <tr>\n",
       "      <th>1</th>\n",
       "      <td>No Risk</td>\n",
       "      <td>male</td>\n",
       "      <td>9</td>\n",
       "    </tr>\n",
       "  </tbody>\n",
       "</table>\n",
       "</div>"
      ],
      "text/plain": [
       "  Scored Labels     Sex  count\n",
       "0       No Risk  female      9\n",
       "1       No Risk    male      9"
      ]
     },
     "execution_count": 50,
     "metadata": {},
     "output_type": "execute_result"
    }
   ],
   "source": [
    "distributions_pd = subscription.payload_logging.data_distribution.get_run_result(run_id=sex_distribution_run_uid, format='pandas')\n",
    "distributions_pd"
   ]
  },
  {
   "cell_type": "markdown",
   "metadata": {},
   "source": [
    "### Visualize"
   ]
  },
  {
   "cell_type": "code",
   "execution_count": 51,
   "metadata": {
    "scrolled": true
   },
   "outputs": [
    {
     "data": {
      "image/png": "[encoded data removed]",
      "text/plain": [
       "<Figure size 432x288 with 1 Axes>"
      ]
     },
     "metadata": {
      "needs_background": "light"
     },
     "output_type": "display_data"
    }
   ],
   "source": [
    "subscription.payload_logging.data_distribution.show_chart(sex_distribution_run_uid);"
   ]
  },
  {
   "cell_type": "markdown",
   "metadata": {},
   "source": [
    "---"
   ]
  },
  {
   "cell_type": "markdown",
   "metadata": {},
   "source": [
    "## Congratulations!"
   ]
  },
  {
   "cell_type": "markdown",
   "metadata": {},
   "source": [
    "You have finished the tutorial for IBM Watson OpenScale and Azure Machine Learning Studio. You can now view the [OpenScale Dashboard](https://aiopenscale.cloud.ibm.com/). Click on the tile for the German Credit model to see fairness, accuracy, and performance monitors. Click on the timeseries graph to get detailed information on transactions during a specific time window.\n",
    "\n"
   ]
  },
  {
   "cell_type": "markdown",
   "metadata": {},
   "source": [
    "---"
   ]
  },
  {
   "cell_type": "markdown",
   "metadata": {},
   "source": [
    "### Authors\n",
    "Lukasz Cmielowski, PhD, is an Automation Architect and Data Scientist at IBM with a track record of developing enterprise-level applications that substantially increases clients' ability to turn data into actionable knowledge.\n",
    "\n",
    "Rounok Salehin,Data Scientist and Cognitive Developer at IBM with experties in enterprise-level machine learning/AI applications development emphasize on turning data into descriptive/actionable outcomes."
   ]
  },
  {
   "cell_type": "code",
   "execution_count": null,
   "metadata": {},
   "outputs": [],
   "source": []
  }
 ],
 "metadata": {
  "kernelspec": {
   "display_name": "Python 3",
   "language": "python",
   "name": "python3"
  },
  "language_info": {
   "codemirror_mode": {
    "name": "ipython",
    "version": 3
   },
   "file_extension": ".py",
   "mimetype": "text/x-python",
   "name": "python",
   "nbconvert_exporter": "python",
   "pygments_lexer": "ipython3",
   "version": "3.7.3"
  },
  "varInspector": {
   "cols": {
    "lenName": 16,
    "lenType": 16,
    "lenVar": 40
   },
   "kernels_config": {
    "python": {
     "delete_cmd_postfix": "",
     "delete_cmd_prefix": "del ",
     "library": "var_list.py",
     "varRefreshCmd": "print(var_dic_list())"
    },
    "r": {
     "delete_cmd_postfix": ") ",
     "delete_cmd_prefix": "rm(",
     "library": "var_list.r",
     "varRefreshCmd": "cat(var_dic_list()) "
    }
   },
   "types_to_exclude": [
    "module",
    "function",
    "builtin_function_or_method",
    "instance",
    "_Feature"
   ],
   "window_display": false
  }
 },
 "nbformat": 4,
 "nbformat_minor": 1
}
